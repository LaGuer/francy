{
 "cells": [
  {
   "cell_type": "markdown",
   "metadata": {},
   "source": [
    "### Load Francy Package"
   ]
  },
  {
   "cell_type": "code",
   "execution_count": 2,
   "metadata": {},
   "outputs": [
    {
     "name": "stdout",
     "output_type": "stream",
     "text": [
      "\u0003#I  \u0003\u0003method installed for Add matches more tha\u0003n one declaration\u0003\u0003\n",
      "\u0003\u0003#I  \u0003\u0003method installed for Remove matches more \u0003than one declaration\u0003\u0003\n",
      "\u0003\u0003#I  \u0003\u0003Please load package NormalizInterface or \u00034ti2Interface\u0003\u0003\n",
      "\u0003\u0003#I  \u0003\u0003to have extended functionalities.\u0003\u0003\n",
      "\u0003\u0003#I  \u0003\u0003Please load package SingularInterface or \u0003singular (not both)\u0003\u0003\n",
      "\u0003\u0003#I  \u0003\u0003or GradedModules to have extended functio\u0003nalities.\u0003\u0003\n",
      "\u0003"
     ]
    },
    {
     "data": {
      "text/plain": [
       "true"
      ]
     },
     "execution_count": 1,
     "metadata": {},
     "output_type": "execute_result"
    },
    {
     "data": {
      "text/plain": [
       "true"
      ]
     },
     "execution_count": 2,
     "metadata": {},
     "output_type": "execute_result"
    }
   ],
   "source": [
    "LoadPackage(\"francy\");\n",
    "LoadPackage(\"num\");"
   ]
  },
  {
   "cell_type": "markdown",
   "metadata": {},
   "source": [
    "# Drawing Apéry sets"
   ]
  },
  {
   "cell_type": "markdown",
   "metadata": {},
   "source": [
    "This example draws the Apéry set of a numerical semigrup with respect to its multiplicity. By passing over a node with the mouse, the set of factorizations with respect to the minimal generating system of the numerical semigroup is displayed. Clicking a node produces a message with the same information."
   ]
  },
  {
   "cell_type": "code",
   "execution_count": 6,
   "metadata": {},
   "outputs": [
    {
     "data": {
      "text/plain": [
       "<object>"
      ]
     },
     "execution_count": 3,
     "metadata": {},
     "output_type": "execute_result"
    },
    {
     "data": {
      "text/plain": [
       "<object>"
      ]
     },
     "execution_count": 4,
     "metadata": {},
     "output_type": "execute_result"
    },
    {
     "data": {
      "text/plain": [
       "function( arg... ) ... end"
      ]
     },
     "execution_count": 6,
     "metadata": {},
     "output_type": "execute_result"
    }
   ],
   "source": [
    "canvas:=Canvas(\"Apery\");\n",
    "graphHasse := Graph(GraphType.HASSE);\n",
    "Add(canvas,graphHasse);\n",
    "\n",
    "apery:=function(arg)\n",
    "    local ap,c,hasse, s, n, r, aps, es, i, order, showfacts;\n",
    "    # rel is a list of lists with two elements representin a binary relation\n",
    "    # hasse(rel) removes from rel the pairs [x,y] such that there exists\n",
    "    # z with [x,z],[z,y] in rel\n",
    "    hasse:=function(rel)\n",
    "      local dom, out;\n",
    "      dom:=Flat(rel);\n",
    "      out:=Filtered(rel, p-> ForAny(dom, x->([p[1],x] in rel) and ([x,p[2]] in rel)));\n",
    "      return Difference(rel,out);\n",
    "    end;\n",
    "\n",
    "    order:=function(x)\n",
    "        return Maximum(LengthsOfFactorizationsElementWRTNumericalSemigroup(x,s));\n",
    "    end;\n",
    "\n",
    "    showfacts:=function(x)\n",
    "        Add(canvas, HintMessage(Concatenation(String(x), \" factors as \"),\n",
    "                    String(FactorizationsElementWRTNumericalSemigroup(x,s))));\n",
    "        return Draw(canvas);\n",
    "    end;\n",
    "    if Length(arg)=1 then\n",
    "        s:=arg[1];\n",
    "        n:=MultiplicityOfNumericalSemigroup(s);\n",
    "    fi;\n",
    "    if Length(arg)=2 then\n",
    "        s:=arg[1];\n",
    "        n:=arg[2];\n",
    "    fi;\n",
    "    if Length(arg)>2 then\n",
    "        Error(\"The number of arguments must be one or two\");\n",
    "    fi;\n",
    "  \n",
    "    \n",
    "    #graphHasse!.simulation:=true;\n",
    "    ap:=AperyList(s,n);\n",
    "    c:=Cartesian([1..n],[1..n]);\n",
    "    c:=Filtered(c, p-> ap[p[2]]<>ap[p[1]]);\n",
    "    c:=Filtered(c, p-> ap[p[1]]-ap[p[2]] in s);\n",
    "    c:=hasse(c);\n",
    "    aps:=[];\n",
    "    for i in [1..n] do\n",
    "        aps[i]:=Shape(ShapeType!.CIRCLE, String(ap[i]));\n",
    "        aps[i]!.layer:=-order(ap[i]);\n",
    "        Add(aps[i],Callback(showfacts,[ap[i]]));\n",
    "        Add(aps[i],HintMessage(String(FactorizationsElementWRTNumericalSemigroup(ap[i],s))));\n",
    "        Add(graphHasse,aps[i]);\n",
    "    od;\n",
    "    for r in c do\n",
    "        Add(graphHasse,Link(aps[r[1]],aps[r[2]]));\n",
    "    od;\n",
    "\n",
    "    return Draw(canvas);    \n",
    "end;"
   ]
  },
  {
   "cell_type": "code",
   "execution_count": 7,
   "metadata": {
    "scrolled": false
   },
   "outputs": [
    {
     "data": {
      "application/vnd.francy+json": "{\"version\" : \"0.5.0\",\"mime\" : \"application\\/vnd.francy+json\",\"canvas\" : {\"width\" : \"800\",\"height\" : \"600\",\"id\" : \"A1\",\"title\" : \"Apery\",\"zoomToFit\" : true,\"menus\" : {},\"graph\" : {\"type\" : \"hasse\",\"collapse\" : true,\"id\" : \"A2\",\"simulation\" : true,\"drag\" : false,\"nodes\" : {\"A3\" : {\"x\" : 0,\"y\" : 0,\"type\" : \"circle\",\"size\" : 10,\"id\" : \"A3\",\"title\" : \"0\",\"layer\" : 0,\"highlight\" : true,\"menus\" : {},\"messages\" : {\"A5\" : {\"type\" : \"default\",\"id\" : \"A5\",\"text\" : \"[ [ 0, 0, 0 ] ]\",\"title\" : \"\"}},\"callbacks\" : {\"A4\" : {\"func\" : \"unknown\",\"id\" : \"A4\",\"trigger\" : \"click\",\"knownArgs\" : [\"0\"],\"requiredArgs\" : {}}},\"parent\" : \"\"},\"A6\" : {\"x\" : 0,\"y\" : 0,\"type\" : \"circle\",\"size\" : 10,\"id\" : \"A6\",\"title\" : \"31\",\"layer\" : -1,\"highlight\" : true,\"menus\" : {},\"messages\" : {\"A8\" : {\"type\" : \"default\",\"id\" : \"A8\",\"text\" : \"[ [ 0, 0, 1 ] ]\",\"title\" : \"\"}},\"callbacks\" : {\"A7\" : {\"func\" : \"unknown\",\"id\" : \"A7\",\"trigger\" : \"click\",\"knownArgs\" : [\"31\"],\"requiredArgs\" : {}}},\"parent\" : \"\"},\"A9\" : {\"x\" : 0,\"y\" : 0,\"type\" : \"circle\",\"size\" : 10,\"id\" : \"A9\",\"title\" : \"62\",\"layer\" : -2,\"highlight\" : true,\"menus\" : {},\"messages\" : {\"A11\" : {\"type\" : \"default\",\"id\" : \"A11\",\"text\" : \"[ [ 0, 0, 2 ] ]\",\"title\" : \"\"}},\"callbacks\" : {\"A10\" : {\"func\" : \"unknown\",\"id\" : \"A10\",\"trigger\" : \"click\",\"knownArgs\" : [\"62\"],\"requiredArgs\" : {}}},\"parent\" : \"\"},\"A12\" : {\"x\" : 0,\"y\" : 0,\"type\" : \"circle\",\"size\" : 10,\"id\" : \"A12\",\"title\" : \"93\",\"layer\" : -3,\"highlight\" : true,\"menus\" : {},\"messages\" : {\"A14\" : {\"type\" : \"default\",\"id\" : \"A14\",\"text\" : \"[ [ 0, 0, 3 ] ]\",\"title\" : \"\"}},\"callbacks\" : {\"A13\" : {\"func\" : \"unknown\",\"id\" : \"A13\",\"trigger\" : \"click\",\"knownArgs\" : [\"93\"],\"requiredArgs\" : {}}},\"parent\" : \"\"},\"A15\" : {\"x\" : 0,\"y\" : 0,\"type\" : \"circle\",\"size\" : 10,\"id\" : \"A15\",\"title\" : \"54\",\"layer\" : -2,\"highlight\" : true,\"menus\" : {},\"messages\" : {\"A17\" : {\"type\" : \"default\",\"id\" : \"A17\",\"text\" : \"[ [ 0, 2, 0 ] ]\",\"title\" : \"\"}},\"callbacks\" : {\"A16\" : {\"func\" : \"unknown\",\"id\" : \"A16\",\"trigger\" : \"click\",\"knownArgs\" : [\"54\"],\"requiredArgs\" : {}}},\"parent\" : \"\"},\"A18\" : {\"x\" : 0,\"y\" : 0,\"type\" : \"circle\",\"size\" : 10,\"id\" : \"A18\",\"title\" : \"85\",\"layer\" : -3,\"highlight\" : true,\"menus\" : {},\"messages\" : {\"A20\" : {\"type\" : \"default\",\"id\" : \"A20\",\"text\" : \"[ [ 0, 2, 1 ] ]\",\"title\" : \"\"}},\"callbacks\" : {\"A19\" : {\"func\" : \"unknown\",\"id\" : \"A19\",\"trigger\" : \"click\",\"knownArgs\" : [\"85\"],\"requiredArgs\" : {}}},\"parent\" : \"\"},\"A21\" : {\"x\" : 0,\"y\" : 0,\"type\" : \"circle\",\"size\" : 10,\"id\" : \"A21\",\"title\" : \"116\",\"layer\" : -4,\"highlight\" : true,\"menus\" : {},\"messages\" : {\"A23\" : {\"type\" : \"default\",\"id\" : \"A23\",\"text\" : \"[ [ 0, 2, 2 ] ]\",\"title\" : \"\"}},\"callbacks\" : {\"A22\" : {\"func\" : \"unknown\",\"id\" : \"A22\",\"trigger\" : \"click\",\"knownArgs\" : [\"116\"],\"requiredArgs\" : {}}},\"parent\" : \"\"},\"A24\" : {\"x\" : 0,\"y\" : 0,\"type\" : \"circle\",\"size\" : 10,\"id\" : \"A24\",\"title\" : \"27\",\"layer\" : -1,\"highlight\" : true,\"menus\" : {},\"messages\" : {\"A26\" : {\"type\" : \"default\",\"id\" : \"A26\",\"text\" : \"[ [ 0, 1, 0 ] ]\",\"title\" : \"\"}},\"callbacks\" : {\"A25\" : {\"func\" : \"unknown\",\"id\" : \"A25\",\"trigger\" : \"click\",\"knownArgs\" : [\"27\"],\"requiredArgs\" : {}}},\"parent\" : \"\"},\"A27\" : {\"x\" : 0,\"y\" : 0,\"type\" : \"circle\",\"size\" : 10,\"id\" : \"A27\",\"title\" : \"58\",\"layer\" : -2,\"highlight\" : true,\"menus\" : {},\"messages\" : {\"A29\" : {\"type\" : \"default\",\"id\" : \"A29\",\"text\" : \"[ [ 0, 1, 1 ] ]\",\"title\" : \"\"}},\"callbacks\" : {\"A28\" : {\"func\" : \"unknown\",\"id\" : \"A28\",\"trigger\" : \"click\",\"knownArgs\" : [\"58\"],\"requiredArgs\" : {}}},\"parent\" : \"\"},\"A30\" : {\"x\" : 0,\"y\" : 0,\"type\" : \"circle\",\"size\" : 10,\"id\" : \"A30\",\"title\" : \"89\",\"layer\" : -3,\"highlight\" : true,\"menus\" : {},\"messages\" : {\"A32\" : {\"type\" : \"default\",\"id\" : \"A32\",\"text\" : \"[ [ 0, 1, 2 ] ]\",\"title\" : \"\"}},\"callbacks\" : {\"A31\" : {\"func\" : \"unknown\",\"id\" : \"A31\",\"trigger\" : \"click\",\"knownArgs\" : [\"89\"],\"requiredArgs\" : {}}},\"parent\" : \"\"}},\"links\" : {\"A33\" : {\"source\" : \"A6\",\"id\" : \"A33\",\"target\" : \"A3\"},\"A34\" : {\"source\" : \"A9\",\"id\" : \"A34\",\"target\" : \"A6\"},\"A35\" : {\"source\" : \"A12\",\"id\" : \"A35\",\"target\" : \"A9\"},\"A36\" : {\"source\" : \"A15\",\"id\" : \"A36\",\"target\" : \"A24\"},\"A37\" : {\"source\" : \"A18\",\"id\" : \"A37\",\"target\" : \"A15\"},\"A38\" : {\"source\" : \"A18\",\"id\" : \"A38\",\"target\" : \"A27\"},\"A39\" : {\"source\" : \"A21\",\"id\" : \"A39\",\"target\" : \"A18\"},\"A40\" : {\"source\" : \"A21\",\"id\" : \"A40\",\"target\" : \"A30\"},\"A41\" : {\"source\" : \"A24\",\"id\" : \"A41\",\"target\" : \"A3\"},\"A42\" : {\"source\" : \"A27\",\"id\" : \"A42\",\"target\" : \"A6\"},\"A43\" : {\"source\" : \"A27\",\"id\" : \"A43\",\"target\" : \"A24\"},\"A44\" : {\"source\" : \"A30\",\"id\" : \"A44\",\"target\" : \"A9\"},\"A45\" : {\"source\" : \"A30\",\"id\" : \"A45\",\"target\" : \"A27\"}}},\"messages\" : {}}}"
     },
     "execution_count": 7,
     "metadata": {},
     "output_type": "execute_result"
    }
   ],
   "source": [
    "apery(NumericalSemigroup(10,51,27,31));"
   ]
  },
  {
   "cell_type": "markdown",
   "metadata": {},
   "source": [
    "# Drawing sons of numerical semigroups"
   ]
  },
  {
   "cell_type": "markdown",
   "metadata": {},
   "source": [
    "This example shows how to draw the sons of a numerical semigroup in the tree of numerical semigroups. If we click on a node, then the sets of sons of that node are added to the canvas, and if the node is a leaf, a warning message is displayed.\n",
    "\n",
    "Passing the mouse over a node shows the set of minimal generators of the node."
   ]
  },
  {
   "cell_type": "code",
   "execution_count": 5,
   "metadata": {},
   "outputs": [
    {
     "data": {
      "text/plain": [
       "function( s ) ... end"
      ]
     },
     "execution_count": 5,
     "metadata": {},
     "output_type": "execute_result"
    }
   ],
   "source": [
    "canvas:=Canvas(\"Sons of a numerical semigroup\");\n",
    "graphHasse := Graph(GraphType.HASSE);\n",
    "Add(canvas,graphHasse);\n",
    "\n",
    "sons:=function(s)\n",
    "    local gens, frb, desc, d, shpr, shp, sonsf, i, gn, lbl;\n",
    "    \n",
    "    \n",
    "    sonsf:=function(s,n,lb)\n",
    "        local gens, frb, desc, d, shp, i, lbl, gn;\n",
    "\n",
    "        frb:=FrobeniusNumber(s);\n",
    "        gens:=Filtered(MinimalGenerators(s), x-> x>frb);\n",
    "        desc:=List(gens, g->RemoveMinimalGeneratorFromNumericalSemigroup(g,s));\n",
    "        gn:=Genus(s);\n",
    "        i:=0;\n",
    "        for d in desc do\n",
    "            i:=i+1;\n",
    "        lbl:=Concatenation(lb,\":\",String(i));\n",
    "            shp:=Shape(ShapeType!.CIRCLE, lbl);\n",
    "            shp!.layer:=Genus(d);\n",
    "            Add(shp,Callback(sonsf,[d,shp,lbl]));\n",
    "            Add(shp,HintMessage(String(MinimalGenerators(d))));\n",
    "            Add(graphHasse,shp);\n",
    "            Add(graphHasse,Link(n,shp));\n",
    "        od;\n",
    "        if desc<>[] then \n",
    "            return Draw(canvas);\n",
    "        fi;\n",
    "        Add(canvas, HintMessage(MessageType.WARNING, \"This semigroup is a leaf\"));\n",
    "        return Draw(canvas);\n",
    "    end;\n",
    "    \n",
    "    frb:=FrobeniusNumber(s);\n",
    "    gens:=Filtered(MinimalGenerators(s), x-> x>frb);\n",
    "    desc:=List(gens, g->RemoveMinimalGeneratorFromNumericalSemigroup(g,s));\n",
    "    gn:=Genus(s);\n",
    "\n",
    "    shpr:=Shape(ShapeType!.CIRCLE, \"S\");\n",
    "    Add(shpr,HintMessage(String(MinimalGenerators(s))));\n",
    "    shpr!.layer:=Genus(s);\n",
    "    Add(graphHasse,shpr);\n",
    "    i:=0;\n",
    "    for d in desc do\n",
    "        i:=i+1;\n",
    "        lbl:=Concatenation(\"S\",\":\",String(i));\n",
    "        shp:=Shape(ShapeType!.CIRCLE, lbl);\n",
    "        shp!.layer:=Genus(d);\n",
    "        Add(shp,Callback(sonsf,[d,shp,lbl]));\n",
    "        Add(shp,HintMessage(String(MinimalGenerators(d))));\n",
    "        Add(graphHasse,shp);\n",
    "        Add(graphHasse,Link(shpr,shp));\n",
    "    od;\n",
    "\n",
    "    return Draw(canvas);    \n",
    "end;"
   ]
  },
  {
   "cell_type": "code",
   "execution_count": 6,
   "metadata": {
    "scrolled": false
   },
   "outputs": [
    {
     "data": {
      "application/vnd.francy+json": "{\"version\" : \"0.5.0\",\"mime\" : \"application\\/vnd.francy+json\",\"canvas\" : {\"width\" : \"800\",\"height\" : \"600\",\"id\" : \"A57\",\"title\" : \"Sons of a numerical semigroup\",\"zoomToFit\" : true,\"menus\" : {},\"graph\" : {\"type\" : \"hasse\",\"id\" : \"A46\",\"simulation\" : true,\"drag\" : true,\"nodes\" : {\"A47\" : {\"x\" : 0,\"y\" : 0,\"type\" : \"circle\",\"size\" : 10,\"id\" : \"A47\",\"title\" : \"S\",\"highlight\" : true,\"layer\" : 3,\"menus\" : {},\"messages\" : {\"A48\" : {\"type\" : \"default\",\"id\" : \"A48\",\"text\" : \"[ 3, 5, 7 ]\",\"title\" : \"\"}},\"callbacks\" : {}},\"A49\" : {\"x\" : 0,\"y\" : 0,\"type\" : \"circle\",\"size\" : 10,\"id\" : \"A49\",\"title\" : \"S:1\",\"highlight\" : true,\"layer\" : 4,\"menus\" : {},\"messages\" : {\"A51\" : {\"type\" : \"default\",\"id\" : \"A51\",\"text\" : \"[ 3, 7, 8 ]\",\"title\" : \"\"}},\"callbacks\" : {\"A50\" : {\"func\" : \"unknown\",\"id\" : \"A50\",\"trigger\" : \"click\",\"knownArgs\" : [\"<object>\",\"<object>\",\"S:1\"],\"requiredArgs\" : {}}}},\"A53\" : {\"x\" : 0,\"y\" : 0,\"type\" : \"circle\",\"size\" : 10,\"id\" : \"A53\",\"title\" : \"S:2\",\"highlight\" : true,\"layer\" : 4,\"menus\" : {},\"messages\" : {\"A55\" : {\"type\" : \"default\",\"id\" : \"A55\",\"text\" : \"[ 3, 5 ]\",\"title\" : \"\"}},\"callbacks\" : {\"A54\" : {\"func\" : \"unknown\",\"id\" : \"A54\",\"trigger\" : \"click\",\"knownArgs\" : [\"<object>\",\"<object>\",\"S:2\"],\"requiredArgs\" : {}}}}},\"links\" : {\"A52\" : {\"source\" : \"A47\",\"id\" : \"A52\",\"target\" : \"A49\"},\"A56\" : {\"source\" : \"A47\",\"id\" : \"A56\",\"target\" : \"A53\"}}},\"messages\" : {}}}"
     },
     "execution_count": 6,
     "metadata": {},
     "output_type": "execute_result"
    }
   ],
   "source": [
    "sons(NumericalSemigroup(3,5,7));"
   ]
  },
  {
   "cell_type": "code",
   "execution_count": null,
   "metadata": {},
   "outputs": [],
   "source": []
  }
 ],
 "metadata": {
  "kernelspec": {
   "display_name": "GAP 4 (native)",
   "language": "gap",
   "name": "gap-native"
  },
  "language_info": {
   "codemirror_mode": "gap",
   "file_extension": ".g",
   "mimetype": "text/x-gap",
   "name": "GAP (native)",
   "nbconvert_exporter": "",
   "pygments_lexer": "gap",
   "version": "4.dev"
  }
 },
 "nbformat": 4,
 "nbformat_minor": 2
}
