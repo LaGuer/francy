{
 "cells": [
  {
   "cell_type": "markdown",
   "metadata": {},
   "source": [
    "### Load Francy Package"
   ]
  },
  {
   "cell_type": "code",
   "execution_count": 86,
   "metadata": {},
   "outputs": [
    {
     "data": {
      "text/plain": [
       "true"
      ]
     },
     "execution_count": 85,
     "metadata": {},
     "output_type": "execute_result"
    },
    {
     "data": {
      "text/plain": [
       "true"
      ]
     },
     "execution_count": 86,
     "metadata": {},
     "output_type": "execute_result"
    }
   ],
   "source": [
    "LoadPackage(\"francy\");\n",
    "LoadPackage(\"num\");"
   ]
  },
  {
   "cell_type": "markdown",
   "metadata": {},
   "source": [
    "# Graphs\n",
    "\n",
    "### Callbacks\n",
    "\n",
    "Click on the menu to add nodes to the canvas.\n",
    "\n",
    "Try adding 500 of each.\n",
    "\n",
    "Zoom in and out using the mouse wheel."
   ]
  },
  {
   "cell_type": "code",
   "execution_count": 102,
   "metadata": {},
   "outputs": [
    {
     "data": {
      "text/plain": [
       "<object>"
      ]
     },
     "execution_count": 87,
     "metadata": {},
     "output_type": "execute_result"
    },
    {
     "data": {
      "text/plain": [
       "<object>"
      ]
     },
     "execution_count": 88,
     "metadata": {},
     "output_type": "execute_result"
    },
    {
     "data": {
      "text/plain": [
       "function( n ) ... end"
      ]
     },
     "execution_count": 89,
     "metadata": {},
     "output_type": "execute_result"
    },
    {
     "data": {
      "text/plain": [
       "function( n ) ... end"
      ]
     },
     "execution_count": 90,
     "metadata": {},
     "output_type": "execute_result"
    },
    {
     "data": {
      "text/plain": [
       "function(  ) ... end"
      ]
     },
     "execution_count": 91,
     "metadata": {},
     "output_type": "execute_result"
    },
    {
     "data": {
      "text/plain": [
       "<object>"
      ]
     },
     "execution_count": 92,
     "metadata": {},
     "output_type": "execute_result"
    },
    {
     "data": {
      "text/plain": [
       "<object>"
      ]
     },
     "execution_count": 93,
     "metadata": {},
     "output_type": "execute_result"
    },
    {
     "data": {
      "text/plain": [
       "<object>"
      ]
     },
     "execution_count": 95,
     "metadata": {},
     "output_type": "execute_result"
    },
    {
     "data": {
      "text/plain": [
       "<object>"
      ]
     },
     "execution_count": 96,
     "metadata": {},
     "output_type": "execute_result"
    },
    {
     "data": {
      "text/plain": [
       "<object>"
      ]
     },
     "execution_count": 97,
     "metadata": {},
     "output_type": "execute_result"
    },
    {
     "data": {
      "text/plain": [
       "<object>"
      ]
     },
     "execution_count": 99,
     "metadata": {},
     "output_type": "execute_result"
    },
    {
     "data": {
      "text/plain": [
       "<object>"
      ]
     },
     "execution_count": 100,
     "metadata": {},
     "output_type": "execute_result"
    },
    {
     "data": {
      "application/vnd.francy+json": "{\"version\" : \"0.5.0\",\"mime\" : \"application\\/vnd.francy+json\",\"canvas\" : {\"width\" : \"800\",\"height\" : \"600\",\"id\" : \"339\",\"title\" : \"Add circles on demand\",\"zoomToFit\" : true,\"menus\" : {\"343\" : {\"id\" : \"343\",\"title\" : \"Add Circle\",\"callback\" : {\"func\" : \"AddCircle\",\"id\" : \"341\",\"trigger\" : \"click\",\"knownArgs\" : [],\"requiredArgs\" : {\"342\" : {\"type\" : \"number\",\"id\" : \"342\",\"title\" : \"How many Circles?\",\"value\" : \"\"}}},\"menus\" : {}},\"346\" : {\"id\" : \"346\",\"title\" : \"Add Square\",\"callback\" : {\"func\" : \"AddSquare\",\"id\" : \"344\",\"trigger\" : \"click\",\"knownArgs\" : [],\"requiredArgs\" : {\"345\" : {\"type\" : \"number\",\"id\" : \"345\",\"title\" : \"How many Squares?\",\"value\" : \"\"}}},\"menus\" : {}},\"348\" : {\"id\" : \"348\",\"title\" : \"Clear\",\"callback\" : {\"func\" : \"ClearGraph\",\"id\" : \"347\",\"trigger\" : \"click\",\"knownArgs\" : [],\"requiredArgs\" : {}},\"menus\" : {}}},\"graph\" : {\"type\" : \"hasse\",\"id\" : \"340\",\"simulation\" : true,\"forces\" : true,\"nodes\" : {},\"links\" : {}}}}"
     },
     "execution_count": 102,
     "metadata": {},
     "output_type": "execute_result"
    }
   ],
   "source": [
    "canvas := Canvas(\"Add circles on demand\");\n",
    "\n",
    "graph := Graph(GraphType.HASSE);\n",
    "\n",
    "AddCircle := function(n)\n",
    "    local i, shape;\n",
    "    for i in [1..Int(n)] do\n",
    "        shape := Shape(ShapeType.CIRCLE, String(i));\n",
    "        shape!.layer := Random([1..16]);\n",
    "        Add(graph, shape);\n",
    "    od;\n",
    "    return Draw(canvas);\n",
    "end;\n",
    "\n",
    "AddSquare := function(n)\n",
    "    local i, shape;\n",
    "    for i in [1..Int(n)] do\n",
    "        shape := Shape(ShapeType.SQUARE, String(i));\n",
    "        shape!.layer := Random([1..16]);\n",
    "        Add(graph, shape);\n",
    "    od;\n",
    "    return Draw(canvas);\n",
    "end;\n",
    "\n",
    "ClearGraph := function()\n",
    "    canvas!.graph := rec();\n",
    "    return Draw(canvas);\n",
    "end;\n",
    "\n",
    "callback1 := Callback(AddCircle);\n",
    "arg1 := RequiredArg(ArgType.NUMBER, \"How many Circles?\");\n",
    "Add(callback1, arg1);\n",
    "menu1 := Menu( \"Add Circle\", callback1 );\n",
    "\n",
    "callback2 := Callback(AddSquare);\n",
    "arg2 := RequiredArg(ArgType.NUMBER, \"How many Squares?\");\n",
    "Add(callback2, arg2);\n",
    "menu2 := Menu( \"Add Square\", callback2 );\n",
    "\n",
    "menu3 := Menu( \"Clear\", Callback(ClearGraph));\n",
    "\n",
    "Add(canvas, [graph, menu1, menu2, menu3]);\n",
    "\n",
    "Draw(canvas);"
   ]
  },
  {
   "cell_type": "markdown",
   "metadata": {},
   "source": [
    "### Linked Nodes and Shape Menus\n",
    "\n",
    "Right click on the Shape G for more actions"
   ]
  },
  {
   "cell_type": "code",
   "execution_count": 137,
   "metadata": {},
   "outputs": [
    {
     "data": {
      "text/plain": [
       "<object>"
      ]
     },
     "execution_count": 103,
     "metadata": {},
     "output_type": "execute_result"
    },
    {
     "data": {
      "text/plain": [
       "<object>"
      ]
     },
     "execution_count": 104,
     "metadata": {},
     "output_type": "execute_result"
    },
    {
     "data": {
      "text/plain": [
       "0"
      ]
     },
     "execution_count": 105,
     "metadata": {},
     "output_type": "execute_result"
    },
    {
     "data": {
      "text/plain": [
       "<object>"
      ]
     },
     "execution_count": 107,
     "metadata": {},
     "output_type": "execute_result"
    },
    {
     "data": {
      "text/plain": [
       "3"
      ]
     },
     "execution_count": 108,
     "metadata": {},
     "output_type": "execute_result"
    },
    {
     "data": {
      "text/plain": [
       "<object>"
      ]
     },
     "execution_count": 110,
     "metadata": {},
     "output_type": "execute_result"
    },
    {
     "data": {
      "text/plain": [
       "1"
      ]
     },
     "execution_count": 111,
     "metadata": {},
     "output_type": "execute_result"
    },
    {
     "data": {
      "text/plain": [
       "<object>"
      ]
     },
     "execution_count": 114,
     "metadata": {},
     "output_type": "execute_result"
    },
    {
     "data": {
      "text/plain": [
       "2"
      ]
     },
     "execution_count": 115,
     "metadata": {},
     "output_type": "execute_result"
    },
    {
     "data": {
      "text/plain": [
       "<object>"
      ]
     },
     "execution_count": 119,
     "metadata": {},
     "output_type": "execute_result"
    },
    {
     "data": {
      "text/plain": [
       "2"
      ]
     },
     "execution_count": 120,
     "metadata": {},
     "output_type": "execute_result"
    },
    {
     "data": {
      "text/plain": [
       "<object>"
      ]
     },
     "execution_count": 124,
     "metadata": {},
     "output_type": "execute_result"
    },
    {
     "data": {
      "text/plain": [
       "2"
      ]
     },
     "execution_count": 125,
     "metadata": {},
     "output_type": "execute_result"
    },
    {
     "data": {
      "text/plain": [
       "<object>"
      ]
     },
     "execution_count": 129,
     "metadata": {},
     "output_type": "execute_result"
    },
    {
     "data": {
      "text/plain": [
       "function( n ) ... end"
      ]
     },
     "execution_count": 130,
     "metadata": {},
     "output_type": "execute_result"
    },
    {
     "data": {
      "text/plain": [
       "<object>"
      ]
     },
     "execution_count": 131,
     "metadata": {},
     "output_type": "execute_result"
    },
    {
     "data": {
      "text/plain": [
       "<object>"
      ]
     },
     "execution_count": 132,
     "metadata": {},
     "output_type": "execute_result"
    },
    {
     "data": {
      "application/vnd.francy+json": "{\"version\" : \"0.5.0\",\"mime\" : \"application\\/vnd.francy+json\",\"canvas\" : {\"width\" : \"800\",\"height\" : \"600\",\"id\" : \"363\",\"title\" : \"Quaternion Group Subgroup Lattice\",\"zoomToFit\" : true,\"menus\" : {},\"graph\" : {\"type\" : \"hasse\",\"id\" : \"349\",\"simulation\" : true,\"forces\" : true,\"nodes\" : {\"350\" : {\"x\" : 0,\"y\" : 0,\"type\" : \"diamond\",\"size\" : 10,\"info\" : {},\"id\" : \"350\",\"title\" : \"Right Click Me\",\"layer\" : 0,\"highlight\" : true,\"menus\" : {\"366\" : {\"id\" : \"366\",\"title\" : \"Add Square\",\"callback\" : {\"func\" : \"AddSquare\",\"id\" : \"364\",\"trigger\" : \"click\",\"knownArgs\" : [],\"requiredArgs\" : {\"365\" : {\"type\" : \"number\",\"id\" : \"365\",\"title\" : \"How many Squares?\",\"value\" : \"\"}}},\"menus\" : {}}},\"callbacks\" : {}},\"351\" : {\"x\" : 0,\"y\" : 0,\"type\" : \"wye\",\"size\" : 10,\"info\" : {},\"id\" : \"351\",\"title\" : \"1\",\"layer\" : 3,\"highlight\" : true,\"menus\" : {},\"callbacks\" : {}},\"352\" : {\"x\" : 0,\"y\" : 0,\"type\" : \"circle\",\"size\" : 10,\"info\" : {},\"id\" : \"352\",\"title\" : \"SG1\",\"layer\" : 1,\"highlight\" : true,\"menus\" : {},\"callbacks\" : {}},\"354\" : {\"x\" : 0,\"y\" : 0,\"type\" : \"circle\",\"size\" : 10,\"info\" : {},\"id\" : \"354\",\"title\" : \"SG2\",\"layer\" : 2,\"highlight\" : true,\"menus\" : {},\"callbacks\" : {}},\"357\" : {\"x\" : 0,\"y\" : 0,\"type\" : \"circle\",\"size\" : 10,\"info\" : {},\"id\" : \"357\",\"title\" : \"SG3\",\"layer\" : 2,\"highlight\" : true,\"menus\" : {},\"callbacks\" : {}},\"360\" : {\"x\" : 0,\"y\" : 0,\"type\" : \"circle\",\"size\" : 10,\"info\" : {},\"id\" : \"360\",\"title\" : \"Click Me\",\"layer\" : 2,\"highlight\" : true,\"menus\" : {},\"callbacks\" : {\"364\" : {\"func\" : \"AddSquare\",\"id\" : \"364\",\"trigger\" : \"click\",\"knownArgs\" : [],\"requiredArgs\" : {\"365\" : {\"type\" : \"number\",\"id\" : \"365\",\"title\" : \"How many Squares?\",\"value\" : \"\"}}}}}},\"links\" : {\"353\" : {\"source\" : \"350\",\"id\" : \"353\",\"target\" : \"352\"},\"355\" : {\"source\" : \"352\",\"id\" : \"355\",\"target\" : \"354\"},\"356\" : {\"source\" : \"354\",\"id\" : \"356\",\"target\" : \"351\"},\"358\" : {\"source\" : \"352\",\"id\" : \"358\",\"target\" : \"357\"},\"359\" : {\"source\" : \"357\",\"id\" : \"359\",\"target\" : \"351\"},\"361\" : {\"source\" : \"352\",\"id\" : \"361\",\"target\" : \"360\"},\"362\" : {\"source\" : \"360\",\"id\" : \"362\",\"target\" : \"351\"}}}}}"
     },
     "execution_count": 137,
     "metadata": {},
     "output_type": "execute_result"
    }
   ],
   "source": [
    "graph2 := Graph(GraphType.HASSE);\n",
    "\n",
    "shapeG := Shape(ShapeType.DIAMOND, \"Right Click Me\");\n",
    "shapeG!.layer := 0;\n",
    "Add(graph2, shapeG);\n",
    "shape1 := Shape(ShapeType.WYE, \"1\");\n",
    "shape1!.layer := 3;\n",
    "Add(graph2, shape1);\n",
    "\n",
    "shapeSG1 := Shape(ShapeType.CIRCLE, \"SG1\");\n",
    "shapeSG1!.layer := 1;\n",
    "Add(graph2, shapeSG1);\n",
    "Add(graph2, Link(shapeG, shapeSG1));\n",
    "\n",
    "shapeSG2 := Shape(ShapeType.CIRCLE, \"SG2\");\n",
    "shapeSG2!.layer := 2;\n",
    "Add(graph2, shapeSG2);\n",
    "Add(graph2, Link(shapeSG1, shapeSG2));\n",
    "Add(graph2, Link(shapeSG2, shape1));\n",
    "\n",
    "shapeSG3 := Shape(ShapeType.CIRCLE, \"SG3\");\n",
    "shapeSG3!.layer := 2;\n",
    "Add(graph2, shapeSG3);\n",
    "Add(graph2, Link(shapeSG1, shapeSG3));\n",
    "Add(graph2, Link(shapeSG3, shape1));\n",
    "\n",
    "shapeSG4 := Shape(ShapeType.CIRCLE, \"Click Me\");\n",
    "shapeSG4!.layer := 2;\n",
    "Add(graph2, shapeSG4);\n",
    "Add(graph2, Link(shapeSG1, shapeSG4));\n",
    "Add(graph2, Link(shapeSG4, shape1));\n",
    "\n",
    "canvas2 := Canvas(\"Quaternion Group Subgroup Lattice\");\n",
    "\n",
    "AddSquare := function(n)\n",
    "    local i, shape;\n",
    "    for i in [1..Int(n)] do\n",
    "        shape := Shape(ShapeType.SQUARE, String(i));\n",
    "        shape!.layer := Random([1..16]);\n",
    "        Add(graph2, shape);\n",
    "    od;\n",
    "    return Draw(canvas2);\n",
    "end;\n",
    "\n",
    "cb := Callback(AddSquare);\n",
    "a1 := RequiredArg(ArgType.NUMBER, \"How many Squares?\");\n",
    "Add(cb, a1);\n",
    "\n",
    "Add(shapeG, Menu(\"Add Square\", cb));\n",
    "Add(shapeSG4, cb);\n",
    "\n",
    "Add(canvas2, graph2);\n",
    "\n",
    "Draw(canvas2);"
   ]
  },
  {
   "cell_type": "markdown",
   "metadata": {},
   "source": [
    "### An attempt to LatticeSubgroups By Markus"
   ]
  },
  {
   "cell_type": "code",
   "execution_count": 141,
   "metadata": {},
   "outputs": [
    {
     "data": {
      "text/plain": [
       "function( L ) ... end"
      ]
     },
     "execution_count": 138,
     "metadata": {},
     "output_type": "execute_result"
    },
    {
     "data": {
      "text/plain": [
       "<object>"
      ]
     },
     "execution_count": 139,
     "metadata": {},
     "output_type": "execute_result"
    },
    {
     "data": {
      "application/vnd.francy+json": "{\"version\" : \"0.5.0\",\"mime\" : \"application\\/vnd.francy+json\",\"canvas\" : {\"width\" : \"800\",\"height\" : \"600\",\"id\" : \"367\",\"title\" : \"Lattice Subgroups\",\"zoomToFit\" : true,\"menus\" : {},\"graph\" : {\"type\" : \"hasse\",\"id\" : \"368\",\"simulation\" : true,\"forces\" : true,\"nodes\" : {\"369\" : {\"x\" : 0,\"y\" : 0,\"type\" : \"circle\",\"size\" : 10,\"info\" : {},\"id\" : \"369\",\"title\" : \"1\",\"layer\" : 1,\"highlight\" : true,\"menus\" : {},\"callbacks\" : {}},\"370\" : {\"x\" : 0,\"y\" : 0,\"type\" : \"diamond\",\"size\" : 10,\"info\" : {},\"id\" : \"370\",\"title\" : \"2\",\"layer\" : 2,\"highlight\" : true,\"menus\" : {},\"callbacks\" : {}},\"371\" : {\"x\" : 0,\"y\" : 0,\"type\" : \"diamond\",\"size\" : 10,\"info\" : {},\"id\" : \"371\",\"title\" : \"2\",\"layer\" : 2,\"highlight\" : true,\"menus\" : {},\"callbacks\" : {}},\"372\" : {\"x\" : 0,\"y\" : 0,\"type\" : \"diamond\",\"size\" : 10,\"info\" : {},\"id\" : \"372\",\"title\" : \"2\",\"layer\" : 2,\"highlight\" : true,\"menus\" : {},\"callbacks\" : {}},\"373\" : {\"x\" : 0,\"y\" : 0,\"type\" : \"diamond\",\"size\" : 10,\"info\" : {},\"id\" : \"373\",\"title\" : \"3\",\"layer\" : 2,\"highlight\" : true,\"menus\" : {},\"callbacks\" : {}},\"374\" : {\"x\" : 0,\"y\" : 0,\"type\" : \"diamond\",\"size\" : 10,\"info\" : {},\"id\" : \"374\",\"title\" : \"3\",\"layer\" : 2,\"highlight\" : true,\"menus\" : {},\"callbacks\" : {}},\"375\" : {\"x\" : 0,\"y\" : 0,\"type\" : \"diamond\",\"size\" : 10,\"info\" : {},\"id\" : \"375\",\"title\" : \"3\",\"layer\" : 2,\"highlight\" : true,\"menus\" : {},\"callbacks\" : {}},\"376\" : {\"x\" : 0,\"y\" : 0,\"type\" : \"diamond\",\"size\" : 10,\"info\" : {},\"id\" : \"376\",\"title\" : \"3\",\"layer\" : 2,\"highlight\" : true,\"menus\" : {},\"callbacks\" : {}},\"377\" : {\"x\" : 0,\"y\" : 0,\"type\" : \"diamond\",\"size\" : 10,\"info\" : {},\"id\" : \"377\",\"title\" : \"3\",\"layer\" : 2,\"highlight\" : true,\"menus\" : {},\"callbacks\" : {}},\"378\" : {\"x\" : 0,\"y\" : 0,\"type\" : \"diamond\",\"size\" : 10,\"info\" : {},\"id\" : \"378\",\"title\" : \"3\",\"layer\" : 2,\"highlight\" : true,\"menus\" : {},\"callbacks\" : {}},\"379\" : {\"x\" : 0,\"y\" : 0,\"type\" : \"diamond\",\"size\" : 10,\"info\" : {},\"id\" : \"379\",\"title\" : \"4\",\"layer\" : 3,\"highlight\" : true,\"menus\" : {},\"callbacks\" : {}},\"380\" : {\"x\" : 0,\"y\" : 0,\"type\" : \"diamond\",\"size\" : 10,\"info\" : {},\"id\" : \"380\",\"title\" : \"4\",\"layer\" : 3,\"highlight\" : true,\"menus\" : {},\"callbacks\" : {}},\"381\" : {\"x\" : 0,\"y\" : 0,\"type\" : \"diamond\",\"size\" : 10,\"info\" : {},\"id\" : \"381\",\"title\" : \"4\",\"layer\" : 3,\"highlight\" : true,\"menus\" : {},\"callbacks\" : {}},\"382\" : {\"x\" : 0,\"y\" : 0,\"type\" : \"diamond\",\"size\" : 10,\"info\" : {},\"id\" : \"382\",\"title\" : \"4\",\"layer\" : 3,\"highlight\" : true,\"menus\" : {},\"callbacks\" : {}},\"383\" : {\"x\" : 0,\"y\" : 0,\"type\" : \"circle\",\"size\" : 10,\"info\" : {},\"id\" : \"383\",\"title\" : \"5\",\"layer\" : 4,\"highlight\" : true,\"menus\" : {},\"callbacks\" : {}},\"384\" : {\"x\" : 0,\"y\" : 0,\"type\" : \"diamond\",\"size\" : 10,\"info\" : {},\"id\" : \"384\",\"title\" : \"6\",\"layer\" : 4,\"highlight\" : true,\"menus\" : {},\"callbacks\" : {}},\"385\" : {\"x\" : 0,\"y\" : 0,\"type\" : \"diamond\",\"size\" : 10,\"info\" : {},\"id\" : \"385\",\"title\" : \"6\",\"layer\" : 4,\"highlight\" : true,\"menus\" : {},\"callbacks\" : {}},\"386\" : {\"x\" : 0,\"y\" : 0,\"type\" : \"diamond\",\"size\" : 10,\"info\" : {},\"id\" : \"386\",\"title\" : \"6\",\"layer\" : 4,\"highlight\" : true,\"menus\" : {},\"callbacks\" : {}},\"387\" : {\"x\" : 0,\"y\" : 0,\"type\" : \"diamond\",\"size\" : 10,\"info\" : {},\"id\" : \"387\",\"title\" : \"7\",\"layer\" : 4,\"highlight\" : true,\"menus\" : {},\"callbacks\" : {}},\"388\" : {\"x\" : 0,\"y\" : 0,\"type\" : \"diamond\",\"size\" : 10,\"info\" : {},\"id\" : \"388\",\"title\" : \"7\",\"layer\" : 4,\"highlight\" : true,\"menus\" : {},\"callbacks\" : {}},\"389\" : {\"x\" : 0,\"y\" : 0,\"type\" : \"diamond\",\"size\" : 10,\"info\" : {},\"id\" : \"389\",\"title\" : \"7\",\"layer\" : 4,\"highlight\" : true,\"menus\" : {},\"callbacks\" : {}},\"390\" : {\"x\" : 0,\"y\" : 0,\"type\" : \"diamond\",\"size\" : 10,\"info\" : {},\"id\" : \"390\",\"title\" : \"8\",\"layer\" : 6,\"highlight\" : true,\"menus\" : {},\"callbacks\" : {}},\"391\" : {\"x\" : 0,\"y\" : 0,\"type\" : \"diamond\",\"size\" : 10,\"info\" : {},\"id\" : \"391\",\"title\" : \"8\",\"layer\" : 6,\"highlight\" : true,\"menus\" : {},\"callbacks\" : {}},\"392\" : {\"x\" : 0,\"y\" : 0,\"type\" : \"diamond\",\"size\" : 10,\"info\" : {},\"id\" : \"392\",\"title\" : \"8\",\"layer\" : 6,\"highlight\" : true,\"menus\" : {},\"callbacks\" : {}},\"393\" : {\"x\" : 0,\"y\" : 0,\"type\" : \"diamond\",\"size\" : 10,\"info\" : {},\"id\" : \"393\",\"title\" : \"8\",\"layer\" : 6,\"highlight\" : true,\"menus\" : {},\"callbacks\" : {}},\"394\" : {\"x\" : 0,\"y\" : 0,\"type\" : \"diamond\",\"size\" : 10,\"info\" : {},\"id\" : \"394\",\"title\" : \"9\",\"layer\" : 8,\"highlight\" : true,\"menus\" : {},\"callbacks\" : {}},\"395\" : {\"x\" : 0,\"y\" : 0,\"type\" : \"diamond\",\"size\" : 10,\"info\" : {},\"id\" : \"395\",\"title\" : \"9\",\"layer\" : 8,\"highlight\" : true,\"menus\" : {},\"callbacks\" : {}},\"396\" : {\"x\" : 0,\"y\" : 0,\"type\" : \"diamond\",\"size\" : 10,\"info\" : {},\"id\" : \"396\",\"title\" : \"9\",\"layer\" : 8,\"highlight\" : true,\"menus\" : {},\"callbacks\" : {}},\"397\" : {\"x\" : 0,\"y\" : 0,\"type\" : \"circle\",\"size\" : 10,\"info\" : {},\"id\" : \"397\",\"title\" : \"10\",\"layer\" : 12,\"highlight\" : true,\"menus\" : {},\"callbacks\" : {}},\"398\" : {\"x\" : 0,\"y\" : 0,\"type\" : \"circle\",\"size\" : 10,\"info\" : {},\"id\" : \"398\",\"title\" : \"11\",\"layer\" : 24,\"highlight\" : true,\"menus\" : {},\"callbacks\" : {}}},\"links\" : {\"399\" : {\"source\" : \"370\",\"id\" : \"399\",\"target\" : \"369\"},\"400\" : {\"source\" : \"371\",\"id\" : \"400\",\"target\" : \"369\"},\"401\" : {\"source\" : \"372\",\"id\" : \"401\",\"target\" : \"369\"},\"402\" : {\"source\" : \"373\",\"id\" : \"402\",\"target\" : \"369\"},\"403\" : {\"source\" : \"374\",\"id\" : \"403\",\"target\" : \"369\"},\"404\" : {\"source\" : \"375\",\"id\" : \"404\",\"target\" : \"369\"},\"405\" : {\"source\" : \"376\",\"id\" : \"405\",\"target\" : \"369\"},\"406\" : {\"source\" : \"377\",\"id\" : \"406\",\"target\" : \"369\"},\"407\" : {\"source\" : \"378\",\"id\" : \"407\",\"target\" : \"369\"},\"408\" : {\"source\" : \"379\",\"id\" : \"408\",\"target\" : \"369\"},\"409\" : {\"source\" : \"380\",\"id\" : \"409\",\"target\" : \"369\"},\"410\" : {\"source\" : \"381\",\"id\" : \"410\",\"target\" : \"369\"},\"411\" : {\"source\" : \"382\",\"id\" : \"411\",\"target\" : \"369\"},\"412\" : {\"source\" : \"383\",\"id\" : \"412\",\"target\" : \"370\"},\"413\" : {\"source\" : \"383\",\"id\" : \"413\",\"target\" : \"371\"},\"414\" : {\"source\" : \"383\",\"id\" : \"414\",\"target\" : \"372\"},\"415\" : {\"source\" : \"384\",\"id\" : \"415\",\"target\" : \"373\"},\"416\" : {\"source\" : \"385\",\"id\" : \"416\",\"target\" : \"374\"},\"417\" : {\"source\" : \"386\",\"id\" : \"417\",\"target\" : \"375\"},\"418\" : {\"source\" : \"384\",\"id\" : \"418\",\"target\" : \"378\"},\"419\" : {\"source\" : \"385\",\"id\" : \"419\",\"target\" : \"377\"},\"420\" : {\"source\" : \"386\",\"id\" : \"420\",\"target\" : \"376\"},\"421\" : {\"source\" : \"384\",\"id\" : \"421\",\"target\" : \"372\"},\"422\" : {\"source\" : \"385\",\"id\" : \"422\",\"target\" : \"370\"},\"423\" : {\"source\" : \"386\",\"id\" : \"423\",\"target\" : \"371\"},\"424\" : {\"source\" : \"387\",\"id\" : \"424\",\"target\" : \"372\"},\"425\" : {\"source\" : \"388\",\"id\" : \"425\",\"target\" : \"370\"},\"426\" : {\"source\" : \"389\",\"id\" : \"426\",\"target\" : \"371\"},\"427\" : {\"source\" : \"390\",\"id\" : \"427\",\"target\" : \"379\"},\"428\" : {\"source\" : \"391\",\"id\" : \"428\",\"target\" : \"380\"},\"429\" : {\"source\" : \"392\",\"id\" : \"429\",\"target\" : \"381\"},\"430\" : {\"source\" : \"393\",\"id\" : \"430\",\"target\" : \"382\"},\"431\" : {\"source\" : \"390\",\"id\" : \"431\",\"target\" : \"373\"},\"432\" : {\"source\" : \"391\",\"id\" : \"432\",\"target\" : \"377\"},\"433\" : {\"source\" : \"392\",\"id\" : \"433\",\"target\" : \"377\"},\"434\" : {\"source\" : \"393\",\"id\" : \"434\",\"target\" : \"376\"},\"435\" : {\"source\" : \"390\",\"id\" : \"435\",\"target\" : \"374\"},\"436\" : {\"source\" : \"391\",\"id\" : \"436\",\"target\" : \"378\"},\"437\" : {\"source\" : \"392\",\"id\" : \"437\",\"target\" : \"376\"},\"438\" : {\"source\" : \"393\",\"id\" : \"438\",\"target\" : \"378\"},\"439\" : {\"source\" : \"390\",\"id\" : \"439\",\"target\" : \"375\"},\"440\" : {\"source\" : \"391\",\"id\" : \"440\",\"target\" : \"375\"},\"441\" : {\"source\" : \"392\",\"id\" : \"441\",\"target\" : \"373\"},\"442\" : {\"source\" : \"393\",\"id\" : \"442\",\"target\" : \"374\"},\"443\" : {\"source\" : \"394\",\"id\" : \"443\",\"target\" : \"387\"},\"444\" : {\"source\" : \"395\",\"id\" : \"444\",\"target\" : \"388\"},\"445\" : {\"source\" : \"396\",\"id\" : \"445\",\"target\" : \"389\"},\"446\" : {\"source\" : \"394\",\"id\" : \"446\",\"target\" : \"384\"},\"447\" : {\"source\" : \"395\",\"id\" : \"447\",\"target\" : \"385\"},\"448\" : {\"source\" : \"396\",\"id\" : \"448\",\"target\" : \"386\"},\"449\" : {\"source\" : \"394\",\"id\" : \"449\",\"target\" : \"383\"},\"450\" : {\"source\" : \"395\",\"id\" : \"450\",\"target\" : \"383\"},\"451\" : {\"source\" : \"396\",\"id\" : \"451\",\"target\" : \"383\"},\"452\" : {\"source\" : \"397\",\"id\" : \"452\",\"target\" : \"383\"},\"453\" : {\"source\" : \"397\",\"id\" : \"453\",\"target\" : \"379\"},\"454\" : {\"source\" : \"397\",\"id\" : \"454\",\"target\" : \"380\"},\"455\" : {\"source\" : \"397\",\"id\" : \"455\",\"target\" : \"381\"},\"456\" : {\"source\" : \"397\",\"id\" : \"456\",\"target\" : \"382\"},\"457\" : {\"source\" : \"398\",\"id\" : \"457\",\"target\" : \"397\"},\"458\" : {\"source\" : \"398\",\"id\" : \"458\",\"target\" : \"394\"},\"459\" : {\"source\" : \"398\",\"id\" : \"459\",\"target\" : \"395\"},\"460\" : {\"source\" : \"398\",\"id\" : \"460\",\"target\" : \"396\"},\"461\" : {\"source\" : \"398\",\"id\" : \"461\",\"target\" : \"390\"},\"462\" : {\"source\" : \"398\",\"id\" : \"462\",\"target\" : \"391\"},\"463\" : {\"source\" : \"398\",\"id\" : \"463\",\"target\" : \"392\"},\"464\" : {\"source\" : \"398\",\"id\" : \"464\",\"target\" : \"393\"}}}}}"
     },
     "execution_count": 141,
     "metadata": {},
     "output_type": "execute_result"
    }
   ],
   "source": [
    "DisplayLatticeSubgroups := function(L)\n",
    "    local cls, len, sz, max, rep, z, t, i, j, k, graphHasse, nodes;\n",
    "    cls:=ConjugacyClassesSubgroups(L);\n",
    "    len:=[];\n",
    "    sz:=[];\n",
    "    for i in cls do\n",
    "        Add(len,Size(i));\n",
    "        AddSet(sz,Size(Representative(i)));\n",
    "    od;\n",
    "\n",
    "    graphHasse := Graph(GraphType.HASSE);\n",
    "\n",
    "    nodes := [];\n",
    "    # subgroup nodes, also acccording to size\n",
    "    for i in [1..Length(cls)] do\n",
    "        nodes[i] := [];\n",
    "        for j in [1..len[i]] do\n",
    "            if len[i]=1 then\n",
    "                nodes[i][j] := Shape(ShapeType.CIRCLE, String(i));\n",
    "                nodes[i][j]!.layer := Size(Representative(cls[i]));\n",
    "                # AppendTo(file,\"\\\"\",i,\"x\",j,\"\\\" [label=\\\"\",i,\"\\\", shape=box];\\n\");\n",
    "            else\n",
    "                nodes[i][j] := Shape(ShapeType.DIAMOND, String(i));\n",
    "                nodes[i][j]!.layer := Size(Representative(cls[i]));\n",
    "                # AppendTo(file,\"\\\"\",i,\"x\",j,\"\\\" [label=\\\"\",i,\"-\",j,\"\\\", shape=circle];\\n\");\n",
    "            fi;\n",
    "            Add(graphHasse, nodes[i][j]);\n",
    "        od;\n",
    "    od;\n",
    "\n",
    "    max:=MaximalSubgroupsLattice(L);\n",
    "    for i in [1..Length(cls)] do\n",
    "        for j in max[i] do\n",
    "            rep:=ClassElementLattice(cls[i],1);\n",
    "            for k in [1..len[i]] do\n",
    "                if k=1 then\n",
    "                    z:=j[2];\n",
    "                else\n",
    "                    t:=cls[i]!.normalizerTransversal[k];\n",
    "                    z:=ClassElementLattice(cls[j[1]],1); # force computation of transv.\n",
    "                    z:=cls[j[1]]!.normalizerTransversal[j[2]]*t;\n",
    "                    z:=PositionCanonical(cls[j[1]]!.normalizerTransversal,z);\n",
    "                fi;\n",
    "                Add(graphHasse, Link(nodes[i][k],nodes[j[1]][z]));\n",
    "          od;\n",
    "        od;\n",
    "      od;\n",
    "    return graphHasse;\n",
    "end;\n",
    "\n",
    "canvas3 := Canvas(\"Lattice Subgroups\");;\n",
    "Add(canvas3, DisplayLatticeSubgroups(LatticeSubgroups(SymmetricGroup(4))));\n",
    "Draw(canvas3);"
   ]
  },
  {
   "cell_type": "markdown",
   "metadata": {},
   "source": [
    "# Charts\n",
    "\n",
    "## Bar Charts"
   ]
  },
  {
   "cell_type": "code",
   "execution_count": 152,
   "metadata": {},
   "outputs": [
    {
     "data": {
      "text/plain": [
       "<object>"
      ]
     },
     "execution_count": 142,
     "metadata": {},
     "output_type": "execute_result"
    },
    {
     "data": {
      "text/plain": [
       "\"X Axis\""
      ]
     },
     "execution_count": 143,
     "metadata": {},
     "output_type": "execute_result"
    },
    {
     "data": {
      "text/plain": [
       "[ \"domain1\", \"domain2\", \"domain3\", \"domain4\", \"domain5\" ]"
      ]
     },
     "execution_count": 144,
     "metadata": {},
     "output_type": "execute_result"
    },
    {
     "data": {
      "text/plain": [
       "\"Y Axis\""
      ]
     },
     "execution_count": 145,
     "metadata": {},
     "output_type": "execute_result"
    },
    {
     "data": {
      "text/plain": [
       "<object>"
      ]
     },
     "execution_count": 146,
     "metadata": {},
     "output_type": "execute_result"
    },
    {
     "data": {
      "text/plain": [
       "<object>"
      ]
     },
     "execution_count": 147,
     "metadata": {},
     "output_type": "execute_result"
    },
    {
     "data": {
      "text/plain": [
       "<object>"
      ]
     },
     "execution_count": 148,
     "metadata": {},
     "output_type": "execute_result"
    },
    {
     "data": {
      "text/plain": [
       "<object>"
      ]
     },
     "execution_count": 150,
     "metadata": {},
     "output_type": "execute_result"
    },
    {
     "data": {
      "application/vnd.francy+json": "{\"version\" : \"0.5.0\",\"mime\" : \"application\\/vnd.francy+json\",\"canvas\" : {\"width\" : \"800\",\"height\" : \"600\",\"id\" : \"466\",\"title\" : \"Bar Chart\",\"zoomToFit\" : true,\"menus\" : {},\"chart\" : {\"type\" : \"bar\",\"data\" : {\"data1\" : [\"100\",\"20\",\"30\",\"47\",\"90\"],\"data2\" : [\"51\",\"60\",\"72\",\"38\",\"97\"],\"data3\" : [\"50\",\"60\",\"70\",\"80\",\"90\"]},\"labels\" : true,\"id\" : \"465\",\"legend\" : true,\"axis\" : {\"x\" : {\"domain\" : [\"domain1\",\"domain2\",\"domain3\",\"domain4\",\"domain5\"],\"title\" : \"X Axis\",\"scale\" : \"band\"},\"y\" : {\"domain\" : [],\"title\" : \"Y Axis\",\"scale\" : \"linear\"}}}}}"
     },
     "execution_count": 152,
     "metadata": {},
     "output_type": "execute_result"
    }
   ],
   "source": [
    "chart:=Chart(ChartType.BAR);\n",
    "chart!.axis!.x!.title := \"X Axis\";\n",
    "chart!.axis!.x!.domain := [\"domain1\", \"domain2\", \"domain3\", \"domain4\", \"domain5\"];\n",
    "\n",
    "chart!.axis!.y!.title := \"Y Axis\";\n",
    "\n",
    "data1 := Dataset(\"data1\", [100,20,30,47,90]);\n",
    "data2 := Dataset(\"data2\", [51,60,72,38,97]);\n",
    "data3 := Dataset(\"data3\", [50,60,70,80,90]);\n",
    "\n",
    "Add(chart, [data1, data2, data3]);\n",
    "canvas4 := Canvas(\"Bar Chart\");\n",
    "Add(canvas4, chart);\n",
    "\n",
    "Draw(canvas4);"
   ]
  },
  {
   "cell_type": "markdown",
   "metadata": {},
   "source": [
    "# Apery by Pedro"
   ]
  },
  {
   "cell_type": "code",
   "execution_count": 153,
   "metadata": {},
   "outputs": [
    {
     "data": {
      "text/plain": [
       "function( arg... ) ... end"
      ]
     },
     "execution_count": 153,
     "metadata": {},
     "output_type": "execute_result"
    }
   ],
   "source": [
    "apery:=function(arg)\n",
    "    local ap,c,hasse, s, n, r, graphHasse, aps, es, canvas, i, order;\n",
    "  # rel is a list of lists with two elements representin a binary relation\n",
    "  # hasse(rel) removes from rel the pairs [x,y] such that there exists\n",
    "  # z with [x,z],[z,y] in rel\n",
    "  hasse:=function(rel)\n",
    "      local dom, out;\n",
    "      dom:=Flat(rel);\n",
    "      out:=Filtered(rel, p-> ForAny(dom, x->([p[1],x] in rel) and ([x,p[2]] in rel)));\n",
    "      return Difference(rel,out);\n",
    "  end;\n",
    "\n",
    "    order:=function(x)\n",
    "        return Maximum(LengthsOfFactorizationsElementWRTNumericalSemigroup(x,s));\n",
    "    end;\n",
    "\n",
    "  if Length(arg)=1 then\n",
    "    s:=arg[1];\n",
    "    n:=MultiplicityOfNumericalSemigroup(s);\n",
    "  fi;\n",
    "  if Length(arg)=2 then\n",
    "    s:=arg[1];\n",
    "    n:=arg[2];\n",
    "  fi;\n",
    "  if Length(arg)>2 then\n",
    "    Error(\"The number of arguments must be one or two\");\n",
    "  fi;\n",
    "  \n",
    "    graphHasse := Graph(GraphType.HASSE);\n",
    "\n",
    "  ap:=AperyList(s,n);\n",
    "  c:=Cartesian([1..n],[1..n]);\n",
    "  c:=Filtered(c, p-> ap[p[2]]<>ap[p[1]]);\n",
    "  c:=Filtered(c, p-> ap[p[1]]-ap[p[2]] in s);\n",
    "  c:=hasse(c);\n",
    "  Print(c);\n",
    "    aps:=[];\n",
    "    for i in [1..n] do\n",
    "        aps[i]:=Shape(ShapeType!.CIRCLE, String(ap[i]));\n",
    "        aps[i]!.layer:=-order(ap[i]);\n",
    "        Add(graphHasse,aps[i]);\n",
    "    od;\n",
    "  for r in c do\n",
    "    Add(graphHasse,Link(aps[r[1]],aps[r[2]]));\n",
    "  od;\n",
    "    canvas:=Canvas(\"Apery\");\n",
    "    Add(canvas,graphHasse);\n",
    "    return Draw(canvas);    \n",
    "end;"
   ]
  },
  {
   "cell_type": "code",
   "execution_count": 154,
   "metadata": {
    "scrolled": false
   },
   "outputs": [
    {
     "name": "stdout",
     "output_type": "stream",
     "text": [
      "[ [ 2, 1 ], [ 3, 2 ], [ 4, 3 ], [ 5, 4 ], [ 6, 5 ], [ 7, 6 ], [ 8, 9 ], [ 9, 10 ], [ 10, 1 ] ]"
     ]
    },
    {
     "data": {
      "application/vnd.francy+json": "{\"version\" : \"0.5.0\",\"mime\" : \"application\\/vnd.francy+json\",\"canvas\" : {\"width\" : \"800\",\"height\" : \"600\",\"id\" : \"487\",\"title\" : \"Apery\",\"zoomToFit\" : true,\"menus\" : {},\"graph\" : {\"type\" : \"hasse\",\"id\" : \"467\",\"simulation\" : true,\"forces\" : true,\"nodes\" : {\"468\" : {\"x\" : 0,\"y\" : 0,\"type\" : \"circle\",\"size\" : 10,\"info\" : {},\"id\" : \"468\",\"title\" : \"0\",\"layer\" : 0,\"highlight\" : true,\"menus\" : {},\"callbacks\" : {}},\"469\" : {\"x\" : 0,\"y\" : 0,\"type\" : \"circle\",\"size\" : 10,\"info\" : {},\"id\" : \"469\",\"title\" : \"11\",\"layer\" : -1,\"highlight\" : true,\"menus\" : {},\"callbacks\" : {}},\"470\" : {\"x\" : 0,\"y\" : 0,\"type\" : \"circle\",\"size\" : 10,\"info\" : {},\"id\" : \"470\",\"title\" : \"22\",\"layer\" : -2,\"highlight\" : true,\"menus\" : {},\"callbacks\" : {}},\"471\" : {\"x\" : 0,\"y\" : 0,\"type\" : \"circle\",\"size\" : 10,\"info\" : {},\"id\" : \"471\",\"title\" : \"33\",\"layer\" : -3,\"highlight\" : true,\"menus\" : {},\"callbacks\" : {}},\"472\" : {\"x\" : 0,\"y\" : 0,\"type\" : \"circle\",\"size\" : 10,\"info\" : {},\"id\" : \"472\",\"title\" : \"44\",\"layer\" : -4,\"highlight\" : true,\"menus\" : {},\"callbacks\" : {}},\"473\" : {\"x\" : 0,\"y\" : 0,\"type\" : \"circle\",\"size\" : 10,\"info\" : {},\"id\" : \"473\",\"title\" : \"55\",\"layer\" : -5,\"highlight\" : true,\"menus\" : {},\"callbacks\" : {}},\"474\" : {\"x\" : 0,\"y\" : 0,\"type\" : \"circle\",\"size\" : 10,\"info\" : {},\"id\" : \"474\",\"title\" : \"66\",\"layer\" : -6,\"highlight\" : true,\"menus\" : {},\"callbacks\" : {}},\"475\" : {\"x\" : 0,\"y\" : 0,\"type\" : \"circle\",\"size\" : 10,\"info\" : {},\"id\" : \"475\",\"title\" : \"57\",\"layer\" : -3,\"highlight\" : true,\"menus\" : {},\"callbacks\" : {}},\"476\" : {\"x\" : 0,\"y\" : 0,\"type\" : \"circle\",\"size\" : 10,\"info\" : {},\"id\" : \"476\",\"title\" : \"38\",\"layer\" : -2,\"highlight\" : true,\"menus\" : {},\"callbacks\" : {}},\"477\" : {\"x\" : 0,\"y\" : 0,\"type\" : \"circle\",\"size\" : 10,\"info\" : {},\"id\" : \"477\",\"title\" : \"19\",\"layer\" : -1,\"highlight\" : true,\"menus\" : {},\"callbacks\" : {}}},\"links\" : {\"478\" : {\"source\" : \"469\",\"id\" : \"478\",\"target\" : \"468\"},\"479\" : {\"source\" : \"470\",\"id\" : \"479\",\"target\" : \"469\"},\"480\" : {\"source\" : \"471\",\"id\" : \"480\",\"target\" : \"470\"},\"481\" : {\"source\" : \"472\",\"id\" : \"481\",\"target\" : \"471\"},\"482\" : {\"source\" : \"473\",\"id\" : \"482\",\"target\" : \"472\"},\"483\" : {\"source\" : \"474\",\"id\" : \"483\",\"target\" : \"473\"},\"484\" : {\"source\" : \"475\",\"id\" : \"484\",\"target\" : \"476\"},\"485\" : {\"source\" : \"476\",\"id\" : \"485\",\"target\" : \"477\"},\"486\" : {\"source\" : \"477\",\"id\" : \"486\",\"target\" : \"468\"}}}}}"
     },
     "execution_count": 154,
     "metadata": {},
     "output_type": "execute_result"
    }
   ],
   "source": [
    "apery(NumericalSemigroup(10,11,19));"
   ]
  }
 ],
 "metadata": {
  "kernelspec": {
   "display_name": "GAP 4 (native)",
   "language": "gap",
   "name": "gap-native"
  },
  "language_info": {
   "codemirror_mode": "gap",
   "file_extension": ".g",
   "mimetype": "text/x-gap",
   "name": "GAP (native)",
   "nbconvert_exporter": "",
   "pygments_lexer": "gap",
   "version": "4.dev"
  }
 },
 "nbformat": 4,
 "nbformat_minor": 2
}
