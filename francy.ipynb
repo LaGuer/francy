{
 "cells": [
  {
   "cell_type": "markdown",
   "metadata": {},
   "source": [
    "### Load Francy Package"
   ]
  },
  {
   "cell_type": "code",
   "execution_count": 1,
   "metadata": {},
   "outputs": [
    {
     "data": {
      "text/plain": [
       "true"
      ]
     },
     "execution_count": 1,
     "metadata": {},
     "output_type": "execute_result"
    }
   ],
   "source": [
    "LoadPackage(\"francy\");"
   ]
  },
  {
   "cell_type": "markdown",
   "metadata": {},
   "source": [
    "# Graphs\n",
    "\n",
    "### Callbacks\n",
    "\n",
    "Click on the menu to add nodes to the canvas.\n",
    "\n",
    "Try adding 500 of each.\n",
    "\n",
    "Zoom in and out using the mouse wheel."
   ]
  },
  {
   "cell_type": "code",
   "execution_count": 18,
   "metadata": {},
   "outputs": [
    {
     "data": {
      "text/plain": [
       "<object>"
      ]
     },
     "execution_count": 2,
     "metadata": {},
     "output_type": "execute_result"
    },
    {
     "data": {
      "text/plain": [
       "400"
      ]
     },
     "execution_count": 3,
     "metadata": {},
     "output_type": "execute_result"
    },
    {
     "data": {
      "text/plain": [
       "<object>"
      ]
     },
     "execution_count": 4,
     "metadata": {},
     "output_type": "execute_result"
    },
    {
     "data": {
      "text/plain": [
       "function( n ) ... end"
      ]
     },
     "execution_count": 5,
     "metadata": {},
     "output_type": "execute_result"
    },
    {
     "data": {
      "text/plain": [
       "function( n ) ... end"
      ]
     },
     "execution_count": 6,
     "metadata": {},
     "output_type": "execute_result"
    },
    {
     "data": {
      "text/plain": [
       "function(  ) ... end"
      ]
     },
     "execution_count": 7,
     "metadata": {},
     "output_type": "execute_result"
    },
    {
     "data": {
      "text/plain": [
       "<object>"
      ]
     },
     "execution_count": 8,
     "metadata": {},
     "output_type": "execute_result"
    },
    {
     "data": {
      "text/plain": [
       "<object>"
      ]
     },
     "execution_count": 9,
     "metadata": {},
     "output_type": "execute_result"
    },
    {
     "data": {
      "text/plain": [
       "<object>"
      ]
     },
     "execution_count": 11,
     "metadata": {},
     "output_type": "execute_result"
    },
    {
     "data": {
      "text/plain": [
       "<object>"
      ]
     },
     "execution_count": 12,
     "metadata": {},
     "output_type": "execute_result"
    },
    {
     "data": {
      "text/plain": [
       "<object>"
      ]
     },
     "execution_count": 13,
     "metadata": {},
     "output_type": "execute_result"
    },
    {
     "data": {
      "text/plain": [
       "<object>"
      ]
     },
     "execution_count": 15,
     "metadata": {},
     "output_type": "execute_result"
    },
    {
     "data": {
      "text/plain": [
       "<object>"
      ]
     },
     "execution_count": 16,
     "metadata": {},
     "output_type": "execute_result"
    },
    {
     "data": {
      "application/vnd.francy+json": "{\"mime\" : \"application\\/vnd.francy+json\",\"canvas\" : {\"h\" : 400,\"width\" : \"800\",\"height\" : \"600\",\"id\" : \"B06212CEB92941256CD0C925F3CC61FD\",\"title\" : \"Add circles on demand\",\"menus\" : {\"F74B9D246DD541C484E418CB16956DA0\" : {\"id\" : \"F74B9D246DD541C484E418CB16956DA0\",\"title\" : \"Add Circle\",\"callback\" : {\"id\" : \"FF362CF34FE34521EC835B679ACE7338\",\"trigger\" : \"click\",\"knownArgs\" : [],\"requiredArgs\" : {\"16F84EF01FBE4F14B485CA820A658A6B\" : {\"type\" : \"number\",\"id\" : \"16F84EF01FBE4F14B485CA820A658A6B\",\"title\" : \"How many Circles?\",\"value\" : \"\"}}},\"menus\" : {}},\"0935E1111DD14DF13C7643305440A90F\" : {\"id\" : \"0935E1111DD14DF13C7643305440A90F\",\"title\" : \"Add Square\",\"callback\" : {\"id\" : \"334DE0F3A9274F09AC133BF44D541601\",\"trigger\" : \"click\",\"knownArgs\" : [],\"requiredArgs\" : {\"B704B29DD31C4062A4A90467202E2480\" : {\"type\" : \"number\",\"id\" : \"B704B29DD31C4062A4A90467202E2480\",\"title\" : \"How many Squares?\",\"value\" : \"\"}}},\"menus\" : {}},\"550DCE4E3D6F49DF3CAB08FAB4D5D25B\" : {\"id\" : \"550DCE4E3D6F49DF3CAB08FAB4D5D25B\",\"title\" : \"Clear\",\"callback\" : {\"id\" : \"C5452D576AF74C9EF4FB46A59E28D428\",\"trigger\" : \"click\",\"knownArgs\" : [],\"requiredArgs\" : {}},\"menus\" : {}}},\"graph\" : {\"type\" : \"hasse\",\"id\" : \"1DE6EE59E29D4239443125A0840082FE\",\"simulation\" : true,\"nodes\" : {},\"links\" : {}}}}"
     },
     "execution_count": 18,
     "metadata": {},
     "output_type": "execute_result"
    }
   ],
   "source": [
    "canvas := Canvas(\"Add circles on demand\");\n",
    "canvas!.h := 400;\n",
    "\n",
    "graph := Graph(GraphType.HASSE);\n",
    "\n",
    "AddCircle := function(n)\n",
    "    local i, shape;\n",
    "    for i in [1..Int(n)] do\n",
    "        shape := Shape(ShapeType.CIRCLE, String(i));\n",
    "        shape!.layer := Random([1..16]);\n",
    "        Add(graph, shape);\n",
    "    od;\n",
    "    return Draw(canvas);\n",
    "end;\n",
    "\n",
    "AddSquare := function(n)\n",
    "    local i, shape;\n",
    "    for i in [1..Int(n)] do\n",
    "        shape := Shape(ShapeType.SQUARE, String(i));\n",
    "        shape!.layer := Random([1..16]);\n",
    "        Add(graph, shape);\n",
    "    od;\n",
    "    return Draw(canvas);\n",
    "end;\n",
    "\n",
    "ClearGraph := function()\n",
    "    canvas!.graph := rec();\n",
    "    return Draw(canvas);\n",
    "end;\n",
    "\n",
    "callback1 := Callback(AddCircle);\n",
    "arg1 := RequiredArg(ArgType.NUMBER, \"How many Circles?\");\n",
    "Add(callback1, arg1);\n",
    "menu1 := Menu( \"Add Circle\", callback1 );\n",
    "\n",
    "callback2 := Callback(AddSquare);\n",
    "arg2 := RequiredArg(ArgType.NUMBER, \"How many Squares?\");\n",
    "Add(callback2, arg2);\n",
    "menu2 := Menu( \"Add Square\", callback2 );\n",
    "\n",
    "menu3 := Menu( \"Clear\", Callback(ClearGraph));\n",
    "\n",
    "Add(canvas, [graph, menu1, menu2, menu3]);\n",
    "\n",
    "Draw(canvas);"
   ]
  },
  {
   "cell_type": "markdown",
   "metadata": {},
   "source": [
    "### Linked Nodes and Shape Menus\n",
    "\n",
    "Right click on the Shape G for more actions"
   ]
  },
  {
   "cell_type": "code",
   "execution_count": 54,
   "metadata": {},
   "outputs": [
    {
     "data": {
      "text/plain": [
       "<object>"
      ]
     },
     "execution_count": 19,
     "metadata": {},
     "output_type": "execute_result"
    },
    {
     "data": {
      "text/plain": [
       "<object>"
      ]
     },
     "execution_count": 20,
     "metadata": {},
     "output_type": "execute_result"
    },
    {
     "data": {
      "text/plain": [
       "0"
      ]
     },
     "execution_count": 21,
     "metadata": {},
     "output_type": "execute_result"
    },
    {
     "data": {
      "text/plain": [
       "<object>"
      ]
     },
     "execution_count": 23,
     "metadata": {},
     "output_type": "execute_result"
    },
    {
     "data": {
      "text/plain": [
       "3"
      ]
     },
     "execution_count": 24,
     "metadata": {},
     "output_type": "execute_result"
    },
    {
     "data": {
      "text/plain": [
       "<object>"
      ]
     },
     "execution_count": 26,
     "metadata": {},
     "output_type": "execute_result"
    },
    {
     "data": {
      "text/plain": [
       "1"
      ]
     },
     "execution_count": 27,
     "metadata": {},
     "output_type": "execute_result"
    },
    {
     "data": {
      "text/plain": [
       "<object>"
      ]
     },
     "execution_count": 30,
     "metadata": {},
     "output_type": "execute_result"
    },
    {
     "data": {
      "text/plain": [
       "2"
      ]
     },
     "execution_count": 31,
     "metadata": {},
     "output_type": "execute_result"
    },
    {
     "data": {
      "text/plain": [
       "<object>"
      ]
     },
     "execution_count": 35,
     "metadata": {},
     "output_type": "execute_result"
    },
    {
     "data": {
      "text/plain": [
       "2"
      ]
     },
     "execution_count": 36,
     "metadata": {},
     "output_type": "execute_result"
    },
    {
     "data": {
      "text/plain": [
       "<object>"
      ]
     },
     "execution_count": 40,
     "metadata": {},
     "output_type": "execute_result"
    },
    {
     "data": {
      "text/plain": [
       "2"
      ]
     },
     "execution_count": 41,
     "metadata": {},
     "output_type": "execute_result"
    },
    {
     "data": {
      "text/plain": [
       "<object>"
      ]
     },
     "execution_count": 45,
     "metadata": {},
     "output_type": "execute_result"
    },
    {
     "data": {
      "text/plain": [
       "400"
      ]
     },
     "execution_count": 46,
     "metadata": {},
     "output_type": "execute_result"
    },
    {
     "data": {
      "text/plain": [
       "function( n ) ... end"
      ]
     },
     "execution_count": 47,
     "metadata": {},
     "output_type": "execute_result"
    },
    {
     "data": {
      "text/plain": [
       "<object>"
      ]
     },
     "execution_count": 48,
     "metadata": {},
     "output_type": "execute_result"
    },
    {
     "data": {
      "text/plain": [
       "<object>"
      ]
     },
     "execution_count": 49,
     "metadata": {},
     "output_type": "execute_result"
    },
    {
     "data": {
      "application/vnd.francy+json": "{\"mime\" : \"application\\/vnd.francy+json\",\"canvas\" : {\"h\" : 400,\"width\" : \"800\",\"height\" : \"600\",\"id\" : \"893471BC9EC94849B42DB8268A9D1AB6\",\"title\" : \"Quaternion Group Subgroup Lattice\",\"menus\" : {},\"graph\" : {\"type\" : \"hasse\",\"id\" : \"BADFB1FBB15143125C5771BF1E49AAAC\",\"simulation\" : true,\"nodes\" : {\"BC3E1C907D124ABCB4D37AFC978D49C0\" : {\"x\" : 0,\"y\" : 0,\"type\" : \"diamond\",\"size\" : 10,\"info\" : {},\"id\" : \"BC3E1C907D124ABCB4D37AFC978D49C0\",\"title\" : \"Right Click Me\",\"layer\" : 0,\"menus\" : {\"9980C3AB1FE8467A0C39E0816714D39D\" : {\"id\" : \"9980C3AB1FE8467A0C39E0816714D39D\",\"title\" : \"Add Square\",\"callback\" : {\"id\" : \"EE444EE1F5F64CD1BC9BD25BD64986EE\",\"trigger\" : \"click\",\"knownArgs\" : [],\"requiredArgs\" : {\"6E20A7A3B1004032E4CE51E46A17101F\" : {\"type\" : \"number\",\"id\" : \"6E20A7A3B1004032E4CE51E46A17101F\",\"title\" : \"How many Squares?\",\"value\" : \"\"}}},\"menus\" : {}}},\"highlight\" : true,\"callbacks\" : {}},\"9A4E435F8A234BBD34DD34C838182A5C\" : {\"x\" : 0,\"y\" : 0,\"type\" : \"wye\",\"size\" : 10,\"info\" : {},\"id\" : \"9A4E435F8A234BBD34DD34C838182A5C\",\"title\" : \"1\",\"layer\" : 3,\"menus\" : {},\"highlight\" : true,\"callbacks\" : {}},\"8F794C1FA828467404CA41218DCFC68D\" : {\"x\" : 0,\"y\" : 0,\"type\" : \"circle\",\"size\" : 10,\"info\" : {},\"id\" : \"8F794C1FA828467404CA41218DCFC68D\",\"title\" : \"SG1\",\"layer\" : 1,\"menus\" : {},\"highlight\" : true,\"callbacks\" : {}},\"12AC5E185BB641038431E4B4C3456293\" : {\"x\" : 0,\"y\" : 0,\"type\" : \"circle\",\"size\" : 10,\"info\" : {},\"id\" : \"12AC5E185BB641038431E4B4C3456293\",\"title\" : \"SG2\",\"layer\" : 2,\"menus\" : {},\"highlight\" : true,\"callbacks\" : {}},\"E3F02797F57E4022DCE98F0FCF04CBA8\" : {\"x\" : 0,\"y\" : 0,\"type\" : \"circle\",\"size\" : 10,\"info\" : {},\"id\" : \"E3F02797F57E4022DCE98F0FCF04CBA8\",\"title\" : \"SG3\",\"layer\" : 2,\"menus\" : {},\"highlight\" : true,\"callbacks\" : {}},\"70650600519E474F5465932AD7970059\" : {\"x\" : 0,\"y\" : 0,\"type\" : \"circle\",\"size\" : 10,\"info\" : {},\"id\" : \"70650600519E474F5465932AD7970059\",\"title\" : \"Click Me\",\"layer\" : 2,\"menus\" : {},\"highlight\" : true,\"callbacks\" : {\"EE444EE1F5F64CD1BC9BD25BD64986EE\" : {\"id\" : \"EE444EE1F5F64CD1BC9BD25BD64986EE\",\"trigger\" : \"click\",\"knownArgs\" : [],\"requiredArgs\" : {\"6E20A7A3B1004032E4CE51E46A17101F\" : {\"type\" : \"number\",\"id\" : \"6E20A7A3B1004032E4CE51E46A17101F\",\"title\" : \"How many Squares?\",\"value\" : \"\"}}}}}},\"links\" : {\"366688A254054F9AFC43A6EA5008CAD2\" : {\"source\" : \"BC3E1C907D124ABCB4D37AFC978D49C0\",\"id\" : \"366688A254054F9AFC43A6EA5008CAD2\",\"target\" : \"8F794C1FA828467404CA41218DCFC68D\"},\"4509A7188928455C64B962BCBF295BF1\" : {\"source\" : \"8F794C1FA828467404CA41218DCFC68D\",\"id\" : \"4509A7188928455C64B962BCBF295BF1\",\"target\" : \"12AC5E185BB641038431E4B4C3456293\"},\"682E684B60AC4F4CCCEED7EAB57AE7DA\" : {\"source\" : \"12AC5E185BB641038431E4B4C3456293\",\"id\" : \"682E684B60AC4F4CCCEED7EAB57AE7DA\",\"target\" : \"9A4E435F8A234BBD34DD34C838182A5C\"},\"8C1F96C773474A8154A4C46BB113E35E\" : {\"source\" : \"8F794C1FA828467404CA41218DCFC68D\",\"id\" : \"8C1F96C773474A8154A4C46BB113E35E\",\"target\" : \"E3F02797F57E4022DCE98F0FCF04CBA8\"},\"98C36F7AB1D945CC9C7DE79A8C6E8CC7\" : {\"source\" : \"E3F02797F57E4022DCE98F0FCF04CBA8\",\"id\" : \"98C36F7AB1D945CC9C7DE79A8C6E8CC7\",\"target\" : \"9A4E435F8A234BBD34DD34C838182A5C\"},\"AC5309F8108F4A06F49F78E45EF88986\" : {\"source\" : \"8F794C1FA828467404CA41218DCFC68D\",\"id\" : \"AC5309F8108F4A06F49F78E45EF88986\",\"target\" : \"70650600519E474F5465932AD7970059\"},\"18FE4D8176C446357C71A0CC5EE3A37F\" : {\"source\" : \"70650600519E474F5465932AD7970059\",\"id\" : \"18FE4D8176C446357C71A0CC5EE3A37F\",\"target\" : \"9A4E435F8A234BBD34DD34C838182A5C\"}}}}}"
     },
     "execution_count": 54,
     "metadata": {},
     "output_type": "execute_result"
    }
   ],
   "source": [
    "graph2 := Graph(GraphType.HASSE);\n",
    "\n",
    "shapeG := Shape(ShapeType.DIAMOND, \"Right Click Me\");\n",
    "shapeG!.layer := 0;\n",
    "Add(graph2, shapeG);\n",
    "shape1 := Shape(ShapeType.WYE, \"1\");\n",
    "shape1!.layer := 3;\n",
    "Add(graph2, shape1);\n",
    "\n",
    "shapeSG1 := Shape(ShapeType.CIRCLE, \"SG1\");\n",
    "shapeSG1!.layer := 1;\n",
    "Add(graph2, shapeSG1);\n",
    "Add(graph2, Link(shapeG, shapeSG1));\n",
    "\n",
    "shapeSG2 := Shape(ShapeType.CIRCLE, \"SG2\");\n",
    "shapeSG2!.layer := 2;\n",
    "Add(graph2, shapeSG2);\n",
    "Add(graph2, Link(shapeSG1, shapeSG2));\n",
    "Add(graph2, Link(shapeSG2, shape1));\n",
    "\n",
    "shapeSG3 := Shape(ShapeType.CIRCLE, \"SG3\");\n",
    "shapeSG3!.layer := 2;\n",
    "Add(graph2, shapeSG3);\n",
    "Add(graph2, Link(shapeSG1, shapeSG3));\n",
    "Add(graph2, Link(shapeSG3, shape1));\n",
    "\n",
    "shapeSG4 := Shape(ShapeType.CIRCLE, \"Click Me\");\n",
    "shapeSG4!.layer := 2;\n",
    "Add(graph2, shapeSG4);\n",
    "Add(graph2, Link(shapeSG1, shapeSG4));\n",
    "Add(graph2, Link(shapeSG4, shape1));\n",
    "\n",
    "canvas2 := Canvas(\"Quaternion Group Subgroup Lattice\");\n",
    "canvas2!.h := 400;\n",
    "\n",
    "AddSquare := function(n)\n",
    "    local i, shape;\n",
    "    for i in [1..Int(n)] do\n",
    "        shape := Shape(ShapeType.SQUARE, String(i));\n",
    "        shape!.layer := Random([1..16]);\n",
    "        Add(graph2, shape);\n",
    "    od;\n",
    "    return Draw(canvas2);\n",
    "end;\n",
    "\n",
    "cb := Callback(AddSquare);\n",
    "a1 := RequiredArg(ArgType.NUMBER, \"How many Squares?\");\n",
    "Add(cb, a1);\n",
    "\n",
    "Add(shapeG, Menu(\"Add Square\", cb));\n",
    "Add(shapeSG4, cb);\n",
    "\n",
    "Add(canvas2, graph2);\n",
    "\n",
    "Draw(canvas2);"
   ]
  },
  {
   "cell_type": "markdown",
   "metadata": {},
   "source": [
    "### An attempt to LatticeSubgroups By Markus"
   ]
  },
  {
   "cell_type": "code",
   "execution_count": 58,
   "metadata": {},
   "outputs": [
    {
     "data": {
      "text/plain": [
       "function( L ) ... end"
      ]
     },
     "execution_count": 55,
     "metadata": {},
     "output_type": "execute_result"
    },
    {
     "data": {
      "text/plain": [
       "<object>"
      ]
     },
     "execution_count": 56,
     "metadata": {},
     "output_type": "execute_result"
    },
    {
     "data": {
      "application/vnd.francy+json": "{\"mime\" : \"application\\/vnd.francy+json\",\"canvas\" : {\"width\" : \"800\",\"height\" : \"600\",\"id\" : \"70C0C02B07B84DB34C05ECEED45E49C0\",\"title\" : \"Lattice Subgroups\",\"menus\" : {},\"graph\" : {\"type\" : \"hasse\",\"id\" : \"0B1E608E0B7844971C520DBC7A9E74A1\",\"simulation\" : true,\"nodes\" : {\"4D178A036EF742C2BC6C055D9B907FB9\" : {\"x\" : 0,\"y\" : 0,\"type\" : \"circle\",\"size\" : 10,\"info\" : {},\"id\" : \"4D178A036EF742C2BC6C055D9B907FB9\",\"title\" : \"1\",\"layer\" : 1,\"menus\" : {},\"highlight\" : true,\"callbacks\" : {}},\"6712D58088354743248E80CD0871AE9A\" : {\"x\" : 0,\"y\" : 0,\"type\" : \"diamond\",\"size\" : 10,\"info\" : {},\"id\" : \"6712D58088354743248E80CD0871AE9A\",\"title\" : \"2\",\"layer\" : 2,\"menus\" : {},\"highlight\" : true,\"callbacks\" : {}},\"AE9D1BE0EA16438874B27FE539D34269\" : {\"x\" : 0,\"y\" : 0,\"type\" : \"diamond\",\"size\" : 10,\"info\" : {},\"id\" : \"AE9D1BE0EA16438874B27FE539D34269\",\"title\" : \"2\",\"layer\" : 2,\"menus\" : {},\"highlight\" : true,\"callbacks\" : {}},\"137DB56349C44C86349415D8DBC577B4\" : {\"x\" : 0,\"y\" : 0,\"type\" : \"diamond\",\"size\" : 10,\"info\" : {},\"id\" : \"137DB56349C44C86349415D8DBC577B4\",\"title\" : \"2\",\"layer\" : 2,\"menus\" : {},\"highlight\" : true,\"callbacks\" : {}},\"972A7D3A2BD2428E84513487EA9965A8\" : {\"x\" : 0,\"y\" : 0,\"type\" : \"diamond\",\"size\" : 10,\"info\" : {},\"id\" : \"972A7D3A2BD2428E84513487EA9965A8\",\"title\" : \"3\",\"layer\" : 2,\"menus\" : {},\"highlight\" : true,\"callbacks\" : {}},\"4358CADED853411B94A33DAB4A036C8D\" : {\"x\" : 0,\"y\" : 0,\"type\" : \"diamond\",\"size\" : 10,\"info\" : {},\"id\" : \"4358CADED853411B94A33DAB4A036C8D\",\"title\" : \"3\",\"layer\" : 2,\"menus\" : {},\"highlight\" : true,\"callbacks\" : {}},\"8B6637E1BB054FCE7CD574E607BE624A\" : {\"x\" : 0,\"y\" : 0,\"type\" : \"diamond\",\"size\" : 10,\"info\" : {},\"id\" : \"8B6637E1BB054FCE7CD574E607BE624A\",\"title\" : \"3\",\"layer\" : 2,\"menus\" : {},\"highlight\" : true,\"callbacks\" : {}},\"330476CCC97F40C484795D0F126D75CE\" : {\"x\" : 0,\"y\" : 0,\"type\" : \"diamond\",\"size\" : 10,\"info\" : {},\"id\" : \"330476CCC97F40C484795D0F126D75CE\",\"title\" : \"3\",\"layer\" : 2,\"menus\" : {},\"highlight\" : true,\"callbacks\" : {}},\"CD8CD831DB1B4C93CC1771842D80FD45\" : {\"x\" : 0,\"y\" : 0,\"type\" : \"diamond\",\"size\" : 10,\"info\" : {},\"id\" : \"CD8CD831DB1B4C93CC1771842D80FD45\",\"title\" : \"3\",\"layer\" : 2,\"menus\" : {},\"highlight\" : true,\"callbacks\" : {}},\"E29E81CAF5734142D4115FBBCB27CD5C\" : {\"x\" : 0,\"y\" : 0,\"type\" : \"diamond\",\"size\" : 10,\"info\" : {},\"id\" : \"E29E81CAF5734142D4115FBBCB27CD5C\",\"title\" : \"3\",\"layer\" : 2,\"menus\" : {},\"highlight\" : true,\"callbacks\" : {}},\"C17233E967514F6CE4F0F353D6A14C85\" : {\"x\" : 0,\"y\" : 0,\"type\" : \"diamond\",\"size\" : 10,\"info\" : {},\"id\" : \"C17233E967514F6CE4F0F353D6A14C85\",\"title\" : \"4\",\"layer\" : 3,\"menus\" : {},\"highlight\" : true,\"callbacks\" : {}},\"B64AF9C0DF8844D5549A677F3E73A8E0\" : {\"x\" : 0,\"y\" : 0,\"type\" : \"diamond\",\"size\" : 10,\"info\" : {},\"id\" : \"B64AF9C0DF8844D5549A677F3E73A8E0\",\"title\" : \"4\",\"layer\" : 3,\"menus\" : {},\"highlight\" : true,\"callbacks\" : {}},\"F8A6855F5AC54313B45FE0312895B7F2\" : {\"x\" : 0,\"y\" : 0,\"type\" : \"diamond\",\"size\" : 10,\"info\" : {},\"id\" : \"F8A6855F5AC54313B45FE0312895B7F2\",\"title\" : \"4\",\"layer\" : 3,\"menus\" : {},\"highlight\" : true,\"callbacks\" : {}},\"C31B35D78FF84F2B8C6FAADDC0DB0052\" : {\"x\" : 0,\"y\" : 0,\"type\" : \"diamond\",\"size\" : 10,\"info\" : {},\"id\" : \"C31B35D78FF84F2B8C6FAADDC0DB0052\",\"title\" : \"4\",\"layer\" : 3,\"menus\" : {},\"highlight\" : true,\"callbacks\" : {}},\"7634F3CE41084B803C4699F24E14D4A0\" : {\"x\" : 0,\"y\" : 0,\"type\" : \"circle\",\"size\" : 10,\"info\" : {},\"id\" : \"7634F3CE41084B803C4699F24E14D4A0\",\"title\" : \"5\",\"layer\" : 4,\"menus\" : {},\"highlight\" : true,\"callbacks\" : {}},\"DF3C3C926F384025CC730F076C1FBC14\" : {\"x\" : 0,\"y\" : 0,\"type\" : \"diamond\",\"size\" : 10,\"info\" : {},\"id\" : \"DF3C3C926F384025CC730F076C1FBC14\",\"title\" : \"6\",\"layer\" : 4,\"menus\" : {},\"highlight\" : true,\"callbacks\" : {}},\"14734F04A2EC4D0174E3D02B7040ABE0\" : {\"x\" : 0,\"y\" : 0,\"type\" : \"diamond\",\"size\" : 10,\"info\" : {},\"id\" : \"14734F04A2EC4D0174E3D02B7040ABE0\",\"title\" : \"6\",\"layer\" : 4,\"menus\" : {},\"highlight\" : true,\"callbacks\" : {}},\"0CEC88E53D9F4AD9243579FC2E221BF2\" : {\"x\" : 0,\"y\" : 0,\"type\" : \"diamond\",\"size\" : 10,\"info\" : {},\"id\" : \"0CEC88E53D9F4AD9243579FC2E221BF2\",\"title\" : \"6\",\"layer\" : 4,\"menus\" : {},\"highlight\" : true,\"callbacks\" : {}},\"5CDD6C14340F4CE52CB819785F23B0BB\" : {\"x\" : 0,\"y\" : 0,\"type\" : \"diamond\",\"size\" : 10,\"info\" : {},\"id\" : \"5CDD6C14340F4CE52CB819785F23B0BB\",\"title\" : \"7\",\"layer\" : 4,\"menus\" : {},\"highlight\" : true,\"callbacks\" : {}},\"395B367C2F9243410CB0A7E8BCCF58D6\" : {\"x\" : 0,\"y\" : 0,\"type\" : \"diamond\",\"size\" : 10,\"info\" : {},\"id\" : \"395B367C2F9243410CB0A7E8BCCF58D6\",\"title\" : \"7\",\"layer\" : 4,\"menus\" : {},\"highlight\" : true,\"callbacks\" : {}},\"F2206DA17A2A442A9C27B0E5619816C4\" : {\"x\" : 0,\"y\" : 0,\"type\" : \"diamond\",\"size\" : 10,\"info\" : {},\"id\" : \"F2206DA17A2A442A9C27B0E5619816C4\",\"title\" : \"7\",\"layer\" : 4,\"menus\" : {},\"highlight\" : true,\"callbacks\" : {}},\"12B892EB1F6944BD1CB9AEEA3E2DC31B\" : {\"x\" : 0,\"y\" : 0,\"type\" : \"diamond\",\"size\" : 10,\"info\" : {},\"id\" : \"12B892EB1F6944BD1CB9AEEA3E2DC31B\",\"title\" : \"8\",\"layer\" : 6,\"menus\" : {},\"highlight\" : true,\"callbacks\" : {}},\"A04511C0F9864CD49421236EAD4681D7\" : {\"x\" : 0,\"y\" : 0,\"type\" : \"diamond\",\"size\" : 10,\"info\" : {},\"id\" : \"A04511C0F9864CD49421236EAD4681D7\",\"title\" : \"8\",\"layer\" : 6,\"menus\" : {},\"highlight\" : true,\"callbacks\" : {}},\"E06BCD46747840705407AA26AB9BA35A\" : {\"x\" : 0,\"y\" : 0,\"type\" : \"diamond\",\"size\" : 10,\"info\" : {},\"id\" : \"E06BCD46747840705407AA26AB9BA35A\",\"title\" : \"8\",\"layer\" : 6,\"menus\" : {},\"highlight\" : true,\"callbacks\" : {}},\"E051511DCE3D4A3A34FDD9BF5CDAD1E4\" : {\"x\" : 0,\"y\" : 0,\"type\" : \"diamond\",\"size\" : 10,\"info\" : {},\"id\" : \"E051511DCE3D4A3A34FDD9BF5CDAD1E4\",\"title\" : \"8\",\"layer\" : 6,\"menus\" : {},\"highlight\" : true,\"callbacks\" : {}},\"F220FEE8575C43BDFC303D047B8FC287\" : {\"x\" : 0,\"y\" : 0,\"type\" : \"diamond\",\"size\" : 10,\"info\" : {},\"id\" : \"F220FEE8575C43BDFC303D047B8FC287\",\"title\" : \"9\",\"layer\" : 8,\"menus\" : {},\"highlight\" : true,\"callbacks\" : {}},\"4B6224E6E985455E6C182BA6BE9E14F8\" : {\"x\" : 0,\"y\" : 0,\"type\" : \"diamond\",\"size\" : 10,\"info\" : {},\"id\" : \"4B6224E6E985455E6C182BA6BE9E14F8\",\"title\" : \"9\",\"layer\" : 8,\"menus\" : {},\"highlight\" : true,\"callbacks\" : {}},\"16B6D4BBBDE549606C32412BD5FCAAC8\" : {\"x\" : 0,\"y\" : 0,\"type\" : \"diamond\",\"size\" : 10,\"info\" : {},\"id\" : \"16B6D4BBBDE549606C32412BD5FCAAC8\",\"title\" : \"9\",\"layer\" : 8,\"menus\" : {},\"highlight\" : true,\"callbacks\" : {}},\"6BF6D40B218C4097549934EF617AE244\" : {\"x\" : 0,\"y\" : 0,\"type\" : \"circle\",\"size\" : 10,\"info\" : {},\"id\" : \"6BF6D40B218C4097549934EF617AE244\",\"title\" : \"10\",\"layer\" : 12,\"menus\" : {},\"highlight\" : true,\"callbacks\" : {}},\"0534FB53BDD644774C20549B32BA5956\" : {\"x\" : 0,\"y\" : 0,\"type\" : \"circle\",\"size\" : 10,\"info\" : {},\"id\" : \"0534FB53BDD644774C20549B32BA5956\",\"title\" : \"11\",\"layer\" : 24,\"menus\" : {},\"highlight\" : true,\"callbacks\" : {}}},\"links\" : {\"A5FAF803A6764D4A4CCD67A4050A220A\" : {\"source\" : \"6712D58088354743248E80CD0871AE9A\",\"id\" : \"A5FAF803A6764D4A4CCD67A4050A220A\",\"target\" : \"4D178A036EF742C2BC6C055D9B907FB9\"},\"9233DFC0128D476E7CDE5B4BC28C4119\" : {\"source\" : \"AE9D1BE0EA16438874B27FE539D34269\",\"id\" : \"9233DFC0128D476E7CDE5B4BC28C4119\",\"target\" : \"4D178A036EF742C2BC6C055D9B907FB9\"},\"49AB204481BE4DB2746E0E0A99D23BF4\" : {\"source\" : \"137DB56349C44C86349415D8DBC577B4\",\"id\" : \"49AB204481BE4DB2746E0E0A99D23BF4\",\"target\" : \"4D178A036EF742C2BC6C055D9B907FB9\"},\"0D2A9C427BFE40F7ECBD19281EA20FDE\" : {\"source\" : \"972A7D3A2BD2428E84513487EA9965A8\",\"id\" : \"0D2A9C427BFE40F7ECBD19281EA20FDE\",\"target\" : \"4D178A036EF742C2BC6C055D9B907FB9\"},\"EB68C370C1574A32DC9184024B615505\" : {\"source\" : \"4358CADED853411B94A33DAB4A036C8D\",\"id\" : \"EB68C370C1574A32DC9184024B615505\",\"target\" : \"4D178A036EF742C2BC6C055D9B907FB9\"},\"04D54A3D08084853E45C38A46FA50732\" : {\"source\" : \"8B6637E1BB054FCE7CD574E607BE624A\",\"id\" : \"04D54A3D08084853E45C38A46FA50732\",\"target\" : \"4D178A036EF742C2BC6C055D9B907FB9\"},\"72ABFFE24A1E42260C3AEC51DEBCCD8E\" : {\"source\" : \"330476CCC97F40C484795D0F126D75CE\",\"id\" : \"72ABFFE24A1E42260C3AEC51DEBCCD8E\",\"target\" : \"4D178A036EF742C2BC6C055D9B907FB9\"},\"A1EBAA063681401F4487D7553543F84B\" : {\"source\" : \"CD8CD831DB1B4C93CC1771842D80FD45\",\"id\" : \"A1EBAA063681401F4487D7553543F84B\",\"target\" : \"4D178A036EF742C2BC6C055D9B907FB9\"},\"F4BBF21ABC0F4084AC4D3A5150300512\" : {\"source\" : \"E29E81CAF5734142D4115FBBCB27CD5C\",\"id\" : \"F4BBF21ABC0F4084AC4D3A5150300512\",\"target\" : \"4D178A036EF742C2BC6C055D9B907FB9\"},\"80E41C321F4D4F5F746D57B3243F58B7\" : {\"source\" : \"C17233E967514F6CE4F0F353D6A14C85\",\"id\" : \"80E41C321F4D4F5F746D57B3243F58B7\",\"target\" : \"4D178A036EF742C2BC6C055D9B907FB9\"},\"4F76BBA7ACE74701FCD9E22C791F50B3\" : {\"source\" : \"B64AF9C0DF8844D5549A677F3E73A8E0\",\"id\" : \"4F76BBA7ACE74701FCD9E22C791F50B3\",\"target\" : \"4D178A036EF742C2BC6C055D9B907FB9\"},\"304228F1438C48FC4CC53118A36DDEF3\" : {\"source\" : \"F8A6855F5AC54313B45FE0312895B7F2\",\"id\" : \"304228F1438C48FC4CC53118A36DDEF3\",\"target\" : \"4D178A036EF742C2BC6C055D9B907FB9\"},\"1DA65586C50E412154E13098345A429B\" : {\"source\" : \"C31B35D78FF84F2B8C6FAADDC0DB0052\",\"id\" : \"1DA65586C50E412154E13098345A429B\",\"target\" : \"4D178A036EF742C2BC6C055D9B907FB9\"},\"EE7AD24B25224FBA0C2555D8DE5904B0\" : {\"source\" : \"7634F3CE41084B803C4699F24E14D4A0\",\"id\" : \"EE7AD24B25224FBA0C2555D8DE5904B0\",\"target\" : \"6712D58088354743248E80CD0871AE9A\"},\"E5E7FB703C864241C433D76189C2C321\" : {\"source\" : \"7634F3CE41084B803C4699F24E14D4A0\",\"id\" : \"E5E7FB703C864241C433D76189C2C321\",\"target\" : \"AE9D1BE0EA16438874B27FE539D34269\"},\"D857D61C34924D2E9CC17C3B49594079\" : {\"source\" : \"7634F3CE41084B803C4699F24E14D4A0\",\"id\" : \"D857D61C34924D2E9CC17C3B49594079\",\"target\" : \"137DB56349C44C86349415D8DBC577B4\"},\"3FB07835D2984E75DC752FAB5A002D2C\" : {\"source\" : \"DF3C3C926F384025CC730F076C1FBC14\",\"id\" : \"3FB07835D2984E75DC752FAB5A002D2C\",\"target\" : \"972A7D3A2BD2428E84513487EA9965A8\"},\"B6633228A61F48F08CD2B33B7F3323F6\" : {\"source\" : \"14734F04A2EC4D0174E3D02B7040ABE0\",\"id\" : \"B6633228A61F48F08CD2B33B7F3323F6\",\"target\" : \"4358CADED853411B94A33DAB4A036C8D\"},\"87BFE1F1E35742B1144A057386232298\" : {\"source\" : \"0CEC88E53D9F4AD9243579FC2E221BF2\",\"id\" : \"87BFE1F1E35742B1144A057386232298\",\"target\" : \"8B6637E1BB054FCE7CD574E607BE624A\"},\"EFFC2981F62448D9DCB9D09C659B69CD\" : {\"source\" : \"DF3C3C926F384025CC730F076C1FBC14\",\"id\" : \"EFFC2981F62448D9DCB9D09C659B69CD\",\"target\" : \"E29E81CAF5734142D4115FBBCB27CD5C\"},\"27732E064B5448530CD62173D4467181\" : {\"source\" : \"14734F04A2EC4D0174E3D02B7040ABE0\",\"id\" : \"27732E064B5448530CD62173D4467181\",\"target\" : \"CD8CD831DB1B4C93CC1771842D80FD45\"},\"4AD0EAE4B45C4A31843FFE7030D936EE\" : {\"source\" : \"0CEC88E53D9F4AD9243579FC2E221BF2\",\"id\" : \"4AD0EAE4B45C4A31843FFE7030D936EE\",\"target\" : \"330476CCC97F40C484795D0F126D75CE\"},\"5B16133ABEEF46241C15AE7D6D83A696\" : {\"source\" : \"DF3C3C926F384025CC730F076C1FBC14\",\"id\" : \"5B16133ABEEF46241C15AE7D6D83A696\",\"target\" : \"137DB56349C44C86349415D8DBC577B4\"},\"15355F09EEDF4D223CBAB50D8BD86B76\" : {\"source\" : \"14734F04A2EC4D0174E3D02B7040ABE0\",\"id\" : \"15355F09EEDF4D223CBAB50D8BD86B76\",\"target\" : \"6712D58088354743248E80CD0871AE9A\"},\"F192A4AFE6364DA60C38E122189F8951\" : {\"source\" : \"0CEC88E53D9F4AD9243579FC2E221BF2\",\"id\" : \"F192A4AFE6364DA60C38E122189F8951\",\"target\" : \"AE9D1BE0EA16438874B27FE539D34269\"},\"244DB4F274954973546F964DD996A8F4\" : {\"source\" : \"5CDD6C14340F4CE52CB819785F23B0BB\",\"id\" : \"244DB4F274954973546F964DD996A8F4\",\"target\" : \"137DB56349C44C86349415D8DBC577B4\"},\"B25AA35C021A46D48CC4B05A582E5255\" : {\"source\" : \"395B367C2F9243410CB0A7E8BCCF58D6\",\"id\" : \"B25AA35C021A46D48CC4B05A582E5255\",\"target\" : \"6712D58088354743248E80CD0871AE9A\"},\"78343F4BC93D48055471A718070FB046\" : {\"source\" : \"F2206DA17A2A442A9C27B0E5619816C4\",\"id\" : \"78343F4BC93D48055471A718070FB046\",\"target\" : \"AE9D1BE0EA16438874B27FE539D34269\"},\"A9320E8E2C35439A0C55328CE67C913C\" : {\"source\" : \"12B892EB1F6944BD1CB9AEEA3E2DC31B\",\"id\" : \"A9320E8E2C35439A0C55328CE67C913C\",\"target\" : \"C17233E967514F6CE4F0F353D6A14C85\"},\"2F1BDE291B81489B4C8E2DD54BECF24B\" : {\"source\" : \"A04511C0F9864CD49421236EAD4681D7\",\"id\" : \"2F1BDE291B81489B4C8E2DD54BECF24B\",\"target\" : \"B64AF9C0DF8844D5549A677F3E73A8E0\"},\"1900EA2C8F0A4CC564164ED0EE880CFD\" : {\"source\" : \"E06BCD46747840705407AA26AB9BA35A\",\"id\" : \"1900EA2C8F0A4CC564164ED0EE880CFD\",\"target\" : \"F8A6855F5AC54313B45FE0312895B7F2\"},\"AE7BF8DF3F5649208C829AF42607CBC3\" : {\"source\" : \"E051511DCE3D4A3A34FDD9BF5CDAD1E4\",\"id\" : \"AE7BF8DF3F5649208C829AF42607CBC3\",\"target\" : \"C31B35D78FF84F2B8C6FAADDC0DB0052\"},\"5E37177F9BB94B5B6CE1C1CCD8B16B14\" : {\"source\" : \"12B892EB1F6944BD1CB9AEEA3E2DC31B\",\"id\" : \"5E37177F9BB94B5B6CE1C1CCD8B16B14\",\"target\" : \"972A7D3A2BD2428E84513487EA9965A8\"},\"33A6E50E97694B5A644BBAB813AC9ED1\" : {\"source\" : \"A04511C0F9864CD49421236EAD4681D7\",\"id\" : \"33A6E50E97694B5A644BBAB813AC9ED1\",\"target\" : \"CD8CD831DB1B4C93CC1771842D80FD45\"},\"63B36EC6B96D4BCC6425763B5F0B9868\" : {\"source\" : \"E06BCD46747840705407AA26AB9BA35A\",\"id\" : \"63B36EC6B96D4BCC6425763B5F0B9868\",\"target\" : \"CD8CD831DB1B4C93CC1771842D80FD45\"},\"EBDBFA4C8B6140D8147B109BBB9ECCE9\" : {\"source\" : \"E051511DCE3D4A3A34FDD9BF5CDAD1E4\",\"id\" : \"EBDBFA4C8B6140D8147B109BBB9ECCE9\",\"target\" : \"330476CCC97F40C484795D0F126D75CE\"},\"BCD0AC7B2AF24880A4BBD53AD677E6B0\" : {\"source\" : \"12B892EB1F6944BD1CB9AEEA3E2DC31B\",\"id\" : \"BCD0AC7B2AF24880A4BBD53AD677E6B0\",\"target\" : \"4358CADED853411B94A33DAB4A036C8D\"},\"0DBAB5F40B5D4EAD540DA4435782C4D8\" : {\"source\" : \"A04511C0F9864CD49421236EAD4681D7\",\"id\" : \"0DBAB5F40B5D4EAD540DA4435782C4D8\",\"target\" : \"E29E81CAF5734142D4115FBBCB27CD5C\"},\"BB556826C9BA439774237E2F06E02357\" : {\"source\" : \"E06BCD46747840705407AA26AB9BA35A\",\"id\" : \"BB556826C9BA439774237E2F06E02357\",\"target\" : \"330476CCC97F40C484795D0F126D75CE\"},\"9FB57AD84B2249063C8C0533AB949C62\" : {\"source\" : \"E051511DCE3D4A3A34FDD9BF5CDAD1E4\",\"id\" : \"9FB57AD84B2249063C8C0533AB949C62\",\"target\" : \"E29E81CAF5734142D4115FBBCB27CD5C\"},\"9790D930D43840B17C812F71777B06D0\" : {\"source\" : \"12B892EB1F6944BD1CB9AEEA3E2DC31B\",\"id\" : \"9790D930D43840B17C812F71777B06D0\",\"target\" : \"8B6637E1BB054FCE7CD574E607BE624A\"},\"1F7052BBA04A4DDB242EF4F7C5A99598\" : {\"source\" : \"A04511C0F9864CD49421236EAD4681D7\",\"id\" : \"1F7052BBA04A4DDB242EF4F7C5A99598\",\"target\" : \"8B6637E1BB054FCE7CD574E607BE624A\"},\"C6A9944CD86B443E7C342BF378CDD1C0\" : {\"source\" : \"E06BCD46747840705407AA26AB9BA35A\",\"id\" : \"C6A9944CD86B443E7C342BF378CDD1C0\",\"target\" : \"972A7D3A2BD2428E84513487EA9965A8\"},\"B3FEBDF7E7964C8624D124FF694D973A\" : {\"source\" : \"E051511DCE3D4A3A34FDD9BF5CDAD1E4\",\"id\" : \"B3FEBDF7E7964C8624D124FF694D973A\",\"target\" : \"4358CADED853411B94A33DAB4A036C8D\"},\"04453510D96946ED4C05ABC611B6675E\" : {\"source\" : \"F220FEE8575C43BDFC303D047B8FC287\",\"id\" : \"04453510D96946ED4C05ABC611B6675E\",\"target\" : \"5CDD6C14340F4CE52CB819785F23B0BB\"},\"F1F20A5AAEB340ABC4213030FE3E2BF8\" : {\"source\" : \"4B6224E6E985455E6C182BA6BE9E14F8\",\"id\" : \"F1F20A5AAEB340ABC4213030FE3E2BF8\",\"target\" : \"395B367C2F9243410CB0A7E8BCCF58D6\"},\"D74AAD976214418494B400CF1C414081\" : {\"source\" : \"16B6D4BBBDE549606C32412BD5FCAAC8\",\"id\" : \"D74AAD976214418494B400CF1C414081\",\"target\" : \"F2206DA17A2A442A9C27B0E5619816C4\"},\"6E940BF42AFB4B2D0C5B78C3359D93BC\" : {\"source\" : \"F220FEE8575C43BDFC303D047B8FC287\",\"id\" : \"6E940BF42AFB4B2D0C5B78C3359D93BC\",\"target\" : \"DF3C3C926F384025CC730F076C1FBC14\"},\"51B17F2429C64C787CE565E296581832\" : {\"source\" : \"4B6224E6E985455E6C182BA6BE9E14F8\",\"id\" : \"51B17F2429C64C787CE565E296581832\",\"target\" : \"14734F04A2EC4D0174E3D02B7040ABE0\"},\"AEF8E13705F041398C0BF1446E89CDB7\" : {\"source\" : \"16B6D4BBBDE549606C32412BD5FCAAC8\",\"id\" : \"AEF8E13705F041398C0BF1446E89CDB7\",\"target\" : \"0CEC88E53D9F4AD9243579FC2E221BF2\"},\"DF11224D56B34F6A2C097A0F2CAA02E0\" : {\"source\" : \"F220FEE8575C43BDFC303D047B8FC287\",\"id\" : \"DF11224D56B34F6A2C097A0F2CAA02E0\",\"target\" : \"7634F3CE41084B803C4699F24E14D4A0\"},\"A5005BB242104CE13475CD3825D8FE77\" : {\"source\" : \"4B6224E6E985455E6C182BA6BE9E14F8\",\"id\" : \"A5005BB242104CE13475CD3825D8FE77\",\"target\" : \"7634F3CE41084B803C4699F24E14D4A0\"},\"FD7B3D3CF5F84277FCF435FE18F10543\" : {\"source\" : \"16B6D4BBBDE549606C32412BD5FCAAC8\",\"id\" : \"FD7B3D3CF5F84277FCF435FE18F10543\",\"target\" : \"7634F3CE41084B803C4699F24E14D4A0\"},\"5908636C23714A72246693D76DD20047\" : {\"source\" : \"6BF6D40B218C4097549934EF617AE244\",\"id\" : \"5908636C23714A72246693D76DD20047\",\"target\" : \"7634F3CE41084B803C4699F24E14D4A0\"},\"AF528B84A96F4C46842B710EAF9D7AE2\" : {\"source\" : \"6BF6D40B218C4097549934EF617AE244\",\"id\" : \"AF528B84A96F4C46842B710EAF9D7AE2\",\"target\" : \"C17233E967514F6CE4F0F353D6A14C85\"},\"21B0EA6087C04DF2241B0F7B394C89A6\" : {\"source\" : \"6BF6D40B218C4097549934EF617AE244\",\"id\" : \"21B0EA6087C04DF2241B0F7B394C89A6\",\"target\" : \"B64AF9C0DF8844D5549A677F3E73A8E0\"},\"4BF6B0AADF2B4E7614F0C2155C74E01E\" : {\"source\" : \"6BF6D40B218C4097549934EF617AE244\",\"id\" : \"4BF6B0AADF2B4E7614F0C2155C74E01E\",\"target\" : \"F8A6855F5AC54313B45FE0312895B7F2\"},\"4CFD211ADC954ADADC6F966A3376BFA9\" : {\"source\" : \"6BF6D40B218C4097549934EF617AE244\",\"id\" : \"4CFD211ADC954ADADC6F966A3376BFA9\",\"target\" : \"C31B35D78FF84F2B8C6FAADDC0DB0052\"},\"7A6275A5758340FCC4F709907EF80439\" : {\"source\" : \"0534FB53BDD644774C20549B32BA5956\",\"id\" : \"7A6275A5758340FCC4F709907EF80439\",\"target\" : \"6BF6D40B218C4097549934EF617AE244\"},\"76496C3ED412446524B0D22B55B0D3C5\" : {\"source\" : \"0534FB53BDD644774C20549B32BA5956\",\"id\" : \"76496C3ED412446524B0D22B55B0D3C5\",\"target\" : \"F220FEE8575C43BDFC303D047B8FC287\"},\"EC9CBE631C8647312C982900EE40AFED\" : {\"source\" : \"0534FB53BDD644774C20549B32BA5956\",\"id\" : \"EC9CBE631C8647312C982900EE40AFED\",\"target\" : \"4B6224E6E985455E6C182BA6BE9E14F8\"},\"A3E5E62EBBFA4D940C4950F6B745C45E\" : {\"source\" : \"0534FB53BDD644774C20549B32BA5956\",\"id\" : \"A3E5E62EBBFA4D940C4950F6B745C45E\",\"target\" : \"16B6D4BBBDE549606C32412BD5FCAAC8\"},\"6A4B1EDDF13A435EC40AA26D768A8D48\" : {\"source\" : \"0534FB53BDD644774C20549B32BA5956\",\"id\" : \"6A4B1EDDF13A435EC40AA26D768A8D48\",\"target\" : \"12B892EB1F6944BD1CB9AEEA3E2DC31B\"},\"901DDA243E9643A27C0D9E50D3F46F67\" : {\"source\" : \"0534FB53BDD644774C20549B32BA5956\",\"id\" : \"901DDA243E9643A27C0D9E50D3F46F67\",\"target\" : \"A04511C0F9864CD49421236EAD4681D7\"},\"A422EEC5222846D7E487552BC82CD2D4\" : {\"source\" : \"0534FB53BDD644774C20549B32BA5956\",\"id\" : \"A422EEC5222846D7E487552BC82CD2D4\",\"target\" : \"E06BCD46747840705407AA26AB9BA35A\"},\"4AE53BB3805A4566A4038E556BE4D666\" : {\"source\" : \"0534FB53BDD644774C20549B32BA5956\",\"id\" : \"4AE53BB3805A4566A4038E556BE4D666\",\"target\" : \"E051511DCE3D4A3A34FDD9BF5CDAD1E4\"}}}}}"
     },
     "execution_count": 58,
     "metadata": {},
     "output_type": "execute_result"
    }
   ],
   "source": [
    "DisplayLatticeSubgroups := function(L)\n",
    "    local cls, len, sz, max, rep, z, t, i, j, k, graphHasse, nodes;\n",
    "    cls:=ConjugacyClassesSubgroups(L);\n",
    "    len:=[];\n",
    "    sz:=[];\n",
    "    for i in cls do\n",
    "        Add(len,Size(i));\n",
    "        AddSet(sz,Size(Representative(i)));\n",
    "    od;\n",
    "\n",
    "    graphHasse := Graph(GraphType.HASSE);\n",
    "\n",
    "    nodes := [];\n",
    "    # subgroup nodes, also acccording to size\n",
    "    for i in [1..Length(cls)] do\n",
    "        nodes[i] := [];\n",
    "        for j in [1..len[i]] do\n",
    "            if len[i]=1 then\n",
    "                nodes[i][j] := Shape(ShapeType.CIRCLE, String(i));\n",
    "                nodes[i][j]!.layer := Size(Representative(cls[i]));\n",
    "                # AppendTo(file,\"\\\"\",i,\"x\",j,\"\\\" [label=\\\"\",i,\"\\\", shape=box];\\n\");\n",
    "            else\n",
    "                nodes[i][j] := Shape(ShapeType.DIAMOND, String(i));\n",
    "                nodes[i][j]!.layer := Size(Representative(cls[i]));\n",
    "                # AppendTo(file,\"\\\"\",i,\"x\",j,\"\\\" [label=\\\"\",i,\"-\",j,\"\\\", shape=circle];\\n\");\n",
    "            fi;\n",
    "            Add(graphHasse, nodes[i][j]);\n",
    "        od;\n",
    "    od;\n",
    "\n",
    "    max:=MaximalSubgroupsLattice(L);\n",
    "    for i in [1..Length(cls)] do\n",
    "        for j in max[i] do\n",
    "            rep:=ClassElementLattice(cls[i],1);\n",
    "            for k in [1..len[i]] do\n",
    "                if k=1 then\n",
    "                    z:=j[2];\n",
    "                else\n",
    "                    t:=cls[i]!.normalizerTransversal[k];\n",
    "                    z:=ClassElementLattice(cls[j[1]],1); # force computation of transv.\n",
    "                    z:=cls[j[1]]!.normalizerTransversal[j[2]]*t;\n",
    "                    z:=PositionCanonical(cls[j[1]]!.normalizerTransversal,z);\n",
    "                fi;\n",
    "                Add(graphHasse, Link(nodes[i][k],nodes[j[1]][z]));\n",
    "          od;\n",
    "        od;\n",
    "      od;\n",
    "    return graphHasse;\n",
    "end;\n",
    "\n",
    "canvas3 := Canvas(\"Lattice Subgroups\");;\n",
    "Add(canvas3, DisplayLatticeSubgroups(LatticeSubgroups(SymmetricGroup(4))));\n",
    "Draw(canvas3);"
   ]
  },
  {
   "cell_type": "markdown",
   "metadata": {},
   "source": [
    "# Charts\n",
    "\n",
    "## Bar Charts"
   ]
  },
  {
   "cell_type": "code",
   "execution_count": 68,
   "metadata": {},
   "outputs": [
    {
     "data": {
      "text/plain": [
       "<object>"
      ]
     },
     "execution_count": 59,
     "metadata": {},
     "output_type": "execute_result"
    },
    {
     "data": {
      "text/plain": [
       "\"X Axis\""
      ]
     },
     "execution_count": 60,
     "metadata": {},
     "output_type": "execute_result"
    },
    {
     "data": {
      "text/plain": [
       "\"Y Axis\""
      ]
     },
     "execution_count": 61,
     "metadata": {},
     "output_type": "execute_result"
    },
    {
     "data": {
      "text/plain": [
       "<object>"
      ]
     },
     "execution_count": 62,
     "metadata": {},
     "output_type": "execute_result"
    },
    {
     "data": {
      "text/plain": [
       "<object>"
      ]
     },
     "execution_count": 63,
     "metadata": {},
     "output_type": "execute_result"
    },
    {
     "data": {
      "text/plain": [
       "<object>"
      ]
     },
     "execution_count": 64,
     "metadata": {},
     "output_type": "execute_result"
    },
    {
     "data": {
      "text/plain": [
       "<object>"
      ]
     },
     "execution_count": 66,
     "metadata": {},
     "output_type": "execute_result"
    },
    {
     "data": {
      "application/vnd.francy+json": "{\"mime\" : \"application\\/vnd.francy+json\",\"canvas\" : {\"width\" : \"800\",\"height\" : \"600\",\"id\" : \"96DEB4059A5746F08429EB2B53295D61\",\"title\" : \"Bar Chart\",\"menus\" : {},\"chart\" : {\"type\" : \"bar\",\"data\" : {\"data1\" : [100,20,30,47,90],\"data2\" : [51,60,72,38,97],\"data3\" : [50,60,70,80,90]},\"labels\" : true,\"id\" : \"8BF0DE7409A944A47C8FD9283C61C58B\",\"legend\" : true,\"axis\" : {\"x\" : {\"domain\" : [],\"title\" : \"X Axis\",\"scale\" : \"band\"},\"y\" : {\"domain\" : [],\"title\" : \"Y Axis\",\"scale\" : \"linear\"}}}}}"
     },
     "execution_count": 68,
     "metadata": {},
     "output_type": "execute_result"
    }
   ],
   "source": [
    "chart:=Chart(ChartType.BAR);\n",
    "chart!.axis!.x!.title := \"X Axis\";\n",
    "chart!.axis!.y!.title := \"Y Axis\";\n",
    "\n",
    "data1 := Dataset(\"data1\", [100,20,30,47,90]);\n",
    "data2 := Dataset(\"data2\", [51,60,72,38,97]);\n",
    "data3 := Dataset(\"data3\", [50,60,70,80,90]);\n",
    "\n",
    "Add(chart, [data1, data2, data3]);\n",
    "canvas4 := Canvas(\"Bar Chart\");\n",
    "Add(canvas4, chart);\n",
    "Draw(canvas4);"
   ]
  },
  {
   "cell_type": "markdown",
   "metadata": {},
   "source": [
    "### Update X Axis Domain"
   ]
  },
  {
   "cell_type": "code",
   "execution_count": 70,
   "metadata": {},
   "outputs": [
    {
     "data": {
      "text/plain": [
       "[ \"domain1\", \"domain2\", \"domain3\", \"domain4\", \"domain5\" ]"
      ]
     },
     "execution_count": 69,
     "metadata": {},
     "output_type": "execute_result"
    },
    {
     "data": {
      "application/vnd.francy+json": "{\"mime\" : \"application\\/vnd.francy+json\",\"canvas\" : {\"width\" : \"800\",\"height\" : \"600\",\"id\" : \"96DEB4059A5746F08429EB2B53295D61\",\"title\" : \"Bar Chart\",\"menus\" : {},\"chart\" : {\"type\" : \"bar\",\"data\" : {\"data1\" : [100,20,30,47,90],\"data2\" : [51,60,72,38,97],\"data3\" : [50,60,70,80,90]},\"labels\" : true,\"id\" : \"8BF0DE7409A944A47C8FD9283C61C58B\",\"legend\" : true,\"axis\" : {\"x\" : {\"domain\" : [\"domain1\",\"domain2\",\"domain3\",\"domain4\",\"domain5\"],\"title\" : \"X Axis\",\"scale\" : \"band\"},\"y\" : {\"domain\" : [],\"title\" : \"Y Axis\",\"scale\" : \"linear\"}}}}}"
     },
     "execution_count": 70,
     "metadata": {},
     "output_type": "execute_result"
    }
   ],
   "source": [
    "chart!.axis!.x!.domain := [\"domain1\", \"domain2\", \"domain3\", \"domain4\", \"domain5\"];\n",
    "Draw(canvas4);"
   ]
  },
  {
   "cell_type": "code",
   "execution_count": null,
   "metadata": {},
   "outputs": [],
   "source": []
  }
 ],
 "metadata": {
  "kernelspec": {
   "display_name": "GAP 4 (native)",
   "language": "gap",
   "name": "gap-native"
  },
  "language_info": {
   "codemirror_mode": "gap",
   "file_extension": ".g",
   "mimetype": "text/x-gap",
   "name": "GAP (native)",
   "nbconvert_exporter": "",
   "pygments_lexer": "gap",
   "version": "4.dev"
  }
 },
 "nbformat": 4,
 "nbformat_minor": 2
}
