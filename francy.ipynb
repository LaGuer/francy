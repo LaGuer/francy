{
 "cells": [
  {
   "cell_type": "markdown",
   "metadata": {},
   "source": [
    "### Load Francy Package"
   ]
  },
  {
   "cell_type": "code",
   "execution_count": 2,
   "metadata": {},
   "outputs": [
    {
     "name": "stdout",
     "output_type": "stream",
     "text": [
      "\u0003#I  \u0003\u0003method installed for Add matches more tha\u0003n one declaration\u0003\u0003\n",
      "\u0003\u0003#I  \u0003\u0003method installed for Remove matches more \u0003than one declaration\u0003\u0003\n",
      "\u0003\u0003#I  \u0003\u0003Please load package NormalizInterface or \u00034ti2Interface\u0003\u0003\n",
      "\u0003\u0003#I  \u0003\u0003to have extended functionalities.\u0003\u0003\n",
      "\u0003\u0003#I  \u0003\u0003Please load package SingularInterface or \u0003singular (not both)\u0003\u0003\n",
      "\u0003\u0003#I  \u0003\u0003or GradedModules to have extended functio\u0003nalities.\u0003\u0003\n",
      "\u0003"
     ]
    },
    {
     "data": {
      "text/plain": [
       "true"
      ]
     },
     "execution_count": 1,
     "metadata": {},
     "output_type": "execute_result"
    },
    {
     "data": {
      "text/plain": [
       "true"
      ]
     },
     "execution_count": 2,
     "metadata": {},
     "output_type": "execute_result"
    }
   ],
   "source": [
    "LoadPackage(\"francy\");\n",
    "LoadPackage(\"num\");"
   ]
  },
  {
   "cell_type": "markdown",
   "metadata": {},
   "source": [
    "# Graphs\n",
    "\n",
    "### Callbacks\n",
    "\n",
    "Click on the menu to add nodes to the canvas.\n",
    "\n",
    "Try adding 500 of each.\n",
    "\n",
    "Zoom in and out using the mouse wheel."
   ]
  },
  {
   "cell_type": "code",
   "execution_count": 18,
   "metadata": {},
   "outputs": [
    {
     "data": {
      "text/plain": [
       "<object>"
      ]
     },
     "execution_count": 3,
     "metadata": {},
     "output_type": "execute_result"
    },
    {
     "data": {
      "text/plain": [
       "<object>"
      ]
     },
     "execution_count": 4,
     "metadata": {},
     "output_type": "execute_result"
    },
    {
     "data": {
      "text/plain": [
       "function( n ) ... end"
      ]
     },
     "execution_count": 5,
     "metadata": {},
     "output_type": "execute_result"
    },
    {
     "data": {
      "text/plain": [
       "function( n ) ... end"
      ]
     },
     "execution_count": 6,
     "metadata": {},
     "output_type": "execute_result"
    },
    {
     "data": {
      "text/plain": [
       "function(  ) ... end"
      ]
     },
     "execution_count": 7,
     "metadata": {},
     "output_type": "execute_result"
    },
    {
     "data": {
      "text/plain": [
       "<object>"
      ]
     },
     "execution_count": 8,
     "metadata": {},
     "output_type": "execute_result"
    },
    {
     "data": {
      "text/plain": [
       "<object>"
      ]
     },
     "execution_count": 9,
     "metadata": {},
     "output_type": "execute_result"
    },
    {
     "data": {
      "text/plain": [
       "<object>"
      ]
     },
     "execution_count": 11,
     "metadata": {},
     "output_type": "execute_result"
    },
    {
     "data": {
      "text/plain": [
       "<object>"
      ]
     },
     "execution_count": 12,
     "metadata": {},
     "output_type": "execute_result"
    },
    {
     "data": {
      "text/plain": [
       "<object>"
      ]
     },
     "execution_count": 13,
     "metadata": {},
     "output_type": "execute_result"
    },
    {
     "data": {
      "text/plain": [
       "<object>"
      ]
     },
     "execution_count": 15,
     "metadata": {},
     "output_type": "execute_result"
    },
    {
     "data": {
      "text/plain": [
       "<object>"
      ]
     },
     "execution_count": 16,
     "metadata": {},
     "output_type": "execute_result"
    },
    {
     "data": {
      "application/vnd.francy+json": "{\"version\" : \"0.5.0\",\"mime\" : \"application\\/vnd.francy+json\",\"canvas\" : {\"width\" : \"800\",\"height\" : \"600\",\"id\" : \"A1\",\"title\" : \"Add circles on demand\",\"zoomToFit\" : true,\"menus\" : {\"A5\" : {\"id\" : \"A5\",\"title\" : \"Add Circle\",\"callback\" : {\"func\" : \"AddCircle\",\"id\" : \"A3\",\"trigger\" : \"click\",\"knownArgs\" : [],\"requiredArgs\" : {\"A4\" : {\"type\" : \"number\",\"id\" : \"A4\",\"title\" : \"How many Circles?\",\"value\" : \"\"}}},\"menus\" : {}},\"A8\" : {\"id\" : \"A8\",\"title\" : \"Add Square\",\"callback\" : {\"func\" : \"AddSquare\",\"id\" : \"A6\",\"trigger\" : \"click\",\"knownArgs\" : [],\"requiredArgs\" : {\"A7\" : {\"type\" : \"number\",\"id\" : \"A7\",\"title\" : \"How many Squares?\",\"value\" : \"\"}}},\"menus\" : {}},\"A10\" : {\"id\" : \"A10\",\"title\" : \"Clear\",\"callback\" : {\"func\" : \"ClearGraph\",\"id\" : \"A9\",\"trigger\" : \"click\",\"knownArgs\" : [],\"requiredArgs\" : {}},\"menus\" : {}}},\"graph\" : {\"type\" : \"hasse\",\"id\" : \"A2\",\"simulation\" : true,\"drag\" : true,\"nodes\" : {},\"links\" : {}},\"messages\" : {}}}"
     },
     "execution_count": 18,
     "metadata": {},
     "output_type": "execute_result"
    }
   ],
   "source": [
    "canvas := Canvas(\"Add circles on demand\");\n",
    "\n",
    "graph := Graph(GraphType.HASSE);\n",
    "\n",
    "AddCircle := function(n)\n",
    "    local i, shape;\n",
    "    for i in [1..Int(n)] do\n",
    "        shape := Shape(ShapeType.CIRCLE, String(i));\n",
    "        shape!.layer := Random([1..16]);\n",
    "        Add(graph, shape);\n",
    "    od;\n",
    "    return Draw(canvas);\n",
    "end;\n",
    "\n",
    "AddSquare := function(n)\n",
    "    local i, shape;\n",
    "    for i in [1..Int(n)] do\n",
    "        shape := Shape(ShapeType.SQUARE, String(i));\n",
    "        shape!.layer := Random([1..16]);\n",
    "        Add(graph, shape);\n",
    "    od;\n",
    "    return Draw(canvas);\n",
    "end;\n",
    "\n",
    "ClearGraph := function()\n",
    "    canvas!.graph!.nodes := rec();\n",
    "    return Draw(canvas);\n",
    "end;\n",
    "\n",
    "callback1 := Callback(AddCircle);\n",
    "arg1 := RequiredArg(ArgType.NUMBER, \"How many Circles?\");\n",
    "Add(callback1, arg1);\n",
    "menu1 := Menu( \"Add Circle\", callback1 );\n",
    "\n",
    "callback2 := Callback(AddSquare);\n",
    "arg2 := RequiredArg(ArgType.NUMBER, \"How many Squares?\");\n",
    "Add(callback2, arg2);\n",
    "menu2 := Menu( \"Add Square\", callback2 );\n",
    "\n",
    "menu3 := Menu( \"Clear\", Callback(ClearGraph));\n",
    "\n",
    "Add(canvas, [graph, menu1, menu2, menu3]);\n",
    "\n",
    "Draw(canvas);"
   ]
  },
  {
   "cell_type": "markdown",
   "metadata": {},
   "source": [
    "### Linked Nodes and Shape Menus\n",
    "\n",
    "Right click on the Shape G for more actions"
   ]
  },
  {
   "cell_type": "code",
   "execution_count": 53,
   "metadata": {},
   "outputs": [
    {
     "data": {
      "text/plain": [
       "<object>"
      ]
     },
     "execution_count": 19,
     "metadata": {},
     "output_type": "execute_result"
    },
    {
     "data": {
      "text/plain": [
       "<object>"
      ]
     },
     "execution_count": 20,
     "metadata": {},
     "output_type": "execute_result"
    },
    {
     "data": {
      "text/plain": [
       "0"
      ]
     },
     "execution_count": 21,
     "metadata": {},
     "output_type": "execute_result"
    },
    {
     "data": {
      "text/plain": [
       "<object>"
      ]
     },
     "execution_count": 23,
     "metadata": {},
     "output_type": "execute_result"
    },
    {
     "data": {
      "text/plain": [
       "3"
      ]
     },
     "execution_count": 24,
     "metadata": {},
     "output_type": "execute_result"
    },
    {
     "data": {
      "text/plain": [
       "<object>"
      ]
     },
     "execution_count": 26,
     "metadata": {},
     "output_type": "execute_result"
    },
    {
     "data": {
      "text/plain": [
       "1"
      ]
     },
     "execution_count": 27,
     "metadata": {},
     "output_type": "execute_result"
    },
    {
     "data": {
      "text/plain": [
       "<object>"
      ]
     },
     "execution_count": 30,
     "metadata": {},
     "output_type": "execute_result"
    },
    {
     "data": {
      "text/plain": [
       "2"
      ]
     },
     "execution_count": 31,
     "metadata": {},
     "output_type": "execute_result"
    },
    {
     "data": {
      "text/plain": [
       "<object>"
      ]
     },
     "execution_count": 35,
     "metadata": {},
     "output_type": "execute_result"
    },
    {
     "data": {
      "text/plain": [
       "2"
      ]
     },
     "execution_count": 36,
     "metadata": {},
     "output_type": "execute_result"
    },
    {
     "data": {
      "text/plain": [
       "<object>"
      ]
     },
     "execution_count": 40,
     "metadata": {},
     "output_type": "execute_result"
    },
    {
     "data": {
      "text/plain": [
       "2"
      ]
     },
     "execution_count": 41,
     "metadata": {},
     "output_type": "execute_result"
    },
    {
     "data": {
      "text/plain": [
       "<object>"
      ]
     },
     "execution_count": 45,
     "metadata": {},
     "output_type": "execute_result"
    },
    {
     "data": {
      "text/plain": [
       "function( n ) ... end"
      ]
     },
     "execution_count": 46,
     "metadata": {},
     "output_type": "execute_result"
    },
    {
     "data": {
      "text/plain": [
       "<object>"
      ]
     },
     "execution_count": 47,
     "metadata": {},
     "output_type": "execute_result"
    },
    {
     "data": {
      "text/plain": [
       "<object>"
      ]
     },
     "execution_count": 48,
     "metadata": {},
     "output_type": "execute_result"
    },
    {
     "data": {
      "application/vnd.francy+json": "{\"version\" : \"0.5.0\",\"mime\" : \"application\\/vnd.francy+json\",\"canvas\" : {\"width\" : \"800\",\"height\" : \"600\",\"id\" : \"A25\",\"title\" : \"Quaternion Group Subgroup Lattice\",\"zoomToFit\" : true,\"menus\" : {},\"graph\" : {\"type\" : \"hasse\",\"id\" : \"A11\",\"simulation\" : true,\"drag\" : true,\"nodes\" : {\"A12\" : {\"x\" : 0,\"y\" : 0,\"type\" : \"diamond\",\"size\" : 10,\"id\" : \"A12\",\"title\" : \"Right Click Me\",\"layer\" : 0,\"highlight\" : true,\"menus\" : {\"A28\" : {\"id\" : \"A28\",\"title\" : \"Add Square\",\"callback\" : {\"func\" : \"AddSquare\",\"id\" : \"A26\",\"trigger\" : \"click\",\"knownArgs\" : [],\"requiredArgs\" : {\"A27\" : {\"type\" : \"number\",\"id\" : \"A27\",\"title\" : \"How many Squares?\",\"value\" : \"\"}}},\"menus\" : {}}},\"messages\" : {},\"callbacks\" : {}},\"A13\" : {\"x\" : 0,\"y\" : 0,\"type\" : \"wye\",\"size\" : 10,\"id\" : \"A13\",\"title\" : \"1\",\"layer\" : 3,\"highlight\" : true,\"menus\" : {},\"messages\" : {},\"callbacks\" : {}},\"A14\" : {\"x\" : 0,\"y\" : 0,\"type\" : \"circle\",\"size\" : 10,\"id\" : \"A14\",\"title\" : \"SG1\",\"layer\" : 1,\"highlight\" : true,\"menus\" : {},\"messages\" : {},\"callbacks\" : {}},\"A16\" : {\"x\" : 0,\"y\" : 0,\"type\" : \"circle\",\"size\" : 10,\"id\" : \"A16\",\"title\" : \"SG2\",\"layer\" : 2,\"highlight\" : true,\"menus\" : {},\"messages\" : {},\"callbacks\" : {}},\"A19\" : {\"x\" : 0,\"y\" : 0,\"type\" : \"circle\",\"size\" : 10,\"id\" : \"A19\",\"title\" : \"SG3\",\"layer\" : 2,\"highlight\" : true,\"menus\" : {},\"messages\" : {},\"callbacks\" : {}},\"A22\" : {\"x\" : 0,\"y\" : 0,\"type\" : \"circle\",\"size\" : 10,\"id\" : \"A22\",\"title\" : \"Click Me\",\"layer\" : 2,\"highlight\" : true,\"menus\" : {},\"messages\" : {},\"callbacks\" : {\"A26\" : {\"func\" : \"AddSquare\",\"id\" : \"A26\",\"trigger\" : \"click\",\"knownArgs\" : [],\"requiredArgs\" : {\"A27\" : {\"type\" : \"number\",\"id\" : \"A27\",\"title\" : \"How many Squares?\",\"value\" : \"\"}}}}}},\"links\" : {\"A15\" : {\"source\" : \"A12\",\"id\" : \"A15\",\"target\" : \"A14\"},\"A17\" : {\"source\" : \"A14\",\"id\" : \"A17\",\"target\" : \"A16\"},\"A18\" : {\"source\" : \"A16\",\"id\" : \"A18\",\"target\" : \"A13\"},\"A20\" : {\"source\" : \"A14\",\"id\" : \"A20\",\"target\" : \"A19\"},\"A21\" : {\"source\" : \"A19\",\"id\" : \"A21\",\"target\" : \"A13\"},\"A23\" : {\"source\" : \"A14\",\"id\" : \"A23\",\"target\" : \"A22\"},\"A24\" : {\"source\" : \"A22\",\"id\" : \"A24\",\"target\" : \"A13\"}}},\"messages\" : {}}}"
     },
     "execution_count": 53,
     "metadata": {},
     "output_type": "execute_result"
    }
   ],
   "source": [
    "graph2 := Graph(GraphType.HASSE);\n",
    "\n",
    "shapeG := Shape(ShapeType.DIAMOND, \"Right Click Me\");\n",
    "shapeG!.layer := 0;\n",
    "Add(graph2, shapeG);\n",
    "shape1 := Shape(ShapeType.WYE, \"1\");\n",
    "shape1!.layer := 3;\n",
    "Add(graph2, shape1);\n",
    "\n",
    "shapeSG1 := Shape(ShapeType.CIRCLE, \"SG1\");\n",
    "shapeSG1!.layer := 1;\n",
    "Add(graph2, shapeSG1);\n",
    "Add(graph2, Link(shapeG, shapeSG1));\n",
    "\n",
    "shapeSG2 := Shape(ShapeType.CIRCLE, \"SG2\");\n",
    "shapeSG2!.layer := 2;\n",
    "Add(graph2, shapeSG2);\n",
    "Add(graph2, Link(shapeSG1, shapeSG2));\n",
    "Add(graph2, Link(shapeSG2, shape1));\n",
    "\n",
    "shapeSG3 := Shape(ShapeType.CIRCLE, \"SG3\");\n",
    "shapeSG3!.layer := 2;\n",
    "Add(graph2, shapeSG3);\n",
    "Add(graph2, Link(shapeSG1, shapeSG3));\n",
    "Add(graph2, Link(shapeSG3, shape1));\n",
    "\n",
    "shapeSG4 := Shape(ShapeType.CIRCLE, \"Click Me\");\n",
    "shapeSG4!.layer := 2;\n",
    "Add(graph2, shapeSG4);\n",
    "Add(graph2, Link(shapeSG1, shapeSG4));\n",
    "Add(graph2, Link(shapeSG4, shape1));\n",
    "\n",
    "canvas2 := Canvas(\"Quaternion Group Subgroup Lattice\");\n",
    "\n",
    "AddSquare := function(n)\n",
    "    local i, shape;\n",
    "    for i in [1..Int(n)] do\n",
    "        shape := Shape(ShapeType.SQUARE, String(i));\n",
    "        shape!.layer := Random([1..16]);\n",
    "        Add(graph2, shape);\n",
    "    od;\n",
    "    return Draw(canvas2);\n",
    "end;\n",
    "\n",
    "cb := Callback(AddSquare);\n",
    "a1 := RequiredArg(ArgType.NUMBER, \"How many Squares?\");\n",
    "Add(cb, a1);\n",
    "\n",
    "Add(shapeG, Menu(\"Add Square\", cb));\n",
    "Add(shapeSG4, cb);\n",
    "\n",
    "Add(canvas2, graph2);\n",
    "\n",
    "Draw(canvas2);"
   ]
  },
  {
   "cell_type": "markdown",
   "metadata": {},
   "source": [
    "### An attempt to LatticeSubgroups By Markus"
   ]
  },
  {
   "cell_type": "code",
   "execution_count": 57,
   "metadata": {},
   "outputs": [
    {
     "data": {
      "text/plain": [
       "function( L ) ... end"
      ]
     },
     "execution_count": 54,
     "metadata": {},
     "output_type": "execute_result"
    },
    {
     "data": {
      "text/plain": [
       "<object>"
      ]
     },
     "execution_count": 55,
     "metadata": {},
     "output_type": "execute_result"
    },
    {
     "data": {
      "application/vnd.francy+json": "{\"version\" : \"0.5.0\",\"mime\" : \"application\\/vnd.francy+json\",\"canvas\" : {\"width\" : \"800\",\"height\" : \"600\",\"id\" : \"A29\",\"title\" : \"Lattice Subgroups\",\"zoomToFit\" : true,\"menus\" : {},\"graph\" : {\"type\" : \"hasse\",\"id\" : \"A30\",\"simulation\" : true,\"drag\" : true,\"nodes\" : {\"A31\" : {\"x\" : 0,\"y\" : 0,\"type\" : \"circle\",\"size\" : 10,\"id\" : \"A31\",\"title\" : \"1\",\"layer\" : 1,\"highlight\" : true,\"menus\" : {},\"messages\" : {},\"callbacks\" : {}},\"A32\" : {\"x\" : 0,\"y\" : 0,\"type\" : \"diamond\",\"size\" : 10,\"id\" : \"A32\",\"title\" : \"2\",\"layer\" : 2,\"highlight\" : true,\"menus\" : {},\"messages\" : {},\"callbacks\" : {}},\"A33\" : {\"x\" : 0,\"y\" : 0,\"type\" : \"diamond\",\"size\" : 10,\"id\" : \"A33\",\"title\" : \"2\",\"layer\" : 2,\"highlight\" : true,\"menus\" : {},\"messages\" : {},\"callbacks\" : {}},\"A34\" : {\"x\" : 0,\"y\" : 0,\"type\" : \"diamond\",\"size\" : 10,\"id\" : \"A34\",\"title\" : \"2\",\"layer\" : 2,\"highlight\" : true,\"menus\" : {},\"messages\" : {},\"callbacks\" : {}},\"A35\" : {\"x\" : 0,\"y\" : 0,\"type\" : \"diamond\",\"size\" : 10,\"id\" : \"A35\",\"title\" : \"3\",\"layer\" : 2,\"highlight\" : true,\"menus\" : {},\"messages\" : {},\"callbacks\" : {}},\"A36\" : {\"x\" : 0,\"y\" : 0,\"type\" : \"diamond\",\"size\" : 10,\"id\" : \"A36\",\"title\" : \"3\",\"layer\" : 2,\"highlight\" : true,\"menus\" : {},\"messages\" : {},\"callbacks\" : {}},\"A37\" : {\"x\" : 0,\"y\" : 0,\"type\" : \"diamond\",\"size\" : 10,\"id\" : \"A37\",\"title\" : \"3\",\"layer\" : 2,\"highlight\" : true,\"menus\" : {},\"messages\" : {},\"callbacks\" : {}},\"A38\" : {\"x\" : 0,\"y\" : 0,\"type\" : \"diamond\",\"size\" : 10,\"id\" : \"A38\",\"title\" : \"3\",\"layer\" : 2,\"highlight\" : true,\"menus\" : {},\"messages\" : {},\"callbacks\" : {}},\"A39\" : {\"x\" : 0,\"y\" : 0,\"type\" : \"diamond\",\"size\" : 10,\"id\" : \"A39\",\"title\" : \"3\",\"layer\" : 2,\"highlight\" : true,\"menus\" : {},\"messages\" : {},\"callbacks\" : {}},\"A40\" : {\"x\" : 0,\"y\" : 0,\"type\" : \"diamond\",\"size\" : 10,\"id\" : \"A40\",\"title\" : \"3\",\"layer\" : 2,\"highlight\" : true,\"menus\" : {},\"messages\" : {},\"callbacks\" : {}},\"A41\" : {\"x\" : 0,\"y\" : 0,\"type\" : \"diamond\",\"size\" : 10,\"id\" : \"A41\",\"title\" : \"4\",\"layer\" : 3,\"highlight\" : true,\"menus\" : {},\"messages\" : {},\"callbacks\" : {}},\"A42\" : {\"x\" : 0,\"y\" : 0,\"type\" : \"diamond\",\"size\" : 10,\"id\" : \"A42\",\"title\" : \"4\",\"layer\" : 3,\"highlight\" : true,\"menus\" : {},\"messages\" : {},\"callbacks\" : {}},\"A43\" : {\"x\" : 0,\"y\" : 0,\"type\" : \"diamond\",\"size\" : 10,\"id\" : \"A43\",\"title\" : \"4\",\"layer\" : 3,\"highlight\" : true,\"menus\" : {},\"messages\" : {},\"callbacks\" : {}},\"A44\" : {\"x\" : 0,\"y\" : 0,\"type\" : \"diamond\",\"size\" : 10,\"id\" : \"A44\",\"title\" : \"4\",\"layer\" : 3,\"highlight\" : true,\"menus\" : {},\"messages\" : {},\"callbacks\" : {}},\"A45\" : {\"x\" : 0,\"y\" : 0,\"type\" : \"circle\",\"size\" : 10,\"id\" : \"A45\",\"title\" : \"5\",\"layer\" : 4,\"highlight\" : true,\"menus\" : {},\"messages\" : {},\"callbacks\" : {}},\"A46\" : {\"x\" : 0,\"y\" : 0,\"type\" : \"diamond\",\"size\" : 10,\"id\" : \"A46\",\"title\" : \"6\",\"layer\" : 4,\"highlight\" : true,\"menus\" : {},\"messages\" : {},\"callbacks\" : {}},\"A47\" : {\"x\" : 0,\"y\" : 0,\"type\" : \"diamond\",\"size\" : 10,\"id\" : \"A47\",\"title\" : \"6\",\"layer\" : 4,\"highlight\" : true,\"menus\" : {},\"messages\" : {},\"callbacks\" : {}},\"A48\" : {\"x\" : 0,\"y\" : 0,\"type\" : \"diamond\",\"size\" : 10,\"id\" : \"A48\",\"title\" : \"6\",\"layer\" : 4,\"highlight\" : true,\"menus\" : {},\"messages\" : {},\"callbacks\" : {}},\"A49\" : {\"x\" : 0,\"y\" : 0,\"type\" : \"diamond\",\"size\" : 10,\"id\" : \"A49\",\"title\" : \"7\",\"layer\" : 4,\"highlight\" : true,\"menus\" : {},\"messages\" : {},\"callbacks\" : {}},\"A50\" : {\"x\" : 0,\"y\" : 0,\"type\" : \"diamond\",\"size\" : 10,\"id\" : \"A50\",\"title\" : \"7\",\"layer\" : 4,\"highlight\" : true,\"menus\" : {},\"messages\" : {},\"callbacks\" : {}},\"A51\" : {\"x\" : 0,\"y\" : 0,\"type\" : \"diamond\",\"size\" : 10,\"id\" : \"A51\",\"title\" : \"7\",\"layer\" : 4,\"highlight\" : true,\"menus\" : {},\"messages\" : {},\"callbacks\" : {}},\"A52\" : {\"x\" : 0,\"y\" : 0,\"type\" : \"diamond\",\"size\" : 10,\"id\" : \"A52\",\"title\" : \"8\",\"layer\" : 6,\"highlight\" : true,\"menus\" : {},\"messages\" : {},\"callbacks\" : {}},\"A53\" : {\"x\" : 0,\"y\" : 0,\"type\" : \"diamond\",\"size\" : 10,\"id\" : \"A53\",\"title\" : \"8\",\"layer\" : 6,\"highlight\" : true,\"menus\" : {},\"messages\" : {},\"callbacks\" : {}},\"A54\" : {\"x\" : 0,\"y\" : 0,\"type\" : \"diamond\",\"size\" : 10,\"id\" : \"A54\",\"title\" : \"8\",\"layer\" : 6,\"highlight\" : true,\"menus\" : {},\"messages\" : {},\"callbacks\" : {}},\"A55\" : {\"x\" : 0,\"y\" : 0,\"type\" : \"diamond\",\"size\" : 10,\"id\" : \"A55\",\"title\" : \"8\",\"layer\" : 6,\"highlight\" : true,\"menus\" : {},\"messages\" : {},\"callbacks\" : {}},\"A56\" : {\"x\" : 0,\"y\" : 0,\"type\" : \"diamond\",\"size\" : 10,\"id\" : \"A56\",\"title\" : \"9\",\"layer\" : 8,\"highlight\" : true,\"menus\" : {},\"messages\" : {},\"callbacks\" : {}},\"A57\" : {\"x\" : 0,\"y\" : 0,\"type\" : \"diamond\",\"size\" : 10,\"id\" : \"A57\",\"title\" : \"9\",\"layer\" : 8,\"highlight\" : true,\"menus\" : {},\"messages\" : {},\"callbacks\" : {}},\"A58\" : {\"x\" : 0,\"y\" : 0,\"type\" : \"diamond\",\"size\" : 10,\"id\" : \"A58\",\"title\" : \"9\",\"layer\" : 8,\"highlight\" : true,\"menus\" : {},\"messages\" : {},\"callbacks\" : {}},\"A59\" : {\"x\" : 0,\"y\" : 0,\"type\" : \"circle\",\"size\" : 10,\"id\" : \"A59\",\"title\" : \"10\",\"layer\" : 12,\"highlight\" : true,\"menus\" : {},\"messages\" : {},\"callbacks\" : {}},\"A60\" : {\"x\" : 0,\"y\" : 0,\"type\" : \"circle\",\"size\" : 10,\"id\" : \"A60\",\"title\" : \"11\",\"layer\" : 24,\"highlight\" : true,\"menus\" : {},\"messages\" : {},\"callbacks\" : {}}},\"links\" : {\"A61\" : {\"source\" : \"A32\",\"id\" : \"A61\",\"target\" : \"A31\"},\"A62\" : {\"source\" : \"A33\",\"id\" : \"A62\",\"target\" : \"A31\"},\"A63\" : {\"source\" : \"A34\",\"id\" : \"A63\",\"target\" : \"A31\"},\"A64\" : {\"source\" : \"A35\",\"id\" : \"A64\",\"target\" : \"A31\"},\"A65\" : {\"source\" : \"A36\",\"id\" : \"A65\",\"target\" : \"A31\"},\"A66\" : {\"source\" : \"A37\",\"id\" : \"A66\",\"target\" : \"A31\"},\"A67\" : {\"source\" : \"A38\",\"id\" : \"A67\",\"target\" : \"A31\"},\"A68\" : {\"source\" : \"A39\",\"id\" : \"A68\",\"target\" : \"A31\"},\"A69\" : {\"source\" : \"A40\",\"id\" : \"A69\",\"target\" : \"A31\"},\"A70\" : {\"source\" : \"A41\",\"id\" : \"A70\",\"target\" : \"A31\"},\"A71\" : {\"source\" : \"A42\",\"id\" : \"A71\",\"target\" : \"A31\"},\"A72\" : {\"source\" : \"A43\",\"id\" : \"A72\",\"target\" : \"A31\"},\"A73\" : {\"source\" : \"A44\",\"id\" : \"A73\",\"target\" : \"A31\"},\"A74\" : {\"source\" : \"A45\",\"id\" : \"A74\",\"target\" : \"A32\"},\"A75\" : {\"source\" : \"A45\",\"id\" : \"A75\",\"target\" : \"A33\"},\"A76\" : {\"source\" : \"A45\",\"id\" : \"A76\",\"target\" : \"A34\"},\"A77\" : {\"source\" : \"A46\",\"id\" : \"A77\",\"target\" : \"A35\"},\"A78\" : {\"source\" : \"A47\",\"id\" : \"A78\",\"target\" : \"A36\"},\"A79\" : {\"source\" : \"A48\",\"id\" : \"A79\",\"target\" : \"A37\"},\"A80\" : {\"source\" : \"A46\",\"id\" : \"A80\",\"target\" : \"A40\"},\"A81\" : {\"source\" : \"A47\",\"id\" : \"A81\",\"target\" : \"A39\"},\"A82\" : {\"source\" : \"A48\",\"id\" : \"A82\",\"target\" : \"A38\"},\"A83\" : {\"source\" : \"A46\",\"id\" : \"A83\",\"target\" : \"A34\"},\"A84\" : {\"source\" : \"A47\",\"id\" : \"A84\",\"target\" : \"A32\"},\"A85\" : {\"source\" : \"A48\",\"id\" : \"A85\",\"target\" : \"A33\"},\"A86\" : {\"source\" : \"A49\",\"id\" : \"A86\",\"target\" : \"A34\"},\"A87\" : {\"source\" : \"A50\",\"id\" : \"A87\",\"target\" : \"A32\"},\"A88\" : {\"source\" : \"A51\",\"id\" : \"A88\",\"target\" : \"A33\"},\"A89\" : {\"source\" : \"A52\",\"id\" : \"A89\",\"target\" : \"A41\"},\"A90\" : {\"source\" : \"A53\",\"id\" : \"A90\",\"target\" : \"A42\"},\"A91\" : {\"source\" : \"A54\",\"id\" : \"A91\",\"target\" : \"A43\"},\"A92\" : {\"source\" : \"A55\",\"id\" : \"A92\",\"target\" : \"A44\"},\"A93\" : {\"source\" : \"A52\",\"id\" : \"A93\",\"target\" : \"A35\"},\"A94\" : {\"source\" : \"A53\",\"id\" : \"A94\",\"target\" : \"A39\"},\"A95\" : {\"source\" : \"A54\",\"id\" : \"A95\",\"target\" : \"A39\"},\"A96\" : {\"source\" : \"A55\",\"id\" : \"A96\",\"target\" : \"A38\"},\"A97\" : {\"source\" : \"A52\",\"id\" : \"A97\",\"target\" : \"A36\"},\"A98\" : {\"source\" : \"A53\",\"id\" : \"A98\",\"target\" : \"A40\"},\"A99\" : {\"source\" : \"A54\",\"id\" : \"A99\",\"target\" : \"A38\"},\"A100\" : {\"source\" : \"A55\",\"id\" : \"A100\",\"target\" : \"A40\"},\"A101\" : {\"source\" : \"A52\",\"id\" : \"A101\",\"target\" : \"A37\"},\"A102\" : {\"source\" : \"A53\",\"id\" : \"A102\",\"target\" : \"A37\"},\"A103\" : {\"source\" : \"A54\",\"id\" : \"A103\",\"target\" : \"A35\"},\"A104\" : {\"source\" : \"A55\",\"id\" : \"A104\",\"target\" : \"A36\"},\"A105\" : {\"source\" : \"A56\",\"id\" : \"A105\",\"target\" : \"A49\"},\"A106\" : {\"source\" : \"A57\",\"id\" : \"A106\",\"target\" : \"A50\"},\"A107\" : {\"source\" : \"A58\",\"id\" : \"A107\",\"target\" : \"A51\"},\"A108\" : {\"source\" : \"A56\",\"id\" : \"A108\",\"target\" : \"A46\"},\"A109\" : {\"source\" : \"A57\",\"id\" : \"A109\",\"target\" : \"A47\"},\"A110\" : {\"source\" : \"A58\",\"id\" : \"A110\",\"target\" : \"A48\"},\"A111\" : {\"source\" : \"A56\",\"id\" : \"A111\",\"target\" : \"A45\"},\"A112\" : {\"source\" : \"A57\",\"id\" : \"A112\",\"target\" : \"A45\"},\"A113\" : {\"source\" : \"A58\",\"id\" : \"A113\",\"target\" : \"A45\"},\"A114\" : {\"source\" : \"A59\",\"id\" : \"A114\",\"target\" : \"A45\"},\"A115\" : {\"source\" : \"A59\",\"id\" : \"A115\",\"target\" : \"A41\"},\"A116\" : {\"source\" : \"A59\",\"id\" : \"A116\",\"target\" : \"A42\"},\"A117\" : {\"source\" : \"A59\",\"id\" : \"A117\",\"target\" : \"A43\"},\"A118\" : {\"source\" : \"A59\",\"id\" : \"A118\",\"target\" : \"A44\"},\"A119\" : {\"source\" : \"A60\",\"id\" : \"A119\",\"target\" : \"A59\"},\"A120\" : {\"source\" : \"A60\",\"id\" : \"A120\",\"target\" : \"A56\"},\"A121\" : {\"source\" : \"A60\",\"id\" : \"A121\",\"target\" : \"A57\"},\"A122\" : {\"source\" : \"A60\",\"id\" : \"A122\",\"target\" : \"A58\"},\"A123\" : {\"source\" : \"A60\",\"id\" : \"A123\",\"target\" : \"A52\"},\"A124\" : {\"source\" : \"A60\",\"id\" : \"A124\",\"target\" : \"A53\"},\"A125\" : {\"source\" : \"A60\",\"id\" : \"A125\",\"target\" : \"A54\"},\"A126\" : {\"source\" : \"A60\",\"id\" : \"A126\",\"target\" : \"A55\"}}},\"messages\" : {}}}"
     },
     "execution_count": 57,
     "metadata": {},
     "output_type": "execute_result"
    }
   ],
   "source": [
    "DisplayLatticeSubgroups := function(L)\n",
    "    local cls, len, sz, max, rep, z, t, i, j, k, graphHasse, nodes;\n",
    "    cls:=ConjugacyClassesSubgroups(L);\n",
    "    len:=[];\n",
    "    sz:=[];\n",
    "    for i in cls do\n",
    "        Add(len,Size(i));\n",
    "        AddSet(sz,Size(Representative(i)));\n",
    "    od;\n",
    "\n",
    "    graphHasse := Graph(GraphType.HASSE);\n",
    "\n",
    "    nodes := [];\n",
    "    # subgroup nodes, also acccording to size\n",
    "    for i in [1..Length(cls)] do\n",
    "        nodes[i] := [];\n",
    "        for j in [1..len[i]] do\n",
    "            if len[i]=1 then\n",
    "                nodes[i][j] := Shape(ShapeType.CIRCLE, String(i));\n",
    "                nodes[i][j]!.layer := Size(Representative(cls[i]));\n",
    "                # AppendTo(file,\"\\\"\",i,\"x\",j,\"\\\" [label=\\\"\",i,\"\\\", shape=box];\\n\");\n",
    "            else\n",
    "                nodes[i][j] := Shape(ShapeType.DIAMOND, String(i));\n",
    "                nodes[i][j]!.layer := Size(Representative(cls[i]));\n",
    "                # AppendTo(file,\"\\\"\",i,\"x\",j,\"\\\" [label=\\\"\",i,\"-\",j,\"\\\", shape=circle];\\n\");\n",
    "            fi;\n",
    "            Add(graphHasse, nodes[i][j]);\n",
    "        od;\n",
    "    od;\n",
    "\n",
    "    max:=MaximalSubgroupsLattice(L);\n",
    "    for i in [1..Length(cls)] do\n",
    "        for j in max[i] do\n",
    "            rep:=ClassElementLattice(cls[i],1);\n",
    "            for k in [1..len[i]] do\n",
    "                if k=1 then\n",
    "                    z:=j[2];\n",
    "                else\n",
    "                    t:=cls[i]!.normalizerTransversal[k];\n",
    "                    z:=ClassElementLattice(cls[j[1]],1); # force computation of transv.\n",
    "                    z:=cls[j[1]]!.normalizerTransversal[j[2]]*t;\n",
    "                    z:=PositionCanonical(cls[j[1]]!.normalizerTransversal,z);\n",
    "                fi;\n",
    "                Add(graphHasse, Link(nodes[i][k],nodes[j[1]][z]));\n",
    "          od;\n",
    "        od;\n",
    "      od;\n",
    "    return graphHasse;\n",
    "end;\n",
    "\n",
    "canvas3 := Canvas(\"Lattice Subgroups\");;\n",
    "Add(canvas3, DisplayLatticeSubgroups(LatticeSubgroups(SymmetricGroup(4))));\n",
    "Draw(canvas3);"
   ]
  },
  {
   "cell_type": "markdown",
   "metadata": {},
   "source": [
    "# Charts\n",
    "\n",
    "## Bar Charts"
   ]
  },
  {
   "cell_type": "code",
   "execution_count": 68,
   "metadata": {},
   "outputs": [
    {
     "data": {
      "text/plain": [
       "<object>"
      ]
     },
     "execution_count": 58,
     "metadata": {},
     "output_type": "execute_result"
    },
    {
     "data": {
      "text/plain": [
       "\"X Axis\""
      ]
     },
     "execution_count": 59,
     "metadata": {},
     "output_type": "execute_result"
    },
    {
     "data": {
      "text/plain": [
       "[ \"domain1\", \"domain2\", \"domain3\", \"domain4\", \"domain5\" ]"
      ]
     },
     "execution_count": 60,
     "metadata": {},
     "output_type": "execute_result"
    },
    {
     "data": {
      "text/plain": [
       "\"Y Axis\""
      ]
     },
     "execution_count": 61,
     "metadata": {},
     "output_type": "execute_result"
    },
    {
     "data": {
      "text/plain": [
       "<object>"
      ]
     },
     "execution_count": 62,
     "metadata": {},
     "output_type": "execute_result"
    },
    {
     "data": {
      "text/plain": [
       "<object>"
      ]
     },
     "execution_count": 63,
     "metadata": {},
     "output_type": "execute_result"
    },
    {
     "data": {
      "text/plain": [
       "<object>"
      ]
     },
     "execution_count": 64,
     "metadata": {},
     "output_type": "execute_result"
    },
    {
     "data": {
      "text/plain": [
       "<object>"
      ]
     },
     "execution_count": 66,
     "metadata": {},
     "output_type": "execute_result"
    },
    {
     "data": {
      "application/vnd.francy+json": "{\"version\" : \"0.5.0\",\"mime\" : \"application\\/vnd.francy+json\",\"canvas\" : {\"width\" : \"800\",\"height\" : \"600\",\"id\" : \"A128\",\"title\" : \"Bar Chart\",\"zoomToFit\" : true,\"menus\" : {},\"chart\" : {\"type\" : \"bar\",\"data\" : {\"data1\" : [\"100\",\"20\",\"30\",\"47\",\"90\"],\"data2\" : [\"51\",\"60\",\"72\",\"38\",\"97\"],\"data3\" : [\"50\",\"60\",\"70\",\"80\",\"90\"]},\"labels\" : true,\"id\" : \"A127\",\"legend\" : true,\"axis\" : {\"x\" : {\"domain\" : [\"domain1\",\"domain2\",\"domain3\",\"domain4\",\"domain5\"],\"title\" : \"X Axis\",\"scale\" : \"band\"},\"y\" : {\"domain\" : [],\"title\" : \"Y Axis\",\"scale\" : \"linear\"}}},\"messages\" : {}}}"
     },
     "execution_count": 68,
     "metadata": {},
     "output_type": "execute_result"
    }
   ],
   "source": [
    "chart:=Chart(ChartType.BAR);\n",
    "chart!.axis!.x!.title := \"X Axis\";\n",
    "chart!.axis!.x!.domain := [\"domain1\", \"domain2\", \"domain3\", \"domain4\", \"domain5\"];\n",
    "\n",
    "chart!.axis!.y!.title := \"Y Axis\";\n",
    "\n",
    "data1 := Dataset(\"data1\", [100,20,30,47,90]);\n",
    "data2 := Dataset(\"data2\", [51,60,72,38,97]);\n",
    "data3 := Dataset(\"data3\", [50,60,70,80,90]);\n",
    "\n",
    "Add(chart, [data1, data2, data3]);\n",
    "canvas4 := Canvas(\"Bar Chart\");\n",
    "Add(canvas4, chart);\n",
    "\n",
    "Draw(canvas4);"
   ]
  },
  {
   "cell_type": "markdown",
   "metadata": {},
   "source": [
    "# Apery by Pedro"
   ]
  },
  {
   "cell_type": "code",
   "execution_count": 69,
   "metadata": {},
   "outputs": [
    {
     "data": {
      "text/plain": [
       "function( arg... ) ... end"
      ]
     },
     "execution_count": 69,
     "metadata": {},
     "output_type": "execute_result"
    }
   ],
   "source": [
    "apery:=function(arg)\n",
    "    local ap,c,hasse, s, n, r, graphHasse, aps, es, canvas, i, order;\n",
    "  # rel is a list of lists with two elements representin a binary relation\n",
    "  # hasse(rel) removes from rel the pairs [x,y] such that there exists\n",
    "  # z with [x,z],[z,y] in rel\n",
    "  hasse:=function(rel)\n",
    "      local dom, out;\n",
    "      dom:=Flat(rel);\n",
    "      out:=Filtered(rel, p-> ForAny(dom, x->([p[1],x] in rel) and ([x,p[2]] in rel)));\n",
    "      return Difference(rel,out);\n",
    "  end;\n",
    "\n",
    "    order:=function(x)\n",
    "        return Maximum(LengthsOfFactorizationsElementWRTNumericalSemigroup(x,s));\n",
    "    end;\n",
    "\n",
    "  if Length(arg)=1 then\n",
    "    s:=arg[1];\n",
    "    n:=MultiplicityOfNumericalSemigroup(s);\n",
    "  fi;\n",
    "  if Length(arg)=2 then\n",
    "    s:=arg[1];\n",
    "    n:=arg[2];\n",
    "  fi;\n",
    "  if Length(arg)>2 then\n",
    "    Error(\"The number of arguments must be one or two\");\n",
    "  fi;\n",
    "  \n",
    "    graphHasse := Graph(GraphType.HASSE);\n",
    "\n",
    "  ap:=AperyList(s,n);\n",
    "  c:=Cartesian([1..n],[1..n]);\n",
    "  c:=Filtered(c, p-> ap[p[2]]<>ap[p[1]]);\n",
    "  c:=Filtered(c, p-> ap[p[1]]-ap[p[2]] in s);\n",
    "  c:=hasse(c);\n",
    "  Print(c);\n",
    "    aps:=[];\n",
    "    for i in [1..n] do\n",
    "        aps[i]:=Shape(ShapeType!.CIRCLE, String(ap[i]));\n",
    "        aps[i]!.layer:=-order(ap[i]);\n",
    "        Add(graphHasse,aps[i]);\n",
    "    od;\n",
    "  for r in c do\n",
    "    Add(graphHasse,Link(aps[r[1]],aps[r[2]]));\n",
    "  od;\n",
    "    canvas:=Canvas(\"Apery\");\n",
    "    Add(canvas,graphHasse);\n",
    "    return Draw(canvas);    \n",
    "end;"
   ]
  },
  {
   "cell_type": "code",
   "execution_count": 70,
   "metadata": {
    "scrolled": false
   },
   "outputs": [
    {
     "name": "stdout",
     "output_type": "stream",
     "text": [
      "[ [ 2, 1 ], [ 3, 2 ], [ 4, 3 ], [ 5, 4 ], [ 6, 5 ], [ 7, 6 ], [ 8, 9 ], [ 9, 10 ], [ 10, 1 ] ]"
     ]
    },
    {
     "data": {
      "application/vnd.francy+json": "{\"version\" : \"0.5.0\",\"mime\" : \"application\\/vnd.francy+json\",\"canvas\" : {\"width\" : \"800\",\"height\" : \"600\",\"id\" : \"A149\",\"title\" : \"Apery\",\"zoomToFit\" : true,\"menus\" : {},\"graph\" : {\"type\" : \"hasse\",\"id\" : \"A129\",\"simulation\" : true,\"drag\" : true,\"nodes\" : {\"A130\" : {\"x\" : 0,\"y\" : 0,\"type\" : \"circle\",\"size\" : 10,\"id\" : \"A130\",\"title\" : \"0\",\"layer\" : 0,\"highlight\" : true,\"menus\" : {},\"messages\" : {},\"callbacks\" : {}},\"A131\" : {\"x\" : 0,\"y\" : 0,\"type\" : \"circle\",\"size\" : 10,\"id\" : \"A131\",\"title\" : \"11\",\"layer\" : -1,\"highlight\" : true,\"menus\" : {},\"messages\" : {},\"callbacks\" : {}},\"A132\" : {\"x\" : 0,\"y\" : 0,\"type\" : \"circle\",\"size\" : 10,\"id\" : \"A132\",\"title\" : \"22\",\"layer\" : -2,\"highlight\" : true,\"menus\" : {},\"messages\" : {},\"callbacks\" : {}},\"A133\" : {\"x\" : 0,\"y\" : 0,\"type\" : \"circle\",\"size\" : 10,\"id\" : \"A133\",\"title\" : \"33\",\"layer\" : -3,\"highlight\" : true,\"menus\" : {},\"messages\" : {},\"callbacks\" : {}},\"A134\" : {\"x\" : 0,\"y\" : 0,\"type\" : \"circle\",\"size\" : 10,\"id\" : \"A134\",\"title\" : \"44\",\"layer\" : -4,\"highlight\" : true,\"menus\" : {},\"messages\" : {},\"callbacks\" : {}},\"A135\" : {\"x\" : 0,\"y\" : 0,\"type\" : \"circle\",\"size\" : 10,\"id\" : \"A135\",\"title\" : \"55\",\"layer\" : -5,\"highlight\" : true,\"menus\" : {},\"messages\" : {},\"callbacks\" : {}},\"A136\" : {\"x\" : 0,\"y\" : 0,\"type\" : \"circle\",\"size\" : 10,\"id\" : \"A136\",\"title\" : \"66\",\"layer\" : -6,\"highlight\" : true,\"menus\" : {},\"messages\" : {},\"callbacks\" : {}},\"A137\" : {\"x\" : 0,\"y\" : 0,\"type\" : \"circle\",\"size\" : 10,\"id\" : \"A137\",\"title\" : \"57\",\"layer\" : -3,\"highlight\" : true,\"menus\" : {},\"messages\" : {},\"callbacks\" : {}},\"A138\" : {\"x\" : 0,\"y\" : 0,\"type\" : \"circle\",\"size\" : 10,\"id\" : \"A138\",\"title\" : \"38\",\"layer\" : -2,\"highlight\" : true,\"menus\" : {},\"messages\" : {},\"callbacks\" : {}},\"A139\" : {\"x\" : 0,\"y\" : 0,\"type\" : \"circle\",\"size\" : 10,\"id\" : \"A139\",\"title\" : \"19\",\"layer\" : -1,\"highlight\" : true,\"menus\" : {},\"messages\" : {},\"callbacks\" : {}}},\"links\" : {\"A140\" : {\"source\" : \"A131\",\"id\" : \"A140\",\"target\" : \"A130\"},\"A141\" : {\"source\" : \"A132\",\"id\" : \"A141\",\"target\" : \"A131\"},\"A142\" : {\"source\" : \"A133\",\"id\" : \"A142\",\"target\" : \"A132\"},\"A143\" : {\"source\" : \"A134\",\"id\" : \"A143\",\"target\" : \"A133\"},\"A144\" : {\"source\" : \"A135\",\"id\" : \"A144\",\"target\" : \"A134\"},\"A145\" : {\"source\" : \"A136\",\"id\" : \"A145\",\"target\" : \"A135\"},\"A146\" : {\"source\" : \"A137\",\"id\" : \"A146\",\"target\" : \"A138\"},\"A147\" : {\"source\" : \"A138\",\"id\" : \"A147\",\"target\" : \"A139\"},\"A148\" : {\"source\" : \"A139\",\"id\" : \"A148\",\"target\" : \"A130\"}}},\"messages\" : {}}}"
     },
     "execution_count": 70,
     "metadata": {},
     "output_type": "execute_result"
    }
   ],
   "source": [
    "apery(NumericalSemigroup(10,11,19));"
   ]
  },
  {
   "cell_type": "code",
   "execution_count": null,
   "metadata": {},
   "outputs": [],
   "source": []
  }
 ],
 "metadata": {
  "kernelspec": {
   "display_name": "GAP 4 (native)",
   "language": "gap",
   "name": "gap-native"
  },
  "language_info": {
   "codemirror_mode": "gap",
   "file_extension": ".g",
   "mimetype": "text/x-gap",
   "name": "GAP (native)",
   "nbconvert_exporter": "",
   "pygments_lexer": "gap",
   "version": "4.dev"
  }
 },
 "nbformat": 4,
 "nbformat_minor": 2
}
