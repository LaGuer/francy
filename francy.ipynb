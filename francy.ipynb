{
 "cells": [
  {
   "cell_type": "markdown",
   "metadata": {},
   "source": [
    "### Load Francy Package"
   ]
  },
  {
   "cell_type": "code",
   "execution_count": 142,
   "metadata": {},
   "outputs": [
    {
     "data": {
      "text/plain": [
       "true"
      ]
     },
     "execution_count": 142,
     "metadata": {},
     "output_type": "execute_result"
    }
   ],
   "source": [
    "LoadPackage(\"francy\");"
   ]
  },
  {
   "cell_type": "markdown",
   "metadata": {},
   "source": [
    "### Callbacks\n",
    "\n",
    "Click on the menu to add nodes to the canvas.\n",
    "\n",
    "Try adding 500 of each.\n",
    "\n",
    "Zoom in and out using the mouse wheel."
   ]
  },
  {
   "cell_type": "code",
   "execution_count": 18,
   "metadata": {},
   "outputs": [
    {
     "data": {
      "text/plain": [
       "<object>"
      ]
     },
     "execution_count": 2,
     "metadata": {},
     "output_type": "execute_result"
    },
    {
     "data": {
      "text/plain": [
       "400"
      ]
     },
     "execution_count": 3,
     "metadata": {},
     "output_type": "execute_result"
    },
    {
     "data": {
      "text/plain": [
       "<object>"
      ]
     },
     "execution_count": 4,
     "metadata": {},
     "output_type": "execute_result"
    },
    {
     "data": {
      "text/plain": [
       "function( n ) ... end"
      ]
     },
     "execution_count": 5,
     "metadata": {},
     "output_type": "execute_result"
    },
    {
     "data": {
      "text/plain": [
       "function( n ) ... end"
      ]
     },
     "execution_count": 6,
     "metadata": {},
     "output_type": "execute_result"
    },
    {
     "data": {
      "text/plain": [
       "function(  ) ... end"
      ]
     },
     "execution_count": 7,
     "metadata": {},
     "output_type": "execute_result"
    },
    {
     "data": {
      "text/plain": [
       "<object>"
      ]
     },
     "execution_count": 8,
     "metadata": {},
     "output_type": "execute_result"
    },
    {
     "data": {
      "text/plain": [
       "<object>"
      ]
     },
     "execution_count": 9,
     "metadata": {},
     "output_type": "execute_result"
    },
    {
     "data": {
      "text/plain": [
       "<object>"
      ]
     },
     "execution_count": 11,
     "metadata": {},
     "output_type": "execute_result"
    },
    {
     "data": {
      "text/plain": [
       "<object>"
      ]
     },
     "execution_count": 12,
     "metadata": {},
     "output_type": "execute_result"
    },
    {
     "data": {
      "text/plain": [
       "<object>"
      ]
     },
     "execution_count": 13,
     "metadata": {},
     "output_type": "execute_result"
    },
    {
     "data": {
      "text/plain": [
       "<object>"
      ]
     },
     "execution_count": 15,
     "metadata": {},
     "output_type": "execute_result"
    },
    {
     "data": {
      "text/plain": [
       "<object>"
      ]
     },
     "execution_count": 16,
     "metadata": {},
     "output_type": "execute_result"
    },
    {
     "data": {
      "application/vnd.francy+json": "{\"agent\" : \"application\\/vnd.francy+json\",\"canvas\" : {\"h\" : 400,\"id\" : \"B06212CEB92941256CD0C925F3CC61FD\",\"title\" : \"Add circles on demand\",\"menus\" : {\"F74B9D246DD541C484E418CB16956DA0\" : {\"id\" : \"F74B9D246DD541C484E418CB16956DA0\",\"title\" : \"Add Circle\",\"callback\" : {\"type\" : \"server\",\"id\" : \"FF362CF34FE34521EC835B679ACE7338\",\"trigger\" : \"click\",\"knownArgs\" : [],\"requiredArgs\" : {\"16F84EF01FBE4F14B485CA820A658A6B\" : {\"type\" : \"number\",\"id\" : \"16F84EF01FBE4F14B485CA820A658A6B\",\"title\" : \"How many Circles?\",\"value\" : \"\"}}},\"menus\" : {}},\"0935E1111DD14DF13C7643305440A90F\" : {\"id\" : \"0935E1111DD14DF13C7643305440A90F\",\"title\" : \"Add Square\",\"callback\" : {\"type\" : \"server\",\"id\" : \"334DE0F3A9274F09AC133BF44D541601\",\"trigger\" : \"click\",\"knownArgs\" : [],\"requiredArgs\" : {\"B704B29DD31C4062A4A90467202E2480\" : {\"type\" : \"number\",\"id\" : \"B704B29DD31C4062A4A90467202E2480\",\"title\" : \"How many Squares?\",\"value\" : \"\"}}},\"menus\" : {}},\"550DCE4E3D6F49DF3CAB08FAB4D5D25B\" : {\"id\" : \"550DCE4E3D6F49DF3CAB08FAB4D5D25B\",\"title\" : \"clear\",\"callback\" : {\"type\" : \"server\",\"id\" : \"C5452D576AF74C9EF4FB46A59E28D428\",\"trigger\" : \"click\",\"knownArgs\" : [],\"requiredArgs\" : {}},\"menus\" : {}}},\"w\" : \"800\",\"graph\" : {\"type\" : \"directed\",\"id\" : \"1DE6EE59E29D4239443125A0840082FE\",\"simulation\" : true,\"nodes\" : {},\"links\" : {}},\"chart\" : {}}}"
     },
     "execution_count": 18,
     "metadata": {},
     "output_type": "execute_result"
    }
   ],
   "source": [
    "canvas := Canvas(\"Add circles on demand\");\n",
    "canvas!.h := 400;\n",
    "graph := Graph(GraphType.HASSE);\n",
    "AddCircle := function(n)\n",
    "    local i, shape;\n",
    "    for i in [1..Int(n)] do\n",
    "        shape := Shape(ShapeType!.CIRCLE, String(i));\n",
    "        shape!.layer := Random([1..16]);\n",
    "        Add(graph, shape);\n",
    "    od;\n",
    "    return Draw(canvas);\n",
    "end;\n",
    "AddSquare := function(n)\n",
    "    local i, shape;\n",
    "    for i in [1..Int(n)] do\n",
    "        shape := Shape(ShapeType!.SQUARE, String(i));\n",
    "        shape!.layer := Random([1..16]);\n",
    "        Add(graph, shape);\n",
    "    od;\n",
    "    return Draw(canvas);\n",
    "end;\n",
    "ClearGraph := function()\n",
    "    canvas!.graph := rec();\n",
    "    return Draw(canvas);\n",
    "end;\n",
    "callback1 := Callback(AddCircle);\n",
    "arg1 := RequiredArg(ArgType!.NUMBER, \"How many Circles?\");\n",
    "Add(callback1, arg1);\n",
    "menu1 := Menu( \"Add Circle\", callback1 );\n",
    "callback2 := Callback(AddSquare);\n",
    "arg2 := RequiredArg(ArgType!.NUMBER, \"How many Squares?\");\n",
    "Add(callback2, arg2);\n",
    "menu2 := Menu( \"Add Square\", callback2 );\n",
    "menu3 := Menu( \"clear\", Callback(ClearGraph));\n",
    "Add(canvas, [graph, menu1, menu2, menu3]);\n",
    "Draw(canvas);"
   ]
  },
  {
   "cell_type": "markdown",
   "metadata": {},
   "source": [
    "### Linked Nodes"
   ]
  },
  {
   "cell_type": "code",
   "execution_count": null,
   "metadata": {},
   "outputs": [
    {
     "data": {
      "text/plain": [
       "<object>"
      ]
     },
     "execution_count": 143,
     "metadata": {},
     "output_type": "execute_result"
    },
    {
     "data": {
      "text/plain": [
       "<object>"
      ]
     },
     "execution_count": 144,
     "metadata": {},
     "output_type": "execute_result"
    },
    {
     "data": {
      "text/plain": [
       "0"
      ]
     },
     "execution_count": 145,
     "metadata": {},
     "output_type": "execute_result"
    },
    {
     "data": {
      "text/plain": [
       "<object>"
      ]
     },
     "execution_count": 147,
     "metadata": {},
     "output_type": "execute_result"
    },
    {
     "data": {
      "text/plain": [
       "3"
      ]
     },
     "execution_count": 148,
     "metadata": {},
     "output_type": "execute_result"
    },
    {
     "data": {
      "text/plain": [
       "<object>"
      ]
     },
     "execution_count": 150,
     "metadata": {},
     "output_type": "execute_result"
    },
    {
     "data": {
      "text/plain": [
       "1"
      ]
     },
     "execution_count": 151,
     "metadata": {},
     "output_type": "execute_result"
    },
    {
     "data": {
      "text/plain": [
       "<object>"
      ]
     },
     "execution_count": 154,
     "metadata": {},
     "output_type": "execute_result"
    },
    {
     "data": {
      "text/plain": [
       "2"
      ]
     },
     "execution_count": 155,
     "metadata": {},
     "output_type": "execute_result"
    },
    {
     "data": {
      "text/plain": [
       "<object>"
      ]
     },
     "execution_count": 159,
     "metadata": {},
     "output_type": "execute_result"
    },
    {
     "data": {
      "text/plain": [
       "2"
      ]
     },
     "execution_count": 160,
     "metadata": {},
     "output_type": "execute_result"
    },
    {
     "data": {
      "text/plain": [
       "<object>"
      ]
     },
     "execution_count": 164,
     "metadata": {},
     "output_type": "execute_result"
    },
    {
     "data": {
      "text/plain": [
       "2"
      ]
     },
     "execution_count": 165,
     "metadata": {},
     "output_type": "execute_result"
    },
    {
     "data": {
      "text/plain": [
       "<object>"
      ]
     },
     "execution_count": 169,
     "metadata": {},
     "output_type": "execute_result"
    },
    {
     "data": {
      "text/plain": [
       "400"
      ]
     },
     "execution_count": 170,
     "metadata": {},
     "output_type": "execute_result"
    },
    {
     "data": {
      "application/vnd.francy+json": "{\"agent\" : \"application\\/vnd.francy+json\",\"canvas\" : {\"h\" : 400,\"id\" : \"78F9493026F1480E9CCDC021A64C1088\",\"title\" : \"Quaternion Group Subgroup Lattice\",\"graph\" : {\"type\" : \"directed\",\"id\" : \"B8E4C28E8F834B0DBC48916753637C84\",\"simulation\" : true,\"nodes\" : {\"3232C61B753542CA143AC9D091BEAFD6\" : {\"x\" : 0,\"y\" : 0,\"type\" : \"diamond\",\"size\" : 10,\"id\" : \"3232C61B753542CA143AC9D091BEAFD6\",\"title\" : \"G\",\"layer\" : 0,\"highlight\" : true},\"D8673F1550EB45E28C065E910FBC7E1D\" : {\"x\" : 0,\"y\" : 0,\"type\" : \"wye\",\"size\" : 10,\"id\" : \"D8673F1550EB45E28C065E910FBC7E1D\",\"title\" : \"1\",\"layer\" : 3,\"highlight\" : true},\"261859195AF64A1D047BBA8433E8DCD7\" : {\"x\" : 0,\"y\" : 0,\"type\" : \"circle\",\"size\" : 10,\"id\" : \"261859195AF64A1D047BBA8433E8DCD7\",\"title\" : \"SG1\",\"layer\" : 1,\"highlight\" : true},\"0FC8B1F76D704C5B1C49ADCDCE0FAAE3\" : {\"x\" : 0,\"y\" : 0,\"type\" : \"circle\",\"size\" : 10,\"id\" : \"0FC8B1F76D704C5B1C49ADCDCE0FAAE3\",\"title\" : \"SG2\",\"layer\" : 2,\"highlight\" : true},\"760137AC7A5A4A67946E190B39326F82\" : {\"x\" : 0,\"y\" : 0,\"type\" : \"circle\",\"size\" : 10,\"id\" : \"760137AC7A5A4A67946E190B39326F82\",\"title\" : \"SG3\",\"layer\" : 2,\"highlight\" : true},\"A500E189CDDE4769DCE8A89ACC4EF2F8\" : {\"x\" : 0,\"y\" : 0,\"type\" : \"circle\",\"size\" : 10,\"id\" : \"A500E189CDDE4769DCE8A89ACC4EF2F8\",\"title\" : \"SG4\",\"layer\" : 2,\"highlight\" : true}},\"links\" : {\"C864C0CC07ED4B04EC791AFA1B6EF917\" : {\"source\" : \"3232C61B753542CA143AC9D091BEAFD6\",\"id\" : \"C864C0CC07ED4B04EC791AFA1B6EF917\",\"target\" : \"261859195AF64A1D047BBA8433E8DCD7\"},\"6542EF18837C4B5A945CD90F0890D4CB\" : {\"source\" : \"261859195AF64A1D047BBA8433E8DCD7\",\"id\" : \"6542EF18837C4B5A945CD90F0890D4CB\",\"target\" : \"0FC8B1F76D704C5B1C49ADCDCE0FAAE3\"},\"1E124DE5CF48412FE47B4672E03565C0\" : {\"source\" : \"0FC8B1F76D704C5B1C49ADCDCE0FAAE3\",\"id\" : \"1E124DE5CF48412FE47B4672E03565C0\",\"target\" : \"D8673F1550EB45E28C065E910FBC7E1D\"},\"E9943849F298484974AF323D3208DCD3\" : {\"source\" : \"261859195AF64A1D047BBA8433E8DCD7\",\"id\" : \"E9943849F298484974AF323D3208DCD3\",\"target\" : \"760137AC7A5A4A67946E190B39326F82\"},\"DE548421F3334873EC467E31B9FF62B4\" : {\"source\" : \"760137AC7A5A4A67946E190B39326F82\",\"id\" : \"DE548421F3334873EC467E31B9FF62B4\",\"target\" : \"D8673F1550EB45E28C065E910FBC7E1D\"},\"CB871C17DF7A4AB81467A56BB770099A\" : {\"source\" : \"261859195AF64A1D047BBA8433E8DCD7\",\"id\" : \"CB871C17DF7A4AB81467A56BB770099A\",\"target\" : \"A500E189CDDE4769DCE8A89ACC4EF2F8\"},\"EA2E87609F244AA6BCCCDC549E32A54C\" : {\"source\" : \"A500E189CDDE4769DCE8A89ACC4EF2F8\",\"id\" : \"EA2E87609F244AA6BCCCDC549E32A54C\",\"target\" : \"D8673F1550EB45E28C065E910FBC7E1D\"}}},\"menus\" : {},\"w\" : \"800\",\"chart\" : {}}}"
     },
     "execution_count": 172,
     "metadata": {},
     "output_type": "execute_result"
    }
   ],
   "source": [
    "graph2 := Graph(GraphType.HASSE);\n",
    "shapeG := Shape(ShapeType!.DIAMOND, \"G\");\n",
    "shapeG!.layer := 0;\n",
    "Add(graph2, shapeG);\n",
    "shape1 := Shape(ShapeType!.WYE, \"1\");\n",
    "shape1!.layer := 3;\n",
    "Add(graph2, shape1);\n",
    "shapeSG1 := Shape(ShapeType!.CIRCLE, \"SG1\");\n",
    "shapeSG1!.layer := 1;\n",
    "Add(graph2, shapeSG1);\n",
    "Add(graph2, Link(shapeG, shapeSG1));\n",
    "shapeSG2 := Shape(ShapeType!.CIRCLE, \"SG2\");\n",
    "shapeSG2!.layer := 2;\n",
    "Add(graph2, shapeSG2);\n",
    "Add(graph2, Link(shapeSG1, shapeSG2));\n",
    "Add(graph2, Link(shapeSG2, shape1));\n",
    "shapeSG3 := Shape(ShapeType!.CIRCLE, \"SG3\");\n",
    "shapeSG3!.layer := 2;\n",
    "Add(graph2, shapeSG3);\n",
    "Add(graph2, Link(shapeSG1, shapeSG3));\n",
    "Add(graph2, Link(shapeSG3, shape1));\n",
    "shapeSG4 := Shape(ShapeType!.CIRCLE, \"SG4\");\n",
    "shapeSG4!.layer := 2;\n",
    "Add(graph2, shapeSG4);\n",
    "Add(graph2, Link(shapeSG1, shapeSG4));\n",
    "Add(graph2, Link(shapeSG4, shape1));\n",
    "canvas2 := Canvas(\"Quaternion Group Subgroup Lattice\");\n",
    "canvas2!.h := 400;\n",
    "Add(canvas2, graph2);\n",
    "Draw(canvas2);"
   ]
  },
  {
   "cell_type": "code",
   "execution_count": null,
   "metadata": {},
   "outputs": [],
   "source": []
  }
 ],
 "metadata": {
  "kernelspec": {
   "display_name": "GAP 4 (native)",
   "language": "gap",
   "name": "gap-native"
  },
  "language_info": {
   "codemirror_mode": "gap",
   "file_extension": ".g",
   "mimetype": "text/x-gap",
   "name": "GAP (native)",
   "nbconvert_exporter": "",
   "pygments_lexer": "gap",
   "version": "4.dev"
  }
 },
 "nbformat": 4,
 "nbformat_minor": 2
}
