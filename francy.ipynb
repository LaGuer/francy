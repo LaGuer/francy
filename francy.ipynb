{
 "cells": [
  {
   "cell_type": "markdown",
   "metadata": {},
   "source": [
    "### Load Francy Package"
   ]
  },
  {
   "cell_type": "code",
   "execution_count": 1,
   "metadata": {},
   "outputs": [
    {
     "data": {
      "text/plain": [
       "true"
      ]
     },
     "execution_count": 1,
     "metadata": {},
     "output_type": "execute_result"
    }
   ],
   "source": [
    "LoadPackage(\"francy\");"
   ]
  },
  {
   "cell_type": "markdown",
   "metadata": {},
   "source": [
    "# Graphs\n",
    "\n",
    "### Callbacks\n",
    "\n",
    "Click on the menu to add nodes to the canvas.\n",
    "\n",
    "Try adding 500 of each.\n",
    "\n",
    "Zoom in and out using the mouse wheel."
   ]
  },
  {
   "cell_type": "code",
   "execution_count": 18,
   "metadata": {},
   "outputs": [
    {
     "data": {
      "text/plain": [
       "<object>"
      ]
     },
     "execution_count": 2,
     "metadata": {},
     "output_type": "execute_result"
    },
    {
     "data": {
      "text/plain": [
       "400"
      ]
     },
     "execution_count": 3,
     "metadata": {},
     "output_type": "execute_result"
    },
    {
     "data": {
      "text/plain": [
       "<object>"
      ]
     },
     "execution_count": 4,
     "metadata": {},
     "output_type": "execute_result"
    },
    {
     "data": {
      "text/plain": [
       "function( n ) ... end"
      ]
     },
     "execution_count": 5,
     "metadata": {},
     "output_type": "execute_result"
    },
    {
     "data": {
      "text/plain": [
       "function( n ) ... end"
      ]
     },
     "execution_count": 6,
     "metadata": {},
     "output_type": "execute_result"
    },
    {
     "data": {
      "text/plain": [
       "function(  ) ... end"
      ]
     },
     "execution_count": 7,
     "metadata": {},
     "output_type": "execute_result"
    },
    {
     "data": {
      "text/plain": [
       "<object>"
      ]
     },
     "execution_count": 8,
     "metadata": {},
     "output_type": "execute_result"
    },
    {
     "data": {
      "text/plain": [
       "<object>"
      ]
     },
     "execution_count": 9,
     "metadata": {},
     "output_type": "execute_result"
    },
    {
     "data": {
      "text/plain": [
       "<object>"
      ]
     },
     "execution_count": 11,
     "metadata": {},
     "output_type": "execute_result"
    },
    {
     "data": {
      "text/plain": [
       "<object>"
      ]
     },
     "execution_count": 12,
     "metadata": {},
     "output_type": "execute_result"
    },
    {
     "data": {
      "text/plain": [
       "<object>"
      ]
     },
     "execution_count": 13,
     "metadata": {},
     "output_type": "execute_result"
    },
    {
     "data": {
      "text/plain": [
       "<object>"
      ]
     },
     "execution_count": 15,
     "metadata": {},
     "output_type": "execute_result"
    },
    {
     "data": {
      "text/plain": [
       "<object>"
      ]
     },
     "execution_count": 16,
     "metadata": {},
     "output_type": "execute_result"
    },
    {
     "data": {
      "application/vnd.francy+json": "{\"agent\" : \"application\\/vnd.francy+json\",\"canvas\" : {\"height\" : 400,\"id\" : \"B06212CEB92941256CD0C925F3CC61FD\",\"title\" : \"Add circles on demand\",\"menus\" : {\"F74B9D246DD541C484E418CB16956DA0\" : {\"id\" : \"F74B9D246DD541C484E418CB16956DA0\",\"title\" : \"Add Circle\",\"callback\" : {\"type\" : \"server\",\"id\" : \"FF362CF34FE34521EC835B679ACE7338\",\"trigger\" : \"click\",\"knownArgs\" : [],\"requiredArgs\" : {\"16F84EF01FBE4F14B485CA820A658A6B\" : {\"type\" : \"number\",\"id\" : \"16F84EF01FBE4F14B485CA820A658A6B\",\"title\" : \"How many Circles?\",\"value\" : \"\"}}},\"menus\" : {}},\"0935E1111DD14DF13C7643305440A90F\" : {\"id\" : \"0935E1111DD14DF13C7643305440A90F\",\"title\" : \"Add Square\",\"callback\" : {\"type\" : \"server\",\"id\" : \"334DE0F3A9274F09AC133BF44D541601\",\"trigger\" : \"click\",\"knownArgs\" : [],\"requiredArgs\" : {\"B704B29DD31C4062A4A90467202E2480\" : {\"type\" : \"number\",\"id\" : \"B704B29DD31C4062A4A90467202E2480\",\"title\" : \"How many Squares?\",\"value\" : \"\"}}},\"menus\" : {}},\"550DCE4E3D6F49DF3CAB08FAB4D5D25B\" : {\"id\" : \"550DCE4E3D6F49DF3CAB08FAB4D5D25B\",\"title\" : \"clear\",\"callback\" : {\"type\" : \"server\",\"id\" : \"C5452D576AF74C9EF4FB46A59E28D428\",\"trigger\" : \"click\",\"knownArgs\" : [],\"requiredArgs\" : {}},\"menus\" : {}}},\"width\" : \"800\",\"graph\" : {\"type\" : \"directed\",\"id\" : \"1DE6EE59E29D4239443125A0840082FE\",\"simulation\" : true,\"nodes\" : {},\"links\" : {}},\"chart\" : {}}}"
     },
     "execution_count": 18,
     "metadata": {},
     "output_type": "execute_result"
    }
   ],
   "source": [
    "canvas := Canvas(\"Add circles on demand\");\n",
    "canvas!.h := 400;\n",
    "\n",
    "graph := Graph(GraphType.HASSE);\n",
    "\n",
    "AddCircle := function(n)\n",
    "    local i, shape;\n",
    "    for i in [1..Int(n)] do\n",
    "        shape := Shape(ShapeType.CIRCLE, String(i));\n",
    "        shape!.layer := Random([1..16]);\n",
    "        Add(graph, shape);\n",
    "    od;\n",
    "    return Draw(canvas);\n",
    "end;\n",
    "\n",
    "AddSquare := function(n)\n",
    "    local i, shape;\n",
    "    for i in [1..Int(n)] do\n",
    "        shape := Shape(ShapeType.SQUARE, String(i));\n",
    "        shape!.layer := Random([1..16]);\n",
    "        Add(graph, shape);\n",
    "    od;\n",
    "    return Draw(canvas);\n",
    "end;\n",
    "\n",
    "ClearGraph := function()\n",
    "    canvas!.graph := rec();\n",
    "    return Draw(canvas);\n",
    "end;\n",
    "\n",
    "callback1 := Callback(AddCircle);\n",
    "arg1 := RequiredArg(ArgType.NUMBER, \"How many Circles?\");\n",
    "Add(callback1, arg1);\n",
    "menu1 := Menu( \"Add Circle\", callback1 );\n",
    "\n",
    "callback2 := Callback(AddSquare);\n",
    "arg2 := RequiredArg(ArgType.NUMBER, \"How many Squares?\");\n",
    "Add(callback2, arg2);\n",
    "menu2 := Menu( \"Add Square\", callback2 );\n",
    "\n",
    "menu3 := Menu( \"Clear\", Callback(ClearGraph));\n",
    "\n",
    "Add(canvas, [graph, menu1, menu2, menu3]);\n",
    "\n",
    "Draw(canvas);"
   ]
  },
  {
   "cell_type": "markdown",
   "metadata": {},
   "source": [
    "### Linked Nodes and Shape Menus\n",
    "\n",
    "Right click on the Shape G for more actions"
   ]
  },
  {
   "cell_type": "code",
   "execution_count": 36,
   "metadata": {},
   "outputs": [
    {
     "data": {
      "text/plain": [
       "<object>"
      ]
     },
     "execution_count": 2,
     "metadata": {},
     "output_type": "execute_result"
    },
    {
     "data": {
      "text/plain": [
       "<object>"
      ]
     },
     "execution_count": 3,
     "metadata": {},
     "output_type": "execute_result"
    },
    {
     "data": {
      "text/plain": [
       "0"
      ]
     },
     "execution_count": 4,
     "metadata": {},
     "output_type": "execute_result"
    },
    {
     "data": {
      "text/plain": [
       "<object>"
      ]
     },
     "execution_count": 6,
     "metadata": {},
     "output_type": "execute_result"
    },
    {
     "data": {
      "text/plain": [
       "3"
      ]
     },
     "execution_count": 7,
     "metadata": {},
     "output_type": "execute_result"
    },
    {
     "data": {
      "text/plain": [
       "<object>"
      ]
     },
     "execution_count": 9,
     "metadata": {},
     "output_type": "execute_result"
    },
    {
     "data": {
      "text/plain": [
       "1"
      ]
     },
     "execution_count": 10,
     "metadata": {},
     "output_type": "execute_result"
    },
    {
     "data": {
      "text/plain": [
       "<object>"
      ]
     },
     "execution_count": 13,
     "metadata": {},
     "output_type": "execute_result"
    },
    {
     "data": {
      "text/plain": [
       "2"
      ]
     },
     "execution_count": 14,
     "metadata": {},
     "output_type": "execute_result"
    },
    {
     "data": {
      "text/plain": [
       "<object>"
      ]
     },
     "execution_count": 18,
     "metadata": {},
     "output_type": "execute_result"
    },
    {
     "data": {
      "text/plain": [
       "2"
      ]
     },
     "execution_count": 19,
     "metadata": {},
     "output_type": "execute_result"
    },
    {
     "data": {
      "text/plain": [
       "<object>"
      ]
     },
     "execution_count": 23,
     "metadata": {},
     "output_type": "execute_result"
    },
    {
     "data": {
      "text/plain": [
       "2"
      ]
     },
     "execution_count": 24,
     "metadata": {},
     "output_type": "execute_result"
    },
    {
     "data": {
      "text/plain": [
       "<object>"
      ]
     },
     "execution_count": 28,
     "metadata": {},
     "output_type": "execute_result"
    },
    {
     "data": {
      "text/plain": [
       "400"
      ]
     },
     "execution_count": 29,
     "metadata": {},
     "output_type": "execute_result"
    },
    {
     "data": {
      "text/plain": [
       "function( n ) ... end"
      ]
     },
     "execution_count": 30,
     "metadata": {},
     "output_type": "execute_result"
    },
    {
     "data": {
      "text/plain": [
       "<object>"
      ]
     },
     "execution_count": 31,
     "metadata": {},
     "output_type": "execute_result"
    },
    {
     "data": {
      "text/plain": [
       "<object>"
      ]
     },
     "execution_count": 32,
     "metadata": {},
     "output_type": "execute_result"
    },
    {
     "data": {
      "application/vnd.francy+json": "{\"agent\" : \"application\\/vnd.francy+json\",\"canvas\" : {\"h\" : 400,\"width\" : \"800\",\"height\" : \"600\",\"id\" : \"C957E285E0B14173EC9381C00B082970\",\"title\" : \"Quaternion Group Subgroup Lattice\",\"menus\" : {},\"graph\" : {\"type\" : \"hasse\",\"id\" : \"B06212CEB92941256CD0C925F3CC61FD\",\"simulation\" : true,\"nodes\" : {\"1DE6EE59E29D4239443125A0840082FE\" : {\"x\" : 0,\"y\" : 0,\"type\" : \"diamond\",\"size\" : 10,\"id\" : \"1DE6EE59E29D4239443125A0840082FE\",\"title\" : \"G\",\"layer\" : 0,\"menus\" : {\"1AB14F00715746C17C7A051F4C4D50D1\" : {\"id\" : \"1AB14F00715746C17C7A051F4C4D50D1\",\"title\" : \"Add Square\",\"callback\" : {\"type\" : \"server\",\"id\" : \"78F966D29C48478A349E56140B0752E8\",\"trigger\" : \"click\",\"knownArgs\" : [],\"requiredArgs\" : {\"2A6C37797BF9484A0470FE1CE5464A41\" : {\"type\" : \"number\",\"id\" : \"2A6C37797BF9484A0470FE1CE5464A41\",\"title\" : \"How many Squares?\",\"value\" : \"\"}}},\"menus\" : {}}},\"highlight\" : true},\"FF362CF34FE34521EC835B679ACE7338\" : {\"x\" : 0,\"y\" : 0,\"type\" : \"wye\",\"size\" : 10,\"id\" : \"FF362CF34FE34521EC835B679ACE7338\",\"title\" : \"1\",\"layer\" : 3,\"menus\" : {},\"highlight\" : true},\"16F84EF01FBE4F14B485CA820A658A6B\" : {\"x\" : 0,\"y\" : 0,\"type\" : \"circle\",\"size\" : 10,\"id\" : \"16F84EF01FBE4F14B485CA820A658A6B\",\"title\" : \"SG1\",\"layer\" : 1,\"menus\" : {},\"highlight\" : true},\"334DE0F3A9274F09AC133BF44D541601\" : {\"x\" : 0,\"y\" : 0,\"type\" : \"circle\",\"size\" : 10,\"id\" : \"334DE0F3A9274F09AC133BF44D541601\",\"title\" : \"SG2\",\"layer\" : 2,\"menus\" : {},\"highlight\" : true},\"C5452D576AF74C9EF4FB46A59E28D428\" : {\"x\" : 0,\"y\" : 0,\"type\" : \"circle\",\"size\" : 10,\"id\" : \"C5452D576AF74C9EF4FB46A59E28D428\",\"title\" : \"SG3\",\"layer\" : 2,\"menus\" : {},\"highlight\" : true},\"807B9742C5CC4FC40CAF33D4A0501971\" : {\"x\" : 0,\"y\" : 0,\"type\" : \"circle\",\"size\" : 10,\"id\" : \"807B9742C5CC4FC40CAF33D4A0501971\",\"title\" : \"SG4\",\"layer\" : 2,\"menus\" : {},\"highlight\" : true}},\"links\" : {\"F74B9D246DD541C484E418CB16956DA0\" : {\"source\" : \"1DE6EE59E29D4239443125A0840082FE\",\"id\" : \"F74B9D246DD541C484E418CB16956DA0\",\"target\" : \"16F84EF01FBE4F14B485CA820A658A6B\"},\"B704B29DD31C4062A4A90467202E2480\" : {\"source\" : \"16F84EF01FBE4F14B485CA820A658A6B\",\"id\" : \"B704B29DD31C4062A4A90467202E2480\",\"target\" : \"334DE0F3A9274F09AC133BF44D541601\"},\"0935E1111DD14DF13C7643305440A90F\" : {\"source\" : \"334DE0F3A9274F09AC133BF44D541601\",\"id\" : \"0935E1111DD14DF13C7643305440A90F\",\"target\" : \"FF362CF34FE34521EC835B679ACE7338\"},\"550DCE4E3D6F49DF3CAB08FAB4D5D25B\" : {\"source\" : \"16F84EF01FBE4F14B485CA820A658A6B\",\"id\" : \"550DCE4E3D6F49DF3CAB08FAB4D5D25B\",\"target\" : \"C5452D576AF74C9EF4FB46A59E28D428\"},\"CBE476E116664FC274E1019A4AFC3590\" : {\"source\" : \"C5452D576AF74C9EF4FB46A59E28D428\",\"id\" : \"CBE476E116664FC274E1019A4AFC3590\",\"target\" : \"FF362CF34FE34521EC835B679ACE7338\"},\"948734D11FBF42E464F04F2EE6D6C0DE\" : {\"source\" : \"16F84EF01FBE4F14B485CA820A658A6B\",\"id\" : \"948734D11FBF42E464F04F2EE6D6C0DE\",\"target\" : \"807B9742C5CC4FC40CAF33D4A0501971\"},\"54CD4B05DD4246E92C0525D0F611334A\" : {\"source\" : \"807B9742C5CC4FC40CAF33D4A0501971\",\"id\" : \"54CD4B05DD4246E92C0525D0F611334A\",\"target\" : \"FF362CF34FE34521EC835B679ACE7338\"}}}}}"
     },
     "execution_count": 36,
     "metadata": {},
     "output_type": "execute_result"
    }
   ],
   "source": [
    "graph2 := Graph(GraphType.HASSE);\n",
    "\n",
    "shapeG := Shape(ShapeType.DIAMOND, \"G\");\n",
    "shapeG!.layer := 0;\n",
    "Add(graph2, shapeG);\n",
    "shape1 := Shape(ShapeType.WYE, \"1\");\n",
    "shape1!.layer := 3;\n",
    "Add(graph2, shape1);\n",
    "\n",
    "shapeSG1 := Shape(ShapeType.CIRCLE, \"SG1\");\n",
    "shapeSG1!.layer := 1;\n",
    "Add(graph2, shapeSG1);\n",
    "Add(graph2, Link(shapeG, shapeSG1));\n",
    "\n",
    "shapeSG2 := Shape(ShapeType.CIRCLE, \"SG2\");\n",
    "shapeSG2!.layer := 2;\n",
    "Add(graph2, shapeSG2);\n",
    "Add(graph2, Link(shapeSG1, shapeSG2));\n",
    "Add(graph2, Link(shapeSG2, shape1));\n",
    "\n",
    "shapeSG3 := Shape(ShapeType.CIRCLE, \"SG3\");\n",
    "shapeSG3!.layer := 2;\n",
    "Add(graph2, shapeSG3);\n",
    "Add(graph2, Link(shapeSG1, shapeSG3));\n",
    "Add(graph2, Link(shapeSG3, shape1));\n",
    "\n",
    "shapeSG4 := Shape(ShapeType.CIRCLE, \"SG4\");\n",
    "shapeSG4!.layer := 2;\n",
    "Add(graph2, shapeSG4);\n",
    "Add(graph2, Link(shapeSG1, shapeSG4));\n",
    "Add(graph2, Link(shapeSG4, shape1));\n",
    "\n",
    "canvas2 := Canvas(\"Quaternion Group Subgroup Lattice\");\n",
    "canvas2!.h := 400;\n",
    "\n",
    "AddSquare := function(n)\n",
    "    local i, shape;\n",
    "    for i in [1..Int(n)] do\n",
    "        shape := Shape(ShapeType.SQUARE, String(i));\n",
    "        shape!.layer := Random([1..16]);\n",
    "        Add(graph2, shape);\n",
    "    od;\n",
    "    return Draw(canvas2);\n",
    "end;\n",
    "\n",
    "cb := Callback(AddSquare);\n",
    "a1 := RequiredArg(ArgType.NUMBER, \"How many Squares?\");\n",
    "Add(cb, a1);\n",
    "\n",
    "Add(shapeG, Menu(\"Add Square\", cb));\n",
    "\n",
    "Add(canvas2, graph2);\n",
    "\n",
    "Draw(canvas2);"
   ]
  },
  {
   "cell_type": "markdown",
   "metadata": {},
   "source": [
    "### An attempt to LatticeSubgroups By Markus"
   ]
  },
  {
   "cell_type": "code",
   "execution_count": 52,
   "metadata": {},
   "outputs": [
    {
     "data": {
      "text/plain": [
       "function( L ) ... end"
      ]
     },
     "execution_count": 49,
     "metadata": {},
     "output_type": "execute_result"
    },
    {
     "data": {
      "text/plain": [
       "<object>"
      ]
     },
     "execution_count": 50,
     "metadata": {},
     "output_type": "execute_result"
    },
    {
     "data": {
      "application/vnd.francy+json": "{\"agent\" : \"application\\/vnd.francy+json\",\"canvas\" : {\"height\" : \"600\",\"id\" : \"37407350D8344221FCDF6B0C4FACDF6E\",\"title\" : \"Lattice Subgroups\",\"menus\" : {},\"width\" : \"800\",\"graph\" : {\"type\" : \"directed\",\"id\" : \"486806B7F9CB4670245B0E5FAC342281\",\"simulation\" : true,\"nodes\" : {\"893AA2B758F74E734C43043BB426EF2E\" : {\"x\" : 0,\"y\" : 0,\"type\" : \"circle\",\"size\" : 10,\"id\" : \"893AA2B758F74E734C43043BB426EF2E\",\"title\" : \"1\",\"layer\" : 1,\"highlight\" : true},\"FE13139C1B09445784697781CC3D3E68\" : {\"x\" : 0,\"y\" : 0,\"type\" : \"diamond\",\"size\" : 10,\"id\" : \"FE13139C1B09445784697781CC3D3E68\",\"title\" : \"2\",\"layer\" : 2,\"highlight\" : true},\"5CB3E6537C86473EAC7AEA5EF16717DE\" : {\"x\" : 0,\"y\" : 0,\"type\" : \"diamond\",\"size\" : 10,\"id\" : \"5CB3E6537C86473EAC7AEA5EF16717DE\",\"title\" : \"2\",\"layer\" : 2,\"highlight\" : true},\"A195E5EFEC5A438C9CB57561051F49D1\" : {\"x\" : 0,\"y\" : 0,\"type\" : \"diamond\",\"size\" : 10,\"id\" : \"A195E5EFEC5A438C9CB57561051F49D1\",\"title\" : \"2\",\"layer\" : 2,\"highlight\" : true},\"5F420F5A4D174A036CF7D2C2B86C055D\" : {\"x\" : 0,\"y\" : 0,\"type\" : \"diamond\",\"size\" : 10,\"id\" : \"5F420F5A4D174A036CF7D2C2B86C055D\",\"title\" : \"3\",\"layer\" : 2,\"highlight\" : true},\"BCED201C671245808C359743248E80CD\" : {\"x\" : 0,\"y\" : 0,\"type\" : \"diamond\",\"size\" : 10,\"id\" : \"BCED201C671245808C359743248E80CD\",\"title\" : \"3\",\"layer\" : 2,\"highlight\" : true},\"DDE1EFC1A7B54D28AC0549299933A122\" : {\"x\" : 0,\"y\" : 0,\"type\" : \"diamond\",\"size\" : 10,\"id\" : \"DDE1EFC1A7B54D28AC0549299933A122\",\"title\" : \"3\",\"layer\" : 2,\"highlight\" : true},\"55583924AE9D4BE0EC16C38873B27FE5\" : {\"x\" : 0,\"y\" : 0,\"type\" : \"diamond\",\"size\" : 10,\"id\" : \"55583924AE9D4BE0EC16C38873B27FE5\",\"title\" : \"3\",\"layer\" : 2,\"highlight\" : true},\"AE48B480137D45634CC44C86319415D8\" : {\"x\" : 0,\"y\" : 0,\"type\" : \"diamond\",\"size\" : 10,\"id\" : \"AE48B480137D45634CC44C86319415D8\",\"title\" : \"3\",\"layer\" : 2,\"highlight\" : true},\"F63E7B673A2740FCFCBA3C4FB754912A\" : {\"x\" : 0,\"y\" : 0,\"type\" : \"diamond\",\"size\" : 10,\"id\" : \"F63E7B673A2740FCFCBA3C4FB754912A\",\"title\" : \"3\",\"layer\" : 2,\"highlight\" : true},\"346D46AC43584ADEDC53211B92A33DAB\" : {\"x\" : 0,\"y\" : 0,\"type\" : \"diamond\",\"size\" : 10,\"id\" : \"346D46AC43584ADEDC53211B92A33DAB\",\"title\" : \"4\",\"layer\" : 3,\"highlight\" : true},\"A2B04CDA8B6647E1BC056FCE79D574E6\" : {\"x\" : 0,\"y\" : 0,\"type\" : \"diamond\",\"size\" : 10,\"id\" : \"A2B04CDA8B6647E1BC056FCE79D574E6\",\"title\" : \"4\",\"layer\" : 3,\"highlight\" : true},\"735A151C330446CCCC7F30C484795D0F\" : {\"x\" : 0,\"y\" : 0,\"type\" : \"diamond\",\"size\" : 10,\"id\" : \"735A151C330446CCCC7F30C484795D0F\",\"title\" : \"4\",\"layer\" : 3,\"highlight\" : true},\"9F2608D374814798D49F055DD82FA56D\" : {\"x\" : 0,\"y\" : 0,\"type\" : \"diamond\",\"size\" : 10,\"id\" : \"9F2608D374814798D49F055DD82FA56D\",\"title\" : \"4\",\"layer\" : 3,\"highlight\" : true},\"E0D9B0630B6E40EEC421D3B34E378F08\" : {\"x\" : 0,\"y\" : 0,\"type\" : \"circle\",\"size\" : 10,\"id\" : \"E0D9B0630B6E40EEC421D3B34E378F08\",\"title\" : \"5\",\"layer\" : 4,\"highlight\" : true},\"65112B7DBC62488164DCF122DD60DAA6\" : {\"x\" : 0,\"y\" : 0,\"type\" : \"diamond\",\"size\" : 10,\"id\" : \"65112B7DBC62488164DCF122DD60DAA6\",\"title\" : \"6\",\"layer\" : 4,\"highlight\" : true},\"86403A972E2C48D9A42984F9ED7FA123\" : {\"x\" : 0,\"y\" : 0,\"type\" : \"diamond\",\"size\" : 10,\"id\" : \"86403A972E2C48D9A42984F9ED7FA123\",\"title\" : \"6\",\"layer\" : 4,\"highlight\" : true},\"904F9263F95B48C274507FAE558A4DB4\" : {\"x\" : 0,\"y\" : 0,\"type\" : \"diamond\",\"size\" : 10,\"id\" : \"904F9263F95B48C274507FAE558A4DB4\",\"title\" : \"6\",\"layer\" : 4,\"highlight\" : true},\"0D191D66B64A49C0DC8874D5559A677F\" : {\"x\" : 0,\"y\" : 0,\"type\" : \"diamond\",\"size\" : 10,\"id\" : \"0D191D66B64A49C0DC8874D5559A677F\",\"title\" : \"7\",\"layer\" : 4,\"highlight\" : true},\"0150B9E1B7FB43CC2C0A1C28A7109059\" : {\"x\" : 0,\"y\" : 0,\"type\" : \"diamond\",\"size\" : 10,\"id\" : \"0150B9E1B7FB43CC2C0A1C28A7109059\",\"title\" : \"7\",\"layer\" : 4,\"highlight\" : true},\"8CE97096F8A6455F5CC56313B75FE031\" : {\"x\" : 0,\"y\" : 0,\"type\" : \"diamond\",\"size\" : 10,\"id\" : \"8CE97096F8A6455F5CC56313B75FE031\",\"title\" : \"7\",\"layer\" : 4,\"highlight\" : true},\"18EE0F6FD0C04C5AFC6AEA152A099679\" : {\"x\" : 0,\"y\" : 0,\"type\" : \"diamond\",\"size\" : 10,\"id\" : \"18EE0F6FD0C04C5AFC6AEA152A099679\",\"title\" : \"8\",\"layer\" : 6,\"highlight\" : true},\"BBF2855AC31B45D78CF8FF2B8E6FAADD\" : {\"x\" : 0,\"y\" : 0,\"type\" : \"diamond\",\"size\" : 10,\"id\" : \"BBF2855AC31B45D78CF8FF2B8E6FAADD\",\"title\" : \"8\",\"layer\" : 6,\"highlight\" : true},\"88EE90CF48C446431CFBAB6CFE2CF57A\" : {\"x\" : 0,\"y\" : 0,\"type\" : \"diamond\",\"size\" : 10,\"id\" : \"88EE90CF48C446431CFBAB6CFE2CF57A\",\"title\" : \"8\",\"layer\" : 6,\"highlight\" : true},\"8B7465B0763443CE44087B803C4699F2\" : {\"x\" : 0,\"y\" : 0,\"type\" : \"diamond\",\"size\" : 10,\"id\" : \"8B7465B0763443CE44087B803C4699F2\",\"title\" : \"8\",\"layer\" : 6,\"highlight\" : true},\"B94E91F6DF3C4C926C38D025CE730F07\" : {\"x\" : 0,\"y\" : 0,\"type\" : \"diamond\",\"size\" : 10,\"id\" : \"B94E91F6DF3C4C926C38D025CE730F07\",\"title\" : \"9\",\"layer\" : 8,\"highlight\" : true},\"8E38DB2F854D47469C6F11007E0F3D46\" : {\"x\" : 0,\"y\" : 0,\"type\" : \"diamond\",\"size\" : 10,\"id\" : \"8E38DB2F854D47469C6F11007E0F3D46\",\"title\" : \"9\",\"layer\" : 8,\"highlight\" : true},\"9CE4FC0A5CDD4C14340FCCE52EB81978\" : {\"x\" : 0,\"y\" : 0,\"type\" : \"diamond\",\"size\" : 10,\"id\" : \"9CE4FC0A5CDD4C14340FCCE52EB81978\",\"title\" : \"9\",\"layer\" : 8,\"highlight\" : true},\"380BB2457B2547FCACED9BA6202A242B\" : {\"x\" : 0,\"y\" : 0,\"type\" : \"circle\",\"size\" : 10,\"id\" : \"380BB2457B2547FCACED9BA6202A242B\",\"title\" : \"10\",\"layer\" : 12,\"highlight\" : true},\"83F85ADC395B467C2C92F3410BB0A7E8\" : {\"x\" : 0,\"y\" : 0,\"type\" : \"circle\",\"size\" : 10,\"id\" : \"83F85ADC395B467C2C92F3410BB0A7E8\",\"title\" : \"11\",\"layer\" : 24,\"highlight\" : true}},\"links\" : {\"4465C5B207B543F5CC3508BC5E8D441B\" : {\"source\" : \"FE13139C1B09445784697781CC3D3E68\",\"id\" : \"4465C5B207B543F5CC3508BC5E8D441B\",\"target\" : \"893AA2B758F74E734C43043BB426EF2E\"},\"97E759D3253349D7D4184871D4B64409\" : {\"source\" : \"5CB3E6537C86473EAC7AEA5EF16717DE\",\"id\" : \"97E759D3253349D7D4184871D4B64409\",\"target\" : \"893AA2B758F74E734C43043BB426EF2E\"},\"A5FAF803A6764D4A4CCD67A4050A220A\" : {\"source\" : \"A195E5EFEC5A438C9CB57561051F49D1\",\"id\" : \"A5FAF803A6764D4A4CCD67A4050A220A\",\"target\" : \"893AA2B758F74E734C43043BB426EF2E\"},\"9233DFC0128D476E7CDE5B4BC28C4119\" : {\"source\" : \"5F420F5A4D174A036CF7D2C2B86C055D\",\"id\" : \"9233DFC0128D476E7CDE5B4BC28C4119\",\"target\" : \"893AA2B758F74E734C43043BB426EF2E\"},\"49AB204481BE4DB2746E0E0A99D23BF4\" : {\"source\" : \"BCED201C671245808C359743248E80CD\",\"id\" : \"49AB204481BE4DB2746E0E0A99D23BF4\",\"target\" : \"893AA2B758F74E734C43043BB426EF2E\"},\"0D2A9C427BFE40F7ECBD19281EA20FDE\" : {\"source\" : \"DDE1EFC1A7B54D28AC0549299933A122\",\"id\" : \"0D2A9C427BFE40F7ECBD19281EA20FDE\",\"target\" : \"893AA2B758F74E734C43043BB426EF2E\"},\"EB68C370C1574A32DC9184024B615505\" : {\"source\" : \"55583924AE9D4BE0EC16C38873B27FE5\",\"id\" : \"EB68C370C1574A32DC9184024B615505\",\"target\" : \"893AA2B758F74E734C43043BB426EF2E\"},\"04D54A3D08084853E45C38A46FA50732\" : {\"source\" : \"AE48B480137D45634CC44C86319415D8\",\"id\" : \"04D54A3D08084853E45C38A46FA50732\",\"target\" : \"893AA2B758F74E734C43043BB426EF2E\"},\"72ABFFE24A1E42260C3AEC51DEBCCD8E\" : {\"source\" : \"F63E7B673A2740FCFCBA3C4FB754912A\",\"id\" : \"72ABFFE24A1E42260C3AEC51DEBCCD8E\",\"target\" : \"893AA2B758F74E734C43043BB426EF2E\"},\"A1EBAA063681401F4487D7553543F84B\" : {\"source\" : \"346D46AC43584ADEDC53211B92A33DAB\",\"id\" : \"A1EBAA063681401F4487D7553543F84B\",\"target\" : \"893AA2B758F74E734C43043BB426EF2E\"},\"F4BBF21ABC0F4084AC4D3A5150300512\" : {\"source\" : \"A2B04CDA8B6647E1BC056FCE79D574E6\",\"id\" : \"F4BBF21ABC0F4084AC4D3A5150300512\",\"target\" : \"893AA2B758F74E734C43043BB426EF2E\"},\"80E41C321F4D4F5F746D57B3243F58B7\" : {\"source\" : \"735A151C330446CCCC7F30C484795D0F\",\"id\" : \"80E41C321F4D4F5F746D57B3243F58B7\",\"target\" : \"893AA2B758F74E734C43043BB426EF2E\"},\"4F76BBA7ACE74701FCD9E22C791F50B3\" : {\"source\" : \"9F2608D374814798D49F055DD82FA56D\",\"id\" : \"4F76BBA7ACE74701FCD9E22C791F50B3\",\"target\" : \"893AA2B758F74E734C43043BB426EF2E\"},\"304228F1438C48FC4CC53118A36DDEF3\" : {\"source\" : \"E0D9B0630B6E40EEC421D3B34E378F08\",\"id\" : \"304228F1438C48FC4CC53118A36DDEF3\",\"target\" : \"FE13139C1B09445784697781CC3D3E68\"},\"1DA65586C50E412154E13098345A429B\" : {\"source\" : \"E0D9B0630B6E40EEC421D3B34E378F08\",\"id\" : \"1DA65586C50E412154E13098345A429B\",\"target\" : \"5CB3E6537C86473EAC7AEA5EF16717DE\"},\"EE7AD24B25224FBA0C2555D8DE5904B0\" : {\"source\" : \"E0D9B0630B6E40EEC421D3B34E378F08\",\"id\" : \"EE7AD24B25224FBA0C2555D8DE5904B0\",\"target\" : \"A195E5EFEC5A438C9CB57561051F49D1\"},\"E5E7FB703C864241C433D76189C2C321\" : {\"source\" : \"65112B7DBC62488164DCF122DD60DAA6\",\"id\" : \"E5E7FB703C864241C433D76189C2C321\",\"target\" : \"5F420F5A4D174A036CF7D2C2B86C055D\"},\"D857D61C34924D2E9CC17C3B49594079\" : {\"source\" : \"86403A972E2C48D9A42984F9ED7FA123\",\"id\" : \"D857D61C34924D2E9CC17C3B49594079\",\"target\" : \"BCED201C671245808C359743248E80CD\"},\"3FB07835D2984E75DC752FAB5A002D2C\" : {\"source\" : \"904F9263F95B48C274507FAE558A4DB4\",\"id\" : \"3FB07835D2984E75DC752FAB5A002D2C\",\"target\" : \"DDE1EFC1A7B54D28AC0549299933A122\"},\"B6633228A61F48F08CD2B33B7F3323F6\" : {\"source\" : \"65112B7DBC62488164DCF122DD60DAA6\",\"id\" : \"B6633228A61F48F08CD2B33B7F3323F6\",\"target\" : \"F63E7B673A2740FCFCBA3C4FB754912A\"},\"87BFE1F1E35742B1144A057386232298\" : {\"source\" : \"86403A972E2C48D9A42984F9ED7FA123\",\"id\" : \"87BFE1F1E35742B1144A057386232298\",\"target\" : \"AE48B480137D45634CC44C86319415D8\"},\"EFFC2981F62448D9DCB9D09C659B69CD\" : {\"source\" : \"904F9263F95B48C274507FAE558A4DB4\",\"id\" : \"EFFC2981F62448D9DCB9D09C659B69CD\",\"target\" : \"55583924AE9D4BE0EC16C38873B27FE5\"},\"27732E064B5448530CD62173D4467181\" : {\"source\" : \"65112B7DBC62488164DCF122DD60DAA6\",\"id\" : \"27732E064B5448530CD62173D4467181\",\"target\" : \"A195E5EFEC5A438C9CB57561051F49D1\"},\"4AD0EAE4B45C4A31843FFE7030D936EE\" : {\"source\" : \"86403A972E2C48D9A42984F9ED7FA123\",\"id\" : \"4AD0EAE4B45C4A31843FFE7030D936EE\",\"target\" : \"FE13139C1B09445784697781CC3D3E68\"},\"5B16133ABEEF46241C15AE7D6D83A696\" : {\"source\" : \"904F9263F95B48C274507FAE558A4DB4\",\"id\" : \"5B16133ABEEF46241C15AE7D6D83A696\",\"target\" : \"5CB3E6537C86473EAC7AEA5EF16717DE\"},\"15355F09EEDF4D223CBAB50D8BD86B76\" : {\"source\" : \"0D191D66B64A49C0DC8874D5559A677F\",\"id\" : \"15355F09EEDF4D223CBAB50D8BD86B76\",\"target\" : \"A195E5EFEC5A438C9CB57561051F49D1\"},\"F192A4AFE6364DA60C38E122189F8951\" : {\"source\" : \"0150B9E1B7FB43CC2C0A1C28A7109059\",\"id\" : \"F192A4AFE6364DA60C38E122189F8951\",\"target\" : \"FE13139C1B09445784697781CC3D3E68\"},\"244DB4F274954973546F964DD996A8F4\" : {\"source\" : \"8CE97096F8A6455F5CC56313B75FE031\",\"id\" : \"244DB4F274954973546F964DD996A8F4\",\"target\" : \"5CB3E6537C86473EAC7AEA5EF16717DE\"},\"B25AA35C021A46D48CC4B05A582E5255\" : {\"source\" : \"18EE0F6FD0C04C5AFC6AEA152A099679\",\"id\" : \"B25AA35C021A46D48CC4B05A582E5255\",\"target\" : \"346D46AC43584ADEDC53211B92A33DAB\"},\"78343F4BC93D48055471A718070FB046\" : {\"source\" : \"BBF2855AC31B45D78CF8FF2B8E6FAADD\",\"id\" : \"78343F4BC93D48055471A718070FB046\",\"target\" : \"A2B04CDA8B6647E1BC056FCE79D574E6\"},\"A9320E8E2C35439A0C55328CE67C913C\" : {\"source\" : \"88EE90CF48C446431CFBAB6CFE2CF57A\",\"id\" : \"A9320E8E2C35439A0C55328CE67C913C\",\"target\" : \"735A151C330446CCCC7F30C484795D0F\"},\"2F1BDE291B81489B4C8E2DD54BECF24B\" : {\"source\" : \"8B7465B0763443CE44087B803C4699F2\",\"id\" : \"2F1BDE291B81489B4C8E2DD54BECF24B\",\"target\" : \"9F2608D374814798D49F055DD82FA56D\"},\"1900EA2C8F0A4CC564164ED0EE880CFD\" : {\"source\" : \"18EE0F6FD0C04C5AFC6AEA152A099679\",\"id\" : \"1900EA2C8F0A4CC564164ED0EE880CFD\",\"target\" : \"5F420F5A4D174A036CF7D2C2B86C055D\"},\"AE7BF8DF3F5649208C829AF42607CBC3\" : {\"source\" : \"BBF2855AC31B45D78CF8FF2B8E6FAADD\",\"id\" : \"AE7BF8DF3F5649208C829AF42607CBC3\",\"target\" : \"AE48B480137D45634CC44C86319415D8\"},\"5E37177F9BB94B5B6CE1C1CCD8B16B14\" : {\"source\" : \"88EE90CF48C446431CFBAB6CFE2CF57A\",\"id\" : \"5E37177F9BB94B5B6CE1C1CCD8B16B14\",\"target\" : \"AE48B480137D45634CC44C86319415D8\"},\"33A6E50E97694B5A644BBAB813AC9ED1\" : {\"source\" : \"8B7465B0763443CE44087B803C4699F2\",\"id\" : \"33A6E50E97694B5A644BBAB813AC9ED1\",\"target\" : \"55583924AE9D4BE0EC16C38873B27FE5\"},\"63B36EC6B96D4BCC6425763B5F0B9868\" : {\"source\" : \"18EE0F6FD0C04C5AFC6AEA152A099679\",\"id\" : \"63B36EC6B96D4BCC6425763B5F0B9868\",\"target\" : \"BCED201C671245808C359743248E80CD\"},\"EBDBFA4C8B6140D8147B109BBB9ECCE9\" : {\"source\" : \"BBF2855AC31B45D78CF8FF2B8E6FAADD\",\"id\" : \"EBDBFA4C8B6140D8147B109BBB9ECCE9\",\"target\" : \"F63E7B673A2740FCFCBA3C4FB754912A\"},\"BCD0AC7B2AF24880A4BBD53AD677E6B0\" : {\"source\" : \"88EE90CF48C446431CFBAB6CFE2CF57A\",\"id\" : \"BCD0AC7B2AF24880A4BBD53AD677E6B0\",\"target\" : \"55583924AE9D4BE0EC16C38873B27FE5\"},\"0DBAB5F40B5D4EAD540DA4435782C4D8\" : {\"source\" : \"8B7465B0763443CE44087B803C4699F2\",\"id\" : \"0DBAB5F40B5D4EAD540DA4435782C4D8\",\"target\" : \"F63E7B673A2740FCFCBA3C4FB754912A\"},\"BB556826C9BA439774237E2F06E02357\" : {\"source\" : \"18EE0F6FD0C04C5AFC6AEA152A099679\",\"id\" : \"BB556826C9BA439774237E2F06E02357\",\"target\" : \"DDE1EFC1A7B54D28AC0549299933A122\"},\"9FB57AD84B2249063C8C0533AB949C62\" : {\"source\" : \"BBF2855AC31B45D78CF8FF2B8E6FAADD\",\"id\" : \"9FB57AD84B2249063C8C0533AB949C62\",\"target\" : \"DDE1EFC1A7B54D28AC0549299933A122\"},\"9790D930D43840B17C812F71777B06D0\" : {\"source\" : \"88EE90CF48C446431CFBAB6CFE2CF57A\",\"id\" : \"9790D930D43840B17C812F71777B06D0\",\"target\" : \"5F420F5A4D174A036CF7D2C2B86C055D\"},\"1F7052BBA04A4DDB242EF4F7C5A99598\" : {\"source\" : \"8B7465B0763443CE44087B803C4699F2\",\"id\" : \"1F7052BBA04A4DDB242EF4F7C5A99598\",\"target\" : \"BCED201C671245808C359743248E80CD\"},\"C6A9944CD86B443E7C342BF378CDD1C0\" : {\"source\" : \"B94E91F6DF3C4C926C38D025CE730F07\",\"id\" : \"C6A9944CD86B443E7C342BF378CDD1C0\",\"target\" : \"0D191D66B64A49C0DC8874D5559A677F\"},\"B3FEBDF7E7964C8624D124FF694D973A\" : {\"source\" : \"8E38DB2F854D47469C6F11007E0F3D46\",\"id\" : \"B3FEBDF7E7964C8624D124FF694D973A\",\"target\" : \"0150B9E1B7FB43CC2C0A1C28A7109059\"},\"04453510D96946ED4C05ABC611B6675E\" : {\"source\" : \"9CE4FC0A5CDD4C14340FCCE52EB81978\",\"id\" : \"04453510D96946ED4C05ABC611B6675E\",\"target\" : \"8CE97096F8A6455F5CC56313B75FE031\"},\"F1F20A5AAEB340ABC4213030FE3E2BF8\" : {\"source\" : \"B94E91F6DF3C4C926C38D025CE730F07\",\"id\" : \"F1F20A5AAEB340ABC4213030FE3E2BF8\",\"target\" : \"65112B7DBC62488164DCF122DD60DAA6\"},\"D74AAD976214418494B400CF1C414081\" : {\"source\" : \"8E38DB2F854D47469C6F11007E0F3D46\",\"id\" : \"D74AAD976214418494B400CF1C414081\",\"target\" : \"86403A972E2C48D9A42984F9ED7FA123\"},\"6E940BF42AFB4B2D0C5B78C3359D93BC\" : {\"source\" : \"9CE4FC0A5CDD4C14340FCCE52EB81978\",\"id\" : \"6E940BF42AFB4B2D0C5B78C3359D93BC\",\"target\" : \"904F9263F95B48C274507FAE558A4DB4\"},\"51B17F2429C64C787CE565E296581832\" : {\"source\" : \"B94E91F6DF3C4C926C38D025CE730F07\",\"id\" : \"51B17F2429C64C787CE565E296581832\",\"target\" : \"E0D9B0630B6E40EEC421D3B34E378F08\"},\"AEF8E13705F041398C0BF1446E89CDB7\" : {\"source\" : \"8E38DB2F854D47469C6F11007E0F3D46\",\"id\" : \"AEF8E13705F041398C0BF1446E89CDB7\",\"target\" : \"E0D9B0630B6E40EEC421D3B34E378F08\"},\"DF11224D56B34F6A2C097A0F2CAA02E0\" : {\"source\" : \"9CE4FC0A5CDD4C14340FCCE52EB81978\",\"id\" : \"DF11224D56B34F6A2C097A0F2CAA02E0\",\"target\" : \"E0D9B0630B6E40EEC421D3B34E378F08\"},\"A5005BB242104CE13475CD3825D8FE77\" : {\"source\" : \"380BB2457B2547FCACED9BA6202A242B\",\"id\" : \"A5005BB242104CE13475CD3825D8FE77\",\"target\" : \"E0D9B0630B6E40EEC421D3B34E378F08\"},\"FD7B3D3CF5F84277FCF435FE18F10543\" : {\"source\" : \"380BB2457B2547FCACED9BA6202A242B\",\"id\" : \"FD7B3D3CF5F84277FCF435FE18F10543\",\"target\" : \"346D46AC43584ADEDC53211B92A33DAB\"},\"5908636C23714A72246693D76DD20047\" : {\"source\" : \"380BB2457B2547FCACED9BA6202A242B\",\"id\" : \"5908636C23714A72246693D76DD20047\",\"target\" : \"A2B04CDA8B6647E1BC056FCE79D574E6\"},\"AF528B84A96F4C46842B710EAF9D7AE2\" : {\"source\" : \"380BB2457B2547FCACED9BA6202A242B\",\"id\" : \"AF528B84A96F4C46842B710EAF9D7AE2\",\"target\" : \"735A151C330446CCCC7F30C484795D0F\"},\"21B0EA6087C04DF2241B0F7B394C89A6\" : {\"source\" : \"380BB2457B2547FCACED9BA6202A242B\",\"id\" : \"21B0EA6087C04DF2241B0F7B394C89A6\",\"target\" : \"9F2608D374814798D49F055DD82FA56D\"},\"4BF6B0AADF2B4E7614F0C2155C74E01E\" : {\"source\" : \"83F85ADC395B467C2C92F3410BB0A7E8\",\"id\" : \"4BF6B0AADF2B4E7614F0C2155C74E01E\",\"target\" : \"380BB2457B2547FCACED9BA6202A242B\"},\"4CFD211ADC954ADADC6F966A3376BFA9\" : {\"source\" : \"83F85ADC395B467C2C92F3410BB0A7E8\",\"id\" : \"4CFD211ADC954ADADC6F966A3376BFA9\",\"target\" : \"B94E91F6DF3C4C926C38D025CE730F07\"},\"7A6275A5758340FCC4F709907EF80439\" : {\"source\" : \"83F85ADC395B467C2C92F3410BB0A7E8\",\"id\" : \"7A6275A5758340FCC4F709907EF80439\",\"target\" : \"8E38DB2F854D47469C6F11007E0F3D46\"},\"76496C3ED412446524B0D22B55B0D3C5\" : {\"source\" : \"83F85ADC395B467C2C92F3410BB0A7E8\",\"id\" : \"76496C3ED412446524B0D22B55B0D3C5\",\"target\" : \"9CE4FC0A5CDD4C14340FCCE52EB81978\"},\"EC9CBE631C8647312C982900EE40AFED\" : {\"source\" : \"83F85ADC395B467C2C92F3410BB0A7E8\",\"id\" : \"EC9CBE631C8647312C982900EE40AFED\",\"target\" : \"18EE0F6FD0C04C5AFC6AEA152A099679\"},\"A3E5E62EBBFA4D940C4950F6B745C45E\" : {\"source\" : \"83F85ADC395B467C2C92F3410BB0A7E8\",\"id\" : \"A3E5E62EBBFA4D940C4950F6B745C45E\",\"target\" : \"BBF2855AC31B45D78CF8FF2B8E6FAADD\"},\"6A4B1EDDF13A435EC40AA26D768A8D48\" : {\"source\" : \"83F85ADC395B467C2C92F3410BB0A7E8\",\"id\" : \"6A4B1EDDF13A435EC40AA26D768A8D48\",\"target\" : \"88EE90CF48C446431CFBAB6CFE2CF57A\"},\"901DDA243E9643A27C0D9E50D3F46F67\" : {\"source\" : \"83F85ADC395B467C2C92F3410BB0A7E8\",\"id\" : \"901DDA243E9643A27C0D9E50D3F46F67\",\"target\" : \"8B7465B0763443CE44087B803C4699F2\"}}},\"chart\" : {}}}"
     },
     "execution_count": 52,
     "metadata": {},
     "output_type": "execute_result"
    }
   ],
   "source": [
    "DisplayLatticeSubgroups := function(L)\n",
    "    local cls, len, sz, max, rep, z, t, i, j, k, graphHasse, nodes;\n",
    "    cls:=ConjugacyClassesSubgroups(L);\n",
    "    len:=[];\n",
    "    sz:=[];\n",
    "    for i in cls do\n",
    "        Add(len,Size(i));\n",
    "        AddSet(sz,Size(Representative(i)));\n",
    "    od;\n",
    "\n",
    "    graphHasse := Graph(GraphType.HASSE);\n",
    "\n",
    "    nodes := [];\n",
    "    # subgroup nodes, also acccording to size\n",
    "    for i in [1..Length(cls)] do\n",
    "        nodes[i] := [];\n",
    "        for j in [1..len[i]] do\n",
    "            if len[i]=1 then\n",
    "                nodes[i][j] := Shape(ShapeType.CIRCLE, String(i));\n",
    "                nodes[i][j]!.layer := Size(Representative(cls[i]));\n",
    "                # AppendTo(file,\"\\\"\",i,\"x\",j,\"\\\" [label=\\\"\",i,\"\\\", shape=box];\\n\");\n",
    "            else\n",
    "                nodes[i][j] := Shape(ShapeType.DIAMOND, String(i));\n",
    "                nodes[i][j]!.layer := Size(Representative(cls[i]));\n",
    "                # AppendTo(file,\"\\\"\",i,\"x\",j,\"\\\" [label=\\\"\",i,\"-\",j,\"\\\", shape=circle];\\n\");\n",
    "            fi;\n",
    "            Add(graphHasse, nodes[i][j]);\n",
    "        od;\n",
    "    od;\n",
    "\n",
    "    max:=MaximalSubgroupsLattice(L);\n",
    "    for i in [1..Length(cls)] do\n",
    "        for j in max[i] do\n",
    "            rep:=ClassElementLattice(cls[i],1);\n",
    "            for k in [1..len[i]] do\n",
    "                if k=1 then\n",
    "                    z:=j[2];\n",
    "                else\n",
    "                    t:=cls[i]!.normalizerTransversal[k];\n",
    "                    z:=ClassElementLattice(cls[j[1]],1); # force computation of transv.\n",
    "                    z:=cls[j[1]]!.normalizerTransversal[j[2]]*t;\n",
    "                    z:=PositionCanonical(cls[j[1]]!.normalizerTransversal,z);\n",
    "                fi;\n",
    "                Add(graphHasse, Link(nodes[i][k],nodes[j[1]][z]));\n",
    "          od;\n",
    "        od;\n",
    "      od;\n",
    "    return graphHasse;\n",
    "end;\n",
    "\n",
    "canvas3 := Canvas(\"Lattice Subgroups\");;\n",
    "Add(canvas3, DisplayLatticeSubgroups(LatticeSubgroups(SymmetricGroup(4))));\n",
    "Draw(canvas3);"
   ]
  },
  {
   "cell_type": "markdown",
   "metadata": {},
   "source": [
    "# Charts\n",
    "\n",
    "## Bar Charts"
   ]
  },
  {
   "cell_type": "code",
   "execution_count": 11,
   "metadata": {},
   "outputs": [
    {
     "data": {
      "text/plain": [
       "<object>"
      ]
     },
     "execution_count": 2,
     "metadata": {},
     "output_type": "execute_result"
    },
    {
     "data": {
      "text/plain": [
       "\"X Axis\""
      ]
     },
     "execution_count": 3,
     "metadata": {},
     "output_type": "execute_result"
    },
    {
     "data": {
      "text/plain": [
       "\"Y Axis\""
      ]
     },
     "execution_count": 4,
     "metadata": {},
     "output_type": "execute_result"
    },
    {
     "data": {
      "text/plain": [
       "<object>"
      ]
     },
     "execution_count": 5,
     "metadata": {},
     "output_type": "execute_result"
    },
    {
     "data": {
      "text/plain": [
       "<object>"
      ]
     },
     "execution_count": 6,
     "metadata": {},
     "output_type": "execute_result"
    },
    {
     "data": {
      "text/plain": [
       "<object>"
      ]
     },
     "execution_count": 7,
     "metadata": {},
     "output_type": "execute_result"
    },
    {
     "data": {
      "text/plain": [
       "<object>"
      ]
     },
     "execution_count": 9,
     "metadata": {},
     "output_type": "execute_result"
    },
    {
     "data": {
      "application/vnd.francy+json": "{\"agent\" : \"application\\/vnd.francy+json\",\"canvas\" : {\"width\" : \"800\",\"height\" : \"600\",\"id\" : \"1DE6EE59E29D4239443125A0840082FE\",\"title\" : \"Bar Chart\",\"menus\" : {},\"graph\" : {},\"chart\" : {\"type\" : \"bar\",\"data\" : {\"data1\" : [100,20,30,47,90],\"data2\" : [51,60,72,38,97],\"data3\" : [50,60,70,80,90]},\"labels\" : true,\"id\" : \"B06212CEB92941256CD0C925F3CC61FD\",\"legend\" : true,\"axis\" : {\"x\" : {\"domain\" : [],\"title\" : \"X Axis\",\"scale\" : \"band\"},\"y\" : {\"domain\" : [],\"title\" : \"Y Axis\",\"scale\" : \"linear\"}}}}}"
     },
     "execution_count": 11,
     "metadata": {},
     "output_type": "execute_result"
    }
   ],
   "source": [
    "chart:=Chart(ChartType.BAR);\n",
    "chart!.axis!.x!.title := \"X Axis\";\n",
    "chart!.axis!.y!.title := \"Y Axis\";\n",
    "\n",
    "data1 := Dataset(\"data1\", [100,20,30,47,90]);\n",
    "data2 := Dataset(\"data2\", [51,60,72,38,97]);\n",
    "data3 := Dataset(\"data3\", [50,60,70,80,90]);\n",
    "\n",
    "Add(chart, [data1, data2, data3]);\n",
    "canvas4 := Canvas(\"Bar Chart\");\n",
    "Add(canvas4, chart);\n",
    "Draw(canvas4);"
   ]
  },
  {
   "cell_type": "markdown",
   "metadata": {},
   "source": [
    "### Update X Axis Domain"
   ]
  },
  {
   "cell_type": "code",
   "execution_count": 15,
   "metadata": {},
   "outputs": [
    {
     "data": {
      "text/plain": [
       "[ \"domain1\", \"domain2\", \"domain3\", \"domain4\", \"domain4\" ]"
      ]
     },
     "execution_count": 14,
     "metadata": {},
     "output_type": "execute_result"
    },
    {
     "data": {
      "application/vnd.francy+json": "{\"agent\" : \"application\\/vnd.francy+json\",\"canvas\" : {\"width\" : \"800\",\"height\" : \"600\",\"id\" : \"1DE6EE59E29D4239443125A0840082FE\",\"title\" : \"Bar Chart\",\"menus\" : {},\"graph\" : {},\"chart\" : {\"type\" : \"bar\",\"data\" : {\"data1\" : [100,20,30,47,90],\"data2\" : [51,60,72,38,97],\"data3\" : [50,60,70,80,90]},\"labels\" : true,\"id\" : \"B06212CEB92941256CD0C925F3CC61FD\",\"legend\" : true,\"axis\" : {\"x\" : {\"domain\" : [\"domain1\",\"domain2\",\"domain3\",\"domain4\",\"domain4\"],\"title\" : \"X Axis\",\"scale\" : \"band\"},\"y\" : {\"domain\" : [],\"title\" : \"Y Axis\",\"scale\" : \"linear\"}}}}}"
     },
     "execution_count": 15,
     "metadata": {},
     "output_type": "execute_result"
    }
   ],
   "source": [
    "chart!.axis!.x!.domain := [\"domain1\", \"domain2\", \"domain3\", \"domain4\", \"domain5\"];\n",
    "Draw(canvas4);"
   ]
  },
  {
   "cell_type": "code",
   "execution_count": null,
   "metadata": {},
   "outputs": [],
   "source": []
  }
 ],
 "metadata": {
  "kernelspec": {
   "display_name": "GAP 4 (native)",
   "language": "gap",
   "name": "gap-native"
  },
  "language_info": {
   "codemirror_mode": "gap",
   "file_extension": ".g",
   "mimetype": "text/x-gap",
   "name": "GAP (native)",
   "nbconvert_exporter": "",
   "pygments_lexer": "gap",
   "version": "4.dev"
  }
 },
 "nbformat": 4,
 "nbformat_minor": 2
}
