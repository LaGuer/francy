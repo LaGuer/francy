{
 "cells": [
  {
   "cell_type": "code",
   "execution_count": 1,
   "metadata": {},
   "outputs": [
    {
     "data": {
      "text/plain": [
       "true"
      ]
     },
     "execution_count": 1,
     "metadata": {},
     "output_type": "execute_result"
    }
   ],
   "source": [
    "LoadPackage(\"francy\");"
   ]
  },
  {
   "cell_type": "code",
   "execution_count": 15,
   "metadata": {},
   "outputs": [
    {
     "data": {
      "text/plain": [
       "<object>"
      ]
     },
     "execution_count": 2,
     "metadata": {},
     "output_type": "execute_result"
    },
    {
     "data": {
      "text/plain": [
       "<object>"
      ]
     },
     "execution_count": 3,
     "metadata": {},
     "output_type": "execute_result"
    },
    {
     "data": {
      "text/plain": [
       "function( n ) ... end"
      ]
     },
     "execution_count": 4,
     "metadata": {},
     "output_type": "execute_result"
    },
    {
     "data": {
      "text/plain": [
       "function( n ) ... end"
      ]
     },
     "execution_count": 5,
     "metadata": {},
     "output_type": "execute_result"
    },
    {
     "data": {
      "text/plain": [
       "<object>"
      ]
     },
     "execution_count": 6,
     "metadata": {},
     "output_type": "execute_result"
    },
    {
     "data": {
      "text/plain": [
       "<object>"
      ]
     },
     "execution_count": 7,
     "metadata": {},
     "output_type": "execute_result"
    },
    {
     "data": {
      "text/plain": [
       "<object>"
      ]
     },
     "execution_count": 9,
     "metadata": {},
     "output_type": "execute_result"
    },
    {
     "data": {
      "text/plain": [
       "<object>"
      ]
     },
     "execution_count": 10,
     "metadata": {},
     "output_type": "execute_result"
    },
    {
     "data": {
      "text/plain": [
       "<object>"
      ]
     },
     "execution_count": 11,
     "metadata": {},
     "output_type": "execute_result"
    },
    {
     "data": {
      "text/plain": [
       "<object>"
      ]
     },
     "execution_count": 13,
     "metadata": {},
     "output_type": "execute_result"
    },
    {
     "data": {
      "application/vnd.francy+json": "{\"agent\" : \"application\\/vnd.francy+json\",\"canvas\" : {\"h\" : \"400\",\"id\" : \"B06212CEB92941256CD0C925F3CC61FD\",\"title\" : \"Add circles on demand\",\"menus\" : {\"F74B9D246DD541C484E418CB16956DA0\" : {\"id\" : \"F74B9D246DD541C484E418CB16956DA0\",\"title\" : \"Add Circle\",\"callback\" : {\"type\" : \"server\",\"id\" : \"FF362CF34FE34521EC835B679ACE7338\",\"trigger\" : \"click\",\"knownArgs\" : [],\"requiredArgs\" : {\"16F84EF01FBE4F14B485CA820A658A6B\" : {\"type\" : \"number\",\"id\" : \"16F84EF01FBE4F14B485CA820A658A6B\",\"title\" : \"How many Circles?\",\"value\" : \"\"}}},\"menus\" : {}},\"0935E1111DD14DF13C7643305440A90F\" : {\"id\" : \"0935E1111DD14DF13C7643305440A90F\",\"title\" : \"Add Square\",\"callback\" : {\"type\" : \"server\",\"id\" : \"334DE0F3A9274F09AC133BF44D541601\",\"trigger\" : \"click\",\"knownArgs\" : [],\"requiredArgs\" : {\"B704B29DD31C4062A4A90467202E2480\" : {\"type\" : \"number\",\"id\" : \"B704B29DD31C4062A4A90467202E2480\",\"title\" : \"How many Squares?\",\"value\" : \"\"}}},\"menus\" : {}}},\"w\" : \"100%\",\"graph\" : {\"type\" : \"directed\",\"id\" : \"1DE6EE59E29D4239443125A0840082FE\",\"simulation\" : true,\"nodes\" : {},\"links\" : {}},\"chart\" : {}}}"
     },
     "execution_count": 15,
     "metadata": {},
     "output_type": "execute_result"
    }
   ],
   "source": [
    "canvas := Canvas(\"Add circles on demand\");\n",
    "graph := Graph(GraphType.HASSE);\n",
    "AddCircle := function(n)\n",
    "    local i, shape;\n",
    "    for i in [1..Int(n)] do\n",
    "        shape := Shape(ShapeType!.CIRCLE, String(i));\n",
    "        shape!.layer := Random([1..16]);\n",
    "        Add(graph, shape);\n",
    "    od;\n",
    "    return Draw(canvas);\n",
    "end;\n",
    "AddSquare := function(n)\n",
    "    local i, shape;\n",
    "    for i in [1..Int(n)] do\n",
    "        shape := Shape(ShapeType!.SQUARE, String(i));\n",
    "        shape!.layer := Random([1..16]);\n",
    "        Add(graph, shape);\n",
    "    od;\n",
    "    return Draw(canvas);\n",
    "end;\n",
    "callback1 := Callback(AddCircle);\n",
    "arg1 := RequiredArg(ArgType!.NUMBER, \"How many Circles?\");\n",
    "Add(callback1, arg1);\n",
    "menu1 := Menu( \"Add Circle\", callback1 );\n",
    "callback2 := Callback(AddSquare);\n",
    "arg2 := RequiredArg(ArgType!.NUMBER, \"How many Squares?\");\n",
    "Add(callback2, arg2);\n",
    "menu2 := Menu( \"Add Square\", callback2 );\n",
    "Add(canvas, [graph, menu1, menu2]);\n",
    "Draw(canvas);"
   ]
  },
  {
   "cell_type": "code",
   "execution_count": null,
   "metadata": {},
   "outputs": [],
   "source": []
  }
 ],
 "metadata": {
  "kernelspec": {
   "display_name": "GAP 4 (native)",
   "language": "gap",
   "name": "gap-native"
  },
  "language_info": {
   "codemirror_mode": "gap",
   "file_extension": ".g",
   "mimetype": "text/x-gap",
   "name": "GAP (native)",
   "nbconvert_exporter": "",
   "pygments_lexer": "gap",
   "version": "4.dev"
  }
 },
 "nbformat": 4,
 "nbformat_minor": 2
}
