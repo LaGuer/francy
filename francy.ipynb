{
 "cells": [
  {
   "cell_type": "code",
   "execution_count": 120,
   "metadata": {},
   "outputs": [
    {
     "data": {
      "text/plain": [
       "true"
      ]
     },
     "execution_count": 120,
     "metadata": {},
     "output_type": "execute_result"
    }
   ],
   "source": [
    "LoadPackage(\"francy\");"
   ]
  },
  {
   "cell_type": "code",
   "execution_count": 121,
   "metadata": {},
   "outputs": [
    {
     "data": {
      "text/plain": [
       "<object>"
      ]
     },
     "execution_count": 121,
     "metadata": {},
     "output_type": "execute_result"
    }
   ],
   "source": [
    "canvas := Canvas(CanvasType!.HASSE, \"Quaternion Group Subgroup Lattice\");"
   ]
  },
  {
   "cell_type": "code",
   "execution_count": 140,
   "metadata": {},
   "outputs": [
    {
     "data": {
      "text/plain": [
       "<object>"
      ]
     },
     "execution_count": 122,
     "metadata": {},
     "output_type": "execute_result"
    },
    {
     "data": {
      "text/plain": [
       "<object>"
      ]
     },
     "execution_count": 124,
     "metadata": {},
     "output_type": "execute_result"
    },
    {
     "data": {
      "text/plain": [
       "<object>"
      ]
     },
     "execution_count": 126,
     "metadata": {},
     "output_type": "execute_result"
    },
    {
     "data": {
      "text/plain": [
       "<object>"
      ]
     },
     "execution_count": 129,
     "metadata": {},
     "output_type": "execute_result"
    },
    {
     "data": {
      "text/plain": [
       "<object>"
      ]
     },
     "execution_count": 133,
     "metadata": {},
     "output_type": "execute_result"
    },
    {
     "data": {
      "text/plain": [
       "<object>"
      ]
     },
     "execution_count": 137,
     "metadata": {},
     "output_type": "execute_result"
    }
   ],
   "source": [
    "shapeG := Shape(ShapeType!.WYE, \"G\");\n",
    "canvas!.add(shapeG);\n",
    "shape1 := Shape(ShapeType!.WYE, \"1\");\n",
    "canvas!.add(shape1);\n",
    "shapeSG1 := Shape(ShapeType!.WYE, \"SG1\");\n",
    "canvas!.add(shapeSG1);\n",
    "canvas!.add(Link(shapeG, shapeSG1));\n",
    "shapeSG2 := Shape(ShapeType!.WYE, \"SG2\");\n",
    "canvas!.add(shapeSG2);\n",
    "canvas!.add(Link(shapeSG1, shapeSG2));\n",
    "canvas!.add(Link(shapeSG2, shape1));\n",
    "shapeSG3 := Shape(ShapeType!.WYE, \"SG3\");\n",
    "canvas!.add(shapeSG3);\n",
    "canvas!.add(Link(shapeSG1, shapeSG3));\n",
    "canvas!.add(Link(shapeSG3, shape1));\n",
    "shapeSG4 := Shape(ShapeType!.WYE, \"SG4\");\n",
    "canvas!.add(shapeSG4);\n",
    "canvas!.add(Link(shapeSG1, shapeSG4));\n",
    "canvas!.add(Link(shapeSG4, shape1));"
   ]
  },
  {
   "cell_type": "code",
   "execution_count": 141,
   "metadata": {},
   "outputs": [],
   "source": [
    "canvas!.add(Menu( \"All Subgroups\", CallbackFunction(AllSubgroups)));"
   ]
  },
  {
   "cell_type": "code",
   "execution_count": 142,
   "metadata": {},
   "outputs": [
    {
     "data": {
      "FrancyMIMEType": "{\"id\" : \"FC078C693EE940B5B4FD97153BB06EFF\",\"nodes\" : [{\"x\" : 0,\"y\" : 0,\"type\" : \"wye\",\"size\" : 10,\"id\" : \"A15B5B4382A84A1794C60856939A771D\",\"title\" : \"G\",\"layer\" : 0,\"highlight\" : true},{\"x\" : 0,\"y\" : 0,\"type\" : \"wye\",\"size\" : 10,\"id\" : \"81B9D918765C4CCD44F4935D77D27AAF\",\"title\" : \"1\",\"layer\" : 0,\"highlight\" : true},{\"x\" : 0,\"y\" : 0,\"type\" : \"wye\",\"size\" : 10,\"id\" : \"51748C91491C48F054452C784CC1B07A\",\"title\" : \"SG1\",\"layer\" : 0,\"highlight\" : true},{\"x\" : 0,\"y\" : 0,\"type\" : \"wye\",\"size\" : 10,\"id\" : \"AA3E793EDC274ED9FC0B38F7E88A0F14\",\"title\" : \"SG2\",\"layer\" : 0,\"highlight\" : true},{\"x\" : 0,\"y\" : 0,\"type\" : \"wye\",\"size\" : 10,\"id\" : \"04F528BB391C43906CAF0B89B8555048\",\"title\" : \"SG3\",\"layer\" : 0,\"highlight\" : true},{\"x\" : 0,\"y\" : 0,\"type\" : \"wye\",\"size\" : 10,\"id\" : \"D34BC7E60442431F34B80F3841551853\",\"title\" : \"SG4\",\"layer\" : 0,\"highlight\" : true}],\"links\" : [{\"source\" : \"A15B5B4382A84A1794C60856939A771D\",\"id\" : \"9C3891C90FDE4D107C9BE8627F8CE82C\",\"target\" : \"51748C91491C48F054452C784CC1B07A\"},{\"source\" : \"51748C91491C48F054452C784CC1B07A\",\"id\" : \"2EA1F6E1DFCF4258E474E99521572819\",\"target\" : \"AA3E793EDC274ED9FC0B38F7E88A0F14\"},{\"source\" : \"AA3E793EDC274ED9FC0B38F7E88A0F14\",\"id\" : \"1BD6BA43AAE24670144789025A42D717\",\"target\" : \"81B9D918765C4CCD44F4935D77D27AAF\"},{\"source\" : \"51748C91491C48F054452C784CC1B07A\",\"id\" : \"89C3F8B439744C016CF3E3A5ED468F9F\",\"target\" : \"04F528BB391C43906CAF0B89B8555048\"},{\"source\" : \"04F528BB391C43906CAF0B89B8555048\",\"id\" : \"970F146A2C42444BE4124CC9AAFED79B\",\"target\" : \"81B9D918765C4CCD44F4935D77D27AAF\"},{\"source\" : \"51748C91491C48F054452C784CC1B07A\",\"id\" : \"2119C0FD41E648067C5973DCBFA92CA7\",\"target\" : \"D34BC7E60442431F34B80F3841551853\"},{\"source\" : \"D34BC7E60442431F34B80F3841551853\",\"id\" : \"9C89E440A04A4F1D6C3803BEDACB0AD5\",\"target\" : \"81B9D918765C4CCD44F4935D77D27AAF\"}],\"menus\" : [{\"id\" : \"F6CF8986D0294BF9DC22F6064F9E016E\",\"title\" : \"All Subgroups\",\"menus\" : []}],\"canvas\" : {\"h\" : 400,\"id\" : \"FC078C693EE940B5B4FD97153BB06EFF\",\"title\" : \"Quaternion Group Subgroup Lattice\",\"w\" : 680},\"agent\" : \"francy.draw.hasse\"}"
     },
     "execution_count": 142,
     "metadata": {},
     "output_type": "execute_result"
    }
   ],
   "source": [
    "canvas!.draw();"
   ]
  },
  {
   "cell_type": "code",
   "execution_count": null,
   "metadata": {},
   "outputs": [],
   "source": []
  }
 ],
 "metadata": {
  "kernelspec": {
   "display_name": "GAP 4 (native)",
   "language": "gap",
   "name": "gap-native"
  },
  "language_info": {
   "codemirror_mode": "gap",
   "file_extension": ".g",
   "mimetype": "text/x-gap",
   "name": "GAP (native)",
   "nbconvert_exporter": "",
   "pygments_lexer": "gap",
   "version": "4.dev"
  }
 },
 "nbformat": 4,
 "nbformat_minor": 2
}
