{
 "cells": [
  {
   "cell_type": "markdown",
   "metadata": {},
   "source": [
    "### Load Francy Package"
   ]
  },
  {
   "cell_type": "code",
   "execution_count": 1,
   "metadata": {},
   "outputs": [
    {
     "data": {
      "text/plain": [
       "true"
      ]
     },
     "execution_count": 1,
     "metadata": {},
     "output_type": "execute_result"
    }
   ],
   "source": [
    "LoadPackage(\"francy\");"
   ]
  },
  {
   "cell_type": "markdown",
   "metadata": {},
   "source": [
    "### Callbacks\n",
    "\n",
    "Click on the menu to add nodes to the canvas.\n",
    "\n",
    "Try adding 500 of each.\n",
    "\n",
    "Zoom in and out using the mouse wheel."
   ]
  },
  {
   "cell_type": "code",
   "execution_count": 18,
   "metadata": {},
   "outputs": [
    {
     "data": {
      "text/plain": [
       "<object>"
      ]
     },
     "execution_count": 2,
     "metadata": {},
     "output_type": "execute_result"
    },
    {
     "data": {
      "text/plain": [
       "400"
      ]
     },
     "execution_count": 3,
     "metadata": {},
     "output_type": "execute_result"
    },
    {
     "data": {
      "text/plain": [
       "<object>"
      ]
     },
     "execution_count": 4,
     "metadata": {},
     "output_type": "execute_result"
    },
    {
     "data": {
      "text/plain": [
       "function( n ) ... end"
      ]
     },
     "execution_count": 5,
     "metadata": {},
     "output_type": "execute_result"
    },
    {
     "data": {
      "text/plain": [
       "function( n ) ... end"
      ]
     },
     "execution_count": 6,
     "metadata": {},
     "output_type": "execute_result"
    },
    {
     "data": {
      "text/plain": [
       "function(  ) ... end"
      ]
     },
     "execution_count": 7,
     "metadata": {},
     "output_type": "execute_result"
    },
    {
     "data": {
      "text/plain": [
       "<object>"
      ]
     },
     "execution_count": 8,
     "metadata": {},
     "output_type": "execute_result"
    },
    {
     "data": {
      "text/plain": [
       "<object>"
      ]
     },
     "execution_count": 9,
     "metadata": {},
     "output_type": "execute_result"
    },
    {
     "data": {
      "text/plain": [
       "<object>"
      ]
     },
     "execution_count": 11,
     "metadata": {},
     "output_type": "execute_result"
    },
    {
     "data": {
      "text/plain": [
       "<object>"
      ]
     },
     "execution_count": 12,
     "metadata": {},
     "output_type": "execute_result"
    },
    {
     "data": {
      "text/plain": [
       "<object>"
      ]
     },
     "execution_count": 13,
     "metadata": {},
     "output_type": "execute_result"
    },
    {
     "data": {
      "text/plain": [
       "<object>"
      ]
     },
     "execution_count": 15,
     "metadata": {},
     "output_type": "execute_result"
    },
    {
     "data": {
      "text/plain": [
       "<object>"
      ]
     },
     "execution_count": 16,
     "metadata": {},
     "output_type": "execute_result"
    },
    {
     "data": {
      "application/vnd.francy+json": "{\"agent\" : \"application\\/vnd.francy+json\",\"canvas\" : {\"h\" : 400,\"id\" : \"B06212CEB92941256CD0C925F3CC61FD\",\"title\" : \"Add circles on demand\",\"menus\" : {\"F74B9D246DD541C484E418CB16956DA0\" : {\"id\" : \"F74B9D246DD541C484E418CB16956DA0\",\"title\" : \"Add Circle\",\"callback\" : {\"type\" : \"server\",\"id\" : \"FF362CF34FE34521EC835B679ACE7338\",\"trigger\" : \"click\",\"knownArgs\" : [],\"requiredArgs\" : {\"16F84EF01FBE4F14B485CA820A658A6B\" : {\"type\" : \"number\",\"id\" : \"16F84EF01FBE4F14B485CA820A658A6B\",\"title\" : \"How many Circles?\",\"value\" : \"\"}}},\"menus\" : {}},\"0935E1111DD14DF13C7643305440A90F\" : {\"id\" : \"0935E1111DD14DF13C7643305440A90F\",\"title\" : \"Add Square\",\"callback\" : {\"type\" : \"server\",\"id\" : \"334DE0F3A9274F09AC133BF44D541601\",\"trigger\" : \"click\",\"knownArgs\" : [],\"requiredArgs\" : {\"B704B29DD31C4062A4A90467202E2480\" : {\"type\" : \"number\",\"id\" : \"B704B29DD31C4062A4A90467202E2480\",\"title\" : \"How many Squares?\",\"value\" : \"\"}}},\"menus\" : {}},\"550DCE4E3D6F49DF3CAB08FAB4D5D25B\" : {\"id\" : \"550DCE4E3D6F49DF3CAB08FAB4D5D25B\",\"title\" : \"clear\",\"callback\" : {\"type\" : \"server\",\"id\" : \"C5452D576AF74C9EF4FB46A59E28D428\",\"trigger\" : \"click\",\"knownArgs\" : [],\"requiredArgs\" : {}},\"menus\" : {}}},\"w\" : \"800\",\"graph\" : {\"type\" : \"directed\",\"id\" : \"1DE6EE59E29D4239443125A0840082FE\",\"simulation\" : true,\"nodes\" : {},\"links\" : {}},\"chart\" : {}}}"
     },
     "execution_count": 18,
     "metadata": {},
     "output_type": "execute_result"
    }
   ],
   "source": [
    "canvas := Canvas(\"Add circles on demand\");\n",
    "canvas!.h := 400;\n",
    "graph := Graph(GraphType.HASSE);\n",
    "AddCircle := function(n)\n",
    "    local i, shape;\n",
    "    for i in [1..Int(n)] do\n",
    "        shape := Shape(ShapeType!.CIRCLE, String(i));\n",
    "        shape!.layer := Random([1..16]);\n",
    "        Add(graph, shape);\n",
    "    od;\n",
    "    return Draw(canvas);\n",
    "end;\n",
    "AddSquare := function(n)\n",
    "    local i, shape;\n",
    "    for i in [1..Int(n)] do\n",
    "        shape := Shape(ShapeType!.SQUARE, String(i));\n",
    "        shape!.layer := Random([1..16]);\n",
    "        Add(graph, shape);\n",
    "    od;\n",
    "    return Draw(canvas);\n",
    "end;\n",
    "ClearGraph := function()\n",
    "    canvas!.graph := rec();\n",
    "    return Draw(canvas);\n",
    "end;\n",
    "callback1 := Callback(AddCircle);\n",
    "arg1 := RequiredArg(ArgType!.NUMBER, \"How many Circles?\");\n",
    "Add(callback1, arg1);\n",
    "menu1 := Menu( \"Add Circle\", callback1 );\n",
    "callback2 := Callback(AddSquare);\n",
    "arg2 := RequiredArg(ArgType!.NUMBER, \"How many Squares?\");\n",
    "Add(callback2, arg2);\n",
    "menu2 := Menu( \"Add Square\", callback2 );\n",
    "menu3 := Menu( \"clear\", Callback(ClearGraph));\n",
    "Add(canvas, [graph, menu1, menu2, menu3]);\n",
    "Draw(canvas);"
   ]
  },
  {
   "cell_type": "markdown",
   "metadata": {},
   "source": [
    "### Linked Nodes"
   ]
  },
  {
   "cell_type": "code",
   "execution_count": 29,
   "metadata": {},
   "outputs": [
    {
     "data": {
      "text/plain": [
       "<object>"
      ]
     },
     "execution_count": 19,
     "metadata": {},
     "output_type": "execute_result"
    },
    {
     "data": {
      "text/plain": [
       "<object>"
      ]
     },
     "execution_count": 20,
     "metadata": {},
     "output_type": "execute_result"
    },
    {
     "data": {
      "text/plain": [
       "0"
      ]
     },
     "execution_count": 21,
     "metadata": {},
     "output_type": "execute_result"
    },
    {
     "data": {
      "text/plain": [
       "<object>"
      ]
     },
     "execution_count": 22,
     "metadata": {},
     "output_type": "execute_result"
    },
    {
     "data": {
      "text/plain": [
       "2"
      ]
     },
     "execution_count": 23,
     "metadata": {},
     "output_type": "execute_result"
    },
    {
     "data": {
      "text/plain": [
       "<object>"
      ]
     },
     "execution_count": 24,
     "metadata": {},
     "output_type": "execute_result"
    },
    {
     "data": {
      "text/plain": [
       "<object>"
      ]
     },
     "execution_count": 26,
     "metadata": {},
     "output_type": "execute_result"
    },
    {
     "data": {
      "text/plain": [
       "200"
      ]
     },
     "execution_count": 27,
     "metadata": {},
     "output_type": "execute_result"
    },
    {
     "data": {
      "application/vnd.francy+json": "{\"agent\" : \"application\\/vnd.francy+json\",\"canvas\" : {\"h\" : 200,\"id\" : \"366688A254054F9AFC43A6EA5008CAD2\",\"title\" : \"Linked nodes example\",\"menus\" : {},\"w\" : \"800\",\"graph\" : {\"type\" : \"directed\",\"id\" : \"BADFB1FBB15143125C5771BF1E49AAAC\",\"simulation\" : true,\"nodes\" : {\"BC3E1C907D124ABCB4D37AFC978D49C0\" : {\"x\" : 0,\"y\" : 0,\"type\" : \"diamond\",\"size\" : 10,\"id\" : \"BC3E1C907D124ABCB4D37AFC978D49C0\",\"title\" : \"G\",\"layer\" : 2,\"highlight\" : true},\"9A4E435F8A234BBD34DD34C838182A5C\" : {\"x\" : 0,\"y\" : 0,\"type\" : \"diamond\",\"size\" : 10,\"id\" : \"9A4E435F8A234BBD34DD34C838182A5C\",\"title\" : \"1\",\"layer\" : 0,\"highlight\" : true}},\"links\" : {\"8F794C1FA828467404CA41218DCFC68D\" : {\"source\" : \"BC3E1C907D124ABCB4D37AFC978D49C0\",\"id\" : \"8F794C1FA828467404CA41218DCFC68D\",\"target\" : \"9A4E435F8A234BBD34DD34C838182A5C\"}}},\"chart\" : {}}}"
     },
     "execution_count": 29,
     "metadata": {},
     "output_type": "execute_result"
    }
   ],
   "source": [
    "graph2 := Graph(GraphType.HASSE);\n",
    "shapeG := Shape(ShapeType!.DIAMOND, \"G\");\n",
    "shapeG!.layer := 0;\n",
    "shape1 := Shape(ShapeType!.DIAMOND, \"1\");\n",
    "shapeG!.layer := 2;\n",
    "link := Link(shapeG, shape1);\n",
    "Add(graph2, [shapeG, shape1, link]);\n",
    "canvas2 := Canvas(\"Linked nodes example\");\n",
    "canvas2!.h := 200;\n",
    "Add(canvas2, graph2);\n",
    "Draw(canvas2);"
   ]
  },
  {
   "cell_type": "code",
   "execution_count": null,
   "metadata": {},
   "outputs": [],
   "source": []
  }
 ],
 "metadata": {
  "kernelspec": {
   "display_name": "GAP 4 (native)",
   "language": "gap",
   "name": "gap-native"
  },
  "language_info": {
   "codemirror_mode": "gap",
   "file_extension": ".g",
   "mimetype": "text/x-gap",
   "name": "GAP (native)",
   "nbconvert_exporter": "",
   "pygments_lexer": "gap",
   "version": "4.dev"
  }
 },
 "nbformat": 4,
 "nbformat_minor": 2
}
