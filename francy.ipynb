{
 "cells": [
  {
   "cell_type": "code",
   "execution_count": 6,
   "metadata": {},
   "outputs": [
    {
     "data": {
      "text/plain": [
       "true"
      ]
     },
     "execution_count": 6,
     "metadata": {},
     "output_type": "execute_result"
    }
   ],
   "source": [
    "LoadPackage(\"francy\");"
   ]
  },
  {
   "cell_type": "code",
   "execution_count": 19,
   "metadata": {},
   "outputs": [
    {
     "data": {
      "text/plain": [
       "<object>"
      ]
     },
     "execution_count": 7,
     "metadata": {},
     "output_type": "execute_result"
    },
    {
     "data": {
      "text/plain": [
       "<object>"
      ]
     },
     "execution_count": 8,
     "metadata": {},
     "output_type": "execute_result"
    },
    {
     "data": {
      "text/plain": [
       "<object>"
      ]
     },
     "execution_count": 10,
     "metadata": {},
     "output_type": "execute_result"
    },
    {
     "data": {
      "text/plain": [
       "<object>"
      ]
     },
     "execution_count": 12,
     "metadata": {},
     "output_type": "execute_result"
    },
    {
     "data": {
      "text/plain": [
       "<object>"
      ]
     },
     "execution_count": 14,
     "metadata": {},
     "output_type": "execute_result"
    },
    {
     "data": {
      "text/plain": [
       "<object>"
      ]
     },
     "execution_count": 15,
     "metadata": {},
     "output_type": "execute_result"
    },
    {
     "data": {
      "text/plain": [
       "<object>"
      ]
     },
     "execution_count": 16,
     "metadata": {},
     "output_type": "execute_result"
    },
    {
     "data": {
      "text/plain": [
       "<object>"
      ]
     },
     "execution_count": 17,
     "metadata": {},
     "output_type": "execute_result"
    },
    {
     "data": {
      "text/plain": [
       "<object>"
      ]
     },
     "execution_count": 19,
     "metadata": {},
     "output_type": "execute_result"
    }
   ],
   "source": [
    "canvas := Canvas(CanvasType!.HASSE, \"Quaternion Group Subgroup Lattice\");\n",
    "shapeG := Shape(ShapeType!.CIRCLE, \"G\");\n",
    "shape1 := Shape(ShapeType!.CIRCLE, \"1\");\n",
    "link := Link(shapeG, shape1);\n",
    "callback := Callback(AllSubgroups);\n",
    "arg1 := RequiredArg(ArgType!.STRING, \"A test String\");\n",
    "Add(callback, arg1);\n",
    "menu := Menu( \"All Subgroups\", callback );\n",
    "canvas!.add(menu);\n",
    "Add(canvas, [shapeG, shape1, link, menu]);\n",
    "Draw(canvas);\n"
   ]
  },
  {
   "cell_type": "code",
   "execution_count": 20,
   "metadata": {},
   "outputs": [
    {
     "data": {
      "application/francy+json": "{\"canvas\" : {\"type\" : \"draw.hasse\",\"id\" : \"AC5309F8108F4A06F49F78E45EF88986\",\"title\" : \"Quaternion Group Subgroup Lattice\",\"options\" : {\"h\" : 400,\"w\" : 680},\"menus\" : {\"ADAB64089636489B9C138F2DEEA6DF25\" : {\"id\" : \"ADAB64089636489B9C138F2DEEA6DF25\",\"title\" : \"All Subgroups\",\"menus\" : {},\"callback\" : {\"type\" : \"click\",\"id\" : \"6E20A7A3B1004032E4CE51E46A17101F\",\"requiredArgs\" : {\"9980C3AB1FE8467A0C39E0816714D39D\" : {\"type\" : \"string\",\"id\" : \"9980C3AB1FE8467A0C39E0816714D39D\",\"title\" : \"A test String\",\"value\" : \"\"}},\"knownArgs\" : []}}},\"nodes\" : {\"18FE4D8176C446357C71A0CC5EE3A37F\" : {\"type\" : \"circle\",\"id\" : \"18FE4D8176C446357C71A0CC5EE3A37F\",\"title\" : \"G\",\"options\" : {\"x\" : 0,\"y\" : 0,\"size\" : 10,\"layer\" : 0,\"highlight\" : true}},\"893471BC9EC94849B42DB8268A9D1AB6\" : {\"type\" : \"circle\",\"id\" : \"893471BC9EC94849B42DB8268A9D1AB6\",\"title\" : \"1\",\"options\" : {\"x\" : 0,\"y\" : 0,\"size\" : 10,\"layer\" : 0,\"highlight\" : true}}},\"links\" : {\"EE444EE1F5F64CD1BC9BD25BD64986EE\" : {\"source\" : \"18FE4D8176C446357C71A0CC5EE3A37F\",\"id\" : \"EE444EE1F5F64CD1BC9BD25BD64986EE\",\"target\" : \"893471BC9EC94849B42DB8268A9D1AB6\"}},\"callbacks\" : {}},\"agent\" : \"application\\/francy\"}"
     },
     "execution_count": 20,
     "metadata": {},
     "output_type": "execute_result"
    }
   ],
   "source": [
    "Francy()!.draw(canvas);"
   ]
  },
  {
   "cell_type": "code",
   "execution_count": null,
   "metadata": {},
   "outputs": [],
   "source": []
  }
 ],
 "metadata": {
  "kernelspec": {
   "display_name": "GAP 4 (native)",
   "language": "gap",
   "name": "gap-native"
  },
  "language_info": {
   "codemirror_mode": "gap",
   "file_extension": ".g",
   "mimetype": "text/x-gap",
   "name": "GAP (native)",
   "nbconvert_exporter": "",
   "pygments_lexer": "gap",
   "version": "4.dev"
  }
 },
 "nbformat": 4,
 "nbformat_minor": 2
}
