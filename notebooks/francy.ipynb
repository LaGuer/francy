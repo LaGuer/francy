{
 "cells": [
  {
   "cell_type": "markdown",
   "metadata": {},
   "source": [
    "### Load Francy Package"
   ]
  },
  {
   "cell_type": "code",
   "execution_count": 2,
   "metadata": {},
   "outputs": [
    {
     "name": "stdout",
     "output_type": "stream",
     "text": [
      "#I  equal requirements in multiple declarations for operation `JUPYTER_ViewString'\n",
      "\n",
      "#I  Please load package NormalizInterface or 4ti2Interface\n",
      "#I  to have extended functionalities.\n",
      "#I  Please load package SingularInterface or singular (not both)\n",
      "#I  or GradedModules to have extended functionalities.\n"
     ]
    },
    {
     "data": {
      "text/plain": [
       "true"
      ]
     },
     "execution_count": 1,
     "metadata": {
      "text/plain": "true"
     },
     "output_type": "execute_result"
    },
    {
     "data": {
      "text/plain": [
       "true"
      ]
     },
     "execution_count": 2,
     "metadata": {
      "text/plain": "true"
     },
     "output_type": "execute_result"
    }
   ],
   "source": [
    "LoadPackage(\"francy\");\n",
    "LoadPackage(\"num\");"
   ]
  },
  {
   "cell_type": "markdown",
   "metadata": {},
   "source": [
    "# Callbacks\n",
    "\n",
    "Click on the menu to add nodes to the canvas.\n",
    "\n",
    "Try adding 500 of each.\n",
    "\n",
    "Zoom in and out using the mouse wheel."
   ]
  },
  {
   "cell_type": "code",
   "execution_count": 41,
   "metadata": {},
   "outputs": [
    {
     "data": {
      "application/vnd.francy+json": "{\"version\" : \"0.5.1\",\"mime\" : \"application\\/vnd.francy+json\",\"canvas\" : {\"width\" : 800,\"height\" : 600,\"id\" : \"F261\",\"title\" : \"Add Shapes on demand\",\"zoomToFit\" : true,\"menus\" : {\"F265\" : {\"id\" : \"F265\",\"title\" : \"Add Circle\",\"callback\" : {\"func\" : \"AddShape\",\"id\" : \"F263\",\"trigger\" : \"click\",\"knownArgs\" : [\"<object>\"],\"requiredArgs\" : {\"F264\" : {\"type\" : \"number\",\"id\" : \"F264\",\"title\" : \"How many Circles?\",\"value\" : \"\"}}},\"menus\" : {}},\"F268\" : {\"id\" : \"F268\",\"title\" : \"Add Square\",\"callback\" : {\"func\" : \"AddShape\",\"id\" : \"F266\",\"trigger\" : \"click\",\"knownArgs\" : [\"<object>\"],\"requiredArgs\" : {\"F267\" : {\"type\" : \"number\",\"id\" : \"F267\",\"title\" : \"How many Squares?\",\"value\" : \"\"}}},\"menus\" : {}},\"F270\" : {\"id\" : \"F270\",\"title\" : \"Clear\",\"callback\" : {\"func\" : \"ClearGraph\",\"id\" : \"F269\",\"trigger\" : \"click\",\"knownArgs\" : [],\"requiredArgs\" : {}},\"menus\" : {}}},\"graph\" : {\"type\" : \"hasse\",\"id\" : \"F262\",\"simulation\" : true,\"collapsed\" : true,\"drag\" : false,\"showNeighbours\" : false,\"nodes\" : {},\"links\" : {}},\"messages\" : {}}}"
     },
     "execution_count": 41,
     "metadata": {
      "text/plain": "~empty~"
     },
     "output_type": "execute_result"
    }
   ],
   "source": [
    "canvas := Canvas(\"Add Shapes on demand\");;\n",
    "\n",
    "graph := Graph(GraphType.HASSE);;\n",
    "\n",
    "AddShape := function(st, n)\n",
    "    local i, shape;\n",
    "    for i in [1..Int(n)] do\n",
    "        shape := Shape(st, String(i));\n",
    "        SetLayer(shape, Random([1..16]));\n",
    "        Add(graph, shape);\n",
    "    od;\n",
    "    return Draw(canvas);\n",
    "end;;\n",
    "\n",
    "ClearGraph := function()\n",
    "    UnsetNodes(graph);\n",
    "    return Draw(canvas);\n",
    "end;;\n",
    "\n",
    "callback1 := Callback(AddShape, [ShapeType.CIRCLE]);;\n",
    "arg1 := RequiredArg(ArgType.NUMBER, \"How many Circles?\");;\n",
    "Add(callback1, arg1);;\n",
    "menu1 := Menu( \"Add Circle\", callback1 );;\n",
    "\n",
    "callback2 := Callback(AddShape, [ShapeType.SQUARE]);;\n",
    "arg2 := RequiredArg(ArgType.NUMBER, \"How many Squares?\");;\n",
    "Add(callback2, arg2);;\n",
    "menu2 := Menu( \"Add Square\", callback2 );;\n",
    "\n",
    "menu3 := Menu( \"Clear\", Callback(ClearGraph));;\n",
    "\n",
    "Add(canvas, [graph, menu1, menu2, menu3]);;\n",
    "\n",
    "Draw(canvas);"
   ]
  },
  {
   "cell_type": "markdown",
   "metadata": {},
   "source": [
    "### An attempt to LatticeSubgroups By Markus"
   ]
  },
  {
   "cell_type": "code",
   "execution_count": 45,
   "metadata": {},
   "outputs": [
    {
     "data": {
      "application/vnd.francy+json": "{\"version\" : \"0.5.1\",\"mime\" : \"application\\/vnd.francy+json\",\"canvas\" : {\"width\" : 800,\"height\" : 600,\"id\" : \"F271\",\"title\" : \"Lattice Subgroups\",\"zoomToFit\" : true,\"menus\" : {},\"graph\" : {\"type\" : \"hasse\",\"id\" : \"F272\",\"simulation\" : true,\"collapsed\" : true,\"drag\" : false,\"showNeighbours\" : true,\"nodes\" : {\"F273\" : {\"x\" : 0,\"y\" : 0,\"type\" : \"circle\",\"size\" : 10,\"id\" : \"F273\",\"title\" : \"1\",\"layer\" : 1,\"highlight\" : true,\"parent\" : \"\",\"menus\" : {},\"messages\" : {},\"callbacks\" : {}},\"F274\" : {\"x\" : 0,\"y\" : 0,\"type\" : \"diamond\",\"size\" : 10,\"id\" : \"F274\",\"title\" : \"2\",\"layer\" : 2,\"highlight\" : true,\"parent\" : \"\",\"menus\" : {},\"messages\" : {},\"callbacks\" : {}},\"F275\" : {\"x\" : 0,\"y\" : 0,\"type\" : \"diamond\",\"size\" : 10,\"id\" : \"F275\",\"title\" : \"2\",\"layer\" : 2,\"highlight\" : true,\"parent\" : \"\",\"menus\" : {},\"messages\" : {},\"callbacks\" : {}},\"F276\" : {\"x\" : 0,\"y\" : 0,\"type\" : \"diamond\",\"size\" : 10,\"id\" : \"F276\",\"title\" : \"2\",\"layer\" : 2,\"highlight\" : true,\"parent\" : \"\",\"menus\" : {},\"messages\" : {},\"callbacks\" : {}},\"F277\" : {\"x\" : 0,\"y\" : 0,\"type\" : \"diamond\",\"size\" : 10,\"id\" : \"F277\",\"title\" : \"3\",\"layer\" : 2,\"highlight\" : true,\"parent\" : \"\",\"menus\" : {},\"messages\" : {},\"callbacks\" : {}},\"F278\" : {\"x\" : 0,\"y\" : 0,\"type\" : \"diamond\",\"size\" : 10,\"id\" : \"F278\",\"title\" : \"3\",\"layer\" : 2,\"highlight\" : true,\"parent\" : \"\",\"menus\" : {},\"messages\" : {},\"callbacks\" : {}},\"F279\" : {\"x\" : 0,\"y\" : 0,\"type\" : \"diamond\",\"size\" : 10,\"id\" : \"F279\",\"title\" : \"3\",\"layer\" : 2,\"highlight\" : true,\"parent\" : \"\",\"menus\" : {},\"messages\" : {},\"callbacks\" : {}},\"F280\" : {\"x\" : 0,\"y\" : 0,\"type\" : \"diamond\",\"size\" : 10,\"id\" : \"F280\",\"title\" : \"3\",\"layer\" : 2,\"highlight\" : true,\"parent\" : \"\",\"menus\" : {},\"messages\" : {},\"callbacks\" : {}},\"F281\" : {\"x\" : 0,\"y\" : 0,\"type\" : \"diamond\",\"size\" : 10,\"id\" : \"F281\",\"title\" : \"3\",\"layer\" : 2,\"highlight\" : true,\"parent\" : \"\",\"menus\" : {},\"messages\" : {},\"callbacks\" : {}},\"F282\" : {\"x\" : 0,\"y\" : 0,\"type\" : \"diamond\",\"size\" : 10,\"id\" : \"F282\",\"title\" : \"3\",\"layer\" : 2,\"highlight\" : true,\"parent\" : \"\",\"menus\" : {},\"messages\" : {},\"callbacks\" : {}},\"F283\" : {\"x\" : 0,\"y\" : 0,\"type\" : \"diamond\",\"size\" : 10,\"id\" : \"F283\",\"title\" : \"4\",\"layer\" : 3,\"highlight\" : true,\"parent\" : \"\",\"menus\" : {},\"messages\" : {},\"callbacks\" : {}},\"F284\" : {\"x\" : 0,\"y\" : 0,\"type\" : \"diamond\",\"size\" : 10,\"id\" : \"F284\",\"title\" : \"4\",\"layer\" : 3,\"highlight\" : true,\"parent\" : \"\",\"menus\" : {},\"messages\" : {},\"callbacks\" : {}},\"F285\" : {\"x\" : 0,\"y\" : 0,\"type\" : \"diamond\",\"size\" : 10,\"id\" : \"F285\",\"title\" : \"4\",\"layer\" : 3,\"highlight\" : true,\"parent\" : \"\",\"menus\" : {},\"messages\" : {},\"callbacks\" : {}},\"F286\" : {\"x\" : 0,\"y\" : 0,\"type\" : \"diamond\",\"size\" : 10,\"id\" : \"F286\",\"title\" : \"4\",\"layer\" : 3,\"highlight\" : true,\"parent\" : \"\",\"menus\" : {},\"messages\" : {},\"callbacks\" : {}},\"F287\" : {\"x\" : 0,\"y\" : 0,\"type\" : \"circle\",\"size\" : 10,\"id\" : \"F287\",\"title\" : \"5\",\"layer\" : 4,\"highlight\" : true,\"parent\" : \"\",\"menus\" : {},\"messages\" : {},\"callbacks\" : {}},\"F288\" : {\"x\" : 0,\"y\" : 0,\"type\" : \"diamond\",\"size\" : 10,\"id\" : \"F288\",\"title\" : \"6\",\"layer\" : 4,\"highlight\" : true,\"parent\" : \"\",\"menus\" : {},\"messages\" : {},\"callbacks\" : {}},\"F289\" : {\"x\" : 0,\"y\" : 0,\"type\" : \"diamond\",\"size\" : 10,\"id\" : \"F289\",\"title\" : \"6\",\"layer\" : 4,\"highlight\" : true,\"parent\" : \"\",\"menus\" : {},\"messages\" : {},\"callbacks\" : {}},\"F290\" : {\"x\" : 0,\"y\" : 0,\"type\" : \"diamond\",\"size\" : 10,\"id\" : \"F290\",\"title\" : \"6\",\"layer\" : 4,\"highlight\" : true,\"parent\" : \"\",\"menus\" : {},\"messages\" : {},\"callbacks\" : {}},\"F291\" : {\"x\" : 0,\"y\" : 0,\"type\" : \"diamond\",\"size\" : 10,\"id\" : \"F291\",\"title\" : \"7\",\"layer\" : 4,\"highlight\" : true,\"parent\" : \"\",\"menus\" : {},\"messages\" : {},\"callbacks\" : {}},\"F292\" : {\"x\" : 0,\"y\" : 0,\"type\" : \"diamond\",\"size\" : 10,\"id\" : \"F292\",\"title\" : \"7\",\"layer\" : 4,\"highlight\" : true,\"parent\" : \"\",\"menus\" : {},\"messages\" : {},\"callbacks\" : {}},\"F293\" : {\"x\" : 0,\"y\" : 0,\"type\" : \"diamond\",\"size\" : 10,\"id\" : \"F293\",\"title\" : \"7\",\"layer\" : 4,\"highlight\" : true,\"parent\" : \"\",\"menus\" : {},\"messages\" : {},\"callbacks\" : {}},\"F294\" : {\"x\" : 0,\"y\" : 0,\"type\" : \"diamond\",\"size\" : 10,\"id\" : \"F294\",\"title\" : \"8\",\"layer\" : 6,\"highlight\" : true,\"parent\" : \"\",\"menus\" : {},\"messages\" : {},\"callbacks\" : {}},\"F295\" : {\"x\" : 0,\"y\" : 0,\"type\" : \"diamond\",\"size\" : 10,\"id\" : \"F295\",\"title\" : \"8\",\"layer\" : 6,\"highlight\" : true,\"parent\" : \"\",\"menus\" : {},\"messages\" : {},\"callbacks\" : {}},\"F296\" : {\"x\" : 0,\"y\" : 0,\"type\" : \"diamond\",\"size\" : 10,\"id\" : \"F296\",\"title\" : \"8\",\"layer\" : 6,\"highlight\" : true,\"parent\" : \"\",\"menus\" : {},\"messages\" : {},\"callbacks\" : {}},\"F297\" : {\"x\" : 0,\"y\" : 0,\"type\" : \"diamond\",\"size\" : 10,\"id\" : \"F297\",\"title\" : \"8\",\"layer\" : 6,\"highlight\" : true,\"parent\" : \"\",\"menus\" : {},\"messages\" : {},\"callbacks\" : {}},\"F298\" : {\"x\" : 0,\"y\" : 0,\"type\" : \"diamond\",\"size\" : 10,\"id\" : \"F298\",\"title\" : \"9\",\"layer\" : 8,\"highlight\" : true,\"parent\" : \"\",\"menus\" : {},\"messages\" : {},\"callbacks\" : {}},\"F299\" : {\"x\" : 0,\"y\" : 0,\"type\" : \"diamond\",\"size\" : 10,\"id\" : \"F299\",\"title\" : \"9\",\"layer\" : 8,\"highlight\" : true,\"parent\" : \"\",\"menus\" : {},\"messages\" : {},\"callbacks\" : {}},\"F300\" : {\"x\" : 0,\"y\" : 0,\"type\" : \"diamond\",\"size\" : 10,\"id\" : \"F300\",\"title\" : \"9\",\"layer\" : 8,\"highlight\" : true,\"parent\" : \"\",\"menus\" : {},\"messages\" : {},\"callbacks\" : {}},\"F301\" : {\"x\" : 0,\"y\" : 0,\"type\" : \"circle\",\"size\" : 10,\"id\" : \"F301\",\"title\" : \"10\",\"layer\" : 12,\"highlight\" : true,\"parent\" : \"\",\"menus\" : {},\"messages\" : {},\"callbacks\" : {}},\"F302\" : {\"x\" : 0,\"y\" : 0,\"type\" : \"circle\",\"size\" : 10,\"id\" : \"F302\",\"title\" : \"11\",\"layer\" : 24,\"highlight\" : true,\"parent\" : \"\",\"menus\" : {},\"messages\" : {},\"callbacks\" : {}}},\"links\" : {\"F303\" : {\"source\" : \"F274\",\"id\" : \"F303\",\"target\" : \"F273\"},\"F304\" : {\"source\" : \"F275\",\"id\" : \"F304\",\"target\" : \"F273\"},\"F305\" : {\"source\" : \"F276\",\"id\" : \"F305\",\"target\" : \"F273\"},\"F306\" : {\"source\" : \"F277\",\"id\" : \"F306\",\"target\" : \"F273\"},\"F307\" : {\"source\" : \"F278\",\"id\" : \"F307\",\"target\" : \"F273\"},\"F308\" : {\"source\" : \"F279\",\"id\" : \"F308\",\"target\" : \"F273\"},\"F309\" : {\"source\" : \"F280\",\"id\" : \"F309\",\"target\" : \"F273\"},\"F310\" : {\"source\" : \"F281\",\"id\" : \"F310\",\"target\" : \"F273\"},\"F311\" : {\"source\" : \"F282\",\"id\" : \"F311\",\"target\" : \"F273\"},\"F312\" : {\"source\" : \"F283\",\"id\" : \"F312\",\"target\" : \"F273\"},\"F313\" : {\"source\" : \"F284\",\"id\" : \"F313\",\"target\" : \"F273\"},\"F314\" : {\"source\" : \"F285\",\"id\" : \"F314\",\"target\" : \"F273\"},\"F315\" : {\"source\" : \"F286\",\"id\" : \"F315\",\"target\" : \"F273\"},\"F316\" : {\"source\" : \"F287\",\"id\" : \"F316\",\"target\" : \"F274\"},\"F317\" : {\"source\" : \"F287\",\"id\" : \"F317\",\"target\" : \"F275\"},\"F318\" : {\"source\" : \"F287\",\"id\" : \"F318\",\"target\" : \"F276\"},\"F319\" : {\"source\" : \"F288\",\"id\" : \"F319\",\"target\" : \"F277\"},\"F320\" : {\"source\" : \"F289\",\"id\" : \"F320\",\"target\" : \"F278\"},\"F321\" : {\"source\" : \"F290\",\"id\" : \"F321\",\"target\" : \"F279\"},\"F322\" : {\"source\" : \"F288\",\"id\" : \"F322\",\"target\" : \"F282\"},\"F323\" : {\"source\" : \"F289\",\"id\" : \"F323\",\"target\" : \"F281\"},\"F324\" : {\"source\" : \"F290\",\"id\" : \"F324\",\"target\" : \"F280\"},\"F325\" : {\"source\" : \"F288\",\"id\" : \"F325\",\"target\" : \"F276\"},\"F326\" : {\"source\" : \"F289\",\"id\" : \"F326\",\"target\" : \"F274\"},\"F327\" : {\"source\" : \"F290\",\"id\" : \"F327\",\"target\" : \"F275\"},\"F328\" : {\"source\" : \"F291\",\"id\" : \"F328\",\"target\" : \"F276\"},\"F329\" : {\"source\" : \"F292\",\"id\" : \"F329\",\"target\" : \"F274\"},\"F330\" : {\"source\" : \"F293\",\"id\" : \"F330\",\"target\" : \"F275\"},\"F331\" : {\"source\" : \"F294\",\"id\" : \"F331\",\"target\" : \"F283\"},\"F332\" : {\"source\" : \"F295\",\"id\" : \"F332\",\"target\" : \"F284\"},\"F333\" : {\"source\" : \"F296\",\"id\" : \"F333\",\"target\" : \"F285\"},\"F334\" : {\"source\" : \"F297\",\"id\" : \"F334\",\"target\" : \"F286\"},\"F335\" : {\"source\" : \"F294\",\"id\" : \"F335\",\"target\" : \"F277\"},\"F336\" : {\"source\" : \"F295\",\"id\" : \"F336\",\"target\" : \"F281\"},\"F337\" : {\"source\" : \"F296\",\"id\" : \"F337\",\"target\" : \"F281\"},\"F338\" : {\"source\" : \"F297\",\"id\" : \"F338\",\"target\" : \"F280\"},\"F339\" : {\"source\" : \"F294\",\"id\" : \"F339\",\"target\" : \"F278\"},\"F340\" : {\"source\" : \"F295\",\"id\" : \"F340\",\"target\" : \"F282\"},\"F341\" : {\"source\" : \"F296\",\"id\" : \"F341\",\"target\" : \"F280\"},\"F342\" : {\"source\" : \"F297\",\"id\" : \"F342\",\"target\" : \"F282\"},\"F343\" : {\"source\" : \"F294\",\"id\" : \"F343\",\"target\" : \"F279\"},\"F344\" : {\"source\" : \"F295\",\"id\" : \"F344\",\"target\" : \"F279\"},\"F345\" : {\"source\" : \"F296\",\"id\" : \"F345\",\"target\" : \"F277\"},\"F346\" : {\"source\" : \"F297\",\"id\" : \"F346\",\"target\" : \"F278\"},\"F347\" : {\"source\" : \"F298\",\"id\" : \"F347\",\"target\" : \"F291\"},\"F348\" : {\"source\" : \"F299\",\"id\" : \"F348\",\"target\" : \"F292\"},\"F349\" : {\"source\" : \"F300\",\"id\" : \"F349\",\"target\" : \"F293\"},\"F350\" : {\"source\" : \"F298\",\"id\" : \"F350\",\"target\" : \"F288\"},\"F351\" : {\"source\" : \"F299\",\"id\" : \"F351\",\"target\" : \"F289\"},\"F352\" : {\"source\" : \"F300\",\"id\" : \"F352\",\"target\" : \"F290\"},\"F353\" : {\"source\" : \"F298\",\"id\" : \"F353\",\"target\" : \"F287\"},\"F354\" : {\"source\" : \"F299\",\"id\" : \"F354\",\"target\" : \"F287\"},\"F355\" : {\"source\" : \"F300\",\"id\" : \"F355\",\"target\" : \"F287\"},\"F356\" : {\"source\" : \"F301\",\"id\" : \"F356\",\"target\" : \"F287\"},\"F357\" : {\"source\" : \"F301\",\"id\" : \"F357\",\"target\" : \"F283\"},\"F358\" : {\"source\" : \"F301\",\"id\" : \"F358\",\"target\" : \"F284\"},\"F359\" : {\"source\" : \"F301\",\"id\" : \"F359\",\"target\" : \"F285\"},\"F360\" : {\"source\" : \"F301\",\"id\" : \"F360\",\"target\" : \"F286\"},\"F361\" : {\"source\" : \"F302\",\"id\" : \"F361\",\"target\" : \"F301\"},\"F362\" : {\"source\" : \"F302\",\"id\" : \"F362\",\"target\" : \"F298\"},\"F363\" : {\"source\" : \"F302\",\"id\" : \"F363\",\"target\" : \"F299\"},\"F364\" : {\"source\" : \"F302\",\"id\" : \"F364\",\"target\" : \"F300\"},\"F365\" : {\"source\" : \"F302\",\"id\" : \"F365\",\"target\" : \"F294\"},\"F366\" : {\"source\" : \"F302\",\"id\" : \"F366\",\"target\" : \"F295\"},\"F367\" : {\"source\" : \"F302\",\"id\" : \"F367\",\"target\" : \"F296\"},\"F368\" : {\"source\" : \"F302\",\"id\" : \"F368\",\"target\" : \"F297\"}}},\"messages\" : {}}}"
     },
     "execution_count": 45,
     "metadata": {
      "text/plain": "~empty~"
     },
     "output_type": "execute_result"
    }
   ],
   "source": [
    "DisplayLatticeSubgroups := function(L)\n",
    "    local cls, len, sz, max, rep, z, t, i, j, k, graphHasse, nodes;\n",
    "    cls:=ConjugacyClassesSubgroups(L);\n",
    "    len:=[];\n",
    "    sz:=[];\n",
    "    for i in cls do\n",
    "        Add(len,Size(i));\n",
    "        AddSet(sz,Size(Representative(i)));\n",
    "    od;\n",
    "\n",
    "    graphHasse := Graph(GraphType.HASSE);\n",
    "    SetShowNeighbours(graphHasse,true);\n",
    "\n",
    "    nodes := [];\n",
    "    # subgroup nodes, also acccording to size\n",
    "    for i in [1..Length(cls)] do\n",
    "        nodes[i] := [];\n",
    "        for j in [1..len[i]] do\n",
    "            if len[i]=1 then\n",
    "                nodes[i][j] := Shape(ShapeType.CIRCLE, String(i));\n",
    "                SetLayer(nodes[i][j], Size(Representative(cls[i])));\n",
    "                # AppendTo(file,\"\\\"\",i,\"x\",j,\"\\\" [label=\\\"\",i,\"\\\", shape=box];\\n\");\n",
    "            else\n",
    "                nodes[i][j] := Shape(ShapeType.DIAMOND, String(i));\n",
    "                SetLayer(nodes[i][j], Size(Representative(cls[i])));\n",
    "                # AppendTo(file,\"\\\"\",i,\"x\",j,\"\\\" [label=\\\"\",i,\"-\",j,\"\\\", shape=circle];\\n\");\n",
    "            fi;\n",
    "            Add(graphHasse, nodes[i][j]);\n",
    "        od;\n",
    "    od;\n",
    "\n",
    "    max:=MaximalSubgroupsLattice(L);\n",
    "    for i in [1..Length(cls)] do\n",
    "        for j in max[i] do\n",
    "            rep:=ClassElementLattice(cls[i],1);\n",
    "            for k in [1..len[i]] do\n",
    "                if k=1 then\n",
    "                    z:=j[2];\n",
    "                else\n",
    "                    t:=cls[i]!.normalizerTransversal[k];\n",
    "                    z:=ClassElementLattice(cls[j[1]],1); # force computation of transv.\n",
    "                    z:=cls[j[1]]!.normalizerTransversal[j[2]]*t;\n",
    "                    z:=PositionCanonical(cls[j[1]]!.normalizerTransversal,z);\n",
    "                fi;\n",
    "                Add(graphHasse, Link(nodes[i][k],nodes[j[1]][z]));\n",
    "          od;\n",
    "        od;\n",
    "      od;\n",
    "    return graphHasse;\n",
    "end;;\n",
    "\n",
    "canvas3 := Canvas(\"Lattice Subgroups\");;\n",
    "Add(canvas3, DisplayLatticeSubgroups(LatticeSubgroups(SymmetricGroup(4))));;\n",
    "Draw(canvas3);"
   ]
  },
  {
   "cell_type": "code",
   "execution_count": null,
   "metadata": {},
   "outputs": [],
   "source": []
  }
 ],
 "metadata": {
  "kernelspec": {
   "display_name": "GAP 4 (native)",
   "language": "gap",
   "name": "gap-native"
  },
  "language_info": {
   "codemirror_mode": "gap",
   "file_extension": ".g",
   "mimetype": "text/x-gap",
   "name": "GAP (native)",
   "nbconvert_exporter": "",
   "pygments_lexer": "gap",
   "version": "4.dev"
  }
 },
 "nbformat": 4,
 "nbformat_minor": 2
}
