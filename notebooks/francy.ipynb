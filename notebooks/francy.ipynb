{
 "cells": [
  {
   "cell_type": "markdown",
   "metadata": {},
   "source": [
    "### Load Francy Package"
   ]
  },
  {
   "cell_type": "code",
   "execution_count": 25,
   "metadata": {},
   "outputs": [
    {
     "data": {
      "text/plain": [
       "true"
      ]
     },
     "execution_count": 23,
     "metadata": {
      "text/plain": ""
     },
     "output_type": "execute_result"
    },
    {
     "data": {
      "text/plain": [
       "true"
      ]
     },
     "execution_count": 24,
     "metadata": {
      "text/plain": ""
     },
     "output_type": "execute_result"
    },
    {
     "data": {
      "text/plain": [
       "true"
      ]
     },
     "execution_count": 25,
     "metadata": {
      "text/plain": ""
     },
     "output_type": "execute_result"
    }
   ],
   "source": [
    "LoadPackage(\"francy\");\n",
    "LoadPackage(\"digraph\");\n",
    "LoadPackage(\"num\");"
   ]
  },
  {
   "cell_type": "markdown",
   "metadata": {},
   "source": [
    "### An attempt to LatticeSubgroups By Markus"
   ]
  },
  {
   "cell_type": "code",
   "execution_count": 30,
   "metadata": {
    "scrolled": false
   },
   "outputs": [
    {
     "data": {
      "application/vnd.francy+json": "{\"version\" : \"0.8.4\",\"mime\" : \"application\\/vnd.francy+json\",\"canvas\" : {\"width\" : 800,\"id\" : \"F207\",\"height\" : 600,\"title\" : \"Lattice Subgroups\",\"zoomToFit\" : true,\"texTypesetting\" : false,\"menus\" : {},\"graph\" : {\"type\" : \"undirected\",\"id\" : \"F208\",\"simulation\" : true,\"collapsed\" : true,\"drag\" : false,\"showNeighbours\" : false,\"nodes\" : {\"F209\" : {\"x\" : 0,\"y\" : 0,\"type\" : \"diamond\",\"id\" : \"F209\",\"size\" : 10,\"title\" : \"1\",\"color\" : \"\",\"layer\" : -2,\"parent\" : \"\",\"menus\" : {},\"messages\" : {},\"callbacks\" : {}},\"F210\" : {\"x\" : 0,\"y\" : 0,\"type\" : \"circle\",\"id\" : \"F210\",\"size\" : 10,\"title\" : \"2\",\"color\" : \"\",\"layer\" : -4,\"parent\" : \"\",\"menus\" : {},\"messages\" : {},\"callbacks\" : {}},\"F211\" : {\"x\" : 0,\"y\" : 0,\"type\" : \"circle\",\"id\" : \"F211\",\"size\" : 10,\"title\" : \"2\",\"color\" : \"\",\"layer\" : -4,\"parent\" : \"\",\"menus\" : {},\"messages\" : {},\"callbacks\" : {}},\"F212\" : {\"x\" : 0,\"y\" : 0,\"type\" : \"circle\",\"id\" : \"F212\",\"size\" : 10,\"title\" : \"2\",\"color\" : \"\",\"layer\" : -4,\"parent\" : \"\",\"menus\" : {},\"messages\" : {},\"callbacks\" : {}},\"F213\" : {\"x\" : 0,\"y\" : 0,\"type\" : \"circle\",\"id\" : \"F213\",\"size\" : 10,\"title\" : \"2\",\"color\" : \"\",\"layer\" : -4,\"parent\" : \"\",\"menus\" : {},\"messages\" : {},\"callbacks\" : {}},\"F214\" : {\"x\" : 0,\"y\" : 0,\"type\" : \"circle\",\"id\" : \"F214\",\"size\" : 10,\"title\" : \"2\",\"color\" : \"\",\"layer\" : -4,\"parent\" : \"\",\"menus\" : {},\"messages\" : {},\"callbacks\" : {}},\"F215\" : {\"x\" : 0,\"y\" : 0,\"type\" : \"circle\",\"id\" : \"F215\",\"size\" : 10,\"title\" : \"2\",\"color\" : \"\",\"layer\" : -4,\"parent\" : \"\",\"menus\" : {},\"messages\" : {},\"callbacks\" : {}},\"F216\" : {\"x\" : 0,\"y\" : 0,\"type\" : \"circle\",\"id\" : \"F216\",\"size\" : 10,\"title\" : \"2\",\"color\" : \"\",\"layer\" : -4,\"parent\" : \"\",\"menus\" : {},\"messages\" : {},\"callbacks\" : {}},\"F217\" : {\"x\" : 0,\"y\" : 0,\"type\" : \"circle\",\"id\" : \"F217\",\"size\" : 10,\"title\" : \"2\",\"color\" : \"\",\"layer\" : -4,\"parent\" : \"\",\"menus\" : {},\"messages\" : {},\"callbacks\" : {}},\"F218\" : {\"x\" : 0,\"y\" : 0,\"type\" : \"circle\",\"id\" : \"F218\",\"size\" : 10,\"title\" : \"2\",\"color\" : \"\",\"layer\" : -4,\"parent\" : \"\",\"menus\" : {},\"messages\" : {},\"callbacks\" : {}},\"F219\" : {\"x\" : 0,\"y\" : 0,\"type\" : \"circle\",\"id\" : \"F219\",\"size\" : 10,\"title\" : \"2\",\"color\" : \"\",\"layer\" : -4,\"parent\" : \"\",\"menus\" : {},\"messages\" : {},\"callbacks\" : {}},\"F220\" : {\"x\" : 0,\"y\" : 0,\"type\" : \"circle\",\"id\" : \"F220\",\"size\" : 10,\"title\" : \"2\",\"color\" : \"\",\"layer\" : -4,\"parent\" : \"\",\"menus\" : {},\"messages\" : {},\"callbacks\" : {}},\"F221\" : {\"x\" : 0,\"y\" : 0,\"type\" : \"diamond\",\"id\" : \"F221\",\"size\" : 10,\"title\" : \"3\",\"color\" : \"\",\"layer\" : -4,\"parent\" : \"\",\"menus\" : {},\"messages\" : {},\"callbacks\" : {}},\"F222\" : {\"x\" : 0,\"y\" : 0,\"type\" : \"circle\",\"id\" : \"F222\",\"size\" : 10,\"title\" : \"4\",\"color\" : \"\",\"layer\" : -4,\"parent\" : \"\",\"menus\" : {},\"messages\" : {},\"callbacks\" : {}},\"F223\" : {\"x\" : 0,\"y\" : 0,\"type\" : \"circle\",\"id\" : \"F223\",\"size\" : 10,\"title\" : \"4\",\"color\" : \"\",\"layer\" : -4,\"parent\" : \"\",\"menus\" : {},\"messages\" : {},\"callbacks\" : {}},\"F224\" : {\"x\" : 0,\"y\" : 0,\"type\" : \"circle\",\"id\" : \"F224\",\"size\" : 10,\"title\" : \"4\",\"color\" : \"\",\"layer\" : -4,\"parent\" : \"\",\"menus\" : {},\"messages\" : {},\"callbacks\" : {}},\"F225\" : {\"x\" : 0,\"y\" : 0,\"type\" : \"circle\",\"id\" : \"F225\",\"size\" : 10,\"title\" : \"4\",\"color\" : \"\",\"layer\" : -4,\"parent\" : \"\",\"menus\" : {},\"messages\" : {},\"callbacks\" : {}},\"F226\" : {\"x\" : 0,\"y\" : 0,\"type\" : \"circle\",\"id\" : \"F226\",\"size\" : 10,\"title\" : \"4\",\"color\" : \"\",\"layer\" : -4,\"parent\" : \"\",\"menus\" : {},\"messages\" : {},\"callbacks\" : {}},\"F227\" : {\"x\" : 0,\"y\" : 0,\"type\" : \"circle\",\"id\" : \"F227\",\"size\" : 10,\"title\" : \"4\",\"color\" : \"\",\"layer\" : -4,\"parent\" : \"\",\"menus\" : {},\"messages\" : {},\"callbacks\" : {}},\"F228\" : {\"x\" : 0,\"y\" : 0,\"type\" : \"circle\",\"id\" : \"F228\",\"size\" : 10,\"title\" : \"4\",\"color\" : \"\",\"layer\" : -4,\"parent\" : \"\",\"menus\" : {},\"messages\" : {},\"callbacks\" : {}},\"F229\" : {\"x\" : 0,\"y\" : 0,\"type\" : \"circle\",\"id\" : \"F229\",\"size\" : 10,\"title\" : \"4\",\"color\" : \"\",\"layer\" : -4,\"parent\" : \"\",\"menus\" : {},\"messages\" : {},\"callbacks\" : {}},\"F230\" : {\"x\" : 0,\"y\" : 0,\"type\" : \"circle\",\"id\" : \"F230\",\"size\" : 10,\"title\" : \"4\",\"color\" : \"\",\"layer\" : -4,\"parent\" : \"\",\"menus\" : {},\"messages\" : {},\"callbacks\" : {}},\"F231\" : {\"x\" : 0,\"y\" : 0,\"type\" : \"circle\",\"id\" : \"F231\",\"size\" : 10,\"title\" : \"4\",\"color\" : \"\",\"layer\" : -4,\"parent\" : \"\",\"menus\" : {},\"messages\" : {},\"callbacks\" : {}},\"F232\" : {\"x\" : 0,\"y\" : 0,\"type\" : \"circle\",\"id\" : \"F232\",\"size\" : 10,\"title\" : \"4\",\"color\" : \"\",\"layer\" : -4,\"parent\" : \"\",\"menus\" : {},\"messages\" : {},\"callbacks\" : {}},\"F233\" : {\"x\" : 0,\"y\" : 0,\"type\" : \"circle\",\"id\" : \"F233\",\"size\" : 10,\"title\" : \"5\",\"color\" : \"\",\"layer\" : -6,\"parent\" : \"\",\"menus\" : {},\"messages\" : {},\"callbacks\" : {}},\"F234\" : {\"x\" : 0,\"y\" : 0,\"type\" : \"circle\",\"id\" : \"F234\",\"size\" : 10,\"title\" : \"5\",\"color\" : \"\",\"layer\" : -6,\"parent\" : \"\",\"menus\" : {},\"messages\" : {},\"callbacks\" : {}},\"F235\" : {\"x\" : 0,\"y\" : 0,\"type\" : \"circle\",\"id\" : \"F235\",\"size\" : 10,\"title\" : \"5\",\"color\" : \"\",\"layer\" : -6,\"parent\" : \"\",\"menus\" : {},\"messages\" : {},\"callbacks\" : {}},\"F236\" : {\"x\" : 0,\"y\" : 0,\"type\" : \"circle\",\"id\" : \"F236\",\"size\" : 10,\"title\" : \"5\",\"color\" : \"\",\"layer\" : -6,\"parent\" : \"\",\"menus\" : {},\"messages\" : {},\"callbacks\" : {}},\"F237\" : {\"x\" : 0,\"y\" : 0,\"type\" : \"circle\",\"id\" : \"F237\",\"size\" : 10,\"title\" : \"5\",\"color\" : \"\",\"layer\" : -6,\"parent\" : \"\",\"menus\" : {},\"messages\" : {},\"callbacks\" : {}},\"F238\" : {\"x\" : 0,\"y\" : 0,\"type\" : \"circle\",\"id\" : \"F238\",\"size\" : 10,\"title\" : \"5\",\"color\" : \"\",\"layer\" : -6,\"parent\" : \"\",\"menus\" : {},\"messages\" : {},\"callbacks\" : {}},\"F239\" : {\"x\" : 0,\"y\" : 0,\"type\" : \"circle\",\"id\" : \"F239\",\"size\" : 10,\"title\" : \"5\",\"color\" : \"\",\"layer\" : -6,\"parent\" : \"\",\"menus\" : {},\"messages\" : {},\"callbacks\" : {}},\"F240\" : {\"x\" : 0,\"y\" : 0,\"type\" : \"circle\",\"id\" : \"F240\",\"size\" : 10,\"title\" : \"5\",\"color\" : \"\",\"layer\" : -6,\"parent\" : \"\",\"menus\" : {},\"messages\" : {},\"callbacks\" : {}},\"F241\" : {\"x\" : 0,\"y\" : 0,\"type\" : \"circle\",\"id\" : \"F241\",\"size\" : 10,\"title\" : \"5\",\"color\" : \"\",\"layer\" : -6,\"parent\" : \"\",\"menus\" : {},\"messages\" : {},\"callbacks\" : {}},\"F242\" : {\"x\" : 0,\"y\" : 0,\"type\" : \"circle\",\"id\" : \"F242\",\"size\" : 10,\"title\" : \"5\",\"color\" : \"\",\"layer\" : -6,\"parent\" : \"\",\"menus\" : {},\"messages\" : {},\"callbacks\" : {}},\"F243\" : {\"x\" : 0,\"y\" : 0,\"type\" : \"circle\",\"id\" : \"F243\",\"size\" : 10,\"title\" : \"5\",\"color\" : \"\",\"layer\" : -6,\"parent\" : \"\",\"menus\" : {},\"messages\" : {},\"callbacks\" : {}},\"F244\" : {\"x\" : 0,\"y\" : 0,\"type\" : \"diamond\",\"id\" : \"F244\",\"size\" : 10,\"title\" : \"6\",\"color\" : \"\",\"layer\" : -8,\"parent\" : \"\",\"menus\" : {},\"messages\" : {},\"callbacks\" : {}},\"F245\" : {\"x\" : 0,\"y\" : 0,\"type\" : \"diamond\",\"id\" : \"F245\",\"size\" : 10,\"title\" : \"7\",\"color\" : \"\",\"layer\" : -10,\"parent\" : \"\",\"menus\" : {},\"messages\" : {},\"callbacks\" : {}},\"F246\" : {\"x\" : 0,\"y\" : 0,\"type\" : \"diamond\",\"id\" : \"F246\",\"size\" : 10,\"title\" : \"8\",\"color\" : \"\",\"layer\" : -10,\"parent\" : \"\",\"menus\" : {},\"messages\" : {},\"callbacks\" : {}},\"F247\" : {\"x\" : 0,\"y\" : 0,\"type\" : \"diamond\",\"id\" : \"F247\",\"size\" : 10,\"title\" : \"9\",\"color\" : \"\",\"layer\" : -10,\"parent\" : \"\",\"menus\" : {},\"messages\" : {},\"callbacks\" : {}},\"F248\" : {\"x\" : 0,\"y\" : 0,\"type\" : \"diamond\",\"id\" : \"F248\",\"size\" : 10,\"title\" : \"10\",\"color\" : \"\",\"layer\" : -12,\"parent\" : \"\",\"menus\" : {},\"messages\" : {},\"callbacks\" : {}}},\"links\" : {\"F249\" : {\"id\" : \"F249\",\"source\" : \"F210\",\"length\" : 0,\"weight\" : 0,\"color\" : \"\",\"invisible\" : false,\"target\" : \"F209\"},\"F250\" : {\"id\" : \"F250\",\"source\" : \"F211\",\"length\" : 0,\"weight\" : 0,\"color\" : \"\",\"invisible\" : false,\"target\" : \"F209\"},\"F251\" : {\"id\" : \"F251\",\"source\" : \"F212\",\"length\" : 0,\"weight\" : 0,\"color\" : \"\",\"invisible\" : false,\"target\" : \"F209\"},\"F252\" : {\"id\" : \"F252\",\"source\" : \"F213\",\"length\" : 0,\"weight\" : 0,\"color\" : \"\",\"invisible\" : false,\"target\" : \"F209\"},\"F253\" : {\"id\" : \"F253\",\"source\" : \"F214\",\"length\" : 0,\"weight\" : 0,\"color\" : \"\",\"invisible\" : false,\"target\" : \"F209\"},\"F254\" : {\"id\" : \"F254\",\"source\" : \"F215\",\"length\" : 0,\"weight\" : 0,\"color\" : \"\",\"invisible\" : false,\"target\" : \"F209\"},\"F255\" : {\"id\" : \"F255\",\"source\" : \"F216\",\"length\" : 0,\"weight\" : 0,\"color\" : \"\",\"invisible\" : false,\"target\" : \"F209\"},\"F256\" : {\"id\" : \"F256\",\"source\" : \"F217\",\"length\" : 0,\"weight\" : 0,\"color\" : \"\",\"invisible\" : false,\"target\" : \"F209\"},\"F257\" : {\"id\" : \"F257\",\"source\" : \"F218\",\"length\" : 0,\"weight\" : 0,\"color\" : \"\",\"invisible\" : false,\"target\" : \"F209\"},\"F258\" : {\"id\" : \"F258\",\"source\" : \"F219\",\"length\" : 0,\"weight\" : 0,\"color\" : \"\",\"invisible\" : false,\"target\" : \"F209\"},\"F259\" : {\"id\" : \"F259\",\"source\" : \"F220\",\"length\" : 0,\"weight\" : 0,\"color\" : \"\",\"invisible\" : false,\"target\" : \"F209\"},\"F260\" : {\"id\" : \"F260\",\"source\" : \"F221\",\"length\" : 0,\"weight\" : 0,\"color\" : \"\",\"invisible\" : false,\"target\" : \"F209\"},\"F261\" : {\"id\" : \"F261\",\"source\" : \"F222\",\"length\" : 0,\"weight\" : 0,\"color\" : \"\",\"invisible\" : false,\"target\" : \"F209\"},\"F262\" : {\"id\" : \"F262\",\"source\" : \"F223\",\"length\" : 0,\"weight\" : 0,\"color\" : \"\",\"invisible\" : false,\"target\" : \"F209\"},\"F263\" : {\"id\" : \"F263\",\"source\" : \"F224\",\"length\" : 0,\"weight\" : 0,\"color\" : \"\",\"invisible\" : false,\"target\" : \"F209\"},\"F264\" : {\"id\" : \"F264\",\"source\" : \"F225\",\"length\" : 0,\"weight\" : 0,\"color\" : \"\",\"invisible\" : false,\"target\" : \"F209\"},\"F265\" : {\"id\" : \"F265\",\"source\" : \"F226\",\"length\" : 0,\"weight\" : 0,\"color\" : \"\",\"invisible\" : false,\"target\" : \"F209\"},\"F266\" : {\"id\" : \"F266\",\"source\" : \"F227\",\"length\" : 0,\"weight\" : 0,\"color\" : \"\",\"invisible\" : false,\"target\" : \"F209\"},\"F267\" : {\"id\" : \"F267\",\"source\" : \"F228\",\"length\" : 0,\"weight\" : 0,\"color\" : \"\",\"invisible\" : false,\"target\" : \"F209\"},\"F268\" : {\"id\" : \"F268\",\"source\" : \"F229\",\"length\" : 0,\"weight\" : 0,\"color\" : \"\",\"invisible\" : false,\"target\" : \"F209\"},\"F269\" : {\"id\" : \"F269\",\"source\" : \"F230\",\"length\" : 0,\"weight\" : 0,\"color\" : \"\",\"invisible\" : false,\"target\" : \"F209\"},\"F270\" : {\"id\" : \"F270\",\"source\" : \"F231\",\"length\" : 0,\"weight\" : 0,\"color\" : \"\",\"invisible\" : false,\"target\" : \"F209\"},\"F271\" : {\"id\" : \"F271\",\"source\" : \"F232\",\"length\" : 0,\"weight\" : 0,\"color\" : \"\",\"invisible\" : false,\"target\" : \"F209\"},\"F272\" : {\"id\" : \"F272\",\"source\" : \"F233\",\"length\" : 0,\"weight\" : 0,\"color\" : \"\",\"invisible\" : false,\"target\" : \"F230\"},\"F273\" : {\"id\" : \"F273\",\"source\" : \"F234\",\"length\" : 0,\"weight\" : 0,\"color\" : \"\",\"invisible\" : false,\"target\" : \"F231\"},\"F274\" : {\"id\" : \"F274\",\"source\" : \"F235\",\"length\" : 0,\"weight\" : 0,\"color\" : \"\",\"invisible\" : false,\"target\" : \"F232\"},\"F275\" : {\"id\" : \"F275\",\"source\" : \"F236\",\"length\" : 0,\"weight\" : 0,\"color\" : \"\",\"invisible\" : false,\"target\" : \"F222\"},\"F276\" : {\"id\" : \"F276\",\"source\" : \"F237\",\"length\" : 0,\"weight\" : 0,\"color\" : \"\",\"invisible\" : false,\"target\" : \"F223\"},\"F277\" : {\"id\" : \"F277\",\"source\" : \"F238\",\"length\" : 0,\"weight\" : 0,\"color\" : \"\",\"invisible\" : false,\"target\" : \"F224\"},\"F278\" : {\"id\" : \"F278\",\"source\" : \"F239\",\"length\" : 0,\"weight\" : 0,\"color\" : \"\",\"invisible\" : false,\"target\" : \"F225\"},\"F279\" : {\"id\" : \"F279\",\"source\" : \"F240\",\"length\" : 0,\"weight\" : 0,\"color\" : \"\",\"invisible\" : false,\"target\" : \"F226\"},\"F280\" : {\"id\" : \"F280\",\"source\" : \"F241\",\"length\" : 0,\"weight\" : 0,\"color\" : \"\",\"invisible\" : false,\"target\" : \"F227\"},\"F281\" : {\"id\" : \"F281\",\"source\" : \"F242\",\"length\" : 0,\"weight\" : 0,\"color\" : \"\",\"invisible\" : false,\"target\" : \"F228\"},\"F282\" : {\"id\" : \"F282\",\"source\" : \"F243\",\"length\" : 0,\"weight\" : 0,\"color\" : \"\",\"invisible\" : false,\"target\" : \"F229\"},\"F283\" : {\"id\" : \"F283\",\"source\" : \"F233\",\"length\" : 0,\"weight\" : 0,\"color\" : \"\",\"invisible\" : false,\"target\" : \"F221\"},\"F284\" : {\"id\" : \"F284\",\"source\" : \"F234\",\"length\" : 0,\"weight\" : 0,\"color\" : \"\",\"invisible\" : false,\"target\" : \"F221\"},\"F285\" : {\"id\" : \"F285\",\"source\" : \"F235\",\"length\" : 0,\"weight\" : 0,\"color\" : \"\",\"invisible\" : false,\"target\" : \"F221\"},\"F286\" : {\"id\" : \"F286\",\"source\" : \"F236\",\"length\" : 0,\"weight\" : 0,\"color\" : \"\",\"invisible\" : false,\"target\" : \"F221\"},\"F287\" : {\"id\" : \"F287\",\"source\" : \"F237\",\"length\" : 0,\"weight\" : 0,\"color\" : \"\",\"invisible\" : false,\"target\" : \"F221\"},\"F288\" : {\"id\" : \"F288\",\"source\" : \"F238\",\"length\" : 0,\"weight\" : 0,\"color\" : \"\",\"invisible\" : false,\"target\" : \"F221\"},\"F289\" : {\"id\" : \"F289\",\"source\" : \"F239\",\"length\" : 0,\"weight\" : 0,\"color\" : \"\",\"invisible\" : false,\"target\" : \"F221\"},\"F290\" : {\"id\" : \"F290\",\"source\" : \"F240\",\"length\" : 0,\"weight\" : 0,\"color\" : \"\",\"invisible\" : false,\"target\" : \"F221\"},\"F291\" : {\"id\" : \"F291\",\"source\" : \"F241\",\"length\" : 0,\"weight\" : 0,\"color\" : \"\",\"invisible\" : false,\"target\" : \"F221\"},\"F292\" : {\"id\" : \"F292\",\"source\" : \"F242\",\"length\" : 0,\"weight\" : 0,\"color\" : \"\",\"invisible\" : false,\"target\" : \"F221\"},\"F293\" : {\"id\" : \"F293\",\"source\" : \"F243\",\"length\" : 0,\"weight\" : 0,\"color\" : \"\",\"invisible\" : false,\"target\" : \"F221\"},\"F294\" : {\"id\" : \"F294\",\"source\" : \"F233\",\"length\" : 0,\"weight\" : 0,\"color\" : \"\",\"invisible\" : false,\"target\" : \"F210\"},\"F295\" : {\"id\" : \"F295\",\"source\" : \"F234\",\"length\" : 0,\"weight\" : 0,\"color\" : \"\",\"invisible\" : false,\"target\" : \"F211\"},\"F296\" : {\"id\" : \"F296\",\"source\" : \"F235\",\"length\" : 0,\"weight\" : 0,\"color\" : \"\",\"invisible\" : false,\"target\" : \"F212\"},\"F297\" : {\"id\" : \"F297\",\"source\" : \"F236\",\"length\" : 0,\"weight\" : 0,\"color\" : \"\",\"invisible\" : false,\"target\" : \"F213\"},\"F298\" : {\"id\" : \"F298\",\"source\" : \"F237\",\"length\" : 0,\"weight\" : 0,\"color\" : \"\",\"invisible\" : false,\"target\" : \"F214\"},\"F299\" : {\"id\" : \"F299\",\"source\" : \"F238\",\"length\" : 0,\"weight\" : 0,\"color\" : \"\",\"invisible\" : false,\"target\" : \"F215\"},\"F300\" : {\"id\" : \"F300\",\"source\" : \"F239\",\"length\" : 0,\"weight\" : 0,\"color\" : \"\",\"invisible\" : false,\"target\" : \"F216\"},\"F301\" : {\"id\" : \"F301\",\"source\" : \"F240\",\"length\" : 0,\"weight\" : 0,\"color\" : \"\",\"invisible\" : false,\"target\" : \"F217\"},\"F302\" : {\"id\" : \"F302\",\"source\" : \"F241\",\"length\" : 0,\"weight\" : 0,\"color\" : \"\",\"invisible\" : false,\"target\" : \"F218\"},\"F303\" : {\"id\" : \"F303\",\"source\" : \"F242\",\"length\" : 0,\"weight\" : 0,\"color\" : \"\",\"invisible\" : false,\"target\" : \"F219\"},\"F304\" : {\"id\" : \"F304\",\"source\" : \"F243\",\"length\" : 0,\"weight\" : 0,\"color\" : \"\",\"invisible\" : false,\"target\" : \"F220\"},\"F305\" : {\"id\" : \"F305\",\"source\" : \"F244\",\"length\" : 0,\"weight\" : 0,\"color\" : \"\",\"invisible\" : false,\"target\" : \"F209\"},\"F306\" : {\"id\" : \"F306\",\"source\" : \"F245\",\"length\" : 0,\"weight\" : 0,\"color\" : \"\",\"invisible\" : false,\"target\" : \"F244\"},\"F307\" : {\"id\" : \"F307\",\"source\" : \"F245\",\"length\" : 0,\"weight\" : 0,\"color\" : \"\",\"invisible\" : false,\"target\" : \"F210\"},\"F308\" : {\"id\" : \"F308\",\"source\" : \"F245\",\"length\" : 0,\"weight\" : 0,\"color\" : \"\",\"invisible\" : false,\"target\" : \"F211\"},\"F309\" : {\"id\" : \"F309\",\"source\" : \"F245\",\"length\" : 0,\"weight\" : 0,\"color\" : \"\",\"invisible\" : false,\"target\" : \"F212\"},\"F310\" : {\"id\" : \"F310\",\"source\" : \"F245\",\"length\" : 0,\"weight\" : 0,\"color\" : \"\",\"invisible\" : false,\"target\" : \"F213\"},\"F311\" : {\"id\" : \"F311\",\"source\" : \"F245\",\"length\" : 0,\"weight\" : 0,\"color\" : \"\",\"invisible\" : false,\"target\" : \"F214\"},\"F312\" : {\"id\" : \"F312\",\"source\" : \"F245\",\"length\" : 0,\"weight\" : 0,\"color\" : \"\",\"invisible\" : false,\"target\" : \"F215\"},\"F313\" : {\"id\" : \"F313\",\"source\" : \"F245\",\"length\" : 0,\"weight\" : 0,\"color\" : \"\",\"invisible\" : false,\"target\" : \"F216\"},\"F314\" : {\"id\" : \"F314\",\"source\" : \"F245\",\"length\" : 0,\"weight\" : 0,\"color\" : \"\",\"invisible\" : false,\"target\" : \"F217\"},\"F315\" : {\"id\" : \"F315\",\"source\" : \"F245\",\"length\" : 0,\"weight\" : 0,\"color\" : \"\",\"invisible\" : false,\"target\" : \"F218\"},\"F316\" : {\"id\" : \"F316\",\"source\" : \"F245\",\"length\" : 0,\"weight\" : 0,\"color\" : \"\",\"invisible\" : false,\"target\" : \"F219\"},\"F317\" : {\"id\" : \"F317\",\"source\" : \"F245\",\"length\" : 0,\"weight\" : 0,\"color\" : \"\",\"invisible\" : false,\"target\" : \"F220\"},\"F318\" : {\"id\" : \"F318\",\"source\" : \"F246\",\"length\" : 0,\"weight\" : 0,\"color\" : \"\",\"invisible\" : false,\"target\" : \"F244\"},\"F319\" : {\"id\" : \"F319\",\"source\" : \"F246\",\"length\" : 0,\"weight\" : 0,\"color\" : \"\",\"invisible\" : false,\"target\" : \"F221\"},\"F320\" : {\"id\" : \"F320\",\"source\" : \"F247\",\"length\" : 0,\"weight\" : 0,\"color\" : \"\",\"invisible\" : false,\"target\" : \"F244\"},\"F321\" : {\"id\" : \"F321\",\"source\" : \"F247\",\"length\" : 0,\"weight\" : 0,\"color\" : \"\",\"invisible\" : false,\"target\" : \"F222\"},\"F322\" : {\"id\" : \"F322\",\"source\" : \"F247\",\"length\" : 0,\"weight\" : 0,\"color\" : \"\",\"invisible\" : false,\"target\" : \"F223\"},\"F323\" : {\"id\" : \"F323\",\"source\" : \"F247\",\"length\" : 0,\"weight\" : 0,\"color\" : \"\",\"invisible\" : false,\"target\" : \"F224\"},\"F324\" : {\"id\" : \"F324\",\"source\" : \"F247\",\"length\" : 0,\"weight\" : 0,\"color\" : \"\",\"invisible\" : false,\"target\" : \"F225\"},\"F325\" : {\"id\" : \"F325\",\"source\" : \"F247\",\"length\" : 0,\"weight\" : 0,\"color\" : \"\",\"invisible\" : false,\"target\" : \"F226\"},\"F326\" : {\"id\" : \"F326\",\"source\" : \"F247\",\"length\" : 0,\"weight\" : 0,\"color\" : \"\",\"invisible\" : false,\"target\" : \"F227\"},\"F327\" : {\"id\" : \"F327\",\"source\" : \"F247\",\"length\" : 0,\"weight\" : 0,\"color\" : \"\",\"invisible\" : false,\"target\" : \"F228\"},\"F328\" : {\"id\" : \"F328\",\"source\" : \"F247\",\"length\" : 0,\"weight\" : 0,\"color\" : \"\",\"invisible\" : false,\"target\" : \"F229\"},\"F329\" : {\"id\" : \"F329\",\"source\" : \"F247\",\"length\" : 0,\"weight\" : 0,\"color\" : \"\",\"invisible\" : false,\"target\" : \"F230\"},\"F330\" : {\"id\" : \"F330\",\"source\" : \"F247\",\"length\" : 0,\"weight\" : 0,\"color\" : \"\",\"invisible\" : false,\"target\" : \"F231\"},\"F331\" : {\"id\" : \"F331\",\"source\" : \"F247\",\"length\" : 0,\"weight\" : 0,\"color\" : \"\",\"invisible\" : false,\"target\" : \"F232\"},\"F332\" : {\"id\" : \"F332\",\"source\" : \"F248\",\"length\" : 0,\"weight\" : 0,\"color\" : \"\",\"invisible\" : false,\"target\" : \"F247\"},\"F333\" : {\"id\" : \"F333\",\"source\" : \"F248\",\"length\" : 0,\"weight\" : 0,\"color\" : \"\",\"invisible\" : false,\"target\" : \"F246\"},\"F334\" : {\"id\" : \"F334\",\"source\" : \"F248\",\"length\" : 0,\"weight\" : 0,\"color\" : \"\",\"invisible\" : false,\"target\" : \"F245\"},\"F335\" : {\"id\" : \"F335\",\"source\" : \"F248\",\"length\" : 0,\"weight\" : 0,\"color\" : \"\",\"invisible\" : false,\"target\" : \"F233\"},\"F336\" : {\"id\" : \"F336\",\"source\" : \"F248\",\"length\" : 0,\"weight\" : 0,\"color\" : \"\",\"invisible\" : false,\"target\" : \"F234\"},\"F337\" : {\"id\" : \"F337\",\"source\" : \"F248\",\"length\" : 0,\"weight\" : 0,\"color\" : \"\",\"invisible\" : false,\"target\" : \"F235\"},\"F338\" : {\"id\" : \"F338\",\"source\" : \"F248\",\"length\" : 0,\"weight\" : 0,\"color\" : \"\",\"invisible\" : false,\"target\" : \"F236\"},\"F339\" : {\"id\" : \"F339\",\"source\" : \"F248\",\"length\" : 0,\"weight\" : 0,\"color\" : \"\",\"invisible\" : false,\"target\" : \"F237\"},\"F340\" : {\"id\" : \"F340\",\"source\" : \"F248\",\"length\" : 0,\"weight\" : 0,\"color\" : \"\",\"invisible\" : false,\"target\" : \"F238\"},\"F341\" : {\"id\" : \"F341\",\"source\" : \"F248\",\"length\" : 0,\"weight\" : 0,\"color\" : \"\",\"invisible\" : false,\"target\" : \"F239\"},\"F342\" : {\"id\" : \"F342\",\"source\" : \"F248\",\"length\" : 0,\"weight\" : 0,\"color\" : \"\",\"invisible\" : false,\"target\" : \"F240\"},\"F343\" : {\"id\" : \"F343\",\"source\" : \"F248\",\"length\" : 0,\"weight\" : 0,\"color\" : \"\",\"invisible\" : false,\"target\" : \"F241\"},\"F344\" : {\"id\" : \"F344\",\"source\" : \"F248\",\"length\" : 0,\"weight\" : 0,\"color\" : \"\",\"invisible\" : false,\"target\" : \"F242\"},\"F345\" : {\"id\" : \"F345\",\"source\" : \"F248\",\"length\" : 0,\"weight\" : 0,\"color\" : \"\",\"invisible\" : false,\"target\" : \"F243\"}}},\"messages\" : {}}}"
     },
     "execution_count": 30,
     "metadata": {
      "application/vnd.francy+json": {}
     },
     "output_type": "execute_result"
    }
   ],
   "source": [
    "DisplayLatticeSubgroups := function(L)\n",
    "    local cls, len, sz, max, rep, z, t, i, j, k, graphHasse, nodes, last;\n",
    "    cls:=ConjugacyClassesSubgroups(L);\n",
    "    len:=[];\n",
    "    sz:=[];\n",
    "    for i in cls do\n",
    "        Add(len,Size(i));\n",
    "        AddSet(sz,Size(Representative(i)));\n",
    "    od;\n",
    "\n",
    "    graphHasse := Graph(GraphType.UNDIRECTED);\n",
    "#SetShowNeighbours(graphHasse,true);\n",
    "\n",
    "    nodes := [];\n",
    "    sz:=Reversed(sz);\n",
    "    # subgroup nodes, also acccording to size\n",
    "    for i in [1..Length(cls)] do\n",
    "        nodes[i] := [];\n",
    "        for j in [1..len[i]] do\n",
    "            if len[i]=1 then\n",
    "                nodes[i][j] := Shape(ShapeType.DIAMOND, String(i));\n",
    "                SetLayer(nodes[i][j], -Size(Representative(cls[i])));\n",
    "                # AppendTo(file,\"\\\"\",i,\"x\",j,\"\\\" [label=\\\"\",i,\"\\\", shape=box];\\n\");\n",
    "            else\n",
    "                nodes[i][j] := Shape(ShapeType.CIRCLE, String(i));\n",
    "                SetLayer(nodes[i][j], -Size(Representative(cls[i])));\n",
    "                # AppendTo(file,\"\\\"\",i,\"x\",j,\"\\\" [label=\\\"\",i,\"-\",j,\"\\\", shape=circle];\\n\");\n",
    "            fi;\n",
    "            Add(graphHasse, nodes[i][j]);\n",
    "        od;\n",
    "    od;\n",
    "\n",
    "    last:=rec(o:=0,n:=0);\n",
    "    for i in [1..Length(cls)] do\n",
    "        for j in [1..len[i]] do\n",
    "            if Layer(nodes[i][j]) <> last.o then\n",
    "                last.o := Layer(nodes[i][j]);\n",
    "                last.n := last.n - 2;\n",
    "            fi;\n",
    "            SetLayer(nodes[i][j], last.n);\n",
    "        od;\n",
    "    od;\n",
    "\n",
    "    max:=MaximalSubgroupsLattice(L);\n",
    "    for i in [1..Length(cls)] do\n",
    "        for j in max[i] do\n",
    "            rep:=ClassElementLattice(cls[i],1);\n",
    "            for k in [1..len[i]] do\n",
    "                if k=1 then\n",
    "                    z:=j[2];\n",
    "                else\n",
    "                    t:=cls[i]!.normalizerTransversal[k];\n",
    "                    z:=ClassElementLattice(cls[j[1]],1); # force computation of transv.\n",
    "                    z:=cls[j[1]]!.normalizerTransversal[j[2]]*t;\n",
    "                    z:=PositionCanonical(cls[j[1]]!.normalizerTransversal,z);\n",
    "                fi;\n",
    "                Add(graphHasse, Link(nodes[i][k],nodes[j[1]][z]));\n",
    "          od;\n",
    "        od;\n",
    "      od;\n",
    "    return graphHasse;\n",
    "end;;\n",
    "L:=LatticeSubgroups(DihedralGroup(44));;\n",
    "canvas := Canvas(\"Lattice Subgroups\");;\n",
    "Add(canvas, DisplayLatticeSubgroups(L));;\n",
    "Draw(canvas);"
   ]
  },
  {
   "cell_type": "markdown",
   "metadata": {},
   "source": [
    "## Digraphs"
   ]
  },
  {
   "cell_type": "code",
   "execution_count": 44,
   "metadata": {},
   "outputs": [
    {
     "data": {
      "application/vnd.francy+json": "{\"version\" : \"0.8.4\",\"mime\" : \"application\\/vnd.francy+json\",\"canvas\" : {\"width\" : 800,\"id\" : \"F412\",\"height\" : 600,\"title\" : \"Subgroups Digraph of Group( [ f1, f2, f3 ] )\",\"zoomToFit\" : true,\"texTypesetting\" : false,\"menus\" : {},\"graph\" : {\"type\" : \"directed\",\"id\" : \"F346\",\"simulation\" : true,\"collapsed\" : true,\"drag\" : false,\"showNeighbours\" : false,\"nodes\" : {\"F348\" : {\"x\" : 0,\"y\" : 0,\"type\" : \"circle\",\"id\" : \"F348\",\"size\" : 10,\"title\" : \"1\",\"color\" : \"#0c9460\",\"layer\" : 0,\"parent\" : \"\",\"menus\" : {\"F350\" : {\"id\" : \"F350\",\"title\" : \"Is this subgroup simple?\",\"callback\" : {\"func\" : \"IsGroupSimple\",\"id\" : \"F349\",\"trigger\" : \"click\",\"knownArgs\" : [\"1\"],\"requiredArgs\" : {}},\"menus\" : {}}},\"messages\" : {},\"callbacks\" : {}},\"F351\" : {\"x\" : 0,\"y\" : 0,\"type\" : \"circle\",\"id\" : \"F351\",\"size\" : 10,\"title\" : \"2\",\"color\" : \"#0c9460\",\"layer\" : 0,\"parent\" : \"\",\"menus\" : {\"F353\" : {\"id\" : \"F353\",\"title\" : \"Is this subgroup simple?\",\"callback\" : {\"func\" : \"IsGroupSimple\",\"id\" : \"F352\",\"trigger\" : \"click\",\"knownArgs\" : [\"2\"],\"requiredArgs\" : {}},\"menus\" : {}}},\"messages\" : {},\"callbacks\" : {}},\"F354\" : {\"x\" : 0,\"y\" : 0,\"type\" : \"circle\",\"id\" : \"F354\",\"size\" : 10,\"title\" : \"3\",\"color\" : \"#0c9460\",\"layer\" : 0,\"parent\" : \"\",\"menus\" : {\"F356\" : {\"id\" : \"F356\",\"title\" : \"Is this subgroup simple?\",\"callback\" : {\"func\" : \"IsGroupSimple\",\"id\" : \"F355\",\"trigger\" : \"click\",\"knownArgs\" : [\"3\"],\"requiredArgs\" : {}},\"menus\" : {}}},\"messages\" : {},\"callbacks\" : {}},\"F357\" : {\"x\" : 0,\"y\" : 0,\"type\" : \"circle\",\"id\" : \"F357\",\"size\" : 10,\"title\" : \"4\",\"color\" : \"#0c9460\",\"layer\" : 0,\"parent\" : \"\",\"menus\" : {\"F359\" : {\"id\" : \"F359\",\"title\" : \"Is this subgroup simple?\",\"callback\" : {\"func\" : \"IsGroupSimple\",\"id\" : \"F358\",\"trigger\" : \"click\",\"knownArgs\" : [\"4\"],\"requiredArgs\" : {}},\"menus\" : {}}},\"messages\" : {},\"callbacks\" : {}},\"F360\" : {\"x\" : 0,\"y\" : 0,\"type\" : \"circle\",\"id\" : \"F360\",\"size\" : 10,\"title\" : \"5\",\"color\" : \"#0c9460\",\"layer\" : 0,\"parent\" : \"\",\"menus\" : {\"F362\" : {\"id\" : \"F362\",\"title\" : \"Is this subgroup simple?\",\"callback\" : {\"func\" : \"IsGroupSimple\",\"id\" : \"F361\",\"trigger\" : \"click\",\"knownArgs\" : [\"5\"],\"requiredArgs\" : {}},\"menus\" : {}}},\"messages\" : {},\"callbacks\" : {}},\"F363\" : {\"x\" : 0,\"y\" : 0,\"type\" : \"circle\",\"id\" : \"F363\",\"size\" : 10,\"title\" : \"6\",\"color\" : \"#0c9460\",\"layer\" : 0,\"parent\" : \"\",\"menus\" : {\"F365\" : {\"id\" : \"F365\",\"title\" : \"Is this subgroup simple?\",\"callback\" : {\"func\" : \"IsGroupSimple\",\"id\" : \"F364\",\"trigger\" : \"click\",\"knownArgs\" : [\"6\"],\"requiredArgs\" : {}},\"menus\" : {}}},\"messages\" : {},\"callbacks\" : {}},\"F366\" : {\"x\" : 0,\"y\" : 0,\"type\" : \"circle\",\"id\" : \"F366\",\"size\" : 10,\"title\" : \"7\",\"color\" : \"#0c9460\",\"layer\" : 0,\"parent\" : \"\",\"menus\" : {\"F368\" : {\"id\" : \"F368\",\"title\" : \"Is this subgroup simple?\",\"callback\" : {\"func\" : \"IsGroupSimple\",\"id\" : \"F367\",\"trigger\" : \"click\",\"knownArgs\" : [\"7\"],\"requiredArgs\" : {}},\"menus\" : {}}},\"messages\" : {},\"callbacks\" : {}},\"F369\" : {\"x\" : 0,\"y\" : 0,\"type\" : \"circle\",\"id\" : \"F369\",\"size\" : 10,\"title\" : \"8\",\"color\" : \"#0c9460\",\"layer\" : 0,\"parent\" : \"\",\"menus\" : {\"F371\" : {\"id\" : \"F371\",\"title\" : \"Is this subgroup simple?\",\"callback\" : {\"func\" : \"IsGroupSimple\",\"id\" : \"F370\",\"trigger\" : \"click\",\"knownArgs\" : [\"8\"],\"requiredArgs\" : {}},\"menus\" : {}}},\"messages\" : {},\"callbacks\" : {}},\"F372\" : {\"x\" : 0,\"y\" : 0,\"type\" : \"circle\",\"id\" : \"F372\",\"size\" : 10,\"title\" : \"9\",\"color\" : \"#0c9460\",\"layer\" : 0,\"parent\" : \"\",\"menus\" : {\"F374\" : {\"id\" : \"F374\",\"title\" : \"Is this subgroup simple?\",\"callback\" : {\"func\" : \"IsGroupSimple\",\"id\" : \"F373\",\"trigger\" : \"click\",\"knownArgs\" : [\"9\"],\"requiredArgs\" : {}},\"menus\" : {}}},\"messages\" : {},\"callbacks\" : {}},\"F375\" : {\"x\" : 0,\"y\" : 0,\"type\" : \"circle\",\"id\" : \"F375\",\"size\" : 10,\"title\" : \"10\",\"color\" : \"#0c9460\",\"layer\" : 0,\"parent\" : \"\",\"menus\" : {\"F377\" : {\"id\" : \"F377\",\"title\" : \"Is this subgroup simple?\",\"callback\" : {\"func\" : \"IsGroupSimple\",\"id\" : \"F376\",\"trigger\" : \"click\",\"knownArgs\" : [\"10\"],\"requiredArgs\" : {}},\"menus\" : {}}},\"messages\" : {},\"callbacks\" : {}}},\"links\" : {\"F378\" : {\"id\" : \"F378\",\"source\" : \"F348\",\"length\" : 0,\"weight\" : 0,\"color\" : \"\",\"invisible\" : false,\"target\" : \"F348\"},\"F379\" : {\"id\" : \"F379\",\"source\" : \"F351\",\"length\" : 0,\"weight\" : 0,\"color\" : \"\",\"invisible\" : false,\"target\" : \"F348\"},\"F380\" : {\"id\" : \"F380\",\"source\" : \"F351\",\"length\" : 0,\"weight\" : 0,\"color\" : \"\",\"invisible\" : false,\"target\" : \"F351\"},\"F381\" : {\"id\" : \"F381\",\"source\" : \"F354\",\"length\" : 0,\"weight\" : 0,\"color\" : \"\",\"invisible\" : false,\"target\" : \"F348\"},\"F382\" : {\"id\" : \"F382\",\"source\" : \"F354\",\"length\" : 0,\"weight\" : 0,\"color\" : \"\",\"invisible\" : false,\"target\" : \"F354\"},\"F383\" : {\"id\" : \"F383\",\"source\" : \"F357\",\"length\" : 0,\"weight\" : 0,\"color\" : \"\",\"invisible\" : false,\"target\" : \"F348\"},\"F384\" : {\"id\" : \"F384\",\"source\" : \"F357\",\"length\" : 0,\"weight\" : 0,\"color\" : \"\",\"invisible\" : false,\"target\" : \"F357\"},\"F385\" : {\"id\" : \"F385\",\"source\" : \"F360\",\"length\" : 0,\"weight\" : 0,\"color\" : \"\",\"invisible\" : false,\"target\" : \"F348\"},\"F386\" : {\"id\" : \"F386\",\"source\" : \"F360\",\"length\" : 0,\"weight\" : 0,\"color\" : \"\",\"invisible\" : false,\"target\" : \"F360\"},\"F387\" : {\"id\" : \"F387\",\"source\" : \"F363\",\"length\" : 0,\"weight\" : 0,\"color\" : \"\",\"invisible\" : false,\"target\" : \"F348\"},\"F388\" : {\"id\" : \"F388\",\"source\" : \"F363\",\"length\" : 0,\"weight\" : 0,\"color\" : \"\",\"invisible\" : false,\"target\" : \"F363\"},\"F389\" : {\"id\" : \"F389\",\"source\" : \"F366\",\"length\" : 0,\"weight\" : 0,\"color\" : \"\",\"invisible\" : false,\"target\" : \"F348\"},\"F390\" : {\"id\" : \"F390\",\"source\" : \"F366\",\"length\" : 0,\"weight\" : 0,\"color\" : \"\",\"invisible\" : false,\"target\" : \"F351\"},\"F391\" : {\"id\" : \"F391\",\"source\" : \"F366\",\"length\" : 0,\"weight\" : 0,\"color\" : \"\",\"invisible\" : false,\"target\" : \"F354\"},\"F392\" : {\"id\" : \"F392\",\"source\" : \"F366\",\"length\" : 0,\"weight\" : 0,\"color\" : \"\",\"invisible\" : false,\"target\" : \"F357\"},\"F393\" : {\"id\" : \"F393\",\"source\" : \"F366\",\"length\" : 0,\"weight\" : 0,\"color\" : \"\",\"invisible\" : false,\"target\" : \"F366\"},\"F394\" : {\"id\" : \"F394\",\"source\" : \"F369\",\"length\" : 0,\"weight\" : 0,\"color\" : \"\",\"invisible\" : false,\"target\" : \"F348\"},\"F395\" : {\"id\" : \"F395\",\"source\" : \"F369\",\"length\" : 0,\"weight\" : 0,\"color\" : \"\",\"invisible\" : false,\"target\" : \"F351\"},\"F396\" : {\"id\" : \"F396\",\"source\" : \"F369\",\"length\" : 0,\"weight\" : 0,\"color\" : \"\",\"invisible\" : false,\"target\" : \"F369\"},\"F397\" : {\"id\" : \"F397\",\"source\" : \"F372\",\"length\" : 0,\"weight\" : 0,\"color\" : \"\",\"invisible\" : false,\"target\" : \"F348\"},\"F398\" : {\"id\" : \"F398\",\"source\" : \"F372\",\"length\" : 0,\"weight\" : 0,\"color\" : \"\",\"invisible\" : false,\"target\" : \"F351\"},\"F399\" : {\"id\" : \"F399\",\"source\" : \"F372\",\"length\" : 0,\"weight\" : 0,\"color\" : \"\",\"invisible\" : false,\"target\" : \"F360\"},\"F400\" : {\"id\" : \"F400\",\"source\" : \"F372\",\"length\" : 0,\"weight\" : 0,\"color\" : \"\",\"invisible\" : false,\"target\" : \"F363\"},\"F401\" : {\"id\" : \"F401\",\"source\" : \"F372\",\"length\" : 0,\"weight\" : 0,\"color\" : \"\",\"invisible\" : false,\"target\" : \"F372\"},\"F402\" : {\"id\" : \"F402\",\"source\" : \"F375\",\"length\" : 0,\"weight\" : 0,\"color\" : \"\",\"invisible\" : false,\"target\" : \"F348\"},\"F403\" : {\"id\" : \"F403\",\"source\" : \"F375\",\"length\" : 0,\"weight\" : 0,\"color\" : \"\",\"invisible\" : false,\"target\" : \"F351\"},\"F404\" : {\"id\" : \"F404\",\"source\" : \"F375\",\"length\" : 0,\"weight\" : 0,\"color\" : \"\",\"invisible\" : false,\"target\" : \"F354\"},\"F405\" : {\"id\" : \"F405\",\"source\" : \"F375\",\"length\" : 0,\"weight\" : 0,\"color\" : \"\",\"invisible\" : false,\"target\" : \"F357\"},\"F406\" : {\"id\" : \"F406\",\"source\" : \"F375\",\"length\" : 0,\"weight\" : 0,\"color\" : \"\",\"invisible\" : false,\"target\" : \"F360\"},\"F407\" : {\"id\" : \"F407\",\"source\" : \"F375\",\"length\" : 0,\"weight\" : 0,\"color\" : \"\",\"invisible\" : false,\"target\" : \"F363\"},\"F408\" : {\"id\" : \"F408\",\"source\" : \"F375\",\"length\" : 0,\"weight\" : 0,\"color\" : \"\",\"invisible\" : false,\"target\" : \"F366\"},\"F409\" : {\"id\" : \"F409\",\"source\" : \"F375\",\"length\" : 0,\"weight\" : 0,\"color\" : \"\",\"invisible\" : false,\"target\" : \"F369\"},\"F410\" : {\"id\" : \"F410\",\"source\" : \"F375\",\"length\" : 0,\"weight\" : 0,\"color\" : \"\",\"invisible\" : false,\"target\" : \"F372\"},\"F411\" : {\"id\" : \"F411\",\"source\" : \"F375\",\"length\" : 0,\"weight\" : 0,\"color\" : \"\",\"invisible\" : false,\"target\" : \"F375\"}}},\"messages\" : {}}}"
     },
     "execution_count": 44,
     "metadata": {
      "application/vnd.francy+json": {}
     },
     "output_type": "execute_result"
    }
   ],
   "source": [
    "G := DihedralGroup(8);; #SymmetricGroup(5);; #FreeGroup( \"a\", \"b\" );;\n",
    "as := AllSubgroups(G);;\n",
    "d := Digraph(as, {H, K} -> IsSubgroup(H, K));;\n",
    "\n",
    "vertices := DigraphVertices(d);;\n",
    "edges := DigraphEdges(d);;\n",
    "\n",
    "graph := Graph(GraphType.DIRECTED);;\n",
    "#SetDrag(graph, true);;\n",
    "nodes := [];;\n",
    "\n",
    "simpleGroupMessage := FrancyMessage(FrancyMessageType.INFO, \"Simple Groups\", \"A group is simple if it is nontrivial and has no nontrivial normal subgroups.\");;\n",
    "\n",
    "IsGroupSimple := function(i)\n",
    "    Add(canvas, simpleGroupMessage);;\n",
    "    if IsSimpleGroup(as[i]) then\n",
    "        Add(canvas, FrancyMessage(\"Simple\", Concatenation(\"The vertex \", String(i), \", representing the subgroup \", String(as[i]), \", is simple.\")));;\n",
    "    else\n",
    "        Add(canvas, FrancyMessage(\"Not Simple\", Concatenation(\"The vertex \", String(i), \", representing the subgroup \", String(as[i]), \", is not simple.\")));;\n",
    "    fi;;\n",
    "    return Draw(canvas);\n",
    "end;;\n",
    "    \n",
    "for i in vertices do;\n",
    "    nodes[i] := Shape(ShapeType.CIRCLE, String(i));;\n",
    "    SetColor(nodes[i], \"#0c9460\");;\n",
    "    Add(nodes[i], Menu(\"Is this subgroup simple?\", Callback(IsGroupSimple, [i])));;\n",
    "    Add(graph, nodes[i]);;\n",
    "od;;\n",
    "\n",
    "for i in edges do\n",
    "    Add(graph, Link(nodes[i[1]], nodes[i[2]]));;\n",
    "od;;\n",
    "\n",
    "canvas := Canvas(Concatenation(\"Subgroups Digraph of \", String(G)));;\n",
    "Add(canvas, graph);;\n",
    "Draw(canvas);"
   ]
  }
 ],
 "metadata": {
  "celltoolbar": "Raw Cell Format",
  "kernelspec": {
   "display_name": "GAP 4 (native)",
   "language": "gap",
   "name": "gap-native"
  },
  "language_info": {
   "codemirror_mode": "gap",
   "file_extension": ".g",
   "mimetype": "text/x-gap",
   "name": "GAP (native)",
   "nbconvert_exporter": "",
   "pygments_lexer": "gap",
   "version": "4.dev"
  }
 },
 "nbformat": 4,
 "nbformat_minor": 2
}
