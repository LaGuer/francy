{
 "cells": [
  {
   "cell_type": "markdown",
   "metadata": {},
   "source": [
    " "
   ]
  },
  {
   "cell_type": "markdown",
   "metadata": {},
   "source": [
    "<hr/>\n",
    "<div style=\"display: block; margin: 50px 0 50px 0; margin-left: 5%\">\n",
    "<h1 style=\"text-align: left;\">Francy - An Interactive Discrete Mathematics Framework for GAP</h1>\n",
    "</div>"
   ]
  },
  {
   "cell_type": "markdown",
   "metadata": {},
   "source": [
    "<hr/>\n",
    "<div style=\"display: block; margin: 50px 0 50px 0\">\n",
    "    <div style=\"text-align: left; float: left;\">\n",
    "        <h2>Manuel Martins</h2>\n",
    "        <h3>Universidade Aberta, Lisbon - Portugal</h3>\n",
    "        <h4>manuelmachadomartins@gmail.com</h4>\n",
    "    </div>\n",
    "    <div style=\"text-align: left; float: right;\">\n",
    "        <h2>Markus Pfeiffer</h2>\n",
    "        <h3>University of St Andrews, St Andrews - Scotland</h3>\n",
    "        <h4>markus.pfeiffer@morphism.de</h4>\n",
    "    </div>\n",
    "</div>"
   ]
  },
  {
   "cell_type": "markdown",
   "metadata": {},
   "source": [
    "<hr/>\n",
    "<div style=\"display: block; margin: 50px 0 50px 0\">\n",
    "<h1 style=\"text-align: center\">Agenda</h1>\n",
    "\n",
    "<h3>\n",
    "    <ol type=\"1\">\n",
    "    <li>Motivation</li>\n",
    "    <li>Solution</li>\n",
    "    <li>Features</li>\n",
    "    <li>Hands-on</li>\n",
    "    <li>Future</li>\n",
    "    </ol>\n",
    "</h3>\n",
    "</div>"
   ]
  },
  {
   "cell_type": "markdown",
   "metadata": {},
   "source": [
    "<hr/>\n",
    "<div style=\"display: block; margin: 50px 0 50px 0\">\n",
    "<h1 style=\"text-align: center\">1. Motivation</h1>\n",
    "\n",
    "<h3><ul><li>Francy arose from the necessity of having a lightweight framework for building interactive graphics, generated from GAP, running primarily on the web, primarily in a Jupyter Notebook.</li></ul></h3>\n",
    "\n",
    "<h2 style=\"text-align: left; margin-left: 10%\">1.1 What is Francy?</h2>\n",
    "\n",
    "<h3>\n",
    "<ul>\n",
    "    <li>an interface to draw graphics using objects;</li>\n",
    "    <li>is based on simple concepts of drawing and graph theory;</li>\n",
    "    <li>consists of two main components:</li>\n",
    "    <ol type=\"1\">\n",
    "        <li>a GAP package that is responsible for the semantic representation of graphics;</li>\n",
    "        <li>a GUI library that is responsible for generating the actual interactive graphical representation.</li>\n",
    "    </ol>\n",
    "</ul>\n",
    "</h3>\n",
    "</div>"
   ]
  },
  {
   "cell_type": "markdown",
   "metadata": {},
   "source": [
    "<hr/>\n",
    "<div style=\"display: block; margin: 50px 0 50px 0\">\n",
    "<h1 style=\"text-align: center\">2. Solution</h1>\n",
    "\n",
    "<h2 style=\"text-align: left; margin-left: 10%\">2.1 GAP Package</h2>\n",
    "\n",
    "<h3>\n",
    "<ul>\n",
    "    <li>Provides a semantic representation of graphics is provided by a thin layer.</li>\n",
    "    <li>Uses JSON, a lightweight, text-based, language-independent data interchange format.</li>\n",
    "    <li>Follows a JSON Schema, and is identified with the application/vnd.francy+json MIME type.</li>\n",
    "</ul>\n",
    "</h3>\n",
    "\n",
    "<h2 style=\"text-align: left; margin-left: 10%\">2.2 GUI Library - Javascript</h2>\n",
    "\n",
    "<h3>\n",
    "<ul>\n",
    "    <li>Based on d3.js, for rendering the semantic representation produced by the GAP package;</li>\n",
    "    <li>This library is distributed both as a browser module and as a Jupyter extension.</li>\n",
    "</ul>\n",
    "</h3>\n",
    "\n",
    "<h2 style=\"text-align: left; margin-left: 10%\">2.3 Jupyter GAP Kernel</h2>\n",
    "\n",
    "<h3>\n",
    "<ul>\n",
    "    <li>Pure GAP package that implements the Jupyter Kernel specification;</li>\n",
    "    <li>\"Glues\" everything together.</li>\n",
    "</ul>\n",
    "</h3>\n",
    "\n",
    "<h3>\n",
    "The Jupyter extension can be used in Jupyter Notebooks or Jupyter Lab, using the Jupyter GAP Kernel and the MIME type application/vnd.francy+json to render the document.\n",
    "</h3>\n",
    "<h3>\n",
    "This creates an abstraction and allows the development of new GUI libraries, \n",
    "using different data rendering dependencies or even different programming languages, independently of the GAP package.\n",
    "</h3>\n",
    "</div>"
   ]
  },
  {
   "cell_type": "markdown",
   "metadata": {},
   "source": [
    "<hr/>\n",
    "<div style=\"display: block; margin: 50px 0 50px 0\">\n",
    "<h1 style=\"text-align: center\">3. Features</h1>\n",
    "\n",
    "<h3>\n",
    "<ul>\n",
    "    <li>allows the creation of directed and undirected graphs, trees, line charts, bar charts and scatter charts;</li>\n",
    "    <li>enables interaction with graphical objects by clicking, selecting, dragging and zooming;</li>\n",
    "</ul>\n",
    "</h3>\n",
    "\n",
    "</div>"
   ]
  },
  {
   "cell_type": "markdown",
   "metadata": {},
   "source": [
    "<hr/>\n",
    "<div style=\"display: block; margin: 50px 0 50px 0\">\n",
    "<h1 style=\"text-align: center\">4. Hands-on</h1>\n",
    "</div>"
   ]
  },
  {
   "cell_type": "code",
   "execution_count": 12,
   "metadata": {},
   "outputs": [
    {
     "data": {
      "text/plain": [
       "true"
      ]
     },
     "execution_count": 11,
     "metadata": {
      "text/plain": ""
     },
     "output_type": "execute_result"
    },
    {
     "data": {
      "text/plain": [
       "true"
      ]
     },
     "execution_count": 12,
     "metadata": {
      "text/plain": ""
     },
     "output_type": "execute_result"
    }
   ],
   "source": [
    "LoadPackage(\"francy\");\n",
    "LoadPackage(\"digraph\");"
   ]
  },
  {
   "cell_type": "code",
   "execution_count": 13,
   "metadata": {},
   "outputs": [
    {
     "data": {
      "text/plain": [
       "function( G ) ... end"
      ]
     },
     "execution_count": 13,
     "metadata": {
      "text/plain": ""
     },
     "output_type": "execute_result"
    }
   ],
   "source": [
    "FrancyDigraphs := function(G)\n",
    "    local as, d, v, e, graph, nodes, m, IsGroupSimple, canvas, i;\n",
    "\n",
    "    as := AllSubgroups(G);;\n",
    "\n",
    "    d := Digraph(as, {H, K} -> IsSubgroup(H, K));;\n",
    "    v := DigraphVertices(d);;\n",
    "    e := DigraphEdges(d);;\n",
    "\n",
    "    graph := Graph(GraphType.DIRECTED);;\n",
    "    canvas := Canvas(Concatenation(\"Subgroups Digraph of \", String(G)));;\n",
    "    Add(canvas, graph);;\n",
    "\n",
    "    nodes := [];;\n",
    "\n",
    "    m := FrancyMessage(FrancyMessageType.INFO, \"Simple Groups\", \n",
    "        \"A group is simple if it is nontrivial and has no nontrivial normal subgroups.\");;\n",
    "    \n",
    "    IsGroupSimple := function(i)\n",
    "        Add(canvas, m);;\n",
    "        if IsSimpleGroup(as[i]) then\n",
    "            Add(canvas, FrancyMessage(\"Simple\", Concatenation(\"The vertex \", \n",
    "                String(i), \", representing the subgroup \", String(as[i]), \", is simple.\")));;\n",
    "        else\n",
    "            Add(canvas, FrancyMessage(\"Not Simple\", Concatenation(\"The vertex \", \n",
    "                String(i), \", representing the subgroup \", String(as[i]), \", is not simple.\")));;\n",
    "        fi;;\n",
    "        return Draw(canvas);\n",
    "    end;;\n",
    "\n",
    "    for i in v do;\n",
    "        nodes[i] := Shape(ShapeType.CIRCLE, String(i));;\n",
    "        Add(nodes[i], Menu(\"Simple\", Callback(IsGroupSimple, [i])));;\n",
    "        Add(graph, nodes[i]);;\n",
    "    od;;\n",
    "\n",
    "    for i in e do\n",
    "        Add(graph, Link(nodes[i[1]], nodes[i[2]]));;\n",
    "    od;;\n",
    "\n",
    "    return Draw(canvas);\n",
    "end;"
   ]
  },
  {
   "cell_type": "code",
   "execution_count": 15,
   "metadata": {},
   "outputs": [
    {
     "data": {
      "text/plain": [
       "<group of size 4 with 2 generators>"
      ]
     },
     "execution_count": 14,
     "metadata": {
      "text/plain": ""
     },
     "output_type": "execute_result"
    },
    {
     "data": {
      "application/vnd.francy+json": "{\"version\" : \"0.8.0\",\"mime\" : \"application\\/vnd.francy+json\",\"canvas\" : {\"width\" : 800,\"id\" : \"F63\",\"height\" : 600,\"title\" : \"Subgroups Digraph of Group( [ f1, f2 ] )\",\"zoomToFit\" : true,\"texTypesetting\" : false,\"menus\" : {},\"graph\" : {\"type\" : \"directed\",\"id\" : \"F62\",\"simulation\" : true,\"collapsed\" : true,\"drag\" : false,\"showNeighbours\" : false,\"nodes\" : {\"F65\" : {\"x\" : 0,\"y\" : 0,\"type\" : \"circle\",\"id\" : \"F65\",\"size\" : 10,\"title\" : \"1\",\"color\" : \"\",\"layer\" : 0,\"parent\" : \"\",\"menus\" : {\"F67\" : {\"id\" : \"F67\",\"title\" : \"Simple\",\"callback\" : {\"func\" : \"unknown\",\"id\" : \"F66\",\"trigger\" : \"click\",\"knownArgs\" : [\"1\"],\"requiredArgs\" : {}},\"menus\" : {}}},\"messages\" : {},\"callbacks\" : {}},\"F68\" : {\"x\" : 0,\"y\" : 0,\"type\" : \"circle\",\"id\" : \"F68\",\"size\" : 10,\"title\" : \"2\",\"color\" : \"\",\"layer\" : 0,\"parent\" : \"\",\"menus\" : {\"F70\" : {\"id\" : \"F70\",\"title\" : \"Simple\",\"callback\" : {\"func\" : \"unknown\",\"id\" : \"F69\",\"trigger\" : \"click\",\"knownArgs\" : [\"2\"],\"requiredArgs\" : {}},\"menus\" : {}}},\"messages\" : {},\"callbacks\" : {}},\"F71\" : {\"x\" : 0,\"y\" : 0,\"type\" : \"circle\",\"id\" : \"F71\",\"size\" : 10,\"title\" : \"3\",\"color\" : \"\",\"layer\" : 0,\"parent\" : \"\",\"menus\" : {\"F73\" : {\"id\" : \"F73\",\"title\" : \"Simple\",\"callback\" : {\"func\" : \"unknown\",\"id\" : \"F72\",\"trigger\" : \"click\",\"knownArgs\" : [\"3\"],\"requiredArgs\" : {}},\"menus\" : {}}},\"messages\" : {},\"callbacks\" : {}},\"F74\" : {\"x\" : 0,\"y\" : 0,\"type\" : \"circle\",\"id\" : \"F74\",\"size\" : 10,\"title\" : \"4\",\"color\" : \"\",\"layer\" : 0,\"parent\" : \"\",\"menus\" : {\"F76\" : {\"id\" : \"F76\",\"title\" : \"Simple\",\"callback\" : {\"func\" : \"unknown\",\"id\" : \"F75\",\"trigger\" : \"click\",\"knownArgs\" : [\"4\"],\"requiredArgs\" : {}},\"menus\" : {}}},\"messages\" : {},\"callbacks\" : {}},\"F77\" : {\"x\" : 0,\"y\" : 0,\"type\" : \"circle\",\"id\" : \"F77\",\"size\" : 10,\"title\" : \"5\",\"color\" : \"\",\"layer\" : 0,\"parent\" : \"\",\"menus\" : {\"F79\" : {\"id\" : \"F79\",\"title\" : \"Simple\",\"callback\" : {\"func\" : \"unknown\",\"id\" : \"F78\",\"trigger\" : \"click\",\"knownArgs\" : [\"5\"],\"requiredArgs\" : {}},\"menus\" : {}}},\"messages\" : {},\"callbacks\" : {}}},\"links\" : {\"F80\" : {\"id\" : \"F80\",\"source\" : \"F65\",\"weight\" : 1,\"color\" : \"\",\"target\" : \"F65\"},\"F81\" : {\"id\" : \"F81\",\"source\" : \"F68\",\"weight\" : 1,\"color\" : \"\",\"target\" : \"F65\"},\"F82\" : {\"id\" : \"F82\",\"source\" : \"F68\",\"weight\" : 1,\"color\" : \"\",\"target\" : \"F68\"},\"F83\" : {\"id\" : \"F83\",\"source\" : \"F71\",\"weight\" : 1,\"color\" : \"\",\"target\" : \"F65\"},\"F84\" : {\"id\" : \"F84\",\"source\" : \"F71\",\"weight\" : 1,\"color\" : \"\",\"target\" : \"F71\"},\"F85\" : {\"id\" : \"F85\",\"source\" : \"F74\",\"weight\" : 1,\"color\" : \"\",\"target\" : \"F65\"},\"F86\" : {\"id\" : \"F86\",\"source\" : \"F74\",\"weight\" : 1,\"color\" : \"\",\"target\" : \"F74\"},\"F87\" : {\"id\" : \"F87\",\"source\" : \"F77\",\"weight\" : 1,\"color\" : \"\",\"target\" : \"F65\"},\"F88\" : {\"id\" : \"F88\",\"source\" : \"F77\",\"weight\" : 1,\"color\" : \"\",\"target\" : \"F68\"},\"F89\" : {\"id\" : \"F89\",\"source\" : \"F77\",\"weight\" : 1,\"color\" : \"\",\"target\" : \"F71\"},\"F90\" : {\"id\" : \"F90\",\"source\" : \"F77\",\"weight\" : 1,\"color\" : \"\",\"target\" : \"F74\"},\"F91\" : {\"id\" : \"F91\",\"source\" : \"F77\",\"weight\" : 1,\"color\" : \"\",\"target\" : \"F77\"}}},\"messages\" : {}}}"
     },
     "execution_count": 15,
     "metadata": {
      "application/vnd.francy+json": {}
     },
     "output_type": "execute_result"
    }
   ],
   "source": [
    "G := DihedralGroup(4);\n",
    "FrancyDigraphs(G);"
   ]
  },
  {
   "cell_type": "markdown",
   "metadata": {},
   "source": [
    "<h2 style=\"text-align: left; margin-left: 10%\">4.1 More examples</h2>\n",
    "\n",
    "<h3>Try these notebooks:</h3>\n",
    "\n",
    "1. [Francy Features](francy-features.ipynb)\n",
    "2. [Subgroup Lattice](subgroup-lattice.ipynb)\n",
    "3. [Francy Monoids](francy-monoids.ipynb)"
   ]
  },
  {
   "cell_type": "markdown",
   "metadata": {},
   "source": [
    "<hr/>\n",
    "<div style=\"display: block; margin: 50px 0 50px 0\">\n",
    "<h1 style=\"text-align: center\">5. Future</h1>\n",
    "\n",
    "Many other interactive features can be implemented providing a richer learning environment. Features such as rendering multiple topological graphs on the same canvas would allow, for instance, easier comparison of data structures. Other ways for users to input data would provide a more intuitive user experience.\n",
    "\n",
    "Packages such as the Francy-Monoids [21], Subgroup Lattice [22] and the Interactive Todd-Coxeter [23] still need to be polished and finished.\n",
    "\n",
    "At the moment, the semantic model produced is not being validated against the JSON Schema [12]. This can be addressed in the future by extending the actual JSON package and implement the JSON Schema specification for validation of documents.\n",
    "\n",
    "It would also be beneficial moving some of the processing JavaScript code into Web Workers [24], such that rendering of huge structures does not block the web page.\n",
    "\n",
    "</div>"
   ]
  },
  {
   "cell_type": "markdown",
   "metadata": {},
   "source": [
    "<hr/>\n",
    "<div style=\"display: block; margin: 50px 0 50px 0\">\n",
    "<h1 style=\"text-align: center\">Questions?</h1>\n",
    "<br/>\n",
    "<h1 style=\"margin-left: 10%\">Thanks!</h1>\n",
    "</div>"
   ]
  },
  {
   "cell_type": "code",
   "execution_count": null,
   "metadata": {},
   "outputs": [],
   "source": []
  }
 ],
 "metadata": {
  "kernelspec": {
   "display_name": "GAP 4 (native)",
   "language": "gap",
   "name": "gap-native"
  },
  "language_info": {
   "codemirror_mode": "gap",
   "file_extension": ".g",
   "mimetype": "text/x-gap",
   "name": "GAP (native)",
   "nbconvert_exporter": "",
   "pygments_lexer": "gap",
   "version": "4.dev"
  }
 },
 "nbformat": 4,
 "nbformat_minor": 2
}
