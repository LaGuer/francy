{
 "cells": [
  {
   "cell_type": "code",
   "execution_count": null,
   "metadata": {},
   "outputs": [],
   "source": [
    "LoadPackage(\"FrancyMonoids\");"
   ]
  },
  {
   "cell_type": "markdown",
   "metadata": {},
   "source": [
    "## Trees"
   ]
  },
  {
   "cell_type": "code",
   "execution_count": null,
   "metadata": {},
   "outputs": [],
   "source": [
    "s:=NumericalSemigroup(1);"
   ]
  },
  {
   "cell_type": "markdown",
   "metadata": {},
   "source": [
    "##  `DrawTreeOfSonsOfNumericalSemigroup(s,l,gensfunc)`\n",
    "\n",
    "This function draws the thre of the sons of `s` up to level `l` with respect to `gensfunc` (a function that gets minimal generators according to a given variety of numerical semigroups, for instance, `MinimalGenerators`)"
   ]
  },
  {
   "cell_type": "code",
   "execution_count": 8,
   "metadata": {
    "scrolled": false
   },
   "outputs": [
    {
     "data": {
      "application/vnd.francy+json": "{\"version\" : \"0.8.0\",\"mime\" : \"application\\/vnd.francy+json\",\"canvas\" : {\"width\" : 800,\"id\" : \"F49\",\"height\" : 600,\"title\" : \"Sons of a numerical semigroup\",\"zoomToFit\" : true,\"texTypesetting\" : true,\"menus\" : {},\"graph\" : {\"type\" : \"tree\",\"id\" : \"F46\",\"simulation\" : true,\"collapsed\" : false,\"drag\" : false,\"showNeighbours\" : false,\"nodes\" : {\"F47\" : {\"x\" : 0,\"y\" : 0,\"type\" : \"circle\",\"id\" : \"F47\",\"size\" : 5,\"title\" : \"S\",\"color\" : \"\",\"layer\" : 0,\"parent\" : \"\",\"menus\" : {},\"messages\" : {\"F48\" : {\"type\" : \"default\",\"id\" : \"F48\",\"text\" : \"[ 1 ]\",\"title\" : \"\"}},\"callbacks\" : {}},\"F50\" : {\"x\" : 0,\"y\" : 0,\"type\" : \"circle\",\"id\" : \"F50\",\"size\" : 5,\"title\" : \"{2,3}\",\"color\" : \"\",\"layer\" : 0,\"parent\" : \"F47\",\"menus\" : {},\"messages\" : {},\"callbacks\" : {}},\"F51\" : {\"x\" : 0,\"y\" : 0,\"type\" : \"circle\",\"id\" : \"F51\",\"size\" : 5,\"title\" : \"{3,4,5}\",\"color\" : \"\",\"layer\" : 0,\"parent\" : \"F50\",\"menus\" : {},\"messages\" : {},\"callbacks\" : {}},\"F52\" : {\"x\" : 0,\"y\" : 0,\"type\" : \"circle\",\"id\" : \"F52\",\"size\" : 5,\"title\" : \"{4,5,6,7}\",\"color\" : \"\",\"layer\" : 0,\"parent\" : \"F51\",\"menus\" : {},\"messages\" : {},\"callbacks\" : {}},\"F53\" : {\"x\" : 0,\"y\" : 0,\"type\" : \"circle\",\"id\" : \"F53\",\"size\" : 5,\"title\" : \"{5,6,7,8,9}\",\"color\" : \"\",\"layer\" : 0,\"parent\" : \"F52\",\"menus\" : {},\"messages\" : {},\"callbacks\" : {}},\"F54\" : {\"x\" : 0,\"y\" : 0,\"type\" : \"circle\",\"id\" : \"F54\",\"size\" : 5,\"title\" : \"{6,7,8,9,10,11}\",\"color\" : \"\",\"layer\" : 0,\"parent\" : \"F53\",\"menus\" : {},\"messages\" : {},\"callbacks\" : {}},\"F55\" : {\"x\" : 0,\"y\" : 0,\"type\" : \"circle\",\"id\" : \"F55\",\"size\" : 5,\"title\" : \"{5,7,8,9,11}\",\"color\" : \"\",\"layer\" : 0,\"parent\" : \"F53\",\"menus\" : {},\"messages\" : {},\"callbacks\" : {}},\"F56\" : {\"x\" : 0,\"y\" : 0,\"type\" : \"circle\",\"id\" : \"F56\",\"size\" : 5,\"title\" : \"{5,6,8,9}\",\"color\" : \"\",\"layer\" : 0,\"parent\" : \"F53\",\"menus\" : {},\"messages\" : {},\"callbacks\" : {}},\"F57\" : {\"x\" : 0,\"y\" : 0,\"type\" : \"circle\",\"id\" : \"F57\",\"size\" : 5,\"title\" : \"{5,6,7,9}\",\"color\" : \"\",\"layer\" : 0,\"parent\" : \"F53\",\"menus\" : {},\"messages\" : {},\"callbacks\" : {}},\"F58\" : {\"x\" : 0,\"y\" : 0,\"type\" : \"circle\",\"id\" : \"F58\",\"size\" : 5,\"title\" : \"{5,6,7,8}\",\"color\" : \"\",\"layer\" : 0,\"parent\" : \"F53\",\"menus\" : {},\"messages\" : {},\"callbacks\" : {}},\"F59\" : {\"x\" : 0,\"y\" : 0,\"type\" : \"circle\",\"id\" : \"F59\",\"size\" : 5,\"title\" : \"{4,6,7,9}\",\"color\" : \"\",\"layer\" : 0,\"parent\" : \"F52\",\"menus\" : {},\"messages\" : {},\"callbacks\" : {}},\"F60\" : {\"x\" : 0,\"y\" : 0,\"type\" : \"circle\",\"id\" : \"F60\",\"size\" : 5,\"title\" : \"{4,7,9,10}\",\"color\" : \"\",\"layer\" : 0,\"parent\" : \"F59\",\"menus\" : {},\"messages\" : {},\"callbacks\" : {}},\"F61\" : {\"x\" : 0,\"y\" : 0,\"type\" : \"circle\",\"id\" : \"F61\",\"size\" : 5,\"title\" : \"{4,6,9,11}\",\"color\" : \"\",\"layer\" : 0,\"parent\" : \"F59\",\"menus\" : {},\"messages\" : {},\"callbacks\" : {}},\"F62\" : {\"x\" : 0,\"y\" : 0,\"type\" : \"circle\",\"id\" : \"F62\",\"size\" : 5,\"title\" : \"{4,6,7}\",\"color\" : \"\",\"layer\" : 0,\"parent\" : \"F59\",\"menus\" : {},\"messages\" : {},\"callbacks\" : {}},\"F63\" : {\"x\" : 0,\"y\" : 0,\"type\" : \"circle\",\"id\" : \"F63\",\"size\" : 5,\"title\" : \"{4,5,7}\",\"color\" : \"\",\"layer\" : 0,\"parent\" : \"F52\",\"menus\" : {},\"messages\" : {},\"callbacks\" : {}},\"F64\" : {\"x\" : 0,\"y\" : 0,\"type\" : \"circle\",\"id\" : \"F64\",\"size\" : 5,\"title\" : \"{4,5,11}\",\"color\" : \"\",\"layer\" : 0,\"parent\" : \"F63\",\"menus\" : {},\"messages\" : {},\"callbacks\" : {}},\"F65\" : {\"x\" : 0,\"y\" : 0,\"type\" : \"circle\",\"id\" : \"F65\",\"size\" : 5,\"title\" : \"{4,5,6}\",\"color\" : \"\",\"layer\" : 0,\"parent\" : \"F52\",\"menus\" : {},\"messages\" : {},\"callbacks\" : {}},\"F66\" : {\"x\" : 0,\"y\" : 0,\"type\" : \"circle\",\"id\" : \"F66\",\"size\" : 5,\"title\" : \"{3,5,7}\",\"color\" : \"\",\"layer\" : 0,\"parent\" : \"F51\",\"menus\" : {},\"messages\" : {},\"callbacks\" : {}},\"F67\" : {\"x\" : 0,\"y\" : 0,\"type\" : \"circle\",\"id\" : \"F67\",\"size\" : 5,\"title\" : \"{3,7,8}\",\"color\" : \"\",\"layer\" : 0,\"parent\" : \"F66\",\"menus\" : {},\"messages\" : {},\"callbacks\" : {}},\"F68\" : {\"x\" : 0,\"y\" : 0,\"type\" : \"circle\",\"id\" : \"F68\",\"size\" : 5,\"title\" : \"{3,8,10}\",\"color\" : \"\",\"layer\" : 0,\"parent\" : \"F67\",\"menus\" : {},\"messages\" : {},\"callbacks\" : {}},\"F69\" : {\"x\" : 0,\"y\" : 0,\"type\" : \"circle\",\"id\" : \"F69\",\"size\" : 5,\"title\" : \"{3,7,11}\",\"color\" : \"\",\"layer\" : 0,\"parent\" : \"F67\",\"menus\" : {},\"messages\" : {},\"callbacks\" : {}},\"F70\" : {\"x\" : 0,\"y\" : 0,\"type\" : \"circle\",\"id\" : \"F70\",\"size\" : 5,\"title\" : \"{3,5}\",\"color\" : \"\",\"layer\" : 0,\"parent\" : \"F66\",\"menus\" : {},\"messages\" : {},\"callbacks\" : {}},\"F71\" : {\"x\" : 0,\"y\" : 0,\"type\" : \"circle\",\"id\" : \"F71\",\"size\" : 5,\"title\" : \"{3,4}\",\"color\" : \"\",\"layer\" : 0,\"parent\" : \"F51\",\"menus\" : {},\"messages\" : {},\"callbacks\" : {}},\"F72\" : {\"x\" : 0,\"y\" : 0,\"type\" : \"circle\",\"id\" : \"F72\",\"size\" : 5,\"title\" : \"{2,5}\",\"color\" : \"\",\"layer\" : 0,\"parent\" : \"F50\",\"menus\" : {},\"messages\" : {},\"callbacks\" : {}},\"F73\" : {\"x\" : 0,\"y\" : 0,\"type\" : \"circle\",\"id\" : \"F73\",\"size\" : 5,\"title\" : \"{2,7}\",\"color\" : \"\",\"layer\" : 0,\"parent\" : \"F72\",\"menus\" : {},\"messages\" : {},\"callbacks\" : {}},\"F74\" : {\"x\" : 0,\"y\" : 0,\"type\" : \"circle\",\"id\" : \"F74\",\"size\" : 5,\"title\" : \"{2,9}\",\"color\" : \"\",\"layer\" : 0,\"parent\" : \"F73\",\"menus\" : {},\"messages\" : {},\"callbacks\" : {}},\"F75\" : {\"x\" : 0,\"y\" : 0,\"type\" : \"circle\",\"id\" : \"F75\",\"size\" : 5,\"title\" : \"{2,11}\",\"color\" : \"\",\"layer\" : 0,\"parent\" : \"F74\",\"menus\" : {},\"messages\" : {},\"callbacks\" : {}}},\"links\" : {}},\"messages\" : {}}}"
     },
     "execution_count": 8,
     "metadata": {
      "application/vnd.francy+json": {}
     },
     "output_type": "execute_result"
    }
   ],
   "source": [
    "DrawTreeOfSonsOfNumericalSemigroup(s,5,MinimalGenerators);"
   ]
  },
  {
   "cell_type": "code",
   "execution_count": 9,
   "metadata": {},
   "outputs": [
    {
     "data": {
      "text/plain": [
       "Numerical semigroup with 3 generators"
      ]
     },
     "execution_count": 9,
     "metadata": {
      "text/plain": ""
     },
     "output_type": "execute_result"
    }
   ],
   "source": [
    "s:=NumericalSemigroup(4,6,9);"
   ]
  },
  {
   "cell_type": "markdown",
   "metadata": {},
   "source": [
    "## `DrawTreeOfGluingsOfNumericalSemigroup(s,expand...)`\n",
    "\n",
    "Draws the decomposition of `s` as a gluing of numerical semigroups, and then proceeds recursively with each of the factors. Decomposition is not unique, and this is why a tree is drawn. The optional argument `expand` may be true or false, and it makes the tree fully expandable or not."
   ]
  },
  {
   "cell_type": "code",
   "execution_count": 10,
   "metadata": {},
   "outputs": [
    {
     "data": {
      "application/vnd.francy+json": "{\"version\" : \"0.8.0\",\"mime\" : \"application\\/vnd.francy+json\",\"canvas\" : {\"width\" : 800,\"id\" : \"F78\",\"height\" : 600,\"title\" : \"Gluings of a numerical semigroup\",\"zoomToFit\" : true,\"texTypesetting\" : false,\"menus\" : {},\"graph\" : {\"type\" : \"tree\",\"id\" : \"F76\",\"simulation\" : true,\"collapsed\" : false,\"drag\" : false,\"showNeighbours\" : false,\"nodes\" : {\"F77\" : {\"x\" : 0,\"y\" : 0,\"type\" : \"circle\",\"id\" : \"F77\",\"size\" : 1,\"title\" : \"〈4,6,9〉\",\"color\" : \"\",\"layer\" : 0,\"parent\" : \"\",\"menus\" : {},\"messages\" : {},\"callbacks\" : {}},\"F79\" : {\"x\" : 0,\"y\" : 0,\"type\" : \"square\",\"id\" : \"F79\",\"size\" : 1,\"title\" : \"〈4〉 + 〈6,9〉\",\"color\" : \"\",\"layer\" : 0,\"parent\" : \"F77\",\"menus\" : {},\"messages\" : {},\"callbacks\" : {}},\"F80\" : {\"x\" : 0,\"y\" : 0,\"type\" : \"circle\",\"id\" : \"F80\",\"size\" : 1,\"title\" : \"〈1〉\",\"color\" : \"\",\"layer\" : 0,\"parent\" : \"F79\",\"menus\" : {},\"messages\" : {},\"callbacks\" : {}},\"F81\" : {\"x\" : 0,\"y\" : 0,\"type\" : \"circle\",\"id\" : \"F81\",\"size\" : 1,\"title\" : \"〈2,3〉\",\"color\" : \"\",\"layer\" : 0,\"parent\" : \"F79\",\"menus\" : {},\"messages\" : {},\"callbacks\" : {}},\"F82\" : {\"x\" : 0,\"y\" : 0,\"type\" : \"square\",\"id\" : \"F82\",\"size\" : 1,\"title\" : \"〈2〉 + 〈3〉\",\"color\" : \"\",\"layer\" : 0,\"parent\" : \"F81\",\"menus\" : {},\"messages\" : {},\"callbacks\" : {}},\"F83\" : {\"x\" : 0,\"y\" : 0,\"type\" : \"circle\",\"id\" : \"F83\",\"size\" : 1,\"title\" : \"〈1〉\",\"color\" : \"\",\"layer\" : 0,\"parent\" : \"F82\",\"menus\" : {},\"messages\" : {},\"callbacks\" : {}},\"F84\" : {\"x\" : 0,\"y\" : 0,\"type\" : \"circle\",\"id\" : \"F84\",\"size\" : 1,\"title\" : \"〈1〉\",\"color\" : \"\",\"layer\" : 0,\"parent\" : \"F82\",\"menus\" : {},\"messages\" : {},\"callbacks\" : {}},\"F85\" : {\"x\" : 0,\"y\" : 0,\"type\" : \"square\",\"id\" : \"F85\",\"size\" : 1,\"title\" : \"〈4,6〉 + 〈9〉\",\"color\" : \"\",\"layer\" : 0,\"parent\" : \"F77\",\"menus\" : {},\"messages\" : {},\"callbacks\" : {}},\"F86\" : {\"x\" : 0,\"y\" : 0,\"type\" : \"circle\",\"id\" : \"F86\",\"size\" : 1,\"title\" : \"〈2,3〉\",\"color\" : \"\",\"layer\" : 0,\"parent\" : \"F85\",\"menus\" : {},\"messages\" : {},\"callbacks\" : {}},\"F87\" : {\"x\" : 0,\"y\" : 0,\"type\" : \"circle\",\"id\" : \"F87\",\"size\" : 1,\"title\" : \"〈1〉\",\"color\" : \"\",\"layer\" : 0,\"parent\" : \"F85\",\"menus\" : {},\"messages\" : {},\"callbacks\" : {}},\"F88\" : {\"x\" : 0,\"y\" : 0,\"type\" : \"square\",\"id\" : \"F88\",\"size\" : 1,\"title\" : \"〈2〉 + 〈3〉\",\"color\" : \"\",\"layer\" : 0,\"parent\" : \"F86\",\"menus\" : {},\"messages\" : {},\"callbacks\" : {}},\"F89\" : {\"x\" : 0,\"y\" : 0,\"type\" : \"circle\",\"id\" : \"F89\",\"size\" : 1,\"title\" : \"〈1〉\",\"color\" : \"\",\"layer\" : 0,\"parent\" : \"F88\",\"menus\" : {},\"messages\" : {},\"callbacks\" : {}},\"F90\" : {\"x\" : 0,\"y\" : 0,\"type\" : \"circle\",\"id\" : \"F90\",\"size\" : 1,\"title\" : \"〈1〉\",\"color\" : \"\",\"layer\" : 0,\"parent\" : \"F88\",\"menus\" : {},\"messages\" : {},\"callbacks\" : {}}},\"links\" : {}},\"messages\" : {}}}"
     },
     "execution_count": 10,
     "metadata": {
      "application/vnd.francy+json": {}
     },
     "output_type": "execute_result"
    }
   ],
   "source": [
    "DrawTreeOfGluingsOfNumericalSemigroup(s,true);"
   ]
  },
  {
   "cell_type": "markdown",
   "metadata": {},
   "source": [
    "## Hasse Diagrams"
   ]
  },
  {
   "cell_type": "code",
   "execution_count": 11,
   "metadata": {},
   "outputs": [
    {
     "data": {
      "text/plain": [
       "Numerical semigroup with 3 generators"
      ]
     },
     "execution_count": 11,
     "metadata": {
      "text/plain": ""
     },
     "output_type": "execute_result"
    }
   ],
   "source": [
    "s:=NumericalSemigroup(3,5,7);"
   ]
  },
  {
   "cell_type": "markdown",
   "metadata": {},
   "source": [
    "## `DrawHasseDiagramOfNumericalSemigroup(s, A)`\n",
    "\n",
    "Draws the Hasse diagram of `A` (a set of integers) with respect to the ordering induced by `s`: $a\\preceq b$ if $b-a$ is in `s`."
   ]
  },
  {
   "cell_type": "code",
   "execution_count": 12,
   "metadata": {
    "scrolled": false
   },
   "outputs": [
    {
     "data": {
      "application/vnd.francy+json": "{\"version\" : \"0.8.0\",\"mime\" : \"application\\/vnd.francy+json\",\"canvas\" : {\"width\" : 800,\"id\" : \"F177\",\"height\" : 600,\"title\" : \"Hasse diagram of numerical semigroup\",\"zoomToFit\" : true,\"texTypesetting\" : false,\"menus\" : {},\"graph\" : {\"type\" : \"directed\",\"id\" : \"F91\",\"simulation\" : true,\"collapsed\" : true,\"drag\" : false,\"showNeighbours\" : false,\"nodes\" : {\"F92\" : {\"x\" : 0,\"y\" : 0,\"type\" : \"circle\",\"id\" : \"F92\",\"size\" : 10,\"title\" : \"1\",\"color\" : \"\",\"layer\" : 0,\"parent\" : \"\",\"menus\" : {},\"messages\" : {},\"callbacks\" : {\"F93\" : {\"func\" : \"unknown\",\"id\" : \"F93\",\"trigger\" : \"click\",\"knownArgs\" : [\"1\"],\"requiredArgs\" : {}}}},\"F94\" : {\"x\" : 0,\"y\" : 0,\"type\" : \"circle\",\"id\" : \"F94\",\"size\" : 10,\"title\" : \"2\",\"color\" : \"\",\"layer\" : 0,\"parent\" : \"\",\"menus\" : {},\"messages\" : {},\"callbacks\" : {\"F95\" : {\"func\" : \"unknown\",\"id\" : \"F95\",\"trigger\" : \"click\",\"knownArgs\" : [\"2\"],\"requiredArgs\" : {}}}},\"F96\" : {\"x\" : 0,\"y\" : 0,\"type\" : \"circle\",\"id\" : \"F96\",\"size\" : 10,\"title\" : \"3\",\"color\" : \"\",\"layer\" : 0,\"parent\" : \"\",\"menus\" : {},\"messages\" : {},\"callbacks\" : {\"F97\" : {\"func\" : \"unknown\",\"id\" : \"F97\",\"trigger\" : \"click\",\"knownArgs\" : [\"3\"],\"requiredArgs\" : {}}}},\"F98\" : {\"x\" : 0,\"y\" : 0,\"type\" : \"circle\",\"id\" : \"F98\",\"size\" : 10,\"title\" : \"4\",\"color\" : \"\",\"layer\" : -1,\"parent\" : \"\",\"menus\" : {},\"messages\" : {},\"callbacks\" : {\"F99\" : {\"func\" : \"unknown\",\"id\" : \"F99\",\"trigger\" : \"click\",\"knownArgs\" : [\"4\"],\"requiredArgs\" : {}}}},\"F100\" : {\"x\" : 0,\"y\" : 0,\"type\" : \"circle\",\"id\" : \"F100\",\"size\" : 10,\"title\" : \"5\",\"color\" : \"\",\"layer\" : -1,\"parent\" : \"\",\"menus\" : {},\"messages\" : {},\"callbacks\" : {\"F101\" : {\"func\" : \"unknown\",\"id\" : \"F101\",\"trigger\" : \"click\",\"knownArgs\" : [\"5\"],\"requiredArgs\" : {}}}},\"F102\" : {\"x\" : 0,\"y\" : 0,\"type\" : \"circle\",\"id\" : \"F102\",\"size\" : 10,\"title\" : \"6\",\"color\" : \"\",\"layer\" : -1,\"parent\" : \"\",\"menus\" : {},\"messages\" : {},\"callbacks\" : {\"F103\" : {\"func\" : \"unknown\",\"id\" : \"F103\",\"trigger\" : \"click\",\"knownArgs\" : [\"6\"],\"requiredArgs\" : {}}}},\"F104\" : {\"x\" : 0,\"y\" : 0,\"type\" : \"circle\",\"id\" : \"F104\",\"size\" : 10,\"title\" : \"7\",\"color\" : \"\",\"layer\" : -2,\"parent\" : \"\",\"menus\" : {},\"messages\" : {},\"callbacks\" : {\"F105\" : {\"func\" : \"unknown\",\"id\" : \"F105\",\"trigger\" : \"click\",\"knownArgs\" : [\"7\"],\"requiredArgs\" : {}}}},\"F106\" : {\"x\" : 0,\"y\" : 0,\"type\" : \"circle\",\"id\" : \"F106\",\"size\" : 10,\"title\" : \"8\",\"color\" : \"\",\"layer\" : -2,\"parent\" : \"\",\"menus\" : {},\"messages\" : {},\"callbacks\" : {\"F107\" : {\"func\" : \"unknown\",\"id\" : \"F107\",\"trigger\" : \"click\",\"knownArgs\" : [\"8\"],\"requiredArgs\" : {}}}},\"F108\" : {\"x\" : 0,\"y\" : 0,\"type\" : \"circle\",\"id\" : \"F108\",\"size\" : 10,\"title\" : \"9\",\"color\" : \"\",\"layer\" : -2,\"parent\" : \"\",\"menus\" : {},\"messages\" : {},\"callbacks\" : {\"F109\" : {\"func\" : \"unknown\",\"id\" : \"F109\",\"trigger\" : \"click\",\"knownArgs\" : [\"9\"],\"requiredArgs\" : {}}}},\"F110\" : {\"x\" : 0,\"y\" : 0,\"type\" : \"circle\",\"id\" : \"F110\",\"size\" : 10,\"title\" : \"10\",\"color\" : \"\",\"layer\" : -3,\"parent\" : \"\",\"menus\" : {},\"messages\" : {},\"callbacks\" : {\"F111\" : {\"func\" : \"unknown\",\"id\" : \"F111\",\"trigger\" : \"click\",\"knownArgs\" : [\"10\"],\"requiredArgs\" : {}}}},\"F112\" : {\"x\" : 0,\"y\" : 0,\"type\" : \"circle\",\"id\" : \"F112\",\"size\" : 10,\"title\" : \"11\",\"color\" : \"\",\"layer\" : -3,\"parent\" : \"\",\"menus\" : {},\"messages\" : {},\"callbacks\" : {\"F113\" : {\"func\" : \"unknown\",\"id\" : \"F113\",\"trigger\" : \"click\",\"knownArgs\" : [\"11\"],\"requiredArgs\" : {}}}},\"F114\" : {\"x\" : 0,\"y\" : 0,\"type\" : \"circle\",\"id\" : \"F114\",\"size\" : 10,\"title\" : \"12\",\"color\" : \"\",\"layer\" : -3,\"parent\" : \"\",\"menus\" : {},\"messages\" : {},\"callbacks\" : {\"F115\" : {\"func\" : \"unknown\",\"id\" : \"F115\",\"trigger\" : \"click\",\"knownArgs\" : [\"12\"],\"requiredArgs\" : {}}}},\"F116\" : {\"x\" : 0,\"y\" : 0,\"type\" : \"circle\",\"id\" : \"F116\",\"size\" : 10,\"title\" : \"13\",\"color\" : \"\",\"layer\" : -4,\"parent\" : \"\",\"menus\" : {},\"messages\" : {},\"callbacks\" : {\"F117\" : {\"func\" : \"unknown\",\"id\" : \"F117\",\"trigger\" : \"click\",\"knownArgs\" : [\"13\"],\"requiredArgs\" : {}}}},\"F118\" : {\"x\" : 0,\"y\" : 0,\"type\" : \"circle\",\"id\" : \"F118\",\"size\" : 10,\"title\" : \"14\",\"color\" : \"\",\"layer\" : -4,\"parent\" : \"\",\"menus\" : {},\"messages\" : {},\"callbacks\" : {\"F119\" : {\"func\" : \"unknown\",\"id\" : \"F119\",\"trigger\" : \"click\",\"knownArgs\" : [\"14\"],\"requiredArgs\" : {}}}},\"F120\" : {\"x\" : 0,\"y\" : 0,\"type\" : \"circle\",\"id\" : \"F120\",\"size\" : 10,\"title\" : \"15\",\"color\" : \"\",\"layer\" : -4,\"parent\" : \"\",\"menus\" : {},\"messages\" : {},\"callbacks\" : {\"F121\" : {\"func\" : \"unknown\",\"id\" : \"F121\",\"trigger\" : \"click\",\"knownArgs\" : [\"15\"],\"requiredArgs\" : {}}}},\"F122\" : {\"x\" : 0,\"y\" : 0,\"type\" : \"circle\",\"id\" : \"F122\",\"size\" : 10,\"title\" : \"16\",\"color\" : \"\",\"layer\" : -5,\"parent\" : \"\",\"menus\" : {},\"messages\" : {},\"callbacks\" : {\"F123\" : {\"func\" : \"unknown\",\"id\" : \"F123\",\"trigger\" : \"click\",\"knownArgs\" : [\"16\"],\"requiredArgs\" : {}}}},\"F124\" : {\"x\" : 0,\"y\" : 0,\"type\" : \"circle\",\"id\" : \"F124\",\"size\" : 10,\"title\" : \"17\",\"color\" : \"\",\"layer\" : -5,\"parent\" : \"\",\"menus\" : {},\"messages\" : {},\"callbacks\" : {\"F125\" : {\"func\" : \"unknown\",\"id\" : \"F125\",\"trigger\" : \"click\",\"knownArgs\" : [\"17\"],\"requiredArgs\" : {}}}},\"F126\" : {\"x\" : 0,\"y\" : 0,\"type\" : \"circle\",\"id\" : \"F126\",\"size\" : 10,\"title\" : \"18\",\"color\" : \"\",\"layer\" : -5,\"parent\" : \"\",\"menus\" : {},\"messages\" : {},\"callbacks\" : {\"F127\" : {\"func\" : \"unknown\",\"id\" : \"F127\",\"trigger\" : \"click\",\"knownArgs\" : [\"18\"],\"requiredArgs\" : {}}}},\"F128\" : {\"x\" : 0,\"y\" : 0,\"type\" : \"circle\",\"id\" : \"F128\",\"size\" : 10,\"title\" : \"19\",\"color\" : \"\",\"layer\" : -6,\"parent\" : \"\",\"menus\" : {},\"messages\" : {},\"callbacks\" : {\"F129\" : {\"func\" : \"unknown\",\"id\" : \"F129\",\"trigger\" : \"click\",\"knownArgs\" : [\"19\"],\"requiredArgs\" : {}}}},\"F130\" : {\"x\" : 0,\"y\" : 0,\"type\" : \"circle\",\"id\" : \"F130\",\"size\" : 10,\"title\" : \"20\",\"color\" : \"\",\"layer\" : -6,\"parent\" : \"\",\"menus\" : {},\"messages\" : {},\"callbacks\" : {\"F131\" : {\"func\" : \"unknown\",\"id\" : \"F131\",\"trigger\" : \"click\",\"knownArgs\" : [\"20\"],\"requiredArgs\" : {}}}}},\"links\" : {\"F132\" : {\"id\" : \"F132\",\"source\" : \"F92\",\"weight\" : 1,\"color\" : \"\",\"target\" : \"F98\"},\"F133\" : {\"id\" : \"F133\",\"source\" : \"F92\",\"weight\" : 1,\"color\" : \"\",\"target\" : \"F102\"},\"F134\" : {\"id\" : \"F134\",\"source\" : \"F92\",\"weight\" : 1,\"color\" : \"\",\"target\" : \"F106\"},\"F135\" : {\"id\" : \"F135\",\"source\" : \"F94\",\"weight\" : 1,\"color\" : \"\",\"target\" : \"F100\"},\"F136\" : {\"id\" : \"F136\",\"source\" : \"F94\",\"weight\" : 1,\"color\" : \"\",\"target\" : \"F104\"},\"F137\" : {\"id\" : \"F137\",\"source\" : \"F94\",\"weight\" : 1,\"color\" : \"\",\"target\" : \"F108\"},\"F138\" : {\"id\" : \"F138\",\"source\" : \"F96\",\"weight\" : 1,\"color\" : \"\",\"target\" : \"F102\"},\"F139\" : {\"id\" : \"F139\",\"source\" : \"F96\",\"weight\" : 1,\"color\" : \"\",\"target\" : \"F106\"},\"F140\" : {\"id\" : \"F140\",\"source\" : \"F96\",\"weight\" : 1,\"color\" : \"\",\"target\" : \"F110\"},\"F141\" : {\"id\" : \"F141\",\"source\" : \"F98\",\"weight\" : 1,\"color\" : \"\",\"target\" : \"F104\"},\"F142\" : {\"id\" : \"F142\",\"source\" : \"F98\",\"weight\" : 1,\"color\" : \"\",\"target\" : \"F108\"},\"F143\" : {\"id\" : \"F143\",\"source\" : \"F98\",\"weight\" : 1,\"color\" : \"\",\"target\" : \"F112\"},\"F144\" : {\"id\" : \"F144\",\"source\" : \"F100\",\"weight\" : 1,\"color\" : \"\",\"target\" : \"F106\"},\"F145\" : {\"id\" : \"F145\",\"source\" : \"F100\",\"weight\" : 1,\"color\" : \"\",\"target\" : \"F110\"},\"F146\" : {\"id\" : \"F146\",\"source\" : \"F100\",\"weight\" : 1,\"color\" : \"\",\"target\" : \"F114\"},\"F147\" : {\"id\" : \"F147\",\"source\" : \"F102\",\"weight\" : 1,\"color\" : \"\",\"target\" : \"F108\"},\"F148\" : {\"id\" : \"F148\",\"source\" : \"F102\",\"weight\" : 1,\"color\" : \"\",\"target\" : \"F112\"},\"F149\" : {\"id\" : \"F149\",\"source\" : \"F102\",\"weight\" : 1,\"color\" : \"\",\"target\" : \"F116\"},\"F150\" : {\"id\" : \"F150\",\"source\" : \"F104\",\"weight\" : 1,\"color\" : \"\",\"target\" : \"F110\"},\"F151\" : {\"id\" : \"F151\",\"source\" : \"F104\",\"weight\" : 1,\"color\" : \"\",\"target\" : \"F114\"},\"F152\" : {\"id\" : \"F152\",\"source\" : \"F104\",\"weight\" : 1,\"color\" : \"\",\"target\" : \"F118\"},\"F153\" : {\"id\" : \"F153\",\"source\" : \"F106\",\"weight\" : 1,\"color\" : \"\",\"target\" : \"F112\"},\"F154\" : {\"id\" : \"F154\",\"source\" : \"F106\",\"weight\" : 1,\"color\" : \"\",\"target\" : \"F116\"},\"F155\" : {\"id\" : \"F155\",\"source\" : \"F106\",\"weight\" : 1,\"color\" : \"\",\"target\" : \"F120\"},\"F156\" : {\"id\" : \"F156\",\"source\" : \"F108\",\"weight\" : 1,\"color\" : \"\",\"target\" : \"F114\"},\"F157\" : {\"id\" : \"F157\",\"source\" : \"F108\",\"weight\" : 1,\"color\" : \"\",\"target\" : \"F118\"},\"F158\" : {\"id\" : \"F158\",\"source\" : \"F108\",\"weight\" : 1,\"color\" : \"\",\"target\" : \"F122\"},\"F159\" : {\"id\" : \"F159\",\"source\" : \"F110\",\"weight\" : 1,\"color\" : \"\",\"target\" : \"F116\"},\"F160\" : {\"id\" : \"F160\",\"source\" : \"F110\",\"weight\" : 1,\"color\" : \"\",\"target\" : \"F120\"},\"F161\" : {\"id\" : \"F161\",\"source\" : \"F110\",\"weight\" : 1,\"color\" : \"\",\"target\" : \"F124\"},\"F162\" : {\"id\" : \"F162\",\"source\" : \"F112\",\"weight\" : 1,\"color\" : \"\",\"target\" : \"F118\"},\"F163\" : {\"id\" : \"F163\",\"source\" : \"F112\",\"weight\" : 1,\"color\" : \"\",\"target\" : \"F122\"},\"F164\" : {\"id\" : \"F164\",\"source\" : \"F112\",\"weight\" : 1,\"color\" : \"\",\"target\" : \"F126\"},\"F165\" : {\"id\" : \"F165\",\"source\" : \"F114\",\"weight\" : 1,\"color\" : \"\",\"target\" : \"F120\"},\"F166\" : {\"id\" : \"F166\",\"source\" : \"F114\",\"weight\" : 1,\"color\" : \"\",\"target\" : \"F124\"},\"F167\" : {\"id\" : \"F167\",\"source\" : \"F114\",\"weight\" : 1,\"color\" : \"\",\"target\" : \"F128\"},\"F168\" : {\"id\" : \"F168\",\"source\" : \"F116\",\"weight\" : 1,\"color\" : \"\",\"target\" : \"F122\"},\"F169\" : {\"id\" : \"F169\",\"source\" : \"F116\",\"weight\" : 1,\"color\" : \"\",\"target\" : \"F126\"},\"F170\" : {\"id\" : \"F170\",\"source\" : \"F116\",\"weight\" : 1,\"color\" : \"\",\"target\" : \"F130\"},\"F171\" : {\"id\" : \"F171\",\"source\" : \"F118\",\"weight\" : 1,\"color\" : \"\",\"target\" : \"F124\"},\"F172\" : {\"id\" : \"F172\",\"source\" : \"F118\",\"weight\" : 1,\"color\" : \"\",\"target\" : \"F128\"},\"F173\" : {\"id\" : \"F173\",\"source\" : \"F120\",\"weight\" : 1,\"color\" : \"\",\"target\" : \"F126\"},\"F174\" : {\"id\" : \"F174\",\"source\" : \"F120\",\"weight\" : 1,\"color\" : \"\",\"target\" : \"F130\"},\"F175\" : {\"id\" : \"F175\",\"source\" : \"F122\",\"weight\" : 1,\"color\" : \"\",\"target\" : \"F128\"},\"F176\" : {\"id\" : \"F176\",\"source\" : \"F124\",\"weight\" : 1,\"color\" : \"\",\"target\" : \"F130\"}}},\"messages\" : {}}}"
     },
     "execution_count": 12,
     "metadata": {
      "application/vnd.francy+json": {}
     },
     "output_type": "execute_result"
    }
   ],
   "source": [
    "DrawHasseDiagramOfNumericalSemigroup(s,[1..20]);"
   ]
  },
  {
   "cell_type": "markdown",
   "metadata": {},
   "source": [
    "Of special interest is the Hasse diagram of an Apéry set or of the Betti elements."
   ]
  },
  {
   "cell_type": "code",
   "execution_count": 14,
   "metadata": {
    "scrolled": false
   },
   "outputs": [
    {
     "data": {
      "text/plain": [
       "Numerical semigroup with 4 generators"
      ]
     },
     "execution_count": 13,
     "metadata": {
      "text/plain": ""
     },
     "output_type": "execute_result"
    },
    {
     "data": {
      "application/vnd.francy+json": "{\"version\" : \"0.8.0\",\"mime\" : \"application\\/vnd.francy+json\",\"canvas\" : {\"width\" : 800,\"id\" : \"F219\",\"height\" : 600,\"title\" : \"Hasse diagram of numerical semigroup\",\"zoomToFit\" : true,\"texTypesetting\" : false,\"menus\" : {},\"graph\" : {\"type\" : \"directed\",\"id\" : \"F178\",\"simulation\" : true,\"collapsed\" : true,\"drag\" : false,\"showNeighbours\" : false,\"nodes\" : {\"F179\" : {\"x\" : 0,\"y\" : 0,\"type\" : \"circle\",\"id\" : \"F179\",\"size\" : 10,\"title\" : \"0\",\"color\" : \"\",\"layer\" : 0,\"parent\" : \"\",\"menus\" : {},\"messages\" : {},\"callbacks\" : {\"F180\" : {\"func\" : \"unknown\",\"id\" : \"F180\",\"trigger\" : \"click\",\"knownArgs\" : [\"0\"],\"requiredArgs\" : {}}}},\"F181\" : {\"x\" : 0,\"y\" : 0,\"type\" : \"circle\",\"id\" : \"F181\",\"size\" : 10,\"title\" : \"5\",\"color\" : \"\",\"layer\" : -1,\"parent\" : \"\",\"menus\" : {},\"messages\" : {},\"callbacks\" : {\"F182\" : {\"func\" : \"unknown\",\"id\" : \"F182\",\"trigger\" : \"click\",\"knownArgs\" : [\"5\"],\"requiredArgs\" : {}}}},\"F183\" : {\"x\" : 0,\"y\" : 0,\"type\" : \"circle\",\"id\" : \"F183\",\"size\" : 10,\"title\" : \"7\",\"color\" : \"\",\"layer\" : -1,\"parent\" : \"\",\"menus\" : {},\"messages\" : {},\"callbacks\" : {\"F184\" : {\"func\" : \"unknown\",\"id\" : \"F184\",\"trigger\" : \"click\",\"knownArgs\" : [\"7\"],\"requiredArgs\" : {}}}},\"F185\" : {\"x\" : 0,\"y\" : 0,\"type\" : \"circle\",\"id\" : \"F185\",\"size\" : 10,\"title\" : \"9\",\"color\" : \"\",\"layer\" : -1,\"parent\" : \"\",\"menus\" : {},\"messages\" : {},\"callbacks\" : {\"F186\" : {\"func\" : \"unknown\",\"id\" : \"F186\",\"trigger\" : \"click\",\"knownArgs\" : [\"9\"],\"requiredArgs\" : {}}}},\"F187\" : {\"x\" : 0,\"y\" : 0,\"type\" : \"circle\",\"id\" : \"F187\",\"size\" : 10,\"title\" : \"11\",\"color\" : \"\",\"layer\" : -1,\"parent\" : \"\",\"menus\" : {},\"messages\" : {},\"callbacks\" : {\"F188\" : {\"func\" : \"unknown\",\"id\" : \"F188\",\"trigger\" : \"click\",\"knownArgs\" : [\"11\"],\"requiredArgs\" : {}}}},\"F189\" : {\"x\" : 0,\"y\" : 0,\"type\" : \"circle\",\"id\" : \"F189\",\"size\" : 10,\"title\" : \"12\",\"color\" : \"\",\"layer\" : -2,\"parent\" : \"\",\"menus\" : {},\"messages\" : {},\"callbacks\" : {\"F190\" : {\"func\" : \"unknown\",\"id\" : \"F190\",\"trigger\" : \"click\",\"knownArgs\" : [\"12\"],\"requiredArgs\" : {}}}},\"F191\" : {\"x\" : 0,\"y\" : 0,\"type\" : \"circle\",\"id\" : \"F191\",\"size\" : 10,\"title\" : \"14\",\"color\" : \"\",\"layer\" : -2,\"parent\" : \"\",\"menus\" : {},\"messages\" : {},\"callbacks\" : {\"F192\" : {\"func\" : \"unknown\",\"id\" : \"F192\",\"trigger\" : \"click\",\"knownArgs\" : [\"14\"],\"requiredArgs\" : {}}}},\"F193\" : {\"x\" : 0,\"y\" : 0,\"type\" : \"circle\",\"id\" : \"F193\",\"size\" : 10,\"title\" : \"16\",\"color\" : \"\",\"layer\" : -2,\"parent\" : \"\",\"menus\" : {},\"messages\" : {},\"callbacks\" : {\"F194\" : {\"func\" : \"unknown\",\"id\" : \"F194\",\"trigger\" : \"click\",\"knownArgs\" : [\"16\"],\"requiredArgs\" : {}}}},\"F195\" : {\"x\" : 0,\"y\" : 0,\"type\" : \"circle\",\"id\" : \"F195\",\"size\" : 10,\"title\" : \"18\",\"color\" : \"\",\"layer\" : -2,\"parent\" : \"\",\"menus\" : {},\"messages\" : {},\"callbacks\" : {\"F196\" : {\"func\" : \"unknown\",\"id\" : \"F196\",\"trigger\" : \"click\",\"knownArgs\" : [\"18\"],\"requiredArgs\" : {}}}},\"F197\" : {\"x\" : 0,\"y\" : 0,\"type\" : \"circle\",\"id\" : \"F197\",\"size\" : 10,\"title\" : \"23\",\"color\" : \"\",\"layer\" : -3,\"parent\" : \"\",\"menus\" : {},\"messages\" : {},\"callbacks\" : {\"F198\" : {\"func\" : \"unknown\",\"id\" : \"F198\",\"trigger\" : \"click\",\"knownArgs\" : [\"23\"],\"requiredArgs\" : {}}}}},\"links\" : {\"F199\" : {\"id\" : \"F199\",\"source\" : \"F179\",\"weight\" : 1,\"color\" : \"\",\"target\" : \"F181\"},\"F200\" : {\"id\" : \"F200\",\"source\" : \"F179\",\"weight\" : 1,\"color\" : \"\",\"target\" : \"F183\"},\"F201\" : {\"id\" : \"F201\",\"source\" : \"F179\",\"weight\" : 1,\"color\" : \"\",\"target\" : \"F185\"},\"F202\" : {\"id\" : \"F202\",\"source\" : \"F179\",\"weight\" : 1,\"color\" : \"\",\"target\" : \"F187\"},\"F203\" : {\"id\" : \"F203\",\"source\" : \"F181\",\"weight\" : 1,\"color\" : \"\",\"target\" : \"F189\"},\"F204\" : {\"id\" : \"F204\",\"source\" : \"F181\",\"weight\" : 1,\"color\" : \"\",\"target\" : \"F191\"},\"F205\" : {\"id\" : \"F205\",\"source\" : \"F181\",\"weight\" : 1,\"color\" : \"\",\"target\" : \"F193\"},\"F206\" : {\"id\" : \"F206\",\"source\" : \"F183\",\"weight\" : 1,\"color\" : \"\",\"target\" : \"F189\"},\"F207\" : {\"id\" : \"F207\",\"source\" : \"F183\",\"weight\" : 1,\"color\" : \"\",\"target\" : \"F191\"},\"F208\" : {\"id\" : \"F208\",\"source\" : \"F183\",\"weight\" : 1,\"color\" : \"\",\"target\" : \"F193\"},\"F209\" : {\"id\" : \"F209\",\"source\" : \"F183\",\"weight\" : 1,\"color\" : \"\",\"target\" : \"F195\"},\"F210\" : {\"id\" : \"F210\",\"source\" : \"F185\",\"weight\" : 1,\"color\" : \"\",\"target\" : \"F191\"},\"F211\" : {\"id\" : \"F211\",\"source\" : \"F185\",\"weight\" : 1,\"color\" : \"\",\"target\" : \"F193\"},\"F212\" : {\"id\" : \"F212\",\"source\" : \"F185\",\"weight\" : 1,\"color\" : \"\",\"target\" : \"F195\"},\"F213\" : {\"id\" : \"F213\",\"source\" : \"F187\",\"weight\" : 1,\"color\" : \"\",\"target\" : \"F193\"},\"F214\" : {\"id\" : \"F214\",\"source\" : \"F187\",\"weight\" : 1,\"color\" : \"\",\"target\" : \"F195\"},\"F215\" : {\"id\" : \"F215\",\"source\" : \"F189\",\"weight\" : 1,\"color\" : \"\",\"target\" : \"F197\"},\"F216\" : {\"id\" : \"F216\",\"source\" : \"F191\",\"weight\" : 1,\"color\" : \"\",\"target\" : \"F197\"},\"F217\" : {\"id\" : \"F217\",\"source\" : \"F193\",\"weight\" : 1,\"color\" : \"\",\"target\" : \"F197\"},\"F218\" : {\"id\" : \"F218\",\"source\" : \"F195\",\"weight\" : 1,\"color\" : \"\",\"target\" : \"F197\"}}},\"messages\" : {}}}"
     },
     "execution_count": 14,
     "metadata": {
      "application/vnd.francy+json": {}
     },
     "output_type": "execute_result"
    }
   ],
   "source": [
    "s:=NumericalSemigroup(5,7,9,11);\n",
    "DrawHasseDiagramOfNumericalSemigroup(s,AperyList(s,10));"
   ]
  },
  {
   "cell_type": "markdown",
   "metadata": {},
   "source": [
    "## `DrawOverSemigroupsNumericalSemigroup(s)`\n",
    "\n",
    "Draws the Hasse diagram of oversemigroups of the numerical semigroup `s`."
   ]
  },
  {
   "cell_type": "code",
   "execution_count": 16,
   "metadata": {},
   "outputs": [
    {
     "data": {
      "text/plain": [
       "Numerical semigroup with 4 generators"
      ]
     },
     "execution_count": 15,
     "metadata": {
      "text/plain": ""
     },
     "output_type": "execute_result"
    },
    {
     "data": {
      "application/vnd.francy+json": "{\"version\" : \"0.8.0\",\"mime\" : \"application\\/vnd.francy+json\",\"canvas\" : {\"width\" : 800,\"id\" : \"F258\",\"height\" : 600,\"title\" : \"Oversemigroups\",\"zoomToFit\" : true,\"texTypesetting\" : true,\"menus\" : {},\"graph\" : {\"type\" : \"directed\",\"id\" : \"F220\",\"simulation\" : true,\"collapsed\" : true,\"drag\" : false,\"showNeighbours\" : false,\"nodes\" : {\"F221\" : {\"x\" : 0,\"y\" : 0,\"type\" : \"diamond\",\"id\" : \"F221\",\"size\" : 2,\"title\" : \"〈 1 〉\",\"color\" : \"\",\"layer\" : 0,\"parent\" : \"\",\"menus\" : {},\"messages\" : {},\"callbacks\" : {}},\"F222\" : {\"x\" : 0,\"y\" : 0,\"type\" : \"diamond\",\"id\" : \"F222\",\"size\" : 2,\"title\" : \"〈 2,3 〉\",\"color\" : \"\",\"layer\" : 1,\"parent\" : \"\",\"menus\" : {},\"messages\" : {},\"callbacks\" : {}},\"F223\" : {\"x\" : 0,\"y\" : 0,\"type\" : \"diamond\",\"id\" : \"F223\",\"size\" : 2,\"title\" : \"〈 2,5 〉\",\"color\" : \"\",\"layer\" : 2,\"parent\" : \"\",\"menus\" : {},\"messages\" : {},\"callbacks\" : {}},\"F224\" : {\"x\" : 0,\"y\" : 0,\"type\" : \"diamond\",\"id\" : \"F224\",\"size\" : 2,\"title\" : \"〈 3,4,5 〉\",\"color\" : \"\",\"layer\" : 2,\"parent\" : \"\",\"menus\" : {},\"messages\" : {},\"callbacks\" : {}},\"F225\" : {\"x\" : 0,\"y\" : 0,\"type\" : \"diamond\",\"id\" : \"F225\",\"size\" : 2,\"title\" : \"〈 3,5,7 〉\",\"color\" : \"\",\"layer\" : 3,\"parent\" : \"\",\"menus\" : {},\"messages\" : {},\"callbacks\" : {}},\"F226\" : {\"x\" : 0,\"y\" : 0,\"type\" : \"circle\",\"id\" : \"F226\",\"size\" : 2,\"title\" : \"〈 4,5,6,7 〉\",\"color\" : \"\",\"layer\" : 3,\"parent\" : \"\",\"menus\" : {},\"messages\" : {},\"callbacks\" : {}},\"F227\" : {\"x\" : 0,\"y\" : 0,\"type\" : \"diamond\",\"id\" : \"F227\",\"size\" : 2,\"title\" : \"〈 4,5,7 〉\",\"color\" : \"\",\"layer\" : 4,\"parent\" : \"\",\"menus\" : {},\"messages\" : {},\"callbacks\" : {}},\"F228\" : {\"x\" : 0,\"y\" : 0,\"type\" : \"circle\",\"id\" : \"F228\",\"size\" : 2,\"title\" : \"〈 5,6,7,8,9 〉\",\"color\" : \"\",\"layer\" : 4,\"parent\" : \"\",\"menus\" : {},\"messages\" : {},\"callbacks\" : {}},\"F229\" : {\"x\" : 0,\"y\" : 0,\"type\" : \"diamond\",\"id\" : \"F229\",\"size\" : 2,\"title\" : \"〈 5,6,7,8 〉\",\"color\" : \"\",\"layer\" : 5,\"parent\" : \"\",\"menus\" : {},\"messages\" : {},\"callbacks\" : {}},\"F230\" : {\"x\" : 0,\"y\" : 0,\"type\" : \"diamond\",\"id\" : \"F230\",\"size\" : 2,\"title\" : \"〈 5,6,7,9 〉\",\"color\" : \"\",\"layer\" : 5,\"parent\" : \"\",\"menus\" : {},\"messages\" : {},\"callbacks\" : {}},\"F231\" : {\"x\" : 0,\"y\" : 0,\"type\" : \"circle\",\"id\" : \"F231\",\"size\" : 2,\"title\" : \"〈 5,6,7 〉\",\"color\" : \"\",\"layer\" : 6,\"parent\" : \"\",\"menus\" : {},\"messages\" : {},\"callbacks\" : {}},\"F232\" : {\"x\" : 0,\"y\" : 0,\"type\" : \"circle\",\"id\" : \"F232\",\"size\" : 2,\"title\" : \"〈 5,7,8,9,11 〉\",\"color\" : \"\",\"layer\" : 5,\"parent\" : \"\",\"menus\" : {},\"messages\" : {},\"callbacks\" : {}},\"F233\" : {\"x\" : 0,\"y\" : 0,\"type\" : \"circle\",\"id\" : \"F233\",\"size\" : 2,\"title\" : \"〈 5,7,8,11 〉\",\"color\" : \"\",\"layer\" : 6,\"parent\" : \"\",\"menus\" : {},\"messages\" : {},\"callbacks\" : {}},\"F234\" : {\"x\" : 0,\"y\" : 0,\"type\" : \"circle\",\"id\" : \"F234\",\"size\" : 2,\"title\" : \"〈 5,7,9,11,13 〉\",\"color\" : \"\",\"layer\" : 6,\"parent\" : \"\",\"menus\" : {},\"messages\" : {},\"callbacks\" : {}},\"F235\" : {\"x\" : 0,\"y\" : 0,\"type\" : \"circle\",\"id\" : \"F235\",\"size\" : 2,\"title\" : \"〈 5,7,11,13 〉\",\"color\" : \"\",\"layer\" : 7,\"parent\" : \"\",\"menus\" : {},\"messages\" : {},\"callbacks\" : {}}},\"links\" : {\"F236\" : {\"id\" : \"F236\",\"source\" : \"F222\",\"weight\" : 1,\"color\" : \"\",\"target\" : \"F221\"},\"F237\" : {\"id\" : \"F237\",\"source\" : \"F223\",\"weight\" : 1,\"color\" : \"\",\"target\" : \"F222\"},\"F238\" : {\"id\" : \"F238\",\"source\" : \"F224\",\"weight\" : 1,\"color\" : \"\",\"target\" : \"F222\"},\"F239\" : {\"id\" : \"F239\",\"source\" : \"F226\",\"weight\" : 1,\"color\" : \"\",\"target\" : \"F223\"},\"F240\" : {\"id\" : \"F240\",\"source\" : \"F225\",\"weight\" : 1,\"color\" : \"\",\"target\" : \"F224\"},\"F241\" : {\"id\" : \"F241\",\"source\" : \"F226\",\"weight\" : 1,\"color\" : \"\",\"target\" : \"F224\"},\"F242\" : {\"id\" : \"F242\",\"source\" : \"F228\",\"weight\" : 1,\"color\" : \"\",\"target\" : \"F225\"},\"F243\" : {\"id\" : \"F243\",\"source\" : \"F227\",\"weight\" : 1,\"color\" : \"\",\"target\" : \"F226\"},\"F244\" : {\"id\" : \"F244\",\"source\" : \"F228\",\"weight\" : 1,\"color\" : \"\",\"target\" : \"F226\"},\"F245\" : {\"id\" : \"F245\",\"source\" : \"F232\",\"weight\" : 1,\"color\" : \"\",\"target\" : \"F227\"},\"F246\" : {\"id\" : \"F246\",\"source\" : \"F229\",\"weight\" : 1,\"color\" : \"\",\"target\" : \"F228\"},\"F247\" : {\"id\" : \"F247\",\"source\" : \"F230\",\"weight\" : 1,\"color\" : \"\",\"target\" : \"F228\"},\"F248\" : {\"id\" : \"F248\",\"source\" : \"F232\",\"weight\" : 1,\"color\" : \"\",\"target\" : \"F228\"},\"F249\" : {\"id\" : \"F249\",\"source\" : \"F231\",\"weight\" : 1,\"color\" : \"\",\"target\" : \"F229\"},\"F250\" : {\"id\" : \"F250\",\"source\" : \"F233\",\"weight\" : 1,\"color\" : \"\",\"target\" : \"F229\"},\"F251\" : {\"id\" : \"F251\",\"source\" : \"F231\",\"weight\" : 1,\"color\" : \"\",\"target\" : \"F230\"},\"F252\" : {\"id\" : \"F252\",\"source\" : \"F234\",\"weight\" : 1,\"color\" : \"\",\"target\" : \"F230\"},\"F253\" : {\"id\" : \"F253\",\"source\" : \"F235\",\"weight\" : 1,\"color\" : \"\",\"target\" : \"F231\"},\"F254\" : {\"id\" : \"F254\",\"source\" : \"F233\",\"weight\" : 1,\"color\" : \"\",\"target\" : \"F232\"},\"F255\" : {\"id\" : \"F255\",\"source\" : \"F234\",\"weight\" : 1,\"color\" : \"\",\"target\" : \"F232\"},\"F256\" : {\"id\" : \"F256\",\"source\" : \"F235\",\"weight\" : 1,\"color\" : \"\",\"target\" : \"F233\"},\"F257\" : {\"id\" : \"F257\",\"source\" : \"F235\",\"weight\" : 1,\"color\" : \"\",\"target\" : \"F234\"}}},\"messages\" : {}}}"
     },
     "execution_count": 16,
     "metadata": {
      "application/vnd.francy+json": {}
     },
     "output_type": "execute_result"
    }
   ],
   "source": [
    "s:=NumericalSemigroup(5,7,11,13);\n",
    "DrawOverSemigroupsNumericalSemigroup(s);"
   ]
  },
  {
   "cell_type": "markdown",
   "metadata": {},
   "source": [
    "## Graphs"
   ]
  },
  {
   "cell_type": "code",
   "execution_count": 17,
   "metadata": {},
   "outputs": [
    {
     "data": {
      "text/plain": [
       "Numerical semigroup with 3 generators"
      ]
     },
     "execution_count": 17,
     "metadata": {
      "text/plain": ""
     },
     "output_type": "execute_result"
    }
   ],
   "source": [
    "s:=NumericalSemigroup(3,5,7);"
   ]
  },
  {
   "cell_type": "code",
   "execution_count": 18,
   "metadata": {},
   "outputs": [
    {
     "data": {
      "text/plain": [
       "[ [ 10, 0, 0 ], [ 5, 3, 0 ], [ 0, 6, 0 ], [ 6, 1, 1 ], [ 1, 4, 1 ], [ 2, 2, 2 ], [ 3, 0, 3 ] ]"
      ]
     },
     "execution_count": 18,
     "metadata": {
      "text/plain": ""
     },
     "output_type": "execute_result"
    }
   ],
   "source": [
    "f:=FactorizationsElementWRTNumericalSemigroup(30,s);"
   ]
  },
  {
   "cell_type": "markdown",
   "metadata": {},
   "source": [
    "## `DrawFactorizationGraph(f)`\n",
    "\n",
    "Draws the factorization graph of a set of factorizations `f`, the complete graph with vertices the elements of `f`. Labels are labeled with distances between the nodes they join. It also draws a minimal spanning tree (with minimal distances) and thus one can read the Catenary degree from this tree."
   ]
  },
  {
   "cell_type": "code",
   "execution_count": 19,
   "metadata": {},
   "outputs": [
    {
     "data": {
      "application/vnd.francy+json": "{\"version\" : \"0.8.0\",\"mime\" : \"application\\/vnd.francy+json\",\"canvas\" : {\"width\" : 800,\"id\" : \"F286\",\"height\" : 600,\"title\" : \"Factorizations graph\",\"zoomToFit\" : true,\"texTypesetting\" : false,\"menus\" : {},\"graph\" : {\"type\" : \"undirected\",\"id\" : \"F259\",\"simulation\" : true,\"collapsed\" : true,\"drag\" : false,\"showNeighbours\" : false,\"nodes\" : {\"F260\" : {\"x\" : 0,\"y\" : 0,\"type\" : \"circle\",\"id\" : \"F260\",\"size\" : 1,\"title\" : \"(10,0,0)\",\"color\" : \"\",\"layer\" : 10,\"parent\" : \"\",\"menus\" : {},\"messages\" : {},\"callbacks\" : {}},\"F261\" : {\"x\" : 0,\"y\" : 0,\"type\" : \"circle\",\"id\" : \"F261\",\"size\" : 1,\"title\" : \"(5,3,0)\",\"color\" : \"\",\"layer\" : 8,\"parent\" : \"\",\"menus\" : {},\"messages\" : {},\"callbacks\" : {}},\"F262\" : {\"x\" : 0,\"y\" : 0,\"type\" : \"circle\",\"id\" : \"F262\",\"size\" : 1,\"title\" : \"(0,6,0)\",\"color\" : \"\",\"layer\" : 6,\"parent\" : \"\",\"menus\" : {},\"messages\" : {},\"callbacks\" : {}},\"F263\" : {\"x\" : 0,\"y\" : 0,\"type\" : \"circle\",\"id\" : \"F263\",\"size\" : 1,\"title\" : \"(6,1,1)\",\"color\" : \"\",\"layer\" : 8,\"parent\" : \"\",\"menus\" : {},\"messages\" : {},\"callbacks\" : {}},\"F264\" : {\"x\" : 0,\"y\" : 0,\"type\" : \"circle\",\"id\" : \"F264\",\"size\" : 1,\"title\" : \"(1,4,1)\",\"color\" : \"\",\"layer\" : 6,\"parent\" : \"\",\"menus\" : {},\"messages\" : {},\"callbacks\" : {}},\"F265\" : {\"x\" : 0,\"y\" : 0,\"type\" : \"circle\",\"id\" : \"F265\",\"size\" : 1,\"title\" : \"(2,2,2)\",\"color\" : \"\",\"layer\" : 6,\"parent\" : \"\",\"menus\" : {},\"messages\" : {},\"callbacks\" : {}},\"F266\" : {\"x\" : 0,\"y\" : 0,\"type\" : \"circle\",\"id\" : \"F266\",\"size\" : 1,\"title\" : \"(3,0,3)\",\"color\" : \"\",\"layer\" : 6,\"parent\" : \"\",\"menus\" : {},\"messages\" : {},\"callbacks\" : {}}},\"links\" : {\"F267\" : {\"id\" : \"F267\",\"source\" : \"F261\",\"weight\" : 1,\"title\" : \"2\",\"color\" : \"red\",\"target\" : \"F263\"},\"F268\" : {\"id\" : \"F268\",\"source\" : \"F262\",\"weight\" : 1,\"title\" : \"2\",\"color\" : \"red\",\"target\" : \"F264\"},\"F269\" : {\"id\" : \"F269\",\"source\" : \"F264\",\"weight\" : 1,\"title\" : \"2\",\"color\" : \"red\",\"target\" : \"F265\"},\"F270\" : {\"id\" : \"F270\",\"source\" : \"F265\",\"weight\" : 1,\"title\" : \"2\",\"color\" : \"red\",\"target\" : \"F266\"},\"F271\" : {\"id\" : \"F271\",\"source\" : \"F260\",\"weight\" : 1,\"title\" : \"4\",\"color\" : \"red\",\"target\" : \"F263\"},\"F272\" : {\"id\" : \"F272\",\"source\" : \"F261\",\"weight\" : 1,\"title\" : \"4\",\"color\" : \"red\",\"target\" : \"F264\"},\"F273\" : {\"id\" : \"F273\",\"source\" : \"F261\",\"weight\" : 1,\"title\" : \"4\",\"color\" : \"\",\"target\" : \"F265\"},\"F274\" : {\"id\" : \"F274\",\"source\" : \"F262\",\"weight\" : 1,\"title\" : \"4\",\"color\" : \"\",\"target\" : \"F265\"},\"F275\" : {\"id\" : \"F275\",\"source\" : \"F263\",\"weight\" : 1,\"title\" : \"4\",\"color\" : \"\",\"target\" : \"F265\"},\"F276\" : {\"id\" : \"F276\",\"source\" : \"F263\",\"weight\" : 1,\"title\" : \"4\",\"color\" : \"\",\"target\" : \"F266\"},\"F277\" : {\"id\" : \"F277\",\"source\" : \"F264\",\"weight\" : 1,\"title\" : \"4\",\"color\" : \"\",\"target\" : \"F266\"},\"F278\" : {\"id\" : \"F278\",\"source\" : \"F260\",\"weight\" : 1,\"title\" : \"5\",\"color\" : \"\",\"target\" : \"F261\"},\"F279\" : {\"id\" : \"F279\",\"source\" : \"F261\",\"weight\" : 1,\"title\" : \"5\",\"color\" : \"\",\"target\" : \"F262\"},\"F280\" : {\"id\" : \"F280\",\"source\" : \"F261\",\"weight\" : 1,\"title\" : \"5\",\"color\" : \"\",\"target\" : \"F266\"},\"F281\" : {\"id\" : \"F281\",\"source\" : \"F263\",\"weight\" : 1,\"title\" : \"5\",\"color\" : \"\",\"target\" : \"F264\"},\"F282\" : {\"id\" : \"F282\",\"source\" : \"F260\",\"weight\" : 1,\"title\" : \"7\",\"color\" : \"\",\"target\" : \"F266\"},\"F283\" : {\"id\" : \"F283\",\"source\" : \"F262\",\"weight\" : 1,\"title\" : \"7\",\"color\" : \"\",\"target\" : \"F263\"},\"F284\" : {\"id\" : \"F284\",\"source\" : \"F260\",\"weight\" : 1,\"title\" : \"8\",\"color\" : \"\",\"target\" : \"F265\"},\"F285\" : {\"id\" : \"F285\",\"source\" : \"F260\",\"weight\" : 1,\"title\" : \"9\",\"color\" : \"\",\"target\" : \"F264\"}}},\"messages\" : {}}}"
     },
     "execution_count": 19,
     "metadata": {
      "application/vnd.francy+json": {}
     },
     "output_type": "execute_result"
    }
   ],
   "source": [
    "DrawFactorizationGraph(f);"
   ]
  },
  {
   "cell_type": "markdown",
   "metadata": {},
   "source": [
    "## `DrawEliahouGraph(f)`\n",
    "\n",
    "Draws the Eliahou's graph associated to the set of factorizations `f`. The vertices of the graph are the elements in `f`, and two vertices are joined with an edge if they have common support. "
   ]
  },
  {
   "cell_type": "code",
   "execution_count": 20,
   "metadata": {},
   "outputs": [
    {
     "data": {
      "application/vnd.francy+json": "{\"version\" : \"0.8.0\",\"mime\" : \"application\\/vnd.francy+json\",\"canvas\" : {\"width\" : 800,\"id\" : \"F314\",\"height\" : 600,\"title\" : \"Eliahou graph\",\"zoomToFit\" : true,\"texTypesetting\" : false,\"menus\" : {},\"graph\" : {\"type\" : \"undirected\",\"id\" : \"F287\",\"simulation\" : true,\"collapsed\" : true,\"drag\" : false,\"showNeighbours\" : false,\"nodes\" : {\"F288\" : {\"x\" : 0,\"y\" : 0,\"type\" : \"circle\",\"id\" : \"F288\",\"size\" : 1,\"title\" : \"(10,0,0)\",\"color\" : \"\",\"layer\" : 10,\"parent\" : \"\",\"menus\" : {},\"messages\" : {},\"callbacks\" : {}},\"F289\" : {\"x\" : 0,\"y\" : 0,\"type\" : \"circle\",\"id\" : \"F289\",\"size\" : 1,\"title\" : \"(5,3,0)\",\"color\" : \"\",\"layer\" : 8,\"parent\" : \"\",\"menus\" : {},\"messages\" : {},\"callbacks\" : {}},\"F290\" : {\"x\" : 0,\"y\" : 0,\"type\" : \"circle\",\"id\" : \"F290\",\"size\" : 1,\"title\" : \"(0,6,0)\",\"color\" : \"\",\"layer\" : 6,\"parent\" : \"\",\"menus\" : {},\"messages\" : {},\"callbacks\" : {}},\"F291\" : {\"x\" : 0,\"y\" : 0,\"type\" : \"circle\",\"id\" : \"F291\",\"size\" : 1,\"title\" : \"(6,1,1)\",\"color\" : \"\",\"layer\" : 8,\"parent\" : \"\",\"menus\" : {},\"messages\" : {},\"callbacks\" : {}},\"F292\" : {\"x\" : 0,\"y\" : 0,\"type\" : \"circle\",\"id\" : \"F292\",\"size\" : 1,\"title\" : \"(1,4,1)\",\"color\" : \"\",\"layer\" : 6,\"parent\" : \"\",\"menus\" : {},\"messages\" : {},\"callbacks\" : {}},\"F293\" : {\"x\" : 0,\"y\" : 0,\"type\" : \"circle\",\"id\" : \"F293\",\"size\" : 1,\"title\" : \"(2,2,2)\",\"color\" : \"\",\"layer\" : 6,\"parent\" : \"\",\"menus\" : {},\"messages\" : {},\"callbacks\" : {}},\"F294\" : {\"x\" : 0,\"y\" : 0,\"type\" : \"circle\",\"id\" : \"F294\",\"size\" : 1,\"title\" : \"(3,0,3)\",\"color\" : \"\",\"layer\" : 6,\"parent\" : \"\",\"menus\" : {},\"messages\" : {},\"callbacks\" : {}}},\"links\" : {\"F295\" : {\"id\" : \"F295\",\"source\" : \"F288\",\"weight\" : 1,\"color\" : \"\",\"target\" : \"F289\"},\"F296\" : {\"id\" : \"F296\",\"source\" : \"F288\",\"weight\" : 1,\"color\" : \"\",\"target\" : \"F291\"},\"F297\" : {\"id\" : \"F297\",\"source\" : \"F288\",\"weight\" : 1,\"color\" : \"\",\"target\" : \"F292\"},\"F298\" : {\"id\" : \"F298\",\"source\" : \"F288\",\"weight\" : 1,\"color\" : \"\",\"target\" : \"F293\"},\"F299\" : {\"id\" : \"F299\",\"source\" : \"F288\",\"weight\" : 1,\"color\" : \"\",\"target\" : \"F294\"},\"F300\" : {\"id\" : \"F300\",\"source\" : \"F289\",\"weight\" : 1,\"color\" : \"\",\"target\" : \"F290\"},\"F301\" : {\"id\" : \"F301\",\"source\" : \"F289\",\"weight\" : 1,\"color\" : \"\",\"target\" : \"F291\"},\"F302\" : {\"id\" : \"F302\",\"source\" : \"F289\",\"weight\" : 1,\"color\" : \"\",\"target\" : \"F292\"},\"F303\" : {\"id\" : \"F303\",\"source\" : \"F289\",\"weight\" : 1,\"color\" : \"\",\"target\" : \"F293\"},\"F304\" : {\"id\" : \"F304\",\"source\" : \"F289\",\"weight\" : 1,\"color\" : \"\",\"target\" : \"F294\"},\"F305\" : {\"id\" : \"F305\",\"source\" : \"F290\",\"weight\" : 1,\"color\" : \"\",\"target\" : \"F291\"},\"F306\" : {\"id\" : \"F306\",\"source\" : \"F290\",\"weight\" : 1,\"color\" : \"\",\"target\" : \"F292\"},\"F307\" : {\"id\" : \"F307\",\"source\" : \"F290\",\"weight\" : 1,\"color\" : \"\",\"target\" : \"F293\"},\"F308\" : {\"id\" : \"F308\",\"source\" : \"F291\",\"weight\" : 1,\"color\" : \"\",\"target\" : \"F292\"},\"F309\" : {\"id\" : \"F309\",\"source\" : \"F291\",\"weight\" : 1,\"color\" : \"\",\"target\" : \"F293\"},\"F310\" : {\"id\" : \"F310\",\"source\" : \"F291\",\"weight\" : 1,\"color\" : \"\",\"target\" : \"F294\"},\"F311\" : {\"id\" : \"F311\",\"source\" : \"F292\",\"weight\" : 1,\"color\" : \"\",\"target\" : \"F293\"},\"F312\" : {\"id\" : \"F312\",\"source\" : \"F292\",\"weight\" : 1,\"color\" : \"\",\"target\" : \"F294\"},\"F313\" : {\"id\" : \"F313\",\"source\" : \"F293\",\"weight\" : 1,\"color\" : \"\",\"target\" : \"F294\"}}},\"messages\" : {}}}"
     },
     "execution_count": 20,
     "metadata": {
      "application/vnd.francy+json": {}
     },
     "output_type": "execute_result"
    }
   ],
   "source": [
    "DrawEliahouGraph(f);"
   ]
  },
  {
   "cell_type": "markdown",
   "metadata": {},
   "source": [
    "## `DrawRosalesGraph(n,s)`\n",
    "\n",
    "Draws the Rosales graph associated to `n` in `s`. The semigroup `s` can be either a numerical or an affine semigroup. The vertices of the graph are the minimal generators `a` of `s` such that `n-a` is in `s`, and edges are pairs `ab` such that `n-(a+b)` is in `s`."
   ]
  },
  {
   "cell_type": "code",
   "execution_count": 21,
   "metadata": {},
   "outputs": [
    {
     "data": {
      "application/vnd.francy+json": "{\"version\" : \"0.8.0\",\"mime\" : \"application\\/vnd.francy+json\",\"canvas\" : {\"width\" : 800,\"id\" : \"F320\",\"height\" : 600,\"title\" : \"Rosales graph\",\"zoomToFit\" : true,\"texTypesetting\" : false,\"menus\" : {},\"graph\" : {\"type\" : \"undirected\",\"id\" : \"F315\",\"simulation\" : true,\"collapsed\" : true,\"drag\" : false,\"showNeighbours\" : false,\"nodes\" : {\"F316\" : {\"x\" : 0,\"y\" : 0,\"type\" : \"circle\",\"id\" : \"F316\",\"size\" : 1,\"title\" : \"3\",\"color\" : \"\",\"layer\" : 0,\"parent\" : \"\",\"menus\" : {},\"messages\" : {},\"callbacks\" : {}},\"F317\" : {\"x\" : 0,\"y\" : 0,\"type\" : \"circle\",\"id\" : \"F317\",\"size\" : 1,\"title\" : \"5\",\"color\" : \"\",\"layer\" : 0,\"parent\" : \"\",\"menus\" : {},\"messages\" : {},\"callbacks\" : {}},\"F318\" : {\"x\" : 0,\"y\" : 0,\"type\" : \"circle\",\"id\" : \"F318\",\"size\" : 1,\"title\" : \"7\",\"color\" : \"\",\"layer\" : 0,\"parent\" : \"\",\"menus\" : {},\"messages\" : {},\"callbacks\" : {}}},\"links\" : {\"F319\" : {\"id\" : \"F319\",\"source\" : \"F316\",\"weight\" : 1,\"color\" : \"\",\"target\" : \"F318\"}}},\"messages\" : {}}}"
     },
     "execution_count": 21,
     "metadata": {
      "application/vnd.francy+json": {}
     },
     "output_type": "execute_result"
    }
   ],
   "source": [
    "DrawRosalesGraph(10,s);"
   ]
  },
  {
   "cell_type": "code",
   "execution_count": 22,
   "metadata": {},
   "outputs": [
    {
     "data": {
      "text/plain": [
       "[ 10, 12, 14 ]"
      ]
     },
     "execution_count": 22,
     "metadata": {
      "text/plain": ""
     },
     "output_type": "execute_result"
    }
   ],
   "source": [
    "BettiElements(s);"
   ]
  }
 ],
 "metadata": {
  "kernelspec": {
   "display_name": "GAP 4 (native)",
   "language": "gap",
   "name": "gap-native"
  },
  "language_info": {
   "codemirror_mode": "gap",
   "file_extension": ".g",
   "mimetype": "text/x-gap",
   "name": "GAP (native)",
   "nbconvert_exporter": "",
   "pygments_lexer": "gap",
   "version": "4.dev"
  }
 },
 "nbformat": 4,
 "nbformat_minor": 2
}
