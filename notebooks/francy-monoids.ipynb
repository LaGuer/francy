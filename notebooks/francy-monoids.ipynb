{
 "cells": [
  {
   "cell_type": "code",
   "execution_count": 18,
   "metadata": {},
   "outputs": [
    {
     "data": {
      "text/plain": [
       "true"
      ]
     },
     "execution_count": 18,
     "metadata": {
      "text/plain": ""
     },
     "output_type": "execute_result"
    }
   ],
   "source": [
    "LoadPackage(\"FrancyMonoids\");"
   ]
  },
  {
   "cell_type": "markdown",
   "metadata": {},
   "source": [
    "## Trees"
   ]
  },
  {
   "cell_type": "code",
   "execution_count": 19,
   "metadata": {},
   "outputs": [
    {
     "data": {
      "text/plain": [
       "The numerical semigroup N"
      ]
     },
     "execution_count": 19,
     "metadata": {
      "text/plain": ""
     },
     "output_type": "execute_result"
    }
   ],
   "source": [
    "s:=NumericalSemigroup(1);"
   ]
  },
  {
   "cell_type": "markdown",
   "metadata": {},
   "source": [
    "##  `DrawTreeOfSonsOfNumericalSemigroup(s,l,gensfunc)`\n",
    "\n",
    "This function draws the thre of the sons of `s` up to level `l` with respect to `gensfunc` (a function that gets minimal generators according to a given variety of numerical semigroups, for instance, `MinimalGenerators`)"
   ]
  },
  {
   "cell_type": "code",
   "execution_count": 20,
   "metadata": {
    "scrolled": false
   },
   "outputs": [
    {
     "data": {
      "application/vnd.francy+json": "{\"version\" : \"0.8.10\",\"mime\" : \"application\\/vnd.francy+json\",\"canvas\" : {\"width\" : 800,\"id\" : \"F279\",\"height\" : 600,\"title\" : \"Sons of a numerical semigroup\",\"zoomToFit\" : true,\"texTypesetting\" : true,\"menus\" : {},\"graph\" : {\"type\" : \"tree\",\"id\" : \"F276\",\"simulation\" : true,\"collapsed\" : false,\"drag\" : false,\"showNeighbours\" : false,\"nodes\" : {\"F277\" : {\"x\" : 0,\"y\" : 0,\"type\" : \"circle\",\"id\" : \"F277\",\"size\" : 5,\"title\" : \"S\",\"color\" : \"\",\"layer\" : 0,\"parent\" : \"\",\"menus\" : {},\"messages\" : {\"F278\" : {\"type\" : \"default\",\"id\" : \"F278\",\"text\" : \"[ 1 ]\",\"title\" : \"\"}},\"callbacks\" : {}},\"F280\" : {\"x\" : 0,\"y\" : 0,\"type\" : \"circle\",\"id\" : \"F280\",\"size\" : 5,\"title\" : \"{2,3}\",\"color\" : \"\",\"layer\" : 0,\"parent\" : \"F277\",\"menus\" : {},\"messages\" : {},\"callbacks\" : {}},\"F281\" : {\"x\" : 0,\"y\" : 0,\"type\" : \"circle\",\"id\" : \"F281\",\"size\" : 5,\"title\" : \"{3,4,5}\",\"color\" : \"\",\"layer\" : 0,\"parent\" : \"F280\",\"menus\" : {},\"messages\" : {},\"callbacks\" : {}},\"F282\" : {\"x\" : 0,\"y\" : 0,\"type\" : \"circle\",\"id\" : \"F282\",\"size\" : 5,\"title\" : \"{4,5,6,7}\",\"color\" : \"\",\"layer\" : 0,\"parent\" : \"F281\",\"menus\" : {},\"messages\" : {},\"callbacks\" : {}},\"F283\" : {\"x\" : 0,\"y\" : 0,\"type\" : \"circle\",\"id\" : \"F283\",\"size\" : 5,\"title\" : \"{5,6,7,8,9}\",\"color\" : \"\",\"layer\" : 0,\"parent\" : \"F282\",\"menus\" : {},\"messages\" : {},\"callbacks\" : {}},\"F284\" : {\"x\" : 0,\"y\" : 0,\"type\" : \"circle\",\"id\" : \"F284\",\"size\" : 5,\"title\" : \"{6,7,8,9,10,11}\",\"color\" : \"\",\"layer\" : 0,\"parent\" : \"F283\",\"menus\" : {},\"messages\" : {},\"callbacks\" : {}},\"F285\" : {\"x\" : 0,\"y\" : 0,\"type\" : \"circle\",\"id\" : \"F285\",\"size\" : 5,\"title\" : \"{5,7,8,9,11}\",\"color\" : \"\",\"layer\" : 0,\"parent\" : \"F283\",\"menus\" : {},\"messages\" : {},\"callbacks\" : {}},\"F286\" : {\"x\" : 0,\"y\" : 0,\"type\" : \"circle\",\"id\" : \"F286\",\"size\" : 5,\"title\" : \"{5,6,8,9}\",\"color\" : \"\",\"layer\" : 0,\"parent\" : \"F283\",\"menus\" : {},\"messages\" : {},\"callbacks\" : {}},\"F287\" : {\"x\" : 0,\"y\" : 0,\"type\" : \"circle\",\"id\" : \"F287\",\"size\" : 5,\"title\" : \"{5,6,7,9}\",\"color\" : \"\",\"layer\" : 0,\"parent\" : \"F283\",\"menus\" : {},\"messages\" : {},\"callbacks\" : {}},\"F288\" : {\"x\" : 0,\"y\" : 0,\"type\" : \"circle\",\"id\" : \"F288\",\"size\" : 5,\"title\" : \"{5,6,7,8}\",\"color\" : \"\",\"layer\" : 0,\"parent\" : \"F283\",\"menus\" : {},\"messages\" : {},\"callbacks\" : {}},\"F289\" : {\"x\" : 0,\"y\" : 0,\"type\" : \"circle\",\"id\" : \"F289\",\"size\" : 5,\"title\" : \"{4,6,7,9}\",\"color\" : \"\",\"layer\" : 0,\"parent\" : \"F282\",\"menus\" : {},\"messages\" : {},\"callbacks\" : {}},\"F290\" : {\"x\" : 0,\"y\" : 0,\"type\" : \"circle\",\"id\" : \"F290\",\"size\" : 5,\"title\" : \"{4,7,9,10}\",\"color\" : \"\",\"layer\" : 0,\"parent\" : \"F289\",\"menus\" : {},\"messages\" : {},\"callbacks\" : {}},\"F291\" : {\"x\" : 0,\"y\" : 0,\"type\" : \"circle\",\"id\" : \"F291\",\"size\" : 5,\"title\" : \"{4,6,9,11}\",\"color\" : \"\",\"layer\" : 0,\"parent\" : \"F289\",\"menus\" : {},\"messages\" : {},\"callbacks\" : {}},\"F292\" : {\"x\" : 0,\"y\" : 0,\"type\" : \"circle\",\"id\" : \"F292\",\"size\" : 5,\"title\" : \"{4,6,7}\",\"color\" : \"\",\"layer\" : 0,\"parent\" : \"F289\",\"menus\" : {},\"messages\" : {},\"callbacks\" : {}},\"F293\" : {\"x\" : 0,\"y\" : 0,\"type\" : \"circle\",\"id\" : \"F293\",\"size\" : 5,\"title\" : \"{4,5,7}\",\"color\" : \"\",\"layer\" : 0,\"parent\" : \"F282\",\"menus\" : {},\"messages\" : {},\"callbacks\" : {}},\"F294\" : {\"x\" : 0,\"y\" : 0,\"type\" : \"circle\",\"id\" : \"F294\",\"size\" : 5,\"title\" : \"{4,5,11}\",\"color\" : \"\",\"layer\" : 0,\"parent\" : \"F293\",\"menus\" : {},\"messages\" : {},\"callbacks\" : {}},\"F295\" : {\"x\" : 0,\"y\" : 0,\"type\" : \"circle\",\"id\" : \"F295\",\"size\" : 5,\"title\" : \"{4,5,6}\",\"color\" : \"\",\"layer\" : 0,\"parent\" : \"F282\",\"menus\" : {},\"messages\" : {},\"callbacks\" : {}},\"F296\" : {\"x\" : 0,\"y\" : 0,\"type\" : \"circle\",\"id\" : \"F296\",\"size\" : 5,\"title\" : \"{3,5,7}\",\"color\" : \"\",\"layer\" : 0,\"parent\" : \"F281\",\"menus\" : {},\"messages\" : {},\"callbacks\" : {}},\"F297\" : {\"x\" : 0,\"y\" : 0,\"type\" : \"circle\",\"id\" : \"F297\",\"size\" : 5,\"title\" : \"{3,7,8}\",\"color\" : \"\",\"layer\" : 0,\"parent\" : \"F296\",\"menus\" : {},\"messages\" : {},\"callbacks\" : {}},\"F298\" : {\"x\" : 0,\"y\" : 0,\"type\" : \"circle\",\"id\" : \"F298\",\"size\" : 5,\"title\" : \"{3,8,10}\",\"color\" : \"\",\"layer\" : 0,\"parent\" : \"F297\",\"menus\" : {},\"messages\" : {},\"callbacks\" : {}},\"F299\" : {\"x\" : 0,\"y\" : 0,\"type\" : \"circle\",\"id\" : \"F299\",\"size\" : 5,\"title\" : \"{3,7,11}\",\"color\" : \"\",\"layer\" : 0,\"parent\" : \"F297\",\"menus\" : {},\"messages\" : {},\"callbacks\" : {}},\"F300\" : {\"x\" : 0,\"y\" : 0,\"type\" : \"circle\",\"id\" : \"F300\",\"size\" : 5,\"title\" : \"{3,5}\",\"color\" : \"\",\"layer\" : 0,\"parent\" : \"F296\",\"menus\" : {},\"messages\" : {},\"callbacks\" : {}},\"F301\" : {\"x\" : 0,\"y\" : 0,\"type\" : \"circle\",\"id\" : \"F301\",\"size\" : 5,\"title\" : \"{3,4}\",\"color\" : \"\",\"layer\" : 0,\"parent\" : \"F281\",\"menus\" : {},\"messages\" : {},\"callbacks\" : {}},\"F302\" : {\"x\" : 0,\"y\" : 0,\"type\" : \"circle\",\"id\" : \"F302\",\"size\" : 5,\"title\" : \"{2,5}\",\"color\" : \"\",\"layer\" : 0,\"parent\" : \"F280\",\"menus\" : {},\"messages\" : {},\"callbacks\" : {}},\"F303\" : {\"x\" : 0,\"y\" : 0,\"type\" : \"circle\",\"id\" : \"F303\",\"size\" : 5,\"title\" : \"{2,7}\",\"color\" : \"\",\"layer\" : 0,\"parent\" : \"F302\",\"menus\" : {},\"messages\" : {},\"callbacks\" : {}},\"F304\" : {\"x\" : 0,\"y\" : 0,\"type\" : \"circle\",\"id\" : \"F304\",\"size\" : 5,\"title\" : \"{2,9}\",\"color\" : \"\",\"layer\" : 0,\"parent\" : \"F303\",\"menus\" : {},\"messages\" : {},\"callbacks\" : {}},\"F305\" : {\"x\" : 0,\"y\" : 0,\"type\" : \"circle\",\"id\" : \"F305\",\"size\" : 5,\"title\" : \"{2,11}\",\"color\" : \"\",\"layer\" : 0,\"parent\" : \"F304\",\"menus\" : {},\"messages\" : {},\"callbacks\" : {}}},\"links\" : {}},\"messages\" : {}}}"
     },
     "execution_count": 20,
     "metadata": {
      "application/vnd.francy+json": {}
     },
     "output_type": "execute_result"
    }
   ],
   "source": [
    "DrawTreeOfSonsOfNumericalSemigroup(s,5,MinimalGenerators);"
   ]
  },
  {
   "cell_type": "code",
   "execution_count": 21,
   "metadata": {},
   "outputs": [
    {
     "data": {
      "text/plain": [
       "Numerical semigroup with 3 generators"
      ]
     },
     "execution_count": 21,
     "metadata": {
      "text/plain": ""
     },
     "output_type": "execute_result"
    }
   ],
   "source": [
    "s:=NumericalSemigroup(4,6,9);"
   ]
  },
  {
   "cell_type": "markdown",
   "metadata": {},
   "source": [
    "## `DrawTreeOfGluingsOfNumericalSemigroup(s,expand...)`\n",
    "\n",
    "Draws the decomposition of `s` as a gluing of numerical semigroups, and then proceeds recursively with each of the factors. Decomposition is not unique, and this is why a tree is drawn. The optional argument `expand` may be true or false, and it makes the tree fully expandable or not."
   ]
  },
  {
   "cell_type": "code",
   "execution_count": 22,
   "metadata": {},
   "outputs": [
    {
     "data": {
      "application/vnd.francy+json": "{\"version\" : \"0.8.10\",\"mime\" : \"application\\/vnd.francy+json\",\"canvas\" : {\"width\" : 800,\"id\" : \"F308\",\"height\" : 600,\"title\" : \"Gluings of a numerical semigroup\",\"zoomToFit\" : true,\"texTypesetting\" : false,\"menus\" : {},\"graph\" : {\"type\" : \"tree\",\"id\" : \"F306\",\"simulation\" : true,\"collapsed\" : false,\"drag\" : false,\"showNeighbours\" : false,\"nodes\" : {\"F307\" : {\"x\" : 0,\"y\" : 0,\"type\" : \"circle\",\"id\" : \"F307\",\"size\" : 1,\"title\" : \"〈4,6,9〉\",\"color\" : \"\",\"layer\" : 0,\"parent\" : \"\",\"menus\" : {},\"messages\" : {},\"callbacks\" : {}},\"F309\" : {\"x\" : 0,\"y\" : 0,\"type\" : \"square\",\"id\" : \"F309\",\"size\" : 1,\"title\" : \"〈4〉 + 〈6,9〉\",\"color\" : \"\",\"layer\" : 0,\"parent\" : \"F307\",\"menus\" : {},\"messages\" : {},\"callbacks\" : {}},\"F310\" : {\"x\" : 0,\"y\" : 0,\"type\" : \"circle\",\"id\" : \"F310\",\"size\" : 1,\"title\" : \"〈1〉\",\"color\" : \"\",\"layer\" : 0,\"parent\" : \"F309\",\"menus\" : {},\"messages\" : {},\"callbacks\" : {}},\"F311\" : {\"x\" : 0,\"y\" : 0,\"type\" : \"circle\",\"id\" : \"F311\",\"size\" : 1,\"title\" : \"〈2,3〉\",\"color\" : \"\",\"layer\" : 0,\"parent\" : \"F309\",\"menus\" : {},\"messages\" : {},\"callbacks\" : {}},\"F312\" : {\"x\" : 0,\"y\" : 0,\"type\" : \"square\",\"id\" : \"F312\",\"size\" : 1,\"title\" : \"〈2〉 + 〈3〉\",\"color\" : \"\",\"layer\" : 0,\"parent\" : \"F311\",\"menus\" : {},\"messages\" : {},\"callbacks\" : {}},\"F313\" : {\"x\" : 0,\"y\" : 0,\"type\" : \"circle\",\"id\" : \"F313\",\"size\" : 1,\"title\" : \"〈1〉\",\"color\" : \"\",\"layer\" : 0,\"parent\" : \"F312\",\"menus\" : {},\"messages\" : {},\"callbacks\" : {}},\"F314\" : {\"x\" : 0,\"y\" : 0,\"type\" : \"circle\",\"id\" : \"F314\",\"size\" : 1,\"title\" : \"〈1〉\",\"color\" : \"\",\"layer\" : 0,\"parent\" : \"F312\",\"menus\" : {},\"messages\" : {},\"callbacks\" : {}},\"F315\" : {\"x\" : 0,\"y\" : 0,\"type\" : \"square\",\"id\" : \"F315\",\"size\" : 1,\"title\" : \"〈4,6〉 + 〈9〉\",\"color\" : \"\",\"layer\" : 0,\"parent\" : \"F307\",\"menus\" : {},\"messages\" : {},\"callbacks\" : {}},\"F316\" : {\"x\" : 0,\"y\" : 0,\"type\" : \"circle\",\"id\" : \"F316\",\"size\" : 1,\"title\" : \"〈2,3〉\",\"color\" : \"\",\"layer\" : 0,\"parent\" : \"F315\",\"menus\" : {},\"messages\" : {},\"callbacks\" : {}},\"F317\" : {\"x\" : 0,\"y\" : 0,\"type\" : \"circle\",\"id\" : \"F317\",\"size\" : 1,\"title\" : \"〈1〉\",\"color\" : \"\",\"layer\" : 0,\"parent\" : \"F315\",\"menus\" : {},\"messages\" : {},\"callbacks\" : {}},\"F318\" : {\"x\" : 0,\"y\" : 0,\"type\" : \"square\",\"id\" : \"F318\",\"size\" : 1,\"title\" : \"〈2〉 + 〈3〉\",\"color\" : \"\",\"layer\" : 0,\"parent\" : \"F316\",\"menus\" : {},\"messages\" : {},\"callbacks\" : {}},\"F319\" : {\"x\" : 0,\"y\" : 0,\"type\" : \"circle\",\"id\" : \"F319\",\"size\" : 1,\"title\" : \"〈1〉\",\"color\" : \"\",\"layer\" : 0,\"parent\" : \"F318\",\"menus\" : {},\"messages\" : {},\"callbacks\" : {}},\"F320\" : {\"x\" : 0,\"y\" : 0,\"type\" : \"circle\",\"id\" : \"F320\",\"size\" : 1,\"title\" : \"〈1〉\",\"color\" : \"\",\"layer\" : 0,\"parent\" : \"F318\",\"menus\" : {},\"messages\" : {},\"callbacks\" : {}}},\"links\" : {}},\"messages\" : {}}}"
     },
     "execution_count": 22,
     "metadata": {
      "application/vnd.francy+json": {}
     },
     "output_type": "execute_result"
    }
   ],
   "source": [
    "DrawTreeOfGluingsOfNumericalSemigroup(s,true);"
   ]
  },
  {
   "cell_type": "markdown",
   "metadata": {},
   "source": [
    "## Hasse Diagrams"
   ]
  },
  {
   "cell_type": "code",
   "execution_count": 23,
   "metadata": {},
   "outputs": [
    {
     "data": {
      "text/plain": [
       "Numerical semigroup with 3 generators"
      ]
     },
     "execution_count": 23,
     "metadata": {
      "text/plain": ""
     },
     "output_type": "execute_result"
    }
   ],
   "source": [
    "s:=NumericalSemigroup(3,5,7);"
   ]
  },
  {
   "cell_type": "markdown",
   "metadata": {},
   "source": [
    "## `DrawHasseDiagramOfNumericalSemigroup(s, A)`\n",
    "\n",
    "Draws the Hasse diagram of `A` (a set of integers) with respect to the ordering induced by `s`: $a\\preceq b$ if $b-a$ is in `s`."
   ]
  },
  {
   "cell_type": "code",
   "execution_count": 24,
   "metadata": {
    "scrolled": false
   },
   "outputs": [
    {
     "data": {
      "application/vnd.francy+json": "{\"version\" : \"0.8.10\",\"mime\" : \"application\\/vnd.francy+json\",\"canvas\" : {\"width\" : 800,\"id\" : \"F407\",\"height\" : 600,\"title\" : \"Hasse diagram of numerical semigroup\",\"zoomToFit\" : true,\"texTypesetting\" : false,\"menus\" : {},\"graph\" : {\"type\" : \"directed\",\"id\" : \"F321\",\"simulation\" : true,\"collapsed\" : true,\"drag\" : false,\"showNeighbours\" : false,\"nodes\" : {\"F322\" : {\"x\" : 0,\"y\" : 0,\"type\" : \"circle\",\"id\" : \"F322\",\"size\" : 10,\"title\" : \"1\",\"color\" : \"\",\"layer\" : 0,\"parent\" : \"\",\"menus\" : {},\"messages\" : {},\"callbacks\" : {\"F323\" : {\"func\" : \"unknown\",\"id\" : \"F323\",\"trigger\" : \"click\",\"knownArgs\" : [\"1\"],\"requiredArgs\" : {}}}},\"F324\" : {\"x\" : 0,\"y\" : 0,\"type\" : \"circle\",\"id\" : \"F324\",\"size\" : 10,\"title\" : \"2\",\"color\" : \"\",\"layer\" : 0,\"parent\" : \"\",\"menus\" : {},\"messages\" : {},\"callbacks\" : {\"F325\" : {\"func\" : \"unknown\",\"id\" : \"F325\",\"trigger\" : \"click\",\"knownArgs\" : [\"2\"],\"requiredArgs\" : {}}}},\"F326\" : {\"x\" : 0,\"y\" : 0,\"type\" : \"circle\",\"id\" : \"F326\",\"size\" : 10,\"title\" : \"3\",\"color\" : \"\",\"layer\" : 0,\"parent\" : \"\",\"menus\" : {},\"messages\" : {},\"callbacks\" : {\"F327\" : {\"func\" : \"unknown\",\"id\" : \"F327\",\"trigger\" : \"click\",\"knownArgs\" : [\"3\"],\"requiredArgs\" : {}}}},\"F328\" : {\"x\" : 0,\"y\" : 0,\"type\" : \"circle\",\"id\" : \"F328\",\"size\" : 10,\"title\" : \"4\",\"color\" : \"\",\"layer\" : -1,\"parent\" : \"\",\"menus\" : {},\"messages\" : {},\"callbacks\" : {\"F329\" : {\"func\" : \"unknown\",\"id\" : \"F329\",\"trigger\" : \"click\",\"knownArgs\" : [\"4\"],\"requiredArgs\" : {}}}},\"F330\" : {\"x\" : 0,\"y\" : 0,\"type\" : \"circle\",\"id\" : \"F330\",\"size\" : 10,\"title\" : \"5\",\"color\" : \"\",\"layer\" : -1,\"parent\" : \"\",\"menus\" : {},\"messages\" : {},\"callbacks\" : {\"F331\" : {\"func\" : \"unknown\",\"id\" : \"F331\",\"trigger\" : \"click\",\"knownArgs\" : [\"5\"],\"requiredArgs\" : {}}}},\"F332\" : {\"x\" : 0,\"y\" : 0,\"type\" : \"circle\",\"id\" : \"F332\",\"size\" : 10,\"title\" : \"6\",\"color\" : \"\",\"layer\" : -1,\"parent\" : \"\",\"menus\" : {},\"messages\" : {},\"callbacks\" : {\"F333\" : {\"func\" : \"unknown\",\"id\" : \"F333\",\"trigger\" : \"click\",\"knownArgs\" : [\"6\"],\"requiredArgs\" : {}}}},\"F334\" : {\"x\" : 0,\"y\" : 0,\"type\" : \"circle\",\"id\" : \"F334\",\"size\" : 10,\"title\" : \"7\",\"color\" : \"\",\"layer\" : -2,\"parent\" : \"\",\"menus\" : {},\"messages\" : {},\"callbacks\" : {\"F335\" : {\"func\" : \"unknown\",\"id\" : \"F335\",\"trigger\" : \"click\",\"knownArgs\" : [\"7\"],\"requiredArgs\" : {}}}},\"F336\" : {\"x\" : 0,\"y\" : 0,\"type\" : \"circle\",\"id\" : \"F336\",\"size\" : 10,\"title\" : \"8\",\"color\" : \"\",\"layer\" : -2,\"parent\" : \"\",\"menus\" : {},\"messages\" : {},\"callbacks\" : {\"F337\" : {\"func\" : \"unknown\",\"id\" : \"F337\",\"trigger\" : \"click\",\"knownArgs\" : [\"8\"],\"requiredArgs\" : {}}}},\"F338\" : {\"x\" : 0,\"y\" : 0,\"type\" : \"circle\",\"id\" : \"F338\",\"size\" : 10,\"title\" : \"9\",\"color\" : \"\",\"layer\" : -2,\"parent\" : \"\",\"menus\" : {},\"messages\" : {},\"callbacks\" : {\"F339\" : {\"func\" : \"unknown\",\"id\" : \"F339\",\"trigger\" : \"click\",\"knownArgs\" : [\"9\"],\"requiredArgs\" : {}}}},\"F340\" : {\"x\" : 0,\"y\" : 0,\"type\" : \"circle\",\"id\" : \"F340\",\"size\" : 10,\"title\" : \"10\",\"color\" : \"\",\"layer\" : -3,\"parent\" : \"\",\"menus\" : {},\"messages\" : {},\"callbacks\" : {\"F341\" : {\"func\" : \"unknown\",\"id\" : \"F341\",\"trigger\" : \"click\",\"knownArgs\" : [\"10\"],\"requiredArgs\" : {}}}},\"F342\" : {\"x\" : 0,\"y\" : 0,\"type\" : \"circle\",\"id\" : \"F342\",\"size\" : 10,\"title\" : \"11\",\"color\" : \"\",\"layer\" : -3,\"parent\" : \"\",\"menus\" : {},\"messages\" : {},\"callbacks\" : {\"F343\" : {\"func\" : \"unknown\",\"id\" : \"F343\",\"trigger\" : \"click\",\"knownArgs\" : [\"11\"],\"requiredArgs\" : {}}}},\"F344\" : {\"x\" : 0,\"y\" : 0,\"type\" : \"circle\",\"id\" : \"F344\",\"size\" : 10,\"title\" : \"12\",\"color\" : \"\",\"layer\" : -3,\"parent\" : \"\",\"menus\" : {},\"messages\" : {},\"callbacks\" : {\"F345\" : {\"func\" : \"unknown\",\"id\" : \"F345\",\"trigger\" : \"click\",\"knownArgs\" : [\"12\"],\"requiredArgs\" : {}}}},\"F346\" : {\"x\" : 0,\"y\" : 0,\"type\" : \"circle\",\"id\" : \"F346\",\"size\" : 10,\"title\" : \"13\",\"color\" : \"\",\"layer\" : -4,\"parent\" : \"\",\"menus\" : {},\"messages\" : {},\"callbacks\" : {\"F347\" : {\"func\" : \"unknown\",\"id\" : \"F347\",\"trigger\" : \"click\",\"knownArgs\" : [\"13\"],\"requiredArgs\" : {}}}},\"F348\" : {\"x\" : 0,\"y\" : 0,\"type\" : \"circle\",\"id\" : \"F348\",\"size\" : 10,\"title\" : \"14\",\"color\" : \"\",\"layer\" : -4,\"parent\" : \"\",\"menus\" : {},\"messages\" : {},\"callbacks\" : {\"F349\" : {\"func\" : \"unknown\",\"id\" : \"F349\",\"trigger\" : \"click\",\"knownArgs\" : [\"14\"],\"requiredArgs\" : {}}}},\"F350\" : {\"x\" : 0,\"y\" : 0,\"type\" : \"circle\",\"id\" : \"F350\",\"size\" : 10,\"title\" : \"15\",\"color\" : \"\",\"layer\" : -4,\"parent\" : \"\",\"menus\" : {},\"messages\" : {},\"callbacks\" : {\"F351\" : {\"func\" : \"unknown\",\"id\" : \"F351\",\"trigger\" : \"click\",\"knownArgs\" : [\"15\"],\"requiredArgs\" : {}}}},\"F352\" : {\"x\" : 0,\"y\" : 0,\"type\" : \"circle\",\"id\" : \"F352\",\"size\" : 10,\"title\" : \"16\",\"color\" : \"\",\"layer\" : -5,\"parent\" : \"\",\"menus\" : {},\"messages\" : {},\"callbacks\" : {\"F353\" : {\"func\" : \"unknown\",\"id\" : \"F353\",\"trigger\" : \"click\",\"knownArgs\" : [\"16\"],\"requiredArgs\" : {}}}},\"F354\" : {\"x\" : 0,\"y\" : 0,\"type\" : \"circle\",\"id\" : \"F354\",\"size\" : 10,\"title\" : \"17\",\"color\" : \"\",\"layer\" : -5,\"parent\" : \"\",\"menus\" : {},\"messages\" : {},\"callbacks\" : {\"F355\" : {\"func\" : \"unknown\",\"id\" : \"F355\",\"trigger\" : \"click\",\"knownArgs\" : [\"17\"],\"requiredArgs\" : {}}}},\"F356\" : {\"x\" : 0,\"y\" : 0,\"type\" : \"circle\",\"id\" : \"F356\",\"size\" : 10,\"title\" : \"18\",\"color\" : \"\",\"layer\" : -5,\"parent\" : \"\",\"menus\" : {},\"messages\" : {},\"callbacks\" : {\"F357\" : {\"func\" : \"unknown\",\"id\" : \"F357\",\"trigger\" : \"click\",\"knownArgs\" : [\"18\"],\"requiredArgs\" : {}}}},\"F358\" : {\"x\" : 0,\"y\" : 0,\"type\" : \"circle\",\"id\" : \"F358\",\"size\" : 10,\"title\" : \"19\",\"color\" : \"\",\"layer\" : -6,\"parent\" : \"\",\"menus\" : {},\"messages\" : {},\"callbacks\" : {\"F359\" : {\"func\" : \"unknown\",\"id\" : \"F359\",\"trigger\" : \"click\",\"knownArgs\" : [\"19\"],\"requiredArgs\" : {}}}},\"F360\" : {\"x\" : 0,\"y\" : 0,\"type\" : \"circle\",\"id\" : \"F360\",\"size\" : 10,\"title\" : \"20\",\"color\" : \"\",\"layer\" : -6,\"parent\" : \"\",\"menus\" : {},\"messages\" : {},\"callbacks\" : {\"F361\" : {\"func\" : \"unknown\",\"id\" : \"F361\",\"trigger\" : \"click\",\"knownArgs\" : [\"20\"],\"requiredArgs\" : {}}}}},\"links\" : {\"F362\" : {\"id\" : \"F362\",\"source\" : \"F322\",\"length\" : 0,\"weight\" : 0,\"color\" : \"\",\"invisible\" : false,\"target\" : \"F328\"},\"F363\" : {\"id\" : \"F363\",\"source\" : \"F322\",\"length\" : 0,\"weight\" : 0,\"color\" : \"\",\"invisible\" : false,\"target\" : \"F332\"},\"F364\" : {\"id\" : \"F364\",\"source\" : \"F322\",\"length\" : 0,\"weight\" : 0,\"color\" : \"\",\"invisible\" : false,\"target\" : \"F336\"},\"F365\" : {\"id\" : \"F365\",\"source\" : \"F324\",\"length\" : 0,\"weight\" : 0,\"color\" : \"\",\"invisible\" : false,\"target\" : \"F330\"},\"F366\" : {\"id\" : \"F366\",\"source\" : \"F324\",\"length\" : 0,\"weight\" : 0,\"color\" : \"\",\"invisible\" : false,\"target\" : \"F334\"},\"F367\" : {\"id\" : \"F367\",\"source\" : \"F324\",\"length\" : 0,\"weight\" : 0,\"color\" : \"\",\"invisible\" : false,\"target\" : \"F338\"},\"F368\" : {\"id\" : \"F368\",\"source\" : \"F326\",\"length\" : 0,\"weight\" : 0,\"color\" : \"\",\"invisible\" : false,\"target\" : \"F332\"},\"F369\" : {\"id\" : \"F369\",\"source\" : \"F326\",\"length\" : 0,\"weight\" : 0,\"color\" : \"\",\"invisible\" : false,\"target\" : \"F336\"},\"F370\" : {\"id\" : \"F370\",\"source\" : \"F326\",\"length\" : 0,\"weight\" : 0,\"color\" : \"\",\"invisible\" : false,\"target\" : \"F340\"},\"F371\" : {\"id\" : \"F371\",\"source\" : \"F328\",\"length\" : 0,\"weight\" : 0,\"color\" : \"\",\"invisible\" : false,\"target\" : \"F334\"},\"F372\" : {\"id\" : \"F372\",\"source\" : \"F328\",\"length\" : 0,\"weight\" : 0,\"color\" : \"\",\"invisible\" : false,\"target\" : \"F338\"},\"F373\" : {\"id\" : \"F373\",\"source\" : \"F328\",\"length\" : 0,\"weight\" : 0,\"color\" : \"\",\"invisible\" : false,\"target\" : \"F342\"},\"F374\" : {\"id\" : \"F374\",\"source\" : \"F330\",\"length\" : 0,\"weight\" : 0,\"color\" : \"\",\"invisible\" : false,\"target\" : \"F336\"},\"F375\" : {\"id\" : \"F375\",\"source\" : \"F330\",\"length\" : 0,\"weight\" : 0,\"color\" : \"\",\"invisible\" : false,\"target\" : \"F340\"},\"F376\" : {\"id\" : \"F376\",\"source\" : \"F330\",\"length\" : 0,\"weight\" : 0,\"color\" : \"\",\"invisible\" : false,\"target\" : \"F344\"},\"F377\" : {\"id\" : \"F377\",\"source\" : \"F332\",\"length\" : 0,\"weight\" : 0,\"color\" : \"\",\"invisible\" : false,\"target\" : \"F338\"},\"F378\" : {\"id\" : \"F378\",\"source\" : \"F332\",\"length\" : 0,\"weight\" : 0,\"color\" : \"\",\"invisible\" : false,\"target\" : \"F342\"},\"F379\" : {\"id\" : \"F379\",\"source\" : \"F332\",\"length\" : 0,\"weight\" : 0,\"color\" : \"\",\"invisible\" : false,\"target\" : \"F346\"},\"F380\" : {\"id\" : \"F380\",\"source\" : \"F334\",\"length\" : 0,\"weight\" : 0,\"color\" : \"\",\"invisible\" : false,\"target\" : \"F340\"},\"F381\" : {\"id\" : \"F381\",\"source\" : \"F334\",\"length\" : 0,\"weight\" : 0,\"color\" : \"\",\"invisible\" : false,\"target\" : \"F344\"},\"F382\" : {\"id\" : \"F382\",\"source\" : \"F334\",\"length\" : 0,\"weight\" : 0,\"color\" : \"\",\"invisible\" : false,\"target\" : \"F348\"},\"F383\" : {\"id\" : \"F383\",\"source\" : \"F336\",\"length\" : 0,\"weight\" : 0,\"color\" : \"\",\"invisible\" : false,\"target\" : \"F342\"},\"F384\" : {\"id\" : \"F384\",\"source\" : \"F336\",\"length\" : 0,\"weight\" : 0,\"color\" : \"\",\"invisible\" : false,\"target\" : \"F346\"},\"F385\" : {\"id\" : \"F385\",\"source\" : \"F336\",\"length\" : 0,\"weight\" : 0,\"color\" : \"\",\"invisible\" : false,\"target\" : \"F350\"},\"F386\" : {\"id\" : \"F386\",\"source\" : \"F338\",\"length\" : 0,\"weight\" : 0,\"color\" : \"\",\"invisible\" : false,\"target\" : \"F344\"},\"F387\" : {\"id\" : \"F387\",\"source\" : \"F338\",\"length\" : 0,\"weight\" : 0,\"color\" : \"\",\"invisible\" : false,\"target\" : \"F348\"},\"F388\" : {\"id\" : \"F388\",\"source\" : \"F338\",\"length\" : 0,\"weight\" : 0,\"color\" : \"\",\"invisible\" : false,\"target\" : \"F352\"},\"F389\" : {\"id\" : \"F389\",\"source\" : \"F340\",\"length\" : 0,\"weight\" : 0,\"color\" : \"\",\"invisible\" : false,\"target\" : \"F346\"},\"F390\" : {\"id\" : \"F390\",\"source\" : \"F340\",\"length\" : 0,\"weight\" : 0,\"color\" : \"\",\"invisible\" : false,\"target\" : \"F350\"},\"F391\" : {\"id\" : \"F391\",\"source\" : \"F340\",\"length\" : 0,\"weight\" : 0,\"color\" : \"\",\"invisible\" : false,\"target\" : \"F354\"},\"F392\" : {\"id\" : \"F392\",\"source\" : \"F342\",\"length\" : 0,\"weight\" : 0,\"color\" : \"\",\"invisible\" : false,\"target\" : \"F348\"},\"F393\" : {\"id\" : \"F393\",\"source\" : \"F342\",\"length\" : 0,\"weight\" : 0,\"color\" : \"\",\"invisible\" : false,\"target\" : \"F352\"},\"F394\" : {\"id\" : \"F394\",\"source\" : \"F342\",\"length\" : 0,\"weight\" : 0,\"color\" : \"\",\"invisible\" : false,\"target\" : \"F356\"},\"F395\" : {\"id\" : \"F395\",\"source\" : \"F344\",\"length\" : 0,\"weight\" : 0,\"color\" : \"\",\"invisible\" : false,\"target\" : \"F350\"},\"F396\" : {\"id\" : \"F396\",\"source\" : \"F344\",\"length\" : 0,\"weight\" : 0,\"color\" : \"\",\"invisible\" : false,\"target\" : \"F354\"},\"F397\" : {\"id\" : \"F397\",\"source\" : \"F344\",\"length\" : 0,\"weight\" : 0,\"color\" : \"\",\"invisible\" : false,\"target\" : \"F358\"},\"F398\" : {\"id\" : \"F398\",\"source\" : \"F346\",\"length\" : 0,\"weight\" : 0,\"color\" : \"\",\"invisible\" : false,\"target\" : \"F352\"},\"F399\" : {\"id\" : \"F399\",\"source\" : \"F346\",\"length\" : 0,\"weight\" : 0,\"color\" : \"\",\"invisible\" : false,\"target\" : \"F356\"},\"F400\" : {\"id\" : \"F400\",\"source\" : \"F346\",\"length\" : 0,\"weight\" : 0,\"color\" : \"\",\"invisible\" : false,\"target\" : \"F360\"},\"F401\" : {\"id\" : \"F401\",\"source\" : \"F348\",\"length\" : 0,\"weight\" : 0,\"color\" : \"\",\"invisible\" : false,\"target\" : \"F354\"},\"F402\" : {\"id\" : \"F402\",\"source\" : \"F348\",\"length\" : 0,\"weight\" : 0,\"color\" : \"\",\"invisible\" : false,\"target\" : \"F358\"},\"F403\" : {\"id\" : \"F403\",\"source\" : \"F350\",\"length\" : 0,\"weight\" : 0,\"color\" : \"\",\"invisible\" : false,\"target\" : \"F356\"},\"F404\" : {\"id\" : \"F404\",\"source\" : \"F350\",\"length\" : 0,\"weight\" : 0,\"color\" : \"\",\"invisible\" : false,\"target\" : \"F360\"},\"F405\" : {\"id\" : \"F405\",\"source\" : \"F352\",\"length\" : 0,\"weight\" : 0,\"color\" : \"\",\"invisible\" : false,\"target\" : \"F358\"},\"F406\" : {\"id\" : \"F406\",\"source\" : \"F354\",\"length\" : 0,\"weight\" : 0,\"color\" : \"\",\"invisible\" : false,\"target\" : \"F360\"}}},\"messages\" : {}}}"
     },
     "execution_count": 24,
     "metadata": {
      "application/vnd.francy+json": {}
     },
     "output_type": "execute_result"
    }
   ],
   "source": [
    "DrawHasseDiagramOfNumericalSemigroup(s,[1..20]);"
   ]
  },
  {
   "cell_type": "markdown",
   "metadata": {},
   "source": [
    "Of special interest is the Hasse diagram of an Apéry set or of the Betti elements."
   ]
  },
  {
   "cell_type": "code",
   "execution_count": 26,
   "metadata": {
    "scrolled": false
   },
   "outputs": [
    {
     "data": {
      "text/plain": [
       "Numerical semigroup with 4 generators"
      ]
     },
     "execution_count": 25,
     "metadata": {
      "text/plain": ""
     },
     "output_type": "execute_result"
    },
    {
     "data": {
      "application/vnd.francy+json": "{\"version\" : \"0.8.10\",\"mime\" : \"application\\/vnd.francy+json\",\"canvas\" : {\"width\" : 800,\"id\" : \"F449\",\"height\" : 600,\"title\" : \"Hasse diagram of numerical semigroup\",\"zoomToFit\" : true,\"texTypesetting\" : false,\"menus\" : {},\"graph\" : {\"type\" : \"directed\",\"id\" : \"F408\",\"simulation\" : true,\"collapsed\" : true,\"drag\" : false,\"showNeighbours\" : false,\"nodes\" : {\"F409\" : {\"x\" : 0,\"y\" : 0,\"type\" : \"circle\",\"id\" : \"F409\",\"size\" : 10,\"title\" : \"0\",\"color\" : \"\",\"layer\" : 0,\"parent\" : \"\",\"menus\" : {},\"messages\" : {},\"callbacks\" : {\"F410\" : {\"func\" : \"unknown\",\"id\" : \"F410\",\"trigger\" : \"click\",\"knownArgs\" : [\"0\"],\"requiredArgs\" : {}}}},\"F411\" : {\"x\" : 0,\"y\" : 0,\"type\" : \"circle\",\"id\" : \"F411\",\"size\" : 10,\"title\" : \"5\",\"color\" : \"\",\"layer\" : -1,\"parent\" : \"\",\"menus\" : {},\"messages\" : {},\"callbacks\" : {\"F412\" : {\"func\" : \"unknown\",\"id\" : \"F412\",\"trigger\" : \"click\",\"knownArgs\" : [\"5\"],\"requiredArgs\" : {}}}},\"F413\" : {\"x\" : 0,\"y\" : 0,\"type\" : \"circle\",\"id\" : \"F413\",\"size\" : 10,\"title\" : \"7\",\"color\" : \"\",\"layer\" : -1,\"parent\" : \"\",\"menus\" : {},\"messages\" : {},\"callbacks\" : {\"F414\" : {\"func\" : \"unknown\",\"id\" : \"F414\",\"trigger\" : \"click\",\"knownArgs\" : [\"7\"],\"requiredArgs\" : {}}}},\"F415\" : {\"x\" : 0,\"y\" : 0,\"type\" : \"circle\",\"id\" : \"F415\",\"size\" : 10,\"title\" : \"9\",\"color\" : \"\",\"layer\" : -1,\"parent\" : \"\",\"menus\" : {},\"messages\" : {},\"callbacks\" : {\"F416\" : {\"func\" : \"unknown\",\"id\" : \"F416\",\"trigger\" : \"click\",\"knownArgs\" : [\"9\"],\"requiredArgs\" : {}}}},\"F417\" : {\"x\" : 0,\"y\" : 0,\"type\" : \"circle\",\"id\" : \"F417\",\"size\" : 10,\"title\" : \"11\",\"color\" : \"\",\"layer\" : -1,\"parent\" : \"\",\"menus\" : {},\"messages\" : {},\"callbacks\" : {\"F418\" : {\"func\" : \"unknown\",\"id\" : \"F418\",\"trigger\" : \"click\",\"knownArgs\" : [\"11\"],\"requiredArgs\" : {}}}},\"F419\" : {\"x\" : 0,\"y\" : 0,\"type\" : \"circle\",\"id\" : \"F419\",\"size\" : 10,\"title\" : \"12\",\"color\" : \"\",\"layer\" : -2,\"parent\" : \"\",\"menus\" : {},\"messages\" : {},\"callbacks\" : {\"F420\" : {\"func\" : \"unknown\",\"id\" : \"F420\",\"trigger\" : \"click\",\"knownArgs\" : [\"12\"],\"requiredArgs\" : {}}}},\"F421\" : {\"x\" : 0,\"y\" : 0,\"type\" : \"circle\",\"id\" : \"F421\",\"size\" : 10,\"title\" : \"14\",\"color\" : \"\",\"layer\" : -2,\"parent\" : \"\",\"menus\" : {},\"messages\" : {},\"callbacks\" : {\"F422\" : {\"func\" : \"unknown\",\"id\" : \"F422\",\"trigger\" : \"click\",\"knownArgs\" : [\"14\"],\"requiredArgs\" : {}}}},\"F423\" : {\"x\" : 0,\"y\" : 0,\"type\" : \"circle\",\"id\" : \"F423\",\"size\" : 10,\"title\" : \"16\",\"color\" : \"\",\"layer\" : -2,\"parent\" : \"\",\"menus\" : {},\"messages\" : {},\"callbacks\" : {\"F424\" : {\"func\" : \"unknown\",\"id\" : \"F424\",\"trigger\" : \"click\",\"knownArgs\" : [\"16\"],\"requiredArgs\" : {}}}},\"F425\" : {\"x\" : 0,\"y\" : 0,\"type\" : \"circle\",\"id\" : \"F425\",\"size\" : 10,\"title\" : \"18\",\"color\" : \"\",\"layer\" : -2,\"parent\" : \"\",\"menus\" : {},\"messages\" : {},\"callbacks\" : {\"F426\" : {\"func\" : \"unknown\",\"id\" : \"F426\",\"trigger\" : \"click\",\"knownArgs\" : [\"18\"],\"requiredArgs\" : {}}}},\"F427\" : {\"x\" : 0,\"y\" : 0,\"type\" : \"circle\",\"id\" : \"F427\",\"size\" : 10,\"title\" : \"23\",\"color\" : \"\",\"layer\" : -3,\"parent\" : \"\",\"menus\" : {},\"messages\" : {},\"callbacks\" : {\"F428\" : {\"func\" : \"unknown\",\"id\" : \"F428\",\"trigger\" : \"click\",\"knownArgs\" : [\"23\"],\"requiredArgs\" : {}}}}},\"links\" : {\"F429\" : {\"id\" : \"F429\",\"source\" : \"F409\",\"length\" : 0,\"weight\" : 0,\"color\" : \"\",\"invisible\" : false,\"target\" : \"F411\"},\"F430\" : {\"id\" : \"F430\",\"source\" : \"F409\",\"length\" : 0,\"weight\" : 0,\"color\" : \"\",\"invisible\" : false,\"target\" : \"F413\"},\"F431\" : {\"id\" : \"F431\",\"source\" : \"F409\",\"length\" : 0,\"weight\" : 0,\"color\" : \"\",\"invisible\" : false,\"target\" : \"F415\"},\"F432\" : {\"id\" : \"F432\",\"source\" : \"F409\",\"length\" : 0,\"weight\" : 0,\"color\" : \"\",\"invisible\" : false,\"target\" : \"F417\"},\"F433\" : {\"id\" : \"F433\",\"source\" : \"F411\",\"length\" : 0,\"weight\" : 0,\"color\" : \"\",\"invisible\" : false,\"target\" : \"F419\"},\"F434\" : {\"id\" : \"F434\",\"source\" : \"F411\",\"length\" : 0,\"weight\" : 0,\"color\" : \"\",\"invisible\" : false,\"target\" : \"F421\"},\"F435\" : {\"id\" : \"F435\",\"source\" : \"F411\",\"length\" : 0,\"weight\" : 0,\"color\" : \"\",\"invisible\" : false,\"target\" : \"F423\"},\"F436\" : {\"id\" : \"F436\",\"source\" : \"F413\",\"length\" : 0,\"weight\" : 0,\"color\" : \"\",\"invisible\" : false,\"target\" : \"F419\"},\"F437\" : {\"id\" : \"F437\",\"source\" : \"F413\",\"length\" : 0,\"weight\" : 0,\"color\" : \"\",\"invisible\" : false,\"target\" : \"F421\"},\"F438\" : {\"id\" : \"F438\",\"source\" : \"F413\",\"length\" : 0,\"weight\" : 0,\"color\" : \"\",\"invisible\" : false,\"target\" : \"F423\"},\"F439\" : {\"id\" : \"F439\",\"source\" : \"F413\",\"length\" : 0,\"weight\" : 0,\"color\" : \"\",\"invisible\" : false,\"target\" : \"F425\"},\"F440\" : {\"id\" : \"F440\",\"source\" : \"F415\",\"length\" : 0,\"weight\" : 0,\"color\" : \"\",\"invisible\" : false,\"target\" : \"F421\"},\"F441\" : {\"id\" : \"F441\",\"source\" : \"F415\",\"length\" : 0,\"weight\" : 0,\"color\" : \"\",\"invisible\" : false,\"target\" : \"F423\"},\"F442\" : {\"id\" : \"F442\",\"source\" : \"F415\",\"length\" : 0,\"weight\" : 0,\"color\" : \"\",\"invisible\" : false,\"target\" : \"F425\"},\"F443\" : {\"id\" : \"F443\",\"source\" : \"F417\",\"length\" : 0,\"weight\" : 0,\"color\" : \"\",\"invisible\" : false,\"target\" : \"F423\"},\"F444\" : {\"id\" : \"F444\",\"source\" : \"F417\",\"length\" : 0,\"weight\" : 0,\"color\" : \"\",\"invisible\" : false,\"target\" : \"F425\"},\"F445\" : {\"id\" : \"F445\",\"source\" : \"F419\",\"length\" : 0,\"weight\" : 0,\"color\" : \"\",\"invisible\" : false,\"target\" : \"F427\"},\"F446\" : {\"id\" : \"F446\",\"source\" : \"F421\",\"length\" : 0,\"weight\" : 0,\"color\" : \"\",\"invisible\" : false,\"target\" : \"F427\"},\"F447\" : {\"id\" : \"F447\",\"source\" : \"F423\",\"length\" : 0,\"weight\" : 0,\"color\" : \"\",\"invisible\" : false,\"target\" : \"F427\"},\"F448\" : {\"id\" : \"F448\",\"source\" : \"F425\",\"length\" : 0,\"weight\" : 0,\"color\" : \"\",\"invisible\" : false,\"target\" : \"F427\"}}},\"messages\" : {}}}"
     },
     "execution_count": 26,
     "metadata": {
      "application/vnd.francy+json": {}
     },
     "output_type": "execute_result"
    }
   ],
   "source": [
    "s:=NumericalSemigroup(5,7,9,11);\n",
    "DrawHasseDiagramOfNumericalSemigroup(s,AperyList(s,10));"
   ]
  },
  {
   "cell_type": "markdown",
   "metadata": {},
   "source": [
    "## `DrawOverSemigroupsNumericalSemigroup(s)`\n",
    "\n",
    "Draws the Hasse diagram of oversemigroups of the numerical semigroup `s`."
   ]
  },
  {
   "cell_type": "code",
   "execution_count": 28,
   "metadata": {},
   "outputs": [
    {
     "data": {
      "text/plain": [
       "Numerical semigroup with 4 generators"
      ]
     },
     "execution_count": 27,
     "metadata": {
      "text/plain": ""
     },
     "output_type": "execute_result"
    },
    {
     "data": {
      "application/vnd.francy+json": "{\"version\" : \"0.8.10\",\"mime\" : \"application\\/vnd.francy+json\",\"canvas\" : {\"width\" : 800,\"id\" : \"F488\",\"height\" : 600,\"title\" : \"Oversemigroups\",\"zoomToFit\" : true,\"texTypesetting\" : true,\"menus\" : {},\"graph\" : {\"type\" : \"directed\",\"id\" : \"F450\",\"simulation\" : true,\"collapsed\" : true,\"drag\" : false,\"showNeighbours\" : false,\"nodes\" : {\"F451\" : {\"x\" : 0,\"y\" : 0,\"type\" : \"diamond\",\"id\" : \"F451\",\"size\" : 2,\"title\" : \"〈 1 〉\",\"color\" : \"\",\"layer\" : 0,\"parent\" : \"\",\"menus\" : {},\"messages\" : {},\"callbacks\" : {}},\"F452\" : {\"x\" : 0,\"y\" : 0,\"type\" : \"diamond\",\"id\" : \"F452\",\"size\" : 2,\"title\" : \"〈 2,3 〉\",\"color\" : \"\",\"layer\" : 1,\"parent\" : \"\",\"menus\" : {},\"messages\" : {},\"callbacks\" : {}},\"F453\" : {\"x\" : 0,\"y\" : 0,\"type\" : \"diamond\",\"id\" : \"F453\",\"size\" : 2,\"title\" : \"〈 2,5 〉\",\"color\" : \"\",\"layer\" : 2,\"parent\" : \"\",\"menus\" : {},\"messages\" : {},\"callbacks\" : {}},\"F454\" : {\"x\" : 0,\"y\" : 0,\"type\" : \"diamond\",\"id\" : \"F454\",\"size\" : 2,\"title\" : \"〈 3,4,5 〉\",\"color\" : \"\",\"layer\" : 2,\"parent\" : \"\",\"menus\" : {},\"messages\" : {},\"callbacks\" : {}},\"F455\" : {\"x\" : 0,\"y\" : 0,\"type\" : \"diamond\",\"id\" : \"F455\",\"size\" : 2,\"title\" : \"〈 3,5,7 〉\",\"color\" : \"\",\"layer\" : 3,\"parent\" : \"\",\"menus\" : {},\"messages\" : {},\"callbacks\" : {}},\"F456\" : {\"x\" : 0,\"y\" : 0,\"type\" : \"circle\",\"id\" : \"F456\",\"size\" : 2,\"title\" : \"〈 4,5,6,7 〉\",\"color\" : \"\",\"layer\" : 3,\"parent\" : \"\",\"menus\" : {},\"messages\" : {},\"callbacks\" : {}},\"F457\" : {\"x\" : 0,\"y\" : 0,\"type\" : \"diamond\",\"id\" : \"F457\",\"size\" : 2,\"title\" : \"〈 4,5,7 〉\",\"color\" : \"\",\"layer\" : 4,\"parent\" : \"\",\"menus\" : {},\"messages\" : {},\"callbacks\" : {}},\"F458\" : {\"x\" : 0,\"y\" : 0,\"type\" : \"circle\",\"id\" : \"F458\",\"size\" : 2,\"title\" : \"〈 5,6,7,8,9 〉\",\"color\" : \"\",\"layer\" : 4,\"parent\" : \"\",\"menus\" : {},\"messages\" : {},\"callbacks\" : {}},\"F459\" : {\"x\" : 0,\"y\" : 0,\"type\" : \"diamond\",\"id\" : \"F459\",\"size\" : 2,\"title\" : \"〈 5,6,7,8 〉\",\"color\" : \"\",\"layer\" : 5,\"parent\" : \"\",\"menus\" : {},\"messages\" : {},\"callbacks\" : {}},\"F460\" : {\"x\" : 0,\"y\" : 0,\"type\" : \"diamond\",\"id\" : \"F460\",\"size\" : 2,\"title\" : \"〈 5,6,7,9 〉\",\"color\" : \"\",\"layer\" : 5,\"parent\" : \"\",\"menus\" : {},\"messages\" : {},\"callbacks\" : {}},\"F461\" : {\"x\" : 0,\"y\" : 0,\"type\" : \"circle\",\"id\" : \"F461\",\"size\" : 2,\"title\" : \"〈 5,6,7 〉\",\"color\" : \"\",\"layer\" : 6,\"parent\" : \"\",\"menus\" : {},\"messages\" : {},\"callbacks\" : {}},\"F462\" : {\"x\" : 0,\"y\" : 0,\"type\" : \"circle\",\"id\" : \"F462\",\"size\" : 2,\"title\" : \"〈 5,7,8,9,11 〉\",\"color\" : \"\",\"layer\" : 5,\"parent\" : \"\",\"menus\" : {},\"messages\" : {},\"callbacks\" : {}},\"F463\" : {\"x\" : 0,\"y\" : 0,\"type\" : \"circle\",\"id\" : \"F463\",\"size\" : 2,\"title\" : \"〈 5,7,8,11 〉\",\"color\" : \"\",\"layer\" : 6,\"parent\" : \"\",\"menus\" : {},\"messages\" : {},\"callbacks\" : {}},\"F464\" : {\"x\" : 0,\"y\" : 0,\"type\" : \"circle\",\"id\" : \"F464\",\"size\" : 2,\"title\" : \"〈 5,7,9,11,13 〉\",\"color\" : \"\",\"layer\" : 6,\"parent\" : \"\",\"menus\" : {},\"messages\" : {},\"callbacks\" : {}},\"F465\" : {\"x\" : 0,\"y\" : 0,\"type\" : \"circle\",\"id\" : \"F465\",\"size\" : 2,\"title\" : \"〈 5,7,11,13 〉\",\"color\" : \"\",\"layer\" : 7,\"parent\" : \"\",\"menus\" : {},\"messages\" : {},\"callbacks\" : {}}},\"links\" : {\"F466\" : {\"id\" : \"F466\",\"source\" : \"F452\",\"length\" : 0,\"weight\" : 0,\"color\" : \"\",\"invisible\" : false,\"target\" : \"F451\"},\"F467\" : {\"id\" : \"F467\",\"source\" : \"F453\",\"length\" : 0,\"weight\" : 0,\"color\" : \"\",\"invisible\" : false,\"target\" : \"F452\"},\"F468\" : {\"id\" : \"F468\",\"source\" : \"F454\",\"length\" : 0,\"weight\" : 0,\"color\" : \"\",\"invisible\" : false,\"target\" : \"F452\"},\"F469\" : {\"id\" : \"F469\",\"source\" : \"F456\",\"length\" : 0,\"weight\" : 0,\"color\" : \"\",\"invisible\" : false,\"target\" : \"F453\"},\"F470\" : {\"id\" : \"F470\",\"source\" : \"F455\",\"length\" : 0,\"weight\" : 0,\"color\" : \"\",\"invisible\" : false,\"target\" : \"F454\"},\"F471\" : {\"id\" : \"F471\",\"source\" : \"F456\",\"length\" : 0,\"weight\" : 0,\"color\" : \"\",\"invisible\" : false,\"target\" : \"F454\"},\"F472\" : {\"id\" : \"F472\",\"source\" : \"F458\",\"length\" : 0,\"weight\" : 0,\"color\" : \"\",\"invisible\" : false,\"target\" : \"F455\"},\"F473\" : {\"id\" : \"F473\",\"source\" : \"F457\",\"length\" : 0,\"weight\" : 0,\"color\" : \"\",\"invisible\" : false,\"target\" : \"F456\"},\"F474\" : {\"id\" : \"F474\",\"source\" : \"F458\",\"length\" : 0,\"weight\" : 0,\"color\" : \"\",\"invisible\" : false,\"target\" : \"F456\"},\"F475\" : {\"id\" : \"F475\",\"source\" : \"F462\",\"length\" : 0,\"weight\" : 0,\"color\" : \"\",\"invisible\" : false,\"target\" : \"F457\"},\"F476\" : {\"id\" : \"F476\",\"source\" : \"F459\",\"length\" : 0,\"weight\" : 0,\"color\" : \"\",\"invisible\" : false,\"target\" : \"F458\"},\"F477\" : {\"id\" : \"F477\",\"source\" : \"F460\",\"length\" : 0,\"weight\" : 0,\"color\" : \"\",\"invisible\" : false,\"target\" : \"F458\"},\"F478\" : {\"id\" : \"F478\",\"source\" : \"F462\",\"length\" : 0,\"weight\" : 0,\"color\" : \"\",\"invisible\" : false,\"target\" : \"F458\"},\"F479\" : {\"id\" : \"F479\",\"source\" : \"F461\",\"length\" : 0,\"weight\" : 0,\"color\" : \"\",\"invisible\" : false,\"target\" : \"F459\"},\"F480\" : {\"id\" : \"F480\",\"source\" : \"F463\",\"length\" : 0,\"weight\" : 0,\"color\" : \"\",\"invisible\" : false,\"target\" : \"F459\"},\"F481\" : {\"id\" : \"F481\",\"source\" : \"F461\",\"length\" : 0,\"weight\" : 0,\"color\" : \"\",\"invisible\" : false,\"target\" : \"F460\"},\"F482\" : {\"id\" : \"F482\",\"source\" : \"F464\",\"length\" : 0,\"weight\" : 0,\"color\" : \"\",\"invisible\" : false,\"target\" : \"F460\"},\"F483\" : {\"id\" : \"F483\",\"source\" : \"F465\",\"length\" : 0,\"weight\" : 0,\"color\" : \"\",\"invisible\" : false,\"target\" : \"F461\"},\"F484\" : {\"id\" : \"F484\",\"source\" : \"F463\",\"length\" : 0,\"weight\" : 0,\"color\" : \"\",\"invisible\" : false,\"target\" : \"F462\"},\"F485\" : {\"id\" : \"F485\",\"source\" : \"F464\",\"length\" : 0,\"weight\" : 0,\"color\" : \"\",\"invisible\" : false,\"target\" : \"F462\"},\"F486\" : {\"id\" : \"F486\",\"source\" : \"F465\",\"length\" : 0,\"weight\" : 0,\"color\" : \"\",\"invisible\" : false,\"target\" : \"F463\"},\"F487\" : {\"id\" : \"F487\",\"source\" : \"F465\",\"length\" : 0,\"weight\" : 0,\"color\" : \"\",\"invisible\" : false,\"target\" : \"F464\"}}},\"messages\" : {}}}"
     },
     "execution_count": 28,
     "metadata": {
      "application/vnd.francy+json": {}
     },
     "output_type": "execute_result"
    }
   ],
   "source": [
    "s:=NumericalSemigroup(5,7,11,13);\n",
    "DrawOverSemigroupsNumericalSemigroup(s);"
   ]
  },
  {
   "cell_type": "markdown",
   "metadata": {},
   "source": [
    "## Graphs"
   ]
  },
  {
   "cell_type": "code",
   "execution_count": 29,
   "metadata": {},
   "outputs": [
    {
     "data": {
      "text/plain": [
       "Numerical semigroup with 3 generators"
      ]
     },
     "execution_count": 29,
     "metadata": {
      "text/plain": ""
     },
     "output_type": "execute_result"
    }
   ],
   "source": [
    "s:=NumericalSemigroup(3,5,7);"
   ]
  },
  {
   "cell_type": "code",
   "execution_count": 30,
   "metadata": {},
   "outputs": [
    {
     "data": {
      "text/plain": [
       "[ [ 10, 0, 0 ], [ 5, 3, 0 ], [ 0, 6, 0 ], [ 6, 1, 1 ], [ 1, 4, 1 ], [ 2, 2, 2 ], [ 3, 0, 3 ] ]"
      ]
     },
     "execution_count": 30,
     "metadata": {
      "text/plain": ""
     },
     "output_type": "execute_result"
    }
   ],
   "source": [
    "f:=FactorizationsElementWRTNumericalSemigroup(30,s);"
   ]
  },
  {
   "cell_type": "markdown",
   "metadata": {},
   "source": [
    "## `DrawFactorizationGraph(f)`\n",
    "\n",
    "Draws the factorization graph of a set of factorizations `f`, the complete graph with vertices the elements of `f`. Labels are labeled with distances between the nodes they join. It also draws a minimal spanning tree (with minimal distances) and thus one can read the Catenary degree from this tree."
   ]
  },
  {
   "cell_type": "code",
   "execution_count": 31,
   "metadata": {},
   "outputs": [
    {
     "data": {
      "application/vnd.francy+json": "{\"version\" : \"0.8.10\",\"mime\" : \"application\\/vnd.francy+json\",\"canvas\" : {\"width\" : 800,\"id\" : \"F516\",\"height\" : 600,\"title\" : \"Factorizations graph\",\"zoomToFit\" : true,\"texTypesetting\" : false,\"menus\" : {},\"graph\" : {\"type\" : \"undirected\",\"id\" : \"F489\",\"simulation\" : true,\"collapsed\" : true,\"drag\" : false,\"showNeighbours\" : false,\"nodes\" : {\"F490\" : {\"x\" : 0,\"y\" : 0,\"type\" : \"circle\",\"id\" : \"F490\",\"size\" : 1,\"title\" : \"(10,0,0)\",\"color\" : \"\",\"layer\" : 10,\"parent\" : \"\",\"menus\" : {},\"messages\" : {},\"callbacks\" : {}},\"F491\" : {\"x\" : 0,\"y\" : 0,\"type\" : \"circle\",\"id\" : \"F491\",\"size\" : 1,\"title\" : \"(5,3,0)\",\"color\" : \"\",\"layer\" : 8,\"parent\" : \"\",\"menus\" : {},\"messages\" : {},\"callbacks\" : {}},\"F492\" : {\"x\" : 0,\"y\" : 0,\"type\" : \"circle\",\"id\" : \"F492\",\"size\" : 1,\"title\" : \"(0,6,0)\",\"color\" : \"\",\"layer\" : 6,\"parent\" : \"\",\"menus\" : {},\"messages\" : {},\"callbacks\" : {}},\"F493\" : {\"x\" : 0,\"y\" : 0,\"type\" : \"circle\",\"id\" : \"F493\",\"size\" : 1,\"title\" : \"(6,1,1)\",\"color\" : \"\",\"layer\" : 8,\"parent\" : \"\",\"menus\" : {},\"messages\" : {},\"callbacks\" : {}},\"F494\" : {\"x\" : 0,\"y\" : 0,\"type\" : \"circle\",\"id\" : \"F494\",\"size\" : 1,\"title\" : \"(1,4,1)\",\"color\" : \"\",\"layer\" : 6,\"parent\" : \"\",\"menus\" : {},\"messages\" : {},\"callbacks\" : {}},\"F495\" : {\"x\" : 0,\"y\" : 0,\"type\" : \"circle\",\"id\" : \"F495\",\"size\" : 1,\"title\" : \"(2,2,2)\",\"color\" : \"\",\"layer\" : 6,\"parent\" : \"\",\"menus\" : {},\"messages\" : {},\"callbacks\" : {}},\"F496\" : {\"x\" : 0,\"y\" : 0,\"type\" : \"circle\",\"id\" : \"F496\",\"size\" : 1,\"title\" : \"(3,0,3)\",\"color\" : \"\",\"layer\" : 6,\"parent\" : \"\",\"menus\" : {},\"messages\" : {},\"callbacks\" : {}}},\"links\" : {\"F497\" : {\"id\" : \"F497\",\"source\" : \"F491\",\"length\" : 0,\"weight\" : 0,\"title\" : \"2\",\"color\" : \"red\",\"invisible\" : false,\"target\" : \"F493\"},\"F498\" : {\"id\" : \"F498\",\"source\" : \"F492\",\"length\" : 0,\"weight\" : 0,\"title\" : \"2\",\"color\" : \"red\",\"invisible\" : false,\"target\" : \"F494\"},\"F499\" : {\"id\" : \"F499\",\"source\" : \"F494\",\"length\" : 0,\"weight\" : 0,\"title\" : \"2\",\"color\" : \"red\",\"invisible\" : false,\"target\" : \"F495\"},\"F500\" : {\"id\" : \"F500\",\"source\" : \"F495\",\"length\" : 0,\"weight\" : 0,\"title\" : \"2\",\"color\" : \"red\",\"invisible\" : false,\"target\" : \"F496\"},\"F501\" : {\"id\" : \"F501\",\"source\" : \"F490\",\"length\" : 0,\"weight\" : 0,\"title\" : \"4\",\"color\" : \"red\",\"invisible\" : false,\"target\" : \"F493\"},\"F502\" : {\"id\" : \"F502\",\"source\" : \"F491\",\"length\" : 0,\"weight\" : 0,\"title\" : \"4\",\"color\" : \"red\",\"invisible\" : false,\"target\" : \"F494\"},\"F503\" : {\"id\" : \"F503\",\"source\" : \"F491\",\"length\" : 0,\"weight\" : 0,\"title\" : \"4\",\"color\" : \"\",\"invisible\" : false,\"target\" : \"F495\"},\"F504\" : {\"id\" : \"F504\",\"source\" : \"F492\",\"length\" : 0,\"weight\" : 0,\"title\" : \"4\",\"color\" : \"\",\"invisible\" : false,\"target\" : \"F495\"},\"F505\" : {\"id\" : \"F505\",\"source\" : \"F493\",\"length\" : 0,\"weight\" : 0,\"title\" : \"4\",\"color\" : \"\",\"invisible\" : false,\"target\" : \"F495\"},\"F506\" : {\"id\" : \"F506\",\"source\" : \"F493\",\"length\" : 0,\"weight\" : 0,\"title\" : \"4\",\"color\" : \"\",\"invisible\" : false,\"target\" : \"F496\"},\"F507\" : {\"id\" : \"F507\",\"source\" : \"F494\",\"length\" : 0,\"weight\" : 0,\"title\" : \"4\",\"color\" : \"\",\"invisible\" : false,\"target\" : \"F496\"},\"F508\" : {\"id\" : \"F508\",\"source\" : \"F490\",\"length\" : 0,\"weight\" : 0,\"title\" : \"5\",\"color\" : \"\",\"invisible\" : false,\"target\" : \"F491\"},\"F509\" : {\"id\" : \"F509\",\"source\" : \"F491\",\"length\" : 0,\"weight\" : 0,\"title\" : \"5\",\"color\" : \"\",\"invisible\" : false,\"target\" : \"F492\"},\"F510\" : {\"id\" : \"F510\",\"source\" : \"F491\",\"length\" : 0,\"weight\" : 0,\"title\" : \"5\",\"color\" : \"\",\"invisible\" : false,\"target\" : \"F496\"},\"F511\" : {\"id\" : \"F511\",\"source\" : \"F493\",\"length\" : 0,\"weight\" : 0,\"title\" : \"5\",\"color\" : \"\",\"invisible\" : false,\"target\" : \"F494\"},\"F512\" : {\"id\" : \"F512\",\"source\" : \"F490\",\"length\" : 0,\"weight\" : 0,\"title\" : \"7\",\"color\" : \"\",\"invisible\" : false,\"target\" : \"F496\"},\"F513\" : {\"id\" : \"F513\",\"source\" : \"F492\",\"length\" : 0,\"weight\" : 0,\"title\" : \"7\",\"color\" : \"\",\"invisible\" : false,\"target\" : \"F493\"},\"F514\" : {\"id\" : \"F514\",\"source\" : \"F490\",\"length\" : 0,\"weight\" : 0,\"title\" : \"8\",\"color\" : \"\",\"invisible\" : false,\"target\" : \"F495\"},\"F515\" : {\"id\" : \"F515\",\"source\" : \"F490\",\"length\" : 0,\"weight\" : 0,\"title\" : \"9\",\"color\" : \"\",\"invisible\" : false,\"target\" : \"F494\"}}},\"messages\" : {}}}"
     },
     "execution_count": 31,
     "metadata": {
      "application/vnd.francy+json": {}
     },
     "output_type": "execute_result"
    }
   ],
   "source": [
    "DrawFactorizationGraph(f);"
   ]
  },
  {
   "cell_type": "markdown",
   "metadata": {},
   "source": [
    "## `DrawEliahouGraph(f)`\n",
    "\n",
    "Draws the Eliahou's graph associated to the set of factorizations `f`. The vertices of the graph are the elements in `f`, and two vertices are joined with an edge if they have common support. "
   ]
  },
  {
   "cell_type": "code",
   "execution_count": 32,
   "metadata": {},
   "outputs": [
    {
     "data": {
      "application/vnd.francy+json": "{\"version\" : \"0.8.10\",\"mime\" : \"application\\/vnd.francy+json\",\"canvas\" : {\"width\" : 800,\"id\" : \"F544\",\"height\" : 600,\"title\" : \"Eliahou graph\",\"zoomToFit\" : true,\"texTypesetting\" : false,\"menus\" : {},\"graph\" : {\"type\" : \"undirected\",\"id\" : \"F517\",\"simulation\" : true,\"collapsed\" : true,\"drag\" : false,\"showNeighbours\" : false,\"nodes\" : {\"F518\" : {\"x\" : 0,\"y\" : 0,\"type\" : \"circle\",\"id\" : \"F518\",\"size\" : 1,\"title\" : \"(10,0,0)\",\"color\" : \"\",\"layer\" : 10,\"parent\" : \"\",\"menus\" : {},\"messages\" : {},\"callbacks\" : {}},\"F519\" : {\"x\" : 0,\"y\" : 0,\"type\" : \"circle\",\"id\" : \"F519\",\"size\" : 1,\"title\" : \"(5,3,0)\",\"color\" : \"\",\"layer\" : 8,\"parent\" : \"\",\"menus\" : {},\"messages\" : {},\"callbacks\" : {}},\"F520\" : {\"x\" : 0,\"y\" : 0,\"type\" : \"circle\",\"id\" : \"F520\",\"size\" : 1,\"title\" : \"(0,6,0)\",\"color\" : \"\",\"layer\" : 6,\"parent\" : \"\",\"menus\" : {},\"messages\" : {},\"callbacks\" : {}},\"F521\" : {\"x\" : 0,\"y\" : 0,\"type\" : \"circle\",\"id\" : \"F521\",\"size\" : 1,\"title\" : \"(6,1,1)\",\"color\" : \"\",\"layer\" : 8,\"parent\" : \"\",\"menus\" : {},\"messages\" : {},\"callbacks\" : {}},\"F522\" : {\"x\" : 0,\"y\" : 0,\"type\" : \"circle\",\"id\" : \"F522\",\"size\" : 1,\"title\" : \"(1,4,1)\",\"color\" : \"\",\"layer\" : 6,\"parent\" : \"\",\"menus\" : {},\"messages\" : {},\"callbacks\" : {}},\"F523\" : {\"x\" : 0,\"y\" : 0,\"type\" : \"circle\",\"id\" : \"F523\",\"size\" : 1,\"title\" : \"(2,2,2)\",\"color\" : \"\",\"layer\" : 6,\"parent\" : \"\",\"menus\" : {},\"messages\" : {},\"callbacks\" : {}},\"F524\" : {\"x\" : 0,\"y\" : 0,\"type\" : \"circle\",\"id\" : \"F524\",\"size\" : 1,\"title\" : \"(3,0,3)\",\"color\" : \"\",\"layer\" : 6,\"parent\" : \"\",\"menus\" : {},\"messages\" : {},\"callbacks\" : {}}},\"links\" : {\"F525\" : {\"id\" : \"F525\",\"source\" : \"F518\",\"length\" : 0,\"weight\" : 0,\"color\" : \"\",\"invisible\" : false,\"target\" : \"F519\"},\"F526\" : {\"id\" : \"F526\",\"source\" : \"F518\",\"length\" : 0,\"weight\" : 0,\"color\" : \"\",\"invisible\" : false,\"target\" : \"F521\"},\"F527\" : {\"id\" : \"F527\",\"source\" : \"F518\",\"length\" : 0,\"weight\" : 0,\"color\" : \"\",\"invisible\" : false,\"target\" : \"F522\"},\"F528\" : {\"id\" : \"F528\",\"source\" : \"F518\",\"length\" : 0,\"weight\" : 0,\"color\" : \"\",\"invisible\" : false,\"target\" : \"F523\"},\"F529\" : {\"id\" : \"F529\",\"source\" : \"F518\",\"length\" : 0,\"weight\" : 0,\"color\" : \"\",\"invisible\" : false,\"target\" : \"F524\"},\"F530\" : {\"id\" : \"F530\",\"source\" : \"F519\",\"length\" : 0,\"weight\" : 0,\"color\" : \"\",\"invisible\" : false,\"target\" : \"F520\"},\"F531\" : {\"id\" : \"F531\",\"source\" : \"F519\",\"length\" : 0,\"weight\" : 0,\"color\" : \"\",\"invisible\" : false,\"target\" : \"F521\"},\"F532\" : {\"id\" : \"F532\",\"source\" : \"F519\",\"length\" : 0,\"weight\" : 0,\"color\" : \"\",\"invisible\" : false,\"target\" : \"F522\"},\"F533\" : {\"id\" : \"F533\",\"source\" : \"F519\",\"length\" : 0,\"weight\" : 0,\"color\" : \"\",\"invisible\" : false,\"target\" : \"F523\"},\"F534\" : {\"id\" : \"F534\",\"source\" : \"F519\",\"length\" : 0,\"weight\" : 0,\"color\" : \"\",\"invisible\" : false,\"target\" : \"F524\"},\"F535\" : {\"id\" : \"F535\",\"source\" : \"F520\",\"length\" : 0,\"weight\" : 0,\"color\" : \"\",\"invisible\" : false,\"target\" : \"F521\"},\"F536\" : {\"id\" : \"F536\",\"source\" : \"F520\",\"length\" : 0,\"weight\" : 0,\"color\" : \"\",\"invisible\" : false,\"target\" : \"F522\"},\"F537\" : {\"id\" : \"F537\",\"source\" : \"F520\",\"length\" : 0,\"weight\" : 0,\"color\" : \"\",\"invisible\" : false,\"target\" : \"F523\"},\"F538\" : {\"id\" : \"F538\",\"source\" : \"F521\",\"length\" : 0,\"weight\" : 0,\"color\" : \"\",\"invisible\" : false,\"target\" : \"F522\"},\"F539\" : {\"id\" : \"F539\",\"source\" : \"F521\",\"length\" : 0,\"weight\" : 0,\"color\" : \"\",\"invisible\" : false,\"target\" : \"F523\"},\"F540\" : {\"id\" : \"F540\",\"source\" : \"F521\",\"length\" : 0,\"weight\" : 0,\"color\" : \"\",\"invisible\" : false,\"target\" : \"F524\"},\"F541\" : {\"id\" : \"F541\",\"source\" : \"F522\",\"length\" : 0,\"weight\" : 0,\"color\" : \"\",\"invisible\" : false,\"target\" : \"F523\"},\"F542\" : {\"id\" : \"F542\",\"source\" : \"F522\",\"length\" : 0,\"weight\" : 0,\"color\" : \"\",\"invisible\" : false,\"target\" : \"F524\"},\"F543\" : {\"id\" : \"F543\",\"source\" : \"F523\",\"length\" : 0,\"weight\" : 0,\"color\" : \"\",\"invisible\" : false,\"target\" : \"F524\"}}},\"messages\" : {}}}"
     },
     "execution_count": 32,
     "metadata": {
      "application/vnd.francy+json": {}
     },
     "output_type": "execute_result"
    }
   ],
   "source": [
    "DrawEliahouGraph(f);"
   ]
  },
  {
   "cell_type": "markdown",
   "metadata": {},
   "source": [
    "## `DrawRosalesGraph(n,s)`\n",
    "\n",
    "Draws the Rosales graph associated to `n` in `s`. The semigroup `s` can be either a numerical or an affine semigroup. The vertices of the graph are the minimal generators `a` of `s` such that `n-a` is in `s`, and edges are pairs `ab` such that `n-(a+b)` is in `s`."
   ]
  },
  {
   "cell_type": "code",
   "execution_count": 33,
   "metadata": {},
   "outputs": [
    {
     "data": {
      "application/vnd.francy+json": "{\"version\" : \"0.8.10\",\"mime\" : \"application\\/vnd.francy+json\",\"canvas\" : {\"width\" : 800,\"id\" : \"F550\",\"height\" : 600,\"title\" : \"Rosales graph\",\"zoomToFit\" : true,\"texTypesetting\" : false,\"menus\" : {},\"graph\" : {\"type\" : \"undirected\",\"id\" : \"F545\",\"simulation\" : true,\"collapsed\" : true,\"drag\" : false,\"showNeighbours\" : false,\"nodes\" : {\"F546\" : {\"x\" : 0,\"y\" : 0,\"type\" : \"circle\",\"id\" : \"F546\",\"size\" : 1,\"title\" : \"3\",\"color\" : \"\",\"layer\" : 0,\"parent\" : \"\",\"menus\" : {},\"messages\" : {},\"callbacks\" : {}},\"F547\" : {\"x\" : 0,\"y\" : 0,\"type\" : \"circle\",\"id\" : \"F547\",\"size\" : 1,\"title\" : \"5\",\"color\" : \"\",\"layer\" : 0,\"parent\" : \"\",\"menus\" : {},\"messages\" : {},\"callbacks\" : {}},\"F548\" : {\"x\" : 0,\"y\" : 0,\"type\" : \"circle\",\"id\" : \"F548\",\"size\" : 1,\"title\" : \"7\",\"color\" : \"\",\"layer\" : 0,\"parent\" : \"\",\"menus\" : {},\"messages\" : {},\"callbacks\" : {}}},\"links\" : {\"F549\" : {\"id\" : \"F549\",\"source\" : \"F546\",\"length\" : 0,\"weight\" : 0,\"color\" : \"\",\"invisible\" : false,\"target\" : \"F548\"}}},\"messages\" : {}}}"
     },
     "execution_count": 33,
     "metadata": {
      "application/vnd.francy+json": {}
     },
     "output_type": "execute_result"
    }
   ],
   "source": [
    "DrawRosalesGraph(10,s);"
   ]
  },
  {
   "cell_type": "code",
   "execution_count": 34,
   "metadata": {},
   "outputs": [
    {
     "data": {
      "text/plain": [
       "[ 10, 12, 14 ]"
      ]
     },
     "execution_count": 34,
     "metadata": {
      "text/plain": ""
     },
     "output_type": "execute_result"
    }
   ],
   "source": [
    "BettiElements(s);"
   ]
  }
 ],
 "metadata": {
  "kernelspec": {
   "display_name": "GAP 4 (native)",
   "language": "gap",
   "name": "gap-native"
  },
  "language_info": {
   "codemirror_mode": "gap",
   "file_extension": ".g",
   "mimetype": "text/x-gap",
   "name": "GAP (native)",
   "nbconvert_exporter": "",
   "pygments_lexer": "gap",
   "version": "4.dev"
  }
 },
 "nbformat": 4,
 "nbformat_minor": 2
}
