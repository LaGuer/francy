{
 "cells": [
  {
   "cell_type": "code",
   "execution_count": 2,
   "metadata": {},
   "outputs": [
    {
     "data": {
      "text/plain": [
       "true"
      ]
     },
     "execution_count": 2,
     "metadata": {
      "text/plain": ""
     },
     "output_type": "execute_result"
    }
   ],
   "source": [
    "LoadPackage(\"FrancyMonoids\");"
   ]
  },
  {
   "cell_type": "markdown",
   "metadata": {},
   "source": [
    "## Trees"
   ]
  },
  {
   "cell_type": "code",
   "execution_count": 3,
   "metadata": {},
   "outputs": [
    {
     "data": {
      "text/plain": [
       "The numerical semigroup N"
      ]
     },
     "execution_count": 3,
     "metadata": {
      "text/plain": ""
     },
     "output_type": "execute_result"
    }
   ],
   "source": [
    "s:=NumericalSemigroup(1);"
   ]
  },
  {
   "cell_type": "markdown",
   "metadata": {},
   "source": [
    "##  `DrawTreeOfSonsOfNumericalSemigroup(s,l,gensfunc)`\n",
    "\n",
    "This function draws the thre of the sons of `s` up to level `l` with respect to `gensfunc` (a function that gets minimal generators according to a given variety of numerical semigroups, for instance, `MinimalGenerators`)"
   ]
  },
  {
   "cell_type": "code",
   "execution_count": 4,
   "metadata": {
    "scrolled": false
   },
   "outputs": [
    {
     "data": {
      "application/vnd.francy+json": "{\"version\" : \"0.8.0\",\"mime\" : \"application\\/vnd.francy+json\",\"canvas\" : {\"width\" : 800,\"id\" : \"F4\",\"height\" : 600,\"title\" : \"Sons of a numerical semigroup\",\"zoomToFit\" : true,\"texTypesetting\" : true,\"menus\" : {},\"graph\" : {\"type\" : \"tree\",\"id\" : \"F1\",\"simulation\" : true,\"collapsed\" : false,\"drag\" : false,\"showNeighbours\" : false,\"nodes\" : {\"F2\" : {\"x\" : 0,\"y\" : 0,\"type\" : \"circle\",\"id\" : \"F2\",\"size\" : 5,\"title\" : \"S\",\"color\" : \"\",\"layer\" : 0,\"parent\" : \"\",\"menus\" : {},\"messages\" : {\"F3\" : {\"type\" : \"default\",\"id\" : \"F3\",\"text\" : \"[ 1 ]\",\"title\" : \"\"}},\"callbacks\" : {}},\"F5\" : {\"x\" : 0,\"y\" : 0,\"type\" : \"circle\",\"id\" : \"F5\",\"size\" : 5,\"title\" : \"{2,3}\",\"color\" : \"\",\"layer\" : 0,\"parent\" : \"F2\",\"menus\" : {},\"messages\" : {},\"callbacks\" : {}},\"F6\" : {\"x\" : 0,\"y\" : 0,\"type\" : \"circle\",\"id\" : \"F6\",\"size\" : 5,\"title\" : \"{3,4,5}\",\"color\" : \"\",\"layer\" : 0,\"parent\" : \"F5\",\"menus\" : {},\"messages\" : {},\"callbacks\" : {}},\"F7\" : {\"x\" : 0,\"y\" : 0,\"type\" : \"circle\",\"id\" : \"F7\",\"size\" : 5,\"title\" : \"{4,5,6,7}\",\"color\" : \"\",\"layer\" : 0,\"parent\" : \"F6\",\"menus\" : {},\"messages\" : {},\"callbacks\" : {}},\"F8\" : {\"x\" : 0,\"y\" : 0,\"type\" : \"circle\",\"id\" : \"F8\",\"size\" : 5,\"title\" : \"{5,6,7,8,9}\",\"color\" : \"\",\"layer\" : 0,\"parent\" : \"F7\",\"menus\" : {},\"messages\" : {},\"callbacks\" : {}},\"F9\" : {\"x\" : 0,\"y\" : 0,\"type\" : \"circle\",\"id\" : \"F9\",\"size\" : 5,\"title\" : \"{6,7,8,9,10,11}\",\"color\" : \"\",\"layer\" : 0,\"parent\" : \"F8\",\"menus\" : {},\"messages\" : {},\"callbacks\" : {}},\"F10\" : {\"x\" : 0,\"y\" : 0,\"type\" : \"circle\",\"id\" : \"F10\",\"size\" : 5,\"title\" : \"{5,7,8,9,11}\",\"color\" : \"\",\"layer\" : 0,\"parent\" : \"F8\",\"menus\" : {},\"messages\" : {},\"callbacks\" : {}},\"F11\" : {\"x\" : 0,\"y\" : 0,\"type\" : \"circle\",\"id\" : \"F11\",\"size\" : 5,\"title\" : \"{5,6,8,9}\",\"color\" : \"\",\"layer\" : 0,\"parent\" : \"F8\",\"menus\" : {},\"messages\" : {},\"callbacks\" : {}},\"F12\" : {\"x\" : 0,\"y\" : 0,\"type\" : \"circle\",\"id\" : \"F12\",\"size\" : 5,\"title\" : \"{5,6,7,9}\",\"color\" : \"\",\"layer\" : 0,\"parent\" : \"F8\",\"menus\" : {},\"messages\" : {},\"callbacks\" : {}},\"F13\" : {\"x\" : 0,\"y\" : 0,\"type\" : \"circle\",\"id\" : \"F13\",\"size\" : 5,\"title\" : \"{5,6,7,8}\",\"color\" : \"\",\"layer\" : 0,\"parent\" : \"F8\",\"menus\" : {},\"messages\" : {},\"callbacks\" : {}},\"F14\" : {\"x\" : 0,\"y\" : 0,\"type\" : \"circle\",\"id\" : \"F14\",\"size\" : 5,\"title\" : \"{4,6,7,9}\",\"color\" : \"\",\"layer\" : 0,\"parent\" : \"F7\",\"menus\" : {},\"messages\" : {},\"callbacks\" : {}},\"F15\" : {\"x\" : 0,\"y\" : 0,\"type\" : \"circle\",\"id\" : \"F15\",\"size\" : 5,\"title\" : \"{4,7,9,10}\",\"color\" : \"\",\"layer\" : 0,\"parent\" : \"F14\",\"menus\" : {},\"messages\" : {},\"callbacks\" : {}},\"F16\" : {\"x\" : 0,\"y\" : 0,\"type\" : \"circle\",\"id\" : \"F16\",\"size\" : 5,\"title\" : \"{4,6,9,11}\",\"color\" : \"\",\"layer\" : 0,\"parent\" : \"F14\",\"menus\" : {},\"messages\" : {},\"callbacks\" : {}},\"F17\" : {\"x\" : 0,\"y\" : 0,\"type\" : \"circle\",\"id\" : \"F17\",\"size\" : 5,\"title\" : \"{4,6,7}\",\"color\" : \"\",\"layer\" : 0,\"parent\" : \"F14\",\"menus\" : {},\"messages\" : {},\"callbacks\" : {}},\"F18\" : {\"x\" : 0,\"y\" : 0,\"type\" : \"circle\",\"id\" : \"F18\",\"size\" : 5,\"title\" : \"{4,5,7}\",\"color\" : \"\",\"layer\" : 0,\"parent\" : \"F7\",\"menus\" : {},\"messages\" : {},\"callbacks\" : {}},\"F19\" : {\"x\" : 0,\"y\" : 0,\"type\" : \"circle\",\"id\" : \"F19\",\"size\" : 5,\"title\" : \"{4,5,11}\",\"color\" : \"\",\"layer\" : 0,\"parent\" : \"F18\",\"menus\" : {},\"messages\" : {},\"callbacks\" : {}},\"F20\" : {\"x\" : 0,\"y\" : 0,\"type\" : \"circle\",\"id\" : \"F20\",\"size\" : 5,\"title\" : \"{4,5,6}\",\"color\" : \"\",\"layer\" : 0,\"parent\" : \"F7\",\"menus\" : {},\"messages\" : {},\"callbacks\" : {}},\"F21\" : {\"x\" : 0,\"y\" : 0,\"type\" : \"circle\",\"id\" : \"F21\",\"size\" : 5,\"title\" : \"{3,5,7}\",\"color\" : \"\",\"layer\" : 0,\"parent\" : \"F6\",\"menus\" : {},\"messages\" : {},\"callbacks\" : {}},\"F22\" : {\"x\" : 0,\"y\" : 0,\"type\" : \"circle\",\"id\" : \"F22\",\"size\" : 5,\"title\" : \"{3,7,8}\",\"color\" : \"\",\"layer\" : 0,\"parent\" : \"F21\",\"menus\" : {},\"messages\" : {},\"callbacks\" : {}},\"F23\" : {\"x\" : 0,\"y\" : 0,\"type\" : \"circle\",\"id\" : \"F23\",\"size\" : 5,\"title\" : \"{3,8,10}\",\"color\" : \"\",\"layer\" : 0,\"parent\" : \"F22\",\"menus\" : {},\"messages\" : {},\"callbacks\" : {}},\"F24\" : {\"x\" : 0,\"y\" : 0,\"type\" : \"circle\",\"id\" : \"F24\",\"size\" : 5,\"title\" : \"{3,7,11}\",\"color\" : \"\",\"layer\" : 0,\"parent\" : \"F22\",\"menus\" : {},\"messages\" : {},\"callbacks\" : {}},\"F25\" : {\"x\" : 0,\"y\" : 0,\"type\" : \"circle\",\"id\" : \"F25\",\"size\" : 5,\"title\" : \"{3,5}\",\"color\" : \"\",\"layer\" : 0,\"parent\" : \"F21\",\"menus\" : {},\"messages\" : {},\"callbacks\" : {}},\"F26\" : {\"x\" : 0,\"y\" : 0,\"type\" : \"circle\",\"id\" : \"F26\",\"size\" : 5,\"title\" : \"{3,4}\",\"color\" : \"\",\"layer\" : 0,\"parent\" : \"F6\",\"menus\" : {},\"messages\" : {},\"callbacks\" : {}},\"F27\" : {\"x\" : 0,\"y\" : 0,\"type\" : \"circle\",\"id\" : \"F27\",\"size\" : 5,\"title\" : \"{2,5}\",\"color\" : \"\",\"layer\" : 0,\"parent\" : \"F5\",\"menus\" : {},\"messages\" : {},\"callbacks\" : {}},\"F28\" : {\"x\" : 0,\"y\" : 0,\"type\" : \"circle\",\"id\" : \"F28\",\"size\" : 5,\"title\" : \"{2,7}\",\"color\" : \"\",\"layer\" : 0,\"parent\" : \"F27\",\"menus\" : {},\"messages\" : {},\"callbacks\" : {}},\"F29\" : {\"x\" : 0,\"y\" : 0,\"type\" : \"circle\",\"id\" : \"F29\",\"size\" : 5,\"title\" : \"{2,9}\",\"color\" : \"\",\"layer\" : 0,\"parent\" : \"F28\",\"menus\" : {},\"messages\" : {},\"callbacks\" : {}},\"F30\" : {\"x\" : 0,\"y\" : 0,\"type\" : \"circle\",\"id\" : \"F30\",\"size\" : 5,\"title\" : \"{2,11}\",\"color\" : \"\",\"layer\" : 0,\"parent\" : \"F29\",\"menus\" : {},\"messages\" : {},\"callbacks\" : {}}},\"links\" : {}},\"messages\" : {}}}"
     },
     "execution_count": 4,
     "metadata": {
      "application/vnd.francy+json": {}
     },
     "output_type": "execute_result"
    }
   ],
   "source": [
    "DrawTreeOfSonsOfNumericalSemigroup(s,5,MinimalGenerators);"
   ]
  },
  {
   "cell_type": "code",
   "execution_count": 5,
   "metadata": {},
   "outputs": [
    {
     "data": {
      "text/plain": [
       "Numerical semigroup with 3 generators"
      ]
     },
     "execution_count": 5,
     "metadata": {
      "text/plain": ""
     },
     "output_type": "execute_result"
    }
   ],
   "source": [
    "s:=NumericalSemigroup(4,6,9);"
   ]
  },
  {
   "cell_type": "markdown",
   "metadata": {},
   "source": [
    "## `DrawTreeOfGluingsOfNumericalSemigroup(s,expand...)`\n",
    "\n",
    "Draws the decomposition of `s` as a gluing of numerical semigroups, and then proceeds recursively with each of the factors. Decomposition is not unique, and this is why a tree is drawn. The optional argument `expand` may be true or false, and it makes the tree fully expandable or not."
   ]
  },
  {
   "cell_type": "code",
   "execution_count": 6,
   "metadata": {},
   "outputs": [
    {
     "data": {
      "application/vnd.francy+json": "{\"version\" : \"0.8.0\",\"mime\" : \"application\\/vnd.francy+json\",\"canvas\" : {\"width\" : 800,\"id\" : \"F33\",\"height\" : 600,\"title\" : \"Gluings of a numerical semigroup\",\"zoomToFit\" : true,\"texTypesetting\" : false,\"menus\" : {},\"graph\" : {\"type\" : \"tree\",\"id\" : \"F31\",\"simulation\" : true,\"collapsed\" : false,\"drag\" : false,\"showNeighbours\" : false,\"nodes\" : {\"F32\" : {\"x\" : 0,\"y\" : 0,\"type\" : \"circle\",\"id\" : \"F32\",\"size\" : 1,\"title\" : \"〈4,6,9〉\",\"color\" : \"\",\"layer\" : 0,\"parent\" : \"\",\"menus\" : {},\"messages\" : {},\"callbacks\" : {}},\"F34\" : {\"x\" : 0,\"y\" : 0,\"type\" : \"square\",\"id\" : \"F34\",\"size\" : 1,\"title\" : \"〈4〉 + 〈6,9〉\",\"color\" : \"\",\"layer\" : 0,\"parent\" : \"F32\",\"menus\" : {},\"messages\" : {},\"callbacks\" : {}},\"F35\" : {\"x\" : 0,\"y\" : 0,\"type\" : \"circle\",\"id\" : \"F35\",\"size\" : 1,\"title\" : \"〈1〉\",\"color\" : \"\",\"layer\" : 0,\"parent\" : \"F34\",\"menus\" : {},\"messages\" : {},\"callbacks\" : {}},\"F36\" : {\"x\" : 0,\"y\" : 0,\"type\" : \"circle\",\"id\" : \"F36\",\"size\" : 1,\"title\" : \"〈2,3〉\",\"color\" : \"\",\"layer\" : 0,\"parent\" : \"F34\",\"menus\" : {},\"messages\" : {},\"callbacks\" : {}},\"F37\" : {\"x\" : 0,\"y\" : 0,\"type\" : \"square\",\"id\" : \"F37\",\"size\" : 1,\"title\" : \"〈2〉 + 〈3〉\",\"color\" : \"\",\"layer\" : 0,\"parent\" : \"F36\",\"menus\" : {},\"messages\" : {},\"callbacks\" : {}},\"F38\" : {\"x\" : 0,\"y\" : 0,\"type\" : \"circle\",\"id\" : \"F38\",\"size\" : 1,\"title\" : \"〈1〉\",\"color\" : \"\",\"layer\" : 0,\"parent\" : \"F37\",\"menus\" : {},\"messages\" : {},\"callbacks\" : {}},\"F39\" : {\"x\" : 0,\"y\" : 0,\"type\" : \"circle\",\"id\" : \"F39\",\"size\" : 1,\"title\" : \"〈1〉\",\"color\" : \"\",\"layer\" : 0,\"parent\" : \"F37\",\"menus\" : {},\"messages\" : {},\"callbacks\" : {}},\"F40\" : {\"x\" : 0,\"y\" : 0,\"type\" : \"square\",\"id\" : \"F40\",\"size\" : 1,\"title\" : \"〈4,6〉 + 〈9〉\",\"color\" : \"\",\"layer\" : 0,\"parent\" : \"F32\",\"menus\" : {},\"messages\" : {},\"callbacks\" : {}},\"F41\" : {\"x\" : 0,\"y\" : 0,\"type\" : \"circle\",\"id\" : \"F41\",\"size\" : 1,\"title\" : \"〈2,3〉\",\"color\" : \"\",\"layer\" : 0,\"parent\" : \"F40\",\"menus\" : {},\"messages\" : {},\"callbacks\" : {}},\"F42\" : {\"x\" : 0,\"y\" : 0,\"type\" : \"circle\",\"id\" : \"F42\",\"size\" : 1,\"title\" : \"〈1〉\",\"color\" : \"\",\"layer\" : 0,\"parent\" : \"F40\",\"menus\" : {},\"messages\" : {},\"callbacks\" : {}},\"F43\" : {\"x\" : 0,\"y\" : 0,\"type\" : \"square\",\"id\" : \"F43\",\"size\" : 1,\"title\" : \"〈2〉 + 〈3〉\",\"color\" : \"\",\"layer\" : 0,\"parent\" : \"F41\",\"menus\" : {},\"messages\" : {},\"callbacks\" : {}},\"F44\" : {\"x\" : 0,\"y\" : 0,\"type\" : \"circle\",\"id\" : \"F44\",\"size\" : 1,\"title\" : \"〈1〉\",\"color\" : \"\",\"layer\" : 0,\"parent\" : \"F43\",\"menus\" : {},\"messages\" : {},\"callbacks\" : {}},\"F45\" : {\"x\" : 0,\"y\" : 0,\"type\" : \"circle\",\"id\" : \"F45\",\"size\" : 1,\"title\" : \"〈1〉\",\"color\" : \"\",\"layer\" : 0,\"parent\" : \"F43\",\"menus\" : {},\"messages\" : {},\"callbacks\" : {}}},\"links\" : {}},\"messages\" : {}}}"
     },
     "execution_count": 6,
     "metadata": {
      "application/vnd.francy+json": {}
     },
     "output_type": "execute_result"
    }
   ],
   "source": [
    "DrawTreeOfGluingsOfNumericalSemigroup(s,true);"
   ]
  },
  {
   "cell_type": "markdown",
   "metadata": {},
   "source": [
    "## Hasse Diagrams"
   ]
  },
  {
   "cell_type": "code",
   "execution_count": 7,
   "metadata": {},
   "outputs": [
    {
     "data": {
      "text/plain": [
       "Numerical semigroup with 3 generators"
      ]
     },
     "execution_count": 7,
     "metadata": {
      "text/plain": ""
     },
     "output_type": "execute_result"
    }
   ],
   "source": [
    "s:=NumericalSemigroup(3,5,7);"
   ]
  },
  {
   "cell_type": "markdown",
   "metadata": {},
   "source": [
    "## `DrawHasseDiagramOfNumericalSemigroup(s, A)`\n",
    "\n",
    "Draws the Hasse diagram of `A` (a set of integers) with respect to the ordering induced by `s`: $a\\preceq b$ if $b-a$ is in `s`."
   ]
  },
  {
   "cell_type": "code",
   "execution_count": 7,
   "metadata": {
    "scrolled": false
   },
   "outputs": [
    {
     "name": "stderr",
     "output_type": "stream",
     "text": [
      "Error, Variable: 'SetSimulation' must have an assigned value\n"
     ]
    }
   ],
   "source": [
    "DrawHasseDiagramOfNumericalSemigroup(s,[1..20]);"
   ]
  },
  {
   "cell_type": "markdown",
   "metadata": {},
   "source": [
    "Of special interest is the Hasse diagram of an Apéry set or of the Betti elements."
   ]
  },
  {
   "cell_type": "code",
   "execution_count": 8,
   "metadata": {
    "scrolled": false
   },
   "outputs": [
    {
     "name": "stderr",
     "output_type": "stream",
     "text": [
      "Error, Variable: 'SetSimulation' must have an assigned value\n"
     ]
    },
    {
     "data": {
      "text/plain": [
       "Numerical semigroup with 4 generators"
      ]
     },
     "execution_count": 8,
     "metadata": {
      "text/plain": ""
     },
     "output_type": "execute_result"
    }
   ],
   "source": [
    "s:=NumericalSemigroup(5,7,9,11);\n",
    "DrawHasseDiagramOfNumericalSemigroup(s,AperyList(s,10));"
   ]
  },
  {
   "cell_type": "markdown",
   "metadata": {},
   "source": [
    "## `DrawOverSemigroupsNumericalSemigroup(s)`\n",
    "\n",
    "Draws the Hasse diagram of oversemigroups of the numerical semigroup `s`."
   ]
  },
  {
   "cell_type": "code",
   "execution_count": 9,
   "metadata": {},
   "outputs": [
    {
     "name": "stderr",
     "output_type": "stream",
     "text": [
      "Error, Variable: 'SetSimulation' must have an assigned value\n"
     ]
    },
    {
     "data": {
      "text/plain": [
       "Numerical semigroup with 4 generators"
      ]
     },
     "execution_count": 9,
     "metadata": {
      "text/plain": ""
     },
     "output_type": "execute_result"
    }
   ],
   "source": [
    "s:=NumericalSemigroup(5,7,11,13);\n",
    "DrawOverSemigroupsNumericalSemigroup(s);"
   ]
  },
  {
   "cell_type": "markdown",
   "metadata": {},
   "source": [
    "## Graphs"
   ]
  },
  {
   "cell_type": "code",
   "execution_count": 10,
   "metadata": {},
   "outputs": [
    {
     "data": {
      "text/plain": [
       "Numerical semigroup with 3 generators"
      ]
     },
     "execution_count": 10,
     "metadata": {
      "text/plain": ""
     },
     "output_type": "execute_result"
    }
   ],
   "source": [
    "s:=NumericalSemigroup(3,5,7);"
   ]
  },
  {
   "cell_type": "code",
   "execution_count": 11,
   "metadata": {},
   "outputs": [
    {
     "data": {
      "text/plain": [
       "[ [ 10, 0, 0 ], [ 5, 3, 0 ], [ 0, 6, 0 ], [ 6, 1, 1 ], [ 1, 4, 1 ], [ 2, 2, 2 ], [ 3, 0, 3 ] ]"
      ]
     },
     "execution_count": 11,
     "metadata": {
      "text/plain": ""
     },
     "output_type": "execute_result"
    }
   ],
   "source": [
    "f:=FactorizationsElementWRTNumericalSemigroup(30,s);"
   ]
  },
  {
   "cell_type": "markdown",
   "metadata": {},
   "source": [
    "## `DrawFactorizationGraph(f)`\n",
    "\n",
    "Draws the factorization graph of a set of factorizations `f`, the complete graph with vertices the elements of `f`. Labels are labeled with distances between the nodes they join. It also draws a minimal spanning tree (with minimal distances) and thus one can read the Catenary degree from this tree."
   ]
  },
  {
   "cell_type": "code",
   "execution_count": 11,
   "metadata": {},
   "outputs": [
    {
     "name": "stderr",
     "output_type": "stream",
     "text": [
      "Error, Variable: 'SetSimulation' must have an assigned value\n"
     ]
    }
   ],
   "source": [
    "DrawFactorizationGraph(f);"
   ]
  },
  {
   "cell_type": "markdown",
   "metadata": {},
   "source": [
    "## `DrawEliahouGraph(f)`\n",
    "\n",
    "Draws the Eliahou's graph associated to the set of factorizations `f`. The vertices of the graph are the elements in `f`, and two vertices are joined with an edge if they have common support. "
   ]
  },
  {
   "cell_type": "code",
   "execution_count": 11,
   "metadata": {},
   "outputs": [
    {
     "name": "stderr",
     "output_type": "stream",
     "text": [
      "Error, Variable: 'SetShowNeighbours' must have an assigned value\n"
     ]
    }
   ],
   "source": [
    "DrawEliahouGraph(f);"
   ]
  },
  {
   "cell_type": "markdown",
   "metadata": {},
   "source": [
    "## `DrawRosalesGraph(n,s)`\n",
    "\n",
    "Draws the Rosales graph associated to `n` in `s`. The semigroup `s` can be either a numerical or an affine semigroup. The vertices of the graph are the minimal generators `a` of `s` such that `n-a` is in `s`, and edges are pairs `ab` such that `n-(a+b)` is in `s`."
   ]
  },
  {
   "cell_type": "code",
   "execution_count": 11,
   "metadata": {},
   "outputs": [
    {
     "name": "stderr",
     "output_type": "stream",
     "text": [
      "Error, Variable: 'SetSimulation' must have an assigned value\n"
     ]
    }
   ],
   "source": [
    "DrawRosalesGraph(10,s);"
   ]
  },
  {
   "cell_type": "code",
   "execution_count": 12,
   "metadata": {},
   "outputs": [
    {
     "data": {
      "text/plain": [
       "[ 10, 12, 14 ]"
      ]
     },
     "execution_count": 12,
     "metadata": {
      "text/plain": ""
     },
     "output_type": "execute_result"
    }
   ],
   "source": [
    "BettiElements(s);"
   ]
  }
 ],
 "metadata": {
  "kernelspec": {
   "display_name": "GAP 4 (native)",
   "language": "gap",
   "name": "gap-native"
  },
  "language_info": {
   "codemirror_mode": "gap",
   "file_extension": ".g",
   "mimetype": "text/x-gap",
   "name": "GAP (native)",
   "nbconvert_exporter": "",
   "pygments_lexer": "gap",
   "version": "4.dev"
  }
 },
 "nbformat": 4,
 "nbformat_minor": 2
}
