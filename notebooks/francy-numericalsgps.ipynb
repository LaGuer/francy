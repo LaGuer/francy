{
 "cells": [
  {
   "cell_type": "markdown",
   "metadata": {},
   "source": [
    "# Numerical semigroups with `francy`\n",
    "\n",
    "## Load `francy` Package"
   ]
  },
  {
   "cell_type": "code",
   "execution_count": 25,
   "metadata": {},
   "outputs": [
    {
     "data": {
      "text/plain": [
       "true"
      ]
     },
     "execution_count": 24,
     "metadata": {
      "text/plain": ""
     },
     "output_type": "execute_result"
    },
    {
     "data": {
      "text/plain": [
       "true"
      ]
     },
     "execution_count": 25,
     "metadata": {
      "text/plain": ""
     },
     "output_type": "execute_result"
    }
   ],
   "source": [
    "LoadPackage(\"francy\");\n",
    "LoadPackage(\"num\");"
   ]
  },
  {
   "cell_type": "markdown",
   "metadata": {},
   "source": [
    "## Drawing Apéry sets"
   ]
  },
  {
   "cell_type": "markdown",
   "metadata": {},
   "source": [
    "This example draws the Apéry set of a numerical semigrup with respect to its multiplicity. By passing over a node with the mouse, the set of factorizations with respect to the minimal generating system of the numerical semigroup is displayed. Clicking a node produces a message with the same information."
   ]
  },
  {
   "cell_type": "code",
   "execution_count": 26,
   "metadata": {},
   "outputs": [
    {
     "data": {
      "text/plain": [
       "function( arg... ) ... end"
      ]
     },
     "execution_count": 26,
     "metadata": {
      "text/plain": ""
     },
     "output_type": "execute_result"
    }
   ],
   "source": [
    "apery:=function(arg)\n",
    "    local ap,c,hasse, s, n, r, graphHasse, aps, es, canvas, i, order, showfacts, message;\n",
    "    # rel is a list of lists with two elements representin a binary relation\n",
    "    # hasse(rel) removes from rel the pairs [x,y] such that there exists\n",
    "    # z with [x,z],[z,y] in rel\n",
    "    hasse:=function(rel)\n",
    "      local dom, out;\n",
    "      dom:=Flat(rel);\n",
    "      out:=Filtered(rel, p-> ForAny(dom, x->([p[1],x] in rel) and ([x,p[2]] in rel)));\n",
    "      return Difference(rel,out);\n",
    "    end;\n",
    "\n",
    "    order:=function(x)\n",
    "        return Maximum(LengthsOfFactorizationsElementWRTNumericalSemigroup(x,s));\n",
    "    end;\n",
    "\n",
    "    showfacts:=function(x)\n",
    "        message := FrancyMessage(Concatenation(String(x), \" factors as \"), \n",
    "                    String(FactorizationsElementWRTNumericalSemigroup(x,s)));\n",
    "        SetId(message, Concatenation(\"message-for-\", String(x)));\n",
    "        Add(canvas, message);\n",
    "        return Draw(canvas);\n",
    "    end;\n",
    "    if Length(arg)=1 then\n",
    "        s:=arg[1];\n",
    "        n:=MultiplicityOfNumericalSemigroup(s);\n",
    "    fi;\n",
    "    if Length(arg)=2 then\n",
    "        s:=arg[1];\n",
    "        n:=arg[2];\n",
    "    fi;\n",
    "    if Length(arg)>2 then\n",
    "        Error(\"The number of arguments must be one or two\");\n",
    "    fi;\n",
    "  \n",
    "    graphHasse := Graph(GraphType.UNDIRECTED);\n",
    "    #SetSimulation(graphHasse,true);\n",
    "    #SetDrag(graphHasse,true);\n",
    "    ap:=AperyList(s,n);\n",
    "    c:=Cartesian([1..n],[1..n]);\n",
    "    c:=Filtered(c, p-> ap[p[2]]<>ap[p[1]]);\n",
    "    c:=Filtered(c, p-> ap[p[1]]-ap[p[2]] in s);\n",
    "    c:=hasse(c);\n",
    "    aps:=[];\n",
    "    for i in [1..n] do\n",
    "        aps[i]:=Shape(ShapeType!.CIRCLE, String(ap[i]));\n",
    "        SetLayer(aps[i],-order(ap[i]));\n",
    "        Add(aps[i],Callback(showfacts,[ap[i]]));\n",
    "        Add(aps[i],FrancyMessage(Concatenation(\"{\",\n",
    "            JoinStringsWithSeparator(List(FactorizationsElementWRTNumericalSemigroup(ap[i],s), \n",
    "            f->Concatenation(\"(\",JoinStringsWithSeparator(f,\",\"),\")\")),\",\"),\")\")));\n",
    "        Add(graphHasse,aps[i]);\n",
    "    od;\n",
    "    for r in c do\n",
    "        Add(graphHasse,Link(aps[r[1]],aps[r[2]]));\n",
    "    od;\n",
    "    canvas:=Canvas(\"Apery\");\n",
    "    Add(canvas,graphHasse);\n",
    "    return Draw(canvas);    \n",
    "end;"
   ]
  },
  {
   "cell_type": "code",
   "execution_count": 27,
   "metadata": {
    "scrolled": false
   },
   "outputs": [
    {
     "data": {
      "application/vnd.francy+json": "{\"version\" : \"0.8.6\",\"mime\" : \"application\\/vnd.francy+json\",\"canvas\" : {\"width\" : 800,\"id\" : \"F347\",\"height\" : 600,\"title\" : \"Apery\",\"zoomToFit\" : true,\"texTypesetting\" : false,\"menus\" : {},\"graph\" : {\"type\" : \"undirected\",\"id\" : \"F303\",\"simulation\" : true,\"collapsed\" : true,\"drag\" : false,\"showNeighbours\" : false,\"nodes\" : {\"F304\" : {\"x\" : 0,\"y\" : 0,\"type\" : \"circle\",\"id\" : \"F304\",\"size\" : 10,\"title\" : \"0\",\"color\" : \"\",\"layer\" : 0,\"parent\" : \"\",\"menus\" : {},\"messages\" : {\"F306\" : {\"type\" : \"default\",\"id\" : \"F306\",\"text\" : \"{(0,0,0))\",\"title\" : \"\"}},\"callbacks\" : {\"F305\" : {\"func\" : \"unknown\",\"id\" : \"F305\",\"trigger\" : \"click\",\"knownArgs\" : [\"0\"],\"requiredArgs\" : {}}}},\"F307\" : {\"x\" : 0,\"y\" : 0,\"type\" : \"circle\",\"id\" : \"F307\",\"size\" : 10,\"title\" : \"31\",\"color\" : \"\",\"layer\" : -1,\"parent\" : \"\",\"menus\" : {},\"messages\" : {\"F309\" : {\"type\" : \"default\",\"id\" : \"F309\",\"text\" : \"{(0,0,1))\",\"title\" : \"\"}},\"callbacks\" : {\"F308\" : {\"func\" : \"unknown\",\"id\" : \"F308\",\"trigger\" : \"click\",\"knownArgs\" : [\"31\"],\"requiredArgs\" : {}}}},\"F310\" : {\"x\" : 0,\"y\" : 0,\"type\" : \"circle\",\"id\" : \"F310\",\"size\" : 10,\"title\" : \"62\",\"color\" : \"\",\"layer\" : -2,\"parent\" : \"\",\"menus\" : {},\"messages\" : {\"F312\" : {\"type\" : \"default\",\"id\" : \"F312\",\"text\" : \"{(0,0,2))\",\"title\" : \"\"}},\"callbacks\" : {\"F311\" : {\"func\" : \"unknown\",\"id\" : \"F311\",\"trigger\" : \"click\",\"knownArgs\" : [\"62\"],\"requiredArgs\" : {}}}},\"F313\" : {\"x\" : 0,\"y\" : 0,\"type\" : \"circle\",\"id\" : \"F313\",\"size\" : 10,\"title\" : \"93\",\"color\" : \"\",\"layer\" : -3,\"parent\" : \"\",\"menus\" : {},\"messages\" : {\"F315\" : {\"type\" : \"default\",\"id\" : \"F315\",\"text\" : \"{(0,0,3))\",\"title\" : \"\"}},\"callbacks\" : {\"F314\" : {\"func\" : \"unknown\",\"id\" : \"F314\",\"trigger\" : \"click\",\"knownArgs\" : [\"93\"],\"requiredArgs\" : {}}}},\"F316\" : {\"x\" : 0,\"y\" : 0,\"type\" : \"circle\",\"id\" : \"F316\",\"size\" : 10,\"title\" : \"54\",\"color\" : \"\",\"layer\" : -2,\"parent\" : \"\",\"menus\" : {},\"messages\" : {\"F318\" : {\"type\" : \"default\",\"id\" : \"F318\",\"text\" : \"{(0,2,0))\",\"title\" : \"\"}},\"callbacks\" : {\"F317\" : {\"func\" : \"unknown\",\"id\" : \"F317\",\"trigger\" : \"click\",\"knownArgs\" : [\"54\"],\"requiredArgs\" : {}}}},\"F319\" : {\"x\" : 0,\"y\" : 0,\"type\" : \"circle\",\"id\" : \"F319\",\"size\" : 10,\"title\" : \"85\",\"color\" : \"\",\"layer\" : -3,\"parent\" : \"\",\"menus\" : {},\"messages\" : {\"F321\" : {\"type\" : \"default\",\"id\" : \"F321\",\"text\" : \"{(0,2,1))\",\"title\" : \"\"}},\"callbacks\" : {\"F320\" : {\"func\" : \"unknown\",\"id\" : \"F320\",\"trigger\" : \"click\",\"knownArgs\" : [\"85\"],\"requiredArgs\" : {}}}},\"F322\" : {\"x\" : 0,\"y\" : 0,\"type\" : \"circle\",\"id\" : \"F322\",\"size\" : 10,\"title\" : \"116\",\"color\" : \"\",\"layer\" : -4,\"parent\" : \"\",\"menus\" : {},\"messages\" : {\"F324\" : {\"type\" : \"default\",\"id\" : \"F324\",\"text\" : \"{(0,2,2))\",\"title\" : \"\"}},\"callbacks\" : {\"F323\" : {\"func\" : \"unknown\",\"id\" : \"F323\",\"trigger\" : \"click\",\"knownArgs\" : [\"116\"],\"requiredArgs\" : {}}}},\"F325\" : {\"x\" : 0,\"y\" : 0,\"type\" : \"circle\",\"id\" : \"F325\",\"size\" : 10,\"title\" : \"27\",\"color\" : \"\",\"layer\" : -1,\"parent\" : \"\",\"menus\" : {},\"messages\" : {\"F327\" : {\"type\" : \"default\",\"id\" : \"F327\",\"text\" : \"{(0,1,0))\",\"title\" : \"\"}},\"callbacks\" : {\"F326\" : {\"func\" : \"unknown\",\"id\" : \"F326\",\"trigger\" : \"click\",\"knownArgs\" : [\"27\"],\"requiredArgs\" : {}}}},\"F328\" : {\"x\" : 0,\"y\" : 0,\"type\" : \"circle\",\"id\" : \"F328\",\"size\" : 10,\"title\" : \"58\",\"color\" : \"\",\"layer\" : -2,\"parent\" : \"\",\"menus\" : {},\"messages\" : {\"F330\" : {\"type\" : \"default\",\"id\" : \"F330\",\"text\" : \"{(0,1,1))\",\"title\" : \"\"}},\"callbacks\" : {\"F329\" : {\"func\" : \"unknown\",\"id\" : \"F329\",\"trigger\" : \"click\",\"knownArgs\" : [\"58\"],\"requiredArgs\" : {}}}},\"F331\" : {\"x\" : 0,\"y\" : 0,\"type\" : \"circle\",\"id\" : \"F331\",\"size\" : 10,\"title\" : \"89\",\"color\" : \"\",\"layer\" : -3,\"parent\" : \"\",\"menus\" : {},\"messages\" : {\"F333\" : {\"type\" : \"default\",\"id\" : \"F333\",\"text\" : \"{(0,1,2))\",\"title\" : \"\"}},\"callbacks\" : {\"F332\" : {\"func\" : \"unknown\",\"id\" : \"F332\",\"trigger\" : \"click\",\"knownArgs\" : [\"89\"],\"requiredArgs\" : {}}}}},\"links\" : {\"F334\" : {\"id\" : \"F334\",\"source\" : \"F307\",\"length\" : 0,\"weight\" : 0,\"color\" : \"\",\"invisible\" : false,\"target\" : \"F304\"},\"F335\" : {\"id\" : \"F335\",\"source\" : \"F310\",\"length\" : 0,\"weight\" : 0,\"color\" : \"\",\"invisible\" : false,\"target\" : \"F307\"},\"F336\" : {\"id\" : \"F336\",\"source\" : \"F313\",\"length\" : 0,\"weight\" : 0,\"color\" : \"\",\"invisible\" : false,\"target\" : \"F310\"},\"F337\" : {\"id\" : \"F337\",\"source\" : \"F316\",\"length\" : 0,\"weight\" : 0,\"color\" : \"\",\"invisible\" : false,\"target\" : \"F325\"},\"F338\" : {\"id\" : \"F338\",\"source\" : \"F319\",\"length\" : 0,\"weight\" : 0,\"color\" : \"\",\"invisible\" : false,\"target\" : \"F316\"},\"F339\" : {\"id\" : \"F339\",\"source\" : \"F319\",\"length\" : 0,\"weight\" : 0,\"color\" : \"\",\"invisible\" : false,\"target\" : \"F328\"},\"F340\" : {\"id\" : \"F340\",\"source\" : \"F322\",\"length\" : 0,\"weight\" : 0,\"color\" : \"\",\"invisible\" : false,\"target\" : \"F319\"},\"F341\" : {\"id\" : \"F341\",\"source\" : \"F322\",\"length\" : 0,\"weight\" : 0,\"color\" : \"\",\"invisible\" : false,\"target\" : \"F331\"},\"F342\" : {\"id\" : \"F342\",\"source\" : \"F325\",\"length\" : 0,\"weight\" : 0,\"color\" : \"\",\"invisible\" : false,\"target\" : \"F304\"},\"F343\" : {\"id\" : \"F343\",\"source\" : \"F328\",\"length\" : 0,\"weight\" : 0,\"color\" : \"\",\"invisible\" : false,\"target\" : \"F307\"},\"F344\" : {\"id\" : \"F344\",\"source\" : \"F328\",\"length\" : 0,\"weight\" : 0,\"color\" : \"\",\"invisible\" : false,\"target\" : \"F325\"},\"F345\" : {\"id\" : \"F345\",\"source\" : \"F331\",\"length\" : 0,\"weight\" : 0,\"color\" : \"\",\"invisible\" : false,\"target\" : \"F310\"},\"F346\" : {\"id\" : \"F346\",\"source\" : \"F331\",\"length\" : 0,\"weight\" : 0,\"color\" : \"\",\"invisible\" : false,\"target\" : \"F328\"}}},\"messages\" : {}}}"
     },
     "execution_count": 27,
     "metadata": {
      "application/vnd.francy+json": {}
     },
     "output_type": "execute_result"
    }
   ],
   "source": [
    "apery(NumericalSemigroup(10,51,27,31));"
   ]
  },
  {
   "cell_type": "markdown",
   "metadata": {},
   "source": [
    "## Drawing sons of numerical semigroups"
   ]
  },
  {
   "cell_type": "markdown",
   "metadata": {},
   "source": [
    "This example shows how to draw the sons of a numerical semigroup in the tree of numerical semigroups. If we click on a node, then the sets of sons of that node are added to the canvas, and if the node is a leaf, a warning message is displayed.\n",
    "\n",
    "Passing the mouse over a node shows the set of minimal generators of the node."
   ]
  },
  {
   "cell_type": "code",
   "execution_count": 28,
   "metadata": {},
   "outputs": [
    {
     "data": {
      "text/plain": [
       "function( s ) ... end"
      ]
     },
     "execution_count": 28,
     "metadata": {
      "text/plain": ""
     },
     "output_type": "execute_result"
    }
   ],
   "source": [
    "sons:=function(s)\n",
    "    local gens, frb, desc, graphHasse, d, shpr, shp, canvas, sonsf, i, gn, lbl;\n",
    "    \n",
    "    \n",
    "    sonsf:=function(s,n)\n",
    "        local gens, frb, desc, d, shp, i, lbl, gn;\n",
    "\n",
    "        frb:=FrobeniusNumber(s);\n",
    "        gens:=Filtered(MinimalGenerators(s), x-> x>frb);\n",
    "        desc:=List(gens, g->RemoveMinimalGeneratorFromNumericalSemigroup(g,s));\n",
    "        gn:=Genus(s);\n",
    "        i:=0;\n",
    "        for d in desc do\n",
    "            i:=i+1;\n",
    "        lbl:=Concatenation(\"$\\\\langle\",JoinStringsWithSeparator(MinimalGenerators(d),\",\"),\"\\\\rangle$\");\n",
    "            shp:=Shape(ShapeType!.CIRCLE, lbl);\n",
    "            SetId(shp,lbl);\n",
    "            SetLayer(shp,Genus(d));\n",
    "            SetSize(shp,1);\n",
    "            Add(shp,Callback(sonsf,[d,shp]));\n",
    "            Add(shp,FrancyMessage(String(MinimalGenerators(d))));\n",
    "            Add(graphHasse,shp);\n",
    "            Add(graphHasse,Link(n,shp));\n",
    "        od;\n",
    "        if desc<>[] then \n",
    "            return Draw(canvas);\n",
    "        fi;\n",
    "        Add(canvas, FrancyMessage(FrancyMessageType.WARNING, \"This semigroup is a leaf\"));\n",
    "        return Draw(canvas);\n",
    "    end;\n",
    "    \n",
    "    frb:=FrobeniusNumber(s);\n",
    "    gens:=Filtered(MinimalGenerators(s), x-> x>frb);\n",
    "    desc:=List(gens, g->RemoveMinimalGeneratorFromNumericalSemigroup(g,s));\n",
    "    gn:=Genus(s);\n",
    "\n",
    "    graphHasse := Graph(GraphType.UNDIRECTED);\n",
    "    lbl:=Concatenation(\"$\\\\langle\",JoinStringsWithSeparator(MinimalGenerators(s),\",\"),\"\\\\rangle$\");\n",
    "    shpr:=Shape(ShapeType!.CIRCLE, lbl);\n",
    "    SetSize(shpr,1);\n",
    "    SetId(shpr,lbl);\n",
    "    Add(shpr,FrancyMessage(String(MinimalGenerators(s))));\n",
    "    SetLayer(shpr,Genus(s));\n",
    "    Add(graphHasse,shpr);\n",
    "    i:=0;\n",
    "    for d in desc do\n",
    "        i:=i+1;\n",
    "        lbl:=Concatenation(\"$\\\\langle\",JoinStringsWithSeparator(MinimalGenerators(d),\",\"),\"\\\\rangle$\");\n",
    "        shp:=Shape(ShapeType!.CIRCLE, lbl);\n",
    "    SetId(shp,lbl);\n",
    "        SetLayer(shp,Genus(d));\n",
    "        SetSize(shp,1);\n",
    "        Add(shp,Callback(sonsf,[d,shp]));\n",
    "        Add(shp,FrancyMessage(String(MinimalGenerators(d))));\n",
    "        Add(graphHasse,shp);\n",
    "        Add(graphHasse,Link(shpr,shp));\n",
    "    od;\n",
    "    canvas:=Canvas(\"Sons of a numerical semigroup\");\n",
    "    SetTexTypesetting(canvas, true);\n",
    "    Add(canvas,graphHasse);\n",
    "    return Draw(canvas);    \n",
    "end;"
   ]
  },
  {
   "cell_type": "code",
   "execution_count": 29,
   "metadata": {
    "scrolled": false
   },
   "outputs": [
    {
     "data": {
      "application/vnd.francy+json": "{\"version\" : \"0.8.6\",\"mime\" : \"application\\/vnd.francy+json\",\"canvas\" : {\"width\" : 800,\"id\" : \"F359\",\"height\" : 600,\"title\" : \"Sons of a numerical semigroup\",\"zoomToFit\" : true,\"texTypesetting\" : true,\"menus\" : {},\"graph\" : {\"type\" : \"undirected\",\"id\" : \"F348\",\"simulation\" : true,\"collapsed\" : true,\"drag\" : false,\"showNeighbours\" : false,\"nodes\" : {\"$\\\\langle3,5,7\\\\rangle$\" : {\"x\" : 0,\"y\" : 0,\"type\" : \"circle\",\"id\" : \"$\\\\langle3,5,7\\\\rangle$\",\"size\" : 1,\"title\" : \"$\\\\langle3,5,7\\\\rangle$\",\"color\" : \"\",\"layer\" : 3,\"parent\" : \"\",\"menus\" : {},\"messages\" : {\"F350\" : {\"type\" : \"default\",\"id\" : \"F350\",\"text\" : \"[ 3, 5, 7 ]\",\"title\" : \"\"}},\"callbacks\" : {}},\"$\\\\langle3,7,8\\\\rangle$\" : {\"x\" : 0,\"y\" : 0,\"type\" : \"circle\",\"id\" : \"$\\\\langle3,7,8\\\\rangle$\",\"size\" : 1,\"title\" : \"$\\\\langle3,7,8\\\\rangle$\",\"color\" : \"\",\"layer\" : 4,\"parent\" : \"\",\"menus\" : {},\"messages\" : {\"F353\" : {\"type\" : \"default\",\"id\" : \"F353\",\"text\" : \"[ 3, 7, 8 ]\",\"title\" : \"\"}},\"callbacks\" : {\"F352\" : {\"func\" : \"unknown\",\"id\" : \"F352\",\"trigger\" : \"click\",\"knownArgs\" : [\"<object>\",\"<object>\"],\"requiredArgs\" : {}}}},\"$\\\\langle3,5\\\\rangle$\" : {\"x\" : 0,\"y\" : 0,\"type\" : \"circle\",\"id\" : \"$\\\\langle3,5\\\\rangle$\",\"size\" : 1,\"title\" : \"$\\\\langle3,5\\\\rangle$\",\"color\" : \"\",\"layer\" : 4,\"parent\" : \"\",\"menus\" : {},\"messages\" : {\"F357\" : {\"type\" : \"default\",\"id\" : \"F357\",\"text\" : \"[ 3, 5 ]\",\"title\" : \"\"}},\"callbacks\" : {\"F356\" : {\"func\" : \"unknown\",\"id\" : \"F356\",\"trigger\" : \"click\",\"knownArgs\" : [\"<object>\",\"<object>\"],\"requiredArgs\" : {}}}}},\"links\" : {\"F354\" : {\"id\" : \"F354\",\"source\" : \"$\\\\langle3,5,7\\\\rangle$\",\"length\" : 0,\"weight\" : 0,\"color\" : \"\",\"invisible\" : false,\"target\" : \"$\\\\langle3,7,8\\\\rangle$\"},\"F358\" : {\"id\" : \"F358\",\"source\" : \"$\\\\langle3,5,7\\\\rangle$\",\"length\" : 0,\"weight\" : 0,\"color\" : \"\",\"invisible\" : false,\"target\" : \"$\\\\langle3,5\\\\rangle$\"}}},\"messages\" : {}}}"
     },
     "execution_count": 29,
     "metadata": {
      "application/vnd.francy+json": {}
     },
     "output_type": "execute_result"
    }
   ],
   "source": [
    "sons(NumericalSemigroup(3,5,7));"
   ]
  },
  {
   "cell_type": "markdown",
   "metadata": {},
   "source": [
    "# Tree of numerical semigroups\n",
    "\n",
    "Now we draw the sons of a numerical semigroup `s` in the tree of numerical semigroups up to level `l`."
   ]
  },
  {
   "cell_type": "code",
   "execution_count": 30,
   "metadata": {},
   "outputs": [
    {
     "data": {
      "text/plain": [
       "function( s, l, generators ) ... end"
      ]
     },
     "execution_count": 30,
     "metadata": {
      "text/plain": ""
     },
     "output_type": "execute_result"
    }
   ],
   "source": [
    "sonstree:=function(s,l,generators)\n",
    "    local gens, frb, desc, graphTreee, d, shpr, shp, canvas, sonsf, lbl;\n",
    "\n",
    "\n",
    "    sonsf:=function(s,n,lv)\n",
    "        local gens, frb, desc, d, shp;\n",
    "        if lv=0 then\n",
    "            return ;\n",
    "        fi;\n",
    "        frb:=FrobeniusNumber(s);\n",
    "        gens:=Filtered(generators(s), x-> x>frb);\n",
    "        desc:=List(gens, g->RemoveMinimalGeneratorFromNumericalSemigroup(g,s));\n",
    "        for d in desc do\n",
    "            lbl:=Concatenation(\"$\\\\{\",JoinStringsWithSeparator(generators(d),\",\"),\"\\\\}$\");\n",
    "            shp:=Shape(ShapeType!.CIRCLE, lbl);\n",
    "            SetSize(shp,5);\n",
    "            Add(graphTreee,shp);\n",
    "            SetParentShape(shp,n);\n",
    "            sonsf(d,shp,lv-1);\n",
    "        od;\n",
    "        if desc<>[] then\n",
    "            return ;\n",
    "        fi;\n",
    "        #Add(canvas, FrancyMessage(FrancyMessageType.WARNING, \"This semigroup is a leaf\"));\n",
    "        return ;\n",
    "    end;\n",
    "\n",
    "    frb:=FrobeniusNumber(s);\n",
    "    gens:=Filtered(generators(s), x-> x>frb);\n",
    "    desc:=List(gens, g->RemoveMinimalGeneratorFromNumericalSemigroup(g,s));\n",
    "\n",
    "    graphTreee := Graph(GraphType.TREE);\n",
    "    SetCollapsed(graphTreee,false);\n",
    "    shpr:=Shape(ShapeType!.CIRCLE, \"S\");\n",
    "    SetSize(shpr,5);\n",
    "    Add(shpr,FrancyMessage(String(generators(s))));\n",
    "    Add(graphTreee,shpr);\n",
    "    canvas:=Canvas(\"Sons of a numerical semigroup\");\n",
    "    SetTexTypesetting(canvas, true);\n",
    "    Add(canvas,graphTreee);\n",
    "    sonsf(s,shpr,l);\n",
    "    return Draw(canvas);\n",
    "end;"
   ]
  },
  {
   "cell_type": "markdown",
   "metadata": {},
   "source": [
    "Darker dots correspond either to leaves or to elements with highest genus. Blue nodes can be collapsed by clicking.  "
   ]
  },
  {
   "cell_type": "code",
   "execution_count": 31,
   "metadata": {},
   "outputs": [
    {
     "data": {
      "application/vnd.francy+json": "{\"version\" : \"0.8.6\",\"mime\" : \"application\\/vnd.francy+json\",\"canvas\" : {\"width\" : 800,\"id\" : \"F363\",\"height\" : 600,\"title\" : \"Sons of a numerical semigroup\",\"zoomToFit\" : true,\"texTypesetting\" : true,\"menus\" : {},\"graph\" : {\"type\" : \"tree\",\"id\" : \"F360\",\"simulation\" : true,\"collapsed\" : false,\"drag\" : false,\"showNeighbours\" : false,\"nodes\" : {\"F361\" : {\"x\" : 0,\"y\" : 0,\"type\" : \"circle\",\"id\" : \"F361\",\"size\" : 5,\"title\" : \"S\",\"color\" : \"\",\"layer\" : 0,\"parent\" : \"\",\"menus\" : {},\"messages\" : {\"F362\" : {\"type\" : \"default\",\"id\" : \"F362\",\"text\" : \"[ 1 ]\",\"title\" : \"\"}},\"callbacks\" : {}},\"F364\" : {\"x\" : 0,\"y\" : 0,\"type\" : \"circle\",\"id\" : \"F364\",\"size\" : 5,\"title\" : \"$\\\\{2,3\\\\}$\",\"color\" : \"\",\"layer\" : 0,\"parent\" : \"F361\",\"menus\" : {},\"messages\" : {},\"callbacks\" : {}},\"F365\" : {\"x\" : 0,\"y\" : 0,\"type\" : \"circle\",\"id\" : \"F365\",\"size\" : 5,\"title\" : \"$\\\\{3,4,5\\\\}$\",\"color\" : \"\",\"layer\" : 0,\"parent\" : \"F364\",\"menus\" : {},\"messages\" : {},\"callbacks\" : {}},\"F366\" : {\"x\" : 0,\"y\" : 0,\"type\" : \"circle\",\"id\" : \"F366\",\"size\" : 5,\"title\" : \"$\\\\{4,5,6,7\\\\}$\",\"color\" : \"\",\"layer\" : 0,\"parent\" : \"F365\",\"menus\" : {},\"messages\" : {},\"callbacks\" : {}},\"F367\" : {\"x\" : 0,\"y\" : 0,\"type\" : \"circle\",\"id\" : \"F367\",\"size\" : 5,\"title\" : \"$\\\\{5,6,7,8,9\\\\}$\",\"color\" : \"\",\"layer\" : 0,\"parent\" : \"F366\",\"menus\" : {},\"messages\" : {},\"callbacks\" : {}},\"F368\" : {\"x\" : 0,\"y\" : 0,\"type\" : \"circle\",\"id\" : \"F368\",\"size\" : 5,\"title\" : \"$\\\\{4,6,7,9\\\\}$\",\"color\" : \"\",\"layer\" : 0,\"parent\" : \"F366\",\"menus\" : {},\"messages\" : {},\"callbacks\" : {}},\"F369\" : {\"x\" : 0,\"y\" : 0,\"type\" : \"circle\",\"id\" : \"F369\",\"size\" : 5,\"title\" : \"$\\\\{4,5,7\\\\}$\",\"color\" : \"\",\"layer\" : 0,\"parent\" : \"F366\",\"menus\" : {},\"messages\" : {},\"callbacks\" : {}},\"F370\" : {\"x\" : 0,\"y\" : 0,\"type\" : \"circle\",\"id\" : \"F370\",\"size\" : 5,\"title\" : \"$\\\\{4,5,6\\\\}$\",\"color\" : \"\",\"layer\" : 0,\"parent\" : \"F366\",\"menus\" : {},\"messages\" : {},\"callbacks\" : {}},\"F371\" : {\"x\" : 0,\"y\" : 0,\"type\" : \"circle\",\"id\" : \"F371\",\"size\" : 5,\"title\" : \"$\\\\{3,5,7\\\\}$\",\"color\" : \"\",\"layer\" : 0,\"parent\" : \"F365\",\"menus\" : {},\"messages\" : {},\"callbacks\" : {}},\"F372\" : {\"x\" : 0,\"y\" : 0,\"type\" : \"circle\",\"id\" : \"F372\",\"size\" : 5,\"title\" : \"$\\\\{3,7,8\\\\}$\",\"color\" : \"\",\"layer\" : 0,\"parent\" : \"F371\",\"menus\" : {},\"messages\" : {},\"callbacks\" : {}},\"F373\" : {\"x\" : 0,\"y\" : 0,\"type\" : \"circle\",\"id\" : \"F373\",\"size\" : 5,\"title\" : \"$\\\\{3,5\\\\}$\",\"color\" : \"\",\"layer\" : 0,\"parent\" : \"F371\",\"menus\" : {},\"messages\" : {},\"callbacks\" : {}},\"F374\" : {\"x\" : 0,\"y\" : 0,\"type\" : \"circle\",\"id\" : \"F374\",\"size\" : 5,\"title\" : \"$\\\\{3,4\\\\}$\",\"color\" : \"\",\"layer\" : 0,\"parent\" : \"F365\",\"menus\" : {},\"messages\" : {},\"callbacks\" : {}},\"F375\" : {\"x\" : 0,\"y\" : 0,\"type\" : \"circle\",\"id\" : \"F375\",\"size\" : 5,\"title\" : \"$\\\\{2,5\\\\}$\",\"color\" : \"\",\"layer\" : 0,\"parent\" : \"F364\",\"menus\" : {},\"messages\" : {},\"callbacks\" : {}},\"F376\" : {\"x\" : 0,\"y\" : 0,\"type\" : \"circle\",\"id\" : \"F376\",\"size\" : 5,\"title\" : \"$\\\\{2,7\\\\}$\",\"color\" : \"\",\"layer\" : 0,\"parent\" : \"F375\",\"menus\" : {},\"messages\" : {},\"callbacks\" : {}},\"F377\" : {\"x\" : 0,\"y\" : 0,\"type\" : \"circle\",\"id\" : \"F377\",\"size\" : 5,\"title\" : \"$\\\\{2,9\\\\}$\",\"color\" : \"\",\"layer\" : 0,\"parent\" : \"F376\",\"menus\" : {},\"messages\" : {},\"callbacks\" : {}}},\"links\" : {}},\"messages\" : {}}}"
     },
     "execution_count": 31,
     "metadata": {
      "application/vnd.francy+json": {}
     },
     "output_type": "execute_result"
    }
   ],
   "source": [
    "sonstree(NumericalSemigroup(1),4,MinimalGenerators);"
   ]
  },
  {
   "cell_type": "markdown",
   "metadata": {},
   "source": [
    "And we can get also the tree of Arf numerical semigroups"
   ]
  },
  {
   "cell_type": "code",
   "execution_count": 32,
   "metadata": {},
   "outputs": [
    {
     "data": {
      "application/vnd.francy+json": "{\"version\" : \"0.8.6\",\"mime\" : \"application\\/vnd.francy+json\",\"canvas\" : {\"width\" : 800,\"id\" : \"F381\",\"height\" : 600,\"title\" : \"Sons of a numerical semigroup\",\"zoomToFit\" : true,\"texTypesetting\" : true,\"menus\" : {},\"graph\" : {\"type\" : \"tree\",\"id\" : \"F378\",\"simulation\" : true,\"collapsed\" : false,\"drag\" : false,\"showNeighbours\" : false,\"nodes\" : {\"F379\" : {\"x\" : 0,\"y\" : 0,\"type\" : \"circle\",\"id\" : \"F379\",\"size\" : 5,\"title\" : \"S\",\"color\" : \"\",\"layer\" : 0,\"parent\" : \"\",\"menus\" : {},\"messages\" : {\"F380\" : {\"type\" : \"default\",\"id\" : \"F380\",\"text\" : \"[ 1 ]\",\"title\" : \"\"}},\"callbacks\" : {}},\"F382\" : {\"x\" : 0,\"y\" : 0,\"type\" : \"circle\",\"id\" : \"F382\",\"size\" : 5,\"title\" : \"$\\\\{2,3\\\\}$\",\"color\" : \"\",\"layer\" : 0,\"parent\" : \"F379\",\"menus\" : {},\"messages\" : {},\"callbacks\" : {}},\"F383\" : {\"x\" : 0,\"y\" : 0,\"type\" : \"circle\",\"id\" : \"F383\",\"size\" : 5,\"title\" : \"$\\\\{3,4\\\\}$\",\"color\" : \"\",\"layer\" : 0,\"parent\" : \"F382\",\"menus\" : {},\"messages\" : {},\"callbacks\" : {}},\"F384\" : {\"x\" : 0,\"y\" : 0,\"type\" : \"circle\",\"id\" : \"F384\",\"size\" : 5,\"title\" : \"$\\\\{4,5\\\\}$\",\"color\" : \"\",\"layer\" : 0,\"parent\" : \"F383\",\"menus\" : {},\"messages\" : {},\"callbacks\" : {}},\"F385\" : {\"x\" : 0,\"y\" : 0,\"type\" : \"circle\",\"id\" : \"F385\",\"size\" : 5,\"title\" : \"$\\\\{5,6\\\\}$\",\"color\" : \"\",\"layer\" : 0,\"parent\" : \"F384\",\"menus\" : {},\"messages\" : {},\"callbacks\" : {}},\"F386\" : {\"x\" : 0,\"y\" : 0,\"type\" : \"circle\",\"id\" : \"F386\",\"size\" : 5,\"title\" : \"$\\\\{6,7\\\\}$\",\"color\" : \"\",\"layer\" : 0,\"parent\" : \"F385\",\"menus\" : {},\"messages\" : {},\"callbacks\" : {}},\"F387\" : {\"x\" : 0,\"y\" : 0,\"type\" : \"circle\",\"id\" : \"F387\",\"size\" : 5,\"title\" : \"$\\\\{7,8\\\\}$\",\"color\" : \"\",\"layer\" : 0,\"parent\" : \"F386\",\"menus\" : {},\"messages\" : {},\"callbacks\" : {}},\"F388\" : {\"x\" : 0,\"y\" : 0,\"type\" : \"circle\",\"id\" : \"F388\",\"size\" : 5,\"title\" : \"$\\\\{8,9\\\\}$\",\"color\" : \"\",\"layer\" : 0,\"parent\" : \"F387\",\"menus\" : {},\"messages\" : {},\"callbacks\" : {}},\"F389\" : {\"x\" : 0,\"y\" : 0,\"type\" : \"circle\",\"id\" : \"F389\",\"size\" : 5,\"title\" : \"$\\\\{9,10\\\\}$\",\"color\" : \"\",\"layer\" : 0,\"parent\" : \"F388\",\"menus\" : {},\"messages\" : {},\"callbacks\" : {}},\"F390\" : {\"x\" : 0,\"y\" : 0,\"type\" : \"circle\",\"id\" : \"F390\",\"size\" : 5,\"title\" : \"$\\\\{8,10,11\\\\}$\",\"color\" : \"\",\"layer\" : 0,\"parent\" : \"F388\",\"menus\" : {},\"messages\" : {},\"callbacks\" : {}},\"F391\" : {\"x\" : 0,\"y\" : 0,\"type\" : \"circle\",\"id\" : \"F391\",\"size\" : 5,\"title\" : \"$\\\\{7,9,10\\\\}$\",\"color\" : \"\",\"layer\" : 0,\"parent\" : \"F387\",\"menus\" : {},\"messages\" : {},\"callbacks\" : {}},\"F392\" : {\"x\" : 0,\"y\" : 0,\"type\" : \"circle\",\"id\" : \"F392\",\"size\" : 5,\"title\" : \"$\\\\{7,10,11\\\\}$\",\"color\" : \"\",\"layer\" : 0,\"parent\" : \"F391\",\"menus\" : {},\"messages\" : {},\"callbacks\" : {}},\"F393\" : {\"x\" : 0,\"y\" : 0,\"type\" : \"circle\",\"id\" : \"F393\",\"size\" : 5,\"title\" : \"$\\\\{7,9,12\\\\}$\",\"color\" : \"\",\"layer\" : 0,\"parent\" : \"F391\",\"menus\" : {},\"messages\" : {},\"callbacks\" : {}},\"F394\" : {\"x\" : 0,\"y\" : 0,\"type\" : \"circle\",\"id\" : \"F394\",\"size\" : 5,\"title\" : \"$\\\\{6,8,9\\\\}$\",\"color\" : \"\",\"layer\" : 0,\"parent\" : \"F386\",\"menus\" : {},\"messages\" : {},\"callbacks\" : {}},\"F395\" : {\"x\" : 0,\"y\" : 0,\"type\" : \"circle\",\"id\" : \"F395\",\"size\" : 5,\"title\" : \"$\\\\{6,9,10\\\\}$\",\"color\" : \"\",\"layer\" : 0,\"parent\" : \"F394\",\"menus\" : {},\"messages\" : {},\"callbacks\" : {}},\"F396\" : {\"x\" : 0,\"y\" : 0,\"type\" : \"circle\",\"id\" : \"F396\",\"size\" : 5,\"title\" : \"$\\\\{6,10,11\\\\}$\",\"color\" : \"\",\"layer\" : 0,\"parent\" : \"F395\",\"menus\" : {},\"messages\" : {},\"callbacks\" : {}},\"F397\" : {\"x\" : 0,\"y\" : 0,\"type\" : \"circle\",\"id\" : \"F397\",\"size\" : 5,\"title\" : \"$\\\\{6,9,11\\\\}$\",\"color\" : \"\",\"layer\" : 0,\"parent\" : \"F395\",\"menus\" : {},\"messages\" : {},\"callbacks\" : {}},\"F398\" : {\"x\" : 0,\"y\" : 0,\"type\" : \"circle\",\"id\" : \"F398\",\"size\" : 5,\"title\" : \"$\\\\{6,8,11\\\\}$\",\"color\" : \"\",\"layer\" : 0,\"parent\" : \"F394\",\"menus\" : {},\"messages\" : {},\"callbacks\" : {}},\"F399\" : {\"x\" : 0,\"y\" : 0,\"type\" : \"circle\",\"id\" : \"F399\",\"size\" : 5,\"title\" : \"$\\\\{6,8,13\\\\}$\",\"color\" : \"\",\"layer\" : 0,\"parent\" : \"F398\",\"menus\" : {},\"messages\" : {},\"callbacks\" : {}},\"F400\" : {\"x\" : 0,\"y\" : 0,\"type\" : \"circle\",\"id\" : \"F400\",\"size\" : 5,\"title\" : \"$\\\\{5,7,8\\\\}$\",\"color\" : \"\",\"layer\" : 0,\"parent\" : \"F385\",\"menus\" : {},\"messages\" : {},\"callbacks\" : {}},\"F401\" : {\"x\" : 0,\"y\" : 0,\"type\" : \"circle\",\"id\" : \"F401\",\"size\" : 5,\"title\" : \"$\\\\{5,8,9\\\\}$\",\"color\" : \"\",\"layer\" : 0,\"parent\" : \"F400\",\"menus\" : {},\"messages\" : {},\"callbacks\" : {}},\"F402\" : {\"x\" : 0,\"y\" : 0,\"type\" : \"circle\",\"id\" : \"F402\",\"size\" : 5,\"title\" : \"$\\\\{5,9\\\\}$\",\"color\" : \"\",\"layer\" : 0,\"parent\" : \"F401\",\"menus\" : {},\"messages\" : {},\"callbacks\" : {}},\"F403\" : {\"x\" : 0,\"y\" : 0,\"type\" : \"circle\",\"id\" : \"F403\",\"size\" : 5,\"title\" : \"$\\\\{5,11\\\\}$\",\"color\" : \"\",\"layer\" : 0,\"parent\" : \"F402\",\"menus\" : {},\"messages\" : {},\"callbacks\" : {}},\"F404\" : {\"x\" : 0,\"y\" : 0,\"type\" : \"circle\",\"id\" : \"F404\",\"size\" : 5,\"title\" : \"$\\\\{5,8\\\\}$\",\"color\" : \"\",\"layer\" : 0,\"parent\" : \"F401\",\"menus\" : {},\"messages\" : {},\"callbacks\" : {}},\"F405\" : {\"x\" : 0,\"y\" : 0,\"type\" : \"circle\",\"id\" : \"F405\",\"size\" : 5,\"title\" : \"$\\\\{5,7\\\\}$\",\"color\" : \"\",\"layer\" : 0,\"parent\" : \"F400\",\"menus\" : {},\"messages\" : {},\"callbacks\" : {}},\"F406\" : {\"x\" : 0,\"y\" : 0,\"type\" : \"circle\",\"id\" : \"F406\",\"size\" : 5,\"title\" : \"$\\\\{4,6,7\\\\}$\",\"color\" : \"\",\"layer\" : 0,\"parent\" : \"F384\",\"menus\" : {},\"messages\" : {},\"callbacks\" : {}},\"F407\" : {\"x\" : 0,\"y\" : 0,\"type\" : \"circle\",\"id\" : \"F407\",\"size\" : 5,\"title\" : \"$\\\\{4,7\\\\}$\",\"color\" : \"\",\"layer\" : 0,\"parent\" : \"F406\",\"menus\" : {},\"messages\" : {},\"callbacks\" : {}},\"F408\" : {\"x\" : 0,\"y\" : 0,\"type\" : \"circle\",\"id\" : \"F408\",\"size\" : 5,\"title\" : \"$\\\\{4,9\\\\}$\",\"color\" : \"\",\"layer\" : 0,\"parent\" : \"F407\",\"menus\" : {},\"messages\" : {},\"callbacks\" : {}},\"F409\" : {\"x\" : 0,\"y\" : 0,\"type\" : \"circle\",\"id\" : \"F409\",\"size\" : 5,\"title\" : \"$\\\\{4,10,11\\\\}$\",\"color\" : \"\",\"layer\" : 0,\"parent\" : \"F408\",\"menus\" : {},\"messages\" : {},\"callbacks\" : {}},\"F410\" : {\"x\" : 0,\"y\" : 0,\"type\" : \"circle\",\"id\" : \"F410\",\"size\" : 5,\"title\" : \"$\\\\{4,11\\\\}$\",\"color\" : \"\",\"layer\" : 0,\"parent\" : \"F409\",\"menus\" : {},\"messages\" : {},\"callbacks\" : {}},\"F411\" : {\"x\" : 0,\"y\" : 0,\"type\" : \"circle\",\"id\" : \"F411\",\"size\" : 5,\"title\" : \"$\\\\{4,10,13\\\\}$\",\"color\" : \"\",\"layer\" : 0,\"parent\" : \"F409\",\"menus\" : {},\"messages\" : {},\"callbacks\" : {}},\"F412\" : {\"x\" : 0,\"y\" : 0,\"type\" : \"circle\",\"id\" : \"F412\",\"size\" : 5,\"title\" : \"$\\\\{4,6,9\\\\}$\",\"color\" : \"\",\"layer\" : 0,\"parent\" : \"F406\",\"menus\" : {},\"messages\" : {},\"callbacks\" : {}},\"F413\" : {\"x\" : 0,\"y\" : 0,\"type\" : \"circle\",\"id\" : \"F413\",\"size\" : 5,\"title\" : \"$\\\\{4,6,11\\\\}$\",\"color\" : \"\",\"layer\" : 0,\"parent\" : \"F412\",\"menus\" : {},\"messages\" : {},\"callbacks\" : {}},\"F414\" : {\"x\" : 0,\"y\" : 0,\"type\" : \"circle\",\"id\" : \"F414\",\"size\" : 5,\"title\" : \"$\\\\{4,6,13\\\\}$\",\"color\" : \"\",\"layer\" : 0,\"parent\" : \"F413\",\"menus\" : {},\"messages\" : {},\"callbacks\" : {}},\"F415\" : {\"x\" : 0,\"y\" : 0,\"type\" : \"circle\",\"id\" : \"F415\",\"size\" : 5,\"title\" : \"$\\\\{4,6,15\\\\}$\",\"color\" : \"\",\"layer\" : 0,\"parent\" : \"F414\",\"menus\" : {},\"messages\" : {},\"callbacks\" : {}},\"F416\" : {\"x\" : 0,\"y\" : 0,\"type\" : \"circle\",\"id\" : \"F416\",\"size\" : 5,\"title\" : \"$\\\\{3,5\\\\}$\",\"color\" : \"\",\"layer\" : 0,\"parent\" : \"F383\",\"menus\" : {},\"messages\" : {},\"callbacks\" : {}},\"F417\" : {\"x\" : 0,\"y\" : 0,\"type\" : \"circle\",\"id\" : \"F417\",\"size\" : 5,\"title\" : \"$\\\\{3,7\\\\}$\",\"color\" : \"\",\"layer\" : 0,\"parent\" : \"F416\",\"menus\" : {},\"messages\" : {},\"callbacks\" : {}},\"F418\" : {\"x\" : 0,\"y\" : 0,\"type\" : \"circle\",\"id\" : \"F418\",\"size\" : 5,\"title\" : \"$\\\\{3,8\\\\}$\",\"color\" : \"\",\"layer\" : 0,\"parent\" : \"F417\",\"menus\" : {},\"messages\" : {},\"callbacks\" : {}},\"F419\" : {\"x\" : 0,\"y\" : 0,\"type\" : \"circle\",\"id\" : \"F419\",\"size\" : 5,\"title\" : \"$\\\\{3,10\\\\}$\",\"color\" : \"\",\"layer\" : 0,\"parent\" : \"F418\",\"menus\" : {},\"messages\" : {},\"callbacks\" : {}},\"F420\" : {\"x\" : 0,\"y\" : 0,\"type\" : \"circle\",\"id\" : \"F420\",\"size\" : 5,\"title\" : \"$\\\\{3,11\\\\}$\",\"color\" : \"\",\"layer\" : 0,\"parent\" : \"F419\",\"menus\" : {},\"messages\" : {},\"callbacks\" : {}},\"F421\" : {\"x\" : 0,\"y\" : 0,\"type\" : \"circle\",\"id\" : \"F421\",\"size\" : 5,\"title\" : \"$\\\\{3,13\\\\}$\",\"color\" : \"\",\"layer\" : 0,\"parent\" : \"F420\",\"menus\" : {},\"messages\" : {},\"callbacks\" : {}},\"F422\" : {\"x\" : 0,\"y\" : 0,\"type\" : \"circle\",\"id\" : \"F422\",\"size\" : 5,\"title\" : \"$\\\\{2,5\\\\}$\",\"color\" : \"\",\"layer\" : 0,\"parent\" : \"F382\",\"menus\" : {},\"messages\" : {},\"callbacks\" : {}},\"F423\" : {\"x\" : 0,\"y\" : 0,\"type\" : \"circle\",\"id\" : \"F423\",\"size\" : 5,\"title\" : \"$\\\\{2,7\\\\}$\",\"color\" : \"\",\"layer\" : 0,\"parent\" : \"F422\",\"menus\" : {},\"messages\" : {},\"callbacks\" : {}},\"F424\" : {\"x\" : 0,\"y\" : 0,\"type\" : \"circle\",\"id\" : \"F424\",\"size\" : 5,\"title\" : \"$\\\\{2,9\\\\}$\",\"color\" : \"\",\"layer\" : 0,\"parent\" : \"F423\",\"menus\" : {},\"messages\" : {},\"callbacks\" : {}},\"F425\" : {\"x\" : 0,\"y\" : 0,\"type\" : \"circle\",\"id\" : \"F425\",\"size\" : 5,\"title\" : \"$\\\\{2,11\\\\}$\",\"color\" : \"\",\"layer\" : 0,\"parent\" : \"F424\",\"menus\" : {},\"messages\" : {},\"callbacks\" : {}},\"F426\" : {\"x\" : 0,\"y\" : 0,\"type\" : \"circle\",\"id\" : \"F426\",\"size\" : 5,\"title\" : \"$\\\\{2,13\\\\}$\",\"color\" : \"\",\"layer\" : 0,\"parent\" : \"F425\",\"menus\" : {},\"messages\" : {},\"callbacks\" : {}},\"F427\" : {\"x\" : 0,\"y\" : 0,\"type\" : \"circle\",\"id\" : \"F427\",\"size\" : 5,\"title\" : \"$\\\\{2,15\\\\}$\",\"color\" : \"\",\"layer\" : 0,\"parent\" : \"F426\",\"menus\" : {},\"messages\" : {},\"callbacks\" : {}},\"F428\" : {\"x\" : 0,\"y\" : 0,\"type\" : \"circle\",\"id\" : \"F428\",\"size\" : 5,\"title\" : \"$\\\\{2,17\\\\}$\",\"color\" : \"\",\"layer\" : 0,\"parent\" : \"F427\",\"menus\" : {},\"messages\" : {},\"callbacks\" : {}}},\"links\" : {}},\"messages\" : {}}}"
     },
     "execution_count": 32,
     "metadata": {
      "application/vnd.francy+json": {}
     },
     "output_type": "execute_result"
    }
   ],
   "source": [
    "sonstree(NumericalSemigroup(1),8,ArfCharactersOfArfNumericalSemigroup);"
   ]
  },
  {
   "cell_type": "markdown",
   "metadata": {},
   "source": [
    "## Oversemigroups"
   ]
  },
  {
   "cell_type": "code",
   "execution_count": 33,
   "metadata": {},
   "outputs": [
    {
     "data": {
      "text/plain": [
       "function( s ) ... end"
      ]
     },
     "execution_count": 33,
     "metadata": {
      "text/plain": ""
     },
     "output_type": "execute_result"
    }
   ],
   "source": [
    "oversemigroups:=function(s)\n",
    "    local ov, graphHasse, canvas,c,i,r,ovs,n,hasse,lbl;\n",
    "    \n",
    "    hasse:=function(rel)\n",
    "      local dom, out;\n",
    "      dom:=Flat(rel);\n",
    "      out:=Filtered(rel, p-> ForAny(dom, x->([p[1],x] in rel) and ([x,p[2]] in rel)));\n",
    "      return Difference(rel,out);\n",
    "    end;\n",
    "\n",
    "    ov:=OverSemigroupsNumericalSemigroup(s);\n",
    "    n:=Length(ov);\n",
    "    graphHasse := Graph(GraphType.UNDIRECTED);\n",
    "    #SetSimulation(graphHasse,true);\n",
    "    #SetDrag(graphHasse,true);\n",
    "    c:=Cartesian([1..n],[1..n]);\n",
    "    c:=Filtered(c, p-> p[2]<>p[1]);\n",
    "    c:=Filtered(c, p-> IsSubset(ov[p[1]],ov[p[2]]));\n",
    "    c:=hasse(c);\n",
    "    ovs:=[];\n",
    "    for i in [1..n] do\n",
    "    lbl:=Concatenation(\"$\\\\langle\",JoinStringsWithSeparator(MinimalGenerators(ov[i]),\",\"),\"\\\\rangle$\");\n",
    "\n",
    "\n",
    "        if IsIrreducible(ov[i]) then\n",
    "            ovs[i]:=Shape(ShapeType!.DIAMOND, lbl);\n",
    "        else\n",
    "            ovs[i]:=Shape(ShapeType!.CIRCLE, lbl);\n",
    "        fi;\n",
    "        SetLayer(ovs[i],Genus(ov[i]));\n",
    "    SetSize(ovs[i],2);\n",
    "    Add(graphHasse,ovs[i]);\n",
    "    od;\n",
    "    for r in c do\n",
    "        Add(graphHasse,Link(ovs[r[1]],ovs[r[2]]));\n",
    "    od;\n",
    "    canvas:=Canvas(\"Oversemigroups\");\n",
    "    SetTexTypesetting(canvas, true);\n",
    "    Add(canvas,graphHasse);\n",
    "    return Draw(canvas);    \n",
    "end;"
   ]
  },
  {
   "cell_type": "markdown",
   "metadata": {},
   "source": [
    "A Hasse diagram of the set of oversemigroups of the given numerical semigroup is displayed. Irreducible numerical semigroups are drawn as diamonds. "
   ]
  },
  {
   "cell_type": "code",
   "execution_count": 34,
   "metadata": {
    "scrolled": false
   },
   "outputs": [
    {
     "data": {
      "application/vnd.francy+json": "{\"version\" : \"0.8.6\",\"mime\" : \"application\\/vnd.francy+json\",\"canvas\" : {\"width\" : 800,\"id\" : \"F473\",\"height\" : 600,\"title\" : \"Oversemigroups\",\"zoomToFit\" : true,\"texTypesetting\" : true,\"menus\" : {},\"graph\" : {\"type\" : \"undirected\",\"id\" : \"F429\",\"simulation\" : true,\"collapsed\" : true,\"drag\" : false,\"showNeighbours\" : false,\"nodes\" : {\"F430\" : {\"x\" : 0,\"y\" : 0,\"type\" : \"diamond\",\"id\" : \"F430\",\"size\" : 2,\"title\" : \"$\\\\langle1\\\\rangle$\",\"color\" : \"\",\"layer\" : 0,\"parent\" : \"\",\"menus\" : {},\"messages\" : {},\"callbacks\" : {}},\"F431\" : {\"x\" : 0,\"y\" : 0,\"type\" : \"diamond\",\"id\" : \"F431\",\"size\" : 2,\"title\" : \"$\\\\langle2,3\\\\rangle$\",\"color\" : \"\",\"layer\" : 1,\"parent\" : \"\",\"menus\" : {},\"messages\" : {},\"callbacks\" : {}},\"F432\" : {\"x\" : 0,\"y\" : 0,\"type\" : \"diamond\",\"id\" : \"F432\",\"size\" : 2,\"title\" : \"$\\\\langle2,5\\\\rangle$\",\"color\" : \"\",\"layer\" : 2,\"parent\" : \"\",\"menus\" : {},\"messages\" : {},\"callbacks\" : {}},\"F433\" : {\"x\" : 0,\"y\" : 0,\"type\" : \"diamond\",\"id\" : \"F433\",\"size\" : 2,\"title\" : \"$\\\\langle2,7\\\\rangle$\",\"color\" : \"\",\"layer\" : 3,\"parent\" : \"\",\"menus\" : {},\"messages\" : {},\"callbacks\" : {}},\"F434\" : {\"x\" : 0,\"y\" : 0,\"type\" : \"diamond\",\"id\" : \"F434\",\"size\" : 2,\"title\" : \"$\\\\langle3,4,5\\\\rangle$\",\"color\" : \"\",\"layer\" : 2,\"parent\" : \"\",\"menus\" : {},\"messages\" : {},\"callbacks\" : {}},\"F435\" : {\"x\" : 0,\"y\" : 0,\"type\" : \"diamond\",\"id\" : \"F435\",\"size\" : 2,\"title\" : \"$\\\\langle3,4\\\\rangle$\",\"color\" : \"\",\"layer\" : 3,\"parent\" : \"\",\"menus\" : {},\"messages\" : {},\"callbacks\" : {}},\"F436\" : {\"x\" : 0,\"y\" : 0,\"type\" : \"diamond\",\"id\" : \"F436\",\"size\" : 2,\"title\" : \"$\\\\langle3,5,7\\\\rangle$\",\"color\" : \"\",\"layer\" : 3,\"parent\" : \"\",\"menus\" : {},\"messages\" : {},\"callbacks\" : {}},\"F437\" : {\"x\" : 0,\"y\" : 0,\"type\" : \"circle\",\"id\" : \"F437\",\"size\" : 2,\"title\" : \"$\\\\langle3,7,8\\\\rangle$\",\"color\" : \"\",\"layer\" : 4,\"parent\" : \"\",\"menus\" : {},\"messages\" : {},\"callbacks\" : {}},\"F438\" : {\"x\" : 0,\"y\" : 0,\"type\" : \"diamond\",\"id\" : \"F438\",\"size\" : 2,\"title\" : \"$\\\\langle3,7,11\\\\rangle$\",\"color\" : \"\",\"layer\" : 5,\"parent\" : \"\",\"menus\" : {},\"messages\" : {},\"callbacks\" : {}},\"F439\" : {\"x\" : 0,\"y\" : 0,\"type\" : \"circle\",\"id\" : \"F439\",\"size\" : 2,\"title\" : \"$\\\\langle4,5,6,7\\\\rangle$\",\"color\" : \"\",\"layer\" : 3,\"parent\" : \"\",\"menus\" : {},\"messages\" : {},\"callbacks\" : {}},\"F440\" : {\"x\" : 0,\"y\" : 0,\"type\" : \"circle\",\"id\" : \"F440\",\"size\" : 2,\"title\" : \"$\\\\langle4,6,7,9\\\\rangle$\",\"color\" : \"\",\"layer\" : 4,\"parent\" : \"\",\"menus\" : {},\"messages\" : {},\"callbacks\" : {}},\"F441\" : {\"x\" : 0,\"y\" : 0,\"type\" : \"circle\",\"id\" : \"F441\",\"size\" : 2,\"title\" : \"$\\\\langle5,6,7,8,9\\\\rangle$\",\"color\" : \"\",\"layer\" : 4,\"parent\" : \"\",\"menus\" : {},\"messages\" : {},\"callbacks\" : {}},\"F442\" : {\"x\" : 0,\"y\" : 0,\"type\" : \"diamond\",\"id\" : \"F442\",\"size\" : 2,\"title\" : \"$\\\\langle5,6,7,9\\\\rangle$\",\"color\" : \"\",\"layer\" : 5,\"parent\" : \"\",\"menus\" : {},\"messages\" : {},\"callbacks\" : {}},\"F443\" : {\"x\" : 0,\"y\" : 0,\"type\" : \"circle\",\"id\" : \"F443\",\"size\" : 2,\"title\" : \"$\\\\langle6,7,8,9,10,11\\\\rangle$\",\"color\" : \"\",\"layer\" : 5,\"parent\" : \"\",\"menus\" : {},\"messages\" : {},\"callbacks\" : {}},\"F444\" : {\"x\" : 0,\"y\" : 0,\"type\" : \"diamond\",\"id\" : \"F444\",\"size\" : 2,\"title\" : \"$\\\\langle6,7,8,9,11\\\\rangle$\",\"color\" : \"\",\"layer\" : 6,\"parent\" : \"\",\"menus\" : {},\"messages\" : {},\"callbacks\" : {}},\"F445\" : {\"x\" : 0,\"y\" : 0,\"type\" : \"circle\",\"id\" : \"F445\",\"size\" : 2,\"title\" : \"$\\\\langle6,7,9,10,11\\\\rangle$\",\"color\" : \"\",\"layer\" : 6,\"parent\" : \"\",\"menus\" : {},\"messages\" : {},\"callbacks\" : {}},\"F446\" : {\"x\" : 0,\"y\" : 0,\"type\" : \"circle\",\"id\" : \"F446\",\"size\" : 2,\"title\" : \"$\\\\langle6,7,9,11\\\\rangle$\",\"color\" : \"\",\"layer\" : 7,\"parent\" : \"\",\"menus\" : {},\"messages\" : {},\"callbacks\" : {}}},\"links\" : {\"F447\" : {\"id\" : \"F447\",\"source\" : \"F430\",\"length\" : 0,\"weight\" : 0,\"color\" : \"\",\"invisible\" : false,\"target\" : \"F431\"},\"F448\" : {\"id\" : \"F448\",\"source\" : \"F431\",\"length\" : 0,\"weight\" : 0,\"color\" : \"\",\"invisible\" : false,\"target\" : \"F432\"},\"F449\" : {\"id\" : \"F449\",\"source\" : \"F431\",\"length\" : 0,\"weight\" : 0,\"color\" : \"\",\"invisible\" : false,\"target\" : \"F434\"},\"F450\" : {\"id\" : \"F450\",\"source\" : \"F432\",\"length\" : 0,\"weight\" : 0,\"color\" : \"\",\"invisible\" : false,\"target\" : \"F433\"},\"F451\" : {\"id\" : \"F451\",\"source\" : \"F432\",\"length\" : 0,\"weight\" : 0,\"color\" : \"\",\"invisible\" : false,\"target\" : \"F439\"},\"F452\" : {\"id\" : \"F452\",\"source\" : \"F433\",\"length\" : 0,\"weight\" : 0,\"color\" : \"\",\"invisible\" : false,\"target\" : \"F440\"},\"F453\" : {\"id\" : \"F453\",\"source\" : \"F434\",\"length\" : 0,\"weight\" : 0,\"color\" : \"\",\"invisible\" : false,\"target\" : \"F435\"},\"F454\" : {\"id\" : \"F454\",\"source\" : \"F434\",\"length\" : 0,\"weight\" : 0,\"color\" : \"\",\"invisible\" : false,\"target\" : \"F436\"},\"F455\" : {\"id\" : \"F455\",\"source\" : \"F434\",\"length\" : 0,\"weight\" : 0,\"color\" : \"\",\"invisible\" : false,\"target\" : \"F439\"},\"F456\" : {\"id\" : \"F456\",\"source\" : \"F435\",\"length\" : 0,\"weight\" : 0,\"color\" : \"\",\"invisible\" : false,\"target\" : \"F437\"},\"F457\" : {\"id\" : \"F457\",\"source\" : \"F435\",\"length\" : 0,\"weight\" : 0,\"color\" : \"\",\"invisible\" : false,\"target\" : \"F440\"},\"F458\" : {\"id\" : \"F458\",\"source\" : \"F436\",\"length\" : 0,\"weight\" : 0,\"color\" : \"\",\"invisible\" : false,\"target\" : \"F437\"},\"F459\" : {\"id\" : \"F459\",\"source\" : \"F436\",\"length\" : 0,\"weight\" : 0,\"color\" : \"\",\"invisible\" : false,\"target\" : \"F441\"},\"F460\" : {\"id\" : \"F460\",\"source\" : \"F437\",\"length\" : 0,\"weight\" : 0,\"color\" : \"\",\"invisible\" : false,\"target\" : \"F438\"},\"F461\" : {\"id\" : \"F461\",\"source\" : \"F437\",\"length\" : 0,\"weight\" : 0,\"color\" : \"\",\"invisible\" : false,\"target\" : \"F443\"},\"F462\" : {\"id\" : \"F462\",\"source\" : \"F438\",\"length\" : 0,\"weight\" : 0,\"color\" : \"\",\"invisible\" : false,\"target\" : \"F445\"},\"F463\" : {\"id\" : \"F463\",\"source\" : \"F439\",\"length\" : 0,\"weight\" : 0,\"color\" : \"\",\"invisible\" : false,\"target\" : \"F440\"},\"F464\" : {\"id\" : \"F464\",\"source\" : \"F439\",\"length\" : 0,\"weight\" : 0,\"color\" : \"\",\"invisible\" : false,\"target\" : \"F441\"},\"F465\" : {\"id\" : \"F465\",\"source\" : \"F440\",\"length\" : 0,\"weight\" : 0,\"color\" : \"\",\"invisible\" : false,\"target\" : \"F443\"},\"F466\" : {\"id\" : \"F466\",\"source\" : \"F441\",\"length\" : 0,\"weight\" : 0,\"color\" : \"\",\"invisible\" : false,\"target\" : \"F442\"},\"F467\" : {\"id\" : \"F467\",\"source\" : \"F441\",\"length\" : 0,\"weight\" : 0,\"color\" : \"\",\"invisible\" : false,\"target\" : \"F443\"},\"F468\" : {\"id\" : \"F468\",\"source\" : \"F442\",\"length\" : 0,\"weight\" : 0,\"color\" : \"\",\"invisible\" : false,\"target\" : \"F445\"},\"F469\" : {\"id\" : \"F469\",\"source\" : \"F443\",\"length\" : 0,\"weight\" : 0,\"color\" : \"\",\"invisible\" : false,\"target\" : \"F444\"},\"F470\" : {\"id\" : \"F470\",\"source\" : \"F443\",\"length\" : 0,\"weight\" : 0,\"color\" : \"\",\"invisible\" : false,\"target\" : \"F445\"},\"F471\" : {\"id\" : \"F471\",\"source\" : \"F444\",\"length\" : 0,\"weight\" : 0,\"color\" : \"\",\"invisible\" : false,\"target\" : \"F446\"},\"F472\" : {\"id\" : \"F472\",\"source\" : \"F445\",\"length\" : 0,\"weight\" : 0,\"color\" : \"\",\"invisible\" : false,\"target\" : \"F446\"}}},\"messages\" : {}}}"
     },
     "execution_count": 34,
     "metadata": {
      "application/vnd.francy+json": {}
     },
     "output_type": "execute_result"
    }
   ],
   "source": [
    "oversemigroups(NumericalSemigroup(6,7,9,11));"
   ]
  },
  {
   "cell_type": "markdown",
   "metadata": {},
   "source": [
    "## Graphs associated to elements"
   ]
  },
  {
   "cell_type": "markdown",
   "metadata": {},
   "source": [
    "The Eliahou graph of an element in a numerical semigroup is a graph whose vertices are the factorizations of the element, and to vertices are joined with an edge if they have common support."
   ]
  },
  {
   "cell_type": "code",
   "execution_count": 35,
   "metadata": {},
   "outputs": [
    {
     "data": {
      "text/plain": [
       "function( n, s ) ... end"
      ]
     },
     "execution_count": 35,
     "metadata": {
      "text/plain": ""
     },
     "output_type": "execute_result"
    }
   ],
   "source": [
    "DrawEliahouGraph:=function(n,s)\n",
    "    local graph, canvas, f, fs, c, nf, i, p;\n",
    "    \n",
    "    f:=FactorizationsElementWRTNumericalSemigroup(n,s);\n",
    "    graph:=Graph(GraphType.UNDIRECTED);\n",
    "    #SetShowNeighbours(graph,true);\n",
    "    #SetSimulation(graph,true);\n",
    "    #SetDrag(graph,true);\n",
    "    nf:=Length(f);\n",
    "    fs:=[];\n",
    "    for i in [1..nf] do \n",
    "        fs[i]:=Shape(ShapeType!.CIRCLE, Concatenation(\"(\",JoinStringsWithSeparator(f[i],\",\"),\")\"));\n",
    "        SetLayer(fs[i],Sum(f[i]));\n",
    "        SetSize(fs[i],1);\n",
    "        Add(graph,fs[i]);\n",
    "    od;\n",
    "    c:=Cartesian([1..nf],[1..nf]);\n",
    "    c:=Filtered(c,p->p[1]<p[2] and f[p[1]]*f[p[2]]<>0);\n",
    "    for p in c do \n",
    "        Add(graph,Link(fs[p[1]],fs[p[2]]));\n",
    "    od;\n",
    "    canvas:=Canvas(\"Eliahou graph\");\n",
    "    Add(canvas,graph);\n",
    "    return Draw(canvas);\n",
    "end;"
   ]
  },
  {
   "cell_type": "code",
   "execution_count": 36,
   "metadata": {},
   "outputs": [
    {
     "data": {
      "text/plain": [
       "Numerical semigroup with 3 generators"
      ]
     },
     "execution_count": 36,
     "metadata": {
      "text/plain": ""
     },
     "output_type": "execute_result"
    }
   ],
   "source": [
    "s:=NumericalSemigroup(5,7,9);"
   ]
  },
  {
   "cell_type": "code",
   "execution_count": 37,
   "metadata": {
    "scrolled": false
   },
   "outputs": [
    {
     "data": {
      "application/vnd.francy+json": "{\"version\" : \"0.8.6\",\"mime\" : \"application\\/vnd.francy+json\",\"canvas\" : {\"width\" : 800,\"id\" : \"F495\",\"height\" : 600,\"title\" : \"Eliahou graph\",\"zoomToFit\" : true,\"texTypesetting\" : false,\"menus\" : {},\"graph\" : {\"type\" : \"undirected\",\"id\" : \"F474\",\"simulation\" : true,\"collapsed\" : true,\"drag\" : false,\"showNeighbours\" : false,\"nodes\" : {\"F475\" : {\"x\" : 0,\"y\" : 0,\"type\" : \"circle\",\"id\" : \"F475\",\"size\" : 1,\"title\" : \"(7,2,0)\",\"color\" : \"\",\"layer\" : 9,\"parent\" : \"\",\"menus\" : {},\"messages\" : {},\"callbacks\" : {}},\"F476\" : {\"x\" : 0,\"y\" : 0,\"type\" : \"circle\",\"id\" : \"F476\",\"size\" : 1,\"title\" : \"(0,7,0)\",\"color\" : \"\",\"layer\" : 7,\"parent\" : \"\",\"menus\" : {},\"messages\" : {},\"callbacks\" : {}},\"F477\" : {\"x\" : 0,\"y\" : 0,\"type\" : \"circle\",\"id\" : \"F477\",\"size\" : 1,\"title\" : \"(8,0,1)\",\"color\" : \"\",\"layer\" : 9,\"parent\" : \"\",\"menus\" : {},\"messages\" : {},\"callbacks\" : {}},\"F478\" : {\"x\" : 0,\"y\" : 0,\"type\" : \"circle\",\"id\" : \"F478\",\"size\" : 1,\"title\" : \"(1,5,1)\",\"color\" : \"\",\"layer\" : 7,\"parent\" : \"\",\"menus\" : {},\"messages\" : {},\"callbacks\" : {}},\"F479\" : {\"x\" : 0,\"y\" : 0,\"type\" : \"circle\",\"id\" : \"F479\",\"size\" : 1,\"title\" : \"(2,3,2)\",\"color\" : \"\",\"layer\" : 7,\"parent\" : \"\",\"menus\" : {},\"messages\" : {},\"callbacks\" : {}},\"F480\" : {\"x\" : 0,\"y\" : 0,\"type\" : \"circle\",\"id\" : \"F480\",\"size\" : 1,\"title\" : \"(3,1,3)\",\"color\" : \"\",\"layer\" : 7,\"parent\" : \"\",\"menus\" : {},\"messages\" : {},\"callbacks\" : {}}},\"links\" : {\"F481\" : {\"id\" : \"F481\",\"source\" : \"F475\",\"length\" : 0,\"weight\" : 0,\"color\" : \"\",\"invisible\" : false,\"target\" : \"F476\"},\"F482\" : {\"id\" : \"F482\",\"source\" : \"F475\",\"length\" : 0,\"weight\" : 0,\"color\" : \"\",\"invisible\" : false,\"target\" : \"F477\"},\"F483\" : {\"id\" : \"F483\",\"source\" : \"F475\",\"length\" : 0,\"weight\" : 0,\"color\" : \"\",\"invisible\" : false,\"target\" : \"F478\"},\"F484\" : {\"id\" : \"F484\",\"source\" : \"F475\",\"length\" : 0,\"weight\" : 0,\"color\" : \"\",\"invisible\" : false,\"target\" : \"F479\"},\"F485\" : {\"id\" : \"F485\",\"source\" : \"F475\",\"length\" : 0,\"weight\" : 0,\"color\" : \"\",\"invisible\" : false,\"target\" : \"F480\"},\"F486\" : {\"id\" : \"F486\",\"source\" : \"F476\",\"length\" : 0,\"weight\" : 0,\"color\" : \"\",\"invisible\" : false,\"target\" : \"F478\"},\"F487\" : {\"id\" : \"F487\",\"source\" : \"F476\",\"length\" : 0,\"weight\" : 0,\"color\" : \"\",\"invisible\" : false,\"target\" : \"F479\"},\"F488\" : {\"id\" : \"F488\",\"source\" : \"F476\",\"length\" : 0,\"weight\" : 0,\"color\" : \"\",\"invisible\" : false,\"target\" : \"F480\"},\"F489\" : {\"id\" : \"F489\",\"source\" : \"F477\",\"length\" : 0,\"weight\" : 0,\"color\" : \"\",\"invisible\" : false,\"target\" : \"F478\"},\"F490\" : {\"id\" : \"F490\",\"source\" : \"F477\",\"length\" : 0,\"weight\" : 0,\"color\" : \"\",\"invisible\" : false,\"target\" : \"F479\"},\"F491\" : {\"id\" : \"F491\",\"source\" : \"F477\",\"length\" : 0,\"weight\" : 0,\"color\" : \"\",\"invisible\" : false,\"target\" : \"F480\"},\"F492\" : {\"id\" : \"F492\",\"source\" : \"F478\",\"length\" : 0,\"weight\" : 0,\"color\" : \"\",\"invisible\" : false,\"target\" : \"F479\"},\"F493\" : {\"id\" : \"F493\",\"source\" : \"F478\",\"length\" : 0,\"weight\" : 0,\"color\" : \"\",\"invisible\" : false,\"target\" : \"F480\"},\"F494\" : {\"id\" : \"F494\",\"source\" : \"F479\",\"length\" : 0,\"weight\" : 0,\"color\" : \"\",\"invisible\" : false,\"target\" : \"F480\"}}},\"messages\" : {}}}"
     },
     "execution_count": 37,
     "metadata": {
      "application/vnd.francy+json": {}
     },
     "output_type": "execute_result"
    }
   ],
   "source": [
    "DrawEliahouGraph(49,s);"
   ]
  },
  {
   "cell_type": "code",
   "execution_count": 38,
   "metadata": {},
   "outputs": [
    {
     "data": {
      "text/plain": [
       "[ 14, 25, 27 ]"
      ]
     },
     "execution_count": 38,
     "metadata": {
      "text/plain": ""
     },
     "output_type": "execute_result"
    }
   ],
   "source": [
    "BettiElements(s);"
   ]
  },
  {
   "cell_type": "code",
   "execution_count": 39,
   "metadata": {},
   "outputs": [
    {
     "data": {
      "application/vnd.francy+json": "{\"version\" : \"0.8.6\",\"mime\" : \"application\\/vnd.francy+json\",\"canvas\" : {\"width\" : 800,\"id\" : \"F524\",\"height\" : 600,\"title\" : \"Eliahou graph\",\"zoomToFit\" : true,\"texTypesetting\" : false,\"menus\" : {},\"graph\" : {\"type\" : \"undirected\",\"id\" : \"F496\",\"simulation\" : true,\"collapsed\" : true,\"drag\" : false,\"showNeighbours\" : false,\"nodes\" : {\"F497\" : {\"x\" : 0,\"y\" : 0,\"type\" : \"circle\",\"id\" : \"F497\",\"size\" : 1,\"title\" : \"(11,0,0)\",\"color\" : \"\",\"layer\" : 11,\"parent\" : \"\",\"menus\" : {},\"messages\" : {},\"callbacks\" : {}},\"F498\" : {\"x\" : 0,\"y\" : 0,\"type\" : \"circle\",\"id\" : \"F498\",\"size\" : 1,\"title\" : \"(4,5,0)\",\"color\" : \"\",\"layer\" : 9,\"parent\" : \"\",\"menus\" : {},\"messages\" : {},\"callbacks\" : {}},\"F499\" : {\"x\" : 0,\"y\" : 0,\"type\" : \"circle\",\"id\" : \"F499\",\"size\" : 1,\"title\" : \"(5,3,1)\",\"color\" : \"\",\"layer\" : 9,\"parent\" : \"\",\"menus\" : {},\"messages\" : {},\"callbacks\" : {}},\"F500\" : {\"x\" : 0,\"y\" : 0,\"type\" : \"circle\",\"id\" : \"F500\",\"size\" : 1,\"title\" : \"(6,1,2)\",\"color\" : \"\",\"layer\" : 9,\"parent\" : \"\",\"menus\" : {},\"messages\" : {},\"callbacks\" : {}},\"F501\" : {\"x\" : 0,\"y\" : 0,\"type\" : \"circle\",\"id\" : \"F501\",\"size\" : 1,\"title\" : \"(0,4,3)\",\"color\" : \"\",\"layer\" : 7,\"parent\" : \"\",\"menus\" : {},\"messages\" : {},\"callbacks\" : {}},\"F502\" : {\"x\" : 0,\"y\" : 0,\"type\" : \"circle\",\"id\" : \"F502\",\"size\" : 1,\"title\" : \"(1,2,4)\",\"color\" : \"\",\"layer\" : 7,\"parent\" : \"\",\"menus\" : {},\"messages\" : {},\"callbacks\" : {}},\"F503\" : {\"x\" : 0,\"y\" : 0,\"type\" : \"circle\",\"id\" : \"F503\",\"size\" : 1,\"title\" : \"(2,0,5)\",\"color\" : \"\",\"layer\" : 7,\"parent\" : \"\",\"menus\" : {},\"messages\" : {},\"callbacks\" : {}}},\"links\" : {\"F504\" : {\"id\" : \"F504\",\"source\" : \"F497\",\"length\" : 0,\"weight\" : 0,\"color\" : \"\",\"invisible\" : false,\"target\" : \"F498\"},\"F505\" : {\"id\" : \"F505\",\"source\" : \"F497\",\"length\" : 0,\"weight\" : 0,\"color\" : \"\",\"invisible\" : false,\"target\" : \"F499\"},\"F506\" : {\"id\" : \"F506\",\"source\" : \"F497\",\"length\" : 0,\"weight\" : 0,\"color\" : \"\",\"invisible\" : false,\"target\" : \"F500\"},\"F507\" : {\"id\" : \"F507\",\"source\" : \"F497\",\"length\" : 0,\"weight\" : 0,\"color\" : \"\",\"invisible\" : false,\"target\" : \"F502\"},\"F508\" : {\"id\" : \"F508\",\"source\" : \"F497\",\"length\" : 0,\"weight\" : 0,\"color\" : \"\",\"invisible\" : false,\"target\" : \"F503\"},\"F509\" : {\"id\" : \"F509\",\"source\" : \"F498\",\"length\" : 0,\"weight\" : 0,\"color\" : \"\",\"invisible\" : false,\"target\" : \"F499\"},\"F510\" : {\"id\" : \"F510\",\"source\" : \"F498\",\"length\" : 0,\"weight\" : 0,\"color\" : \"\",\"invisible\" : false,\"target\" : \"F500\"},\"F511\" : {\"id\" : \"F511\",\"source\" : \"F498\",\"length\" : 0,\"weight\" : 0,\"color\" : \"\",\"invisible\" : false,\"target\" : \"F501\"},\"F512\" : {\"id\" : \"F512\",\"source\" : \"F498\",\"length\" : 0,\"weight\" : 0,\"color\" : \"\",\"invisible\" : false,\"target\" : \"F502\"},\"F513\" : {\"id\" : \"F513\",\"source\" : \"F498\",\"length\" : 0,\"weight\" : 0,\"color\" : \"\",\"invisible\" : false,\"target\" : \"F503\"},\"F514\" : {\"id\" : \"F514\",\"source\" : \"F499\",\"length\" : 0,\"weight\" : 0,\"color\" : \"\",\"invisible\" : false,\"target\" : \"F500\"},\"F515\" : {\"id\" : \"F515\",\"source\" : \"F499\",\"length\" : 0,\"weight\" : 0,\"color\" : \"\",\"invisible\" : false,\"target\" : \"F501\"},\"F516\" : {\"id\" : \"F516\",\"source\" : \"F499\",\"length\" : 0,\"weight\" : 0,\"color\" : \"\",\"invisible\" : false,\"target\" : \"F502\"},\"F517\" : {\"id\" : \"F517\",\"source\" : \"F499\",\"length\" : 0,\"weight\" : 0,\"color\" : \"\",\"invisible\" : false,\"target\" : \"F503\"},\"F518\" : {\"id\" : \"F518\",\"source\" : \"F500\",\"length\" : 0,\"weight\" : 0,\"color\" : \"\",\"invisible\" : false,\"target\" : \"F501\"},\"F519\" : {\"id\" : \"F519\",\"source\" : \"F500\",\"length\" : 0,\"weight\" : 0,\"color\" : \"\",\"invisible\" : false,\"target\" : \"F502\"},\"F520\" : {\"id\" : \"F520\",\"source\" : \"F500\",\"length\" : 0,\"weight\" : 0,\"color\" : \"\",\"invisible\" : false,\"target\" : \"F503\"},\"F521\" : {\"id\" : \"F521\",\"source\" : \"F501\",\"length\" : 0,\"weight\" : 0,\"color\" : \"\",\"invisible\" : false,\"target\" : \"F502\"},\"F522\" : {\"id\" : \"F522\",\"source\" : \"F501\",\"length\" : 0,\"weight\" : 0,\"color\" : \"\",\"invisible\" : false,\"target\" : \"F503\"},\"F523\" : {\"id\" : \"F523\",\"source\" : \"F502\",\"length\" : 0,\"weight\" : 0,\"color\" : \"\",\"invisible\" : false,\"target\" : \"F503\"}}},\"messages\" : {}}}"
     },
     "execution_count": 39,
     "metadata": {
      "application/vnd.francy+json": {}
     },
     "output_type": "execute_result"
    }
   ],
   "source": [
    "DrawEliahouGraph(55,s);"
   ]
  },
  {
   "cell_type": "code",
   "execution_count": 40,
   "metadata": {},
   "outputs": [
    {
     "data": {
      "text/plain": [
       "function( n, s ) ... end"
      ]
     },
     "execution_count": 40,
     "metadata": {
      "text/plain": ""
     },
     "output_type": "execute_result"
    }
   ],
   "source": [
    "DrawRosalesGraph:=function(n,s)\n",
    "    local graph, canvas, msg, msgs, c, nv, i, p;\n",
    "    \n",
    "    msg:=Filtered(MinimalGenerators(s), g->n-g in s);\n",
    "    graph:=Graph(GraphType.UNDIRECTED);\n",
    "    #SetSimulation(graph,true);\n",
    "    #SetDrag(graph,true);\n",
    "    nv:=Length(msg);\n",
    "    msgs:=[];\n",
    "    for i in [1..nv] do \n",
    "        msgs[i]:=Shape(ShapeType!.CIRCLE, String(msg[i]));\n",
    "        SetSize(msgs[i],1);\n",
    "        Add(graph,msgs[i]);\n",
    "    od;\n",
    "    c:=Cartesian([1..nv],[1..nv]);\n",
    "    c:=Filtered(c,p->p[1]<p[2] and n-(msg[p[1]]+msg[p[2]]) in s);\n",
    "    for p in c do \n",
    "        Add(graph,Link(msgs[p[1]],msgs[p[2]]));\n",
    "    od;\n",
    "    canvas:=Canvas(\"Rosales graph\");\n",
    "    Add(canvas,graph);\n",
    "    return Draw(canvas);\n",
    "end;"
   ]
  },
  {
   "cell_type": "code",
   "execution_count": 41,
   "metadata": {},
   "outputs": [
    {
     "data": {
      "text/plain": [
       "Numerical semigroup with 3 generators"
      ]
     },
     "execution_count": 41,
     "metadata": {
      "text/plain": ""
     },
     "output_type": "execute_result"
    }
   ],
   "source": [
    "s:=NumericalSemigroup(5,7,9);"
   ]
  },
  {
   "cell_type": "code",
   "execution_count": 42,
   "metadata": {},
   "outputs": [
    {
     "data": {
      "application/vnd.francy+json": "{\"version\" : \"0.8.6\",\"mime\" : \"application\\/vnd.francy+json\",\"canvas\" : {\"width\" : 800,\"id\" : \"F532\",\"height\" : 600,\"title\" : \"Rosales graph\",\"zoomToFit\" : true,\"texTypesetting\" : false,\"menus\" : {},\"graph\" : {\"type\" : \"undirected\",\"id\" : \"F525\",\"simulation\" : true,\"collapsed\" : true,\"drag\" : false,\"showNeighbours\" : false,\"nodes\" : {\"F526\" : {\"x\" : 0,\"y\" : 0,\"type\" : \"circle\",\"id\" : \"F526\",\"size\" : 1,\"title\" : \"5\",\"color\" : \"\",\"layer\" : 0,\"parent\" : \"\",\"menus\" : {},\"messages\" : {},\"callbacks\" : {}},\"F527\" : {\"x\" : 0,\"y\" : 0,\"type\" : \"circle\",\"id\" : \"F527\",\"size\" : 1,\"title\" : \"7\",\"color\" : \"\",\"layer\" : 0,\"parent\" : \"\",\"menus\" : {},\"messages\" : {},\"callbacks\" : {}},\"F528\" : {\"x\" : 0,\"y\" : 0,\"type\" : \"circle\",\"id\" : \"F528\",\"size\" : 1,\"title\" : \"9\",\"color\" : \"\",\"layer\" : 0,\"parent\" : \"\",\"menus\" : {},\"messages\" : {},\"callbacks\" : {}}},\"links\" : {\"F529\" : {\"id\" : \"F529\",\"source\" : \"F526\",\"length\" : 0,\"weight\" : 0,\"color\" : \"\",\"invisible\" : false,\"target\" : \"F527\"},\"F530\" : {\"id\" : \"F530\",\"source\" : \"F526\",\"length\" : 0,\"weight\" : 0,\"color\" : \"\",\"invisible\" : false,\"target\" : \"F528\"},\"F531\" : {\"id\" : \"F531\",\"source\" : \"F527\",\"length\" : 0,\"weight\" : 0,\"color\" : \"\",\"invisible\" : false,\"target\" : \"F528\"}}},\"messages\" : {}}}"
     },
     "execution_count": 42,
     "metadata": {
      "application/vnd.francy+json": {}
     },
     "output_type": "execute_result"
    }
   ],
   "source": [
    "DrawRosalesGraph(49,s);"
   ]
  },
  {
   "cell_type": "code",
   "execution_count": 43,
   "metadata": {},
   "outputs": [
    {
     "data": {
      "application/vnd.francy+json": "{\"version\" : \"0.8.6\",\"mime\" : \"application\\/vnd.francy+json\",\"canvas\" : {\"width\" : 800,\"id\" : \"F538\",\"height\" : 600,\"title\" : \"Rosales graph\",\"zoomToFit\" : true,\"texTypesetting\" : false,\"menus\" : {},\"graph\" : {\"type\" : \"undirected\",\"id\" : \"F533\",\"simulation\" : true,\"collapsed\" : true,\"drag\" : false,\"showNeighbours\" : false,\"nodes\" : {\"F534\" : {\"x\" : 0,\"y\" : 0,\"type\" : \"circle\",\"id\" : \"F534\",\"size\" : 1,\"title\" : \"3\",\"color\" : \"\",\"layer\" : 0,\"parent\" : \"\",\"menus\" : {},\"messages\" : {},\"callbacks\" : {}},\"F535\" : {\"x\" : 0,\"y\" : 0,\"type\" : \"circle\",\"id\" : \"F535\",\"size\" : 1,\"title\" : \"5\",\"color\" : \"\",\"layer\" : 0,\"parent\" : \"\",\"menus\" : {},\"messages\" : {},\"callbacks\" : {}},\"F536\" : {\"x\" : 0,\"y\" : 0,\"type\" : \"circle\",\"id\" : \"F536\",\"size\" : 1,\"title\" : \"7\",\"color\" : \"\",\"layer\" : 0,\"parent\" : \"\",\"menus\" : {},\"messages\" : {},\"callbacks\" : {}}},\"links\" : {\"F537\" : {\"id\" : \"F537\",\"source\" : \"F534\",\"length\" : 0,\"weight\" : 0,\"color\" : \"\",\"invisible\" : false,\"target\" : \"F536\"}}},\"messages\" : {}}}"
     },
     "execution_count": 43,
     "metadata": {
      "application/vnd.francy+json": {}
     },
     "output_type": "execute_result"
    }
   ],
   "source": [
    "DrawRosalesGraph(10,NumericalSemigroup(3,5,7));"
   ]
  },
  {
   "cell_type": "markdown",
   "metadata": {},
   "source": [
    "## Graphs of factorizations"
   ]
  },
  {
   "cell_type": "code",
   "execution_count": 44,
   "metadata": {},
   "outputs": [
    {
     "data": {
      "text/plain": [
       "function( f ) ... end"
      ]
     },
     "execution_count": 44,
     "metadata": {
      "text/plain": ""
     },
     "output_type": "execute_result"
    }
   ],
   "source": [
    "DrawFactorizationGraph:=function(f)\n",
    "    local graph, canvas, fs, c, nf, i, p, ln, distance, Kruskal, tv;\n",
    "\n",
    "    Kruskal := function(V, E)\n",
    "        local trees, needed, v, e, i,j, nv;\n",
    "\n",
    "        trees := List(V, v-> [v]);\n",
    "        needed := [];\n",
    "        nv:=Length(V);\n",
    "        for e in E do\n",
    "          i:=First([1..Length(trees)], k-> e[1] in trees[k]);\n",
    "          j:=First([1..Length(trees)], k-> e[2] in trees[k]);\n",
    "          if i<>j then\n",
    "            trees[i]:=Union(trees[i], trees[j]);\n",
    "            trees[j]:=[];\n",
    "            Add(needed,e);\n",
    "          fi;\n",
    "          if Length(needed)=nv-1 then\n",
    "            break;\n",
    "          fi;\n",
    "        od;\n",
    "        return needed;\n",
    "    end;\n",
    " \n",
    "    distance := function(a,b)\n",
    "        local   k,  gcd,  i;\n",
    "\n",
    "        k := Length(a);\n",
    "        if k <> Length(b) then\n",
    "            Error(\"The lengths of a and b are different.\\n\");\n",
    "        fi;\n",
    "\n",
    "\n",
    "        gcd := [];\n",
    "        for i in [1..k] do\n",
    "            Add(gcd, Minimum(a[i],b[i]));\n",
    "        od;\n",
    "        return(Maximum(Sum(a-gcd),Sum(b-gcd)));\n",
    "\n",
    "    end;\n",
    "\n",
    "    graph:=Graph(GraphType.UNDIRECTED);\n",
    "# SetSimulation(graph,true);\n",
    "#SetDrag(graph,true);\n",
    "#SetShowNeighbours(graph,true);\n",
    "    nf:=Length(f);\n",
    "    fs:=[];\n",
    "    for i in [1..nf] do \n",
    "        fs[i]:=Shape(ShapeType!.CIRCLE, Concatenation(\"(\",JoinStringsWithSeparator(f[i],\",\"),\")\"));\n",
    "        SetLayer(fs[i],Sum(f[i]));\n",
    "        SetSize(fs[i],1);\n",
    "        Add(graph,fs[i]);\n",
    "    od;\n",
    "    c:=Cartesian([1..nf],[1..nf]);\n",
    "    c:=Filtered(c,p->p[1]<p[2] and f[p[1]]*f[p[2]]<>0);\n",
    "    Sort(c,function(e,ee) return distance(f[e[1]],f[e[2]])<distance(f[ee[1]],f[ee[2]]); end);\n",
    "    tv:=Kruskal(f,List(c,p->[f[p[1]],f[p[2]]]));\n",
    "    for p in c do \n",
    "        ln:=Link(fs[p[1]],fs[p[2]]);\n",
    "        #SetWeight(ln, distance(f[p[1]],f[p[2]]));\n",
    "        SetTitle(ln, String(distance(f[p[1]],f[p[2]])));\n",
    "        if [f[p[1]],f[p[2]]] in tv then \n",
    "            SetColor(ln,\"red\");\n",
    "        fi;\n",
    "        Add(graph,ln);\n",
    "    od;\n",
    "    canvas:=Canvas(\"Factorizations graph\");\n",
    "    Add(canvas,graph);\n",
    "    return Draw(canvas);\n",
    "end;"
   ]
  },
  {
   "cell_type": "code",
   "execution_count": 45,
   "metadata": {},
   "outputs": [
    {
     "data": {
      "text/plain": [
       "[ [ 10, 2, 0 ], [ 5, 5, 0 ], [ 0, 8, 0 ], [ 11, 0, 1 ], [ 6, 3, 1 ], [ 1, 6, 1 ], [ 7, 1, 2 ], [ 2, 4, 2 ], [ 3, 2, 3 ], [ 4, 0, 4 ], [ 0, 1, 5 ] ]"
      ]
     },
     "execution_count": 45,
     "metadata": {
      "text/plain": ""
     },
     "output_type": "execute_result"
    }
   ],
   "source": [
    "f:=FactorizationsElementWRTNumericalSemigroup(40,NumericalSemigroup(3,5,7));"
   ]
  },
  {
   "cell_type": "code",
   "execution_count": 46,
   "metadata": {
    "scrolled": false
   },
   "outputs": [
    {
     "data": {
      "application/vnd.francy+json": "{\"version\" : \"0.8.6\",\"mime\" : \"application\\/vnd.francy+json\",\"canvas\" : {\"width\" : 800,\"id\" : \"F604\",\"height\" : 600,\"title\" : \"Factorizations graph\",\"zoomToFit\" : true,\"texTypesetting\" : false,\"menus\" : {},\"graph\" : {\"type\" : \"undirected\",\"id\" : \"F539\",\"simulation\" : true,\"collapsed\" : true,\"drag\" : false,\"showNeighbours\" : false,\"nodes\" : {\"F540\" : {\"x\" : 0,\"y\" : 0,\"type\" : \"circle\",\"id\" : \"F540\",\"size\" : 1,\"title\" : \"(10,2,0)\",\"color\" : \"\",\"layer\" : 12,\"parent\" : \"\",\"menus\" : {},\"messages\" : {},\"callbacks\" : {}},\"F541\" : {\"x\" : 0,\"y\" : 0,\"type\" : \"circle\",\"id\" : \"F541\",\"size\" : 1,\"title\" : \"(5,5,0)\",\"color\" : \"\",\"layer\" : 10,\"parent\" : \"\",\"menus\" : {},\"messages\" : {},\"callbacks\" : {}},\"F542\" : {\"x\" : 0,\"y\" : 0,\"type\" : \"circle\",\"id\" : \"F542\",\"size\" : 1,\"title\" : \"(0,8,0)\",\"color\" : \"\",\"layer\" : 8,\"parent\" : \"\",\"menus\" : {},\"messages\" : {},\"callbacks\" : {}},\"F543\" : {\"x\" : 0,\"y\" : 0,\"type\" : \"circle\",\"id\" : \"F543\",\"size\" : 1,\"title\" : \"(11,0,1)\",\"color\" : \"\",\"layer\" : 12,\"parent\" : \"\",\"menus\" : {},\"messages\" : {},\"callbacks\" : {}},\"F544\" : {\"x\" : 0,\"y\" : 0,\"type\" : \"circle\",\"id\" : \"F544\",\"size\" : 1,\"title\" : \"(6,3,1)\",\"color\" : \"\",\"layer\" : 10,\"parent\" : \"\",\"menus\" : {},\"messages\" : {},\"callbacks\" : {}},\"F545\" : {\"x\" : 0,\"y\" : 0,\"type\" : \"circle\",\"id\" : \"F545\",\"size\" : 1,\"title\" : \"(1,6,1)\",\"color\" : \"\",\"layer\" : 8,\"parent\" : \"\",\"menus\" : {},\"messages\" : {},\"callbacks\" : {}},\"F546\" : {\"x\" : 0,\"y\" : 0,\"type\" : \"circle\",\"id\" : \"F546\",\"size\" : 1,\"title\" : \"(7,1,2)\",\"color\" : \"\",\"layer\" : 10,\"parent\" : \"\",\"menus\" : {},\"messages\" : {},\"callbacks\" : {}},\"F547\" : {\"x\" : 0,\"y\" : 0,\"type\" : \"circle\",\"id\" : \"F547\",\"size\" : 1,\"title\" : \"(2,4,2)\",\"color\" : \"\",\"layer\" : 8,\"parent\" : \"\",\"menus\" : {},\"messages\" : {},\"callbacks\" : {}},\"F548\" : {\"x\" : 0,\"y\" : 0,\"type\" : \"circle\",\"id\" : \"F548\",\"size\" : 1,\"title\" : \"(3,2,3)\",\"color\" : \"\",\"layer\" : 8,\"parent\" : \"\",\"menus\" : {},\"messages\" : {},\"callbacks\" : {}},\"F549\" : {\"x\" : 0,\"y\" : 0,\"type\" : \"circle\",\"id\" : \"F549\",\"size\" : 1,\"title\" : \"(4,0,4)\",\"color\" : \"\",\"layer\" : 8,\"parent\" : \"\",\"menus\" : {},\"messages\" : {},\"callbacks\" : {}},\"F550\" : {\"x\" : 0,\"y\" : 0,\"type\" : \"circle\",\"id\" : \"F550\",\"size\" : 1,\"title\" : \"(0,1,5)\",\"color\" : \"\",\"layer\" : 6,\"parent\" : \"\",\"menus\" : {},\"messages\" : {},\"callbacks\" : {}}},\"links\" : {\"F551\" : {\"id\" : \"F551\",\"source\" : \"F540\",\"length\" : 0,\"weight\" : 0,\"title\" : \"2\",\"color\" : \"red\",\"invisible\" : false,\"target\" : \"F543\"},\"F552\" : {\"id\" : \"F552\",\"source\" : \"F548\",\"length\" : 0,\"weight\" : 0,\"title\" : \"2\",\"color\" : \"red\",\"invisible\" : false,\"target\" : \"F549\"},\"F553\" : {\"id\" : \"F553\",\"source\" : \"F547\",\"length\" : 0,\"weight\" : 0,\"title\" : \"2\",\"color\" : \"red\",\"invisible\" : false,\"target\" : \"F548\"},\"F554\" : {\"id\" : \"F554\",\"source\" : \"F544\",\"length\" : 0,\"weight\" : 0,\"title\" : \"2\",\"color\" : \"red\",\"invisible\" : false,\"target\" : \"F546\"},\"F555\" : {\"id\" : \"F555\",\"source\" : \"F541\",\"length\" : 0,\"weight\" : 0,\"title\" : \"2\",\"color\" : \"red\",\"invisible\" : false,\"target\" : \"F544\"},\"F556\" : {\"id\" : \"F556\",\"source\" : \"F545\",\"length\" : 0,\"weight\" : 0,\"title\" : \"2\",\"color\" : \"red\",\"invisible\" : false,\"target\" : \"F547\"},\"F557\" : {\"id\" : \"F557\",\"source\" : \"F542\",\"length\" : 0,\"weight\" : 0,\"title\" : \"2\",\"color\" : \"red\",\"invisible\" : false,\"target\" : \"F545\"},\"F558\" : {\"id\" : \"F558\",\"source\" : \"F547\",\"length\" : 0,\"weight\" : 0,\"title\" : \"4\",\"color\" : \"\",\"invisible\" : false,\"target\" : \"F549\"},\"F559\" : {\"id\" : \"F559\",\"source\" : \"F548\",\"length\" : 0,\"weight\" : 0,\"title\" : \"4\",\"color\" : \"red\",\"invisible\" : false,\"target\" : \"F550\"},\"F560\" : {\"id\" : \"F560\",\"source\" : \"F540\",\"length\" : 0,\"weight\" : 0,\"title\" : \"4\",\"color\" : \"red\",\"invisible\" : false,\"target\" : \"F544\"},\"F561\" : {\"id\" : \"F561\",\"source\" : \"F540\",\"length\" : 0,\"weight\" : 0,\"title\" : \"4\",\"color\" : \"\",\"invisible\" : false,\"target\" : \"F546\"},\"F562\" : {\"id\" : \"F562\",\"source\" : \"F543\",\"length\" : 0,\"weight\" : 0,\"title\" : \"4\",\"color\" : \"\",\"invisible\" : false,\"target\" : \"F546\"},\"F563\" : {\"id\" : \"F563\",\"source\" : \"F549\",\"length\" : 0,\"weight\" : 0,\"title\" : \"4\",\"color\" : \"\",\"invisible\" : false,\"target\" : \"F550\"},\"F564\" : {\"id\" : \"F564\",\"source\" : \"F546\",\"length\" : 0,\"weight\" : 0,\"title\" : \"4\",\"color\" : \"red\",\"invisible\" : false,\"target\" : \"F549\"},\"F565\" : {\"id\" : \"F565\",\"source\" : \"F546\",\"length\" : 0,\"weight\" : 0,\"title\" : \"4\",\"color\" : \"\",\"invisible\" : false,\"target\" : \"F548\"},\"F566\" : {\"id\" : \"F566\",\"source\" : \"F541\",\"length\" : 0,\"weight\" : 0,\"title\" : \"4\",\"color\" : \"\",\"invisible\" : false,\"target\" : \"F545\"},\"F567\" : {\"id\" : \"F567\",\"source\" : \"F542\",\"length\" : 0,\"weight\" : 0,\"title\" : \"4\",\"color\" : \"\",\"invisible\" : false,\"target\" : \"F547\"},\"F568\" : {\"id\" : \"F568\",\"source\" : \"F541\",\"length\" : 0,\"weight\" : 0,\"title\" : \"4\",\"color\" : \"\",\"invisible\" : false,\"target\" : \"F547\"},\"F569\" : {\"id\" : \"F569\",\"source\" : \"F544\",\"length\" : 0,\"weight\" : 0,\"title\" : \"4\",\"color\" : \"\",\"invisible\" : false,\"target\" : \"F547\"},\"F570\" : {\"id\" : \"F570\",\"source\" : \"F544\",\"length\" : 0,\"weight\" : 0,\"title\" : \"4\",\"color\" : \"\",\"invisible\" : false,\"target\" : \"F548\"},\"F571\" : {\"id\" : \"F571\",\"source\" : \"F545\",\"length\" : 0,\"weight\" : 0,\"title\" : \"4\",\"color\" : \"\",\"invisible\" : false,\"target\" : \"F548\"},\"F572\" : {\"id\" : \"F572\",\"source\" : \"F541\",\"length\" : 0,\"weight\" : 0,\"title\" : \"4\",\"color\" : \"\",\"invisible\" : false,\"target\" : \"F546\"},\"F573\" : {\"id\" : \"F573\",\"source\" : \"F544\",\"length\" : 0,\"weight\" : 0,\"title\" : \"5\",\"color\" : \"\",\"invisible\" : false,\"target\" : \"F549\"},\"F574\" : {\"id\" : \"F574\",\"source\" : \"F546\",\"length\" : 0,\"weight\" : 0,\"title\" : \"5\",\"color\" : \"\",\"invisible\" : false,\"target\" : \"F547\"},\"F575\" : {\"id\" : \"F575\",\"source\" : \"F541\",\"length\" : 0,\"weight\" : 0,\"title\" : \"5\",\"color\" : \"\",\"invisible\" : false,\"target\" : \"F548\"},\"F576\" : {\"id\" : \"F576\",\"source\" : \"F540\",\"length\" : 0,\"weight\" : 0,\"title\" : \"5\",\"color\" : \"\",\"invisible\" : false,\"target\" : \"F541\"},\"F577\" : {\"id\" : \"F577\",\"source\" : \"F541\",\"length\" : 0,\"weight\" : 0,\"title\" : \"5\",\"color\" : \"\",\"invisible\" : false,\"target\" : \"F542\"},\"F578\" : {\"id\" : \"F578\",\"source\" : \"F547\",\"length\" : 0,\"weight\" : 0,\"title\" : \"5\",\"color\" : \"\",\"invisible\" : false,\"target\" : \"F550\"},\"F579\" : {\"id\" : \"F579\",\"source\" : \"F544\",\"length\" : 0,\"weight\" : 0,\"title\" : \"5\",\"color\" : \"\",\"invisible\" : false,\"target\" : \"F545\"},\"F580\" : {\"id\" : \"F580\",\"source\" : \"F543\",\"length\" : 0,\"weight\" : 0,\"title\" : \"5\",\"color\" : \"\",\"invisible\" : false,\"target\" : \"F544\"},\"F581\" : {\"id\" : \"F581\",\"source\" : \"F542\",\"length\" : 0,\"weight\" : 0,\"title\" : \"6\",\"color\" : \"\",\"invisible\" : false,\"target\" : \"F548\"},\"F582\" : {\"id\" : \"F582\",\"source\" : \"F545\",\"length\" : 0,\"weight\" : 0,\"title\" : \"6\",\"color\" : \"\",\"invisible\" : false,\"target\" : \"F549\"},\"F583\" : {\"id\" : \"F583\",\"source\" : \"F545\",\"length\" : 0,\"weight\" : 0,\"title\" : \"6\",\"color\" : \"\",\"invisible\" : false,\"target\" : \"F550\"},\"F584\" : {\"id\" : \"F584\",\"source\" : \"F541\",\"length\" : 0,\"weight\" : 0,\"title\" : \"6\",\"color\" : \"\",\"invisible\" : false,\"target\" : \"F549\"},\"F585\" : {\"id\" : \"F585\",\"source\" : \"F543\",\"length\" : 0,\"weight\" : 0,\"title\" : \"7\",\"color\" : \"\",\"invisible\" : false,\"target\" : \"F549\"},\"F586\" : {\"id\" : \"F586\",\"source\" : \"F542\",\"length\" : 0,\"weight\" : 0,\"title\" : \"7\",\"color\" : \"\",\"invisible\" : false,\"target\" : \"F550\"},\"F587\" : {\"id\" : \"F587\",\"source\" : \"F545\",\"length\" : 0,\"weight\" : 0,\"title\" : \"7\",\"color\" : \"\",\"invisible\" : false,\"target\" : \"F546\"},\"F588\" : {\"id\" : \"F588\",\"source\" : \"F542\",\"length\" : 0,\"weight\" : 0,\"title\" : \"7\",\"color\" : \"\",\"invisible\" : false,\"target\" : \"F544\"},\"F589\" : {\"id\" : \"F589\",\"source\" : \"F541\",\"length\" : 0,\"weight\" : 0,\"title\" : \"7\",\"color\" : \"\",\"invisible\" : false,\"target\" : \"F543\"},\"F590\" : {\"id\" : \"F590\",\"source\" : \"F546\",\"length\" : 0,\"weight\" : 0,\"title\" : \"7\",\"color\" : \"\",\"invisible\" : false,\"target\" : \"F550\"},\"F591\" : {\"id\" : \"F591\",\"source\" : \"F540\",\"length\" : 0,\"weight\" : 0,\"title\" : \"7\",\"color\" : \"\",\"invisible\" : false,\"target\" : \"F548\"},\"F592\" : {\"id\" : \"F592\",\"source\" : \"F543\",\"length\" : 0,\"weight\" : 0,\"title\" : \"8\",\"color\" : \"\",\"invisible\" : false,\"target\" : \"F548\"},\"F593\" : {\"id\" : \"F593\",\"source\" : \"F544\",\"length\" : 0,\"weight\" : 0,\"title\" : \"8\",\"color\" : \"\",\"invisible\" : false,\"target\" : \"F550\"},\"F594\" : {\"id\" : \"F594\",\"source\" : \"F540\",\"length\" : 0,\"weight\" : 0,\"title\" : \"8\",\"color\" : \"\",\"invisible\" : false,\"target\" : \"F549\"},\"F595\" : {\"id\" : \"F595\",\"source\" : \"F540\",\"length\" : 0,\"weight\" : 0,\"title\" : \"8\",\"color\" : \"\",\"invisible\" : false,\"target\" : \"F547\"},\"F596\" : {\"id\" : \"F596\",\"source\" : \"F543\",\"length\" : 0,\"weight\" : 0,\"title\" : \"9\",\"color\" : \"\",\"invisible\" : false,\"target\" : \"F547\"},\"F597\" : {\"id\" : \"F597\",\"source\" : \"F542\",\"length\" : 0,\"weight\" : 0,\"title\" : \"9\",\"color\" : \"\",\"invisible\" : false,\"target\" : \"F546\"},\"F598\" : {\"id\" : \"F598\",\"source\" : \"F541\",\"length\" : 0,\"weight\" : 0,\"title\" : \"9\",\"color\" : \"\",\"invisible\" : false,\"target\" : \"F550\"},\"F599\" : {\"id\" : \"F599\",\"source\" : \"F540\",\"length\" : 0,\"weight\" : 0,\"title\" : \"9\",\"color\" : \"\",\"invisible\" : false,\"target\" : \"F545\"},\"F600\" : {\"id\" : \"F600\",\"source\" : \"F543\",\"length\" : 0,\"weight\" : 0,\"title\" : \"10\",\"color\" : \"\",\"invisible\" : false,\"target\" : \"F545\"},\"F601\" : {\"id\" : \"F601\",\"source\" : \"F540\",\"length\" : 0,\"weight\" : 0,\"title\" : \"10\",\"color\" : \"\",\"invisible\" : false,\"target\" : \"F542\"},\"F602\" : {\"id\" : \"F602\",\"source\" : \"F543\",\"length\" : 0,\"weight\" : 0,\"title\" : \"11\",\"color\" : \"\",\"invisible\" : false,\"target\" : \"F550\"},\"F603\" : {\"id\" : \"F603\",\"source\" : \"F540\",\"length\" : 0,\"weight\" : 0,\"title\" : \"11\",\"color\" : \"\",\"invisible\" : false,\"target\" : \"F550\"}}},\"messages\" : {}}}"
     },
     "execution_count": 46,
     "metadata": {
      "application/vnd.francy+json": {}
     },
     "output_type": "execute_result"
    }
   ],
   "source": [
    "DrawFactorizationGraph(f);"
   ]
  },
  {
   "cell_type": "code",
   "execution_count": null,
   "metadata": {},
   "outputs": [],
   "source": []
  }
 ],
 "metadata": {
  "kernelspec": {
   "display_name": "GAP 4 (native)",
   "language": "gap",
   "name": "gap-native"
  },
  "language_info": {
   "codemirror_mode": "gap",
   "file_extension": ".g",
   "mimetype": "text/x-gap",
   "name": "GAP (native)",
   "nbconvert_exporter": "",
   "pygments_lexer": "gap",
   "version": "4.dev"
  }
 },
 "nbformat": 4,
 "nbformat_minor": 2
}
