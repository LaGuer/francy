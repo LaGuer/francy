{
 "cells": [
  {
   "cell_type": "markdown",
   "metadata": {},
   "source": [
    "### Load Francy Package"
   ]
  },
  {
   "cell_type": "code",
   "execution_count": 19,
   "metadata": {},
   "outputs": [
    {
     "data": {
      "text/plain": [
       "true"
      ]
     },
     "execution_count": 18,
     "metadata": {
      "text/plain": "true"
     },
     "output_type": "execute_result"
    },
    {
     "data": {
      "text/plain": [
       "true"
      ]
     },
     "execution_count": 19,
     "metadata": {
      "text/plain": "true"
     },
     "output_type": "execute_result"
    }
   ],
   "source": [
    "LoadPackage(\"francy\");\n",
    "LoadPackage(\"num\");"
   ]
  },
  {
   "cell_type": "markdown",
   "metadata": {},
   "source": [
    "# Drawing Apéry sets"
   ]
  },
  {
   "cell_type": "markdown",
   "metadata": {},
   "source": [
    "This example draws the Apéry set of a numerical semigrup with respect to its multiplicity. By passing over a node with the mouse, the set of factorizations with respect to the minimal generating system of the numerical semigroup is displayed. Clicking a node produces a message with the same information."
   ]
  },
  {
   "cell_type": "code",
   "execution_count": 20,
   "metadata": {},
   "outputs": [
    {
     "data": {
      "text/plain": [
       "function( arg... ) ... end"
      ]
     },
     "execution_count": 20,
     "metadata": {
      "text/plain": "function( arg... ) ... end"
     },
     "output_type": "execute_result"
    }
   ],
   "source": [
    "apery:=function(arg)\n",
    "    local ap,c,hasse, s, n, r, graphHasse, aps, es, canvas, i, order, showfacts, message;\n",
    "    # rel is a list of lists with two elements representin a binary relation\n",
    "    # hasse(rel) removes from rel the pairs [x,y] such that there exists\n",
    "    # z with [x,z],[z,y] in rel\n",
    "    hasse:=function(rel)\n",
    "      local dom, out;\n",
    "      dom:=Flat(rel);\n",
    "      out:=Filtered(rel, p-> ForAny(dom, x->([p[1],x] in rel) and ([x,p[2]] in rel)));\n",
    "      return Difference(rel,out);\n",
    "    end;\n",
    "\n",
    "    order:=function(x)\n",
    "        return Maximum(LengthsOfFactorizationsElementWRTNumericalSemigroup(x,s));\n",
    "    end;\n",
    "\n",
    "    showfacts:=function(x)\n",
    "        message := FrancyMessage(Concatenation(String(x), \" factors as \"), \n",
    "                    String(FactorizationsElementWRTNumericalSemigroup(x,s)));\n",
    "        SetId(message, Concatenation(\"message-for-\", String(x)));\n",
    "        Add(canvas, message);\n",
    "        return Draw(canvas);\n",
    "    end;\n",
    "    if Length(arg)=1 then\n",
    "        s:=arg[1];\n",
    "        n:=MultiplicityOfNumericalSemigroup(s);\n",
    "    fi;\n",
    "    if Length(arg)=2 then\n",
    "        s:=arg[1];\n",
    "        n:=arg[2];\n",
    "    fi;\n",
    "    if Length(arg)>2 then\n",
    "        Error(\"The number of arguments must be one or two\");\n",
    "    fi;\n",
    "  \n",
    "    graphHasse := Graph(GraphType.HASSE);\n",
    "    SetSimulation(graphHasse,true);\n",
    "    SetDrag(graphHasse,true);\n",
    "    ap:=AperyList(s,n);\n",
    "    c:=Cartesian([1..n],[1..n]);\n",
    "    c:=Filtered(c, p-> ap[p[2]]<>ap[p[1]]);\n",
    "    c:=Filtered(c, p-> ap[p[1]]-ap[p[2]] in s);\n",
    "    c:=hasse(c);\n",
    "    aps:=[];\n",
    "    for i in [1..n] do\n",
    "        aps[i]:=Shape(ShapeType!.CIRCLE, String(ap[i]));\n",
    "        SetLayer(aps[i],-order(ap[i]));\n",
    "        Add(aps[i],Callback(showfacts,[ap[i]]));\n",
    "        Add(aps[i],FrancyMessage(String(FactorizationsElementWRTNumericalSemigroup(ap[i],s))));\n",
    "        Add(graphHasse,aps[i]);\n",
    "    od;\n",
    "    for r in c do\n",
    "        Add(graphHasse,Link(aps[r[1]],aps[r[2]]));\n",
    "    od;\n",
    "    canvas:=Canvas(\"Apery\");\n",
    "    Add(canvas,graphHasse);\n",
    "    return Draw(canvas);    \n",
    "end;"
   ]
  },
  {
   "cell_type": "code",
   "execution_count": 21,
   "metadata": {
    "scrolled": false
   },
   "outputs": [
    {
     "data": {
      "application/vnd.francy+json": "{\"version\" : \"0.5.1\",\"mime\" : \"application\\/vnd.francy+json\",\"canvas\" : {\"width\" : 800,\"height\" : 600,\"id\" : \"F163\",\"title\" : \"Apery\",\"zoomToFit\" : true,\"menus\" : {},\"graph\" : {\"type\" : \"hasse\",\"id\" : \"F119\",\"simulation\" : true,\"collapsed\" : true,\"drag\" : true,\"showNeighbours\" : false,\"nodes\" : {\"F120\" : {\"x\" : 0,\"y\" : 0,\"type\" : \"circle\",\"size\" : 10,\"id\" : \"F120\",\"title\" : \"0\",\"layer\" : 0,\"highlight\" : true,\"parent\" : \"\",\"menus\" : {},\"messages\" : {\"F122\" : {\"type\" : \"default\",\"id\" : \"F122\",\"text\" : \"[ [ 0, 0, 0 ] ]\",\"title\" : \"\"}},\"callbacks\" : {\"F121\" : {\"func\" : \"unknown\",\"id\" : \"F121\",\"trigger\" : \"click\",\"knownArgs\" : [\"0\"],\"requiredArgs\" : {}}}},\"F123\" : {\"x\" : 0,\"y\" : 0,\"type\" : \"circle\",\"size\" : 10,\"id\" : \"F123\",\"title\" : \"31\",\"layer\" : -1,\"highlight\" : true,\"parent\" : \"\",\"menus\" : {},\"messages\" : {\"F125\" : {\"type\" : \"default\",\"id\" : \"F125\",\"text\" : \"[ [ 0, 0, 1 ] ]\",\"title\" : \"\"}},\"callbacks\" : {\"F124\" : {\"func\" : \"unknown\",\"id\" : \"F124\",\"trigger\" : \"click\",\"knownArgs\" : [\"31\"],\"requiredArgs\" : {}}}},\"F126\" : {\"x\" : 0,\"y\" : 0,\"type\" : \"circle\",\"size\" : 10,\"id\" : \"F126\",\"title\" : \"62\",\"layer\" : -2,\"highlight\" : true,\"parent\" : \"\",\"menus\" : {},\"messages\" : {\"F128\" : {\"type\" : \"default\",\"id\" : \"F128\",\"text\" : \"[ [ 0, 0, 2 ] ]\",\"title\" : \"\"}},\"callbacks\" : {\"F127\" : {\"func\" : \"unknown\",\"id\" : \"F127\",\"trigger\" : \"click\",\"knownArgs\" : [\"62\"],\"requiredArgs\" : {}}}},\"F129\" : {\"x\" : 0,\"y\" : 0,\"type\" : \"circle\",\"size\" : 10,\"id\" : \"F129\",\"title\" : \"93\",\"layer\" : -3,\"highlight\" : true,\"parent\" : \"\",\"menus\" : {},\"messages\" : {\"F131\" : {\"type\" : \"default\",\"id\" : \"F131\",\"text\" : \"[ [ 0, 0, 3 ] ]\",\"title\" : \"\"}},\"callbacks\" : {\"F130\" : {\"func\" : \"unknown\",\"id\" : \"F130\",\"trigger\" : \"click\",\"knownArgs\" : [\"93\"],\"requiredArgs\" : {}}}},\"F132\" : {\"x\" : 0,\"y\" : 0,\"type\" : \"circle\",\"size\" : 10,\"id\" : \"F132\",\"title\" : \"54\",\"layer\" : -2,\"highlight\" : true,\"parent\" : \"\",\"menus\" : {},\"messages\" : {\"F134\" : {\"type\" : \"default\",\"id\" : \"F134\",\"text\" : \"[ [ 0, 2, 0 ] ]\",\"title\" : \"\"}},\"callbacks\" : {\"F133\" : {\"func\" : \"unknown\",\"id\" : \"F133\",\"trigger\" : \"click\",\"knownArgs\" : [\"54\"],\"requiredArgs\" : {}}}},\"F135\" : {\"x\" : 0,\"y\" : 0,\"type\" : \"circle\",\"size\" : 10,\"id\" : \"F135\",\"title\" : \"85\",\"layer\" : -3,\"highlight\" : true,\"parent\" : \"\",\"menus\" : {},\"messages\" : {\"F137\" : {\"type\" : \"default\",\"id\" : \"F137\",\"text\" : \"[ [ 0, 2, 1 ] ]\",\"title\" : \"\"}},\"callbacks\" : {\"F136\" : {\"func\" : \"unknown\",\"id\" : \"F136\",\"trigger\" : \"click\",\"knownArgs\" : [\"85\"],\"requiredArgs\" : {}}}},\"F138\" : {\"x\" : 0,\"y\" : 0,\"type\" : \"circle\",\"size\" : 10,\"id\" : \"F138\",\"title\" : \"116\",\"layer\" : -4,\"highlight\" : true,\"parent\" : \"\",\"menus\" : {},\"messages\" : {\"F140\" : {\"type\" : \"default\",\"id\" : \"F140\",\"text\" : \"[ [ 0, 2, 2 ] ]\",\"title\" : \"\"}},\"callbacks\" : {\"F139\" : {\"func\" : \"unknown\",\"id\" : \"F139\",\"trigger\" : \"click\",\"knownArgs\" : [\"116\"],\"requiredArgs\" : {}}}},\"F141\" : {\"x\" : 0,\"y\" : 0,\"type\" : \"circle\",\"size\" : 10,\"id\" : \"F141\",\"title\" : \"27\",\"layer\" : -1,\"highlight\" : true,\"parent\" : \"\",\"menus\" : {},\"messages\" : {\"F143\" : {\"type\" : \"default\",\"id\" : \"F143\",\"text\" : \"[ [ 0, 1, 0 ] ]\",\"title\" : \"\"}},\"callbacks\" : {\"F142\" : {\"func\" : \"unknown\",\"id\" : \"F142\",\"trigger\" : \"click\",\"knownArgs\" : [\"27\"],\"requiredArgs\" : {}}}},\"F144\" : {\"x\" : 0,\"y\" : 0,\"type\" : \"circle\",\"size\" : 10,\"id\" : \"F144\",\"title\" : \"58\",\"layer\" : -2,\"highlight\" : true,\"parent\" : \"\",\"menus\" : {},\"messages\" : {\"F146\" : {\"type\" : \"default\",\"id\" : \"F146\",\"text\" : \"[ [ 0, 1, 1 ] ]\",\"title\" : \"\"}},\"callbacks\" : {\"F145\" : {\"func\" : \"unknown\",\"id\" : \"F145\",\"trigger\" : \"click\",\"knownArgs\" : [\"58\"],\"requiredArgs\" : {}}}},\"F147\" : {\"x\" : 0,\"y\" : 0,\"type\" : \"circle\",\"size\" : 10,\"id\" : \"F147\",\"title\" : \"89\",\"layer\" : -3,\"highlight\" : true,\"parent\" : \"\",\"menus\" : {},\"messages\" : {\"F149\" : {\"type\" : \"default\",\"id\" : \"F149\",\"text\" : \"[ [ 0, 1, 2 ] ]\",\"title\" : \"\"}},\"callbacks\" : {\"F148\" : {\"func\" : \"unknown\",\"id\" : \"F148\",\"trigger\" : \"click\",\"knownArgs\" : [\"89\"],\"requiredArgs\" : {}}}}},\"links\" : {\"F150\" : {\"source\" : \"F123\",\"id\" : \"F150\",\"target\" : \"F120\"},\"F151\" : {\"source\" : \"F126\",\"id\" : \"F151\",\"target\" : \"F123\"},\"F152\" : {\"source\" : \"F129\",\"id\" : \"F152\",\"target\" : \"F126\"},\"F153\" : {\"source\" : \"F132\",\"id\" : \"F153\",\"target\" : \"F141\"},\"F154\" : {\"source\" : \"F135\",\"id\" : \"F154\",\"target\" : \"F132\"},\"F155\" : {\"source\" : \"F135\",\"id\" : \"F155\",\"target\" : \"F144\"},\"F156\" : {\"source\" : \"F138\",\"id\" : \"F156\",\"target\" : \"F135\"},\"F157\" : {\"source\" : \"F138\",\"id\" : \"F157\",\"target\" : \"F147\"},\"F158\" : {\"source\" : \"F141\",\"id\" : \"F158\",\"target\" : \"F120\"},\"F159\" : {\"source\" : \"F144\",\"id\" : \"F159\",\"target\" : \"F123\"},\"F160\" : {\"source\" : \"F144\",\"id\" : \"F160\",\"target\" : \"F141\"},\"F161\" : {\"source\" : \"F147\",\"id\" : \"F161\",\"target\" : \"F126\"},\"F162\" : {\"source\" : \"F147\",\"id\" : \"F162\",\"target\" : \"F144\"}}},\"messages\" : {}}}"
     },
     "execution_count": 21,
     "metadata": {
      "text/plain": "~empty~"
     },
     "output_type": "execute_result"
    }
   ],
   "source": [
    "apery(NumericalSemigroup(10,51,27,31));"
   ]
  },
  {
   "cell_type": "markdown",
   "metadata": {},
   "source": [
    "# Drawing sons of numerical semigroups"
   ]
  },
  {
   "cell_type": "markdown",
   "metadata": {},
   "source": [
    "This example shows how to draw the sons of a numerical semigroup in the tree of numerical semigroups. If we click on a node, then the sets of sons of that node are added to the canvas, and if the node is a leaf, a warning message is displayed.\n",
    "\n",
    "Passing the mouse over a node shows the set of minimal generators of the node."
   ]
  },
  {
   "cell_type": "code",
   "execution_count": 22,
   "metadata": {},
   "outputs": [
    {
     "data": {
      "text/plain": [
       "function( s ) ... end"
      ]
     },
     "execution_count": 22,
     "metadata": {
      "text/plain": "function( s ) ... end"
     },
     "output_type": "execute_result"
    }
   ],
   "source": [
    "sons:=function(s)\n",
    "    local gens, frb, desc, graphHasse, d, shpr, shp, canvas, sonsf, i, gn, lbl;\n",
    "    \n",
    "    \n",
    "    sonsf:=function(s,n,lb)\n",
    "        local gens, frb, desc, d, shp, i, lbl, gn;\n",
    "\n",
    "        frb:=FrobeniusNumber(s);\n",
    "        gens:=Filtered(MinimalGenerators(s), x-> x>frb);\n",
    "        desc:=List(gens, g->RemoveMinimalGeneratorFromNumericalSemigroup(g,s));\n",
    "        gn:=Genus(s);\n",
    "        i:=0;\n",
    "        for d in desc do\n",
    "            i:=i+1;\n",
    "        lbl:=Concatenation(lb,\":\",String(i));\n",
    "            shp:=Shape(ShapeType!.CIRCLE, lbl);\n",
    "            SetId(shp,lbl);\n",
    "            SetLayer(shp,Genus(d));\n",
    "            Add(shp,Callback(sonsf,[d,shp,lbl]));\n",
    "            Add(shp,FrancyMessage(String(MinimalGenerators(d))));\n",
    "            Add(graphHasse,shp);\n",
    "            Add(graphHasse,Link(n,shp));\n",
    "        od;\n",
    "        if desc<>[] then \n",
    "            return Draw(canvas);\n",
    "        fi;\n",
    "        Add(canvas, FrancyMessage(FrancyMessageType.WARNING, \"This semigroup is a leaf\"));\n",
    "        return Draw(canvas);\n",
    "    end;\n",
    "    \n",
    "    frb:=FrobeniusNumber(s);\n",
    "    gens:=Filtered(MinimalGenerators(s), x-> x>frb);\n",
    "    desc:=List(gens, g->RemoveMinimalGeneratorFromNumericalSemigroup(g,s));\n",
    "    gn:=Genus(s);\n",
    "\n",
    "    graphHasse := Graph(GraphType.HASSE);\n",
    "    shpr:=Shape(ShapeType!.CIRCLE, \"S\");\n",
    "    Add(shpr,FrancyMessage(String(MinimalGenerators(s))));\n",
    "    SetLayer(shpr,Genus(s));\n",
    "    Add(graphHasse,shpr);\n",
    "    i:=0;\n",
    "    for d in desc do\n",
    "        i:=i+1;\n",
    "        lbl:=Concatenation(\"S\",\":\",String(i));\n",
    "        shp:=Shape(ShapeType!.CIRCLE, lbl);\n",
    "        SetId(shp,lbl);\n",
    "        SetLayer(shp,Genus(d));\n",
    "        Add(shp,Callback(sonsf,[d,shp,lbl]));\n",
    "        Add(shp,FrancyMessage(String(MinimalGenerators(d))));\n",
    "        Add(graphHasse,shp);\n",
    "        Add(graphHasse,Link(shpr,shp));\n",
    "    od;\n",
    "    canvas:=Canvas(\"Sons of a numerical semigroup\");\n",
    "    Add(canvas,graphHasse);\n",
    "    return Draw(canvas);    \n",
    "end;"
   ]
  },
  {
   "cell_type": "code",
   "execution_count": 23,
   "metadata": {
    "scrolled": false
   },
   "outputs": [
    {
     "data": {
      "application/vnd.francy+json": "{\"version\" : \"0.5.1\",\"mime\" : \"application\\/vnd.francy+json\",\"canvas\" : {\"width\" : 800,\"height\" : 600,\"id\" : \"F175\",\"title\" : \"Sons of a numerical semigroup\",\"zoomToFit\" : true,\"menus\" : {},\"graph\" : {\"type\" : \"hasse\",\"id\" : \"F164\",\"simulation\" : true,\"collapsed\" : true,\"drag\" : false,\"showNeighbours\" : false,\"nodes\" : {\"S:1\" : {\"x\" : 0,\"y\" : 0,\"type\" : \"circle\",\"size\" : 10,\"id\" : \"S:1\",\"title\" : \"S:1\",\"layer\" : 4,\"highlight\" : true,\"parent\" : \"\",\"menus\" : {},\"messages\" : {\"F169\" : {\"type\" : \"default\",\"id\" : \"F169\",\"text\" : \"[ 3, 7, 8 ]\",\"title\" : \"\"}},\"callbacks\" : {\"F168\" : {\"func\" : \"unknown\",\"id\" : \"F168\",\"trigger\" : \"click\",\"knownArgs\" : [\"<object>\",\"<object>\",\"S:1\"],\"requiredArgs\" : {}}}},\"S:2\" : {\"x\" : 0,\"y\" : 0,\"type\" : \"circle\",\"size\" : 10,\"id\" : \"S:2\",\"title\" : \"S:2\",\"layer\" : 4,\"highlight\" : true,\"parent\" : \"\",\"menus\" : {},\"messages\" : {\"F173\" : {\"type\" : \"default\",\"id\" : \"F173\",\"text\" : \"[ 3, 5 ]\",\"title\" : \"\"}},\"callbacks\" : {\"F172\" : {\"func\" : \"unknown\",\"id\" : \"F172\",\"trigger\" : \"click\",\"knownArgs\" : [\"<object>\",\"<object>\",\"S:2\"],\"requiredArgs\" : {}}}},\"F165\" : {\"x\" : 0,\"y\" : 0,\"type\" : \"circle\",\"size\" : 10,\"id\" : \"F165\",\"title\" : \"S\",\"layer\" : 3,\"highlight\" : true,\"parent\" : \"\",\"menus\" : {},\"messages\" : {\"F166\" : {\"type\" : \"default\",\"id\" : \"F166\",\"text\" : \"[ 3, 5, 7 ]\",\"title\" : \"\"}},\"callbacks\" : {}}},\"links\" : {\"F170\" : {\"source\" : \"F165\",\"id\" : \"F170\",\"target\" : \"S:1\"},\"F174\" : {\"source\" : \"F165\",\"id\" : \"F174\",\"target\" : \"S:2\"}}},\"messages\" : {}}}"
     },
     "execution_count": 23,
     "metadata": {
      "text/plain": "~empty~"
     },
     "output_type": "execute_result"
    }
   ],
   "source": [
    "sons(NumericalSemigroup(3,5,7));"
   ]
  },
  {
   "cell_type": "markdown",
   "metadata": {},
   "source": [
    "# Tree of numerical semigroups\n",
    "\n",
    "Now we draw the sons of a numerical semigroup `s` in the tree of numerical semigroups up to level `l`."
   ]
  },
  {
   "cell_type": "code",
   "execution_count": 24,
   "metadata": {},
   "outputs": [
    {
     "data": {
      "text/plain": [
       "function( s, l ) ... end"
      ]
     },
     "execution_count": 24,
     "metadata": {
      "text/plain": "function( s, l ) ... end"
     },
     "output_type": "execute_result"
    }
   ],
   "source": [
    "sonstree:=function(s,l)\n",
    "    local gens, frb, desc, graphTreee, d, shpr, shp, canvas, sonsf;\n",
    "    \n",
    "    \n",
    "    sonsf:=function(s,n,lv)\n",
    "        local gens, frb, desc, d, shp;\n",
    "        if lv=0 then \n",
    "            return ;\n",
    "        fi;\n",
    "        frb:=FrobeniusNumber(s);\n",
    "        gens:=Filtered(MinimalGenerators(s), x-> x>frb);\n",
    "        desc:=List(gens, g->RemoveMinimalGeneratorFromNumericalSemigroup(g,s));\n",
    "        for d in desc do\n",
    "            shp:=Shape(ShapeType!.CIRCLE, String(MinimalGenerators(d)));\n",
    "            SetSize(shp,5);\n",
    "            Add(graphTreee,shp);\n",
    "            SetParentNode(shp,n);\n",
    "            sonsf(d,shp,lv-1);\n",
    "        od;\n",
    "        if desc<>[] then \n",
    "            return ;\n",
    "        fi;\n",
    "        #Add(canvas, FrancyMessage(FrancyMessageType.WARNING, \"This semigroup is a leaf\"));\n",
    "        return ;\n",
    "    end;\n",
    "    \n",
    "    frb:=FrobeniusNumber(s);\n",
    "    gens:=Filtered(MinimalGenerators(s), x-> x>frb);\n",
    "    desc:=List(gens, g->RemoveMinimalGeneratorFromNumericalSemigroup(g,s));\n",
    "\n",
    "    graphTreee := Graph(GraphType.TREE);\n",
    "    SetCollapsed(graphTreee,false);\n",
    "    shpr:=Shape(ShapeType!.CIRCLE, \"S\");\n",
    "    SetSize(shpr,5);\n",
    "    Add(shpr,FrancyMessage(String(MinimalGenerators(s))));\n",
    "    Add(graphTreee,shpr);\n",
    "    canvas:=Canvas(\"Sons of a numerical semigroup\");\n",
    "    Add(canvas,graphTreee);\n",
    "    sonsf(s,shpr,l);\n",
    "    return Draw(canvas);    \n",
    "end;"
   ]
  },
  {
   "cell_type": "markdown",
   "metadata": {},
   "source": [
    "Darker dots correspond either to leaves or to elements with highest genus. Blue nodes can be collapsed by clicking.  "
   ]
  },
  {
   "cell_type": "code",
   "execution_count": 25,
   "metadata": {},
   "outputs": [
    {
     "data": {
      "application/vnd.francy+json": "{\"version\" : \"0.5.1\",\"mime\" : \"application\\/vnd.francy+json\",\"canvas\" : {\"width\" : 800,\"height\" : 600,\"id\" : \"F179\",\"title\" : \"Sons of a numerical semigroup\",\"zoomToFit\" : true,\"menus\" : {},\"graph\" : {\"type\" : \"tree\",\"id\" : \"F176\",\"simulation\" : true,\"collapsed\" : false,\"drag\" : false,\"showNeighbours\" : false,\"nodes\" : {\"F177\" : {\"x\" : 0,\"y\" : 0,\"type\" : \"circle\",\"size\" : 5,\"id\" : \"F177\",\"title\" : \"S\",\"layer\" : 0,\"highlight\" : true,\"parent\" : \"\",\"menus\" : {},\"messages\" : {\"F178\" : {\"type\" : \"default\",\"id\" : \"F178\",\"text\" : \"[ 3, 5, 7 ]\",\"title\" : \"\"}},\"callbacks\" : {}},\"F180\" : {\"x\" : 0,\"y\" : 0,\"type\" : \"circle\",\"size\" : 5,\"id\" : \"F180\",\"title\" : \"[ 3, 7, 8 ]\",\"layer\" : 0,\"highlight\" : true,\"parent\" : \"F177\",\"menus\" : {},\"messages\" : {},\"callbacks\" : {}},\"F181\" : {\"x\" : 0,\"y\" : 0,\"type\" : \"circle\",\"size\" : 5,\"id\" : \"F181\",\"title\" : \"[ 3, 8, 10 ]\",\"layer\" : 0,\"highlight\" : true,\"parent\" : \"F180\",\"menus\" : {},\"messages\" : {},\"callbacks\" : {}},\"F182\" : {\"x\" : 0,\"y\" : 0,\"type\" : \"circle\",\"size\" : 5,\"id\" : \"F182\",\"title\" : \"[ 3, 10, 11 ]\",\"layer\" : 0,\"highlight\" : true,\"parent\" : \"F181\",\"menus\" : {},\"messages\" : {},\"callbacks\" : {}},\"F183\" : {\"x\" : 0,\"y\" : 0,\"type\" : \"circle\",\"size\" : 5,\"id\" : \"F183\",\"title\" : \"[ 3, 11, 13 ]\",\"layer\" : 0,\"highlight\" : true,\"parent\" : \"F182\",\"menus\" : {},\"messages\" : {},\"callbacks\" : {}},\"F184\" : {\"x\" : 0,\"y\" : 0,\"type\" : \"circle\",\"size\" : 5,\"id\" : \"F184\",\"title\" : \"[ 3, 10, 14 ]\",\"layer\" : 0,\"highlight\" : true,\"parent\" : \"F182\",\"menus\" : {},\"messages\" : {},\"callbacks\" : {}},\"F185\" : {\"x\" : 0,\"y\" : 0,\"type\" : \"circle\",\"size\" : 5,\"id\" : \"F185\",\"title\" : \"[ 3, 8, 13 ]\",\"layer\" : 0,\"highlight\" : true,\"parent\" : \"F181\",\"menus\" : {},\"messages\" : {},\"callbacks\" : {}},\"F186\" : {\"x\" : 0,\"y\" : 0,\"type\" : \"circle\",\"size\" : 5,\"id\" : \"F186\",\"title\" : \"[ 3, 8 ]\",\"layer\" : 0,\"highlight\" : true,\"parent\" : \"F185\",\"menus\" : {},\"messages\" : {},\"callbacks\" : {}},\"F187\" : {\"x\" : 0,\"y\" : 0,\"type\" : \"circle\",\"size\" : 5,\"id\" : \"F187\",\"title\" : \"[ 3, 7, 11 ]\",\"layer\" : 0,\"highlight\" : true,\"parent\" : \"F180\",\"menus\" : {},\"messages\" : {},\"callbacks\" : {}},\"F188\" : {\"x\" : 0,\"y\" : 0,\"type\" : \"circle\",\"size\" : 5,\"id\" : \"F188\",\"title\" : \"[ 3, 7 ]\",\"layer\" : 0,\"highlight\" : true,\"parent\" : \"F187\",\"menus\" : {},\"messages\" : {},\"callbacks\" : {}},\"F189\" : {\"x\" : 0,\"y\" : 0,\"type\" : \"circle\",\"size\" : 5,\"id\" : \"F189\",\"title\" : \"[ 3, 5 ]\",\"layer\" : 0,\"highlight\" : true,\"parent\" : \"F177\",\"menus\" : {},\"messages\" : {},\"callbacks\" : {}}},\"links\" : {}},\"messages\" : {}}}"
     },
     "execution_count": 25,
     "metadata": {
      "text/plain": "~empty~"
     },
     "output_type": "execute_result"
    }
   ],
   "source": [
    "sonstree(NumericalSemigroup(3,5,7),4);"
   ]
  },
  {
   "cell_type": "code",
   "execution_count": null,
   "metadata": {},
   "outputs": [],
   "source": []
  }
 ],
 "metadata": {
  "kernelspec": {
   "display_name": "GAP 4 (native)",
   "language": "gap",
   "name": "gap-native"
  },
  "language_info": {
   "codemirror_mode": "gap",
   "file_extension": ".g",
   "mimetype": "text/x-gap",
   "name": "GAP (native)",
   "nbconvert_exporter": "",
   "pygments_lexer": "gap",
   "version": "4.dev"
  }
 },
 "nbformat": 4,
 "nbformat_minor": 2
}
