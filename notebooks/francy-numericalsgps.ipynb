{
 "cells": [
  {
   "cell_type": "markdown",
   "metadata": {},
   "source": [
    "# Numerical semigroups with `francy`\n",
    "\n",
    "## Load `francy` Package"
   ]
  },
  {
   "cell_type": "code",
   "execution_count": 2,
   "metadata": {},
   "outputs": [
    {
     "data": {
      "text/plain": [
       "true"
      ]
     },
     "execution_count": 1,
     "metadata": {
      "text/plain": ""
     },
     "output_type": "execute_result"
    },
    {
     "data": {
      "text/plain": [
       "true"
      ]
     },
     "execution_count": 2,
     "metadata": {
      "text/plain": ""
     },
     "output_type": "execute_result"
    }
   ],
   "source": [
    "LoadPackage(\"francy\");\n",
    "LoadPackage(\"num\");"
   ]
  },
  {
   "cell_type": "markdown",
   "metadata": {},
   "source": [
    "## Drawing Apéry sets"
   ]
  },
  {
   "cell_type": "markdown",
   "metadata": {},
   "source": [
    "This example draws the Apéry set of a numerical semigrup with respect to its multiplicity. By passing over a node with the mouse, the set of factorizations with respect to the minimal generating system of the numerical semigroup is displayed. Clicking a node produces a message with the same information."
   ]
  },
  {
   "cell_type": "code",
   "execution_count": 8,
   "metadata": {},
   "outputs": [
    {
     "data": {
      "text/plain": [
       "function( arg... ) ... end"
      ]
     },
     "execution_count": 8,
     "metadata": {
      "text/plain": ""
     },
     "output_type": "execute_result"
    }
   ],
   "source": [
    "apery:=function(arg)\n",
    "    local ap,c,hasse, s, n, r, graphHasse, aps, es, canvas, i, order, showfacts, message;\n",
    "    # rel is a list of lists with two elements representin a binary relation\n",
    "    # hasse(rel) removes from rel the pairs [x,y] such that there exists\n",
    "    # z with [x,z],[z,y] in rel\n",
    "    hasse:=function(rel)\n",
    "      local dom, out;\n",
    "      dom:=Flat(rel);\n",
    "      out:=Filtered(rel, p-> ForAny(dom, x->([p[1],x] in rel) and ([x,p[2]] in rel)));\n",
    "      return Difference(rel,out);\n",
    "    end;\n",
    "\n",
    "    order:=function(x)\n",
    "        return Maximum(LengthsOfFactorizationsElementWRTNumericalSemigroup(x,s));\n",
    "    end;\n",
    "\n",
    "    showfacts:=function(x)\n",
    "        message := FrancyMessage(Concatenation(String(x), \" factors as \"), \n",
    "                    String(FactorizationsElementWRTNumericalSemigroup(x,s)));\n",
    "        SetFrancyId(message, Concatenation(\"message-for-\", String(x)));\n",
    "        Add(canvas, message);\n",
    "        return Draw(canvas);\n",
    "    end;\n",
    "    if Length(arg)=1 then\n",
    "        s:=arg[1];\n",
    "        n:=MultiplicityOfNumericalSemigroup(s);\n",
    "    fi;\n",
    "    if Length(arg)=2 then\n",
    "        s:=arg[1];\n",
    "        n:=arg[2];\n",
    "    fi;\n",
    "    if Length(arg)>2 then\n",
    "        Error(\"The number of arguments must be one or two\");\n",
    "    fi;\n",
    "  \n",
    "    graphHasse := Graph(GraphType.UNDIRECTED);\n",
    "    #SetSimulation(graphHasse,true);\n",
    "    #SetDrag(graphHasse,true);\n",
    "    ap:=AperyList(s,n);\n",
    "    c:=Cartesian([1..n],[1..n]);\n",
    "    c:=Filtered(c, p-> ap[p[2]]<>ap[p[1]]);\n",
    "    c:=Filtered(c, p-> ap[p[1]]-ap[p[2]] in s);\n",
    "    c:=hasse(c);\n",
    "    aps:=[];\n",
    "    for i in [1..n] do\n",
    "        aps[i]:=Shape(ShapeType!.CIRCLE, String(ap[i]));\n",
    "        SetLayer(aps[i],-order(ap[i]));\n",
    "        Add(aps[i],Callback(showfacts,[ap[i]]));\n",
    "        Add(aps[i],FrancyMessage(Concatenation(\"{\",\n",
    "            JoinStringsWithSeparator(List(FactorizationsElementWRTNumericalSemigroup(ap[i],s), \n",
    "            f->Concatenation(\"(\",JoinStringsWithSeparator(f,\",\"),\")\")),\",\"),\")\")));\n",
    "        Add(graphHasse,aps[i]);\n",
    "    od;\n",
    "    for r in c do\n",
    "        Add(graphHasse,Link(aps[r[1]],aps[r[2]]));\n",
    "    od;\n",
    "    canvas:=Canvas(\"Apery\");\n",
    "    Add(canvas,graphHasse);\n",
    "    return Draw(canvas);    \n",
    "end;"
   ]
  },
  {
   "cell_type": "code",
   "execution_count": 10,
   "metadata": {
    "scrolled": false
   },
   "outputs": [
    {
     "data": {
      "application/vnd.francy+json": "{\"version\" : \"1.0.4\",\"mime\" : \"application\\/vnd.francy+json\",\"canvas\" : {\"width\" : 800,\"id\" : \"F192\",\"height\" : 600,\"title\" : \"Apery\",\"zoomToFit\" : true,\"texTypesetting\" : false,\"menus\" : {},\"graph\" : {\"type\" : \"undirected\",\"id\" : \"F148\",\"simulation\" : true,\"collapsed\" : true,\"nodes\" : {\"F149\" : {\"x\" : 0,\"y\" : 0,\"type\" : \"circle\",\"id\" : \"F149\",\"size\" : 10,\"title\" : \"0\",\"layer\" : 0,\"color\" : \"\",\"parent\" : \"\",\"menus\" : {},\"messages\" : {\"F151\" : {\"type\" : \"default\",\"id\" : \"F151\",\"text\" : \"{(0,0,0))\",\"title\" : \"\"}},\"callbacks\" : {\"F150\" : {\"func\" : \"unknown\",\"id\" : \"F150\",\"trigger\" : \"click\",\"knownArgs\" : [\"0\"],\"requiredArgs\" : {}}}},\"F152\" : {\"x\" : 0,\"y\" : 0,\"type\" : \"circle\",\"id\" : \"F152\",\"size\" : 10,\"title\" : \"31\",\"layer\" : -1,\"color\" : \"\",\"parent\" : \"\",\"menus\" : {},\"messages\" : {\"F154\" : {\"type\" : \"default\",\"id\" : \"F154\",\"text\" : \"{(0,0,1))\",\"title\" : \"\"}},\"callbacks\" : {\"F153\" : {\"func\" : \"unknown\",\"id\" : \"F153\",\"trigger\" : \"click\",\"knownArgs\" : [\"31\"],\"requiredArgs\" : {}}}},\"F155\" : {\"x\" : 0,\"y\" : 0,\"type\" : \"circle\",\"id\" : \"F155\",\"size\" : 10,\"title\" : \"62\",\"layer\" : -2,\"color\" : \"\",\"parent\" : \"\",\"menus\" : {},\"messages\" : {\"F157\" : {\"type\" : \"default\",\"id\" : \"F157\",\"text\" : \"{(0,0,2))\",\"title\" : \"\"}},\"callbacks\" : {\"F156\" : {\"func\" : \"unknown\",\"id\" : \"F156\",\"trigger\" : \"click\",\"knownArgs\" : [\"62\"],\"requiredArgs\" : {}}}},\"F158\" : {\"x\" : 0,\"y\" : 0,\"type\" : \"circle\",\"id\" : \"F158\",\"size\" : 10,\"title\" : \"93\",\"layer\" : -3,\"color\" : \"\",\"parent\" : \"\",\"menus\" : {},\"messages\" : {\"F160\" : {\"type\" : \"default\",\"id\" : \"F160\",\"text\" : \"{(0,0,3))\",\"title\" : \"\"}},\"callbacks\" : {\"F159\" : {\"func\" : \"unknown\",\"id\" : \"F159\",\"trigger\" : \"click\",\"knownArgs\" : [\"93\"],\"requiredArgs\" : {}}}},\"F161\" : {\"x\" : 0,\"y\" : 0,\"type\" : \"circle\",\"id\" : \"F161\",\"size\" : 10,\"title\" : \"54\",\"layer\" : -2,\"color\" : \"\",\"parent\" : \"\",\"menus\" : {},\"messages\" : {\"F163\" : {\"type\" : \"default\",\"id\" : \"F163\",\"text\" : \"{(0,2,0))\",\"title\" : \"\"}},\"callbacks\" : {\"F162\" : {\"func\" : \"unknown\",\"id\" : \"F162\",\"trigger\" : \"click\",\"knownArgs\" : [\"54\"],\"requiredArgs\" : {}}}},\"F164\" : {\"x\" : 0,\"y\" : 0,\"type\" : \"circle\",\"id\" : \"F164\",\"size\" : 10,\"title\" : \"85\",\"layer\" : -3,\"color\" : \"\",\"parent\" : \"\",\"menus\" : {},\"messages\" : {\"F166\" : {\"type\" : \"default\",\"id\" : \"F166\",\"text\" : \"{(0,2,1))\",\"title\" : \"\"}},\"callbacks\" : {\"F165\" : {\"func\" : \"unknown\",\"id\" : \"F165\",\"trigger\" : \"click\",\"knownArgs\" : [\"85\"],\"requiredArgs\" : {}}}},\"F167\" : {\"x\" : 0,\"y\" : 0,\"type\" : \"circle\",\"id\" : \"F167\",\"size\" : 10,\"title\" : \"116\",\"layer\" : -4,\"color\" : \"\",\"parent\" : \"\",\"menus\" : {},\"messages\" : {\"F169\" : {\"type\" : \"default\",\"id\" : \"F169\",\"text\" : \"{(0,2,2))\",\"title\" : \"\"}},\"callbacks\" : {\"F168\" : {\"func\" : \"unknown\",\"id\" : \"F168\",\"trigger\" : \"click\",\"knownArgs\" : [\"116\"],\"requiredArgs\" : {}}}},\"F170\" : {\"x\" : 0,\"y\" : 0,\"type\" : \"circle\",\"id\" : \"F170\",\"size\" : 10,\"title\" : \"27\",\"layer\" : -1,\"color\" : \"\",\"parent\" : \"\",\"menus\" : {},\"messages\" : {\"F172\" : {\"type\" : \"default\",\"id\" : \"F172\",\"text\" : \"{(0,1,0))\",\"title\" : \"\"}},\"callbacks\" : {\"F171\" : {\"func\" : \"unknown\",\"id\" : \"F171\",\"trigger\" : \"click\",\"knownArgs\" : [\"27\"],\"requiredArgs\" : {}}}},\"F173\" : {\"x\" : 0,\"y\" : 0,\"type\" : \"circle\",\"id\" : \"F173\",\"size\" : 10,\"title\" : \"58\",\"layer\" : -2,\"color\" : \"\",\"parent\" : \"\",\"menus\" : {},\"messages\" : {\"F175\" : {\"type\" : \"default\",\"id\" : \"F175\",\"text\" : \"{(0,1,1))\",\"title\" : \"\"}},\"callbacks\" : {\"F174\" : {\"func\" : \"unknown\",\"id\" : \"F174\",\"trigger\" : \"click\",\"knownArgs\" : [\"58\"],\"requiredArgs\" : {}}}},\"F176\" : {\"x\" : 0,\"y\" : 0,\"type\" : \"circle\",\"id\" : \"F176\",\"size\" : 10,\"title\" : \"89\",\"layer\" : -3,\"color\" : \"\",\"parent\" : \"\",\"menus\" : {},\"messages\" : {\"F178\" : {\"type\" : \"default\",\"id\" : \"F178\",\"text\" : \"{(0,1,2))\",\"title\" : \"\"}},\"callbacks\" : {\"F177\" : {\"func\" : \"unknown\",\"id\" : \"F177\",\"trigger\" : \"click\",\"knownArgs\" : [\"89\"],\"requiredArgs\" : {}}}}},\"links\" : {\"F179\" : {\"id\" : \"F179\",\"source\" : \"F152\",\"length\" : 0,\"weight\" : 0,\"color\" : \"\",\"invisible\" : false,\"target\" : \"F149\"},\"F180\" : {\"id\" : \"F180\",\"source\" : \"F155\",\"length\" : 0,\"weight\" : 0,\"color\" : \"\",\"invisible\" : false,\"target\" : \"F152\"},\"F181\" : {\"id\" : \"F181\",\"source\" : \"F158\",\"length\" : 0,\"weight\" : 0,\"color\" : \"\",\"invisible\" : false,\"target\" : \"F155\"},\"F182\" : {\"id\" : \"F182\",\"source\" : \"F161\",\"length\" : 0,\"weight\" : 0,\"color\" : \"\",\"invisible\" : false,\"target\" : \"F170\"},\"F183\" : {\"id\" : \"F183\",\"source\" : \"F164\",\"length\" : 0,\"weight\" : 0,\"color\" : \"\",\"invisible\" : false,\"target\" : \"F161\"},\"F184\" : {\"id\" : \"F184\",\"source\" : \"F164\",\"length\" : 0,\"weight\" : 0,\"color\" : \"\",\"invisible\" : false,\"target\" : \"F173\"},\"F185\" : {\"id\" : \"F185\",\"source\" : \"F167\",\"length\" : 0,\"weight\" : 0,\"color\" : \"\",\"invisible\" : false,\"target\" : \"F164\"},\"F186\" : {\"id\" : \"F186\",\"source\" : \"F167\",\"length\" : 0,\"weight\" : 0,\"color\" : \"\",\"invisible\" : false,\"target\" : \"F176\"},\"F187\" : {\"id\" : \"F187\",\"source\" : \"F170\",\"length\" : 0,\"weight\" : 0,\"color\" : \"\",\"invisible\" : false,\"target\" : \"F149\"},\"F188\" : {\"id\" : \"F188\",\"source\" : \"F173\",\"length\" : 0,\"weight\" : 0,\"color\" : \"\",\"invisible\" : false,\"target\" : \"F152\"},\"F189\" : {\"id\" : \"F189\",\"source\" : \"F173\",\"length\" : 0,\"weight\" : 0,\"color\" : \"\",\"invisible\" : false,\"target\" : \"F170\"},\"F190\" : {\"id\" : \"F190\",\"source\" : \"F176\",\"length\" : 0,\"weight\" : 0,\"color\" : \"\",\"invisible\" : false,\"target\" : \"F155\"},\"F191\" : {\"id\" : \"F191\",\"source\" : \"F176\",\"length\" : 0,\"weight\" : 0,\"color\" : \"\",\"invisible\" : false,\"target\" : \"F173\"}}},\"messages\" : {}}}"
     },
     "execution_count": 10,
     "metadata": {
      "application/vnd.francy+json": {}
     },
     "output_type": "execute_result"
    }
   ],
   "source": [
    "apery(NumericalSemigroup(10,51,27,31,137,496));"
   ]
  },
  {
   "cell_type": "markdown",
   "metadata": {},
   "source": [
    "## Drawing sons of numerical semigroups"
   ]
  },
  {
   "cell_type": "markdown",
   "metadata": {},
   "source": [
    "This example shows how to draw the sons of a numerical semigroup in the tree of numerical semigroups. If we click on a node, then the sets of sons of that node are added to the canvas, and if the node is a leaf, a warning message is displayed.\n",
    "\n",
    "Passing the mouse over a node shows the set of minimal generators of the node."
   ]
  },
  {
   "cell_type": "code",
   "execution_count": 11,
   "metadata": {},
   "outputs": [
    {
     "data": {
      "text/plain": [
       "function( s ) ... end"
      ]
     },
     "execution_count": 11,
     "metadata": {
      "text/plain": ""
     },
     "output_type": "execute_result"
    }
   ],
   "source": [
    "sons:=function(s)\n",
    "    local gens, frb, desc, graphHasse, d, shpr, shp, canvas, sonsf, i, gn, lbl;\n",
    "    \n",
    "    \n",
    "    sonsf:=function(s,n)\n",
    "        local gens, frb, desc, d, shp, i, lbl, gn;\n",
    "\n",
    "        frb:=FrobeniusNumber(s);\n",
    "        gens:=Filtered(MinimalGenerators(s), x-> x>frb);\n",
    "        desc:=List(gens, g->RemoveMinimalGeneratorFromNumericalSemigroup(g,s));\n",
    "        gn:=Genus(s);\n",
    "        i:=0;\n",
    "        for d in desc do\n",
    "            i:=i+1;\n",
    "        lbl:=Concatenation(\"$\\\\langle\",JoinStringsWithSeparator(MinimalGenerators(d),\",\"),\"\\\\rangle$\");\n",
    "            shp:=Shape(ShapeType!.CIRCLE, lbl);\n",
    "            SetFrancyId(shp,lbl);\n",
    "            SetLayer(shp,Genus(d));\n",
    "            SetSize(shp,1);\n",
    "            Add(shp,Callback(sonsf,[d,shp]));\n",
    "            Add(shp,FrancyMessage(String(MinimalGenerators(d))));\n",
    "            Add(graphHasse,shp);\n",
    "            Add(graphHasse,Link(n,shp));\n",
    "        od;\n",
    "        if desc<>[] then \n",
    "            return Draw(canvas);\n",
    "        fi;\n",
    "        Add(canvas, FrancyMessage(FrancyMessageType.WARNING, \"This semigroup is a leaf\"));\n",
    "        return Draw(canvas);\n",
    "    end;\n",
    "    \n",
    "    frb:=FrobeniusNumber(s);\n",
    "    gens:=Filtered(MinimalGenerators(s), x-> x>frb);\n",
    "    desc:=List(gens, g->RemoveMinimalGeneratorFromNumericalSemigroup(g,s));\n",
    "    gn:=Genus(s);\n",
    "\n",
    "    graphHasse := Graph(GraphType.UNDIRECTED);\n",
    "    lbl:=Concatenation(\"$\\\\langle\",JoinStringsWithSeparator(MinimalGenerators(s),\",\"),\"\\\\rangle$\");\n",
    "    shpr:=Shape(ShapeType!.CIRCLE, lbl);\n",
    "    SetSize(shpr,1);\n",
    "    SetFrancyId(shpr,lbl);\n",
    "    Add(shpr,FrancyMessage(String(MinimalGenerators(s))));\n",
    "    SetLayer(shpr,Genus(s));\n",
    "    Add(graphHasse,shpr);\n",
    "    i:=0;\n",
    "    for d in desc do\n",
    "        i:=i+1;\n",
    "        lbl:=Concatenation(\"$\\\\langle\",JoinStringsWithSeparator(MinimalGenerators(d),\",\"),\"\\\\rangle$\");\n",
    "        shp:=Shape(ShapeType!.CIRCLE, lbl);\n",
    "        SetFrancyId(shp,lbl);\n",
    "        SetLayer(shp,Genus(d));\n",
    "        SetSize(shp,1);\n",
    "        Add(shp,Callback(sonsf,[d,shp]));\n",
    "        Add(shp,FrancyMessage(String(MinimalGenerators(d))));\n",
    "        Add(graphHasse,shp);\n",
    "        Add(graphHasse,Link(shpr,shp));\n",
    "    od;\n",
    "    canvas:=Canvas(\"Sons of a numerical semigroup\");\n",
    "    SetTexTypesetting(canvas, true);\n",
    "    Add(canvas,graphHasse);\n",
    "    return Draw(canvas);    \n",
    "end;"
   ]
  },
  {
   "cell_type": "code",
   "execution_count": 12,
   "metadata": {
    "scrolled": false
   },
   "outputs": [
    {
     "data": {
      "application/vnd.francy+json": "{\"version\" : \"1.0.4\",\"mime\" : \"application\\/vnd.francy+json\",\"canvas\" : {\"width\" : 800,\"id\" : \"F204\",\"height\" : 600,\"title\" : \"Sons of a numerical semigroup\",\"zoomToFit\" : true,\"texTypesetting\" : true,\"menus\" : {},\"graph\" : {\"type\" : \"undirected\",\"id\" : \"F193\",\"simulation\" : true,\"collapsed\" : true,\"nodes\" : {\"$\\\\langle3,5,7\\\\rangle$\" : {\"x\" : 0,\"y\" : 0,\"type\" : \"circle\",\"id\" : \"$\\\\langle3,5,7\\\\rangle$\",\"size\" : 1,\"title\" : \"$\\\\langle3,5,7\\\\rangle$\",\"layer\" : 3,\"color\" : \"\",\"parent\" : \"\",\"menus\" : {},\"messages\" : {\"F195\" : {\"type\" : \"default\",\"id\" : \"F195\",\"text\" : \"[ 3, 5, 7 ]\",\"title\" : \"\"}},\"callbacks\" : {}},\"$\\\\langle3,7,8\\\\rangle$\" : {\"x\" : 0,\"y\" : 0,\"type\" : \"circle\",\"id\" : \"$\\\\langle3,7,8\\\\rangle$\",\"size\" : 1,\"title\" : \"$\\\\langle3,7,8\\\\rangle$\",\"layer\" : 4,\"color\" : \"\",\"parent\" : \"\",\"menus\" : {},\"messages\" : {\"F198\" : {\"type\" : \"default\",\"id\" : \"F198\",\"text\" : \"[ 3, 7, 8 ]\",\"title\" : \"\"}},\"callbacks\" : {\"F197\" : {\"func\" : \"unknown\",\"id\" : \"F197\",\"trigger\" : \"click\",\"knownArgs\" : [\"<object>\",\"<object>\"],\"requiredArgs\" : {}}}},\"$\\\\langle3,5\\\\rangle$\" : {\"x\" : 0,\"y\" : 0,\"type\" : \"circle\",\"id\" : \"$\\\\langle3,5\\\\rangle$\",\"size\" : 1,\"title\" : \"$\\\\langle3,5\\\\rangle$\",\"layer\" : 4,\"color\" : \"\",\"parent\" : \"\",\"menus\" : {},\"messages\" : {\"F202\" : {\"type\" : \"default\",\"id\" : \"F202\",\"text\" : \"[ 3, 5 ]\",\"title\" : \"\"}},\"callbacks\" : {\"F201\" : {\"func\" : \"unknown\",\"id\" : \"F201\",\"trigger\" : \"click\",\"knownArgs\" : [\"<object>\",\"<object>\"],\"requiredArgs\" : {}}}}},\"links\" : {\"F199\" : {\"id\" : \"F199\",\"source\" : \"$\\\\langle3,5,7\\\\rangle$\",\"length\" : 0,\"weight\" : 0,\"color\" : \"\",\"invisible\" : false,\"target\" : \"$\\\\langle3,7,8\\\\rangle$\"},\"F203\" : {\"id\" : \"F203\",\"source\" : \"$\\\\langle3,5,7\\\\rangle$\",\"length\" : 0,\"weight\" : 0,\"color\" : \"\",\"invisible\" : false,\"target\" : \"$\\\\langle3,5\\\\rangle$\"}}},\"messages\" : {}}}"
     },
     "execution_count": 12,
     "metadata": {
      "application/vnd.francy+json": {}
     },
     "output_type": "execute_result"
    }
   ],
   "source": [
    "sons(NumericalSemigroup(3,5,7));"
   ]
  },
  {
   "cell_type": "markdown",
   "metadata": {},
   "source": [
    "# Tree of numerical semigroups\n",
    "\n",
    "Now we draw the sons of a numerical semigroup `s` in the tree of numerical semigroups up to level `l`."
   ]
  },
  {
   "cell_type": "code",
   "execution_count": 13,
   "metadata": {},
   "outputs": [
    {
     "data": {
      "text/plain": [
       "function( s, l, generators ) ... end"
      ]
     },
     "execution_count": 13,
     "metadata": {
      "text/plain": ""
     },
     "output_type": "execute_result"
    }
   ],
   "source": [
    "sonstree:=function(s,l,generators)\n",
    "    local gens, frb, desc, graphTreee, d, shpr, shp, canvas, sonsf, lbl;\n",
    "\n",
    "\n",
    "    sonsf:=function(s,n,lv)\n",
    "        local gens, frb, desc, d, shp;\n",
    "        if lv=0 then\n",
    "            return ;\n",
    "        fi;\n",
    "        frb:=FrobeniusNumber(s);\n",
    "        gens:=Filtered(generators(s), x-> x>frb);\n",
    "        desc:=List(gens, g->RemoveMinimalGeneratorFromNumericalSemigroup(g,s));\n",
    "        for d in desc do\n",
    "            lbl:=Concatenation(\"$\\\\{\",JoinStringsWithSeparator(generators(d),\",\"),\"\\\\}$\");\n",
    "            shp:=Shape(ShapeType!.CIRCLE, lbl);\n",
    "            SetSize(shp,5);\n",
    "            Add(graphTreee,shp);\n",
    "            SetParentShape(shp,n);\n",
    "            sonsf(d,shp,lv-1);\n",
    "        od;\n",
    "        if desc<>[] then\n",
    "            return ;\n",
    "        fi;\n",
    "        #Add(canvas, FrancyMessage(FrancyMessageType.WARNING, \"This semigroup is a leaf\"));\n",
    "        return ;\n",
    "    end;\n",
    "\n",
    "    frb:=FrobeniusNumber(s);\n",
    "    gens:=Filtered(generators(s), x-> x>frb);\n",
    "    desc:=List(gens, g->RemoveMinimalGeneratorFromNumericalSemigroup(g,s));\n",
    "\n",
    "    graphTreee := Graph(GraphType.TREE);\n",
    "    SetCollapsed(graphTreee,false);\n",
    "    shpr:=Shape(ShapeType!.CIRCLE, \"S\");\n",
    "    SetSize(shpr,5);\n",
    "    Add(shpr,FrancyMessage(String(generators(s))));\n",
    "    Add(graphTreee,shpr);\n",
    "    canvas:=Canvas(\"Sons of a numerical semigroup\");\n",
    "    SetTexTypesetting(canvas, true);\n",
    "    Add(canvas,graphTreee);\n",
    "    sonsf(s,shpr,l);\n",
    "    return Draw(canvas);\n",
    "end;"
   ]
  },
  {
   "cell_type": "markdown",
   "metadata": {},
   "source": [
    "Darker dots correspond either to leaves or to elements with highest genus. Blue nodes can be collapsed by clicking.  "
   ]
  },
  {
   "cell_type": "markdown",
   "metadata": {},
   "source": [
    "And we can get also the tree of Arf numerical semigroups"
   ]
  },
  {
   "cell_type": "code",
   "execution_count": 14,
   "metadata": {},
   "outputs": [
    {
     "data": {
      "application/vnd.francy+json": "{\"version\" : \"1.0.4\",\"mime\" : \"application\\/vnd.francy+json\",\"canvas\" : {\"width\" : 800,\"id\" : \"F208\",\"height\" : 600,\"title\" : \"Sons of a numerical semigroup\",\"zoomToFit\" : true,\"texTypesetting\" : true,\"menus\" : {},\"graph\" : {\"type\" : \"tree\",\"id\" : \"F205\",\"simulation\" : true,\"collapsed\" : false,\"nodes\" : {\"F206\" : {\"x\" : 0,\"y\" : 0,\"type\" : \"circle\",\"id\" : \"F206\",\"size\" : 5,\"title\" : \"S\",\"layer\" : 0,\"color\" : \"\",\"parent\" : \"\",\"menus\" : {},\"messages\" : {\"F207\" : {\"type\" : \"default\",\"id\" : \"F207\",\"text\" : \"[ 1 ]\",\"title\" : \"\"}},\"callbacks\" : {}},\"F209\" : {\"x\" : 0,\"y\" : 0,\"type\" : \"circle\",\"id\" : \"F209\",\"size\" : 5,\"title\" : \"$\\\\{2,3\\\\}$\",\"layer\" : 0,\"color\" : \"\",\"parent\" : \"F206\",\"menus\" : {},\"messages\" : {},\"callbacks\" : {}},\"F210\" : {\"x\" : 0,\"y\" : 0,\"type\" : \"circle\",\"id\" : \"F210\",\"size\" : 5,\"title\" : \"$\\\\{3,4,5\\\\}$\",\"layer\" : 0,\"color\" : \"\",\"parent\" : \"F209\",\"menus\" : {},\"messages\" : {},\"callbacks\" : {}},\"F211\" : {\"x\" : 0,\"y\" : 0,\"type\" : \"circle\",\"id\" : \"F211\",\"size\" : 5,\"title\" : \"$\\\\{4,5,6,7\\\\}$\",\"layer\" : 0,\"color\" : \"\",\"parent\" : \"F210\",\"menus\" : {},\"messages\" : {},\"callbacks\" : {}},\"F212\" : {\"x\" : 0,\"y\" : 0,\"type\" : \"circle\",\"id\" : \"F212\",\"size\" : 5,\"title\" : \"$\\\\{5,6,7,8,9\\\\}$\",\"layer\" : 0,\"color\" : \"\",\"parent\" : \"F211\",\"menus\" : {},\"messages\" : {},\"callbacks\" : {}},\"F213\" : {\"x\" : 0,\"y\" : 0,\"type\" : \"circle\",\"id\" : \"F213\",\"size\" : 5,\"title\" : \"$\\\\{4,6,7,9\\\\}$\",\"layer\" : 0,\"color\" : \"\",\"parent\" : \"F211\",\"menus\" : {},\"messages\" : {},\"callbacks\" : {}},\"F214\" : {\"x\" : 0,\"y\" : 0,\"type\" : \"circle\",\"id\" : \"F214\",\"size\" : 5,\"title\" : \"$\\\\{4,5,7\\\\}$\",\"layer\" : 0,\"color\" : \"\",\"parent\" : \"F211\",\"menus\" : {},\"messages\" : {},\"callbacks\" : {}},\"F215\" : {\"x\" : 0,\"y\" : 0,\"type\" : \"circle\",\"id\" : \"F215\",\"size\" : 5,\"title\" : \"$\\\\{4,5,6\\\\}$\",\"layer\" : 0,\"color\" : \"\",\"parent\" : \"F211\",\"menus\" : {},\"messages\" : {},\"callbacks\" : {}},\"F216\" : {\"x\" : 0,\"y\" : 0,\"type\" : \"circle\",\"id\" : \"F216\",\"size\" : 5,\"title\" : \"$\\\\{3,5,7\\\\}$\",\"layer\" : 0,\"color\" : \"\",\"parent\" : \"F210\",\"menus\" : {},\"messages\" : {},\"callbacks\" : {}},\"F217\" : {\"x\" : 0,\"y\" : 0,\"type\" : \"circle\",\"id\" : \"F217\",\"size\" : 5,\"title\" : \"$\\\\{3,7,8\\\\}$\",\"layer\" : 0,\"color\" : \"\",\"parent\" : \"F216\",\"menus\" : {},\"messages\" : {},\"callbacks\" : {}},\"F218\" : {\"x\" : 0,\"y\" : 0,\"type\" : \"circle\",\"id\" : \"F218\",\"size\" : 5,\"title\" : \"$\\\\{3,5\\\\}$\",\"layer\" : 0,\"color\" : \"\",\"parent\" : \"F216\",\"menus\" : {},\"messages\" : {},\"callbacks\" : {}},\"F219\" : {\"x\" : 0,\"y\" : 0,\"type\" : \"circle\",\"id\" : \"F219\",\"size\" : 5,\"title\" : \"$\\\\{3,4\\\\}$\",\"layer\" : 0,\"color\" : \"\",\"parent\" : \"F210\",\"menus\" : {},\"messages\" : {},\"callbacks\" : {}},\"F220\" : {\"x\" : 0,\"y\" : 0,\"type\" : \"circle\",\"id\" : \"F220\",\"size\" : 5,\"title\" : \"$\\\\{2,5\\\\}$\",\"layer\" : 0,\"color\" : \"\",\"parent\" : \"F209\",\"menus\" : {},\"messages\" : {},\"callbacks\" : {}},\"F221\" : {\"x\" : 0,\"y\" : 0,\"type\" : \"circle\",\"id\" : \"F221\",\"size\" : 5,\"title\" : \"$\\\\{2,7\\\\}$\",\"layer\" : 0,\"color\" : \"\",\"parent\" : \"F220\",\"menus\" : {},\"messages\" : {},\"callbacks\" : {}},\"F222\" : {\"x\" : 0,\"y\" : 0,\"type\" : \"circle\",\"id\" : \"F222\",\"size\" : 5,\"title\" : \"$\\\\{2,9\\\\}$\",\"layer\" : 0,\"color\" : \"\",\"parent\" : \"F221\",\"menus\" : {},\"messages\" : {},\"callbacks\" : {}}},\"links\" : {}},\"messages\" : {}}}"
     },
     "execution_count": 14,
     "metadata": {
      "application/vnd.francy+json": {}
     },
     "output_type": "execute_result"
    }
   ],
   "source": [
    "sonstree(NumericalSemigroup(1),4,MinimalGenerators);"
   ]
  },
  {
   "cell_type": "code",
   "execution_count": 15,
   "metadata": {},
   "outputs": [
    {
     "data": {
      "application/vnd.francy+json": "{\"version\" : \"1.0.4\",\"mime\" : \"application\\/vnd.francy+json\",\"canvas\" : {\"width\" : 800,\"id\" : \"F226\",\"height\" : 600,\"title\" : \"Sons of a numerical semigroup\",\"zoomToFit\" : true,\"texTypesetting\" : true,\"menus\" : {},\"graph\" : {\"type\" : \"tree\",\"id\" : \"F223\",\"simulation\" : true,\"collapsed\" : false,\"nodes\" : {\"F224\" : {\"x\" : 0,\"y\" : 0,\"type\" : \"circle\",\"id\" : \"F224\",\"size\" : 5,\"title\" : \"S\",\"layer\" : 0,\"color\" : \"\",\"parent\" : \"\",\"menus\" : {},\"messages\" : {\"F225\" : {\"type\" : \"default\",\"id\" : \"F225\",\"text\" : \"[ 1 ]\",\"title\" : \"\"}},\"callbacks\" : {}},\"F227\" : {\"x\" : 0,\"y\" : 0,\"type\" : \"circle\",\"id\" : \"F227\",\"size\" : 5,\"title\" : \"$\\\\{2,3\\\\}$\",\"layer\" : 0,\"color\" : \"\",\"parent\" : \"F224\",\"menus\" : {},\"messages\" : {},\"callbacks\" : {}},\"F228\" : {\"x\" : 0,\"y\" : 0,\"type\" : \"circle\",\"id\" : \"F228\",\"size\" : 5,\"title\" : \"$\\\\{3,4\\\\}$\",\"layer\" : 0,\"color\" : \"\",\"parent\" : \"F227\",\"menus\" : {},\"messages\" : {},\"callbacks\" : {}},\"F229\" : {\"x\" : 0,\"y\" : 0,\"type\" : \"circle\",\"id\" : \"F229\",\"size\" : 5,\"title\" : \"$\\\\{4,5\\\\}$\",\"layer\" : 0,\"color\" : \"\",\"parent\" : \"F228\",\"menus\" : {},\"messages\" : {},\"callbacks\" : {}},\"F230\" : {\"x\" : 0,\"y\" : 0,\"type\" : \"circle\",\"id\" : \"F230\",\"size\" : 5,\"title\" : \"$\\\\{5,6\\\\}$\",\"layer\" : 0,\"color\" : \"\",\"parent\" : \"F229\",\"menus\" : {},\"messages\" : {},\"callbacks\" : {}},\"F231\" : {\"x\" : 0,\"y\" : 0,\"type\" : \"circle\",\"id\" : \"F231\",\"size\" : 5,\"title\" : \"$\\\\{6,7\\\\}$\",\"layer\" : 0,\"color\" : \"\",\"parent\" : \"F230\",\"menus\" : {},\"messages\" : {},\"callbacks\" : {}},\"F232\" : {\"x\" : 0,\"y\" : 0,\"type\" : \"circle\",\"id\" : \"F232\",\"size\" : 5,\"title\" : \"$\\\\{7,8\\\\}$\",\"layer\" : 0,\"color\" : \"\",\"parent\" : \"F231\",\"menus\" : {},\"messages\" : {},\"callbacks\" : {}},\"F233\" : {\"x\" : 0,\"y\" : 0,\"type\" : \"circle\",\"id\" : \"F233\",\"size\" : 5,\"title\" : \"$\\\\{8,9\\\\}$\",\"layer\" : 0,\"color\" : \"\",\"parent\" : \"F232\",\"menus\" : {},\"messages\" : {},\"callbacks\" : {}},\"F234\" : {\"x\" : 0,\"y\" : 0,\"type\" : \"circle\",\"id\" : \"F234\",\"size\" : 5,\"title\" : \"$\\\\{9,10\\\\}$\",\"layer\" : 0,\"color\" : \"\",\"parent\" : \"F233\",\"menus\" : {},\"messages\" : {},\"callbacks\" : {}},\"F235\" : {\"x\" : 0,\"y\" : 0,\"type\" : \"circle\",\"id\" : \"F235\",\"size\" : 5,\"title\" : \"$\\\\{8,10,11\\\\}$\",\"layer\" : 0,\"color\" : \"\",\"parent\" : \"F233\",\"menus\" : {},\"messages\" : {},\"callbacks\" : {}},\"F236\" : {\"x\" : 0,\"y\" : 0,\"type\" : \"circle\",\"id\" : \"F236\",\"size\" : 5,\"title\" : \"$\\\\{7,9,10\\\\}$\",\"layer\" : 0,\"color\" : \"\",\"parent\" : \"F232\",\"menus\" : {},\"messages\" : {},\"callbacks\" : {}},\"F237\" : {\"x\" : 0,\"y\" : 0,\"type\" : \"circle\",\"id\" : \"F237\",\"size\" : 5,\"title\" : \"$\\\\{7,10,11\\\\}$\",\"layer\" : 0,\"color\" : \"\",\"parent\" : \"F236\",\"menus\" : {},\"messages\" : {},\"callbacks\" : {}},\"F238\" : {\"x\" : 0,\"y\" : 0,\"type\" : \"circle\",\"id\" : \"F238\",\"size\" : 5,\"title\" : \"$\\\\{7,9,12\\\\}$\",\"layer\" : 0,\"color\" : \"\",\"parent\" : \"F236\",\"menus\" : {},\"messages\" : {},\"callbacks\" : {}},\"F239\" : {\"x\" : 0,\"y\" : 0,\"type\" : \"circle\",\"id\" : \"F239\",\"size\" : 5,\"title\" : \"$\\\\{6,8,9\\\\}$\",\"layer\" : 0,\"color\" : \"\",\"parent\" : \"F231\",\"menus\" : {},\"messages\" : {},\"callbacks\" : {}},\"F240\" : {\"x\" : 0,\"y\" : 0,\"type\" : \"circle\",\"id\" : \"F240\",\"size\" : 5,\"title\" : \"$\\\\{6,9,10\\\\}$\",\"layer\" : 0,\"color\" : \"\",\"parent\" : \"F239\",\"menus\" : {},\"messages\" : {},\"callbacks\" : {}},\"F241\" : {\"x\" : 0,\"y\" : 0,\"type\" : \"circle\",\"id\" : \"F241\",\"size\" : 5,\"title\" : \"$\\\\{6,10,11\\\\}$\",\"layer\" : 0,\"color\" : \"\",\"parent\" : \"F240\",\"menus\" : {},\"messages\" : {},\"callbacks\" : {}},\"F242\" : {\"x\" : 0,\"y\" : 0,\"type\" : \"circle\",\"id\" : \"F242\",\"size\" : 5,\"title\" : \"$\\\\{6,9,11\\\\}$\",\"layer\" : 0,\"color\" : \"\",\"parent\" : \"F240\",\"menus\" : {},\"messages\" : {},\"callbacks\" : {}},\"F243\" : {\"x\" : 0,\"y\" : 0,\"type\" : \"circle\",\"id\" : \"F243\",\"size\" : 5,\"title\" : \"$\\\\{6,8,11\\\\}$\",\"layer\" : 0,\"color\" : \"\",\"parent\" : \"F239\",\"menus\" : {},\"messages\" : {},\"callbacks\" : {}},\"F244\" : {\"x\" : 0,\"y\" : 0,\"type\" : \"circle\",\"id\" : \"F244\",\"size\" : 5,\"title\" : \"$\\\\{6,8,13\\\\}$\",\"layer\" : 0,\"color\" : \"\",\"parent\" : \"F243\",\"menus\" : {},\"messages\" : {},\"callbacks\" : {}},\"F245\" : {\"x\" : 0,\"y\" : 0,\"type\" : \"circle\",\"id\" : \"F245\",\"size\" : 5,\"title\" : \"$\\\\{5,7,8\\\\}$\",\"layer\" : 0,\"color\" : \"\",\"parent\" : \"F230\",\"menus\" : {},\"messages\" : {},\"callbacks\" : {}},\"F246\" : {\"x\" : 0,\"y\" : 0,\"type\" : \"circle\",\"id\" : \"F246\",\"size\" : 5,\"title\" : \"$\\\\{5,8,9\\\\}$\",\"layer\" : 0,\"color\" : \"\",\"parent\" : \"F245\",\"menus\" : {},\"messages\" : {},\"callbacks\" : {}},\"F247\" : {\"x\" : 0,\"y\" : 0,\"type\" : \"circle\",\"id\" : \"F247\",\"size\" : 5,\"title\" : \"$\\\\{5,9\\\\}$\",\"layer\" : 0,\"color\" : \"\",\"parent\" : \"F246\",\"menus\" : {},\"messages\" : {},\"callbacks\" : {}},\"F248\" : {\"x\" : 0,\"y\" : 0,\"type\" : \"circle\",\"id\" : \"F248\",\"size\" : 5,\"title\" : \"$\\\\{5,11\\\\}$\",\"layer\" : 0,\"color\" : \"\",\"parent\" : \"F247\",\"menus\" : {},\"messages\" : {},\"callbacks\" : {}},\"F249\" : {\"x\" : 0,\"y\" : 0,\"type\" : \"circle\",\"id\" : \"F249\",\"size\" : 5,\"title\" : \"$\\\\{5,8\\\\}$\",\"layer\" : 0,\"color\" : \"\",\"parent\" : \"F246\",\"menus\" : {},\"messages\" : {},\"callbacks\" : {}},\"F250\" : {\"x\" : 0,\"y\" : 0,\"type\" : \"circle\",\"id\" : \"F250\",\"size\" : 5,\"title\" : \"$\\\\{5,7\\\\}$\",\"layer\" : 0,\"color\" : \"\",\"parent\" : \"F245\",\"menus\" : {},\"messages\" : {},\"callbacks\" : {}},\"F251\" : {\"x\" : 0,\"y\" : 0,\"type\" : \"circle\",\"id\" : \"F251\",\"size\" : 5,\"title\" : \"$\\\\{4,6,7\\\\}$\",\"layer\" : 0,\"color\" : \"\",\"parent\" : \"F229\",\"menus\" : {},\"messages\" : {},\"callbacks\" : {}},\"F252\" : {\"x\" : 0,\"y\" : 0,\"type\" : \"circle\",\"id\" : \"F252\",\"size\" : 5,\"title\" : \"$\\\\{4,7\\\\}$\",\"layer\" : 0,\"color\" : \"\",\"parent\" : \"F251\",\"menus\" : {},\"messages\" : {},\"callbacks\" : {}},\"F253\" : {\"x\" : 0,\"y\" : 0,\"type\" : \"circle\",\"id\" : \"F253\",\"size\" : 5,\"title\" : \"$\\\\{4,9\\\\}$\",\"layer\" : 0,\"color\" : \"\",\"parent\" : \"F252\",\"menus\" : {},\"messages\" : {},\"callbacks\" : {}},\"F254\" : {\"x\" : 0,\"y\" : 0,\"type\" : \"circle\",\"id\" : \"F254\",\"size\" : 5,\"title\" : \"$\\\\{4,10,11\\\\}$\",\"layer\" : 0,\"color\" : \"\",\"parent\" : \"F253\",\"menus\" : {},\"messages\" : {},\"callbacks\" : {}},\"F255\" : {\"x\" : 0,\"y\" : 0,\"type\" : \"circle\",\"id\" : \"F255\",\"size\" : 5,\"title\" : \"$\\\\{4,11\\\\}$\",\"layer\" : 0,\"color\" : \"\",\"parent\" : \"F254\",\"menus\" : {},\"messages\" : {},\"callbacks\" : {}},\"F256\" : {\"x\" : 0,\"y\" : 0,\"type\" : \"circle\",\"id\" : \"F256\",\"size\" : 5,\"title\" : \"$\\\\{4,10,13\\\\}$\",\"layer\" : 0,\"color\" : \"\",\"parent\" : \"F254\",\"menus\" : {},\"messages\" : {},\"callbacks\" : {}},\"F257\" : {\"x\" : 0,\"y\" : 0,\"type\" : \"circle\",\"id\" : \"F257\",\"size\" : 5,\"title\" : \"$\\\\{4,6,9\\\\}$\",\"layer\" : 0,\"color\" : \"\",\"parent\" : \"F251\",\"menus\" : {},\"messages\" : {},\"callbacks\" : {}},\"F258\" : {\"x\" : 0,\"y\" : 0,\"type\" : \"circle\",\"id\" : \"F258\",\"size\" : 5,\"title\" : \"$\\\\{4,6,11\\\\}$\",\"layer\" : 0,\"color\" : \"\",\"parent\" : \"F257\",\"menus\" : {},\"messages\" : {},\"callbacks\" : {}},\"F259\" : {\"x\" : 0,\"y\" : 0,\"type\" : \"circle\",\"id\" : \"F259\",\"size\" : 5,\"title\" : \"$\\\\{4,6,13\\\\}$\",\"layer\" : 0,\"color\" : \"\",\"parent\" : \"F258\",\"menus\" : {},\"messages\" : {},\"callbacks\" : {}},\"F260\" : {\"x\" : 0,\"y\" : 0,\"type\" : \"circle\",\"id\" : \"F260\",\"size\" : 5,\"title\" : \"$\\\\{4,6,15\\\\}$\",\"layer\" : 0,\"color\" : \"\",\"parent\" : \"F259\",\"menus\" : {},\"messages\" : {},\"callbacks\" : {}},\"F261\" : {\"x\" : 0,\"y\" : 0,\"type\" : \"circle\",\"id\" : \"F261\",\"size\" : 5,\"title\" : \"$\\\\{3,5\\\\}$\",\"layer\" : 0,\"color\" : \"\",\"parent\" : \"F228\",\"menus\" : {},\"messages\" : {},\"callbacks\" : {}},\"F262\" : {\"x\" : 0,\"y\" : 0,\"type\" : \"circle\",\"id\" : \"F262\",\"size\" : 5,\"title\" : \"$\\\\{3,7\\\\}$\",\"layer\" : 0,\"color\" : \"\",\"parent\" : \"F261\",\"menus\" : {},\"messages\" : {},\"callbacks\" : {}},\"F263\" : {\"x\" : 0,\"y\" : 0,\"type\" : \"circle\",\"id\" : \"F263\",\"size\" : 5,\"title\" : \"$\\\\{3,8\\\\}$\",\"layer\" : 0,\"color\" : \"\",\"parent\" : \"F262\",\"menus\" : {},\"messages\" : {},\"callbacks\" : {}},\"F264\" : {\"x\" : 0,\"y\" : 0,\"type\" : \"circle\",\"id\" : \"F264\",\"size\" : 5,\"title\" : \"$\\\\{3,10\\\\}$\",\"layer\" : 0,\"color\" : \"\",\"parent\" : \"F263\",\"menus\" : {},\"messages\" : {},\"callbacks\" : {}},\"F265\" : {\"x\" : 0,\"y\" : 0,\"type\" : \"circle\",\"id\" : \"F265\",\"size\" : 5,\"title\" : \"$\\\\{3,11\\\\}$\",\"layer\" : 0,\"color\" : \"\",\"parent\" : \"F264\",\"menus\" : {},\"messages\" : {},\"callbacks\" : {}},\"F266\" : {\"x\" : 0,\"y\" : 0,\"type\" : \"circle\",\"id\" : \"F266\",\"size\" : 5,\"title\" : \"$\\\\{3,13\\\\}$\",\"layer\" : 0,\"color\" : \"\",\"parent\" : \"F265\",\"menus\" : {},\"messages\" : {},\"callbacks\" : {}},\"F267\" : {\"x\" : 0,\"y\" : 0,\"type\" : \"circle\",\"id\" : \"F267\",\"size\" : 5,\"title\" : \"$\\\\{2,5\\\\}$\",\"layer\" : 0,\"color\" : \"\",\"parent\" : \"F227\",\"menus\" : {},\"messages\" : {},\"callbacks\" : {}},\"F268\" : {\"x\" : 0,\"y\" : 0,\"type\" : \"circle\",\"id\" : \"F268\",\"size\" : 5,\"title\" : \"$\\\\{2,7\\\\}$\",\"layer\" : 0,\"color\" : \"\",\"parent\" : \"F267\",\"menus\" : {},\"messages\" : {},\"callbacks\" : {}},\"F269\" : {\"x\" : 0,\"y\" : 0,\"type\" : \"circle\",\"id\" : \"F269\",\"size\" : 5,\"title\" : \"$\\\\{2,9\\\\}$\",\"layer\" : 0,\"color\" : \"\",\"parent\" : \"F268\",\"menus\" : {},\"messages\" : {},\"callbacks\" : {}},\"F270\" : {\"x\" : 0,\"y\" : 0,\"type\" : \"circle\",\"id\" : \"F270\",\"size\" : 5,\"title\" : \"$\\\\{2,11\\\\}$\",\"layer\" : 0,\"color\" : \"\",\"parent\" : \"F269\",\"menus\" : {},\"messages\" : {},\"callbacks\" : {}},\"F271\" : {\"x\" : 0,\"y\" : 0,\"type\" : \"circle\",\"id\" : \"F271\",\"size\" : 5,\"title\" : \"$\\\\{2,13\\\\}$\",\"layer\" : 0,\"color\" : \"\",\"parent\" : \"F270\",\"menus\" : {},\"messages\" : {},\"callbacks\" : {}},\"F272\" : {\"x\" : 0,\"y\" : 0,\"type\" : \"circle\",\"id\" : \"F272\",\"size\" : 5,\"title\" : \"$\\\\{2,15\\\\}$\",\"layer\" : 0,\"color\" : \"\",\"parent\" : \"F271\",\"menus\" : {},\"messages\" : {},\"callbacks\" : {}},\"F273\" : {\"x\" : 0,\"y\" : 0,\"type\" : \"circle\",\"id\" : \"F273\",\"size\" : 5,\"title\" : \"$\\\\{2,17\\\\}$\",\"layer\" : 0,\"color\" : \"\",\"parent\" : \"F272\",\"menus\" : {},\"messages\" : {},\"callbacks\" : {}}},\"links\" : {}},\"messages\" : {}}}"
     },
     "execution_count": 15,
     "metadata": {
      "application/vnd.francy+json": {}
     },
     "output_type": "execute_result"
    }
   ],
   "source": [
    "sonstree(NumericalSemigroup(1),8,ArfCharactersOfArfNumericalSemigroup);"
   ]
  },
  {
   "cell_type": "markdown",
   "metadata": {},
   "source": [
    "## Oversemigroups"
   ]
  },
  {
   "cell_type": "code",
   "execution_count": 16,
   "metadata": {},
   "outputs": [
    {
     "data": {
      "text/plain": [
       "function( s ) ... end"
      ]
     },
     "execution_count": 16,
     "metadata": {
      "text/plain": ""
     },
     "output_type": "execute_result"
    }
   ],
   "source": [
    "oversemigroups:=function(s)\n",
    "    local ov, graphHasse, canvas,c,i,r,ovs,n,hasse,lbl;\n",
    "    \n",
    "    hasse:=function(rel)\n",
    "      local dom, out;\n",
    "      dom:=Flat(rel);\n",
    "      out:=Filtered(rel, p-> ForAny(dom, x->([p[1],x] in rel) and ([x,p[2]] in rel)));\n",
    "      return Difference(rel,out);\n",
    "    end;\n",
    "\n",
    "    ov:=OverSemigroupsNumericalSemigroup(s);\n",
    "    n:=Length(ov);\n",
    "    graphHasse := Graph(GraphType.UNDIRECTED);\n",
    "    #SetSimulation(graphHasse,true);\n",
    "    #SetDrag(graphHasse,true);\n",
    "    c:=Cartesian([1..n],[1..n]);\n",
    "    c:=Filtered(c, p-> p[2]<>p[1]);\n",
    "    c:=Filtered(c, p-> IsSubset(ov[p[1]],ov[p[2]]));\n",
    "    c:=hasse(c);\n",
    "    ovs:=[];\n",
    "    for i in [1..n] do\n",
    "    lbl:=Concatenation(\"$\\\\langle\",JoinStringsWithSeparator(MinimalGenerators(ov[i]),\",\"),\"\\\\rangle$\");\n",
    "\n",
    "\n",
    "        if IsIrreducible(ov[i]) then\n",
    "            ovs[i]:=Shape(ShapeType!.DIAMOND, lbl);\n",
    "        else\n",
    "            ovs[i]:=Shape(ShapeType!.CIRCLE, lbl);\n",
    "        fi;\n",
    "        SetLayer(ovs[i],Genus(ov[i]));\n",
    "    SetSize(ovs[i],2);\n",
    "    Add(graphHasse,ovs[i]);\n",
    "    od;\n",
    "    for r in c do\n",
    "        Add(graphHasse,Link(ovs[r[1]],ovs[r[2]]));\n",
    "    od;\n",
    "    canvas:=Canvas(\"Oversemigroups\");\n",
    "    SetTexTypesetting(canvas, true);\n",
    "    Add(canvas,graphHasse);\n",
    "    return Draw(canvas);    \n",
    "end;"
   ]
  },
  {
   "cell_type": "markdown",
   "metadata": {},
   "source": [
    "A Hasse diagram of the set of oversemigroups of the given numerical semigroup is displayed. Irreducible numerical semigroups are drawn as diamonds. "
   ]
  },
  {
   "cell_type": "code",
   "execution_count": 17,
   "metadata": {
    "scrolled": false
   },
   "outputs": [
    {
     "data": {
      "application/vnd.francy+json": "{\"version\" : \"1.0.4\",\"mime\" : \"application\\/vnd.francy+json\",\"canvas\" : {\"width\" : 800,\"id\" : \"F318\",\"height\" : 600,\"title\" : \"Oversemigroups\",\"zoomToFit\" : true,\"texTypesetting\" : true,\"menus\" : {},\"graph\" : {\"type\" : \"undirected\",\"id\" : \"F274\",\"simulation\" : true,\"collapsed\" : true,\"nodes\" : {\"F275\" : {\"x\" : 0,\"y\" : 0,\"type\" : \"diamond\",\"id\" : \"F275\",\"size\" : 2,\"title\" : \"$\\\\langle1\\\\rangle$\",\"layer\" : 0,\"color\" : \"\",\"parent\" : \"\",\"menus\" : {},\"messages\" : {},\"callbacks\" : {}},\"F276\" : {\"x\" : 0,\"y\" : 0,\"type\" : \"diamond\",\"id\" : \"F276\",\"size\" : 2,\"title\" : \"$\\\\langle2,3\\\\rangle$\",\"layer\" : 1,\"color\" : \"\",\"parent\" : \"\",\"menus\" : {},\"messages\" : {},\"callbacks\" : {}},\"F277\" : {\"x\" : 0,\"y\" : 0,\"type\" : \"diamond\",\"id\" : \"F277\",\"size\" : 2,\"title\" : \"$\\\\langle2,5\\\\rangle$\",\"layer\" : 2,\"color\" : \"\",\"parent\" : \"\",\"menus\" : {},\"messages\" : {},\"callbacks\" : {}},\"F278\" : {\"x\" : 0,\"y\" : 0,\"type\" : \"diamond\",\"id\" : \"F278\",\"size\" : 2,\"title\" : \"$\\\\langle2,7\\\\rangle$\",\"layer\" : 3,\"color\" : \"\",\"parent\" : \"\",\"menus\" : {},\"messages\" : {},\"callbacks\" : {}},\"F279\" : {\"x\" : 0,\"y\" : 0,\"type\" : \"diamond\",\"id\" : \"F279\",\"size\" : 2,\"title\" : \"$\\\\langle3,4,5\\\\rangle$\",\"layer\" : 2,\"color\" : \"\",\"parent\" : \"\",\"menus\" : {},\"messages\" : {},\"callbacks\" : {}},\"F280\" : {\"x\" : 0,\"y\" : 0,\"type\" : \"diamond\",\"id\" : \"F280\",\"size\" : 2,\"title\" : \"$\\\\langle3,4\\\\rangle$\",\"layer\" : 3,\"color\" : \"\",\"parent\" : \"\",\"menus\" : {},\"messages\" : {},\"callbacks\" : {}},\"F281\" : {\"x\" : 0,\"y\" : 0,\"type\" : \"diamond\",\"id\" : \"F281\",\"size\" : 2,\"title\" : \"$\\\\langle3,5,7\\\\rangle$\",\"layer\" : 3,\"color\" : \"\",\"parent\" : \"\",\"menus\" : {},\"messages\" : {},\"callbacks\" : {}},\"F282\" : {\"x\" : 0,\"y\" : 0,\"type\" : \"circle\",\"id\" : \"F282\",\"size\" : 2,\"title\" : \"$\\\\langle3,7,8\\\\rangle$\",\"layer\" : 4,\"color\" : \"\",\"parent\" : \"\",\"menus\" : {},\"messages\" : {},\"callbacks\" : {}},\"F283\" : {\"x\" : 0,\"y\" : 0,\"type\" : \"diamond\",\"id\" : \"F283\",\"size\" : 2,\"title\" : \"$\\\\langle3,7,11\\\\rangle$\",\"layer\" : 5,\"color\" : \"\",\"parent\" : \"\",\"menus\" : {},\"messages\" : {},\"callbacks\" : {}},\"F284\" : {\"x\" : 0,\"y\" : 0,\"type\" : \"circle\",\"id\" : \"F284\",\"size\" : 2,\"title\" : \"$\\\\langle4,5,6,7\\\\rangle$\",\"layer\" : 3,\"color\" : \"\",\"parent\" : \"\",\"menus\" : {},\"messages\" : {},\"callbacks\" : {}},\"F285\" : {\"x\" : 0,\"y\" : 0,\"type\" : \"circle\",\"id\" : \"F285\",\"size\" : 2,\"title\" : \"$\\\\langle4,6,7,9\\\\rangle$\",\"layer\" : 4,\"color\" : \"\",\"parent\" : \"\",\"menus\" : {},\"messages\" : {},\"callbacks\" : {}},\"F286\" : {\"x\" : 0,\"y\" : 0,\"type\" : \"circle\",\"id\" : \"F286\",\"size\" : 2,\"title\" : \"$\\\\langle5,6,7,8,9\\\\rangle$\",\"layer\" : 4,\"color\" : \"\",\"parent\" : \"\",\"menus\" : {},\"messages\" : {},\"callbacks\" : {}},\"F287\" : {\"x\" : 0,\"y\" : 0,\"type\" : \"diamond\",\"id\" : \"F287\",\"size\" : 2,\"title\" : \"$\\\\langle5,6,7,9\\\\rangle$\",\"layer\" : 5,\"color\" : \"\",\"parent\" : \"\",\"menus\" : {},\"messages\" : {},\"callbacks\" : {}},\"F288\" : {\"x\" : 0,\"y\" : 0,\"type\" : \"circle\",\"id\" : \"F288\",\"size\" : 2,\"title\" : \"$\\\\langle6,7,8,9,10,11\\\\rangle$\",\"layer\" : 5,\"color\" : \"\",\"parent\" : \"\",\"menus\" : {},\"messages\" : {},\"callbacks\" : {}},\"F289\" : {\"x\" : 0,\"y\" : 0,\"type\" : \"diamond\",\"id\" : \"F289\",\"size\" : 2,\"title\" : \"$\\\\langle6,7,8,9,11\\\\rangle$\",\"layer\" : 6,\"color\" : \"\",\"parent\" : \"\",\"menus\" : {},\"messages\" : {},\"callbacks\" : {}},\"F290\" : {\"x\" : 0,\"y\" : 0,\"type\" : \"circle\",\"id\" : \"F290\",\"size\" : 2,\"title\" : \"$\\\\langle6,7,9,10,11\\\\rangle$\",\"layer\" : 6,\"color\" : \"\",\"parent\" : \"\",\"menus\" : {},\"messages\" : {},\"callbacks\" : {}},\"F291\" : {\"x\" : 0,\"y\" : 0,\"type\" : \"circle\",\"id\" : \"F291\",\"size\" : 2,\"title\" : \"$\\\\langle6,7,9,11\\\\rangle$\",\"layer\" : 7,\"color\" : \"\",\"parent\" : \"\",\"menus\" : {},\"messages\" : {},\"callbacks\" : {}}},\"links\" : {\"F292\" : {\"id\" : \"F292\",\"source\" : \"F275\",\"length\" : 0,\"weight\" : 0,\"color\" : \"\",\"invisible\" : false,\"target\" : \"F276\"},\"F293\" : {\"id\" : \"F293\",\"source\" : \"F276\",\"length\" : 0,\"weight\" : 0,\"color\" : \"\",\"invisible\" : false,\"target\" : \"F277\"},\"F294\" : {\"id\" : \"F294\",\"source\" : \"F276\",\"length\" : 0,\"weight\" : 0,\"color\" : \"\",\"invisible\" : false,\"target\" : \"F279\"},\"F295\" : {\"id\" : \"F295\",\"source\" : \"F277\",\"length\" : 0,\"weight\" : 0,\"color\" : \"\",\"invisible\" : false,\"target\" : \"F278\"},\"F296\" : {\"id\" : \"F296\",\"source\" : \"F277\",\"length\" : 0,\"weight\" : 0,\"color\" : \"\",\"invisible\" : false,\"target\" : \"F284\"},\"F297\" : {\"id\" : \"F297\",\"source\" : \"F278\",\"length\" : 0,\"weight\" : 0,\"color\" : \"\",\"invisible\" : false,\"target\" : \"F285\"},\"F298\" : {\"id\" : \"F298\",\"source\" : \"F279\",\"length\" : 0,\"weight\" : 0,\"color\" : \"\",\"invisible\" : false,\"target\" : \"F280\"},\"F299\" : {\"id\" : \"F299\",\"source\" : \"F279\",\"length\" : 0,\"weight\" : 0,\"color\" : \"\",\"invisible\" : false,\"target\" : \"F281\"},\"F300\" : {\"id\" : \"F300\",\"source\" : \"F279\",\"length\" : 0,\"weight\" : 0,\"color\" : \"\",\"invisible\" : false,\"target\" : \"F284\"},\"F301\" : {\"id\" : \"F301\",\"source\" : \"F280\",\"length\" : 0,\"weight\" : 0,\"color\" : \"\",\"invisible\" : false,\"target\" : \"F282\"},\"F302\" : {\"id\" : \"F302\",\"source\" : \"F280\",\"length\" : 0,\"weight\" : 0,\"color\" : \"\",\"invisible\" : false,\"target\" : \"F285\"},\"F303\" : {\"id\" : \"F303\",\"source\" : \"F281\",\"length\" : 0,\"weight\" : 0,\"color\" : \"\",\"invisible\" : false,\"target\" : \"F282\"},\"F304\" : {\"id\" : \"F304\",\"source\" : \"F281\",\"length\" : 0,\"weight\" : 0,\"color\" : \"\",\"invisible\" : false,\"target\" : \"F286\"},\"F305\" : {\"id\" : \"F305\",\"source\" : \"F282\",\"length\" : 0,\"weight\" : 0,\"color\" : \"\",\"invisible\" : false,\"target\" : \"F283\"},\"F306\" : {\"id\" : \"F306\",\"source\" : \"F282\",\"length\" : 0,\"weight\" : 0,\"color\" : \"\",\"invisible\" : false,\"target\" : \"F288\"},\"F307\" : {\"id\" : \"F307\",\"source\" : \"F283\",\"length\" : 0,\"weight\" : 0,\"color\" : \"\",\"invisible\" : false,\"target\" : \"F290\"},\"F308\" : {\"id\" : \"F308\",\"source\" : \"F284\",\"length\" : 0,\"weight\" : 0,\"color\" : \"\",\"invisible\" : false,\"target\" : \"F285\"},\"F309\" : {\"id\" : \"F309\",\"source\" : \"F284\",\"length\" : 0,\"weight\" : 0,\"color\" : \"\",\"invisible\" : false,\"target\" : \"F286\"},\"F310\" : {\"id\" : \"F310\",\"source\" : \"F285\",\"length\" : 0,\"weight\" : 0,\"color\" : \"\",\"invisible\" : false,\"target\" : \"F288\"},\"F311\" : {\"id\" : \"F311\",\"source\" : \"F286\",\"length\" : 0,\"weight\" : 0,\"color\" : \"\",\"invisible\" : false,\"target\" : \"F287\"},\"F312\" : {\"id\" : \"F312\",\"source\" : \"F286\",\"length\" : 0,\"weight\" : 0,\"color\" : \"\",\"invisible\" : false,\"target\" : \"F288\"},\"F313\" : {\"id\" : \"F313\",\"source\" : \"F287\",\"length\" : 0,\"weight\" : 0,\"color\" : \"\",\"invisible\" : false,\"target\" : \"F290\"},\"F314\" : {\"id\" : \"F314\",\"source\" : \"F288\",\"length\" : 0,\"weight\" : 0,\"color\" : \"\",\"invisible\" : false,\"target\" : \"F289\"},\"F315\" : {\"id\" : \"F315\",\"source\" : \"F288\",\"length\" : 0,\"weight\" : 0,\"color\" : \"\",\"invisible\" : false,\"target\" : \"F290\"},\"F316\" : {\"id\" : \"F316\",\"source\" : \"F289\",\"length\" : 0,\"weight\" : 0,\"color\" : \"\",\"invisible\" : false,\"target\" : \"F291\"},\"F317\" : {\"id\" : \"F317\",\"source\" : \"F290\",\"length\" : 0,\"weight\" : 0,\"color\" : \"\",\"invisible\" : false,\"target\" : \"F291\"}}},\"messages\" : {}}}"
     },
     "execution_count": 17,
     "metadata": {
      "application/vnd.francy+json": {}
     },
     "output_type": "execute_result"
    }
   ],
   "source": [
    "oversemigroups(NumericalSemigroup(6,7,9,11));"
   ]
  },
  {
   "cell_type": "markdown",
   "metadata": {},
   "source": [
    "## Graphs associated to elements"
   ]
  },
  {
   "cell_type": "markdown",
   "metadata": {},
   "source": [
    "The Eliahou graph of an element in a numerical semigroup is a graph whose vertices are the factorizations of the element, and to vertices are joined with an edge if they have common support."
   ]
  },
  {
   "cell_type": "code",
   "execution_count": 18,
   "metadata": {},
   "outputs": [
    {
     "data": {
      "text/plain": [
       "function( n, s ) ... end"
      ]
     },
     "execution_count": 18,
     "metadata": {
      "text/plain": ""
     },
     "output_type": "execute_result"
    }
   ],
   "source": [
    "DrawEliahouGraph:=function(n,s)\n",
    "    local graph, canvas, f, fs, c, nf, i, p;\n",
    "    \n",
    "    f:=FactorizationsElementWRTNumericalSemigroup(n,s);\n",
    "    graph:=Graph(GraphType.UNDIRECTED);\n",
    "    #SetShowNeighbours(graph,true);\n",
    "    #SetSimulation(graph,true);\n",
    "    #SetDrag(graph,true);\n",
    "    nf:=Length(f);\n",
    "    fs:=[];\n",
    "    for i in [1..nf] do \n",
    "        fs[i]:=Shape(ShapeType!.CIRCLE, Concatenation(\"(\",JoinStringsWithSeparator(f[i],\",\"),\")\"));\n",
    "        SetLayer(fs[i],Sum(f[i]));\n",
    "        SetSize(fs[i],1);\n",
    "        Add(graph,fs[i]);\n",
    "    od;\n",
    "    c:=Cartesian([1..nf],[1..nf]);\n",
    "    c:=Filtered(c,p->p[1]<p[2] and f[p[1]]*f[p[2]]<>0);\n",
    "    for p in c do \n",
    "        Add(graph,Link(fs[p[1]],fs[p[2]]));\n",
    "    od;\n",
    "    canvas:=Canvas(\"Eliahou graph\");\n",
    "    Add(canvas,graph);\n",
    "    return Draw(canvas);\n",
    "end;"
   ]
  },
  {
   "cell_type": "code",
   "execution_count": 19,
   "metadata": {},
   "outputs": [
    {
     "data": {
      "text/plain": [
       "Numerical semigroup with 3 generators"
      ]
     },
     "execution_count": 19,
     "metadata": {
      "text/plain": ""
     },
     "output_type": "execute_result"
    }
   ],
   "source": [
    "s:=NumericalSemigroup(5,7,9);"
   ]
  },
  {
   "cell_type": "code",
   "execution_count": 20,
   "metadata": {
    "scrolled": false
   },
   "outputs": [
    {
     "data": {
      "application/vnd.francy+json": "{\"version\" : \"1.0.4\",\"mime\" : \"application\\/vnd.francy+json\",\"canvas\" : {\"width\" : 800,\"id\" : \"F340\",\"height\" : 600,\"title\" : \"Eliahou graph\",\"zoomToFit\" : true,\"texTypesetting\" : false,\"menus\" : {},\"graph\" : {\"type\" : \"undirected\",\"id\" : \"F319\",\"simulation\" : true,\"collapsed\" : true,\"nodes\" : {\"F320\" : {\"x\" : 0,\"y\" : 0,\"type\" : \"circle\",\"id\" : \"F320\",\"size\" : 1,\"title\" : \"(7,2,0)\",\"layer\" : 9,\"color\" : \"\",\"parent\" : \"\",\"menus\" : {},\"messages\" : {},\"callbacks\" : {}},\"F321\" : {\"x\" : 0,\"y\" : 0,\"type\" : \"circle\",\"id\" : \"F321\",\"size\" : 1,\"title\" : \"(0,7,0)\",\"layer\" : 7,\"color\" : \"\",\"parent\" : \"\",\"menus\" : {},\"messages\" : {},\"callbacks\" : {}},\"F322\" : {\"x\" : 0,\"y\" : 0,\"type\" : \"circle\",\"id\" : \"F322\",\"size\" : 1,\"title\" : \"(8,0,1)\",\"layer\" : 9,\"color\" : \"\",\"parent\" : \"\",\"menus\" : {},\"messages\" : {},\"callbacks\" : {}},\"F323\" : {\"x\" : 0,\"y\" : 0,\"type\" : \"circle\",\"id\" : \"F323\",\"size\" : 1,\"title\" : \"(1,5,1)\",\"layer\" : 7,\"color\" : \"\",\"parent\" : \"\",\"menus\" : {},\"messages\" : {},\"callbacks\" : {}},\"F324\" : {\"x\" : 0,\"y\" : 0,\"type\" : \"circle\",\"id\" : \"F324\",\"size\" : 1,\"title\" : \"(2,3,2)\",\"layer\" : 7,\"color\" : \"\",\"parent\" : \"\",\"menus\" : {},\"messages\" : {},\"callbacks\" : {}},\"F325\" : {\"x\" : 0,\"y\" : 0,\"type\" : \"circle\",\"id\" : \"F325\",\"size\" : 1,\"title\" : \"(3,1,3)\",\"layer\" : 7,\"color\" : \"\",\"parent\" : \"\",\"menus\" : {},\"messages\" : {},\"callbacks\" : {}}},\"links\" : {\"F326\" : {\"id\" : \"F326\",\"source\" : \"F320\",\"length\" : 0,\"weight\" : 0,\"color\" : \"\",\"invisible\" : false,\"target\" : \"F321\"},\"F327\" : {\"id\" : \"F327\",\"source\" : \"F320\",\"length\" : 0,\"weight\" : 0,\"color\" : \"\",\"invisible\" : false,\"target\" : \"F322\"},\"F328\" : {\"id\" : \"F328\",\"source\" : \"F320\",\"length\" : 0,\"weight\" : 0,\"color\" : \"\",\"invisible\" : false,\"target\" : \"F323\"},\"F329\" : {\"id\" : \"F329\",\"source\" : \"F320\",\"length\" : 0,\"weight\" : 0,\"color\" : \"\",\"invisible\" : false,\"target\" : \"F324\"},\"F330\" : {\"id\" : \"F330\",\"source\" : \"F320\",\"length\" : 0,\"weight\" : 0,\"color\" : \"\",\"invisible\" : false,\"target\" : \"F325\"},\"F331\" : {\"id\" : \"F331\",\"source\" : \"F321\",\"length\" : 0,\"weight\" : 0,\"color\" : \"\",\"invisible\" : false,\"target\" : \"F323\"},\"F332\" : {\"id\" : \"F332\",\"source\" : \"F321\",\"length\" : 0,\"weight\" : 0,\"color\" : \"\",\"invisible\" : false,\"target\" : \"F324\"},\"F333\" : {\"id\" : \"F333\",\"source\" : \"F321\",\"length\" : 0,\"weight\" : 0,\"color\" : \"\",\"invisible\" : false,\"target\" : \"F325\"},\"F334\" : {\"id\" : \"F334\",\"source\" : \"F322\",\"length\" : 0,\"weight\" : 0,\"color\" : \"\",\"invisible\" : false,\"target\" : \"F323\"},\"F335\" : {\"id\" : \"F335\",\"source\" : \"F322\",\"length\" : 0,\"weight\" : 0,\"color\" : \"\",\"invisible\" : false,\"target\" : \"F324\"},\"F336\" : {\"id\" : \"F336\",\"source\" : \"F322\",\"length\" : 0,\"weight\" : 0,\"color\" : \"\",\"invisible\" : false,\"target\" : \"F325\"},\"F337\" : {\"id\" : \"F337\",\"source\" : \"F323\",\"length\" : 0,\"weight\" : 0,\"color\" : \"\",\"invisible\" : false,\"target\" : \"F324\"},\"F338\" : {\"id\" : \"F338\",\"source\" : \"F323\",\"length\" : 0,\"weight\" : 0,\"color\" : \"\",\"invisible\" : false,\"target\" : \"F325\"},\"F339\" : {\"id\" : \"F339\",\"source\" : \"F324\",\"length\" : 0,\"weight\" : 0,\"color\" : \"\",\"invisible\" : false,\"target\" : \"F325\"}}},\"messages\" : {}}}"
     },
     "execution_count": 20,
     "metadata": {
      "application/vnd.francy+json": {}
     },
     "output_type": "execute_result"
    }
   ],
   "source": [
    "DrawEliahouGraph(49,s);"
   ]
  },
  {
   "cell_type": "code",
   "execution_count": 21,
   "metadata": {},
   "outputs": [
    {
     "data": {
      "text/plain": [
       "[ 14, 25, 27 ]"
      ]
     },
     "execution_count": 21,
     "metadata": {
      "text/plain": ""
     },
     "output_type": "execute_result"
    }
   ],
   "source": [
    "BettiElements(s);"
   ]
  },
  {
   "cell_type": "code",
   "execution_count": 22,
   "metadata": {},
   "outputs": [
    {
     "data": {
      "application/vnd.francy+json": "{\"version\" : \"1.0.4\",\"mime\" : \"application\\/vnd.francy+json\",\"canvas\" : {\"width\" : 800,\"id\" : \"F369\",\"height\" : 600,\"title\" : \"Eliahou graph\",\"zoomToFit\" : true,\"texTypesetting\" : false,\"menus\" : {},\"graph\" : {\"type\" : \"undirected\",\"id\" : \"F341\",\"simulation\" : true,\"collapsed\" : true,\"nodes\" : {\"F342\" : {\"x\" : 0,\"y\" : 0,\"type\" : \"circle\",\"id\" : \"F342\",\"size\" : 1,\"title\" : \"(11,0,0)\",\"layer\" : 11,\"color\" : \"\",\"parent\" : \"\",\"menus\" : {},\"messages\" : {},\"callbacks\" : {}},\"F343\" : {\"x\" : 0,\"y\" : 0,\"type\" : \"circle\",\"id\" : \"F343\",\"size\" : 1,\"title\" : \"(4,5,0)\",\"layer\" : 9,\"color\" : \"\",\"parent\" : \"\",\"menus\" : {},\"messages\" : {},\"callbacks\" : {}},\"F344\" : {\"x\" : 0,\"y\" : 0,\"type\" : \"circle\",\"id\" : \"F344\",\"size\" : 1,\"title\" : \"(5,3,1)\",\"layer\" : 9,\"color\" : \"\",\"parent\" : \"\",\"menus\" : {},\"messages\" : {},\"callbacks\" : {}},\"F345\" : {\"x\" : 0,\"y\" : 0,\"type\" : \"circle\",\"id\" : \"F345\",\"size\" : 1,\"title\" : \"(6,1,2)\",\"layer\" : 9,\"color\" : \"\",\"parent\" : \"\",\"menus\" : {},\"messages\" : {},\"callbacks\" : {}},\"F346\" : {\"x\" : 0,\"y\" : 0,\"type\" : \"circle\",\"id\" : \"F346\",\"size\" : 1,\"title\" : \"(0,4,3)\",\"layer\" : 7,\"color\" : \"\",\"parent\" : \"\",\"menus\" : {},\"messages\" : {},\"callbacks\" : {}},\"F347\" : {\"x\" : 0,\"y\" : 0,\"type\" : \"circle\",\"id\" : \"F347\",\"size\" : 1,\"title\" : \"(1,2,4)\",\"layer\" : 7,\"color\" : \"\",\"parent\" : \"\",\"menus\" : {},\"messages\" : {},\"callbacks\" : {}},\"F348\" : {\"x\" : 0,\"y\" : 0,\"type\" : \"circle\",\"id\" : \"F348\",\"size\" : 1,\"title\" : \"(2,0,5)\",\"layer\" : 7,\"color\" : \"\",\"parent\" : \"\",\"menus\" : {},\"messages\" : {},\"callbacks\" : {}}},\"links\" : {\"F349\" : {\"id\" : \"F349\",\"source\" : \"F342\",\"length\" : 0,\"weight\" : 0,\"color\" : \"\",\"invisible\" : false,\"target\" : \"F343\"},\"F350\" : {\"id\" : \"F350\",\"source\" : \"F342\",\"length\" : 0,\"weight\" : 0,\"color\" : \"\",\"invisible\" : false,\"target\" : \"F344\"},\"F351\" : {\"id\" : \"F351\",\"source\" : \"F342\",\"length\" : 0,\"weight\" : 0,\"color\" : \"\",\"invisible\" : false,\"target\" : \"F345\"},\"F352\" : {\"id\" : \"F352\",\"source\" : \"F342\",\"length\" : 0,\"weight\" : 0,\"color\" : \"\",\"invisible\" : false,\"target\" : \"F347\"},\"F353\" : {\"id\" : \"F353\",\"source\" : \"F342\",\"length\" : 0,\"weight\" : 0,\"color\" : \"\",\"invisible\" : false,\"target\" : \"F348\"},\"F354\" : {\"id\" : \"F354\",\"source\" : \"F343\",\"length\" : 0,\"weight\" : 0,\"color\" : \"\",\"invisible\" : false,\"target\" : \"F344\"},\"F355\" : {\"id\" : \"F355\",\"source\" : \"F343\",\"length\" : 0,\"weight\" : 0,\"color\" : \"\",\"invisible\" : false,\"target\" : \"F345\"},\"F356\" : {\"id\" : \"F356\",\"source\" : \"F343\",\"length\" : 0,\"weight\" : 0,\"color\" : \"\",\"invisible\" : false,\"target\" : \"F346\"},\"F357\" : {\"id\" : \"F357\",\"source\" : \"F343\",\"length\" : 0,\"weight\" : 0,\"color\" : \"\",\"invisible\" : false,\"target\" : \"F347\"},\"F358\" : {\"id\" : \"F358\",\"source\" : \"F343\",\"length\" : 0,\"weight\" : 0,\"color\" : \"\",\"invisible\" : false,\"target\" : \"F348\"},\"F359\" : {\"id\" : \"F359\",\"source\" : \"F344\",\"length\" : 0,\"weight\" : 0,\"color\" : \"\",\"invisible\" : false,\"target\" : \"F345\"},\"F360\" : {\"id\" : \"F360\",\"source\" : \"F344\",\"length\" : 0,\"weight\" : 0,\"color\" : \"\",\"invisible\" : false,\"target\" : \"F346\"},\"F361\" : {\"id\" : \"F361\",\"source\" : \"F344\",\"length\" : 0,\"weight\" : 0,\"color\" : \"\",\"invisible\" : false,\"target\" : \"F347\"},\"F362\" : {\"id\" : \"F362\",\"source\" : \"F344\",\"length\" : 0,\"weight\" : 0,\"color\" : \"\",\"invisible\" : false,\"target\" : \"F348\"},\"F363\" : {\"id\" : \"F363\",\"source\" : \"F345\",\"length\" : 0,\"weight\" : 0,\"color\" : \"\",\"invisible\" : false,\"target\" : \"F346\"},\"F364\" : {\"id\" : \"F364\",\"source\" : \"F345\",\"length\" : 0,\"weight\" : 0,\"color\" : \"\",\"invisible\" : false,\"target\" : \"F347\"},\"F365\" : {\"id\" : \"F365\",\"source\" : \"F345\",\"length\" : 0,\"weight\" : 0,\"color\" : \"\",\"invisible\" : false,\"target\" : \"F348\"},\"F366\" : {\"id\" : \"F366\",\"source\" : \"F346\",\"length\" : 0,\"weight\" : 0,\"color\" : \"\",\"invisible\" : false,\"target\" : \"F347\"},\"F367\" : {\"id\" : \"F367\",\"source\" : \"F346\",\"length\" : 0,\"weight\" : 0,\"color\" : \"\",\"invisible\" : false,\"target\" : \"F348\"},\"F368\" : {\"id\" : \"F368\",\"source\" : \"F347\",\"length\" : 0,\"weight\" : 0,\"color\" : \"\",\"invisible\" : false,\"target\" : \"F348\"}}},\"messages\" : {}}}"
     },
     "execution_count": 22,
     "metadata": {
      "application/vnd.francy+json": {}
     },
     "output_type": "execute_result"
    }
   ],
   "source": [
    "DrawEliahouGraph(55,s);"
   ]
  },
  {
   "cell_type": "code",
   "execution_count": 23,
   "metadata": {},
   "outputs": [
    {
     "data": {
      "text/plain": [
       "function( n, s ) ... end"
      ]
     },
     "execution_count": 23,
     "metadata": {
      "text/plain": ""
     },
     "output_type": "execute_result"
    }
   ],
   "source": [
    "DrawRosalesGraph:=function(n,s)\n",
    "    local graph, canvas, msg, msgs, c, nv, i, p;\n",
    "    \n",
    "    msg:=Filtered(MinimalGenerators(s), g->n-g in s);\n",
    "    graph:=Graph(GraphType.UNDIRECTED);\n",
    "    #SetSimulation(graph,true);\n",
    "    #SetDrag(graph,true);\n",
    "    nv:=Length(msg);\n",
    "    msgs:=[];\n",
    "    for i in [1..nv] do \n",
    "        msgs[i]:=Shape(ShapeType!.CIRCLE, String(msg[i]));\n",
    "        SetSize(msgs[i],1);\n",
    "        Add(graph,msgs[i]);\n",
    "    od;\n",
    "    c:=Cartesian([1..nv],[1..nv]);\n",
    "    c:=Filtered(c,p->p[1]<p[2] and n-(msg[p[1]]+msg[p[2]]) in s);\n",
    "    for p in c do \n",
    "        Add(graph,Link(msgs[p[1]],msgs[p[2]]));\n",
    "    od;\n",
    "    canvas:=Canvas(\"Rosales graph\");\n",
    "    Add(canvas,graph);\n",
    "    return Draw(canvas);\n",
    "end;"
   ]
  },
  {
   "cell_type": "code",
   "execution_count": 24,
   "metadata": {},
   "outputs": [
    {
     "data": {
      "text/plain": [
       "Numerical semigroup with 3 generators"
      ]
     },
     "execution_count": 24,
     "metadata": {
      "text/plain": ""
     },
     "output_type": "execute_result"
    }
   ],
   "source": [
    "s:=NumericalSemigroup(5,7,9);"
   ]
  },
  {
   "cell_type": "code",
   "execution_count": 25,
   "metadata": {},
   "outputs": [
    {
     "data": {
      "application/vnd.francy+json": "{\"version\" : \"1.0.4\",\"mime\" : \"application\\/vnd.francy+json\",\"canvas\" : {\"width\" : 800,\"id\" : \"F377\",\"height\" : 600,\"title\" : \"Rosales graph\",\"zoomToFit\" : true,\"texTypesetting\" : false,\"menus\" : {},\"graph\" : {\"type\" : \"undirected\",\"id\" : \"F370\",\"simulation\" : true,\"collapsed\" : true,\"nodes\" : {\"F371\" : {\"x\" : 0,\"y\" : 0,\"type\" : \"circle\",\"id\" : \"F371\",\"size\" : 1,\"title\" : \"5\",\"layer\" : 0,\"color\" : \"\",\"parent\" : \"\",\"menus\" : {},\"messages\" : {},\"callbacks\" : {}},\"F372\" : {\"x\" : 0,\"y\" : 0,\"type\" : \"circle\",\"id\" : \"F372\",\"size\" : 1,\"title\" : \"7\",\"layer\" : 0,\"color\" : \"\",\"parent\" : \"\",\"menus\" : {},\"messages\" : {},\"callbacks\" : {}},\"F373\" : {\"x\" : 0,\"y\" : 0,\"type\" : \"circle\",\"id\" : \"F373\",\"size\" : 1,\"title\" : \"9\",\"layer\" : 0,\"color\" : \"\",\"parent\" : \"\",\"menus\" : {},\"messages\" : {},\"callbacks\" : {}}},\"links\" : {\"F374\" : {\"id\" : \"F374\",\"source\" : \"F371\",\"length\" : 0,\"weight\" : 0,\"color\" : \"\",\"invisible\" : false,\"target\" : \"F372\"},\"F375\" : {\"id\" : \"F375\",\"source\" : \"F371\",\"length\" : 0,\"weight\" : 0,\"color\" : \"\",\"invisible\" : false,\"target\" : \"F373\"},\"F376\" : {\"id\" : \"F376\",\"source\" : \"F372\",\"length\" : 0,\"weight\" : 0,\"color\" : \"\",\"invisible\" : false,\"target\" : \"F373\"}}},\"messages\" : {}}}"
     },
     "execution_count": 25,
     "metadata": {
      "application/vnd.francy+json": {}
     },
     "output_type": "execute_result"
    }
   ],
   "source": [
    "DrawRosalesGraph(49,s);"
   ]
  },
  {
   "cell_type": "code",
   "execution_count": 26,
   "metadata": {},
   "outputs": [
    {
     "data": {
      "application/vnd.francy+json": "{\"version\" : \"1.0.4\",\"mime\" : \"application\\/vnd.francy+json\",\"canvas\" : {\"width\" : 800,\"id\" : \"F383\",\"height\" : 600,\"title\" : \"Rosales graph\",\"zoomToFit\" : true,\"texTypesetting\" : false,\"menus\" : {},\"graph\" : {\"type\" : \"undirected\",\"id\" : \"F378\",\"simulation\" : true,\"collapsed\" : true,\"nodes\" : {\"F379\" : {\"x\" : 0,\"y\" : 0,\"type\" : \"circle\",\"id\" : \"F379\",\"size\" : 1,\"title\" : \"3\",\"layer\" : 0,\"color\" : \"\",\"parent\" : \"\",\"menus\" : {},\"messages\" : {},\"callbacks\" : {}},\"F380\" : {\"x\" : 0,\"y\" : 0,\"type\" : \"circle\",\"id\" : \"F380\",\"size\" : 1,\"title\" : \"5\",\"layer\" : 0,\"color\" : \"\",\"parent\" : \"\",\"menus\" : {},\"messages\" : {},\"callbacks\" : {}},\"F381\" : {\"x\" : 0,\"y\" : 0,\"type\" : \"circle\",\"id\" : \"F381\",\"size\" : 1,\"title\" : \"7\",\"layer\" : 0,\"color\" : \"\",\"parent\" : \"\",\"menus\" : {},\"messages\" : {},\"callbacks\" : {}}},\"links\" : {\"F382\" : {\"id\" : \"F382\",\"source\" : \"F379\",\"length\" : 0,\"weight\" : 0,\"color\" : \"\",\"invisible\" : false,\"target\" : \"F381\"}}},\"messages\" : {}}}"
     },
     "execution_count": 26,
     "metadata": {
      "application/vnd.francy+json": {}
     },
     "output_type": "execute_result"
    }
   ],
   "source": [
    "DrawRosalesGraph(10,NumericalSemigroup(3,5,7));"
   ]
  },
  {
   "cell_type": "markdown",
   "metadata": {},
   "source": [
    "## Graphs of factorizations"
   ]
  },
  {
   "cell_type": "code",
   "execution_count": 27,
   "metadata": {},
   "outputs": [
    {
     "data": {
      "text/plain": [
       "function( f ) ... end"
      ]
     },
     "execution_count": 27,
     "metadata": {
      "text/plain": ""
     },
     "output_type": "execute_result"
    }
   ],
   "source": [
    "DrawFactorizationGraph:=function(f)\n",
    "    local graph, canvas, fs, c, nf, i, p, ln, distance, Kruskal, tv;\n",
    "\n",
    "    Kruskal := function(V, E)\n",
    "        local trees, needed, v, e, i,j, nv;\n",
    "\n",
    "        trees := List(V, v-> [v]);\n",
    "        needed := [];\n",
    "        nv:=Length(V);\n",
    "        for e in E do\n",
    "          i:=First([1..Length(trees)], k-> e[1] in trees[k]);\n",
    "          j:=First([1..Length(trees)], k-> e[2] in trees[k]);\n",
    "          if i<>j then\n",
    "            trees[i]:=Union(trees[i], trees[j]);\n",
    "            trees[j]:=[];\n",
    "            Add(needed,e);\n",
    "          fi;\n",
    "          if Length(needed)=nv-1 then\n",
    "            break;\n",
    "          fi;\n",
    "        od;\n",
    "        return needed;\n",
    "    end;\n",
    " \n",
    "    distance := function(a,b)\n",
    "        local   k,  gcd,  i;\n",
    "\n",
    "        k := Length(a);\n",
    "        if k <> Length(b) then\n",
    "            Error(\"The lengths of a and b are different.\\n\");\n",
    "        fi;\n",
    "\n",
    "\n",
    "        gcd := [];\n",
    "        for i in [1..k] do\n",
    "            Add(gcd, Minimum(a[i],b[i]));\n",
    "        od;\n",
    "        return(Maximum(Sum(a-gcd),Sum(b-gcd)));\n",
    "\n",
    "    end;\n",
    "\n",
    "    graph:=Graph(GraphType.UNDIRECTED);\n",
    "# SetSimulation(graph,true);\n",
    "#SetDrag(graph,true);\n",
    "#SetShowNeighbours(graph,true);\n",
    "    nf:=Length(f);\n",
    "    fs:=[];\n",
    "    for i in [1..nf] do \n",
    "        fs[i]:=Shape(ShapeType!.CIRCLE, Concatenation(\"(\",JoinStringsWithSeparator(f[i],\",\"),\")\"));\n",
    "        SetLayer(fs[i],Sum(f[i]));\n",
    "        SetSize(fs[i],1);\n",
    "        Add(graph,fs[i]);\n",
    "    od;\n",
    "    c:=Cartesian([1..nf],[1..nf]);\n",
    "    c:=Filtered(c,p->p[1]<p[2] and f[p[1]]*f[p[2]]<>0);\n",
    "    Sort(c,function(e,ee) return distance(f[e[1]],f[e[2]])<distance(f[ee[1]],f[ee[2]]); end);\n",
    "    tv:=Kruskal(f,List(c,p->[f[p[1]],f[p[2]]]));\n",
    "    for p in c do \n",
    "        ln:=Link(fs[p[1]],fs[p[2]]);\n",
    "        #SetWeight(ln, distance(f[p[1]],f[p[2]]));\n",
    "        SetTitle(ln, String(distance(f[p[1]],f[p[2]])));\n",
    "        if [f[p[1]],f[p[2]]] in tv then \n",
    "            SetColor(ln,\"red\");\n",
    "        fi;\n",
    "        Add(graph,ln);\n",
    "    od;\n",
    "    canvas:=Canvas(\"Factorizations graph\");\n",
    "    Add(canvas,graph);\n",
    "    return Draw(canvas);\n",
    "end;"
   ]
  },
  {
   "cell_type": "code",
   "execution_count": 28,
   "metadata": {},
   "outputs": [
    {
     "data": {
      "text/plain": [
       "[ [ 10, 2, 0 ], [ 5, 5, 0 ], [ 0, 8, 0 ], [ 11, 0, 1 ], [ 6, 3, 1 ], [ 1, 6, 1 ], [ 7, 1, 2 ], [ 2, 4, 2 ], [ 3, 2, 3 ], [ 4, 0, 4 ], [ 0, 1, 5 ] ]"
      ]
     },
     "execution_count": 28,
     "metadata": {
      "text/plain": ""
     },
     "output_type": "execute_result"
    }
   ],
   "source": [
    "f:=FactorizationsElementWRTNumericalSemigroup(40,NumericalSemigroup(3,5,7));"
   ]
  },
  {
   "cell_type": "code",
   "execution_count": 29,
   "metadata": {
    "scrolled": false
   },
   "outputs": [
    {
     "data": {
      "application/vnd.francy+json": "{\"version\" : \"1.0.4\",\"mime\" : \"application\\/vnd.francy+json\",\"canvas\" : {\"width\" : 800,\"id\" : \"F449\",\"height\" : 600,\"title\" : \"Factorizations graph\",\"zoomToFit\" : true,\"texTypesetting\" : false,\"menus\" : {},\"graph\" : {\"type\" : \"undirected\",\"id\" : \"F384\",\"simulation\" : true,\"collapsed\" : true,\"nodes\" : {\"F385\" : {\"x\" : 0,\"y\" : 0,\"type\" : \"circle\",\"id\" : \"F385\",\"size\" : 1,\"title\" : \"(10,2,0)\",\"layer\" : 12,\"color\" : \"\",\"parent\" : \"\",\"menus\" : {},\"messages\" : {},\"callbacks\" : {}},\"F386\" : {\"x\" : 0,\"y\" : 0,\"type\" : \"circle\",\"id\" : \"F386\",\"size\" : 1,\"title\" : \"(5,5,0)\",\"layer\" : 10,\"color\" : \"\",\"parent\" : \"\",\"menus\" : {},\"messages\" : {},\"callbacks\" : {}},\"F387\" : {\"x\" : 0,\"y\" : 0,\"type\" : \"circle\",\"id\" : \"F387\",\"size\" : 1,\"title\" : \"(0,8,0)\",\"layer\" : 8,\"color\" : \"\",\"parent\" : \"\",\"menus\" : {},\"messages\" : {},\"callbacks\" : {}},\"F388\" : {\"x\" : 0,\"y\" : 0,\"type\" : \"circle\",\"id\" : \"F388\",\"size\" : 1,\"title\" : \"(11,0,1)\",\"layer\" : 12,\"color\" : \"\",\"parent\" : \"\",\"menus\" : {},\"messages\" : {},\"callbacks\" : {}},\"F389\" : {\"x\" : 0,\"y\" : 0,\"type\" : \"circle\",\"id\" : \"F389\",\"size\" : 1,\"title\" : \"(6,3,1)\",\"layer\" : 10,\"color\" : \"\",\"parent\" : \"\",\"menus\" : {},\"messages\" : {},\"callbacks\" : {}},\"F390\" : {\"x\" : 0,\"y\" : 0,\"type\" : \"circle\",\"id\" : \"F390\",\"size\" : 1,\"title\" : \"(1,6,1)\",\"layer\" : 8,\"color\" : \"\",\"parent\" : \"\",\"menus\" : {},\"messages\" : {},\"callbacks\" : {}},\"F391\" : {\"x\" : 0,\"y\" : 0,\"type\" : \"circle\",\"id\" : \"F391\",\"size\" : 1,\"title\" : \"(7,1,2)\",\"layer\" : 10,\"color\" : \"\",\"parent\" : \"\",\"menus\" : {},\"messages\" : {},\"callbacks\" : {}},\"F392\" : {\"x\" : 0,\"y\" : 0,\"type\" : \"circle\",\"id\" : \"F392\",\"size\" : 1,\"title\" : \"(2,4,2)\",\"layer\" : 8,\"color\" : \"\",\"parent\" : \"\",\"menus\" : {},\"messages\" : {},\"callbacks\" : {}},\"F393\" : {\"x\" : 0,\"y\" : 0,\"type\" : \"circle\",\"id\" : \"F393\",\"size\" : 1,\"title\" : \"(3,2,3)\",\"layer\" : 8,\"color\" : \"\",\"parent\" : \"\",\"menus\" : {},\"messages\" : {},\"callbacks\" : {}},\"F394\" : {\"x\" : 0,\"y\" : 0,\"type\" : \"circle\",\"id\" : \"F394\",\"size\" : 1,\"title\" : \"(4,0,4)\",\"layer\" : 8,\"color\" : \"\",\"parent\" : \"\",\"menus\" : {},\"messages\" : {},\"callbacks\" : {}},\"F395\" : {\"x\" : 0,\"y\" : 0,\"type\" : \"circle\",\"id\" : \"F395\",\"size\" : 1,\"title\" : \"(0,1,5)\",\"layer\" : 6,\"color\" : \"\",\"parent\" : \"\",\"menus\" : {},\"messages\" : {},\"callbacks\" : {}}},\"links\" : {\"F396\" : {\"id\" : \"F396\",\"source\" : \"F385\",\"length\" : 0,\"weight\" : 0,\"title\" : \"2\",\"color\" : \"red\",\"invisible\" : false,\"target\" : \"F388\"},\"F397\" : {\"id\" : \"F397\",\"source\" : \"F393\",\"length\" : 0,\"weight\" : 0,\"title\" : \"2\",\"color\" : \"red\",\"invisible\" : false,\"target\" : \"F394\"},\"F398\" : {\"id\" : \"F398\",\"source\" : \"F392\",\"length\" : 0,\"weight\" : 0,\"title\" : \"2\",\"color\" : \"red\",\"invisible\" : false,\"target\" : \"F393\"},\"F399\" : {\"id\" : \"F399\",\"source\" : \"F389\",\"length\" : 0,\"weight\" : 0,\"title\" : \"2\",\"color\" : \"red\",\"invisible\" : false,\"target\" : \"F391\"},\"F400\" : {\"id\" : \"F400\",\"source\" : \"F386\",\"length\" : 0,\"weight\" : 0,\"title\" : \"2\",\"color\" : \"red\",\"invisible\" : false,\"target\" : \"F389\"},\"F401\" : {\"id\" : \"F401\",\"source\" : \"F390\",\"length\" : 0,\"weight\" : 0,\"title\" : \"2\",\"color\" : \"red\",\"invisible\" : false,\"target\" : \"F392\"},\"F402\" : {\"id\" : \"F402\",\"source\" : \"F387\",\"length\" : 0,\"weight\" : 0,\"title\" : \"2\",\"color\" : \"red\",\"invisible\" : false,\"target\" : \"F390\"},\"F403\" : {\"id\" : \"F403\",\"source\" : \"F392\",\"length\" : 0,\"weight\" : 0,\"title\" : \"4\",\"color\" : \"\",\"invisible\" : false,\"target\" : \"F394\"},\"F404\" : {\"id\" : \"F404\",\"source\" : \"F393\",\"length\" : 0,\"weight\" : 0,\"title\" : \"4\",\"color\" : \"red\",\"invisible\" : false,\"target\" : \"F395\"},\"F405\" : {\"id\" : \"F405\",\"source\" : \"F385\",\"length\" : 0,\"weight\" : 0,\"title\" : \"4\",\"color\" : \"red\",\"invisible\" : false,\"target\" : \"F389\"},\"F406\" : {\"id\" : \"F406\",\"source\" : \"F385\",\"length\" : 0,\"weight\" : 0,\"title\" : \"4\",\"color\" : \"\",\"invisible\" : false,\"target\" : \"F391\"},\"F407\" : {\"id\" : \"F407\",\"source\" : \"F388\",\"length\" : 0,\"weight\" : 0,\"title\" : \"4\",\"color\" : \"\",\"invisible\" : false,\"target\" : \"F391\"},\"F408\" : {\"id\" : \"F408\",\"source\" : \"F394\",\"length\" : 0,\"weight\" : 0,\"title\" : \"4\",\"color\" : \"\",\"invisible\" : false,\"target\" : \"F395\"},\"F409\" : {\"id\" : \"F409\",\"source\" : \"F391\",\"length\" : 0,\"weight\" : 0,\"title\" : \"4\",\"color\" : \"red\",\"invisible\" : false,\"target\" : \"F394\"},\"F410\" : {\"id\" : \"F410\",\"source\" : \"F391\",\"length\" : 0,\"weight\" : 0,\"title\" : \"4\",\"color\" : \"\",\"invisible\" : false,\"target\" : \"F393\"},\"F411\" : {\"id\" : \"F411\",\"source\" : \"F386\",\"length\" : 0,\"weight\" : 0,\"title\" : \"4\",\"color\" : \"\",\"invisible\" : false,\"target\" : \"F390\"},\"F412\" : {\"id\" : \"F412\",\"source\" : \"F387\",\"length\" : 0,\"weight\" : 0,\"title\" : \"4\",\"color\" : \"\",\"invisible\" : false,\"target\" : \"F392\"},\"F413\" : {\"id\" : \"F413\",\"source\" : \"F386\",\"length\" : 0,\"weight\" : 0,\"title\" : \"4\",\"color\" : \"\",\"invisible\" : false,\"target\" : \"F392\"},\"F414\" : {\"id\" : \"F414\",\"source\" : \"F389\",\"length\" : 0,\"weight\" : 0,\"title\" : \"4\",\"color\" : \"\",\"invisible\" : false,\"target\" : \"F392\"},\"F415\" : {\"id\" : \"F415\",\"source\" : \"F389\",\"length\" : 0,\"weight\" : 0,\"title\" : \"4\",\"color\" : \"\",\"invisible\" : false,\"target\" : \"F393\"},\"F416\" : {\"id\" : \"F416\",\"source\" : \"F390\",\"length\" : 0,\"weight\" : 0,\"title\" : \"4\",\"color\" : \"\",\"invisible\" : false,\"target\" : \"F393\"},\"F417\" : {\"id\" : \"F417\",\"source\" : \"F386\",\"length\" : 0,\"weight\" : 0,\"title\" : \"4\",\"color\" : \"\",\"invisible\" : false,\"target\" : \"F391\"},\"F418\" : {\"id\" : \"F418\",\"source\" : \"F389\",\"length\" : 0,\"weight\" : 0,\"title\" : \"5\",\"color\" : \"\",\"invisible\" : false,\"target\" : \"F394\"},\"F419\" : {\"id\" : \"F419\",\"source\" : \"F391\",\"length\" : 0,\"weight\" : 0,\"title\" : \"5\",\"color\" : \"\",\"invisible\" : false,\"target\" : \"F392\"},\"F420\" : {\"id\" : \"F420\",\"source\" : \"F386\",\"length\" : 0,\"weight\" : 0,\"title\" : \"5\",\"color\" : \"\",\"invisible\" : false,\"target\" : \"F393\"},\"F421\" : {\"id\" : \"F421\",\"source\" : \"F385\",\"length\" : 0,\"weight\" : 0,\"title\" : \"5\",\"color\" : \"\",\"invisible\" : false,\"target\" : \"F386\"},\"F422\" : {\"id\" : \"F422\",\"source\" : \"F386\",\"length\" : 0,\"weight\" : 0,\"title\" : \"5\",\"color\" : \"\",\"invisible\" : false,\"target\" : \"F387\"},\"F423\" : {\"id\" : \"F423\",\"source\" : \"F392\",\"length\" : 0,\"weight\" : 0,\"title\" : \"5\",\"color\" : \"\",\"invisible\" : false,\"target\" : \"F395\"},\"F424\" : {\"id\" : \"F424\",\"source\" : \"F389\",\"length\" : 0,\"weight\" : 0,\"title\" : \"5\",\"color\" : \"\",\"invisible\" : false,\"target\" : \"F390\"},\"F425\" : {\"id\" : \"F425\",\"source\" : \"F388\",\"length\" : 0,\"weight\" : 0,\"title\" : \"5\",\"color\" : \"\",\"invisible\" : false,\"target\" : \"F389\"},\"F426\" : {\"id\" : \"F426\",\"source\" : \"F387\",\"length\" : 0,\"weight\" : 0,\"title\" : \"6\",\"color\" : \"\",\"invisible\" : false,\"target\" : \"F393\"},\"F427\" : {\"id\" : \"F427\",\"source\" : \"F390\",\"length\" : 0,\"weight\" : 0,\"title\" : \"6\",\"color\" : \"\",\"invisible\" : false,\"target\" : \"F394\"},\"F428\" : {\"id\" : \"F428\",\"source\" : \"F390\",\"length\" : 0,\"weight\" : 0,\"title\" : \"6\",\"color\" : \"\",\"invisible\" : false,\"target\" : \"F395\"},\"F429\" : {\"id\" : \"F429\",\"source\" : \"F386\",\"length\" : 0,\"weight\" : 0,\"title\" : \"6\",\"color\" : \"\",\"invisible\" : false,\"target\" : \"F394\"},\"F430\" : {\"id\" : \"F430\",\"source\" : \"F388\",\"length\" : 0,\"weight\" : 0,\"title\" : \"7\",\"color\" : \"\",\"invisible\" : false,\"target\" : \"F394\"},\"F431\" : {\"id\" : \"F431\",\"source\" : \"F387\",\"length\" : 0,\"weight\" : 0,\"title\" : \"7\",\"color\" : \"\",\"invisible\" : false,\"target\" : \"F395\"},\"F432\" : {\"id\" : \"F432\",\"source\" : \"F390\",\"length\" : 0,\"weight\" : 0,\"title\" : \"7\",\"color\" : \"\",\"invisible\" : false,\"target\" : \"F391\"},\"F433\" : {\"id\" : \"F433\",\"source\" : \"F387\",\"length\" : 0,\"weight\" : 0,\"title\" : \"7\",\"color\" : \"\",\"invisible\" : false,\"target\" : \"F389\"},\"F434\" : {\"id\" : \"F434\",\"source\" : \"F386\",\"length\" : 0,\"weight\" : 0,\"title\" : \"7\",\"color\" : \"\",\"invisible\" : false,\"target\" : \"F388\"},\"F435\" : {\"id\" : \"F435\",\"source\" : \"F391\",\"length\" : 0,\"weight\" : 0,\"title\" : \"7\",\"color\" : \"\",\"invisible\" : false,\"target\" : \"F395\"},\"F436\" : {\"id\" : \"F436\",\"source\" : \"F385\",\"length\" : 0,\"weight\" : 0,\"title\" : \"7\",\"color\" : \"\",\"invisible\" : false,\"target\" : \"F393\"},\"F437\" : {\"id\" : \"F437\",\"source\" : \"F388\",\"length\" : 0,\"weight\" : 0,\"title\" : \"8\",\"color\" : \"\",\"invisible\" : false,\"target\" : \"F393\"},\"F438\" : {\"id\" : \"F438\",\"source\" : \"F389\",\"length\" : 0,\"weight\" : 0,\"title\" : \"8\",\"color\" : \"\",\"invisible\" : false,\"target\" : \"F395\"},\"F439\" : {\"id\" : \"F439\",\"source\" : \"F385\",\"length\" : 0,\"weight\" : 0,\"title\" : \"8\",\"color\" : \"\",\"invisible\" : false,\"target\" : \"F394\"},\"F440\" : {\"id\" : \"F440\",\"source\" : \"F385\",\"length\" : 0,\"weight\" : 0,\"title\" : \"8\",\"color\" : \"\",\"invisible\" : false,\"target\" : \"F392\"},\"F441\" : {\"id\" : \"F441\",\"source\" : \"F388\",\"length\" : 0,\"weight\" : 0,\"title\" : \"9\",\"color\" : \"\",\"invisible\" : false,\"target\" : \"F392\"},\"F442\" : {\"id\" : \"F442\",\"source\" : \"F387\",\"length\" : 0,\"weight\" : 0,\"title\" : \"9\",\"color\" : \"\",\"invisible\" : false,\"target\" : \"F391\"},\"F443\" : {\"id\" : \"F443\",\"source\" : \"F386\",\"length\" : 0,\"weight\" : 0,\"title\" : \"9\",\"color\" : \"\",\"invisible\" : false,\"target\" : \"F395\"},\"F444\" : {\"id\" : \"F444\",\"source\" : \"F385\",\"length\" : 0,\"weight\" : 0,\"title\" : \"9\",\"color\" : \"\",\"invisible\" : false,\"target\" : \"F390\"},\"F445\" : {\"id\" : \"F445\",\"source\" : \"F388\",\"length\" : 0,\"weight\" : 0,\"title\" : \"10\",\"color\" : \"\",\"invisible\" : false,\"target\" : \"F390\"},\"F446\" : {\"id\" : \"F446\",\"source\" : \"F385\",\"length\" : 0,\"weight\" : 0,\"title\" : \"10\",\"color\" : \"\",\"invisible\" : false,\"target\" : \"F387\"},\"F447\" : {\"id\" : \"F447\",\"source\" : \"F388\",\"length\" : 0,\"weight\" : 0,\"title\" : \"11\",\"color\" : \"\",\"invisible\" : false,\"target\" : \"F395\"},\"F448\" : {\"id\" : \"F448\",\"source\" : \"F385\",\"length\" : 0,\"weight\" : 0,\"title\" : \"11\",\"color\" : \"\",\"invisible\" : false,\"target\" : \"F395\"}}},\"messages\" : {}}}"
     },
     "execution_count": 29,
     "metadata": {
      "application/vnd.francy+json": {}
     },
     "output_type": "execute_result"
    }
   ],
   "source": [
    "DrawFactorizationGraph(f);"
   ]
  },
  {
   "cell_type": "code",
   "execution_count": null,
   "metadata": {},
   "outputs": [],
   "source": []
  },
  {
   "cell_type": "code",
   "execution_count": null,
   "metadata": {},
   "outputs": [],
   "source": []
  }
 ],
 "metadata": {
  "kernelspec": {
   "display_name": "GAP 4",
   "language": "gap",
   "name": "gap-4"
  },
  "language_info": {
   "codemirror_mode": "gap",
   "file_extension": ".g",
   "mimetype": "text/x-gap",
   "name": "GAP 4",
   "nbconvert_exporter": "",
   "pygments_lexer": "gap",
   "version": "4.dev"
  }
 },
 "nbformat": 4,
 "nbformat_minor": 2
}
