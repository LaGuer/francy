{
 "cells": [
  {
   "cell_type": "code",
   "execution_count": 205,
   "metadata": {},
   "outputs": [
    {
     "data": {
      "text/plain": [
       "true"
      ]
     },
     "execution_count": 205,
     "metadata": {
      "text/plain": ""
     },
     "output_type": "execute_result"
    }
   ],
   "source": [
    "LoadPackage(\"francy\");"
   ]
  },
  {
   "cell_type": "markdown",
   "metadata": {},
   "source": [
    "# Francy Package\n",
    "\n",
    "Francy is responsible for creating a representational structure that can be rendered using pretty much any UI framework\n",
    "in any language for any OS.\n",
    "\n",
    "Francy JS renders this model in Jupyter, and allows interactivity with GAP."
   ]
  },
  {
   "cell_type": "markdown",
   "metadata": {},
   "source": [
    "# Draw\n",
    "\n",
    "Draw is the main function of Francy. It renders a canvas and all the child objects in Jupyter environment or any other environment which connects to GAP somehow, e.g. a webssh console with websockets, etc.\n",
    "\n",
    "### DrawSplash\n",
    "\n",
    "DrawSplash uses Draw to generate the data and creates a Static HTML Page that can be embedded or viewed in any browser, in \"offline\" mode.\n",
    "\n",
    "**NOTE: When using this, there will be no interaction back to gap as there is no kernel orchestrating the communication between francy and gap! This might change in the future, but no plans to implement such functionality using websockets at the moment.**"
   ]
  },
  {
   "cell_type": "markdown",
   "metadata": {},
   "source": [
    "# Canvas\n",
    "\n",
    "Canvas are the base where graphics are produced. A Canvas is constituted by a Main Menu and an area where the graphics are produced.\n",
    "\n",
    "## How to create a Canvas?\n",
    "\n",
    "It is possible to set some default configurations for the canvas:\n",
    "\n",
    "```gap\n",
    "gap> defaults := CanvasDefaults;\n",
    "gap> Sanitize(defaults);\n",
    "rec( height := 600, width := 800, zoomToFit := true )\n",
    "gap> SetWidth(defaults, 830);\n",
    "gap> SetHeight(defaults, 630);\n",
    "gap> SetZoomToFit(defaults, false);\n",
    "gap> SetTexTypesetting(defaults, true);\n",
    "gap> canvas := Canvas(\"Example Canvas\", defaults);\n",
    "\n",
    "```\n",
    "\n",
    "Or it can be done after, by:\n",
    "\n",
    "```gap\n",
    "gap> canvas := Canvas(\"Example Canvas\");\n",
    "gap> SetWidth(canvas, 850);\n",
    "gap> SetHeight(canvas, 650);\n",
    "gap> SetZoomToFit(canvas, true);\n",
    "```"
   ]
  },
  {
   "cell_type": "code",
   "execution_count": 223,
   "metadata": {},
   "outputs": [
    {
     "data": {
      "application/vnd.francy+json": "{\"version\" : \"0.8.0\",\"mime\" : \"application\\/vnd.francy+json\",\"canvas\" : {\"width\" : 800,\"id\" : \"F88\",\"height\" : 100,\"title\" : \"Callbacks in action\",\"zoomToFit\" : true,\"texTypesetting\" : true,\"menus\" : {\"F94\" : {\"id\" : \"F94\",\"title\" : \"Hello Menu Action\",\"callback\" : {\"func\" : \"HelloWorld\",\"id\" : \"F91\",\"trigger\" : \"click\",\"knownArgs\" : [],\"requiredArgs\" : {\"F92\" : {\"type\" : \"text\",\"id\" : \"F92\",\"title\" : \"Your Name?\",\"value\" : \"\"}}},\"menus\" : {}},\"F93\" : {\"id\" : \"F93\",\"title\" : \"Example Menu Holder\",\"callback\" : {},\"menus\" : {\"F94\" : {\"id\" : \"F94\",\"title\" : \"Hello Menu Action\",\"callback\" : {\"func\" : \"HelloWorld\",\"id\" : \"F91\",\"trigger\" : \"click\",\"knownArgs\" : [],\"requiredArgs\" : {\"F92\" : {\"type\" : \"text\",\"id\" : \"F92\",\"title\" : \"Your Name?\",\"value\" : \"\"}}},\"menus\" : {}}}}},\"graph\" : {\"type\" : \"undirected\",\"id\" : \"F89\",\"simulation\" : true,\"collapsed\" : true,\"drag\" : false,\"showNeighbours\" : false,\"nodes\" : {\"F90\" : {\"x\" : 0,\"y\" : 0,\"type\" : \"circle\",\"id\" : \"F90\",\"size\" : 10,\"title\" : \"$x^2$\",\"color\" : \"\",\"layer\" : 0,\"parent\" : \"\",\"menus\" : {\"F94\" : {\"id\" : \"F94\",\"title\" : \"Hello Menu Action\",\"callback\" : {\"func\" : \"HelloWorld\",\"id\" : \"F91\",\"trigger\" : \"click\",\"knownArgs\" : [],\"requiredArgs\" : {\"F92\" : {\"type\" : \"text\",\"id\" : \"F92\",\"title\" : \"Your Name?\",\"value\" : \"\"}}},\"menus\" : {}}},\"messages\" : {},\"callbacks\" : {}}},\"links\" : {}},\"messages\" : {}}}"
     },
     "execution_count": 223,
     "metadata": {
      "application/vnd.francy+json": {}
     },
     "output_type": "execute_result"
    }
   ],
   "source": [
    "canvas := Canvas(\"Callbacks in action\");;\n",
    "SetTexTypesetting(canvas, true);;\n",
    "SetHeight(canvas, 100);;\n",
    "\n",
    "graph := Graph(GraphType.UNDIRECTED);; # will go throughout graphs later\n",
    "shape := Shape(ShapeType.CIRCLE, \"$x^2$\");; # will go throughout shapes later\n",
    "Add(graph, shape);;\n",
    "Add(canvas, graph);;\n",
    "\n",
    "HelloWorld := function(name)\n",
    "    Add(canvas, FrancyMessage(Concatenation(\"Hello, \", name))); #  will go throughout messages later\n",
    "    return Draw(canvas);\n",
    "end;;\n",
    "\n",
    "callback1 := Callback(HelloWorld);;\n",
    "arg1 := RequiredArg(ArgType.STRING, \"Your Name?\");;\n",
    "Add(callback1, arg1);;\n",
    "\n",
    "menu := Menu(\"Example Menu Holder\");;\n",
    "menu1 := Menu( \"Hello Menu Action\", callback1 );;\n",
    "Add(menu, menu1);;\n",
    "\n",
    "Add(canvas, menu);;\n",
    "Add(canvas, menu1);;\n",
    "Add(shape, menu1);;\n",
    "\n",
    "Draw(canvas);"
   ]
  },
  {
   "cell_type": "markdown",
   "metadata": {},
   "source": [
    "# Menus\n",
    "\n",
    "Menus can be added to the Canvas, where they will be added to the Main Menu on the Top, or to Shapes, ahere they will appear as Context Menu - Mouse right click.\n",
    "\n",
    "The Main Menu has by default a Menu entry called Francy with 3 Sub Menus: Zoom to Fit, Save to PNG and About.\n",
    "\n",
    "*NOTE: Save to PNG is broken at the moment due to some bug in the library used, when executed on Jupyter!*\n",
    "\n",
    "# Callbacks\n",
    "\n",
    "A Callback is a function that is triggered in GAP and can be added to Menus and/or Shapes.\n",
    "\n",
    "## How to create a Callback?\n",
    "\n",
    "Callbacks can be created in many different ways, and it will depend on what you want to do.\n",
    "\n",
    "Callbacks are triggered with mouse events. Available TriggerTypes are:\n",
    "\n",
    "* TriggerType.DOUBLE_CLICK\n",
    "* TriggerType.RIGHT_CLICK\n",
    "* TriggerType.CLICK\n",
    "\n",
    "*NOTE: No matter what you choose for TriggerType on a callback that is used on a Menu will always default to TriggerType.CLICK!*\n",
    "\n",
    "Calling a Simple function that doesn't require any argument is the simplest form:\n",
    "\n",
    "```gap\n",
    "gap> MyFunction := function()\n",
    ">    # Must return allways! This is because GAP CallFuncList is used and requires it\n",
    ">    return;\n",
    "> end;\n",
    "gap> callback := Callback(MyFunction); # defaults to CLICK event\n",
    "gap> callback := Callback(TriggerType.DOUBLE_CLICK, MyFunction);\n",
    "```\n",
    "\n",
    "Calling a Function with a \"known\" argument is also simple:\n",
    "\n",
    "```gap\n",
    "gap> canvas := Canvas(\"Callbacks in Action!\");\n",
    "gap> MyFunction := function(someKnownArg)\n",
    ">    # Do some crazy computation\n",
    ">    # Redraw\n",
    ">  return Draw(canvas);\n",
    "> end;\n",
    "gap> something := NumericalSemigroup(10,11,19);\n",
    "gap> callback := Callback(MyFunction, [something]);\n",
    "```\n",
    "\n",
    "What if we want the user to give some input? Well, this is the case you have \"required\" arguments:\n",
    "\n",
    "```gap\n",
    "gap> canvas := Canvas(\"Callbacks in Action!\");\n",
    "gap> MyFunction := function(someKnownArg, someUserInputArg)\n",
    ">    # Do Some Crazy computation\n",
    ">    # Redraw\n",
    ">    return Draw(canvas);\n",
    "> end;\n",
    "gap> something := NumericalSemigroup(10,11,19);\n",
    "gap> callback := Callback(MyFunction, [something]);\n",
    "gap> arg := RequiredArg(ArgType.NUMBER, \"Give me a Prime?\");\n",
    "gap> Add(callback, arg);\n",
    "```\n",
    "\n",
    "Required Arguments type defines the data type. Available ArgTypes are:\n",
    "\n",
    "* ArgType.BOOLEAN\n",
    "* ArgType.STRING\n",
    "* ArgType.NUMBER\n",
    "\n",
    "\n",
    "## How to create a Menu?\n",
    "\n",
    "Menus can include a Callback or not. Menus without callback are useful for holding Submenus.\n",
    "\n",
    "```gap\n",
    "gap> callback := Callback(MyCallbackFunction);\n",
    "gap> menu := Menu(\"Example Holder Menu\");\n",
    "gap> submenu := Menu(\"I'm a Submenu!\", callback);\n",
    "gap> Add(menu, submenu);\n",
    "gap> Add(canvas, menu);\n",
    "```\n",
    "\n",
    "Or as a top Menu:\n",
    "\n",
    "```gap\n",
    "gap> callback := Callback(MyCallbackFunction);\n",
    "gap> menu := Menu(\"Menu\", callback);\n",
    "gap> Add(canvas, menu);\n",
    "```\n",
    "\n",
    "The same menu objects can be used in Shapes:\n",
    "* NOTE: Submenus are flatenned in context menus!*\n",
    "\n",
    "```gap\n",
    "gap> shape := Shape(SpaheType.CIRCLE); # will go throughout shapes and graphs later\n",
    "gap> Add(shape, menu);\n",
    "```"
   ]
  },
  {
   "cell_type": "code",
   "execution_count": 242,
   "metadata": {},
   "outputs": [
    {
     "data": {
      "application/vnd.francy+json": "{\"version\" : \"0.8.0\",\"mime\" : \"application\\/vnd.francy+json\",\"canvas\" : {\"width\" : 800,\"id\" : \"F95\",\"height\" : 100,\"title\" : \"Callbacks in action\",\"zoomToFit\" : true,\"texTypesetting\" : false,\"menus\" : {\"F101\" : {\"id\" : \"F101\",\"title\" : \"Hello Menu Action\",\"callback\" : {\"func\" : \"HelloWorld\",\"id\" : \"F98\",\"confirm\" : \"This is a confirmation message...\",\"trigger\" : \"click\",\"knownArgs\" : [],\"requiredArgs\" : {\"F99\" : {\"type\" : \"text\",\"id\" : \"F99\",\"title\" : \"Your Name?\",\"value\" : \"\"}}},\"menus\" : {}},\"F100\" : {\"id\" : \"F100\",\"title\" : \"Example Menu Holder\",\"callback\" : {},\"menus\" : {\"F101\" : {\"id\" : \"F101\",\"title\" : \"Hello Menu Action\",\"callback\" : {\"func\" : \"HelloWorld\",\"id\" : \"F98\",\"confirm\" : \"This is a confirmation message...\",\"trigger\" : \"click\",\"knownArgs\" : [],\"requiredArgs\" : {\"F99\" : {\"type\" : \"text\",\"id\" : \"F99\",\"title\" : \"Your Name?\",\"value\" : \"\"}}},\"menus\" : {}}}}},\"graph\" : {\"type\" : \"undirected\",\"id\" : \"F96\",\"simulation\" : true,\"collapsed\" : true,\"drag\" : false,\"showNeighbours\" : false,\"nodes\" : {\"F97\" : {\"x\" : 0,\"y\" : 0,\"type\" : \"circle\",\"id\" : \"F97\",\"size\" : 10,\"title\" : \"\",\"color\" : \"#2E8B57\",\"layer\" : 0,\"parent\" : \"\",\"menus\" : {\"F101\" : {\"id\" : \"F101\",\"title\" : \"Hello Menu Action\",\"callback\" : {\"func\" : \"HelloWorld\",\"id\" : \"F98\",\"confirm\" : \"This is a confirmation message...\",\"trigger\" : \"click\",\"knownArgs\" : [],\"requiredArgs\" : {\"F99\" : {\"type\" : \"text\",\"id\" : \"F99\",\"title\" : \"Your Name?\",\"value\" : \"\"}}},\"menus\" : {}}},\"messages\" : {},\"callbacks\" : {}}},\"links\" : {}},\"messages\" : {}}}"
     },
     "execution_count": 242,
     "metadata": {
      "application/vnd.francy+json": {}
     },
     "output_type": "execute_result"
    }
   ],
   "source": [
    "canvas2 := Canvas(\"Callbacks in action\");;\n",
    "SetHeight(canvas2, 100);;\n",
    "\n",
    "graph := Graph(GraphType.UNDIRECTED);; # will go throughout graphs later\n",
    "shape := Shape(ShapeType.CIRCLE);; # will go throughout shapes later\n",
    "SetColor(shape, \"#2E8B57\");;\n",
    "Add(graph, shape);;\n",
    "Add(canvas2, graph);;\n",
    "\n",
    "HelloWorld := function(name)\n",
    "    Add(canvas2, FrancyMessage(Concatenation(\"Hello, \", name))); #  will go throughout messages later\n",
    "    return Draw(canvas2);\n",
    "end;;\n",
    "\n",
    "callback1 := Callback(HelloWorld);;\n",
    "SetConfirmMessage(callback1, \"This is a confirmation message...\");;\n",
    "arg1 := RequiredArg(ArgType.STRING, \"Your Name?\");;\n",
    "Add(callback1, arg1);;\n",
    "\n",
    "menu := Menu(\"Example Menu Holder\");;\n",
    "menu1 := Menu( \"Hello Menu Action\", callback1 );;\n",
    "Add(menu, menu1);;\n",
    "\n",
    "Add(canvas2, menu);;\n",
    "Add(canvas2, menu1);;\n",
    "Add(shape, menu1);;\n",
    "\n",
    "Draw(canvas2);"
   ]
  },
  {
   "cell_type": "code",
   "execution_count": 259,
   "metadata": {},
   "outputs": [
    {
     "data": {
      "application/vnd.francy+json": "{\"version\" : \"0.8.0\",\"mime\" : \"application\\/vnd.francy+json\",\"canvas\" : {\"width\" : 800,\"id\" : \"F102\",\"height\" : 100,\"title\" : \"Example Callbacks with Known Arguments\",\"zoomToFit\" : true,\"texTypesetting\" : false,\"menus\" : {},\"graph\" : {\"type\" : \"directed\",\"id\" : \"F103\",\"simulation\" : true,\"collapsed\" : true,\"drag\" : false,\"showNeighbours\" : false,\"nodes\" : {\"F104\" : {\"x\" : 0,\"y\" : 0,\"type\" : \"circle\",\"id\" : \"F104\",\"size\" : 10,\"title\" : \"Click Me 1\",\"color\" : \"\",\"layer\" : 0,\"parent\" : \"\",\"menus\" : {},\"messages\" : {},\"callbacks\" : {\"F106\" : {\"func\" : \"WhichNode\",\"id\" : \"F106\",\"trigger\" : \"click\",\"knownArgs\" : [\"<object>\"],\"requiredArgs\" : {}}}},\"F105\" : {\"x\" : 0,\"y\" : 0,\"type\" : \"circle\",\"id\" : \"F105\",\"size\" : 10,\"title\" : \"Click Me 2\",\"color\" : \"\",\"layer\" : 0,\"parent\" : \"\",\"menus\" : {},\"messages\" : {},\"callbacks\" : {\"F107\" : {\"func\" : \"WhichNode\",\"id\" : \"F107\",\"trigger\" : \"click\",\"knownArgs\" : [\"<object>\"],\"requiredArgs\" : {}}}}},\"links\" : {\"F108\" : {\"id\" : \"F108\",\"source\" : \"F104\",\"weight\" : 2,\"title\" : \"or\",\"color\" : \"red\",\"target\" : \"F105\"}}},\"messages\" : {}}}"
     },
     "execution_count": 259,
     "metadata": {
      "application/vnd.francy+json": {}
     },
     "output_type": "execute_result"
    }
   ],
   "source": [
    "canvas3 := Canvas(\"Example Callbacks with Known Arguments\");;\n",
    "SetHeight(canvas3, 100);;\n",
    "\n",
    "graph := Graph(GraphType.DIRECTED);;\n",
    "\n",
    "shape := Shape(ShapeType.CIRCLE, \"Click Me 1\");;\n",
    "shape1 := Shape(ShapeType.CIRCLE, \"Click Me 2\");;\n",
    "Add(graph, shape);;\n",
    "Add(graph, shape1);;\n",
    "\n",
    "WhichNode := function(node)\n",
    "    Add(canvas3, FrancyMessage(node!.title));\n",
    "    return Draw(canvas3);\n",
    "end;;\n",
    "\n",
    "Add(shape, Callback(WhichNode, [shape]));; # similar to Add(shape, Callback(TriggerEvent.CLICK, WhichNode, [shape]));\n",
    "Add(shape1, Callback(WhichNode, [shape1]));; # similar to Add(shape1, Callback(TriggerEvent.CLICK, WhichNode, [shape1]));\n",
    "\n",
    "link := Link(shape, shape1);;\n",
    "SetWeight(link, 2);;\n",
    "SetColor(link, \"red\");;\n",
    "SetTitle(link, \"or\");;\n",
    "Add(graph, link);;\n",
    "\n",
    "Add(canvas3, graph);;\n",
    "\n",
    "Draw(canvas3);"
   ]
  },
  {
   "cell_type": "markdown",
   "metadata": {},
   "source": [
    "# Messages\n",
    "\n",
    "Messages are usefull for providing information to the user. Messages can be added to the Canvas and/or to Shapes.\n",
    "\n",
    "Messages added to a Canvas are displayed as messages using colors to differentiate types, they appear on the top left corner and can be dismissed by clicking on them.\n",
    "\n",
    "Messages added to a Shape are displayed as tooltips and their types are not taken in account, they appear when the user moves the mouse hover the Shape.\n",
    "\n",
    "## How to create Messages?\n",
    "\n",
    "Once again, creating messages is fairly simple and depends on the purpose of the message.\n",
    "\n",
    "Messages can be of the following types:\n",
    "\n",
    "* FrancyMessageType.INFO\n",
    "* FrancyMessageType.ERROR\n",
    "* FrancyMessageType.SUCCESS\n",
    "* FrancyMessageType.WARNING\n",
    "* FrancyMessageType.DEFAULT\n",
    "\n",
    "The simplest Message with the default type would be:\n",
    "\n",
    "```gap\n",
    "gap> FrancyMessage(\"Hello\", \"World\"); # title and text\n",
    "gap> FrancyMessage(\"Hello\"); # without title\n",
    "```\n",
    "\n",
    "Messages with a custom type:\n",
    "\n",
    "```gap\n",
    "gap> FrancyMessage(FrancyMessageType.INFO, \"Hello\", \"World\"); # title and text\n",
    "gap> FrancyMessage(FrancyMessageType.INFO, \"Hello\"); # without title\n",
    "```"
   ]
  },
  {
   "cell_type": "code",
   "execution_count": 271,
   "metadata": {},
   "outputs": [
    {
     "data": {
      "application/vnd.francy+json": "{\"version\" : \"0.8.0\",\"mime\" : \"application\\/vnd.francy+json\",\"canvas\" : {\"width\" : 800,\"id\" : \"F109\",\"height\" : 100,\"title\" : \"Example Callbacks with Known Arguments\",\"zoomToFit\" : true,\"texTypesetting\" : false,\"menus\" : {},\"graph\" : {\"type\" : \"directed\",\"id\" : \"F110\",\"simulation\" : true,\"collapsed\" : true,\"drag\" : false,\"showNeighbours\" : false,\"nodes\" : {\"F111\" : {\"x\" : 0,\"y\" : 0,\"type\" : \"circle\",\"id\" : \"F111\",\"size\" : 10,\"title\" : \"Click Me\",\"color\" : \"\",\"layer\" : 0,\"parent\" : \"\",\"menus\" : {},\"messages\" : {},\"callbacks\" : {\"F113\" : {\"func\" : \"WhichNode\",\"id\" : \"F113\",\"trigger\" : \"click\",\"knownArgs\" : [\"<object>\",\"<object>\"],\"requiredArgs\" : {}}}},\"F112\" : {\"x\" : 0,\"y\" : 0,\"type\" : \"circle\",\"id\" : \"F112\",\"size\" : 10,\"title\" : \"Click Me\",\"color\" : \"\",\"layer\" : 0,\"parent\" : \"\",\"menus\" : {},\"messages\" : {},\"callbacks\" : {\"F114\" : {\"func\" : \"WhichNode\",\"id\" : \"F114\",\"trigger\" : \"click\",\"knownArgs\" : [\"<object>\",\"<object>\"],\"requiredArgs\" : {}}}}},\"links\" : {}},\"messages\" : {}}}"
     },
     "execution_count": 271,
     "metadata": {
      "application/vnd.francy+json": {}
     },
     "output_type": "execute_result"
    }
   ],
   "source": [
    "canvas4 := Canvas(\"Example Callbacks with Known Arguments\");;\n",
    "SetHeight(canvas4, 100);;\n",
    "\n",
    "graph := Graph(GraphType.DIRECTED);;\n",
    "Add(canvas4, graph);;\n",
    "\n",
    "shape := Shape(ShapeType.CIRCLE, \"Click Me\");;\n",
    "shape1 := Shape(ShapeType.CIRCLE, \"Click Me\");;\n",
    "Add(graph, shape);;\n",
    "Add(graph, shape1);;\n",
    "\n",
    "WhichNode := function(c, node)\n",
    "    Add(c, FrancyMessage(String(node!.title)));\n",
    "    return Draw(c);\n",
    "end;;\n",
    "\n",
    "Add(shape, Callback(WhichNode, [canvas4, shape]));; # similar to Add(shape, Callback(TriggerEvent.CLICK, WhichNode, [shape]));\n",
    "Add(shape1, Callback(WhichNode, [canvas4, shape1]));; # similar to Add(shape1, Callback(TriggerEvent.CLICK, WhichNode, [shape1]));\n",
    "\n",
    "Draw(canvas4);"
   ]
  },
  {
   "cell_type": "code",
   "execution_count": 289,
   "metadata": {},
   "outputs": [
    {
     "data": {
      "application/vnd.francy+json": "{\"version\" : \"0.8.0\",\"mime\" : \"application\\/vnd.francy+json\",\"canvas\" : {\"width\" : 800,\"id\" : \"F115\",\"height\" : 600,\"title\" : \"Example Canvas \\/ Shape with Messages\",\"zoomToFit\" : true,\"texTypesetting\" : true,\"menus\" : {},\"graph\" : {\"type\" : \"undirected\",\"id\" : \"F116\",\"simulation\" : true,\"collapsed\" : true,\"drag\" : false,\"showNeighbours\" : false,\"nodes\" : {\"F117\" : {\"x\" : 0,\"y\" : 0,\"type\" : \"circle\",\"id\" : \"F117\",\"size\" : 10,\"title\" : \"\",\"color\" : \"\",\"layer\" : 0,\"parent\" : \"\",\"menus\" : {},\"messages\" : {\"F119\" : {\"type\" : \"info\",\"id\" : \"F119\",\"text\" : \"Hello $x^2$\",\"title\" : \"\"},\"F121\" : {\"type\" : \"error\",\"id\" : \"F121\",\"text\" : \"Hello\",\"title\" : \"Oops\"},\"F123\" : {\"type\" : \"warning\",\"id\" : \"F123\",\"text\" : \"Hello\",\"title\" : \"\"},\"F125\" : {\"type\" : \"success\",\"id\" : \"F125\",\"text\" : \"Hello\",\"title\" : \"\"},\"F127\" : {\"type\" : \"default\",\"id\" : \"F127\",\"text\" : \"World\",\"title\" : \"Hello\"}},\"callbacks\" : {}}},\"links\" : {}},\"messages\" : {\"F118\" : {\"type\" : \"info\",\"id\" : \"F118\",\"text\" : \"Hello $x^2$\",\"title\" : \"\"},\"F120\" : {\"type\" : \"error\",\"id\" : \"F120\",\"text\" : \"Hello\",\"title\" : \"Oops\"},\"F122\" : {\"type\" : \"warning\",\"id\" : \"F122\",\"text\" : \"Hello\",\"title\" : \"\"},\"F124\" : {\"type\" : \"success\",\"id\" : \"F124\",\"text\" : \"Hello\",\"title\" : \"\"},\"F126\" : {\"type\" : \"default\",\"id\" : \"F126\",\"text\" : \"World\",\"title\" : \"Hello\"}}}}"
     },
     "execution_count": 289,
     "metadata": {
      "application/vnd.francy+json": {}
     },
     "output_type": "execute_result"
    }
   ],
   "source": [
    "canvas5 := Canvas(\"Example Canvas / Shape with Messages\");;\n",
    "SetTexTypesetting(canvas5, true);;\n",
    "SetHeight(canvas, 100);;\n",
    "\n",
    "graph := Graph(GraphType.UNDIRECTED);; # will go throughout graphs later\n",
    "shape := Shape(ShapeType.CIRCLE);; # will go throughout shapes later\n",
    "Add(graph, shape);;\n",
    "Add(canvas5, graph);;\n",
    "\n",
    "Add(canvas5, FrancyMessage(FrancyMessageType.INFO, \"Hello $x^2$\"));;\n",
    "Add(shape, FrancyMessage(FrancyMessageType.INFO, \"Hello $x^2$\"));;\n",
    "Add(canvas5, FrancyMessage(FrancyMessageType.ERROR, \"Oops\", \"Hello\"));;\n",
    "Add(shape, FrancyMessage(FrancyMessageType.ERROR, \"Oops\", \"Hello\"));;\n",
    "Add(canvas5, FrancyMessage(FrancyMessageType.WARNING, \"Hello\"));;\n",
    "Add(shape, FrancyMessage(FrancyMessageType.WARNING, \"Hello\"));;\n",
    "Add(canvas5, FrancyMessage(FrancyMessageType.SUCCESS, \"Hello\"));;\n",
    "Add(shape, FrancyMessage(FrancyMessageType.SUCCESS, \"Hello\"));;\n",
    "Add(canvas5, FrancyMessage(\"Hello\", \"World\"));;\n",
    "Add(shape, FrancyMessage(\"Hello\", \"World\"));;\n",
    "\n",
    "Draw(canvas5);"
   ]
  },
  {
   "cell_type": "markdown",
   "metadata": {},
   "source": [
    "# Graphs\n",
    "\n",
    "Graphs, according to wikipedia: *a graph is a structure amounting to a set of objects in which some pairs of the objects are in some sense \"related\"*\n",
    "\n",
    "In Francy, Graphs can be created using Shapes (nodes) and Links (edges). Francy, in this case the D3 library, will try its best to shape the graph according to a set of \"forces\". If the Shapes provide x and y coordinates, these will be used instead and the graph will be fixed to those.\n",
    "\n",
    "Supported GraphTypes are:\n",
    "\n",
    "* GraphType.UNDIRECTED\n",
    "* GraphType.DIRECTED\n",
    "* GraphType.TREE\n",
    "\n",
    "By default, Graphs are created with default options set to:\n",
    "\n",
    "* GraphDefaults.simulation [true] - does not work on type **tree**. applies d3 forces to the diagram and arranges the nodes without fixed positions\n",
    "* GraphDefaults.drag [true] - does not work on type **tree**. allows the user to interact my dragging noes around\n",
    "* GraphDefaults.collapsed [true] - only works on type **tree**! whether the graph will be collapsed or not by default.\n",
    "* GraphDefaults.showNeighbours [true] - does not work on type **tree**. Whether default behavior of clicking is to show the neighbours of the selected node.\n",
    "\n",
    "Supported ShapeTypes are (Node Shapes):\n",
    "\n",
    "* ShapeType.TRIANGLE\n",
    "* ShapeType.DIAMOND\n",
    "* ShapeType.CIRCLE\n",
    "* ShapeType.SQUARE\n",
    "* ShapeType.CROSS\n",
    "* ShapeType.STAR\n",
    "* ShapeType.WYE\n",
    "\n",
    "By default, Shapes are created with default options set to:\n",
    "\n",
    "* ShapeDefaults.highlight [true]\n",
    "* ShapeDefaults.layer [0] - used to creat hasse diagrams to set indexes\n",
    "* ShapeDefaults.size [10]\n",
    "* ShapeDefaults.x [0] - x position in canvas\n",
    "* ShapeDefaults.y [0] - y position in canvas\n",
    "\n",
    "*NOTE: Please note that Francy is not a Graph Library and thus no graph operations, in mathematical terms, are available*\n",
    "\n",
    "## How to create Graphs?\n",
    "\n",
    "Let's see how to create a graph of each type, starting with the Hasse. The Hasse diagram requires the layer to be set, in order to fix y positions to this layer option:\n",
    "\n",
    "```gap\n",
    "gap> graph := Graph(GraphType.UNDIRECTED);\n",
    "gap> shape := Shape(ShapeType.CIRCLE, \"Title\");\n",
    "gap> SetLayer(shape, 1);\n",
    "gap> shape1 := Shape(ShapeType.CIRCLE);\n",
    "gap> SetLayer(shape1, 2);\n",
    "gap> link := Link(shape, shape1);\n",
    "gap> Add(graph, shape);\n",
    "gap> Add(graph, shape1);\n",
    "gap> Add(graph, link);\n",
    "```\n",
    "\n",
    "*NOTE: This might change in order to ease the creation of HASSE diagrams without having to specify the layer. Suggestions are welcome!*\n",
    "\n",
    "A Directed graph instead is simpler:\n",
    "\n",
    "```gap\n",
    "gap> graph := Graph(GraphType.DIRECTED);\n",
    "gap> shape := Shape(ShapeType.CIRCLE, \"Title\");\n",
    "gap> shape1 := Shape(ShapeType.CIRCLE);\n",
    "gap> link := Link(shape, shape1);\n",
    "gap> Add(graph, shape);\n",
    "gap> Add(graph, shape1);\n",
    "gap> Add(graph, link);\n",
    "```\n",
    "\n",
    "Undirected graphs are as simple as Directed ones, but the arrows are not present:\n",
    "\n",
    "```gap\n",
    "gap> graph := Graph(GraphType.UNDIRECTED);\n",
    "gap> shape := Shape(ShapeType.CIRCLE, \"Title\");\n",
    "gap> shape1 := Shape(ShapeType.CIRCLE);\n",
    "gap> link := Link(shape, shape1);\n",
    "gap> Add(graph, shape);\n",
    "gap> Add(graph, shape1);\n",
    "gap> Add(graph, link);\n",
    "```\n",
    "\n",
    "Tree graphs are as simple as the previous ones, but you need to specify the parent node:\n",
    "\n",
    "```gap\n",
    "gap> graph := Graph(GraphType.TREE);\n",
    "gap> shape := Shape(ShapeType.CIRCLE, \"Title\");\n",
    "gap> shape1 := Shape(ShapeType.CIRCLE);\n",
    "gap> Add(graph, shape);\n",
    "gap> Add(graph, shape1);\n",
    "gap> SetParentShape(shape1, shape);\n",
    "```\n",
    "\n",
    "**NOTE: Blue nodes are clickable on trees and allows to expand and collapse.**"
   ]
  },
  {
   "cell_type": "code",
   "execution_count": 302,
   "metadata": {},
   "outputs": [
    {
     "data": {
      "application/vnd.francy+json": "{\"version\" : \"0.8.0\",\"mime\" : \"application\\/vnd.francy+json\",\"canvas\" : {\"width\" : 800,\"id\" : \"F128\",\"height\" : 100,\"title\" : \"Example HASSE Graph\",\"zoomToFit\" : true,\"texTypesetting\" : false,\"menus\" : {},\"graph\" : {\"type\" : \"undirected\",\"id\" : \"F129\",\"simulation\" : true,\"collapsed\" : true,\"drag\" : false,\"showNeighbours\" : false,\"nodes\" : {\"F130\" : {\"x\" : 0,\"y\" : 0,\"type\" : \"circle\",\"id\" : \"F130\",\"size\" : 10,\"title\" : \"G\",\"color\" : \"\",\"layer\" : 1,\"parent\" : \"\",\"menus\" : {},\"messages\" : {},\"callbacks\" : {}},\"F131\" : {\"x\" : 0,\"y\" : 0,\"type\" : \"circle\",\"id\" : \"F131\",\"size\" : 10,\"title\" : \"1\",\"color\" : \"\",\"layer\" : 2,\"parent\" : \"\",\"menus\" : {},\"messages\" : {},\"callbacks\" : {}}},\"links\" : {\"F132\" : {\"id\" : \"F132\",\"source\" : \"F130\",\"weight\" : 1,\"color\" : \"\",\"target\" : \"F131\"}}},\"messages\" : {}}}"
     },
     "execution_count": 302,
     "metadata": {
      "application/vnd.francy+json": {}
     },
     "output_type": "execute_result"
    }
   ],
   "source": [
    "canvas6 := Canvas(\"Example HASSE Graph\");;\n",
    "SetHeight(canvas6, 100);;\n",
    "\n",
    "graph := Graph(GraphType.UNDIRECTED);;\n",
    "\n",
    "shape := Shape(ShapeType.CIRCLE, \"G\");;\n",
    "SetLayer(shape, 1);;\n",
    "shape1 := Shape(ShapeType.CIRCLE, \"1\");;\n",
    "SetLayer(shape1, 2);;\n",
    "Add(graph, shape);;\n",
    "Add(graph, shape1);;\n",
    "\n",
    "link := Link(shape, shape1);;\n",
    "Add(graph, link);;\n",
    "\n",
    "Add(canvas6, graph);;\n",
    "\n",
    "Draw(canvas6);"
   ]
  },
  {
   "cell_type": "code",
   "execution_count": 315,
   "metadata": {},
   "outputs": [
    {
     "data": {
      "application/vnd.francy+json": "{\"version\" : \"0.8.0\",\"mime\" : \"application\\/vnd.francy+json\",\"canvas\" : {\"width\" : 800,\"id\" : \"F133\",\"height\" : 100,\"title\" : \"Example DIRECTED Graph\",\"zoomToFit\" : true,\"texTypesetting\" : false,\"menus\" : {},\"graph\" : {\"type\" : \"directed\",\"id\" : \"F134\",\"simulation\" : true,\"collapsed\" : true,\"drag\" : false,\"showNeighbours\" : false,\"nodes\" : {\"F135\" : {\"x\" : 0,\"y\" : 0,\"type\" : \"circle\",\"id\" : \"F135\",\"size\" : 10,\"title\" : \"G\",\"color\" : \"\",\"layer\" : 1,\"parent\" : \"\",\"menus\" : {},\"messages\" : {},\"callbacks\" : {}},\"F136\" : {\"x\" : 0,\"y\" : 0,\"type\" : \"circle\",\"id\" : \"F136\",\"size\" : 10,\"title\" : \"1\",\"color\" : \"\",\"layer\" : 2,\"parent\" : \"\",\"menus\" : {},\"messages\" : {},\"callbacks\" : {}}},\"links\" : {\"F137\" : {\"id\" : \"F137\",\"source\" : \"F135\",\"weight\" : 1,\"color\" : \"\",\"target\" : \"F136\"}}},\"messages\" : {}}}"
     },
     "execution_count": 315,
     "metadata": {
      "application/vnd.francy+json": {}
     },
     "output_type": "execute_result"
    }
   ],
   "source": [
    "canvas7 := Canvas(\"Example DIRECTED Graph\");;\n",
    "SetHeight(canvas7, 100);;\n",
    "\n",
    "graph := Graph(GraphType.DIRECTED);;\n",
    "\n",
    "shape := Shape(ShapeType.CIRCLE, \"G\");;\n",
    "SetLayer(shape, 1);;\n",
    "shape1 := Shape(ShapeType.CIRCLE, \"1\");;\n",
    "SetLayer(shape1, 2);;\n",
    "Add(graph, shape);;\n",
    "Add(graph, shape1);;\n",
    "\n",
    "link := Link(shape, shape1);;\n",
    "Add(graph, link);;\n",
    "\n",
    "Add(canvas7, graph);;\n",
    "\n",
    "Draw(canvas7);"
   ]
  },
  {
   "cell_type": "code",
   "execution_count": 328,
   "metadata": {},
   "outputs": [
    {
     "data": {
      "application/vnd.francy+json": "{\"version\" : \"0.8.0\",\"mime\" : \"application\\/vnd.francy+json\",\"canvas\" : {\"width\" : 800,\"id\" : \"F138\",\"height\" : 100,\"title\" : \"Example UNDIRECTED Graph\",\"zoomToFit\" : true,\"texTypesetting\" : false,\"menus\" : {},\"graph\" : {\"type\" : \"undirected\",\"id\" : \"F139\",\"simulation\" : true,\"collapsed\" : true,\"drag\" : false,\"showNeighbours\" : false,\"nodes\" : {\"F140\" : {\"x\" : 0,\"y\" : 0,\"type\" : \"circle\",\"id\" : \"F140\",\"size\" : 10,\"title\" : \"G\",\"color\" : \"\",\"layer\" : 1,\"parent\" : \"\",\"menus\" : {},\"messages\" : {},\"callbacks\" : {}},\"F141\" : {\"x\" : 0,\"y\" : 0,\"type\" : \"circle\",\"id\" : \"F141\",\"size\" : 10,\"title\" : \"1\",\"color\" : \"\",\"layer\" : 2,\"parent\" : \"\",\"menus\" : {},\"messages\" : {},\"callbacks\" : {}}},\"links\" : {\"F142\" : {\"id\" : \"F142\",\"source\" : \"F140\",\"weight\" : 1,\"color\" : \"\",\"target\" : \"F141\"}}},\"messages\" : {}}}"
     },
     "execution_count": 328,
     "metadata": {
      "application/vnd.francy+json": {}
     },
     "output_type": "execute_result"
    }
   ],
   "source": [
    "canvas8 := Canvas(\"Example UNDIRECTED Graph\");;\n",
    "SetHeight(canvas8, 100);;\n",
    "\n",
    "graph := Graph(GraphType.UNDIRECTED);;\n",
    "\n",
    "shape := Shape(ShapeType.CIRCLE, \"G\");;\n",
    "SetLayer(shape, 1);;\n",
    "shape1 := Shape(ShapeType.CIRCLE, \"1\");;\n",
    "SetLayer(shape1, 2);;\n",
    "Add(graph, shape);;\n",
    "Add(graph, shape1);;\n",
    "\n",
    "link := Link(shape, shape1);;\n",
    "Add(graph, link);;\n",
    "\n",
    "Add(canvas8, graph);;\n",
    "\n",
    "Draw(canvas8);"
   ]
  },
  {
   "cell_type": "code",
   "execution_count": 352,
   "metadata": {},
   "outputs": [
    {
     "data": {
      "application/vnd.francy+json": "{\"version\" : \"0.8.0\",\"mime\" : \"application\\/vnd.francy+json\",\"canvas\" : {\"width\" : 800,\"id\" : \"F143\",\"height\" : 100,\"title\" : \"Example Multiple Shapes Graph\",\"zoomToFit\" : true,\"texTypesetting\" : false,\"menus\" : {},\"graph\" : {\"type\" : \"undirected\",\"id\" : \"F144\",\"simulation\" : true,\"collapsed\" : true,\"drag\" : false,\"showNeighbours\" : false,\"nodes\" : {\"F145\" : {\"x\" : 0,\"y\" : 0,\"type\" : \"diamond\",\"id\" : \"F145\",\"size\" : 10,\"title\" : \"G\",\"color\" : \"\",\"layer\" : 0,\"parent\" : \"\",\"menus\" : {},\"messages\" : {},\"callbacks\" : {}},\"F146\" : {\"x\" : 0,\"y\" : 0,\"type\" : \"wye\",\"id\" : \"F146\",\"size\" : 10,\"title\" : \"1\",\"color\" : \"\",\"layer\" : 0,\"parent\" : \"\",\"menus\" : {},\"messages\" : {},\"callbacks\" : {}},\"F147\" : {\"x\" : 0,\"y\" : 0,\"type\" : \"square\",\"id\" : \"F147\",\"size\" : 10,\"title\" : \"SG1\",\"color\" : \"\",\"layer\" : 0,\"parent\" : \"\",\"menus\" : {},\"messages\" : {},\"callbacks\" : {}},\"F149\" : {\"x\" : 0,\"y\" : 0,\"type\" : \"triangle\",\"id\" : \"F149\",\"size\" : 10,\"title\" : \"SG2\",\"color\" : \"\",\"layer\" : 0,\"parent\" : \"\",\"menus\" : {},\"messages\" : {},\"callbacks\" : {}},\"F152\" : {\"x\" : 0,\"y\" : 0,\"type\" : \"cross\",\"id\" : \"F152\",\"size\" : 10,\"title\" : \"SG3\",\"color\" : \"\",\"layer\" : 0,\"parent\" : \"\",\"menus\" : {},\"messages\" : {},\"callbacks\" : {}},\"F155\" : {\"x\" : 0,\"y\" : 0,\"type\" : \"star\",\"id\" : \"F155\",\"size\" : 10,\"title\" : \"SG4\",\"color\" : \"\",\"layer\" : 0,\"parent\" : \"\",\"menus\" : {},\"messages\" : {},\"callbacks\" : {}}},\"links\" : {\"F148\" : {\"id\" : \"F148\",\"source\" : \"F145\",\"weight\" : 1,\"color\" : \"\",\"target\" : \"F147\"},\"F150\" : {\"id\" : \"F150\",\"source\" : \"F147\",\"weight\" : 1,\"color\" : \"\",\"target\" : \"F149\"},\"F151\" : {\"id\" : \"F151\",\"source\" : \"F149\",\"weight\" : 1,\"color\" : \"\",\"target\" : \"F146\"},\"F153\" : {\"id\" : \"F153\",\"source\" : \"F147\",\"weight\" : 1,\"color\" : \"\",\"target\" : \"F152\"},\"F154\" : {\"id\" : \"F154\",\"source\" : \"F152\",\"weight\" : 1,\"color\" : \"\",\"target\" : \"F146\"},\"F156\" : {\"id\" : \"F156\",\"source\" : \"F147\",\"weight\" : 1,\"color\" : \"\",\"target\" : \"F155\"},\"F157\" : {\"id\" : \"F157\",\"source\" : \"F155\",\"weight\" : 1,\"color\" : \"\",\"target\" : \"F146\"}}},\"messages\" : {}}}"
     },
     "execution_count": 352,
     "metadata": {
      "application/vnd.francy+json": {}
     },
     "output_type": "execute_result"
    }
   ],
   "source": [
    "canvas9 := Canvas(\"Example Multiple Shapes Graph\");;\n",
    "SetHeight(canvas9, 100);;\n",
    "\n",
    "graph := Graph(GraphType.UNDIRECTED);;\n",
    "\n",
    "shapeG := Shape(ShapeType.DIAMOND, \"G\");;\n",
    "Add(graph, shapeG);;\n",
    "shape1 := Shape(ShapeType.WYE, \"1\");;\n",
    "Add(graph, shape1);;\n",
    "\n",
    "shapeSG1 := Shape(ShapeType.SQUARE, \"SG1\");;\n",
    "Add(graph, shapeSG1);;\n",
    "Add(graph, Link(shapeG, shapeSG1));;\n",
    "\n",
    "shapeSG2 := Shape(ShapeType.TRIANGLE, \"SG2\");;\n",
    "Add(graph, shapeSG2);;\n",
    "Add(graph, Link(shapeSG1, shapeSG2));;\n",
    "Add(graph, Link(shapeSG2, shape1));;\n",
    "\n",
    "shapeSG3 := Shape(ShapeType.CROSS, \"SG3\");;\n",
    "Add(graph, shapeSG3);;\n",
    "Add(graph, Link(shapeSG1, shapeSG3));;\n",
    "Add(graph, Link(shapeSG3, shape1));;\n",
    "\n",
    "shapeSG4 := Shape(ShapeType.STAR, \"SG4\");;\n",
    "Add(graph, shapeSG4);;\n",
    "Add(graph, Link(shapeSG1, shapeSG4));;\n",
    "Add(graph, Link(shapeSG4, shape1));;\n",
    "\n",
    "Add(canvas9, graph);;\n",
    "\n",
    "Draw(canvas9);"
   ]
  },
  {
   "cell_type": "code",
   "execution_count": 369,
   "metadata": {},
   "outputs": [
    {
     "data": {
      "application/vnd.francy+json": "{\"version\" : \"0.8.0\",\"mime\" : \"application\\/vnd.francy+json\",\"canvas\" : {\"width\" : 800,\"id\" : \"F158\",\"height\" : 100,\"title\" : \"Example Tree Graph\",\"zoomToFit\" : true,\"texTypesetting\" : false,\"menus\" : {},\"graph\" : {\"type\" : \"tree\",\"id\" : \"F159\",\"simulation\" : true,\"collapsed\" : false,\"drag\" : false,\"showNeighbours\" : false,\"nodes\" : {\"F160\" : {\"x\" : 0,\"y\" : 0,\"type\" : \"circle\",\"id\" : \"F160\",\"size\" : 10,\"title\" : \"G\",\"color\" : \"\",\"layer\" : 0,\"parent\" : \"F161\",\"menus\" : {},\"messages\" : {},\"callbacks\" : {}},\"F161\" : {\"x\" : 0,\"y\" : 0,\"type\" : \"square\",\"id\" : \"F161\",\"size\" : 10,\"title\" : \"1\",\"color\" : \"\",\"layer\" : 0,\"parent\" : \"\",\"menus\" : {},\"messages\" : {},\"callbacks\" : {}},\"F162\" : {\"x\" : 0,\"y\" : 0,\"type\" : \"circle\",\"id\" : \"F162\",\"size\" : 10,\"title\" : \"SG1\",\"color\" : \"\",\"layer\" : 0,\"parent\" : \"F160\",\"menus\" : {},\"messages\" : {},\"callbacks\" : {}},\"F163\" : {\"x\" : 0,\"y\" : 0,\"type\" : \"circle\",\"id\" : \"F163\",\"size\" : 10,\"title\" : \"SG2\",\"color\" : \"\",\"layer\" : 0,\"parent\" : \"F160\",\"menus\" : {},\"messages\" : {},\"callbacks\" : {}}},\"links\" : {}},\"messages\" : {}}}"
     },
     "execution_count": 369,
     "metadata": {
      "application/vnd.francy+json": {}
     },
     "output_type": "execute_result"
    }
   ],
   "source": [
    "canvas10 := Canvas(\"Example Tree Graph\");;\n",
    "SetHeight(canvas10, 100);;\n",
    "\n",
    "graph := Graph(GraphType.TREE);;\n",
    "SetCollapsed(graph, false);;\n",
    "\n",
    "shapeG := Shape(ShapeType.CIRCLE, \"G\");;\n",
    "Add(graph, shapeG);;\n",
    "\n",
    "shape1 := Shape(ShapeType.SQUARE, \"1\");;\n",
    "Add(graph, shape1);;\n",
    "\n",
    "shapeSG1 := Shape(ShapeType.CIRCLE, \"SG1\");;\n",
    "Add(graph, shapeSG1);;\n",
    "\n",
    "shapeSG2 := Shape(ShapeType.CIRCLE, \"SG2\");;\n",
    "Add(graph, shapeSG2);;\n",
    "\n",
    "\n",
    "SetParentShape(shapeG, shape1);;\n",
    "SetParentShape(shapeSG1, shapeG);;\n",
    "SetParentShape(shapeSG2, shapeG);;\n",
    "\n",
    "Add(canvas10, graph);;\n",
    "\n",
    "Draw(canvas10);"
   ]
  },
  {
   "cell_type": "markdown",
   "metadata": {},
   "source": [
    "# Charts\n",
    "\n",
    "Charts are another graphical way to represent data.\n",
    "\n",
    "Supported ChartTypes:\n",
    "\n",
    "* ChartType.LINE\n",
    "* ChartType.BAR\n",
    "* ChartType.SCATTER\n",
    "\n",
    "By default, Chart are created with default options set to:\n",
    "\n",
    "* ChartDefaults.labels [true]\n",
    "* ChartDefaults.legend [true]\n",
    "\n",
    "## How to create Charts?\n",
    "\n",
    "Let's see how to create a Chart of each type, starting with the LINE. LINE Charts don't support providing a custom domain, this needs more work!\n",
    "\n",
    "```gap\n",
    "gap> chart := Chart(ChartType.LINE);\n",
    "gap> SetAxisXTitle(chart, \"X Axis\");\n",
    "gap> SetAxisYTitle(chart, \"Y Axis\");\n",
    "\n",
    "gap> data1 := Dataset(\"data1\", [100,20,30,47,90]);\n",
    "gap> data2 := Dataset(\"data2\", [51,60,72,38,97]);\n",
    "gap> data3 := Dataset(\"data3\", [50,60,70,80,90]);\n",
    "\n",
    "gap> Add(chart, [data1, data2, data3]);\n",
    "```\n",
    "\n",
    "The same data in a Bar Chart:\n",
    "\n",
    "```gap\n",
    "gap> chart := Chart(ChartType.BAR);\n",
    "gap> SetAxisXTitle(chart, \"X Axis\");\n",
    "gap> SetAxisXDomain(chart, [\"domain1\", \"domain2\", \"domain3\", \"domain4\", \"domain5\"]);\n",
    "gap> SetAxisYTitle(chart, \"Y Axis\");\n",
    "\n",
    "gap> data1 := Dataset(\"data1\", [100,20,30,47,90]);\n",
    "gap> data2 := Dataset(\"data2\", [51,60,72,38,97]);\n",
    "gap> data3 := Dataset(\"data3\", [50,60,70,80,90]);\n",
    "\n",
    "gap> Add(chart, [data1, data2, data3]);\n",
    "```\n",
    "\n",
    "Same data in a SCATTER Chart:\n",
    "\n",
    "\n",
    "```gap\n",
    "gap> chart := Chart(ChartType.SCATTER);\n",
    "gap> SetAxisXTitle(chart, \"X Axis\");\n",
    "gap> SetAxisYTitle(chart, \"Y Axis\");\n",
    "\n",
    "gap> data1 := Dataset(\"data1\", [100,20,30,47,90]);\n",
    "gap> data2 := Dataset(\"data2\", [51,60,72,38,97]);\n",
    "gap> data3 := Dataset(\"data3\", [50,60,70,80,90]);\n",
    "\n",
    "gap> Add(chart, [data1, data2, data3]);\n",
    "```\n",
    "\n",
    "**NOTE: Charts need more work in general**"
   ]
  },
  {
   "cell_type": "code",
   "execution_count": 380,
   "metadata": {},
   "outputs": [
    {
     "data": {
      "application/vnd.francy+json": "{\"version\" : \"0.8.0\",\"mime\" : \"application\\/vnd.francy+json\",\"canvas\" : {\"width\" : 800,\"id\" : \"F164\",\"height\" : 200,\"title\" : \"Example LINE Chart\",\"zoomToFit\" : true,\"texTypesetting\" : false,\"menus\" : {},\"chart\" : {\"type\" : \"line\",\"data\" : {\"data1\" : [\"100\",\"20\",\"30\",\"47\",\"90\"],\"data2\" : [\"51\",\"60\",\"72\",\"38\",\"97\"],\"data3\" : [\"50\",\"60\",\"70\",\"80\",\"90\"]},\"id\" : \"F165\",\"showLegend\" : true,\"axis\" : {\"x\" : {\"domain\" : [],\"title\" : \"X Axis\",\"scale\" : \"linear\"},\"y\" : {\"domain\" : [],\"title\" : \"Y Axis\",\"scale\" : \"linear\"}}},\"messages\" : {}}}"
     },
     "execution_count": 380,
     "metadata": {
      "application/vnd.francy+json": {}
     },
     "output_type": "execute_result"
    }
   ],
   "source": [
    "canvas11 := Canvas(\"Example LINE Chart\");;\n",
    "SetHeight(canvas11, 200);;\n",
    "\n",
    "chart := Chart(ChartType.LINE);;\n",
    "SetAxisXTitle(chart, \"X Axis\");;\n",
    "SetAxisYTitle(chart, \"Y Axis\");;\n",
    "\n",
    "data1 := Dataset(\"data1\", [100,20,30,47,90]);;\n",
    "data2 := Dataset(\"data2\", [51,60,72,38,97]);;\n",
    "data3 := Dataset(\"data3\", [50,60,70,80,90]);;\n",
    "\n",
    "Add(chart, [data1, data2, data3]);;\n",
    "Add(canvas11, chart);;\n",
    "\n",
    "Draw(canvas11);"
   ]
  },
  {
   "cell_type": "code",
   "execution_count": 392,
   "metadata": {},
   "outputs": [
    {
     "data": {
      "application/vnd.francy+json": "{\"version\" : \"0.8.0\",\"mime\" : \"application\\/vnd.francy+json\",\"canvas\" : {\"width\" : 800,\"id\" : \"F166\",\"height\" : 200,\"title\" : \"Example BAR Chart\",\"zoomToFit\" : true,\"texTypesetting\" : false,\"menus\" : {},\"chart\" : {\"type\" : \"bar\",\"data\" : {\"data1\" : [\"100\",\"20\",\"30\",\"47\",\"90\"],\"data2\" : [\"51\",\"60\",\"72\",\"38\",\"97\"],\"data3\" : [\"50\",\"60\",\"70\",\"80\",\"90\"]},\"id\" : \"F167\",\"showLegend\" : true,\"axis\" : {\"x\" : {\"domain\" : [\"domain1\",\"domain2\",\"domain3\",\"domain4\",\"domain5\"],\"title\" : \"X Axis\",\"scale\" : \"band\"},\"y\" : {\"domain\" : [],\"title\" : \"Y Axis\",\"scale\" : \"linear\"}}},\"messages\" : {}}}"
     },
     "execution_count": 392,
     "metadata": {
      "application/vnd.francy+json": {}
     },
     "output_type": "execute_result"
    }
   ],
   "source": [
    "canvas12 := Canvas(\"Example BAR Chart\");;\n",
    "SetHeight(canvas12, 200);;\n",
    "\n",
    "chart := Chart(ChartType.BAR);;\n",
    "SetAxisXTitle(chart, \"X Axis\");;\n",
    "SetAxisXDomain(chart, [\"domain1\", \"domain2\", \"domain3\", \"domain4\", \"domain5\"]);;\n",
    "SetAxisYTitle(chart, \"Y Axis\");;\n",
    "\n",
    "data1 := Dataset(\"data1\", [100,20,30,47,90]);;\n",
    "data2 := Dataset(\"data2\", [51,60,72,38,97]);;\n",
    "data3 := Dataset(\"data3\", [50,60,70,80,90]);;\n",
    "\n",
    "Add(chart, [data1, data2, data3]);;\n",
    "Add(canvas12, chart);;\n",
    "\n",
    "Draw(canvas12);"
   ]
  },
  {
   "cell_type": "code",
   "execution_count": 403,
   "metadata": {},
   "outputs": [
    {
     "data": {
      "application/vnd.francy+json": "{\"version\" : \"0.8.0\",\"mime\" : \"application\\/vnd.francy+json\",\"canvas\" : {\"width\" : 800,\"id\" : \"F168\",\"height\" : 200,\"title\" : \"Example SCATTER Chart\",\"zoomToFit\" : true,\"texTypesetting\" : false,\"menus\" : {},\"chart\" : {\"type\" : \"scatter\",\"data\" : {\"data1\" : [\"100\",\"20\",\"30\",\"47\",\"90\"],\"data2\" : [\"51\",\"60\",\"72\",\"38\",\"97\"],\"data3\" : [\"50\",\"60\",\"70\",\"80\",\"90\"]},\"id\" : \"F169\",\"showLegend\" : true,\"axis\" : {\"x\" : {\"domain\" : [],\"title\" : \"X Axis\",\"scale\" : \"linear\"},\"y\" : {\"domain\" : [],\"title\" : \"Y Axis\",\"scale\" : \"linear\"}}},\"messages\" : {}}}"
     },
     "execution_count": 403,
     "metadata": {
      "application/vnd.francy+json": {}
     },
     "output_type": "execute_result"
    }
   ],
   "source": [
    "canvas13 := Canvas(\"Example SCATTER Chart\");;\n",
    "SetHeight(canvas13, 200);;\n",
    "\n",
    "chart := Chart(ChartType.SCATTER);;\n",
    "SetAxisXTitle(chart, \"X Axis\");;\n",
    "SetAxisYTitle(chart, \"Y Axis\");;\n",
    "\n",
    "data1 := Dataset(\"data1\", [100,20,30,47,90]);;\n",
    "data2 := Dataset(\"data2\", [51,60,72,38,97]);;\n",
    "data3 := Dataset(\"data3\", [50,60,70,80,90]);;\n",
    "\n",
    "Add(chart, [data1, data2, data3]);;\n",
    "Add(canvas13, chart);;\n",
    "\n",
    "Draw(canvas13);"
   ]
  },
  {
   "cell_type": "code",
   "execution_count": null,
   "metadata": {},
   "outputs": [],
   "source": []
  }
 ],
 "metadata": {
  "kernelspec": {
   "display_name": "GAP 4 (native)",
   "language": "gap",
   "name": "gap-native"
  },
  "language_info": {
   "codemirror_mode": "gap",
   "file_extension": ".g",
   "mimetype": "text/x-gap",
   "name": "GAP (native)",
   "nbconvert_exporter": "",
   "pygments_lexer": "gap",
   "version": "4.dev"
  }
 },
 "nbformat": 4,
 "nbformat_minor": 2
}
