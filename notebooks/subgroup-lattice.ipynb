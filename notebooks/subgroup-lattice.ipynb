{
 "cells": [
  {
   "cell_type": "markdown",
   "metadata": {},
   "source": [
    "# Subgroup Lattice"
   ]
  },
  {
   "cell_type": "markdown",
   "metadata": {},
   "source": [
    "This is a draft version of the Subgroup Lattice module, inspired by the XGAP version, and implements few features. At the moment is possible to explore the lattice by right clicking a node and explore its properties, and by generating all subgroups lattice."
   ]
  },
  {
   "cell_type": "code",
   "execution_count": 4,
   "metadata": {},
   "outputs": [
    {
     "data": {
      "text/plain": [
       "true"
      ]
     },
     "execution_count": 4,
     "metadata": {
      "text/plain": ""
     },
     "output_type": "execute_result"
    }
   ],
   "source": [
    "LoadPackage(\"subgrouplattice\");"
   ]
  },
  {
   "cell_type": "code",
   "execution_count": 6,
   "metadata": {
    "scrolled": false
   },
   "outputs": [
    {
     "data": {
      "text/plain": [
       "Sym( [ 1 .. 6 ] )"
      ]
     },
     "execution_count": 5,
     "metadata": {
      "text/plain": ""
     },
     "output_type": "execute_result"
    },
    {
     "data": {
      "application/vnd.francy+json": "{\"version\" : \"0.8.10\",\"mime\" : \"application\\/vnd.francy+json\",\"canvas\" : {\"width\" : 800,\"id\" : \"F46\",\"height\" : 600,\"title\" : \"GraphicSubgroupLattice\",\"zoomToFit\" : true,\"texTypesetting\" : false,\"menus\" : {\"F88\" : {\"id\" : \"F88\",\"title\" : \"Subgroup Lattice\",\"callback\" : {},\"menus\" : {\"F90\" : {\"id\" : \"F90\",\"title\" : \"All Subgroups\",\"callback\" : {\"func\" : \"unknown\",\"id\" : \"F89\",\"trigger\" : \"click\",\"knownArgs\" : [\"<object>\",\"SymmetricGroup( [ 1 .. 6 ] )\"],\"requiredArgs\" : {}},\"menus\" : {}}}}},\"graph\" : {\"type\" : \"undirected\",\"id\" : \"F48\",\"simulation\" : true,\"collapsed\" : true,\"drag\" : false,\"showNeighbours\" : false,\"nodes\" : {\"F49\" : {\"x\" : 0,\"y\" : 0,\"type\" : \"diamond\",\"id\" : \"F49\",\"size\" : 10,\"title\" : \"G\",\"color\" : \"\",\"layer\" : -4,\"parent\" : \"\",\"selected\" : true,\"menus\" : {\"F51\" : {\"id\" : \"F51\",\"title\" : \"Size\",\"callback\" : {\"func\" : \"unknown\",\"id\" : \"F50\",\"trigger\" : \"click\",\"knownArgs\" : [\"<object>\",\"SymmetricGroup( [ 1 .. 6 ] )\"],\"requiredArgs\" : {}},\"menus\" : {}},\"F53\" : {\"id\" : \"F53\",\"title\" : \"IsAbelian\",\"callback\" : {\"func\" : \"unknown\",\"id\" : \"F52\",\"trigger\" : \"click\",\"knownArgs\" : [\"<object>\",\"SymmetricGroup( [ 1 .. 6 ] )\"],\"requiredArgs\" : {}},\"menus\" : {}},\"F55\" : {\"id\" : \"F55\",\"title\" : \"IsCyclic\",\"callback\" : {\"func\" : \"unknown\",\"id\" : \"F54\",\"trigger\" : \"click\",\"knownArgs\" : [\"<object>\",\"SymmetricGroup( [ 1 .. 6 ] )\"],\"requiredArgs\" : {}},\"menus\" : {}},\"F57\" : {\"id\" : \"F57\",\"title\" : \"IsNilpotent\",\"callback\" : {\"func\" : \"unknown\",\"id\" : \"F56\",\"trigger\" : \"click\",\"knownArgs\" : [\"<object>\",\"SymmetricGroup( [ 1 .. 6 ] )\"],\"requiredArgs\" : {}},\"menus\" : {}},\"F59\" : {\"id\" : \"F59\",\"title\" : \"IsNormal\",\"callback\" : {\"func\" : \"unknown\",\"id\" : \"F58\",\"trigger\" : \"click\",\"knownArgs\" : [\"<object>\",\"SymmetricGroup( [ 1 .. 6 ] )\",\"SymmetricGroup( [ 1 .. 6 ] )\"],\"requiredArgs\" : {}},\"menus\" : {}},\"F61\" : {\"id\" : \"F61\",\"title\" : \"IsPerfect\",\"callback\" : {\"func\" : \"unknown\",\"id\" : \"F60\",\"trigger\" : \"click\",\"knownArgs\" : [\"<object>\",\"SymmetricGroup( [ 1 .. 6 ] )\"],\"requiredArgs\" : {}},\"menus\" : {}},\"F63\" : {\"id\" : \"F63\",\"title\" : \"IsSimple\",\"callback\" : {\"func\" : \"unknown\",\"id\" : \"F62\",\"trigger\" : \"click\",\"knownArgs\" : [\"<object>\",\"SymmetricGroup( [ 1 .. 6 ] )\"],\"requiredArgs\" : {}},\"menus\" : {}},\"F65\" : {\"id\" : \"F65\",\"title\" : \"IsSolvable\",\"callback\" : {\"func\" : \"unknown\",\"id\" : \"F64\",\"trigger\" : \"click\",\"knownArgs\" : [\"<object>\",\"SymmetricGroup( [ 1 .. 6 ] )\"],\"requiredArgs\" : {}},\"menus\" : {}},\"F67\" : {\"id\" : \"F67\",\"title\" : \"Isomorphism\",\"callback\" : {\"func\" : \"unknown\",\"id\" : \"F66\",\"trigger\" : \"click\",\"knownArgs\" : [\"<object>\",\"SymmetricGroup( [ 1 .. 6 ] )\"],\"requiredArgs\" : {}},\"menus\" : {}}},\"messages\" : {},\"callbacks\" : {}},\"F68\" : {\"x\" : 0,\"y\" : 0,\"type\" : \"diamond\",\"id\" : \"F68\",\"size\" : 10,\"title\" : \"1\",\"color\" : \"\",\"layer\" : 0,\"parent\" : \"\",\"menus\" : {\"F70\" : {\"id\" : \"F70\",\"title\" : \"Size\",\"callback\" : {\"func\" : \"unknown\",\"id\" : \"F69\",\"trigger\" : \"click\",\"knownArgs\" : [\"<object>\",\"Group( () )\"],\"requiredArgs\" : {}},\"menus\" : {}},\"F72\" : {\"id\" : \"F72\",\"title\" : \"IsAbelian\",\"callback\" : {\"func\" : \"unknown\",\"id\" : \"F71\",\"trigger\" : \"click\",\"knownArgs\" : [\"<object>\",\"Group( () )\"],\"requiredArgs\" : {}},\"menus\" : {}},\"F74\" : {\"id\" : \"F74\",\"title\" : \"IsCyclic\",\"callback\" : {\"func\" : \"unknown\",\"id\" : \"F73\",\"trigger\" : \"click\",\"knownArgs\" : [\"<object>\",\"Group( () )\"],\"requiredArgs\" : {}},\"menus\" : {}},\"F76\" : {\"id\" : \"F76\",\"title\" : \"IsNilpotent\",\"callback\" : {\"func\" : \"unknown\",\"id\" : \"F75\",\"trigger\" : \"click\",\"knownArgs\" : [\"<object>\",\"Group( () )\"],\"requiredArgs\" : {}},\"menus\" : {}},\"F78\" : {\"id\" : \"F78\",\"title\" : \"IsNormal\",\"callback\" : {\"func\" : \"unknown\",\"id\" : \"F77\",\"trigger\" : \"click\",\"knownArgs\" : [\"<object>\",\"Group( () )\",\"SymmetricGroup( [ 1 .. 6 ] )\"],\"requiredArgs\" : {}},\"menus\" : {}},\"F80\" : {\"id\" : \"F80\",\"title\" : \"IsPerfect\",\"callback\" : {\"func\" : \"unknown\",\"id\" : \"F79\",\"trigger\" : \"click\",\"knownArgs\" : [\"<object>\",\"Group( () )\"],\"requiredArgs\" : {}},\"menus\" : {}},\"F82\" : {\"id\" : \"F82\",\"title\" : \"IsSimple\",\"callback\" : {\"func\" : \"unknown\",\"id\" : \"F81\",\"trigger\" : \"click\",\"knownArgs\" : [\"<object>\",\"Group( () )\"],\"requiredArgs\" : {}},\"menus\" : {}},\"F84\" : {\"id\" : \"F84\",\"title\" : \"IsSolvable\",\"callback\" : {\"func\" : \"unknown\",\"id\" : \"F83\",\"trigger\" : \"click\",\"knownArgs\" : [\"<object>\",\"Group( () )\"],\"requiredArgs\" : {}},\"menus\" : {}},\"F86\" : {\"id\" : \"F86\",\"title\" : \"Isomorphism\",\"callback\" : {\"func\" : \"unknown\",\"id\" : \"F85\",\"trigger\" : \"click\",\"knownArgs\" : [\"<object>\",\"Group( () )\"],\"requiredArgs\" : {}},\"menus\" : {}}},\"messages\" : {},\"callbacks\" : {}}},\"links\" : {\"F87\" : {\"id\" : \"F87\",\"source\" : \"F68\",\"length\" : 0,\"weight\" : 0,\"color\" : \"\",\"invisible\" : false,\"target\" : \"F49\"}}},\"messages\" : {\"F47\" : {\"type\" : \"default\",\"id\" : \"F47\",\"text\" : \"There are 30 levels in this Group.\",\"title\" : \"\"}},\"latticeType\" : {\"menus\" : [\"rec( func := function ( poset, G ) local L, cls, len, sz, graphHasse, max, rep, z, t, i, j, k, nodes, last, knownArgs, m, cb; L := LatticeSubgroups( G ); cls := ConjugacyClassesSubgroups( L ); len := [ ]; sz := [ ]; for i in cls do Add( len, Size( i ) ); AddSet( sz, Size( Representative( i ) ) ); od; graphHasse := poset!.graph; graphHasse!.nodes := rec( ); graphHasse!.links := rec( ); nodes := [ ]; sz := Reversed( sz ); for i in [ 1 .. Length( cls ) ] do nodes[i] := [ ]; for j in [ 1 .. len[i] ] do if len[i] = 1 then nodes[i][j] := Shape( ShapeType.DIAMOND, String( i ) ); else nodes[i][j] := Shape( ShapeType.CIRCLE, String( i ) ); fi; SetLayer( nodes[i][j], - Size( Representative( cls[i] ) ) ); for m in poset!.latticeType.contextMenus do knownArgs := [ poset, Representative( cls[i] ) ]; if m.group = true then Add( knownArgs, G ); fi; cb := Callback( m.func, knownArgs ); Add( nodes[i][j], Menu( m.name, cb ) ); od; if i = Length( cls ) and j = len[i] then SetTitle( nodes[i][j], \\\"G\\\" ); fi; Add( graphHasse, nodes[i][j] ); od; od; last := rec( o := 0, n := 0 ); for i in [ 1 .. Length( cls ) ] do for j in [ 1 .. len[i] ] do if Layer( nodes[i][j] ) <> last.o then last.o := Layer( nodes[i][j] ); last.n := last.n - 2; fi; SetLayer( nodes[i][j], last.n ); od; od; max := MaximalSubgroupsLattice( L ); for i in [ 1 .. Length( cls ) ] do for j in max[i] do rep := ClassElementLattice( cls[i], 1 ); for k in [ 1 .. len[i] ] do if k = 1 then z := j[2]; else t := cls[i]!.normalizerTransversal[k]; z := ClassElementLattice( cls[j[1]], 1 ); z := cls[j[1]]!.normalizerTransversal[j[2]] * t; z := PositionCanonical( cls[j[1]]!.normalizerTransversal, z ); fi; Add( graphHasse, Link( nodes[j[1]][z], nodes[i][k] ) ); od; od; od; return Draw( poset ); end, group := true, multiple := false, name := \\\"All Subgroups\\\" )\"],\"contextMenus\" : [\"rec( func := function ( poset, n ) local message; message := FrancyMessage( FrancyMessageType.INFO, \\\"Size\\\", String( Size( n ) ) ); Add( poset, message ); return Draw( poset ); end, group := false, name := \\\"Size\\\" )\",\"rec( func := function ( poset, n ) local message; message := FrancyMessage( FrancyMessageType.INFO, \\\"Is commutative?\\\", String( IsCommutative( n ) ) ); Add( poset, message ); return Draw( poset ); end, group := false, name := \\\"IsAbelian\\\" )\",\"rec( func := function ( poset, n ) local message; message := FrancyMessage( FrancyMessageType.INFO, \\\"Is cyclic?\\\", String( IsCyclic( n ) ) ); Add( poset, message ); return Draw( poset ); end, group := false, name := \\\"IsCyclic\\\" )\",\"rec( func := function ( poset, n ) local message; message := FrancyMessage( FrancyMessageType.INFO, \\\"Is NilpotentGroup?\\\", String( IsNilpotentGroup( n ) ) ); Add( poset, message ); return Draw( poset ); end, group := false, name := \\\"IsNilpotent\\\" )\",\"rec( func := function ( poset, n ) local message; message := FrancyMessage( FrancyMessageType.INFO, \\\"Is normal?\\\", String( IsNormal( n ) ) ); Add( poset, message ); return Draw( poset ); end, group := true, name := \\\"IsNormal\\\" )\",\"rec( func := function ( poset, n ) local message; message := FrancyMessage( FrancyMessageType.INFO, \\\"Is perfect group?\\\", String( IsPerfectGroup( n ) ) ); Add( poset, message ); return Draw( poset ); end, group := false, name := \\\"IsPerfect\\\" )\",\"rec( func := function ( poset, n ) local message; message := FrancyMessage( FrancyMessageType.INFO, \\\"Is simple group?\\\", String( IsSimpleGroup( n ) ) ); Add( poset, message ); return Draw( poset ); end, group := false, name := \\\"IsSimple\\\" )\",\"rec( func := function ( poset, n ) local message; message := FrancyMessage( FrancyMessageType.INFO, \\\"Is solvable group?\\\", String( IsSolvableGroup( n ) ) ); Add( poset, message ); return Draw( poset ); end, group := false, name := \\\"IsSolvable\\\" )\",\"rec( func := function ( poset, n ) local message; message := FrancyMessage( FrancyMessageType.INFO, \\\"Isomorphism\\\", String( IdGroup( n ) ) ); Add( poset, message ); return Draw( poset ); end, group := false, name := \\\"Isomorphism\\\" )\"],\"knowsLevels\" : true,\"trivial\" : true,\"hasse\" : true,\"canCompare\" : true}}}"
     },
     "execution_count": 6,
     "metadata": {
      "application/vnd.francy+json": {}
     },
     "output_type": "execute_result"
    }
   ],
   "source": [
    "G := SymmetricGroup(6); #G := PSL(2, 7); #G := DihedralGroup(44);\n",
    "GraphicSubgroupLattice(G);"
   ]
  },
  {
   "cell_type": "code",
   "execution_count": null,
   "metadata": {},
   "outputs": [],
   "source": []
  }
 ],
 "metadata": {
  "kernelspec": {
   "display_name": "GAP 4 (native)",
   "language": "gap",
   "name": "gap-native"
  },
  "language_info": {
   "codemirror_mode": "gap",
   "file_extension": ".g",
   "mimetype": "text/x-gap",
   "name": "GAP (native)",
   "nbconvert_exporter": "",
   "pygments_lexer": "gap",
   "version": "4.dev"
  }
 },
 "nbformat": 4,
 "nbformat_minor": 2
}
