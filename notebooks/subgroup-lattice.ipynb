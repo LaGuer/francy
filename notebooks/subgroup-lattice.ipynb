{
 "cells": [
  {
   "cell_type": "markdown",
   "metadata": {},
   "source": [
    "# Subgroup Lattice"
   ]
  },
  {
   "cell_type": "markdown",
   "metadata": {},
   "source": [
    "This is a draft version of the Subgroup Lattice module, inspired by the XGAP version, and implements few features. At the moment is possible to explore the lattice by right clicking a node and explore its properties, and by generating all subgroups lattice."
   ]
  },
  {
   "cell_type": "code",
   "execution_count": 19,
   "metadata": {},
   "outputs": [
    {
     "data": {
      "text/plain": [
       "true"
      ]
     },
     "execution_count": 19,
     "metadata": {
      "text/plain": ""
     },
     "output_type": "execute_result"
    }
   ],
   "source": [
    "LoadPackage(\"subgrouplattice\");"
   ]
  },
  {
   "cell_type": "code",
   "execution_count": 18,
   "metadata": {
    "scrolled": false
   },
   "outputs": [
    {
     "data": {
      "text/plain": [
       "<group of size 8 with 3 generators>"
      ]
     },
     "execution_count": 17,
     "metadata": {
      "text/plain": ""
     },
     "output_type": "execute_result"
    },
    {
     "data": {
      "application/vnd.francy+json": "{\"version\" : \"0.8.0\",\"mime\" : \"application\\/vnd.francy+json\",\"canvas\" : {\"width\" : 800,\"id\" : \"F1127\",\"height\" : 600,\"title\" : \"GraphicSubgroupLattice\",\"zoomToFit\" : true,\"texTypesetting\" : false,\"menus\" : {\"F1169\" : {\"id\" : \"F1169\",\"title\" : \"Subgroup Lattice\",\"callback\" : {},\"menus\" : {\"F1171\" : {\"id\" : \"F1171\",\"title\" : \"All Subgroups\",\"callback\" : {\"func\" : \"unknown\",\"id\" : \"F1170\",\"trigger\" : \"click\",\"knownArgs\" : [\"<object>\",\"Group( [ f1, f2, f3 ] )\"],\"requiredArgs\" : {}},\"menus\" : {}}}}},\"graph\" : {\"type\" : \"undirected\",\"id\" : \"F1129\",\"simulation\" : true,\"collapsed\" : true,\"drag\" : false,\"showNeighbours\" : false,\"nodes\" : {\"F1130\" : {\"x\" : 0,\"y\" : 0,\"type\" : \"diamond\",\"id\" : \"F1130\",\"size\" : 10,\"title\" : \"G\",\"color\" : \"\",\"layer\" : -4,\"parent\" : \"\",\"selected\" : true,\"menus\" : {\"F1132\" : {\"id\" : \"F1132\",\"title\" : \"Size\",\"callback\" : {\"func\" : \"unknown\",\"id\" : \"F1131\",\"trigger\" : \"click\",\"knownArgs\" : [\"<object>\",\"Group( [ f3, f1, f2 ] )\"],\"requiredArgs\" : {}},\"menus\" : {}},\"F1134\" : {\"id\" : \"F1134\",\"title\" : \"IsAbelian\",\"callback\" : {\"func\" : \"unknown\",\"id\" : \"F1133\",\"trigger\" : \"click\",\"knownArgs\" : [\"<object>\",\"Group( [ f3, f1, f2 ] )\"],\"requiredArgs\" : {}},\"menus\" : {}},\"F1136\" : {\"id\" : \"F1136\",\"title\" : \"IsCyclic\",\"callback\" : {\"func\" : \"unknown\",\"id\" : \"F1135\",\"trigger\" : \"click\",\"knownArgs\" : [\"<object>\",\"Group( [ f3, f1, f2 ] )\"],\"requiredArgs\" : {}},\"menus\" : {}},\"F1138\" : {\"id\" : \"F1138\",\"title\" : \"IsNilpotent\",\"callback\" : {\"func\" : \"unknown\",\"id\" : \"F1137\",\"trigger\" : \"click\",\"knownArgs\" : [\"<object>\",\"Group( [ f3, f1, f2 ] )\"],\"requiredArgs\" : {}},\"menus\" : {}},\"F1140\" : {\"id\" : \"F1140\",\"title\" : \"IsNormal\",\"callback\" : {\"func\" : \"unknown\",\"id\" : \"F1139\",\"trigger\" : \"click\",\"knownArgs\" : [\"<object>\",\"Group( [ f3, f1, f2 ] )\",\"Group( [ f1, f2, f3 ] )\"],\"requiredArgs\" : {}},\"menus\" : {}},\"F1142\" : {\"id\" : \"F1142\",\"title\" : \"IsPerfect\",\"callback\" : {\"func\" : \"unknown\",\"id\" : \"F1141\",\"trigger\" : \"click\",\"knownArgs\" : [\"<object>\",\"Group( [ f3, f1, f2 ] )\"],\"requiredArgs\" : {}},\"menus\" : {}},\"F1144\" : {\"id\" : \"F1144\",\"title\" : \"IsSimple\",\"callback\" : {\"func\" : \"unknown\",\"id\" : \"F1143\",\"trigger\" : \"click\",\"knownArgs\" : [\"<object>\",\"Group( [ f3, f1, f2 ] )\"],\"requiredArgs\" : {}},\"menus\" : {}},\"F1146\" : {\"id\" : \"F1146\",\"title\" : \"IsSolvable\",\"callback\" : {\"func\" : \"unknown\",\"id\" : \"F1145\",\"trigger\" : \"click\",\"knownArgs\" : [\"<object>\",\"Group( [ f3, f1, f2 ] )\"],\"requiredArgs\" : {}},\"menus\" : {}},\"F1148\" : {\"id\" : \"F1148\",\"title\" : \"Isomorphism\",\"callback\" : {\"func\" : \"unknown\",\"id\" : \"F1147\",\"trigger\" : \"click\",\"knownArgs\" : [\"<object>\",\"Group( [ f3, f1, f2 ] )\"],\"requiredArgs\" : {}},\"menus\" : {}}},\"messages\" : {},\"callbacks\" : {}},\"F1149\" : {\"x\" : 0,\"y\" : 0,\"type\" : \"diamond\",\"id\" : \"F1149\",\"size\" : 10,\"title\" : \"1\",\"color\" : \"\",\"layer\" : 0,\"parent\" : \"\",\"menus\" : {\"F1151\" : {\"id\" : \"F1151\",\"title\" : \"Size\",\"callback\" : {\"func\" : \"unknown\",\"id\" : \"F1150\",\"trigger\" : \"click\",\"knownArgs\" : [\"<object>\",\"Group( <identity> of ... )\"],\"requiredArgs\" : {}},\"menus\" : {}},\"F1153\" : {\"id\" : \"F1153\",\"title\" : \"IsAbelian\",\"callback\" : {\"func\" : \"unknown\",\"id\" : \"F1152\",\"trigger\" : \"click\",\"knownArgs\" : [\"<object>\",\"Group( <identity> of ... )\"],\"requiredArgs\" : {}},\"menus\" : {}},\"F1155\" : {\"id\" : \"F1155\",\"title\" : \"IsCyclic\",\"callback\" : {\"func\" : \"unknown\",\"id\" : \"F1154\",\"trigger\" : \"click\",\"knownArgs\" : [\"<object>\",\"Group( <identity> of ... )\"],\"requiredArgs\" : {}},\"menus\" : {}},\"F1157\" : {\"id\" : \"F1157\",\"title\" : \"IsNilpotent\",\"callback\" : {\"func\" : \"unknown\",\"id\" : \"F1156\",\"trigger\" : \"click\",\"knownArgs\" : [\"<object>\",\"Group( <identity> of ... )\"],\"requiredArgs\" : {}},\"menus\" : {}},\"F1159\" : {\"id\" : \"F1159\",\"title\" : \"IsNormal\",\"callback\" : {\"func\" : \"unknown\",\"id\" : \"F1158\",\"trigger\" : \"click\",\"knownArgs\" : [\"<object>\",\"Group( <identity> of ... )\",\"Group( [ f1, f2, f3 ] )\"],\"requiredArgs\" : {}},\"menus\" : {}},\"F1161\" : {\"id\" : \"F1161\",\"title\" : \"IsPerfect\",\"callback\" : {\"func\" : \"unknown\",\"id\" : \"F1160\",\"trigger\" : \"click\",\"knownArgs\" : [\"<object>\",\"Group( <identity> of ... )\"],\"requiredArgs\" : {}},\"menus\" : {}},\"F1163\" : {\"id\" : \"F1163\",\"title\" : \"IsSimple\",\"callback\" : {\"func\" : \"unknown\",\"id\" : \"F1162\",\"trigger\" : \"click\",\"knownArgs\" : [\"<object>\",\"Group( <identity> of ... )\"],\"requiredArgs\" : {}},\"menus\" : {}},\"F1165\" : {\"id\" : \"F1165\",\"title\" : \"IsSolvable\",\"callback\" : {\"func\" : \"unknown\",\"id\" : \"F1164\",\"trigger\" : \"click\",\"knownArgs\" : [\"<object>\",\"Group( <identity> of ... )\"],\"requiredArgs\" : {}},\"menus\" : {}},\"F1167\" : {\"id\" : \"F1167\",\"title\" : \"Isomorphism\",\"callback\" : {\"func\" : \"unknown\",\"id\" : \"F1166\",\"trigger\" : \"click\",\"knownArgs\" : [\"<object>\",\"Group( <identity> of ... )\"],\"requiredArgs\" : {}},\"menus\" : {}}},\"messages\" : {},\"callbacks\" : {}}},\"links\" : {\"F1168\" : {\"id\" : \"F1168\",\"source\" : \"F1149\",\"weight\" : 1,\"color\" : \"\",\"target\" : \"F1130\"}}},\"messages\" : {\"F1128\" : {\"type\" : \"default\",\"id\" : \"F1128\",\"text\" : \"There are 4 levels in this Group.\",\"title\" : \"\"}},\"latticeType\" : {\"menus\" : [\"rec( func := function ( poset, G ) local L, cls, len, sz, graphHasse, max, rep, z, t, i, j, k, nodes, last, knownArgs, m, cb; L := LatticeSubgroups( G ); cls := ConjugacyClassesSubgroups( L ); len := [ ]; sz := [ ]; for i in cls do Add( len, Size( i ) ); AddSet( sz, Size( Representative( i ) ) ); od; graphHasse := poset!.graph; graphHasse!.nodes := rec( ); graphHasse!.links := rec( ); nodes := [ ]; sz := Reversed( sz ); for i in [ 1 .. Length( cls ) ] do nodes[i] := [ ]; for j in [ 1 .. len[i] ] do if len[i] = 1 then nodes[i][j] := Shape( ShapeType.DIAMOND, String( i ) ); else nodes[i][j] := Shape( ShapeType.CIRCLE, String( i ) ); fi; SetLayer( nodes[i][j], - Size( Representative( cls[i] ) ) ); for m in poset!.latticeType.contextMenus do knownArgs := [ poset, Representative( cls[i] ) ]; if m.group = true then Add( knownArgs, G ); fi; cb := Callback( m.func, knownArgs ); Add( nodes[i][j], Menu( m.name, cb ) ); od; if i = Length( cls ) and j = len[i] then SetTitle( nodes[i][j], \\\"G\\\" ); fi; Add( graphHasse, nodes[i][j] ); od; od; last := rec( o := 0, n := 0 ); for i in [ 1 .. Length( cls ) ] do for j in [ 1 .. len[i] ] do if Layer( nodes[i][j] ) <> last.o then last.o := Layer( nodes[i][j] ); last.n := last.n - 2; fi; SetLayer( nodes[i][j], last.n ); od; od; max := MaximalSubgroupsLattice( L ); for i in [ 1 .. Length( cls ) ] do for j in max[i] do rep := ClassElementLattice( cls[i], 1 ); for k in [ 1 .. len[i] ] do if k = 1 then z := j[2]; else t := cls[i]!.normalizerTransversal[k]; z := ClassElementLattice( cls[j[1]], 1 ); z := cls[j[1]]!.normalizerTransversal[j[2]] * t; z := PositionCanonical( cls[j[1]]!.normalizerTransversal, z ); fi; Add( graphHasse, Link( nodes[j[1]][z], nodes[i][k] ) ); od; od; od; return Draw( poset ); end, group := true, multiple := false, name := \\\"All Subgroups\\\" )\"],\"contextMenus\" : [\"rec( func := function ( poset, n ) local message; message := FrancyMessage( FrancyMessageType.INFO, \\\"Size\\\", String( Size( n ) ) ); Add( poset, message ); return Draw( poset ); end, group := false, name := \\\"Size\\\" )\",\"rec( func := function ( poset, n ) local message; message := FrancyMessage( FrancyMessageType.INFO, \\\"Is commutative?\\\", String( IsCommutative( n ) ) ); Add( poset, message ); return Draw( poset ); end, group := false, name := \\\"IsAbelian\\\" )\",\"rec( func := function ( poset, n ) local message; message := FrancyMessage( FrancyMessageType.INFO, \\\"Is cyclic?\\\", String( IsCyclic( n ) ) ); Add( poset, message ); return Draw( poset ); end, group := false, name := \\\"IsCyclic\\\" )\",\"rec( func := function ( poset, n ) local message; message := FrancyMessage( FrancyMessageType.INFO, \\\"Is NilpotentGroup?\\\", String( IsNilpotentGroup( n ) ) ); Add( poset, message ); return Draw( poset ); end, group := false, name := \\\"IsNilpotent\\\" )\",\"rec( func := function ( poset, n ) local message; message := FrancyMessage( FrancyMessageType.INFO, \\\"Is normal?\\\", String( IsNormal( n ) ) ); Add( poset, message ); return Draw( poset ); end, group := true, name := \\\"IsNormal\\\" )\",\"rec( func := function ( poset, n ) local message; message := FrancyMessage( FrancyMessageType.INFO, \\\"Is perfect group?\\\", String( IsPerfectGroup( n ) ) ); Add( poset, message ); return Draw( poset ); end, group := false, name := \\\"IsPerfect\\\" )\",\"rec( func := function ( poset, n ) local message; message := FrancyMessage( FrancyMessageType.INFO, \\\"Is simple group?\\\", String( IsSimpleGroup( n ) ) ); Add( poset, message ); return Draw( poset ); end, group := false, name := \\\"IsSimple\\\" )\",\"rec( func := function ( poset, n ) local message; message := FrancyMessage( FrancyMessageType.INFO, \\\"Is solvable group?\\\", String( IsSolvableGroup( n ) ) ); Add( poset, message ); return Draw( poset ); end, group := false, name := \\\"IsSolvable\\\" )\",\"rec( func := function ( poset, n ) local message; message := FrancyMessage( FrancyMessageType.INFO, \\\"Isomorphism\\\", String( IdGroup( n ) ) ); Add( poset, message ); return Draw( poset ); end, group := false, name := \\\"Isomorphism\\\" )\"],\"knowsLevels\" : true,\"trivial\" : true,\"hasse\" : true,\"canCompare\" : true}}}"
     },
     "execution_count": 18,
     "metadata": {
      "application/vnd.francy+json": {}
     },
     "output_type": "execute_result"
    }
   ],
   "source": [
    "G := DihedralGroup(8); #G := PSL(2, 7); #G := DihedralGroup(44);\n",
    "GraphicSubgroupLattice(G);"
   ]
  },
  {
   "cell_type": "code",
   "execution_count": null,
   "metadata": {},
   "outputs": [],
   "source": []
  }
 ],
 "metadata": {
  "kernelspec": {
   "display_name": "GAP 4 (native)",
   "language": "gap",
   "name": "gap-native"
  },
  "language_info": {
   "codemirror_mode": "gap",
   "file_extension": ".g",
   "mimetype": "text/x-gap",
   "name": "GAP (native)",
   "nbconvert_exporter": "",
   "pygments_lexer": "gap",
   "version": "4.dev"
  }
 },
 "nbformat": 4,
 "nbformat_minor": 2
}
