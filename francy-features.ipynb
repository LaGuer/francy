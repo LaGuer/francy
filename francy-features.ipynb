{
 "cells": [
  {
   "cell_type": "markdown",
   "metadata": {},
   "source": [
    "# Francy Package"
   ]
  },
  {
   "cell_type": "code",
   "execution_count": 11,
   "metadata": {},
   "outputs": [
    {
     "data": {
      "text/plain": [
       "true"
      ]
     },
     "execution_count": 11,
     "metadata": {},
     "output_type": "execute_result"
    }
   ],
   "source": [
    "LoadPackage(\"francy\");"
   ]
  },
  {
   "cell_type": "markdown",
   "metadata": {},
   "source": [
    "# Draw\n",
    "\n",
    "Draw is the main function of Francy. It renders a canvas and all the objects added to the canvas."
   ]
  },
  {
   "cell_type": "markdown",
   "metadata": {},
   "source": [
    "# Canvas\n",
    "\n",
    "Canvas are the base where graphics are produced. A Canvas is constituted by a Main Menu and an area where the graphics are produced.\n",
    "\n",
    "## How to create a Canvas?\n",
    "\n",
    "It is possible to set some default configurations for the canvas:\n",
    "\n",
    "```\n",
    "defaults := CanvasDefaults;\n",
    "defaults!.width     := \"800\",\n",
    "defaults!.height    := \"600\",\n",
    "defaults!.zoomToFit := true\n",
    "canvas := Canvas(\"Example Canvas\", defaults);\n",
    "```\n",
    "\n",
    "Or it can be done after by:\n",
    "\n",
    "```\n",
    "canvas := Canvas(\"Example Canvas\");\n",
    "canvas!.width     := \"800\",\n",
    "canvas!.height    := \"600\",\n",
    "canvas!.zoomToFit := true\n",
    "```"
   ]
  },
  {
   "cell_type": "code",
   "execution_count": 84,
   "metadata": {},
   "outputs": [
    {
     "data": {
      "text/plain": [
       "<object>"
      ]
     },
     "execution_count": 83,
     "metadata": {},
     "output_type": "execute_result"
    },
    {
     "data": {
      "application/vnd.francy+json": "{\"version\" : \"0.5.0\",\"mime\" : \"application\\/vnd.francy+json\",\"canvas\" : {\"width\" : \"800\",\"height\" : \"600\",\"id\" : \"60\",\"title\" : \"Example Canvas\",\"zoomToFit\" : true,\"menus\" : {},\"graph\" : {},\"chart\" : {}}}"
     },
     "execution_count": 84,
     "metadata": {},
     "output_type": "execute_result"
    }
   ],
   "source": [
    "canvas := Canvas(\"Example Canvas\");\n",
    "\n",
    "Draw(canvas);"
   ]
  },
  {
   "cell_type": "markdown",
   "metadata": {},
   "source": [
    "# Menus\n",
    "\n",
    "Menus can be added to the Canvas, where they will be added to the Main Menu on the Top, or to Shapes, ahere they will appear as Context Menu - Mouse right click.\n",
    "\n",
    "The Main Menu has by default a Menu entry called Francy with 3 Sub Menus: Zoom to Fit, Save to PNG and About.\n",
    "\n",
    "## How to create a Menu?\n",
    "\n",
    "Menus can include a Callback or not. Menus without callback are useful for holding Submenus.\n",
    "\n",
    "```\n",
    "menu := Menu(\"Example Holder Menu\");\n",
    "submenu := Menu(\"I'm a Submenu!\", Callback(MyCallbackFunction));\n",
    "Add(canvas, menu);\n",
    "```\n",
    "\n",
    "Or as a top Menu:\n",
    "\n",
    "```\n",
    "top_menu := Menu(\"I'm a Menu!\", Callback(MyCallbackFunction));\n",
    "Add(canvas, top_menu);\n",
    "```\n",
    "\n",
    "The same menu entries can be used within Shapes - NOTE: Submenus are flatenned in context menus!:\n",
    "\n",
    "```\n",
    "shape := Shape(SpaheType.CIRCLE);\n",
    "Add(shape, menu);\n",
    "```"
   ]
  },
  {
   "cell_type": "code",
   "execution_count": 113,
   "metadata": {},
   "outputs": [
    {
     "name": "stdout",
     "output_type": "stream",
     "text": [
      "not in any function at stream:4\n",
      "not in any function at stream:5\n",
      "not in any function at stream:13\n",
      "not in any function at stream:23\n"
     ]
    },
    {
     "data": {
      "text/plain": [
       "<object>"
      ]
     },
     "execution_count": 103,
     "metadata": {},
     "output_type": "execute_result"
    },
    {
     "data": {
      "text/plain": [
       "<object>"
      ]
     },
     "execution_count": 104,
     "metadata": {},
     "output_type": "execute_result"
    },
    {
     "name": "stderr",
     "output_type": "stream",
     "text": [
      "An error happenedAn error happenedAn error happenedAn error happened"
     ]
    },
    {
     "data": {
      "text/plain": [
       "<object>"
      ]
     },
     "execution_count": 106,
     "metadata": {},
     "output_type": "execute_result"
    },
    {
     "data": {
      "text/plain": [
       "<object>"
      ]
     },
     "execution_count": 108,
     "metadata": {},
     "output_type": "execute_result"
    },
    {
     "data": {
      "text/plain": [
       "<object>"
      ]
     },
     "execution_count": 109,
     "metadata": {},
     "output_type": "execute_result"
    },
    {
     "name": "stderr",
     "output_type": "stream",
     "text": [
      "An error happened"
     ]
    },
    {
     "data": {
      "application/vnd.francy+json": "{\"version\" : \"0.5.0\",\"mime\" : \"application\\/vnd.francy+json\",\"canvas\" : {\"width\" : \"800\",\"height\" : \"600\",\"id\" : \"72\",\"title\" : \"Example Canvas with Menu\",\"zoomToFit\" : true,\"menus\" : {\"76\" : {\"id\" : \"76\",\"title\" : \"Hello\",\"callback\" : {\"func\" : \"AddCircle\",\"id\" : \"64\",\"trigger\" : \"click\",\"knownArgs\" : [],\"requiredArgs\" : {\"65\" : {\"type\" : \"number\",\"id\" : \"65\",\"title\" : \"How many Circles?\",\"value\" : \"\"},\"74\" : {\"type\" : \"text\",\"id\" : \"74\",\"title\" : \"Your Name?\",\"value\" : \"\"}}},\"menus\" : {}},\"75\" : {\"id\" : \"75\",\"title\" : \"Example Menu\",\"callback\" : {},\"menus\" : {\"76\" : {\"id\" : \"76\",\"title\" : \"Hello\",\"callback\" : {\"func\" : \"AddCircle\",\"id\" : \"64\",\"trigger\" : \"click\",\"knownArgs\" : [],\"requiredArgs\" : {\"65\" : {\"type\" : \"number\",\"id\" : \"65\",\"title\" : \"How many Circles?\",\"value\" : \"\"},\"74\" : {\"type\" : \"text\",\"id\" : \"74\",\"title\" : \"Your Name?\",\"value\" : \"\"}}},\"menus\" : {}}}}},\"graph\" : {\"type\" : \"hasse\",\"id\" : \"73\",\"simulation\" : true,\"forces\" : true,\"nodes\" : {},\"links\" : {}}}}"
     },
     "execution_count": 113,
     "metadata": {},
     "output_type": "execute_result"
    }
   ],
   "source": [
    "canvas := Canvas(\"Example Canvas with Menu\");\n",
    "\n",
    "graph := Graph(GraphType.HASSE);\n",
    "shape := Shape(SpaheType.CIRCLE);\n",
    "Add(graph, shape);\n",
    "Add(canvas, graph);\n",
    "\n",
    "HelloWorld := function(name)\n",
    "    Add(Message(Concatenation(\"Hello\", name));\n",
    "    return Draw(canvas);\n",
    "end;\n",
    "\n",
    "callback1 := Callback(HelloWorld);\n",
    "arg1 := RequiredArg(ArgType.STRING, \"Your Name?\");\n",
    "Add(callback1, arg1);\n",
    "\n",
    "menu := Menu(\"Example Menu\");\n",
    "menu1 := Menu( \"Hello\", callback1 );\n",
    "Add(menu, menu1);\n",
    "\n",
    "Add(canvas, menu);\n",
    "Add(canvas, menu1);\n",
    "Add(shape, menu);\n",
    "\n",
    "Draw(canvas);"
   ]
  },
  {
   "cell_type": "markdown",
   "metadata": {},
   "source": [
    "### An attempt to LatticeSubgroups By Markus"
   ]
  },
  {
   "cell_type": "code",
   "execution_count": 141,
   "metadata": {},
   "outputs": [
    {
     "data": {
      "text/plain": [
       "function( L ) ... end"
      ]
     },
     "execution_count": 138,
     "metadata": {},
     "output_type": "execute_result"
    },
    {
     "data": {
      "text/plain": [
       "<object>"
      ]
     },
     "execution_count": 139,
     "metadata": {},
     "output_type": "execute_result"
    },
    {
     "data": {
      "application/vnd.francy+json": "{\"version\" : \"0.5.0\",\"mime\" : \"application\\/vnd.francy+json\",\"canvas\" : {\"width\" : \"800\",\"height\" : \"600\",\"id\" : \"367\",\"title\" : \"Lattice Subgroups\",\"zoomToFit\" : true,\"menus\" : {},\"graph\" : {\"type\" : \"hasse\",\"id\" : \"368\",\"simulation\" : true,\"forces\" : true,\"nodes\" : {\"369\" : {\"x\" : 0,\"y\" : 0,\"type\" : \"circle\",\"size\" : 10,\"info\" : {},\"id\" : \"369\",\"title\" : \"1\",\"layer\" : 1,\"highlight\" : true,\"menus\" : {},\"callbacks\" : {}},\"370\" : {\"x\" : 0,\"y\" : 0,\"type\" : \"diamond\",\"size\" : 10,\"info\" : {},\"id\" : \"370\",\"title\" : \"2\",\"layer\" : 2,\"highlight\" : true,\"menus\" : {},\"callbacks\" : {}},\"371\" : {\"x\" : 0,\"y\" : 0,\"type\" : \"diamond\",\"size\" : 10,\"info\" : {},\"id\" : \"371\",\"title\" : \"2\",\"layer\" : 2,\"highlight\" : true,\"menus\" : {},\"callbacks\" : {}},\"372\" : {\"x\" : 0,\"y\" : 0,\"type\" : \"diamond\",\"size\" : 10,\"info\" : {},\"id\" : \"372\",\"title\" : \"2\",\"layer\" : 2,\"highlight\" : true,\"menus\" : {},\"callbacks\" : {}},\"373\" : {\"x\" : 0,\"y\" : 0,\"type\" : \"diamond\",\"size\" : 10,\"info\" : {},\"id\" : \"373\",\"title\" : \"3\",\"layer\" : 2,\"highlight\" : true,\"menus\" : {},\"callbacks\" : {}},\"374\" : {\"x\" : 0,\"y\" : 0,\"type\" : \"diamond\",\"size\" : 10,\"info\" : {},\"id\" : \"374\",\"title\" : \"3\",\"layer\" : 2,\"highlight\" : true,\"menus\" : {},\"callbacks\" : {}},\"375\" : {\"x\" : 0,\"y\" : 0,\"type\" : \"diamond\",\"size\" : 10,\"info\" : {},\"id\" : \"375\",\"title\" : \"3\",\"layer\" : 2,\"highlight\" : true,\"menus\" : {},\"callbacks\" : {}},\"376\" : {\"x\" : 0,\"y\" : 0,\"type\" : \"diamond\",\"size\" : 10,\"info\" : {},\"id\" : \"376\",\"title\" : \"3\",\"layer\" : 2,\"highlight\" : true,\"menus\" : {},\"callbacks\" : {}},\"377\" : {\"x\" : 0,\"y\" : 0,\"type\" : \"diamond\",\"size\" : 10,\"info\" : {},\"id\" : \"377\",\"title\" : \"3\",\"layer\" : 2,\"highlight\" : true,\"menus\" : {},\"callbacks\" : {}},\"378\" : {\"x\" : 0,\"y\" : 0,\"type\" : \"diamond\",\"size\" : 10,\"info\" : {},\"id\" : \"378\",\"title\" : \"3\",\"layer\" : 2,\"highlight\" : true,\"menus\" : {},\"callbacks\" : {}},\"379\" : {\"x\" : 0,\"y\" : 0,\"type\" : \"diamond\",\"size\" : 10,\"info\" : {},\"id\" : \"379\",\"title\" : \"4\",\"layer\" : 3,\"highlight\" : true,\"menus\" : {},\"callbacks\" : {}},\"380\" : {\"x\" : 0,\"y\" : 0,\"type\" : \"diamond\",\"size\" : 10,\"info\" : {},\"id\" : \"380\",\"title\" : \"4\",\"layer\" : 3,\"highlight\" : true,\"menus\" : {},\"callbacks\" : {}},\"381\" : {\"x\" : 0,\"y\" : 0,\"type\" : \"diamond\",\"size\" : 10,\"info\" : {},\"id\" : \"381\",\"title\" : \"4\",\"layer\" : 3,\"highlight\" : true,\"menus\" : {},\"callbacks\" : {}},\"382\" : {\"x\" : 0,\"y\" : 0,\"type\" : \"diamond\",\"size\" : 10,\"info\" : {},\"id\" : \"382\",\"title\" : \"4\",\"layer\" : 3,\"highlight\" : true,\"menus\" : {},\"callbacks\" : {}},\"383\" : {\"x\" : 0,\"y\" : 0,\"type\" : \"circle\",\"size\" : 10,\"info\" : {},\"id\" : \"383\",\"title\" : \"5\",\"layer\" : 4,\"highlight\" : true,\"menus\" : {},\"callbacks\" : {}},\"384\" : {\"x\" : 0,\"y\" : 0,\"type\" : \"diamond\",\"size\" : 10,\"info\" : {},\"id\" : \"384\",\"title\" : \"6\",\"layer\" : 4,\"highlight\" : true,\"menus\" : {},\"callbacks\" : {}},\"385\" : {\"x\" : 0,\"y\" : 0,\"type\" : \"diamond\",\"size\" : 10,\"info\" : {},\"id\" : \"385\",\"title\" : \"6\",\"layer\" : 4,\"highlight\" : true,\"menus\" : {},\"callbacks\" : {}},\"386\" : {\"x\" : 0,\"y\" : 0,\"type\" : \"diamond\",\"size\" : 10,\"info\" : {},\"id\" : \"386\",\"title\" : \"6\",\"layer\" : 4,\"highlight\" : true,\"menus\" : {},\"callbacks\" : {}},\"387\" : {\"x\" : 0,\"y\" : 0,\"type\" : \"diamond\",\"size\" : 10,\"info\" : {},\"id\" : \"387\",\"title\" : \"7\",\"layer\" : 4,\"highlight\" : true,\"menus\" : {},\"callbacks\" : {}},\"388\" : {\"x\" : 0,\"y\" : 0,\"type\" : \"diamond\",\"size\" : 10,\"info\" : {},\"id\" : \"388\",\"title\" : \"7\",\"layer\" : 4,\"highlight\" : true,\"menus\" : {},\"callbacks\" : {}},\"389\" : {\"x\" : 0,\"y\" : 0,\"type\" : \"diamond\",\"size\" : 10,\"info\" : {},\"id\" : \"389\",\"title\" : \"7\",\"layer\" : 4,\"highlight\" : true,\"menus\" : {},\"callbacks\" : {}},\"390\" : {\"x\" : 0,\"y\" : 0,\"type\" : \"diamond\",\"size\" : 10,\"info\" : {},\"id\" : \"390\",\"title\" : \"8\",\"layer\" : 6,\"highlight\" : true,\"menus\" : {},\"callbacks\" : {}},\"391\" : {\"x\" : 0,\"y\" : 0,\"type\" : \"diamond\",\"size\" : 10,\"info\" : {},\"id\" : \"391\",\"title\" : \"8\",\"layer\" : 6,\"highlight\" : true,\"menus\" : {},\"callbacks\" : {}},\"392\" : {\"x\" : 0,\"y\" : 0,\"type\" : \"diamond\",\"size\" : 10,\"info\" : {},\"id\" : \"392\",\"title\" : \"8\",\"layer\" : 6,\"highlight\" : true,\"menus\" : {},\"callbacks\" : {}},\"393\" : {\"x\" : 0,\"y\" : 0,\"type\" : \"diamond\",\"size\" : 10,\"info\" : {},\"id\" : \"393\",\"title\" : \"8\",\"layer\" : 6,\"highlight\" : true,\"menus\" : {},\"callbacks\" : {}},\"394\" : {\"x\" : 0,\"y\" : 0,\"type\" : \"diamond\",\"size\" : 10,\"info\" : {},\"id\" : \"394\",\"title\" : \"9\",\"layer\" : 8,\"highlight\" : true,\"menus\" : {},\"callbacks\" : {}},\"395\" : {\"x\" : 0,\"y\" : 0,\"type\" : \"diamond\",\"size\" : 10,\"info\" : {},\"id\" : \"395\",\"title\" : \"9\",\"layer\" : 8,\"highlight\" : true,\"menus\" : {},\"callbacks\" : {}},\"396\" : {\"x\" : 0,\"y\" : 0,\"type\" : \"diamond\",\"size\" : 10,\"info\" : {},\"id\" : \"396\",\"title\" : \"9\",\"layer\" : 8,\"highlight\" : true,\"menus\" : {},\"callbacks\" : {}},\"397\" : {\"x\" : 0,\"y\" : 0,\"type\" : \"circle\",\"size\" : 10,\"info\" : {},\"id\" : \"397\",\"title\" : \"10\",\"layer\" : 12,\"highlight\" : true,\"menus\" : {},\"callbacks\" : {}},\"398\" : {\"x\" : 0,\"y\" : 0,\"type\" : \"circle\",\"size\" : 10,\"info\" : {},\"id\" : \"398\",\"title\" : \"11\",\"layer\" : 24,\"highlight\" : true,\"menus\" : {},\"callbacks\" : {}}},\"links\" : {\"399\" : {\"source\" : \"370\",\"id\" : \"399\",\"target\" : \"369\"},\"400\" : {\"source\" : \"371\",\"id\" : \"400\",\"target\" : \"369\"},\"401\" : {\"source\" : \"372\",\"id\" : \"401\",\"target\" : \"369\"},\"402\" : {\"source\" : \"373\",\"id\" : \"402\",\"target\" : \"369\"},\"403\" : {\"source\" : \"374\",\"id\" : \"403\",\"target\" : \"369\"},\"404\" : {\"source\" : \"375\",\"id\" : \"404\",\"target\" : \"369\"},\"405\" : {\"source\" : \"376\",\"id\" : \"405\",\"target\" : \"369\"},\"406\" : {\"source\" : \"377\",\"id\" : \"406\",\"target\" : \"369\"},\"407\" : {\"source\" : \"378\",\"id\" : \"407\",\"target\" : \"369\"},\"408\" : {\"source\" : \"379\",\"id\" : \"408\",\"target\" : \"369\"},\"409\" : {\"source\" : \"380\",\"id\" : \"409\",\"target\" : \"369\"},\"410\" : {\"source\" : \"381\",\"id\" : \"410\",\"target\" : \"369\"},\"411\" : {\"source\" : \"382\",\"id\" : \"411\",\"target\" : \"369\"},\"412\" : {\"source\" : \"383\",\"id\" : \"412\",\"target\" : \"370\"},\"413\" : {\"source\" : \"383\",\"id\" : \"413\",\"target\" : \"371\"},\"414\" : {\"source\" : \"383\",\"id\" : \"414\",\"target\" : \"372\"},\"415\" : {\"source\" : \"384\",\"id\" : \"415\",\"target\" : \"373\"},\"416\" : {\"source\" : \"385\",\"id\" : \"416\",\"target\" : \"374\"},\"417\" : {\"source\" : \"386\",\"id\" : \"417\",\"target\" : \"375\"},\"418\" : {\"source\" : \"384\",\"id\" : \"418\",\"target\" : \"378\"},\"419\" : {\"source\" : \"385\",\"id\" : \"419\",\"target\" : \"377\"},\"420\" : {\"source\" : \"386\",\"id\" : \"420\",\"target\" : \"376\"},\"421\" : {\"source\" : \"384\",\"id\" : \"421\",\"target\" : \"372\"},\"422\" : {\"source\" : \"385\",\"id\" : \"422\",\"target\" : \"370\"},\"423\" : {\"source\" : \"386\",\"id\" : \"423\",\"target\" : \"371\"},\"424\" : {\"source\" : \"387\",\"id\" : \"424\",\"target\" : \"372\"},\"425\" : {\"source\" : \"388\",\"id\" : \"425\",\"target\" : \"370\"},\"426\" : {\"source\" : \"389\",\"id\" : \"426\",\"target\" : \"371\"},\"427\" : {\"source\" : \"390\",\"id\" : \"427\",\"target\" : \"379\"},\"428\" : {\"source\" : \"391\",\"id\" : \"428\",\"target\" : \"380\"},\"429\" : {\"source\" : \"392\",\"id\" : \"429\",\"target\" : \"381\"},\"430\" : {\"source\" : \"393\",\"id\" : \"430\",\"target\" : \"382\"},\"431\" : {\"source\" : \"390\",\"id\" : \"431\",\"target\" : \"373\"},\"432\" : {\"source\" : \"391\",\"id\" : \"432\",\"target\" : \"377\"},\"433\" : {\"source\" : \"392\",\"id\" : \"433\",\"target\" : \"377\"},\"434\" : {\"source\" : \"393\",\"id\" : \"434\",\"target\" : \"376\"},\"435\" : {\"source\" : \"390\",\"id\" : \"435\",\"target\" : \"374\"},\"436\" : {\"source\" : \"391\",\"id\" : \"436\",\"target\" : \"378\"},\"437\" : {\"source\" : \"392\",\"id\" : \"437\",\"target\" : \"376\"},\"438\" : {\"source\" : \"393\",\"id\" : \"438\",\"target\" : \"378\"},\"439\" : {\"source\" : \"390\",\"id\" : \"439\",\"target\" : \"375\"},\"440\" : {\"source\" : \"391\",\"id\" : \"440\",\"target\" : \"375\"},\"441\" : {\"source\" : \"392\",\"id\" : \"441\",\"target\" : \"373\"},\"442\" : {\"source\" : \"393\",\"id\" : \"442\",\"target\" : \"374\"},\"443\" : {\"source\" : \"394\",\"id\" : \"443\",\"target\" : \"387\"},\"444\" : {\"source\" : \"395\",\"id\" : \"444\",\"target\" : \"388\"},\"445\" : {\"source\" : \"396\",\"id\" : \"445\",\"target\" : \"389\"},\"446\" : {\"source\" : \"394\",\"id\" : \"446\",\"target\" : \"384\"},\"447\" : {\"source\" : \"395\",\"id\" : \"447\",\"target\" : \"385\"},\"448\" : {\"source\" : \"396\",\"id\" : \"448\",\"target\" : \"386\"},\"449\" : {\"source\" : \"394\",\"id\" : \"449\",\"target\" : \"383\"},\"450\" : {\"source\" : \"395\",\"id\" : \"450\",\"target\" : \"383\"},\"451\" : {\"source\" : \"396\",\"id\" : \"451\",\"target\" : \"383\"},\"452\" : {\"source\" : \"397\",\"id\" : \"452\",\"target\" : \"383\"},\"453\" : {\"source\" : \"397\",\"id\" : \"453\",\"target\" : \"379\"},\"454\" : {\"source\" : \"397\",\"id\" : \"454\",\"target\" : \"380\"},\"455\" : {\"source\" : \"397\",\"id\" : \"455\",\"target\" : \"381\"},\"456\" : {\"source\" : \"397\",\"id\" : \"456\",\"target\" : \"382\"},\"457\" : {\"source\" : \"398\",\"id\" : \"457\",\"target\" : \"397\"},\"458\" : {\"source\" : \"398\",\"id\" : \"458\",\"target\" : \"394\"},\"459\" : {\"source\" : \"398\",\"id\" : \"459\",\"target\" : \"395\"},\"460\" : {\"source\" : \"398\",\"id\" : \"460\",\"target\" : \"396\"},\"461\" : {\"source\" : \"398\",\"id\" : \"461\",\"target\" : \"390\"},\"462\" : {\"source\" : \"398\",\"id\" : \"462\",\"target\" : \"391\"},\"463\" : {\"source\" : \"398\",\"id\" : \"463\",\"target\" : \"392\"},\"464\" : {\"source\" : \"398\",\"id\" : \"464\",\"target\" : \"393\"}}}}}"
     },
     "execution_count": 141,
     "metadata": {},
     "output_type": "execute_result"
    }
   ],
   "source": [
    "DisplayLatticeSubgroups := function(L)\n",
    "    local cls, len, sz, max, rep, z, t, i, j, k, graphHasse, nodes;\n",
    "    cls:=ConjugacyClassesSubgroups(L);\n",
    "    len:=[];\n",
    "    sz:=[];\n",
    "    for i in cls do\n",
    "        Add(len,Size(i));\n",
    "        AddSet(sz,Size(Representative(i)));\n",
    "    od;\n",
    "\n",
    "    graphHasse := Graph(GraphType.HASSE);\n",
    "\n",
    "    nodes := [];\n",
    "    # subgroup nodes, also acccording to size\n",
    "    for i in [1..Length(cls)] do\n",
    "        nodes[i] := [];\n",
    "        for j in [1..len[i]] do\n",
    "            if len[i]=1 then\n",
    "                nodes[i][j] := Shape(ShapeType.CIRCLE, String(i));\n",
    "                nodes[i][j]!.layer := Size(Representative(cls[i]));\n",
    "                # AppendTo(file,\"\\\"\",i,\"x\",j,\"\\\" [label=\\\"\",i,\"\\\", shape=box];\\n\");\n",
    "            else\n",
    "                nodes[i][j] := Shape(ShapeType.DIAMOND, String(i));\n",
    "                nodes[i][j]!.layer := Size(Representative(cls[i]));\n",
    "                # AppendTo(file,\"\\\"\",i,\"x\",j,\"\\\" [label=\\\"\",i,\"-\",j,\"\\\", shape=circle];\\n\");\n",
    "            fi;\n",
    "            Add(graphHasse, nodes[i][j]);\n",
    "        od;\n",
    "    od;\n",
    "\n",
    "    max:=MaximalSubgroupsLattice(L);\n",
    "    for i in [1..Length(cls)] do\n",
    "        for j in max[i] do\n",
    "            rep:=ClassElementLattice(cls[i],1);\n",
    "            for k in [1..len[i]] do\n",
    "                if k=1 then\n",
    "                    z:=j[2];\n",
    "                else\n",
    "                    t:=cls[i]!.normalizerTransversal[k];\n",
    "                    z:=ClassElementLattice(cls[j[1]],1); # force computation of transv.\n",
    "                    z:=cls[j[1]]!.normalizerTransversal[j[2]]*t;\n",
    "                    z:=PositionCanonical(cls[j[1]]!.normalizerTransversal,z);\n",
    "                fi;\n",
    "                Add(graphHasse, Link(nodes[i][k],nodes[j[1]][z]));\n",
    "          od;\n",
    "        od;\n",
    "      od;\n",
    "    return graphHasse;\n",
    "end;\n",
    "\n",
    "canvas3 := Canvas(\"Lattice Subgroups\");;\n",
    "Add(canvas3, DisplayLatticeSubgroups(LatticeSubgroups(SymmetricGroup(4))));\n",
    "Draw(canvas3);"
   ]
  },
  {
   "cell_type": "markdown",
   "metadata": {},
   "source": [
    "# Charts\n",
    "\n",
    "## Bar Charts"
   ]
  },
  {
   "cell_type": "code",
   "execution_count": 152,
   "metadata": {},
   "outputs": [
    {
     "data": {
      "text/plain": [
       "<object>"
      ]
     },
     "execution_count": 142,
     "metadata": {},
     "output_type": "execute_result"
    },
    {
     "data": {
      "text/plain": [
       "\"X Axis\""
      ]
     },
     "execution_count": 143,
     "metadata": {},
     "output_type": "execute_result"
    },
    {
     "data": {
      "text/plain": [
       "[ \"domain1\", \"domain2\", \"domain3\", \"domain4\", \"domain5\" ]"
      ]
     },
     "execution_count": 144,
     "metadata": {},
     "output_type": "execute_result"
    },
    {
     "data": {
      "text/plain": [
       "\"Y Axis\""
      ]
     },
     "execution_count": 145,
     "metadata": {},
     "output_type": "execute_result"
    },
    {
     "data": {
      "text/plain": [
       "<object>"
      ]
     },
     "execution_count": 146,
     "metadata": {},
     "output_type": "execute_result"
    },
    {
     "data": {
      "text/plain": [
       "<object>"
      ]
     },
     "execution_count": 147,
     "metadata": {},
     "output_type": "execute_result"
    },
    {
     "data": {
      "text/plain": [
       "<object>"
      ]
     },
     "execution_count": 148,
     "metadata": {},
     "output_type": "execute_result"
    },
    {
     "data": {
      "text/plain": [
       "<object>"
      ]
     },
     "execution_count": 150,
     "metadata": {},
     "output_type": "execute_result"
    },
    {
     "data": {
      "application/vnd.francy+json": "{\"version\" : \"0.5.0\",\"mime\" : \"application\\/vnd.francy+json\",\"canvas\" : {\"width\" : \"800\",\"height\" : \"600\",\"id\" : \"466\",\"title\" : \"Bar Chart\",\"zoomToFit\" : true,\"menus\" : {},\"chart\" : {\"type\" : \"bar\",\"data\" : {\"data1\" : [\"100\",\"20\",\"30\",\"47\",\"90\"],\"data2\" : [\"51\",\"60\",\"72\",\"38\",\"97\"],\"data3\" : [\"50\",\"60\",\"70\",\"80\",\"90\"]},\"labels\" : true,\"id\" : \"465\",\"legend\" : true,\"axis\" : {\"x\" : {\"domain\" : [\"domain1\",\"domain2\",\"domain3\",\"domain4\",\"domain5\"],\"title\" : \"X Axis\",\"scale\" : \"band\"},\"y\" : {\"domain\" : [],\"title\" : \"Y Axis\",\"scale\" : \"linear\"}}}}}"
     },
     "execution_count": 152,
     "metadata": {},
     "output_type": "execute_result"
    }
   ],
   "source": [
    "chart:=Chart(ChartType.BAR);\n",
    "chart!.axis!.x!.title := \"X Axis\";\n",
    "chart!.axis!.x!.domain := [\"domain1\", \"domain2\", \"domain3\", \"domain4\", \"domain5\"];\n",
    "\n",
    "chart!.axis!.y!.title := \"Y Axis\";\n",
    "\n",
    "data1 := Dataset(\"data1\", [100,20,30,47,90]);\n",
    "data2 := Dataset(\"data2\", [51,60,72,38,97]);\n",
    "data3 := Dataset(\"data3\", [50,60,70,80,90]);\n",
    "\n",
    "Add(chart, [data1, data2, data3]);\n",
    "canvas4 := Canvas(\"Bar Chart\");\n",
    "Add(canvas4, chart);\n",
    "\n",
    "Draw(canvas4);"
   ]
  },
  {
   "cell_type": "markdown",
   "metadata": {},
   "source": [
    "# Apery by Pedro"
   ]
  },
  {
   "cell_type": "code",
   "execution_count": 153,
   "metadata": {},
   "outputs": [
    {
     "data": {
      "text/plain": [
       "function( arg... ) ... end"
      ]
     },
     "execution_count": 153,
     "metadata": {},
     "output_type": "execute_result"
    }
   ],
   "source": [
    "apery:=function(arg)\n",
    "    local ap,c,hasse, s, n, r, graphHasse, aps, es, canvas, i, order;\n",
    "  # rel is a list of lists with two elements representin a binary relation\n",
    "  # hasse(rel) removes from rel the pairs [x,y] such that there exists\n",
    "  # z with [x,z],[z,y] in rel\n",
    "  hasse:=function(rel)\n",
    "      local dom, out;\n",
    "      dom:=Flat(rel);\n",
    "      out:=Filtered(rel, p-> ForAny(dom, x->([p[1],x] in rel) and ([x,p[2]] in rel)));\n",
    "      return Difference(rel,out);\n",
    "  end;\n",
    "\n",
    "    order:=function(x)\n",
    "        return Maximum(LengthsOfFactorizationsElementWRTNumericalSemigroup(x,s));\n",
    "    end;\n",
    "\n",
    "  if Length(arg)=1 then\n",
    "    s:=arg[1];\n",
    "    n:=MultiplicityOfNumericalSemigroup(s);\n",
    "  fi;\n",
    "  if Length(arg)=2 then\n",
    "    s:=arg[1];\n",
    "    n:=arg[2];\n",
    "  fi;\n",
    "  if Length(arg)>2 then\n",
    "    Error(\"The number of arguments must be one or two\");\n",
    "  fi;\n",
    "  \n",
    "    graphHasse := Graph(GraphType.HASSE);\n",
    "\n",
    "  ap:=AperyList(s,n);\n",
    "  c:=Cartesian([1..n],[1..n]);\n",
    "  c:=Filtered(c, p-> ap[p[2]]<>ap[p[1]]);\n",
    "  c:=Filtered(c, p-> ap[p[1]]-ap[p[2]] in s);\n",
    "  c:=hasse(c);\n",
    "  Print(c);\n",
    "    aps:=[];\n",
    "    for i in [1..n] do\n",
    "        aps[i]:=Shape(ShapeType!.CIRCLE, String(ap[i]));\n",
    "        aps[i]!.layer:=-order(ap[i]);\n",
    "        Add(graphHasse,aps[i]);\n",
    "    od;\n",
    "  for r in c do\n",
    "    Add(graphHasse,Link(aps[r[1]],aps[r[2]]));\n",
    "  od;\n",
    "    canvas:=Canvas(\"Apery\");\n",
    "    Add(canvas,graphHasse);\n",
    "    return Draw(canvas);    \n",
    "end;"
   ]
  },
  {
   "cell_type": "code",
   "execution_count": 154,
   "metadata": {
    "scrolled": false
   },
   "outputs": [
    {
     "name": "stdout",
     "output_type": "stream",
     "text": [
      "[ [ 2, 1 ], [ 3, 2 ], [ 4, 3 ], [ 5, 4 ], [ 6, 5 ], [ 7, 6 ], [ 8, 9 ], [ 9, 10 ], [ 10, 1 ] ]"
     ]
    },
    {
     "data": {
      "application/vnd.francy+json": "{\"version\" : \"0.5.0\",\"mime\" : \"application\\/vnd.francy+json\",\"canvas\" : {\"width\" : \"800\",\"height\" : \"600\",\"id\" : \"487\",\"title\" : \"Apery\",\"zoomToFit\" : true,\"menus\" : {},\"graph\" : {\"type\" : \"hasse\",\"id\" : \"467\",\"simulation\" : true,\"forces\" : true,\"nodes\" : {\"468\" : {\"x\" : 0,\"y\" : 0,\"type\" : \"circle\",\"size\" : 10,\"info\" : {},\"id\" : \"468\",\"title\" : \"0\",\"layer\" : 0,\"highlight\" : true,\"menus\" : {},\"callbacks\" : {}},\"469\" : {\"x\" : 0,\"y\" : 0,\"type\" : \"circle\",\"size\" : 10,\"info\" : {},\"id\" : \"469\",\"title\" : \"11\",\"layer\" : -1,\"highlight\" : true,\"menus\" : {},\"callbacks\" : {}},\"470\" : {\"x\" : 0,\"y\" : 0,\"type\" : \"circle\",\"size\" : 10,\"info\" : {},\"id\" : \"470\",\"title\" : \"22\",\"layer\" : -2,\"highlight\" : true,\"menus\" : {},\"callbacks\" : {}},\"471\" : {\"x\" : 0,\"y\" : 0,\"type\" : \"circle\",\"size\" : 10,\"info\" : {},\"id\" : \"471\",\"title\" : \"33\",\"layer\" : -3,\"highlight\" : true,\"menus\" : {},\"callbacks\" : {}},\"472\" : {\"x\" : 0,\"y\" : 0,\"type\" : \"circle\",\"size\" : 10,\"info\" : {},\"id\" : \"472\",\"title\" : \"44\",\"layer\" : -4,\"highlight\" : true,\"menus\" : {},\"callbacks\" : {}},\"473\" : {\"x\" : 0,\"y\" : 0,\"type\" : \"circle\",\"size\" : 10,\"info\" : {},\"id\" : \"473\",\"title\" : \"55\",\"layer\" : -5,\"highlight\" : true,\"menus\" : {},\"callbacks\" : {}},\"474\" : {\"x\" : 0,\"y\" : 0,\"type\" : \"circle\",\"size\" : 10,\"info\" : {},\"id\" : \"474\",\"title\" : \"66\",\"layer\" : -6,\"highlight\" : true,\"menus\" : {},\"callbacks\" : {}},\"475\" : {\"x\" : 0,\"y\" : 0,\"type\" : \"circle\",\"size\" : 10,\"info\" : {},\"id\" : \"475\",\"title\" : \"57\",\"layer\" : -3,\"highlight\" : true,\"menus\" : {},\"callbacks\" : {}},\"476\" : {\"x\" : 0,\"y\" : 0,\"type\" : \"circle\",\"size\" : 10,\"info\" : {},\"id\" : \"476\",\"title\" : \"38\",\"layer\" : -2,\"highlight\" : true,\"menus\" : {},\"callbacks\" : {}},\"477\" : {\"x\" : 0,\"y\" : 0,\"type\" : \"circle\",\"size\" : 10,\"info\" : {},\"id\" : \"477\",\"title\" : \"19\",\"layer\" : -1,\"highlight\" : true,\"menus\" : {},\"callbacks\" : {}}},\"links\" : {\"478\" : {\"source\" : \"469\",\"id\" : \"478\",\"target\" : \"468\"},\"479\" : {\"source\" : \"470\",\"id\" : \"479\",\"target\" : \"469\"},\"480\" : {\"source\" : \"471\",\"id\" : \"480\",\"target\" : \"470\"},\"481\" : {\"source\" : \"472\",\"id\" : \"481\",\"target\" : \"471\"},\"482\" : {\"source\" : \"473\",\"id\" : \"482\",\"target\" : \"472\"},\"483\" : {\"source\" : \"474\",\"id\" : \"483\",\"target\" : \"473\"},\"484\" : {\"source\" : \"475\",\"id\" : \"484\",\"target\" : \"476\"},\"485\" : {\"source\" : \"476\",\"id\" : \"485\",\"target\" : \"477\"},\"486\" : {\"source\" : \"477\",\"id\" : \"486\",\"target\" : \"468\"}}}}}"
     },
     "execution_count": 154,
     "metadata": {},
     "output_type": "execute_result"
    }
   ],
   "source": [
    "apery(NumericalSemigroup(10,11,19));"
   ]
  }
 ],
 "metadata": {
  "kernelspec": {
   "display_name": "GAP 4 (native)",
   "language": "gap",
   "name": "gap-native"
  },
  "language_info": {
   "codemirror_mode": "gap",
   "file_extension": ".g",
   "mimetype": "text/x-gap",
   "name": "GAP (native)",
   "nbconvert_exporter": "",
   "pygments_lexer": "gap",
   "version": "4.dev"
  }
 },
 "nbformat": 4,
 "nbformat_minor": 2
}
